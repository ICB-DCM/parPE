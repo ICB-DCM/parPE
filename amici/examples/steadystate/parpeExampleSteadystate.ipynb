{
 "cells": [
  {
   "cell_type": "markdown",
   "metadata": {},
   "source": [
    "# parPE steadystate example model"
   ]
  },
  {
   "cell_type": "code",
   "execution_count": 1,
   "metadata": {},
   "outputs": [],
   "source": [
    "import amici\n",
    "import os\n",
    "import sys\n",
    "import numpy as np\n",
    "import pandas as pd\n",
    "import matplotlib.pyplot as plt"
   ]
  },
  {
   "cell_type": "code",
   "execution_count": 2,
   "metadata": {},
   "outputs": [],
   "source": [
    "# Create sbml model from scratch\n",
    "!./createSteadystateExampleSBML.py > model_steadystate_scaled.sbml"
   ]
  },
  {
   "cell_type": "code",
   "execution_count": 3,
   "metadata": {},
   "outputs": [],
   "source": [
    "sbml_file = 'model_steadystate_scaled.sbml'\n",
    "model_name = 'model_steadystate_scaled'\n",
    "model_output_dir= 'model_steadystate_scaled'"
   ]
  },
  {
   "cell_type": "code",
   "execution_count": 4,
   "metadata": {},
   "outputs": [
    {
     "name": "stdout",
     "output_type": "stream",
     "text": [
      "Species:  ['x1', 'x2', 'x3']\n",
      "Parameters:  ['p1', 'p2', 'p3', 'p4', 'p5', 'k0', 'observable_x1', 'observable_x2', 'observable_x3', 'scaling_x1', 'observable_x1_scaled', 'offset_x2', 'observable_x2_offsetted', 'observable_x1withsigma_sigma', 'observable_x1withsigma']\n",
      "\n",
      "Reactions:\n",
      " r1:       2 x1  ->        x2\t\t[p1 * x1^2]\n",
      " r2:   x1 +  x2  ->        x3\t\t[p2 * x1 * x2]\n",
      " r3:         x2  ->      2 x1\t\t[p3 * x2]\n",
      " r4:         x3  ->  x1 +  x2\t\t[p4 * x3]\n",
      " r5:         x3  ->          \t\t[k0 * x3]\n",
      " r6:             ->        x1\t\t[p5]\n"
     ]
    }
   ],
   "source": [
    "# Show model info\n",
    "import libsbml\n",
    "SBMLreader = libsbml.SBMLReader()\n",
    "sbml_doc = SBMLreader.readSBML(sbml_file)\n",
    "sbml_model = sbml_doc.getModel()\n",
    "\n",
    "print('Species: ', [s.getId() for s in sbml_model.getListOfSpecies()])\n",
    "\n",
    "print('Parameters: ', [p.getId() for p in sbml_model.getListOfParameters()])\n",
    "\n",
    "print('\\nReactions:')\n",
    "for reaction in sbml_model.getListOfReactions():\n",
    "    reactants = ' + '.join(['%s %s'%(int(r.getStoichiometry()) if r.getStoichiometry() > 1 else '', r.getSpecies()) for r in reaction.getListOfReactants()])\n",
    "    products  = ' + '.join(['%s %s'%(int(r.getStoichiometry()) if r.getStoichiometry() > 1 else '', r.getSpecies()) for r in reaction.getListOfProducts()])\n",
    "    reversible = '<' if reaction.getReversible() else ''\n",
    "    print('%3s: %10s %1s->%10s\\t\\t[%s]' % (reaction.getId(), \n",
    "                        reactants,\n",
    "                        reversible,\n",
    "                        products,\n",
    "                        libsbml.formulaToL3String(reaction.getKineticLaw().getMath())))\n"
   ]
  },
  {
   "cell_type": "markdown",
   "metadata": {},
   "source": [
    "## Generate model code"
   ]
  },
  {
   "cell_type": "code",
   "execution_count": 5,
   "metadata": {},
   "outputs": [
    {
     "name": "stdout",
     "output_type": "stream",
     "text": [
      "{'observable_x1': {'name': 'observable_x1', 'formula': 'x1'}, 'observable_x2': {'name': 'observable_x2', 'formula': 'x2'}, 'observable_x3': {'name': 'observable_x3', 'formula': 'x3'}, 'observable_x1_scaled': {'name': 'observable_x1_scaled', 'formula': 'scaling_x1 * x1'}, 'observable_x2_offsetted': {'name': 'observable_x2_offsetted', 'formula': 'offset_x2 + x2'}, 'observable_x1withsigma': {'name': 'observable_x1withsigma', 'formula': 'x1'}}\n",
      "['k0']\n"
     ]
    }
   ],
   "source": [
    "observables = []\n",
    "fixed_parameters = ['k0']\n",
    "\n",
    "def createModule(sbml_model_file, model_name, model_output_dir):\n",
    "    \"\"\"Create Python module from SBML model\"\"\"\n",
    "    sbmlImporter = amici.SbmlImporter(sbml_model_file)\n",
    "    sbml = sbmlImporter.sbml\n",
    "    global observables\n",
    "    observables = amici.assignmentRules2observables(sbml, filter_function=lambda variableId: \n",
    "                                                    variableId.getId().startswith('observable_') and not variableId.getId().endswith('_sigma'))\n",
    "    \n",
    "    print(observables)\n",
    "    print(fixed_parameters)\n",
    "\n",
    "    sbmlImporter.sbml2amici(model_name,\n",
    "                            output_dir=model_output_dir,\n",
    "                            observables=observables,\n",
    "                            constantParameters=fixed_parameters,\n",
    "                            sigmas={'observable_x1withsigma': 'observable_x1withsigma_sigma'})\n",
    "\n",
    "\n",
    "createModule(sbml_file, model_name, model_output_dir)\n",
    "\n"
   ]
  },
  {
   "cell_type": "markdown",
   "metadata": {},
   "source": [
    "## Test simulation"
   ]
  },
  {
   "cell_type": "code",
   "execution_count": 6,
   "metadata": {},
   "outputs": [],
   "source": [
    "def plotStateTrajectories(rdata):\n",
    "    for ix in range(rdata['x'].shape[1]):\n",
    "        plt.plot(rdata['t'], rdata['x'][:, ix], label='$x_%d$' % ix)\n",
    "        plt.xlabel('$t$ (s)')\n",
    "        plt.ylabel('$x_i(t)$ (mmol/ml)')\n",
    "        plt.legend()\n",
    "        plt.title('State trajectories')\n",
    "    plt.show()\n",
    "    \n",
    "def plotObservableTrajectories(rdata):\n",
    "    for iy in range(rdata['y'].shape[1]):\n",
    "        plt.plot(rdata['t'], rdata['y'][:, iy], label='$y_%d$' % iy)\n",
    "        plt.xlabel('$t$ (s)')\n",
    "        plt.ylabel('$y_i(t)$ (AU)')\n",
    "        plt.legend()\n",
    "        plt.title('Observables')\n",
    "    \n",
    "    plt.show()\n"
   ]
  },
  {
   "cell_type": "code",
   "execution_count": 7,
   "metadata": {},
   "outputs": [
    {
     "name": "stdout",
     "output_type": "stream",
     "text": [
      "[1.  0.5 0.4 2.  0.1 2.  3.  0.2]\n",
      "{'ptr': <amici.amici.ReturnDataPtr; proxy of <Swig Object of type 'std::unique_ptr< amici::ReturnData > *' at 0x7f26d6a664e0> >, 't': array([1.00000000e-05, 2.06913808e-05, 4.28133240e-05, 8.85866790e-05,\n",
      "       1.83298071e-04, 3.79269019e-04, 7.84759970e-04, 1.62377674e-03,\n",
      "       3.35981829e-03, 6.95192796e-03, 1.43844989e-02, 2.97635144e-02,\n",
      "       6.15848211e-02, 1.27427499e-01, 2.63665090e-01, 5.45559478e-01,\n",
      "       1.12883789e+00, 2.33572147e+00, 4.83293024e+00, 1.00000000e+01]), 'x': array([[0.1000178 , 0.4000123 , 0.6999792 ],\n",
      "       [0.10003683, 0.40002545, 0.69995696],\n",
      "       [0.1000762 , 0.40005266, 0.69991096],\n",
      "       [0.10015767, 0.40010894, 0.69981577],\n",
      "       [0.1003262 , 0.40022538, 0.69961885],\n",
      "       [0.10067479, 0.40046616, 0.6992116 ],\n",
      "       [0.10139555, 0.4009638 , 0.69836975],\n",
      "       [0.10288464, 0.40199105, 0.69663131],\n",
      "       [0.10595616, 0.4041061 , 0.69304903],\n",
      "       [0.11227026, 0.40843807, 0.6856998 ],\n",
      "       [0.12515789, 0.41721488, 0.6707597 ],\n",
      "       [0.15106393, 0.43460508, 0.64095895],\n",
      "       [0.20141095, 0.46753068, 0.58381562],\n",
      "       [0.2919014 , 0.52445704, 0.48289829],\n",
      "       [0.42629841, 0.60713045, 0.33274095],\n",
      "       [0.55010942, 0.693768  , 0.17502923],\n",
      "       [0.57846336, 0.73500836, 0.08824507],\n",
      "       [0.55532334, 0.70439349, 0.06727818],\n",
      "       [0.52854605, 0.62886747, 0.05651057],\n",
      "       [0.49494912, 0.5355812 , 0.04468553]]), 'x0': array([0.1, 0.4, 0.7]), 'sx': None, 'sx0': None, 'y': array([[0.1000178 , 0.4000123 , 0.6999792 , 0.2000356 , 3.4000123 ,\n",
      "        0.1000178 ],\n",
      "       [0.10003683, 0.40002545, 0.69995696, 0.20007366, 3.40002545,\n",
      "        0.10003683],\n",
      "       [0.1000762 , 0.40005266, 0.69991096, 0.20015241, 3.40005266,\n",
      "        0.1000762 ],\n",
      "       [0.10015767, 0.40010894, 0.69981577, 0.20031533, 3.40010894,\n",
      "        0.10015767],\n",
      "       [0.1003262 , 0.40022538, 0.69961885, 0.20065239, 3.40022538,\n",
      "        0.1003262 ],\n",
      "       [0.10067479, 0.40046616, 0.6992116 , 0.20134958, 3.40046616,\n",
      "        0.10067479],\n",
      "       [0.10139555, 0.4009638 , 0.69836975, 0.20279109, 3.4009638 ,\n",
      "        0.10139555],\n",
      "       [0.10288464, 0.40199105, 0.69663131, 0.20576929, 3.40199105,\n",
      "        0.10288464],\n",
      "       [0.10595616, 0.4041061 , 0.69304903, 0.21191232, 3.4041061 ,\n",
      "        0.10595616],\n",
      "       [0.11227026, 0.40843807, 0.6856998 , 0.22454051, 3.40843807,\n",
      "        0.11227026],\n",
      "       [0.12515789, 0.41721488, 0.6707597 , 0.25031579, 3.41721488,\n",
      "        0.12515789],\n",
      "       [0.15106393, 0.43460508, 0.64095895, 0.30212786, 3.43460508,\n",
      "        0.15106393],\n",
      "       [0.20141095, 0.46753068, 0.58381562, 0.4028219 , 3.46753068,\n",
      "        0.20141095],\n",
      "       [0.2919014 , 0.52445704, 0.48289829, 0.58380281, 3.52445704,\n",
      "        0.2919014 ],\n",
      "       [0.42629841, 0.60713045, 0.33274095, 0.85259682, 3.60713045,\n",
      "        0.42629841],\n",
      "       [0.55010942, 0.693768  , 0.17502923, 1.10021883, 3.693768  ,\n",
      "        0.55010942],\n",
      "       [0.57846336, 0.73500836, 0.08824507, 1.15692673, 3.73500836,\n",
      "        0.57846336],\n",
      "       [0.55532334, 0.70439349, 0.06727818, 1.11064669, 3.70439349,\n",
      "        0.55532334],\n",
      "       [0.52854605, 0.62886747, 0.05651057, 1.05709211, 3.62886747,\n",
      "        0.52854605],\n",
      "       [0.49494912, 0.5355812 , 0.04468553, 0.98989824, 3.5355812 ,\n",
      "        0.49494912]]), 'sigmay': array([[1. , 1. , 1. , 1. , 1. , 0.2],\n",
      "       [1. , 1. , 1. , 1. , 1. , 0.2],\n",
      "       [1. , 1. , 1. , 1. , 1. , 0.2],\n",
      "       [1. , 1. , 1. , 1. , 1. , 0.2],\n",
      "       [1. , 1. , 1. , 1. , 1. , 0.2],\n",
      "       [1. , 1. , 1. , 1. , 1. , 0.2],\n",
      "       [1. , 1. , 1. , 1. , 1. , 0.2],\n",
      "       [1. , 1. , 1. , 1. , 1. , 0.2],\n",
      "       [1. , 1. , 1. , 1. , 1. , 0.2],\n",
      "       [1. , 1. , 1. , 1. , 1. , 0.2],\n",
      "       [1. , 1. , 1. , 1. , 1. , 0.2],\n",
      "       [1. , 1. , 1. , 1. , 1. , 0.2],\n",
      "       [1. , 1. , 1. , 1. , 1. , 0.2],\n",
      "       [1. , 1. , 1. , 1. , 1. , 0.2],\n",
      "       [1. , 1. , 1. , 1. , 1. , 0.2],\n",
      "       [1. , 1. , 1. , 1. , 1. , 0.2],\n",
      "       [1. , 1. , 1. , 1. , 1. , 0.2],\n",
      "       [1. , 1. , 1. , 1. , 1. , 0.2],\n",
      "       [1. , 1. , 1. , 1. , 1. , 0.2],\n",
      "       [1. , 1. , 1. , 1. , 1. , 0.2]]), 'sy': None, 'ssigmay': None, 'z': None, 'rz': None, 'sigmaz': None, 'sz': None, 'srz': None, 'ssigmaz': None, 'sllh': None, 's2llh': None, 'J': array([[-2.24758708,  0.72210764,  0.2677906 ],\n",
      "       [ 0.55252544, -0.64747456,  0.24747456],\n",
      "       [ 2.        ,  2.        , -3.        ]]), 'xdot': array([-0.00465597, -0.01242951, -0.00151386]), 'status': 0.0, 'llh': nan, 'chi2': nan, 'res': array([0., 0., 0., 0., 0., 0., 0., 0., 0., 0., 0., 0., 0., 0., 0., 0., 0.,\n",
      "       0., 0., 0., 0., 0., 0., 0., 0., 0., 0., 0., 0., 0., 0., 0., 0., 0.,\n",
      "       0., 0., 0., 0., 0., 0., 0., 0., 0., 0., 0., 0., 0., 0., 0., 0., 0.,\n",
      "       0., 0., 0., 0., 0., 0., 0., 0., 0., 0., 0., 0., 0., 0., 0., 0., 0.,\n",
      "       0., 0., 0., 0., 0., 0., 0., 0., 0., 0., 0., 0., 0., 0., 0., 0., 0.,\n",
      "       0., 0., 0., 0., 0., 0., 0., 0., 0., 0., 0., 0., 0., 0., 0., 0., 0.,\n",
      "       0., 0., 0., 0., 0., 0., 0., 0., 0., 0., 0., 0., 0., 0., 0., 0., 0.,\n",
      "       0.]), 'sres': None, 'FIM': None, 'wrms_steadystate': nan, 't_steadystate': nan, 'newton_numlinsteps': None, 'newton_numsteps': array([[0, 0]]), 'numsteps': array([  3,   3,   4,   5,   7,   9,  10,  12,  14,  17,  21,  26,  32,\n",
      "        39,  49,  70, 105, 155, 196, 221]), 'numrhsevals': array([  8,   8,   9,  10,  12,  14,  15,  18,  21,  24,  29,  35,  42,\n",
      "        50,  60,  81, 117, 168, 212, 240]), 'numerrtestfails': array([0, 0, 0, 0, 0, 0, 0, 0, 0, 0, 0, 0, 0, 0, 0, 0, 0, 0, 0, 0]), 'numnonlinsolvconvfails': array([0, 0, 0, 0, 0, 0, 0, 0, 0, 0, 0, 0, 0, 0, 0, 0, 0, 0, 0, 0]), 'order': array([2, 2, 2, 2, 2, 2, 2, 2, 3, 3, 3, 4, 5, 5, 5, 5, 5, 5, 5, 5]), 'numstepsB': None, 'numrhsevalsB': None, 'numerrtestfailsB': None, 'numnonlinsolvconvfailsB': None}\n"
     ]
    },
    {
     "data": {
      "image/png": "[encoded data removed]",
      "text/plain": [
       "<Figure size 432x288 with 1 Axes>"
      ]
     },
     "metadata": {},
     "output_type": "display_data"
    },
    {
     "data": {
      "image/png": "[encoded data removed]",
      "text/plain": [
       "<Figure size 432x288 with 1 Axes>"
      ]
     },
     "metadata": {},
     "output_type": "display_data"
    }
   ],
   "source": [
    "# load model\n",
    "sys.path.insert(0, model_output_dir)\n",
    "import model_steadystate_scaled as modelModule\n",
    "\n",
    "model = modelModule.getModel()\n",
    "model.setTimepoints(amici.DoubleVector(np.logspace(-5, 1, 20))) \n",
    "solver = model.getSolver()\n",
    "rdata = amici.runAmiciSimulation(model, solver)\n",
    "\n",
    "default_parameters = np.array(model.getParameters())\n",
    "print(default_parameters)\n",
    "print(rdata)\n",
    "\n",
    "plotStateTrajectories(rdata)\n",
    "plotObservableTrajectories(rdata)\n"
   ]
  },
  {
   "cell_type": "markdown",
   "metadata": {},
   "source": [
    "## Create in silico experimental data for parameter estimation\n",
    "\n",
    "- Simulate time-course for four different conditions\n",
    "- Add gaussian noise according to selected sigma parameter\n",
    "- Mimic 2 experimental batches: odd-numbered condition indices and even-numbered conditions have different offset parameter"
   ]
  },
  {
   "cell_type": "code",
   "execution_count": 8,
   "metadata": {},
   "outputs": [
    {
     "name": "stdout",
     "output_type": "stream",
     "text": [
      "true_parameters:\t[1.  0.5 0.4 2.  0.1 2.  3.  0.2 4. ]\n",
      "Default parameters:\t[1.  0.5 0.4 2.  0.1 2.  3.  0.2]\n",
      "\n",
      "Condition 0: [1.]\n"
     ]
    },
    {
     "ename": "TypeError",
     "evalue": "ExpData() missing 2 required positional arguments: 'sigma_y' and 'sigma_z'",
     "output_type": "error",
     "traceback": [
      "\u001b[0;31m---------------------------------------------------------------------------\u001b[0m",
      "\u001b[0;31mTypeError\u001b[0m                                 Traceback (most recent call last)",
      "\u001b[0;32m<ipython-input-8-45cc83cc2f4f>\u001b[0m in \u001b[0;36m<module>\u001b[0;34m\u001b[0m\n\u001b[1;32m    144\u001b[0m     \u001b[0;32mreturn\u001b[0m \u001b[0mrdata\u001b[0m\u001b[0;34m\u001b[0m\u001b[0m\n\u001b[1;32m    145\u001b[0m \u001b[0;34m\u001b[0m\u001b[0m\n\u001b[0;32m--> 146\u001b[0;31m \u001b[0mdf\u001b[0m\u001b[0;34m,\u001b[0m \u001b[0mconditionDf\u001b[0m \u001b[0;34m=\u001b[0m \u001b[0mcreateData\u001b[0m\u001b[0;34m(\u001b[0m\u001b[0;34m)\u001b[0m\u001b[0;34m\u001b[0m\u001b[0m\n\u001b[0m",
      "\u001b[0;32m<ipython-input-8-45cc83cc2f4f>\u001b[0m in \u001b[0;36mcreateData\u001b[0;34m()\u001b[0m\n\u001b[1;32m     63\u001b[0m \u001b[0;34m\u001b[0m\u001b[0m\n\u001b[1;32m     64\u001b[0m         \u001b[0;31m# simulate condition\u001b[0m\u001b[0;34m\u001b[0m\u001b[0;34m\u001b[0m\u001b[0m\n\u001b[0;32m---> 65\u001b[0;31m         \u001b[0mrdata\u001b[0m \u001b[0;34m=\u001b[0m \u001b[0mgetReturnDataForCondition\u001b[0m\u001b[0;34m(\u001b[0m\u001b[0mmodel\u001b[0m\u001b[0;34m,\u001b[0m \u001b[0msolver\u001b[0m\u001b[0;34m,\u001b[0m \u001b[0mcondition\u001b[0m\u001b[0;34m,\u001b[0m \u001b[0msimulationParameters\u001b[0m\u001b[0;34m,\u001b[0m \u001b[0msigmay\u001b[0m\u001b[0;34m)\u001b[0m\u001b[0;34m\u001b[0m\u001b[0m\n\u001b[0m\u001b[1;32m     66\u001b[0m \u001b[0;34m\u001b[0m\u001b[0m\n\u001b[1;32m     67\u001b[0m         \u001b[0mprint\u001b[0m\u001b[0;34m(\u001b[0m\u001b[0;34m'\\tllh: '\u001b[0m\u001b[0;34m,\u001b[0m \u001b[0mrdata\u001b[0m\u001b[0;34m[\u001b[0m\u001b[0;34m'llh'\u001b[0m\u001b[0;34m]\u001b[0m\u001b[0;34m)\u001b[0m\u001b[0;34m\u001b[0m\u001b[0m\n",
      "\u001b[0;32m<ipython-input-8-45cc83cc2f4f>\u001b[0m in \u001b[0;36mgetReturnDataForCondition\u001b[0;34m(model, solver, condition, simulationParameters, sigmay)\u001b[0m\n\u001b[1;32m    118\u001b[0m \u001b[0;34m\u001b[0m\u001b[0m\n\u001b[1;32m    119\u001b[0m     \u001b[0;31m# simulate without measurements\u001b[0m\u001b[0;34m\u001b[0m\u001b[0;34m\u001b[0m\u001b[0m\n\u001b[0;32m--> 120\u001b[0;31m     \u001b[0medata\u001b[0m \u001b[0;34m=\u001b[0m \u001b[0mamici\u001b[0m\u001b[0;34m.\u001b[0m\u001b[0mExpData\u001b[0m\u001b[0;34m(\u001b[0m\u001b[0mmodel\u001b[0m\u001b[0;34m.\u001b[0m\u001b[0mget\u001b[0m\u001b[0;34m(\u001b[0m\u001b[0;34m)\u001b[0m\u001b[0;34m)\u001b[0m\u001b[0;34m\u001b[0m\u001b[0m\n\u001b[0m\u001b[1;32m    121\u001b[0m     \u001b[0medata\u001b[0m\u001b[0;34m.\u001b[0m\u001b[0mfixedParameters\u001b[0m \u001b[0;34m=\u001b[0m \u001b[0mamici\u001b[0m\u001b[0;34m.\u001b[0m\u001b[0mDoubleVector\u001b[0m\u001b[0;34m(\u001b[0m\u001b[0mcondition\u001b[0m\u001b[0;34m)\u001b[0m\u001b[0;34m\u001b[0m\u001b[0m\n\u001b[1;32m    122\u001b[0m     \u001b[0medata\u001b[0m\u001b[0;34m.\u001b[0m\u001b[0mmy\u001b[0m \u001b[0;34m=\u001b[0m \u001b[0mamici\u001b[0m\u001b[0;34m.\u001b[0m\u001b[0mDoubleVector\u001b[0m\u001b[0;34m(\u001b[0m\u001b[0mnp\u001b[0m\u001b[0;34m.\u001b[0m\u001b[0mfull\u001b[0m\u001b[0;34m(\u001b[0m\u001b[0mshape\u001b[0m\u001b[0;34m=\u001b[0m\u001b[0mmodel\u001b[0m\u001b[0;34m.\u001b[0m\u001b[0mnt\u001b[0m\u001b[0;34m(\u001b[0m\u001b[0;34m)\u001b[0m \u001b[0;34m*\u001b[0m \u001b[0mmodel\u001b[0m\u001b[0;34m.\u001b[0m\u001b[0mnytrue\u001b[0m\u001b[0;34m,\u001b[0m \u001b[0mfill_value\u001b[0m\u001b[0;34m=\u001b[0m\u001b[0mnp\u001b[0m\u001b[0;34m.\u001b[0m\u001b[0mnan\u001b[0m\u001b[0;34m)\u001b[0m\u001b[0;34m)\u001b[0m\u001b[0;34m\u001b[0m\u001b[0m\n",
      "\u001b[0;31mTypeError\u001b[0m: ExpData() missing 2 required positional arguments: 'sigma_y' and 'sigma_z'"
     ]
    }
   ],
   "source": [
    "expectedLlh = 0.0\n",
    "sigma_default = 0.1 # parameters are lin\n",
    "sigma_parameter = 0.2\n",
    "offset_batch_1 = 3.0\n",
    "offset_batch_2 = 4.0\n",
    "offsetted_observable_idx = 4\n",
    "sigma_parameter_observable_idx = 5\n",
    "model_offset_parameter_idx = 6\n",
    "sigma_parameter_idx = 7\n",
    "timepoints = np.logspace(-5, 1, 20)\n",
    "\n",
    "model = modelModule.getModel()\n",
    "default_parameters = np.array(model.getParameters())\n",
    "default_parameters[sigma_parameter_idx] = sigma_parameter\n",
    "true_parameters = default_parameters.copy()\n",
    "true_parameters = np.append(true_parameters, offset_batch_2) # add second offset parameter\n",
    "print('true_parameters:\\t%s' % true_parameters)\n",
    "\n",
    "def createData():\n",
    "    # setup model & solver\n",
    "    model = modelModule.getModel()\n",
    "    model.setTimepoints(amici.DoubleVector(timepoints))\n",
    "    model.setParameters(amici.DoubleVector(default_parameters))\n",
    "    print('Default parameters:\\t%s' % default_parameters)\n",
    "    \n",
    "    solver = model.getSolver()\n",
    "    solver.setMaxSteps(10000)\n",
    "\n",
    "    # generate conditon-vectors\n",
    "    conditions = [np.array(model.getFixedParameters())]\n",
    "    conditions.append(conditions[0] * 1.1)\n",
    "    conditions.append(conditions[0] * 1.2)\n",
    "    conditions.append(conditions[0] * 1.3)\n",
    "\n",
    "    conditionDf = createConditionDataframe(fixed_parameters, conditions)\n",
    "    \n",
    "    df = pd.DataFrame(data={\n",
    "        'observable': [],\n",
    "        'condition': [],\n",
    "        'conditionRef': [],\n",
    "        'scalingParameter': [],\n",
    "        'time': [],\n",
    "        'measurement': [],\n",
    "        'sigma': []\n",
    "    })\n",
    "\n",
    "    print()\n",
    "    global expectedLlh\n",
    "    for icondition, condition in enumerate(conditions):      \n",
    "        print('Condition %d: %s' % (icondition, condition))\n",
    "        \n",
    "        # different offset for two \"batches\"\n",
    "        batch_id = icondition % 2\n",
    "        if batch_id == 0:\n",
    "            simulationParameters = default_parameters\n",
    "            simulationParameters[model_offset_parameter_idx] = offset_batch_1\n",
    "        else:\n",
    "            simulationParameters = default_parameters\n",
    "            simulationParameters[model_offset_parameter_idx] = offset_batch_2\n",
    "        \n",
    "        sigmay = np.ones(shape=(model.nt(), model.nytrue)) * sigma_default\n",
    "        sigmay[:, sigma_parameter_observable_idx] = np.nan # observable with sigma parameter\n",
    "        \n",
    "        # simulate condition\n",
    "        rdata = getReturnDataForCondition(model, solver, condition, simulationParameters, sigmay)\n",
    "        \n",
    "        print('\\tllh: ', rdata['llh'])\n",
    "        print('\\tsllh', rdata['sllh'])\n",
    "\n",
    "        expectedLlh += rdata['llh']\n",
    "        \n",
    "        conditionName = 'condition-%d' % icondition\n",
    "        \n",
    "        # Append data\n",
    "        for iy, observableName in enumerate(observables.keys()):\n",
    "            scalingParameter = [''] \n",
    "            sigma = sigmay[:, iy]\n",
    "            \n",
    "            if observableName == 'observable_x1_scaled':\n",
    "                #scalingParameter = ['scaling_x1_%s' % conditionName]\n",
    "                scalingParameter = ['scaling_x1_common']\n",
    "            elif observableName == 'observable_x2_offsetted':\n",
    "                #scalingParameter = ['offset_x2_%s' % conditionName]\n",
    "                #scalingParameter = ['offset_x2_common']\n",
    "                scalingParameter = ['offset_x2_batch-%d' % batch_id]\n",
    "            elif observableName == 'observable_x1withsigma':\n",
    "                #scalingParameter = ['observable_x1withsigma_sigma_%s' % conditionName]\n",
    "                scalingParameter = ['observable_x1withsigma_sigma_common']\n",
    "            \n",
    "            df = df.append(pd.DataFrame(\n",
    "            {'observable'      : [observableName] * model.nt(),\n",
    "             'condition'       : [conditionName]  * model.nt(),\n",
    "             'conditionRef'    : ['']  * model.nt(),\n",
    "             'scalingParameter': scalingParameter * model.nt(),\n",
    "             'time'            : np.array(model.getTimepoints()),\n",
    "             'measurement'     : rdata['y'][:, iy],\n",
    "             'sigma'           : sigma\n",
    "             }), ignore_index=True)\n",
    "        print()\n",
    "            \n",
    "    print('Expected llh: ', expectedLlh)\n",
    "            \n",
    "    return df, conditionDf\n",
    "\n",
    "\n",
    "def createConditionDataframe(fixed_parameters, conditions):\n",
    "    \"\"\"Create dataframe with fixed-parameters for each condition to simulate\"\"\"\n",
    "    conditionDf = pd.DataFrame(index = fixed_parameters)\n",
    "    conditionDf['ID'] = conditionDf.index\n",
    "    for icondition, condition in enumerate(conditions):\n",
    "        conditionDf['condition-%d' % icondition] = condition\n",
    "    \n",
    "    return conditionDf\n",
    "\n",
    "\n",
    "def getReturnDataForCondition(model, solver, condition, simulationParameters, sigmay):\n",
    "    model.setParameters(amici.DoubleVector(simulationParameters))\n",
    "    \n",
    "    # simulate without measurements\n",
    "    edata = amici.ExpData(model.get())\n",
    "    edata.fixedParameters = amici.DoubleVector(condition)\n",
    "    edata.my = amici.DoubleVector(np.full(shape=model.nt() * model.nytrue, fill_value=np.nan))\n",
    "    rdata = amici.runAmiciSimulation(model, solver, edata)        \n",
    "    # fixedParametersPreequilibration = \n",
    "\n",
    "    # confirm gradient is 0 for real measurements and save expected llh\n",
    "    measurement = rdata['y']\n",
    "    measurement = np.random.normal(loc=rdata['y'], scale=sigmay)\n",
    "    print(\"\\tSigma mean per observable:\", sigmay.mean(axis=0))\n",
    "    measurement[:, sigma_parameter_observable_idx] = np.random.normal(\n",
    "        loc=rdata['y'][:, sigma_parameter_observable_idx], \n",
    "        scale=simulationParameters[sigma_parameter_idx])\n",
    "    print(\"\\tMean abs. relative measurement error per observable:\")\n",
    "    print(\"\\t\", np.mean(np.abs((measurement-rdata['y'])/rdata['y']), axis=0))\n",
    "\n",
    "    edata.my = amici.DoubleVector(measurement.flatten())\n",
    "    edata.sigmay = amici.DoubleVector(sigmay.flatten())\n",
    "    solver.setSensitivityMethod(amici.AMICI_SENSI_FSA)\n",
    "    solver.setSensitivityOrder(amici.AMICI_SENSI_ORDER_FIRST)\n",
    "    model.requireSensitivitiesForAllParameters()\n",
    "    rdata = amici.runAmiciSimulation(model, solver, edata)\n",
    "    # return generated noisy measurents\n",
    "    rdata['y'] = measurement\n",
    "    return rdata\n",
    "\n",
    "df, conditionDf = createData()"
   ]
  },
  {
   "cell_type": "code",
   "execution_count": null,
   "metadata": {},
   "outputs": [],
   "source": [
    "df"
   ]
  },
  {
   "cell_type": "code",
   "execution_count": null,
   "metadata": {},
   "outputs": [],
   "source": [
    "conditionDf"
   ]
  },
  {
   "cell_type": "code",
   "execution_count": null,
   "metadata": {},
   "outputs": [],
   "source": [
    "# write data frames to file\n",
    "measurement_file = 'example_data.tsv'\n",
    "fixed_parameter_file = 'example_data_fixed.tsv'\n",
    "hdf5File = 'example_data.h5'\n",
    "\n",
    "df.to_csv(measurement_file, sep='\\t', index=False)\n",
    "conditionDf.to_csv(fixed_parameter_file, sep='\\t', index=False)\n",
    "\n",
    "! /bin/bash -c \"if [[ -f example_data.h5 ]]; then cp example_data.h5 example_data.h5.bak; fi\"\n",
    "# convert to HDF5\n",
    "import subprocess\n",
    "out = subprocess.run(['%s/generateHDF5DataFileFromText.py' % os.path.join(os.getcwd(), '..', '..', '..', 'misc'),\n",
    "    hdf5File,\n",
    "    sbml_file,\n",
    "    model_output_dir,\n",
    "    measurement_file,\n",
    "    fixed_parameter_file], stdout=subprocess.PIPE, stderr=subprocess.STDOUT)\n",
    "print(out.stdout.decode(\"utf-8\"))\n",
    "assert out.returncode==0\n",
    "\n",
    "hdf5FileMinibatch = 'example_data_minibatch.h5'\n",
    "!cp {hdf5File} {hdf5FileMinibatch}"
   ]
  },
  {
   "cell_type": "code",
   "execution_count": null,
   "metadata": {},
   "outputs": [],
   "source": [
    "# write true parameters as first starting point, an perturbed additional points\n",
    "# two times the same point to check for reproducibility\n",
    "import h5py\n",
    "with h5py.File(hdf5File, 'r+') as f:\n",
    "    pscale = f['/parameters/pscale'][:]\n",
    "    true_parameters_scaled = true_parameters.copy()\n",
    "    for i, p in enumerate(pscale):\n",
    "        if p == 2:\n",
    "            true_parameters_scaled[i] = np.log10(true_parameters[i])\n",
    "    \n",
    "    for i in range(10):\n",
    "        parameters = true_parameters_scaled\n",
    "        parameters = parameters + np.random.normal(0.0, 0.2 + i * 0.1, true_parameters.shape)\n",
    "        #parameters = np.random.uniform(-3, 5, true_parameters.shape)\n",
    "        \n",
    "        #print(parameters)\n",
    "        f['/optimizationOptions/randomStarts'][:,2*i]   = parameters\n",
    "        f['/optimizationOptions/randomStarts'][:,2*i+1] = parameters\n",
    "\n",
    "!cp {hdf5File} {hdf5FileMinibatch}"
   ]
  },
  {
   "cell_type": "code",
   "execution_count": null,
   "metadata": {},
   "outputs": [],
   "source": [
    "# enable derivate checker\n",
    "#!../../../misc/optimizationOptions.py example_data.h5 -s ipopt/derivative_test first-order\n",
    "#!../../../misc/optimizationOptions.py example_data.h5 -s ipopt/derivative_test_print_all yes\n",
    "!../../../misc/optimizationOptions.py example_data.h5 -s numStarts 2\n",
    "!../../../misc/optimizationOptions.py example_data.h5 -s hierarchicalOptimization 0\n",
    "!../../../misc/optimizationOptions.py example_data.h5\n"
   ]
  },
  {
   "cell_type": "markdown",
   "metadata": {},
   "source": [
    "## Gradient check"
   ]
  },
  {
   "cell_type": "code",
   "execution_count": null,
   "metadata": {},
   "outputs": [],
   "source": [
    "for i in range(3):\n",
    "    !PARPE_NO_DEBUG=1 ../../../build/amici/examples/steadystate/example_steadystate_multi -t gradient_check -o deletemegc/ example_data.h5\n"
   ]
  },
  {
   "cell_type": "markdown",
   "metadata": {},
   "source": [
    "## Optimize"
   ]
  },
  {
   "cell_type": "code",
   "execution_count": null,
   "metadata": {},
   "outputs": [],
   "source": [
    "!pwd\n",
    "!(cd ../../../build && exec make -j12)\n",
    "!../../../build/amici/examples/steadystate/example_steadystate_multi -o deleteme/ example_data.h5\n"
   ]
  },
  {
   "cell_type": "code",
   "execution_count": null,
   "metadata": {},
   "outputs": [],
   "source": [
    "filename = 'deleteme/_rank-0001.h5'\n",
    "with h5py.File(filename, 'r') as f:\n",
    "    trajectory = f['/multistarts/0/iterCostFunCost'][:]\n",
    "for start in range(trajectory.shape[0]):\n",
    "    plt.plot(trajectory[start])\n",
    "trajectory"
   ]
  },
  {
   "cell_type": "markdown",
   "metadata": {},
   "source": [
    "## Compare results"
   ]
  },
  {
   "cell_type": "code",
   "execution_count": null,
   "metadata": {},
   "outputs": [],
   "source": [
    "def compareResults(filename, expectedNllh):\n",
    "    with h5py.File(filename, 'r') as f:\n",
    "        final_parameters = f['/multistarts/0/finalParameters'][:]\n",
    "        exit_status = f['/multistarts/0/exitStatus'][:]\n",
    "        final_cost = f['/multistarts/0/finalCost'][:]\n",
    "\n",
    "    for i, p in enumerate(pscale):\n",
    "        if p == 2:\n",
    "            final_parameters[i] = np.power(10, final_parameters[i])\n",
    "\n",
    "    print(\"#  __Exp___ __Act___ __Err___ _RelErr___\")\n",
    "    for i in range(len(true_parameters)):\n",
    "        error = final_parameters[i]-true_parameters[i]\n",
    "        rel_error = error / true_parameters[i]\n",
    "        print('%d: %6f %6f %6f %6f' % (i, true_parameters[i], \n",
    "                                       final_parameters[i], \n",
    "                                       error,rel_error))\n",
    "    print('Status: %d' % exit_status)\n",
    "    print('Cost: %f (expected: %f)' % (final_cost, expectedNllh))"
   ]
  },
  {
   "cell_type": "code",
   "execution_count": null,
   "metadata": {},
   "outputs": [],
   "source": [
    "compareResults('deleteme/_rank-0001.h5', -expectedLlh)"
   ]
  },
  {
   "cell_type": "code",
   "execution_count": null,
   "metadata": {},
   "outputs": [],
   "source": [
    "!pwd"
   ]
  },
  {
   "cell_type": "code",
   "execution_count": null,
   "metadata": {},
   "outputs": [],
   "source": [
    "!rm sim.h5\n",
    "!../../../build/amici/examples/steadystate/example_steadystate_multi_simulator deleteme/_rank-0001.h5 / sim.h5 / --at-optimum"
   ]
  },
  {
   "cell_type": "code",
   "execution_count": null,
   "metadata": {},
   "outputs": [],
   "source": [
    "with h5py.File('sim.h5', 'r') as f:\n",
    "    ysim = f['/multistarts/0/ySim'][:]\n",
    "    ymes = f['/multistarts/0/yMes'][:]\n",
    "print(ysim.shape)\n",
    "print(ymes.shape)"
   ]
  },
  {
   "cell_type": "code",
   "execution_count": null,
   "metadata": {},
   "outputs": [],
   "source": [
    "def plotCorrelation(ymes, ysim):\n",
    "    for iy in range(ysim.shape[2]):\n",
    "        fig, ax = plt.subplots()\n",
    "        for icondition in range(ysim.shape[0]):\n",
    "            x = ymes[icondition, :, iy]\n",
    "            y = ysim[icondition, :, iy]\n",
    "            print(x, y)\n",
    "            ax.scatter(x, y, label='$y_%d$ condition %d' % (iy, icondition))\n",
    "        plt.xlabel('measurement (AU)')\n",
    "        plt.ylabel('simulation (AU)')\n",
    "        plt.gca().set_aspect('equal', adjustable='box')\n",
    "        plt.title('Observable %d' % iy)\n",
    "        plt.legend()\n",
    "        plt.show()\n",
    "        \n",
    "plotCorrelation(ymes, ysim)"
   ]
  },
  {
   "cell_type": "code",
   "execution_count": null,
   "metadata": {},
   "outputs": [],
   "source": [
    "def plotTrajectoryFit(ymes, ysim, timepoints):\n",
    "    for icondition in range(ysim.shape[0]):\n",
    "        fig, ax = plt.subplots()\n",
    "        for iy in range(ysim.shape[2]):\n",
    "            ax.plot(timepoints, ysim[icondition, :, iy], label='$y_%d$ sim' % (iy), alpha=0.7, c='C%d'%iy)\n",
    "            ax.plot(timepoints, ymes[icondition, :, iy], label='$y_%d$ mes' % (iy), linestyle='dotted', c='C%d'%iy)\n",
    "        plt.xlabel('$t$ (s)')\n",
    "        plt.ylabel('$y_i(t)$ (AU)')\n",
    "        plt.title('Condition %d' %icondition)\n",
    "        plt.legend()\n",
    "        plt.show()\n",
    "\n",
    "plotTrajectoryFit(ymes, ysim, timepoints)"
   ]
  },
  {
   "cell_type": "markdown",
   "metadata": {},
   "source": [
    "## Hierarchical optimization"
   ]
  },
  {
   "cell_type": "code",
   "execution_count": null,
   "metadata": {},
   "outputs": [],
   "source": [
    "!../../../misc/optimizationOptions.py example_data.h5 -s hierarchicalOptimization 1\n",
    "!../../../misc/optimizationOptions.py example_data.h5 -s numStarts 1\n",
    "!../../../misc/optimizationOptions.py example_data.h5 -s ipopt/max_iter 100\n",
    "!../../../misc/optimizationOptions.py example_data.h5 -s ipopt/acceptable_obj_change_tol 1e-5\n",
    "!../../../misc/optimizationOptions.py example_data.h5 -s ipopt/acceptable_tol 1e-5\n",
    "!../../../misc/optimizationOptions.py example_data.h5 -s retryOptimization 0\n",
    "!../../../misc/optimizationOptions.py example_data.h5\n"
   ]
  },
  {
   "cell_type": "code",
   "execution_count": null,
   "metadata": {},
   "outputs": [],
   "source": [
    "# gradient check \n",
    "!PARPE_NO_DEBUG=1 ../../../build/amici/examples/steadystate/example_steadystate_multi -t gradient_check -o deletemegc/ example_data.h5\n"
   ]
  },
  {
   "cell_type": "code",
   "execution_count": null,
   "metadata": {},
   "outputs": [],
   "source": [
    "# optimization\n",
    "!PARPE_NO_DEBUG=1 mpiexec -n 4 ../../../build/amici/examples/steadystate/example_steadystate_multi  -o deletemehierarchical/ example_data.h5\n"
   ]
  },
  {
   "cell_type": "code",
   "execution_count": null,
   "metadata": {},
   "outputs": [],
   "source": [
    "filename = 'deletemehierarchical/_rank00000.h5'\n",
    "with h5py.File(filename, 'r') as f:\n",
    "    trajectory = f['/multistarts/0/iterCostFunCost'][:]\n",
    "for start in range(trajectory.shape[0]):\n",
    "    plt.plot(trajectory[start])    \n",
    "trajectory"
   ]
  },
  {
   "cell_type": "code",
   "execution_count": null,
   "metadata": {},
   "outputs": [],
   "source": [
    "compareResults('deletemehierarchical/_rank00000.h5', -expectedLlh)"
   ]
  },
  {
   "cell_type": "code",
   "execution_count": null,
   "metadata": {},
   "outputs": [],
   "source": [
    "list(model.getParameterNames())"
   ]
  },
  {
   "cell_type": "code",
   "execution_count": null,
   "metadata": {},
   "outputs": [],
   "source": [
    "!rm simh.h5\n",
    "!../../../build/amici/examples/steadystate/example_steadystate_multi_simulator deletemehierarchical/_rank00000.h5 / simh.h5 / --at-optimum"
   ]
  },
  {
   "cell_type": "code",
   "execution_count": null,
   "metadata": {},
   "outputs": [],
   "source": [
    "with h5py.File('simh.h5', 'r') as f:\n",
    "    ysim = f['/multistarts/0/ySim'][:]\n",
    "    ymes = f['/multistarts/0/yMes'][:]\n",
    "print(ysim.shape)\n",
    "print(ymes.shape)"
   ]
  },
  {
   "cell_type": "code",
   "execution_count": null,
   "metadata": {},
   "outputs": [],
   "source": [
    "plotCorrelation(ymes, ysim)"
   ]
  },
  {
   "cell_type": "code",
   "execution_count": null,
   "metadata": {},
   "outputs": [],
   "source": [
    "plotTrajectoryFit(ymes, ysim, timepoints)"
   ]
  },
  {
   "cell_type": "markdown",
   "metadata": {},
   "source": [
    "## Ceres"
   ]
  },
  {
   "cell_type": "code",
   "execution_count": null,
   "metadata": {},
   "outputs": [],
   "source": [
    "!cp example_data.h5 example_data_ceres.h5\n",
    "!../../../misc/optimizationOptions.py example_data_ceres.h5 -s optimizer 1\n",
    "!mpiexec -n 4 ../../../build/amici/examples/steadystate/example_steadystate_multi  -o deletemeceres/ example_data_ceres.h5\n"
   ]
  },
  {
   "cell_type": "code",
   "execution_count": null,
   "metadata": {},
   "outputs": [],
   "source": [
    "compareResults('deletemeceres/_rank00000.h5', -expectedLlh)"
   ]
  },
  {
   "cell_type": "markdown",
   "metadata": {},
   "source": [
    "## Minibatch optimization"
   ]
  },
  {
   "cell_type": "code",
   "execution_count": null,
   "metadata": {},
   "outputs": [],
   "source": [
    "!../../../misc/optimizationOptions.py {hdf5FileMinibatch} -s numStarts 1\n",
    "!../../../misc/optimizationOptions.py {hdf5FileMinibatch} -s hierarchicalOptimization 0\n",
    "!../../../misc/optimizationOptions.py {hdf5FileMinibatch} -s retryOptimization 0\n",
    "!../../../misc/optimizationOptions.py {hdf5FileMinibatch} -s optimizer 10 # minibatch\n",
    "!../../../misc/optimizationOptions.py {hdf5FileMinibatch} -s minibatch/maxEpochs 50\n",
    "!../../../misc/optimizationOptions.py {hdf5FileMinibatch} -s minibatch/batchSize 2\n",
    "!../../../misc/optimizationOptions.py {hdf5FileMinibatch} -s minibatch/parameterUpdater Vanilla\n",
    "!../../../misc/optimizationOptions.py {hdf5FileMinibatch} -s minibatch/Vanilla-learningRate 1e-5\n",
    "!../../../misc/optimizationOptions.py {hdf5FileMinibatch}"
   ]
  },
  {
   "cell_type": "code",
   "execution_count": null,
   "metadata": {},
   "outputs": [],
   "source": [
    "!../../../misc/selectStartingPoints.py {hdf5FileMinibatch} 9 # select starting point"
   ]
  },
  {
   "cell_type": "code",
   "execution_count": null,
   "metadata": {},
   "outputs": [],
   "source": [
    "!PARPE_MAX_SIMULATIONS_PER_PACKAGE=1 mpiexec -np 4 ../../../build/amici/examples/steadystate/example_steadystate_multi -o deleteme-minibatch/ {hdf5FileMinibatch}"
   ]
  },
  {
   "cell_type": "code",
   "execution_count": null,
   "metadata": {},
   "outputs": [],
   "source": [
    "filename = 'deleteme-minibatch/_rank00000.h5'\n",
    "with h5py.File(filename, 'r') as f:\n",
    "    trajectory = f['/multistarts/0/iterCostFunCost'][:]\n",
    "for start in range(trajectory.shape[0]):\n",
    "    plt.plot(trajectory[start])\n",
    "    plt.gca().set_xlabel(\"Function evaluation\")\n",
    "    plt.gca().set_ylabel(\"Cost\")\n",
    "#trajectory"
   ]
  },
  {
   "cell_type": "markdown",
   "metadata": {},
   "source": [
    "### Compare learning rates"
   ]
  },
  {
   "cell_type": "code",
   "execution_count": null,
   "metadata": {},
   "outputs": [],
   "source": [
    "learningRates = np.logspace(0, -5, 6)\n",
    "for i, learningRate in enumerate(learningRates):\n",
    "    curInputFile = \"example-data-minibatch-rate-%d.h5\" % i\n",
    "    outprefix = \"deleteme-minibatch-rate-%d/\" % i\n",
    "    !cp {hdf5FileMinibatch} {curInputFile}\n",
    "    !../../../misc/optimizationOptions.py {curInputFile} -s minibatch/Vanilla-learningRate learningRate\n",
    "    !PARPE_MAX_SIMULATIONS_PER_PACKAGE=1 mpiexec -np 4 ../../../build/amici/examples/steadystate/example_steadystate_multi -o {outprefix} {hdf5FileMinibatch}"
   ]
  },
  {
   "cell_type": "code",
   "execution_count": null,
   "metadata": {},
   "outputs": [],
   "source": [
    "fig, axs = plt.subplots(nrows=len(learningRates + 1), figsize=(10, 20))\n",
    "for i, learningRate in enumerate(learningRates):\n",
    "    filename = \"deleteme-minibatch-rate-%d/_rank00000.h5\" % i\n",
    "    with h5py.File(filename, 'r') as f:\n",
    "        trajectory = f['/multistarts/0/iterCostFunCost'][:]\n",
    "    for start in range(trajectory.shape[0]):\n",
    "        for ax in (axs[i], axs[-1]):\n",
    "            ax.plot(trajectory[start], label=\"r%f-s%d\"%(learningRate, start), color=\"C%d\"%i)\n",
    "            ax.set_xlabel(\"Function evaluation\")\n",
    "            ax.set_ylabel(\"Cost\")\n",
    "            ax.set_title(\"Comparison of learning rates\")\n",
    "            ax.legend()\n",
    "plt.subplots_adjust(hspace=0.5)"
   ]
  },
  {
   "cell_type": "code",
   "execution_count": null,
   "metadata": {},
   "outputs": [],
   "source": [
    "?plt.subplots_adjust"
   ]
  },
  {
   "cell_type": "markdown",
   "metadata": {},
   "source": [
    "# TODO\n",
    "\n",
    "## preeequilibration\n",
    "## different optimizers\n",
    "## improve timing"
   ]
  },
  {
   "cell_type": "code",
   "execution_count": null,
   "metadata": {},
   "outputs": [],
   "source": [
    "list(model.getParameterNames())"
   ]
  },
  {
   "cell_type": "code",
   "execution_count": null,
   "metadata": {},
   "outputs": [],
   "source": []
  },
  {
   "cell_type": "code",
   "execution_count": null,
   "metadata": {},
   "outputs": [],
   "source": []
  },
  {
   "cell_type": "code",
   "execution_count": null,
   "metadata": {},
   "outputs": [],
   "source": []
  }
 ],
 "metadata": {
  "kernelspec": {
   "display_name": "Python 3",
   "language": "python",
   "name": "python3"
  },
  "language_info": {
   "codemirror_mode": {
    "name": "ipython",
    "version": 3
   },
   "file_extension": ".py",
   "mimetype": "text/x-python",
   "name": "python",
   "nbconvert_exporter": "python",
   "pygments_lexer": "ipython3",
   "version": "3.6.6"
  }
 },
 "nbformat": 4,
 "nbformat_minor": 2
}
