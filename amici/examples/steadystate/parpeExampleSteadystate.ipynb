{
 "cells": [
  {
   "cell_type": "markdown",
   "metadata": {},
   "source": [
    "# parPE steadystate example model"
   ]
  },
  {
   "cell_type": "code",
   "execution_count": 0,
   "metadata": {},
   "outputs": [],
   "source": [
    "import amici as amici\n",
    "import os\n",
    "import sys\n",
    "import numpy as np\n",
    "import pandas as pd\n",
    "import matplotlib.pyplot as plt"
   ]
  },
  {
   "cell_type": "code",
   "execution_count": 2,
   "metadata": {},
   "outputs": [],
   "source": [
    "# Create sbml model from scratch\n",
    "!./createSteadystateExampleSBML.py > model_steadystate_scaled.sbml"
   ]
  },
  {
   "cell_type": "code",
   "execution_count": 3,
   "metadata": {},
   "outputs": [],
   "source": [
    "sbml_file = 'model_steadystate_scaled.sbml'\n",
    "model_name = 'model_steadystate_scaled'\n",
    "model_output_dir= 'model_steadystate_scaled'"
   ]
  },
  {
   "cell_type": "code",
   "execution_count": 4,
   "metadata": {
    "collapsed": false
   },
   "outputs": [
    {
     "name": "stdout",
     "output_type": "stream",
     "text": [
      "Species:  ['x1', 'x2', 'x3']\nParameters:  ['p1', 'p2', 'p3', 'p4', 'p5', 'k0', 'observable_x1', 'observable_x2', 'observable_x3', 'scaling_x1', 'observable_x1_scaled', 'offset_x2', 'observable_x2_offsetted', 'observable_x1withsigma_sigma', 'observable_x1withsigma']\n\nReactions:\n r1:       2 x1  ->        x2\t\t[p1 * x1^2]\n r2:   x1 +  x2  ->        x3\t\t[p2 * x1 * x2]\n r3:         x2  ->      2 x1\t\t[p3 * x2]\n r4:         x3  ->  x1 +  x2\t\t[p4 * x3]\n r5:         x3  ->          \t\t[k0 * x3]\n r6:             ->        x1\t\t[p5]\n"
     ]
    },
    {
     "name": "stdout",
     "output_type": "stream",
     "text": [
      "Species:  ['x1', 'x2', 'x3']\nParameters:  ['p1', 'p2', 'p3', 'p4', 'p5', 'k0', 'observable_x1', 'observable_x2', 'observable_x3', 'scaling_x1', 'observable_x1_scaled', 'offset_x2', 'observable_x2_offsetted', 'observable_x1withsigma_sigma', 'observable_x1withsigma']\n\nReactions:\n r1:       2 x1  ->        x2\t\t[p1 * x1^2]\n r2:   x1 +  x2  ->        x3\t\t[p2 * x1 * x2]\n r3:         x2  ->      2 x1\t\t[p3 * x2]\n r4:         x3  ->  x1 +  x2\t\t[p4 * x3]\n r5:         x3  ->          \t\t[k0 * x3]\n r6:             ->        x1\t\t[p5]\n"
     ]
    }
   ],
   "source": [
    "# Show model info\n",
    "import libsbml\n",
    "SBMLreader = libsbml.SBMLReader()\n",
    "sbml_doc = SBMLreader.readSBML(sbml_file)\n",
    "sbml_model = sbml_doc.getModel()\n",
    "\n",
    "print('Species: ', [s.getId() for s in sbml_model.getListOfSpecies()])\n",
    "\n",
    "print('Parameters: ', [p.getId() for p in sbml_model.getListOfParameters()])\n",
    "\n",
    "print('\\nReactions:')\n",
    "for reaction in sbml_model.getListOfReactions():\n",
    "    reactants = ' + '.join(['%s %s'%(int(r.getStoichiometry()) if r.getStoichiometry() > 1 else '', r.getSpecies()) for r in reaction.getListOfReactants()])\n",
    "    products  = ' + '.join(['%s %s'%(int(r.getStoichiometry()) if r.getStoichiometry() > 1 else '', r.getSpecies()) for r in reaction.getListOfProducts()])\n",
    "    reversible = '<' if reaction.getReversible() else ''\n",
    "    print('%3s: %10s %1s->%10s\\t\\t[%s]' % (reaction.getId(), \n",
    "                        reactants,\n",
    "                        reversible,\n",
    "                        products,\n",
    "                        libsbml.formulaToL3String(reaction.getKineticLaw().getMath())))\n"
   ]
  },
  {
   "cell_type": "markdown",
   "metadata": {},
   "source": [
    "## Generate model code"
   ]
  },
  {
   "cell_type": "code",
   "execution_count": 5,
   "metadata": {},
   "outputs": [
    {
     "name": "stdout",
     "output_type": "stream",
     "text": [
      "{'observable_x1': {'name': '', 'formula': 'x1'}, 'observable_x2': {'name': '', 'formula': 'x2'}, 'observable_x3': {'name': '', 'formula': 'x3'}, 'observable_x1_scaled': {'name': '', 'formula': 'scaling_x1 * x1'}, 'observable_x2_offsetted': {'name': '', 'formula': 'offset_x2 + x2'}, 'observable_x1withsigma': {'name': '', 'formula': 'x1'}}\n['k0']\n"
     ]
    },
    {
     "name": "stdout",
     "output_type": "stream",
     "text": [
      "{'observable_x1': {'name': '', 'formula': 'x1'}, 'observable_x2': {'name': '', 'formula': 'x2'}, 'observable_x3': {'name': '', 'formula': 'x3'}, 'observable_x1_scaled': {'name': '', 'formula': 'scaling_x1 * x1'}, 'observable_x2_offsetted': {'name': '', 'formula': 'offset_x2 + x2'}, 'observable_x1withsigma': {'name': '', 'formula': 'x1'}}\n['k0']\n"
     ]
    }
   ],
   "source": [
    "observables = []\n",
    "fixed_parameters = ['k0']\n",
    "\n",
    "def createModule(sbml_model_file, model_name, model_output_dir):\n",
    "    \"\"\"Create Python module from SBML model\"\"\"\n",
    "    sbmlImporter = amici.SbmlImporter(sbml_model_file)\n",
    "    sbml = sbmlImporter.sbml\n",
    "    global observables\n",
    "    observables = amici.assignmentRules2observables(sbml, filter=lambda variableId: \n",
    "                                                    variableId.startswith('observable_') and not variableId.endswith('_sigma'))\n",
    "    \n",
    "    print(observables)\n",
    "    print(fixed_parameters)\n",
    "\n",
    "    sbmlImporter.sbml2amici(model_name,\n",
    "                            output_dir=model_output_dir,\n",
    "                            observables=observables,\n",
    "                            constantParameters=fixed_parameters,\n",
    "                            sigmas={'observable_x1withsigma': 'observable_x1withsigma_sigma'})\n",
    "\n",
    "\n",
    "createModule(sbml_file, model_name, model_output_dir)\n",
    "\n"
   ]
  },
  {
   "cell_type": "markdown",
   "metadata": {},
   "source": [
    "## Test simulation"
   ]
  },
  {
   "cell_type": "code",
   "execution_count": 6,
   "metadata": {},
   "outputs": [],
   "source": [
    "def plotStateTrajectories(rdata):\n",
    "    for ix in range(rdata['x'].shape[1]):\n",
    "        plt.plot(rdata['t'], rdata['x'][:, ix], label='$x_%d$' % ix)\n",
    "        plt.xlabel('$t$ (s)')\n",
    "        plt.ylabel('$x_i(t)$ (mmol/ml)')\n",
    "        plt.legend()\n",
    "        plt.title('State trajectories')\n",
    "    plt.show()\n",
    "    \n",
    "def plotObservableTrajectories(rdata):\n",
    "    for iy in range(rdata['y'].shape[1]):\n",
    "        plt.plot(rdata['t'], rdata['y'][:, iy], label='$y_%d$' % iy)\n",
    "        plt.xlabel('$t$ (s)')\n",
    "        plt.ylabel('$y_i(t)$ (AU)')\n",
    "        plt.legend()\n",
    "        plt.title('Observables')\n",
    "    \n",
    "    plt.show()\n"
   ]
  },
  {
   "cell_type": "code",
   "execution_count": 7,
   "metadata": {},
   "outputs": [
    {
     "name": "stdout",
     "output_type": "stream",
     "text": [
      "[1.  0.5 0.4 2.  0.1 2.  3.  0.2]\n{'ptr': <amici.amici.ReturnDataPtr; proxy of <Swig Object of type 'std::unique_ptr< amici::ReturnData > *' at 0x7f2a9132cbd0> >, 't': array([1.00000000e-05, 2.06913808e-05, 4.28133240e-05, 8.85866790e-05,\n       1.83298071e-04, 3.79269019e-04, 7.84759970e-04, 1.62377674e-03,\n       3.35981829e-03, 6.95192796e-03, 1.43844989e-02, 2.97635144e-02,\n       6.15848211e-02, 1.27427499e-01, 2.63665090e-01, 5.45559478e-01,\n       1.12883789e+00, 2.33572147e+00, 4.83293024e+00, 1.00000000e+01]), 'x': array([[0.1000178 , 0.4000123 , 0.6999792 ],\n       [0.10003683, 0.40002545, 0.69995696],\n       [0.1000762 , 0.40005266, 0.69991096],\n       [0.10015767, 0.40010894, 0.69981577],\n       [0.1003262 , 0.40022538, 0.69961885],\n       [0.10067479, 0.40046616, 0.6992116 ],\n       [0.10139555, 0.4009638 , 0.69836975],\n       [0.10288464, 0.40199105, 0.69663131],\n       [0.10595616, 0.4041061 , 0.69304903],\n       [0.11227026, 0.40843807, 0.6856998 ],\n       [0.12515789, 0.41721488, 0.6707597 ],\n       [0.15106393, 0.43460508, 0.64095895],\n       [0.20141095, 0.46753068, 0.58381562],\n       [0.2919014 , 0.52445704, 0.48289829],\n       [0.42629841, 0.60713045, 0.33274095],\n       [0.55010942, 0.693768  , 0.17502923],\n       [0.57846336, 0.73500836, 0.08824507],\n       [0.55532334, 0.70439349, 0.06727818],\n       [0.52854605, 0.62886747, 0.05651057],\n       [0.49494912, 0.5355812 , 0.04468553]]), 'x0': array([0.1, 0.4, 0.7]), 'sx': None, 'sx0': None, 'y': array([[0.1000178 , 0.4000123 , 0.6999792 , 0.2000356 , 3.4000123 ,\n        0.1000178 ],\n       [0.10003683, 0.40002545, 0.69995696, 0.20007366, 3.40002545,\n        0.10003683],\n       [0.1000762 , 0.40005266, 0.69991096, 0.20015241, 3.40005266,\n        0.1000762 ],\n       [0.10015767, 0.40010894, 0.69981577, 0.20031533, 3.40010894,\n        0.10015767],\n       [0.1003262 , 0.40022538, 0.69961885, 0.20065239, 3.40022538,\n        0.1003262 ],\n       [0.10067479, 0.40046616, 0.6992116 , 0.20134958, 3.40046616,\n        0.10067479],\n       [0.10139555, 0.4009638 , 0.69836975, 0.20279109, 3.4009638 ,\n        0.10139555],\n       [0.10288464, 0.40199105, 0.69663131, 0.20576929, 3.40199105,\n        0.10288464],\n       [0.10595616, 0.4041061 , 0.69304903, 0.21191232, 3.4041061 ,\n        0.10595616],\n       [0.11227026, 0.40843807, 0.6856998 , 0.22454051, 3.40843807,\n        0.11227026],\n       [0.12515789, 0.41721488, 0.6707597 , 0.25031579, 3.41721488,\n        0.12515789],\n       [0.15106393, 0.43460508, 0.64095895, 0.30212786, 3.43460508,\n        0.15106393],\n       [0.20141095, 0.46753068, 0.58381562, 0.4028219 , 3.46753068,\n        0.20141095],\n       [0.2919014 , 0.52445704, 0.48289829, 0.58380281, 3.52445704,\n        0.2919014 ],\n       [0.42629841, 0.60713045, 0.33274095, 0.85259682, 3.60713045,\n        0.42629841],\n       [0.55010942, 0.693768  , 0.17502923, 1.10021883, 3.693768  ,\n        0.55010942],\n       [0.57846336, 0.73500836, 0.08824507, 1.15692673, 3.73500836,\n        0.57846336],\n       [0.55532334, 0.70439349, 0.06727818, 1.11064669, 3.70439349,\n        0.55532334],\n       [0.52854605, 0.62886747, 0.05651057, 1.05709211, 3.62886747,\n        0.52854605],\n       [0.49494912, 0.5355812 , 0.04468553, 0.98989824, 3.5355812 ,\n        0.49494912]]), 'sigmay': array([[1. , 1. , 1. , 1. , 1. , 0.2],\n       [1. , 1. , 1. , 1. , 1. , 0.2],\n       [1. , 1. , 1. , 1. , 1. , 0.2],\n       [1. , 1. , 1. , 1. , 1. , 0.2],\n       [1. , 1. , 1. , 1. , 1. , 0.2],\n       [1. , 1. , 1. , 1. , 1. , 0.2],\n       [1. , 1. , 1. , 1. , 1. , 0.2],\n       [1. , 1. , 1. , 1. , 1. , 0.2],\n       [1. , 1. , 1. , 1. , 1. , 0.2],\n       [1. , 1. , 1. , 1. , 1. , 0.2],\n       [1. , 1. , 1. , 1. , 1. , 0.2],\n       [1. , 1. , 1. , 1. , 1. , 0.2],\n       [1. , 1. , 1. , 1. , 1. , 0.2],\n       [1. , 1. , 1. , 1. , 1. , 0.2],\n       [1. , 1. , 1. , 1. , 1. , 0.2],\n       [1. , 1. , 1. , 1. , 1. , 0.2],\n       [1. , 1. , 1. , 1. , 1. , 0.2],\n       [1. , 1. , 1. , 1. , 1. , 0.2],\n       [1. , 1. , 1. , 1. , 1. , 0.2],\n       [1. , 1. , 1. , 1. , 1. , 0.2]]), 'sy': None, 'ssigmay': None, 'z': None, 'rz': None, 'sigmaz': None, 'sz': None, 'srz': None, 'ssigmaz': None, 'sllh': None, 's2llh': None, 'J': array([[-2.24758708,  0.72210764,  0.2677906 ],\n       [ 0.55252544, -0.64747456,  0.24747456],\n       [ 2.        ,  2.        , -3.        ]]), 'xdot': array([-0.00465597, -0.01242951, -0.00151386]), 'status': 0.0, 'llh': nan, 'chi2': nan, 'res': array([0., 0., 0., 0., 0., 0., 0., 0., 0., 0., 0., 0., 0., 0., 0., 0., 0.,\n       0., 0., 0., 0., 0., 0., 0., 0., 0., 0., 0., 0., 0., 0., 0., 0., 0.,\n       0., 0., 0., 0., 0., 0., 0., 0., 0., 0., 0., 0., 0., 0., 0., 0., 0.,\n       0., 0., 0., 0., 0., 0., 0., 0., 0., 0., 0., 0., 0., 0., 0., 0., 0.,\n       0., 0., 0., 0., 0., 0., 0., 0., 0., 0., 0., 0., 0., 0., 0., 0., 0.,\n       0., 0., 0., 0., 0., 0., 0., 0., 0., 0., 0., 0., 0., 0., 0., 0., 0.,\n       0., 0., 0., 0., 0., 0., 0., 0., 0., 0., 0., 0., 0., 0., 0., 0., 0.,\n       0.]), 'sres': None, 'FIM': None, 'newton_numlinsteps': None, 'newton_numsteps': array([[0, 0]], dtype=int32), 'numsteps': array([  3,   3,   4,   5,   7,   9,  10,  12,  14,  17,  21,  26,  32,\n        39,  49,  70, 105, 155, 196, 221], dtype=int32), 'numrhsevals': array([  8,   8,   9,  10,  12,  14,  15,  18,  21,  24,  29,  35,  42,\n        50,  60,  81, 117, 168, 212, 240], dtype=int32), 'numerrtestfails': array([0, 0, 0, 0, 0, 0, 0, 0, 0, 0, 0, 0, 0, 0, 0, 0, 0, 0, 0, 0],\n      dtype=int32), 'numnonlinsolvconvfails': array([0, 0, 0, 0, 0, 0, 0, 0, 0, 0, 0, 0, 0, 0, 0, 0, 0, 0, 0, 0],\n      dtype=int32), 'order': array([2, 2, 2, 2, 2, 2, 2, 2, 3, 3, 3, 4, 5, 5, 5, 5, 5, 5, 5, 5],\n      dtype=int32), 'numstepsB': None, 'numrhsevalsB': None, 'numerrtestfailsB': None, 'numnonlinsolvconvfailsB': None}\n"
     ]
    }
   ],
   "source": [
    "# load model\n",
    "sys.path.insert(0, model_output_dir)\n",
    "import model_steadystate_scaled as modelModule\n",
    "\n",
    "model = modelModule.getModel()\n",
    "model.setTimepoints(amici.DoubleVector(np.logspace(-5, 1, 20))) \n",
    "solver = model.getSolver()\n",
    "rdata = amici.runAmiciSimulation(model, solver)\n",
    "\n",
    "default_parameters = np.array(model.getParameters())\n",
    "print(default_parameters)\n",
    "print(rdata)\n",
    "\n",
    "plotStateTrajectories(rdata)\n",
    "plotObservableTrajectories(rdata)\n"
   ]
  },
  {
   "cell_type": "markdown",
   "metadata": {},
   "source": [
    "## Create in silico experimental data for parameter estimation\n",
    "\n",
    "- Simulate time-course for four different conditions\n",
    "- Add gaussian noise according to selected sigma parameter\n",
    "- Mimic 2 experimental batches: odd-numbered condition indices and even-numbered conditions have different offset parameter"
   ]
  },
  {
   "cell_type": "code",
   "execution_count": 8,
   "metadata": {
    "collapsed": true
   },
   "outputs": [
    {
     "name": "stdout",
     "output_type": "stream",
     "text": [
      "true_parameters: [1.  0.5 0.4 2.  0.1 2.  3.  0.2 4. ]\nDefault parameters:  [1.  0.5 0.4 2.  0.1 2.  3.  0.2]\nCondition 0: [1.]\n[[0.1 0.1 0.1 0.1 0.1 nan]\n [0.1 0.1 0.1 0.1 0.1 nan]\n [0.1 0.1 0.1 0.1 0.1 nan]\n [0.1 0.1 0.1 0.1 0.1 nan]\n [0.1 0.1 0.1 0.1 0.1 nan]\n [0.1 0.1 0.1 0.1 0.1 nan]\n [0.1 0.1 0.1 0.1 0.1 nan]\n [0.1 0.1 0.1 0.1 0.1 nan]\n [0.1 0.1 0.1 0.1 0.1 nan]\n [0.1 0.1 0.1 0.1 0.1 nan]\n [0.1 0.1 0.1 0.1 0.1 nan]\n [0.1 0.1 0.1 0.1 0.1 nan]\n [0.1 0.1 0.1 0.1 0.1 nan]\n [0.1 0.1 0.1 0.1 0.1 nan]\n [0.1 0.1 0.1 0.1 0.1 nan]\n [0.1 0.1 0.1 0.1 0.1 nan]\n [0.1 0.1 0.1 0.1 0.1 nan]\n [0.1 0.1 0.1 0.1 0.1 nan]\n [0.1 0.1 0.1 0.1 0.1 nan]\n [0.1 0.1 0.1 0.1 0.1 nan]]\n[[ 0.59131709 -0.23525747  0.03828265 -0.04620327  0.01657428 -1.59331095]\n [ 1.45636204  0.24905557 -0.10839954  0.35999034 -0.01130509 -1.98816804]\n [ 0.36629037  0.25580826 -0.09299778  0.84616307 -0.03294688  1.84587916]\n [-0.15016146  0.12266558 -0.10981467 -0.02973694 -0.03316041  2.45183975]\n [ 2.03497546  0.09260229 -0.04850366  0.52182679  0.06699882 -0.82217929]\n [ 0.86086612 -0.31951084 -0.00984856  0.05560091 -0.01160211  1.7749666 ]\n [ 1.05222422  0.02713766  0.00650516 -0.36551328  0.05850982 -1.28060769]\n [-0.66679313  0.24656453  0.04815636 -0.32891011 -0.03060381  2.24596747]\n [-1.03330521 -0.20791035  0.14438208 -0.38173202  0.05010294 -4.17795252]\n [-0.54672704 -0.25759506  0.06802515 -0.06488911 -0.0423875   1.1319958 ]\n [-1.02464996 -0.40317102 -0.04376475  0.03613907 -0.02066889 -0.95866111]\n [-0.42943735 -0.22755098  0.10412316  0.1713408  -0.01963402  0.97121821]\n [-0.17747537  0.27934457  0.08334621 -0.02028961 -0.02840431  0.60364407]\n [-0.40484192  0.13843853 -0.44506798 -0.07465017 -0.03035922 -0.51696477]\n [ 0.28125674  0.02309218 -0.10300608  0.04113681  0.04462909  0.05541237]\n [-0.11762665  0.02181897  0.07962517 -0.18772222  0.03004235 -0.06361933]\n [ 0.1968191  -0.01824732 -0.14114305  0.06007217 -0.0322238  -0.65163984]\n [ 0.0234195  -0.13037573  2.07332813  0.08608214  0.01333236 -0.38801111]\n [ 0.23198929  0.1997765  -3.65104734 -0.01435742 -0.00426448  0.27578164]\n [ 0.08346114  0.05385235  0.48056925 -0.11134455 -0.0069462   0.05219446]]\n\tllh:  0.0\n\tsllh [0. 0. 0. 0. 0. 0. 0. 0.]\nCondition 1: [1.1]\n[[0.1 0.1 0.1 0.1 0.1 nan]\n [0.1 0.1 0.1 0.1 0.1 nan]\n [0.1 0.1 0.1 0.1 0.1 nan]\n [0.1 0.1 0.1 0.1 0.1 nan]\n [0.1 0.1 0.1 0.1 0.1 nan]\n [0.1 0.1 0.1 0.1 0.1 nan]\n [0.1 0.1 0.1 0.1 0.1 nan]\n [0.1 0.1 0.1 0.1 0.1 nan]\n [0.1 0.1 0.1 0.1 0.1 nan]\n [0.1 0.1 0.1 0.1 0.1 nan]\n [0.1 0.1 0.1 0.1 0.1 nan]\n [0.1 0.1 0.1 0.1 0.1 nan]\n [0.1 0.1 0.1 0.1 0.1 nan]\n [0.1 0.1 0.1 0.1 0.1 nan]\n [0.1 0.1 0.1 0.1 0.1 nan]\n [0.1 0.1 0.1 0.1 0.1 nan]\n [0.1 0.1 0.1 0.1 0.1 nan]\n [0.1 0.1 0.1 0.1 0.1 nan]\n [0.1 0.1 0.1 0.1 0.1 nan]\n [0.1 0.1 0.1 0.1 0.1 nan]]\n[[-8.43028859e-01 -1.96992933e-01  8.11004027e-02  3.51048356e-01\n   3.82123824e-03 -2.18683099e+00]\n [-4.77831427e-01 -4.22560437e-01 -1.23881294e-01 -2.15463719e-01\n  -5.08180023e-03 -1.83341122e+00]\n [ 2.69363817e-01 -8.38202177e-02 -1.08446343e-01  3.62359626e-01\n   4.12003634e-02  1.20115702e+00]\n [ 1.55949145e+00  7.97353672e-02  5.66128762e-02 -5.26177672e-01\n   7.56356913e-03 -3.10333816e+00]\n [-2.80104126e-01  8.27116787e-01 -9.95491138e-02  7.22848328e-01\n   2.31283119e-02  8.14945484e-02]\n [-1.31939692e+00  7.66327288e-02  7.81242642e-02 -6.23787469e-01\n  -1.30519754e-02  2.02031229e+00]\n [ 1.25085570e+00 -4.37890890e-01  1.71300298e-01  6.81991742e-01\n  -9.04975091e-03  6.29949058e-02]\n [-4.03827555e-01 -1.92557469e-02  4.66627843e-02  1.06907203e+00\n  -6.98861988e-03 -5.15142945e+00]\n [ 1.04580542e+00 -5.24553271e-01  9.06161921e-02 -4.33390860e-01\n  -9.08604943e-03 -1.94836985e+00]\n [-1.64206918e+00 -1.77634379e-01  1.39164121e-01 -5.96076105e-01\n   2.83633512e-02 -1.46085364e+00]\n [-4.75102027e-01  2.64369702e-01 -2.56544314e-02 -5.90797578e-02\n   5.50312529e-03 -1.05311668e+00]\n [ 1.82825792e+00  2.41103964e-01  9.54952352e-02 -7.10694095e-02\n  -6.24735454e-02 -1.85195563e+00]\n [-4.50638668e-02  1.49750154e-01  4.34591393e-02 -1.37206818e-01\n  -9.55864315e-03  8.69250572e-01]\n [ 4.24669508e-01  1.76744224e-01  3.44503858e-01 -2.99895582e-02\n  -3.49215870e-02 -3.70565326e-02]\n [-1.33404453e-01 -9.36916135e-02 -2.93196971e-02  5.00750376e-02\n   4.34132780e-03 -3.10926890e-01]\n [-1.42425541e-02  1.66396138e-02 -4.36789756e-01  1.85786395e-01\n  -3.34091677e-02  3.50562126e-01]\n [-6.25107220e-02 -4.14259613e-02  3.84948277e+00  1.22022180e-01\n   6.21282559e-03 -7.20261166e-02]\n [-3.31416189e-02 -7.76803079e-02 -5.58662296e-01 -7.01673561e-02\n  -5.23713904e-03 -4.24270271e-01]\n [ 3.30325760e-01  2.80098933e-01 -1.83997580e-01 -2.90046025e-02\n  -2.48569124e-02  4.83142051e-01]\n [ 1.78021994e-01 -6.48677180e-02  1.75292482e+00  5.97832607e-02\n   2.32984796e-02  5.92259817e-01]]\n\tllh:  0.0\n\tsllh [0. 0. 0. 0. 0. 0. 0. 0.]\nCondition 2: [1.2]\n[[0.1 0.1 0.1 0.1 0.1 nan]\n [0.1 0.1 0.1 0.1 0.1 nan]\n [0.1 0.1 0.1 0.1 0.1 nan]\n [0.1 0.1 0.1 0.1 0.1 nan]\n [0.1 0.1 0.1 0.1 0.1 nan]\n [0.1 0.1 0.1 0.1 0.1 nan]\n [0.1 0.1 0.1 0.1 0.1 nan]\n [0.1 0.1 0.1 0.1 0.1 nan]\n [0.1 0.1 0.1 0.1 0.1 nan]\n [0.1 0.1 0.1 0.1 0.1 nan]\n [0.1 0.1 0.1 0.1 0.1 nan]\n [0.1 0.1 0.1 0.1 0.1 nan]\n [0.1 0.1 0.1 0.1 0.1 nan]\n [0.1 0.1 0.1 0.1 0.1 nan]\n [0.1 0.1 0.1 0.1 0.1 nan]\n [0.1 0.1 0.1 0.1 0.1 nan]\n [0.1 0.1 0.1 0.1 0.1 nan]\n [0.1 0.1 0.1 0.1 0.1 nan]\n [0.1 0.1 0.1 0.1 0.1 nan]\n [0.1 0.1 0.1 0.1 0.1 nan]]\n[[ 1.16265994e+00  1.56439778e-01 -2.18768014e-01 -1.98983133e-01\n   6.68826256e-02 -2.00630051e+00]\n [ 1.10340413e+00  3.47062754e-01  8.86834533e-02  6.64506270e-01\n   1.90682073e-02 -2.66372514e+00]\n [ 2.87005175e-01  1.50146306e-01 -9.33812743e-02 -3.00522357e-01\n  -1.30671913e-02  1.31806477e+00]\n [ 5.81462894e-01 -1.66709464e-01 -2.52890898e-01  4.58443914e-01\n   2.47635748e-03  6.77624581e-01]\n [ 1.03634746e+00 -1.13514459e-01  7.07569259e-02 -3.31734809e-01\n   4.34339191e-04  2.41768357e+00]\n [ 2.39288258e-01 -1.30085548e-01  1.77342680e-01  1.72167381e-01\n   5.46659512e-03 -5.34278289e-01]\n [-7.81237729e-02 -8.58813555e-02 -3.46799481e-02  1.20719173e+00\n  -6.72519447e-03 -7.69201621e-01]\n [ 2.86763842e-01  3.08663260e-01 -1.31832406e-01  1.30816482e-01\n  -3.35302893e-02 -1.88706670e+00]\n [-2.39981232e-01  1.11223907e-02 -7.07804664e-02  3.86381037e-01\n  -4.49447477e-03  2.68560553e-01]\n [ 1.33361492e+00 -1.64075708e-01  7.04488910e-02 -4.32951082e-01\n   7.27664174e-03  1.54264478e+00]\n [-1.08799388e+00 -1.23589534e-01 -2.20806353e-01 -5.99165188e-01\n   3.39486142e-02  1.95427262e+00]\n [-7.99198236e-01  9.66900499e-02 -7.07548865e-02  2.60687834e-01\n   1.85835986e-02 -1.74662755e-01]\n [ 3.96719754e-01  9.77131932e-02 -2.48848969e-02 -1.01952999e-01\n   9.61902018e-03 -1.27660919e-01]\n [ 7.98772038e-02  1.36659866e-01  1.73907773e-03  9.79842450e-02\n   3.96837864e-02 -7.07332280e-01]\n [ 1.96484690e-02  1.81476608e-01  7.82300299e-02  4.30420808e-02\n  -2.60504263e-02  1.10987033e+00]\n [ 3.06346461e-01 -1.93178236e-02 -5.08142063e-01 -6.60039729e-02\n   7.47359590e-02 -3.28682870e-01]\n [-1.22408405e-01  7.08219161e-02 -1.56804912e+00  2.60829617e-02\n  -5.04065641e-03 -5.94883615e-01]\n [ 1.02997612e-01  1.10957641e-01  6.06344101e-01 -1.58109171e-03\n  -2.20727579e-03 -7.20252197e-01]\n [ 2.40097774e-01 -1.04750127e-01  4.13635437e-01  5.75924618e-02\n  -2.81131287e-03  8.62487928e-02]\n [ 1.55273527e-01 -3.87127327e-01 -4.66101575e+00  1.72435555e-02\n  -4.72295485e-02 -1.39094375e-01]]\n\tllh:  0.0\n\tsllh [0. 0. 0. 0. 0. 0. 0. 0.]\nCondition 3: [1.3]\n[[0.1 0.1 0.1 0.1 0.1 nan]\n [0.1 0.1 0.1 0.1 0.1 nan]\n [0.1 0.1 0.1 0.1 0.1 nan]\n [0.1 0.1 0.1 0.1 0.1 nan]\n [0.1 0.1 0.1 0.1 0.1 nan]\n [0.1 0.1 0.1 0.1 0.1 nan]\n [0.1 0.1 0.1 0.1 0.1 nan]\n [0.1 0.1 0.1 0.1 0.1 nan]\n [0.1 0.1 0.1 0.1 0.1 nan]\n [0.1 0.1 0.1 0.1 0.1 nan]\n [0.1 0.1 0.1 0.1 0.1 nan]\n [0.1 0.1 0.1 0.1 0.1 nan]\n [0.1 0.1 0.1 0.1 0.1 nan]\n [0.1 0.1 0.1 0.1 0.1 nan]\n [0.1 0.1 0.1 0.1 0.1 nan]\n [0.1 0.1 0.1 0.1 0.1 nan]\n [0.1 0.1 0.1 0.1 0.1 nan]\n [0.1 0.1 0.1 0.1 0.1 nan]\n [0.1 0.1 0.1 0.1 0.1 nan]\n [0.1 0.1 0.1 0.1 0.1 nan]]\n[[-1.66507968e+00 -3.17752267e-02  3.79491696e-02 -5.19994058e-01\n  -2.82339040e-02 -3.26396210e+00]\n [-1.46251202e+00  3.82698731e-01  7.23343748e-03  7.89650890e-01\n   2.13595034e-02 -1.69449792e+00]\n [-9.41510731e-01 -2.11847588e-02  3.58033313e-02 -6.08369078e-01\n  -1.40531039e-02  3.67162534e-01]\n [-9.35182417e-01 -6.02197285e-02 -6.46139898e-02 -2.84866175e-01\n   7.54980317e-03 -5.84941835e-01]\n [-1.53024735e+00  1.02286500e-01 -7.61064238e-02  1.57833232e-01\n   2.91183184e-03  1.31853393e-01]\n [ 3.11536284e-01  3.88973568e-01  9.05096861e-02 -1.58811244e-01\n   2.52881788e-02  3.35939321e-01]\n [-6.89053353e-01  2.15058758e-01  1.61699166e-01  7.62330608e-01\n  -5.10814544e-02  1.68370801e+00]\n [-2.83525630e-01 -2.61145422e-02  1.83686596e-01 -1.69364159e-01\n   1.24485476e-02  4.51735160e-01]\n [-3.09816337e-01 -3.99430836e-01 -1.57383152e-01 -3.21637521e-01\n  -2.08430676e-02 -7.82711637e-01]\n [ 7.36566509e-01 -1.54015127e-01  4.98002002e-02  7.57003694e-01\n   3.80123000e-02 -2.46392367e+00]\n [-4.53185804e-01 -1.23969176e-01 -1.14293727e-01  1.05486853e+00\n   7.08580793e-03 -3.09208845e+00]\n [ 2.35093684e-01 -7.65162457e-02  9.19680317e-02 -3.93498610e-01\n  -9.51732452e-03  1.11037078e+00]\n [-5.62932028e-01  9.86381591e-02  1.83046437e-01 -3.69978038e-01\n   1.02017014e-03 -6.16137083e-01]\n [ 2.19215268e-03  4.05653800e-02  1.25619951e-01 -9.67110558e-02\n  -6.26319672e-03 -4.03668084e-01]\n [ 7.53593900e-01 -3.73423790e-01  5.60456823e-01 -1.35505370e-01\n   2.10065492e-02  3.61733700e-02]\n [-2.50919024e-01 -1.38273972e-01  2.03371416e+00 -6.74695015e-02\n   1.47999862e-02  4.69763661e-01]\n [-1.23153071e-01 -8.92282462e-03 -5.22222969e-01 -1.13431630e-02\n  -7.35174611e-03  1.69451714e-01]\n [-1.57164884e-02  9.61059345e-02 -1.43256300e+00  2.96678583e-02\n   5.29663949e-03 -4.06096319e-01]\n [-1.89625941e-01  7.31819372e-02  2.40236964e+00  5.15458840e-02\n   5.71782130e-02 -7.16133448e-01]\n [ 5.03831423e-02  3.95161708e-02  1.46134907e+00 -1.03312788e-01\n  -4.26042336e-03 -6.66951078e-01]]\n\tllh:  0.0\n\tsllh [0. 0. 0. 0. 0. 0. 0. 0.]\nExpected llh:  0.0\n"
     ]
    }
   ],
   "source": [
    "from pandas import DataFrame\n",
    "\n",
    "expectedLlh = 0.0\n",
    "sigma_default = 0.1 # parameters are lin\n",
    "sigma_parameter = 0.2\n",
    "offset_batch_1 = 3.0\n",
    "offset_batch_2 = 4.0\n",
    "offsetted_observable_idx = 4\n",
    "sigma_parameter_observable_idx = 5\n",
    "model_offset_parameter_idx = 6\n",
    "sigma_parameter_idx = 7\n",
    "timepoints = np.logspace(-5, 1, 20)\n",
    "\n",
    "model = modelModule.getModel()\n",
    "default_parameters = np.array(model.getParameters())\n",
    "default_parameters[sigma_parameter_idx] = sigma_parameter\n",
    "true_parameters = default_parameters.copy()\n",
    "true_parameters = np.append(true_parameters, offset_batch_2) # add second offset parameter\n",
    "print('true_parameters: %s' % true_parameters)\n",
    "\n",
    "def createData():\n",
    "    # setup model & solver\n",
    "    model = modelModule.getModel()\n",
    "    model.setTimepoints(amici.DoubleVector(timepoints))\n",
    "    model.setParameters(amici.DoubleVector(default_parameters))\n",
    "    print('Default parameters: ', default_parameters)\n",
    "    \n",
    "    solver = model.getSolver()\n",
    "    solver.setMaxSteps(10000)\n",
    "\n",
    "    # generate conditon-vectors\n",
    "    conditions = [np.array(model.getFixedParameters())]\n",
    "    conditions.append(conditions[0] * 1.1)\n",
    "    conditions.append(conditions[0] * 1.2)\n",
    "    conditions.append(conditions[0] * 1.3)\n",
    "\n",
    "    conditionDf = createConditionDataframe(fixed_parameters, conditions)\n",
    "    \n",
    "    df = pd.DataFrame(data={\n",
    "        'observable': [],\n",
    "        'condition': [],\n",
    "        'conditionRef': [],\n",
    "        'scalingParameter': [],\n",
    "        'time': [],\n",
    "        'measurement': [],\n",
    "        'sigma': []\n",
    "    })\n",
    "\n",
    "    global expectedLlh\n",
    "    for icondition, condition in enumerate(conditions):      \n",
    "        print('Condition %d: %s' % (icondition, condition))\n",
    "        \n",
    "        # different offset for two \"batches\"\n",
    "        batch_id = icondition % 2\n",
    "        if batch_id == 0:\n",
    "            simulationParameters = default_parameters\n",
    "            simulationParameters[model_offset_parameter_idx] = offset_batch_1\n",
    "        else:\n",
    "            simulationParameters = default_parameters\n",
    "            simulationParameters[model_offset_parameter_idx] = offset_batch_2\n",
    "        \n",
    "        sigmay = np.ones(shape=(model.nt(), model.nytrue)) * sigma_default\n",
    "        sigmay[:, sigma_parameter_observable_idx] = np.nan # observable with sigma parameter\n",
    "        \n",
    "        # simulate condition\n",
    "        rdata = getReturnDataForCondition(model, solver, condition, simulationParameters, sigmay)\n",
    "        \n",
    "        print('\\tllh: ', rdata['llh'])\n",
    "        print('\\tsllh', rdata['sllh'])\n",
    "\n",
    "        expectedLlh += rdata['llh']\n",
    "        \n",
    "        conditionName = 'condition-%d' % icondition\n",
    "        \n",
    "        # Append data\n",
    "        for iy, observableName in enumerate(observables.keys()):\n",
    "            scalingParameter = [''] \n",
    "            sigma = sigmay[:, iy]\n",
    "            \n",
    "            if observableName == 'observable_x1_scaled':\n",
    "                #scalingParameter = ['scaling_x1_%s' % conditionName]\n",
    "                scalingParameter = ['scaling_x1_common']\n",
    "            elif observableName == 'observable_x2_offsetted':\n",
    "                #scalingParameter = ['offset_x2_%s' % conditionName]\n",
    "                #scalingParameter = ['offset_x2_common']\n",
    "                scalingParameter = ['offset_x2_batch-%d' % batch_id]\n",
    "            elif observableName == 'observable_x1withsigma':\n",
    "                #scalingParameter = ['observable_x1withsigma_sigma_%s' % conditionName]\n",
    "                scalingParameter = ['observable_x1withsigma_sigma_common']\n",
    "            \n",
    "            df = df.append(pd.DataFrame(\n",
    "            {'observable'      : [observableName] * model.nt(),\n",
    "             'condition'       : [conditionName]  * model.nt(),\n",
    "             'conditionRef'    : ['']  * model.nt(),\n",
    "             'scalingParameter': scalingParameter * model.nt(),\n",
    "             'time'            : np.array(model.getTimepoints()),\n",
    "             'measurement'     : rdata['y'][:, iy],\n",
    "             'sigma'           : sigma\n",
    "             }), ignore_index=True)\n",
    "    print('Expected llh: ', expectedLlh)\n",
    "            \n",
    "    return df, conditionDf\n",
    "\n",
    "\n",
    "def createConditionDataframe(fixed_parameters, conditions):\n",
    "    \"\"\"Create dataframe with fixed-parameters for each condition to simulate\"\"\"\n",
    "    conditionDf = pd.DataFrame(index = fixed_parameters)\n",
    "    conditionDf['ID'] = conditionDf.index\n",
    "    for icondition, condition in enumerate(conditions):\n",
    "        conditionDf['condition-%d' % icondition] = condition\n",
    "    \n",
    "    return conditionDf\n",
    "\n",
    "\n",
    "def getReturnDataForCondition(model, solver, condition, simulationParameters, sigmay):\n",
    "    model.setParameters(amici.DoubleVector(simulationParameters))\n",
    "    \n",
    "    # simulate without measurements\n",
    "    edata = amici.ExpData(model.get())\n",
    "    edata.fixedParameters = amici.DoubleVector(condition)\n",
    "    edata.my = amici.DoubleVector(np.full(shape=model.nt() * model.nytrue, fill_value=np.nan))\n",
    "    rdata = amici.runAmiciSimulation(model, solver, edata)        \n",
    "    # fixedParametersPreequilibration = \n",
    "\n",
    "    # confirm gradient is 0 for real measurements and save expected llh\n",
    "    measurement = rdata['y']\n",
    "    measurement = np.random.normal(loc=rdata['y'], scale=sigmay)\n",
    "    print(sigmay)\n",
    "    measurement[:, sigma_parameter_observable_idx] = np.random.normal(\n",
    "        loc=rdata['y'][:, sigma_parameter_observable_idx], \n",
    "        scale=simulationParameters[sigma_parameter_idx])\n",
    "    print((measurement-rdata['y'])/rdata['y'])\n",
    "\n",
    "    edata.my = amici.DoubleVector(measurement.flatten())\n",
    "    edata.sigmay = amici.DoubleVector(sigmay.flatten())\n",
    "    solver.setSensitivityMethod(1)\n",
    "    solver.setSensitivityOrder(1)\n",
    "    model.requireSensitivitiesForAllParameters()\n",
    "    rdata = amici.runAmiciSimulation(model, solver, edata)\n",
    "    # return generated noisy measurents\n",
    "    rdata['y'] = measurement\n",
    "    return rdata\n",
    "\n",
    "df: DataFrame\n",
    "df, conditionDf = createData()"
   ]
  },
  {
   "cell_type": "code",
   "execution_count": 9,
   "metadata": {},
   "outputs": [
    {
     "data": {
      "text/html": [
       "<div>\n",
       "<style scoped>\n",
       "    .dataframe tbody tr th:only-of-type {\n",
       "        vertical-align: middle;\n",
       "    }\n",
       "\n",
       "    .dataframe tbody tr th {\n",
       "        vertical-align: top;\n",
       "    }\n",
       "\n",
       "    .dataframe thead th {\n",
       "        text-align: right;\n",
       "    }\n",
       "</style>\n",
       "<table border=\"1\" class=\"dataframe\">\n",
       "  <thead>\n",
       "    <tr style=\"text-align: right;\">\n",
       "      <th></th>\n",
       "      <th>observable</th>\n",
       "      <th>condition</th>\n",
       "      <th>conditionRef</th>\n",
       "      <th>scalingParameter</th>\n",
       "      <th>time</th>\n",
       "      <th>measurement</th>\n",
       "      <th>sigma</th>\n",
       "    </tr>\n",
       "  </thead>\n",
       "  <tbody>\n",
       "    <tr>\n",
       "      <th>0</th>\n",
       "      <td>observable_x1</td>\n",
       "      <td>condition-0</td>\n",
       "      <td></td>\n",
       "      <td></td>\n",
       "      <td>0.000010</td>\n",
       "      <td>0.143156</td>\n",
       "      <td>0.1</td>\n",
       "    </tr>\n",
       "    <tr>\n",
       "      <th>1</th>\n",
       "      <td>observable_x1</td>\n",
       "      <td>condition-0</td>\n",
       "      <td></td>\n",
       "      <td></td>\n",
       "      <td>0.000021</td>\n",
       "      <td>0.003320</td>\n",
       "      <td>0.1</td>\n",
       "    </tr>\n",
       "    <tr>\n",
       "      <th>2</th>\n",
       "      <td>observable_x1</td>\n",
       "      <td>condition-0</td>\n",
       "      <td></td>\n",
       "      <td></td>\n",
       "      <td>0.000043</td>\n",
       "      <td>0.071796</td>\n",
       "      <td>0.1</td>\n",
       "    </tr>\n",
       "    <tr>\n",
       "      <th>3</th>\n",
       "      <td>observable_x1</td>\n",
       "      <td>condition-0</td>\n",
       "      <td></td>\n",
       "      <td></td>\n",
       "      <td>0.000089</td>\n",
       "      <td>0.079452</td>\n",
       "      <td>0.1</td>\n",
       "    </tr>\n",
       "    <tr>\n",
       "      <th>4</th>\n",
       "      <td>observable_x1</td>\n",
       "      <td>condition-0</td>\n",
       "      <td></td>\n",
       "      <td></td>\n",
       "      <td>0.000183</td>\n",
       "      <td>0.060231</td>\n",
       "      <td>0.1</td>\n",
       "    </tr>\n",
       "    <tr>\n",
       "      <th>5</th>\n",
       "      <td>observable_x1</td>\n",
       "      <td>condition-0</td>\n",
       "      <td></td>\n",
       "      <td></td>\n",
       "      <td>0.000379</td>\n",
       "      <td>0.082168</td>\n",
       "      <td>0.1</td>\n",
       "    </tr>\n",
       "    <tr>\n",
       "      <th>6</th>\n",
       "      <td>observable_x1</td>\n",
       "      <td>condition-0</td>\n",
       "      <td></td>\n",
       "      <td></td>\n",
       "      <td>0.000785</td>\n",
       "      <td>0.035860</td>\n",
       "      <td>0.1</td>\n",
       "    </tr>\n",
       "    <tr>\n",
       "      <th>7</th>\n",
       "      <td>observable_x1</td>\n",
       "      <td>condition-0</td>\n",
       "      <td></td>\n",
       "      <td></td>\n",
       "      <td>0.001624</td>\n",
       "      <td>0.177077</td>\n",
       "      <td>0.1</td>\n",
       "    </tr>\n",
       "    <tr>\n",
       "      <th>8</th>\n",
       "      <td>observable_x1</td>\n",
       "      <td>condition-0</td>\n",
       "      <td></td>\n",
       "      <td></td>\n",
       "      <td>0.003360</td>\n",
       "      <td>0.081296</td>\n",
       "      <td>0.1</td>\n",
       "    </tr>\n",
       "    <tr>\n",
       "      <th>9</th>\n",
       "      <td>observable_x1</td>\n",
       "      <td>condition-0</td>\n",
       "      <td></td>\n",
       "      <td></td>\n",
       "      <td>0.006952</td>\n",
       "      <td>0.274770</td>\n",
       "      <td>0.1</td>\n",
       "    </tr>\n",
       "    <tr>\n",
       "      <th>10</th>\n",
       "      <td>observable_x1</td>\n",
       "      <td>condition-0</td>\n",
       "      <td></td>\n",
       "      <td></td>\n",
       "      <td>0.014384</td>\n",
       "      <td>-0.011865</td>\n",
       "      <td>0.1</td>\n",
       "    </tr>\n",
       "    <tr>\n",
       "      <th>11</th>\n",
       "      <td>observable_x1</td>\n",
       "      <td>condition-0</td>\n",
       "      <td></td>\n",
       "      <td></td>\n",
       "      <td>0.029764</td>\n",
       "      <td>0.292147</td>\n",
       "      <td>0.1</td>\n",
       "    </tr>\n",
       "    <tr>\n",
       "      <th>12</th>\n",
       "      <td>observable_x1</td>\n",
       "      <td>condition-0</td>\n",
       "      <td></td>\n",
       "      <td></td>\n",
       "      <td>0.061585</td>\n",
       "      <td>0.172034</td>\n",
       "      <td>0.1</td>\n",
       "    </tr>\n",
       "    <tr>\n",
       "      <th>13</th>\n",
       "      <td>observable_x1</td>\n",
       "      <td>condition-0</td>\n",
       "      <td></td>\n",
       "      <td></td>\n",
       "      <td>0.127427</td>\n",
       "      <td>0.323681</td>\n",
       "      <td>0.1</td>\n",
       "    </tr>\n",
       "    <tr>\n",
       "      <th>14</th>\n",
       "      <td>observable_x1</td>\n",
       "      <td>condition-0</td>\n",
       "      <td></td>\n",
       "      <td></td>\n",
       "      <td>0.263665</td>\n",
       "      <td>0.373646</td>\n",
       "      <td>0.1</td>\n",
       "    </tr>\n",
       "    <tr>\n",
       "      <th>15</th>\n",
       "      <td>observable_x1</td>\n",
       "      <td>condition-0</td>\n",
       "      <td></td>\n",
       "      <td></td>\n",
       "      <td>0.545559</td>\n",
       "      <td>0.658742</td>\n",
       "      <td>0.1</td>\n",
       "    </tr>\n",
       "    <tr>\n",
       "      <th>16</th>\n",
       "      <td>observable_x1</td>\n",
       "      <td>condition-0</td>\n",
       "      <td></td>\n",
       "      <td></td>\n",
       "      <td>1.128838</td>\n",
       "      <td>0.640663</td>\n",
       "      <td>0.1</td>\n",
       "    </tr>\n",
       "    <tr>\n",
       "      <th>17</th>\n",
       "      <td>observable_x1</td>\n",
       "      <td>condition-0</td>\n",
       "      <td></td>\n",
       "      <td></td>\n",
       "      <td>2.335721</td>\n",
       "      <td>0.573930</td>\n",
       "      <td>0.1</td>\n",
       "    </tr>\n",
       "    <tr>\n",
       "      <th>18</th>\n",
       "      <td>observable_x1</td>\n",
       "      <td>condition-0</td>\n",
       "      <td></td>\n",
       "      <td></td>\n",
       "      <td>4.832930</td>\n",
       "      <td>0.535961</td>\n",
       "      <td>0.1</td>\n",
       "    </tr>\n",
       "    <tr>\n",
       "      <th>19</th>\n",
       "      <td>observable_x1</td>\n",
       "      <td>condition-0</td>\n",
       "      <td></td>\n",
       "      <td></td>\n",
       "      <td>10.000000</td>\n",
       "      <td>0.560859</td>\n",
       "      <td>0.1</td>\n",
       "    </tr>\n",
       "    <tr>\n",
       "      <th>20</th>\n",
       "      <td>observable_x2</td>\n",
       "      <td>condition-0</td>\n",
       "      <td></td>\n",
       "      <td></td>\n",
       "      <td>0.000010</td>\n",
       "      <td>0.401031</td>\n",
       "      <td>0.1</td>\n",
       "    </tr>\n",
       "    <tr>\n",
       "      <th>21</th>\n",
       "      <td>observable_x2</td>\n",
       "      <td>condition-0</td>\n",
       "      <td></td>\n",
       "      <td></td>\n",
       "      <td>0.000021</td>\n",
       "      <td>0.606293</td>\n",
       "      <td>0.1</td>\n",
       "    </tr>\n",
       "    <tr>\n",
       "      <th>22</th>\n",
       "      <td>observable_x2</td>\n",
       "      <td>condition-0</td>\n",
       "      <td></td>\n",
       "      <td></td>\n",
       "      <td>0.000043</td>\n",
       "      <td>0.446913</td>\n",
       "      <td>0.1</td>\n",
       "    </tr>\n",
       "    <tr>\n",
       "      <th>23</th>\n",
       "      <td>observable_x2</td>\n",
       "      <td>condition-0</td>\n",
       "      <td></td>\n",
       "      <td></td>\n",
       "      <td>0.000089</td>\n",
       "      <td>0.425855</td>\n",
       "      <td>0.1</td>\n",
       "    </tr>\n",
       "    <tr>\n",
       "      <th>24</th>\n",
       "      <td>observable_x2</td>\n",
       "      <td>condition-0</td>\n",
       "      <td></td>\n",
       "      <td></td>\n",
       "      <td>0.000183</td>\n",
       "      <td>0.402895</td>\n",
       "      <td>0.1</td>\n",
       "    </tr>\n",
       "    <tr>\n",
       "      <th>25</th>\n",
       "      <td>observable_x2</td>\n",
       "      <td>condition-0</td>\n",
       "      <td></td>\n",
       "      <td></td>\n",
       "      <td>0.000379</td>\n",
       "      <td>0.490485</td>\n",
       "      <td>0.1</td>\n",
       "    </tr>\n",
       "    <tr>\n",
       "      <th>26</th>\n",
       "      <td>observable_x2</td>\n",
       "      <td>condition-0</td>\n",
       "      <td></td>\n",
       "      <td></td>\n",
       "      <td>0.000785</td>\n",
       "      <td>0.343836</td>\n",
       "      <td>0.1</td>\n",
       "    </tr>\n",
       "    <tr>\n",
       "      <th>27</th>\n",
       "      <td>observable_x2</td>\n",
       "      <td>condition-0</td>\n",
       "      <td></td>\n",
       "      <td></td>\n",
       "      <td>0.001624</td>\n",
       "      <td>0.344322</td>\n",
       "      <td>0.1</td>\n",
       "    </tr>\n",
       "    <tr>\n",
       "      <th>28</th>\n",
       "      <td>observable_x2</td>\n",
       "      <td>condition-0</td>\n",
       "      <td></td>\n",
       "      <td></td>\n",
       "      <td>0.003360</td>\n",
       "      <td>0.486994</td>\n",
       "      <td>0.1</td>\n",
       "    </tr>\n",
       "    <tr>\n",
       "      <th>29</th>\n",
       "      <td>observable_x2</td>\n",
       "      <td>condition-0</td>\n",
       "      <td></td>\n",
       "      <td></td>\n",
       "      <td>0.006952</td>\n",
       "      <td>0.326144</td>\n",
       "      <td>0.1</td>\n",
       "    </tr>\n",
       "    <tr>\n",
       "      <th>...</th>\n",
       "      <td>...</td>\n",
       "      <td>...</td>\n",
       "      <td>...</td>\n",
       "      <td>...</td>\n",
       "      <td>...</td>\n",
       "      <td>...</td>\n",
       "      <td>...</td>\n",
       "    </tr>\n",
       "    <tr>\n",
       "      <th>450</th>\n",
       "      <td>observable_x2_offsetted</td>\n",
       "      <td>condition-3</td>\n",
       "      <td></td>\n",
       "      <td>offset_x2_batch-1</td>\n",
       "      <td>0.014384</td>\n",
       "      <td>4.492122</td>\n",
       "      <td>0.1</td>\n",
       "    </tr>\n",
       "    <tr>\n",
       "      <th>451</th>\n",
       "      <td>observable_x2_offsetted</td>\n",
       "      <td>condition-3</td>\n",
       "      <td></td>\n",
       "      <td>offset_x2_batch-1</td>\n",
       "      <td>0.029764</td>\n",
       "      <td>4.545539</td>\n",
       "      <td>0.1</td>\n",
       "    </tr>\n",
       "    <tr>\n",
       "      <th>452</th>\n",
       "      <td>observable_x2_offsetted</td>\n",
       "      <td>condition-3</td>\n",
       "      <td></td>\n",
       "      <td>offset_x2_batch-1</td>\n",
       "      <td>0.061585</td>\n",
       "      <td>4.438870</td>\n",
       "      <td>0.1</td>\n",
       "    </tr>\n",
       "    <tr>\n",
       "      <th>453</th>\n",
       "      <td>observable_x2_offsetted</td>\n",
       "      <td>condition-3</td>\n",
       "      <td></td>\n",
       "      <td>offset_x2_batch-1</td>\n",
       "      <td>0.127427</td>\n",
       "      <td>4.599320</td>\n",
       "      <td>0.1</td>\n",
       "    </tr>\n",
       "    <tr>\n",
       "      <th>454</th>\n",
       "      <td>observable_x2_offsetted</td>\n",
       "      <td>condition-3</td>\n",
       "      <td></td>\n",
       "      <td>offset_x2_batch-1</td>\n",
       "      <td>0.263665</td>\n",
       "      <td>4.589156</td>\n",
       "      <td>0.1</td>\n",
       "    </tr>\n",
       "    <tr>\n",
       "      <th>455</th>\n",
       "      <td>observable_x2_offsetted</td>\n",
       "      <td>condition-3</td>\n",
       "      <td></td>\n",
       "      <td>offset_x2_batch-1</td>\n",
       "      <td>0.545559</td>\n",
       "      <td>4.602309</td>\n",
       "      <td>0.1</td>\n",
       "    </tr>\n",
       "    <tr>\n",
       "      <th>456</th>\n",
       "      <td>observable_x2_offsetted</td>\n",
       "      <td>condition-3</td>\n",
       "      <td></td>\n",
       "      <td>offset_x2_batch-1</td>\n",
       "      <td>1.128838</td>\n",
       "      <td>4.694011</td>\n",
       "      <td>0.1</td>\n",
       "    </tr>\n",
       "    <tr>\n",
       "      <th>457</th>\n",
       "      <td>observable_x2_offsetted</td>\n",
       "      <td>condition-3</td>\n",
       "      <td></td>\n",
       "      <td>offset_x2_batch-1</td>\n",
       "      <td>2.335721</td>\n",
       "      <td>4.496576</td>\n",
       "      <td>0.1</td>\n",
       "    </tr>\n",
       "    <tr>\n",
       "      <th>458</th>\n",
       "      <td>observable_x2_offsetted</td>\n",
       "      <td>condition-3</td>\n",
       "      <td></td>\n",
       "      <td>offset_x2_batch-1</td>\n",
       "      <td>4.832930</td>\n",
       "      <td>4.400231</td>\n",
       "      <td>0.1</td>\n",
       "    </tr>\n",
       "    <tr>\n",
       "      <th>459</th>\n",
       "      <td>observable_x2_offsetted</td>\n",
       "      <td>condition-3</td>\n",
       "      <td></td>\n",
       "      <td>offset_x2_batch-1</td>\n",
       "      <td>10.000000</td>\n",
       "      <td>4.349309</td>\n",
       "      <td>0.1</td>\n",
       "    </tr>\n",
       "    <tr>\n",
       "      <th>460</th>\n",
       "      <td>observable_x1withsigma</td>\n",
       "      <td>condition-3</td>\n",
       "      <td></td>\n",
       "      <td>observable_x1withsigma_sigma_common</td>\n",
       "      <td>0.000010</td>\n",
       "      <td>0.009294</td>\n",
       "      <td>NaN</td>\n",
       "    </tr>\n",
       "    <tr>\n",
       "      <th>461</th>\n",
       "      <td>observable_x1withsigma</td>\n",
       "      <td>condition-3</td>\n",
       "      <td></td>\n",
       "      <td>observable_x1withsigma_sigma_common</td>\n",
       "      <td>0.000021</td>\n",
       "      <td>-0.211048</td>\n",
       "      <td>NaN</td>\n",
       "    </tr>\n",
       "    <tr>\n",
       "      <th>462</th>\n",
       "      <td>observable_x1withsigma</td>\n",
       "      <td>condition-3</td>\n",
       "      <td></td>\n",
       "      <td>observable_x1withsigma_sigma_common</td>\n",
       "      <td>0.000043</td>\n",
       "      <td>0.134637</td>\n",
       "      <td>NaN</td>\n",
       "    </tr>\n",
       "    <tr>\n",
       "      <th>463</th>\n",
       "      <td>observable_x1withsigma</td>\n",
       "      <td>condition-3</td>\n",
       "      <td></td>\n",
       "      <td>observable_x1withsigma_sigma_common</td>\n",
       "      <td>0.000089</td>\n",
       "      <td>0.319113</td>\n",
       "      <td>NaN</td>\n",
       "    </tr>\n",
       "    <tr>\n",
       "      <th>464</th>\n",
       "      <td>observable_x1withsigma</td>\n",
       "      <td>condition-3</td>\n",
       "      <td></td>\n",
       "      <td>observable_x1withsigma_sigma_common</td>\n",
       "      <td>0.000183</td>\n",
       "      <td>0.543851</td>\n",
       "      <td>NaN</td>\n",
       "    </tr>\n",
       "    <tr>\n",
       "      <th>465</th>\n",
       "      <td>observable_x1withsigma</td>\n",
       "      <td>condition-3</td>\n",
       "      <td></td>\n",
       "      <td>observable_x1withsigma_sigma_common</td>\n",
       "      <td>0.000379</td>\n",
       "      <td>-0.142673</td>\n",
       "      <td>NaN</td>\n",
       "    </tr>\n",
       "    <tr>\n",
       "      <th>466</th>\n",
       "      <td>observable_x1withsigma</td>\n",
       "      <td>condition-3</td>\n",
       "      <td></td>\n",
       "      <td>observable_x1withsigma_sigma_common</td>\n",
       "      <td>0.000785</td>\n",
       "      <td>-0.321127</td>\n",
       "      <td>NaN</td>\n",
       "    </tr>\n",
       "    <tr>\n",
       "      <th>467</th>\n",
       "      <td>observable_x1withsigma</td>\n",
       "      <td>condition-3</td>\n",
       "      <td></td>\n",
       "      <td>observable_x1withsigma_sigma_common</td>\n",
       "      <td>0.001624</td>\n",
       "      <td>0.200531</td>\n",
       "      <td>NaN</td>\n",
       "    </tr>\n",
       "    <tr>\n",
       "      <th>468</th>\n",
       "      <td>observable_x1withsigma</td>\n",
       "      <td>condition-3</td>\n",
       "      <td></td>\n",
       "      <td>observable_x1withsigma_sigma_common</td>\n",
       "      <td>0.003360</td>\n",
       "      <td>-0.019054</td>\n",
       "      <td>NaN</td>\n",
       "    </tr>\n",
       "    <tr>\n",
       "      <th>469</th>\n",
       "      <td>observable_x1withsigma</td>\n",
       "      <td>condition-3</td>\n",
       "      <td></td>\n",
       "      <td>observable_x1withsigma_sigma_common</td>\n",
       "      <td>0.006952</td>\n",
       "      <td>0.171080</td>\n",
       "      <td>NaN</td>\n",
       "    </tr>\n",
       "    <tr>\n",
       "      <th>470</th>\n",
       "      <td>observable_x1withsigma</td>\n",
       "      <td>condition-3</td>\n",
       "      <td></td>\n",
       "      <td>observable_x1withsigma_sigma_common</td>\n",
       "      <td>0.014384</td>\n",
       "      <td>-0.022818</td>\n",
       "      <td>NaN</td>\n",
       "    </tr>\n",
       "    <tr>\n",
       "      <th>471</th>\n",
       "      <td>observable_x1withsigma</td>\n",
       "      <td>condition-3</td>\n",
       "      <td></td>\n",
       "      <td>observable_x1withsigma_sigma_common</td>\n",
       "      <td>0.029764</td>\n",
       "      <td>0.255837</td>\n",
       "      <td>NaN</td>\n",
       "    </tr>\n",
       "    <tr>\n",
       "      <th>472</th>\n",
       "      <td>observable_x1withsigma</td>\n",
       "      <td>condition-3</td>\n",
       "      <td></td>\n",
       "      <td>observable_x1withsigma_sigma_common</td>\n",
       "      <td>0.061585</td>\n",
       "      <td>0.025661</td>\n",
       "      <td>NaN</td>\n",
       "    </tr>\n",
       "    <tr>\n",
       "      <th>473</th>\n",
       "      <td>observable_x1withsigma</td>\n",
       "      <td>condition-3</td>\n",
       "      <td></td>\n",
       "      <td>observable_x1withsigma_sigma_common</td>\n",
       "      <td>0.127427</td>\n",
       "      <td>0.136756</td>\n",
       "      <td>NaN</td>\n",
       "    </tr>\n",
       "    <tr>\n",
       "      <th>474</th>\n",
       "      <td>observable_x1withsigma</td>\n",
       "      <td>condition-3</td>\n",
       "      <td></td>\n",
       "      <td>observable_x1withsigma_sigma_common</td>\n",
       "      <td>0.263665</td>\n",
       "      <td>0.360305</td>\n",
       "      <td>NaN</td>\n",
       "    </tr>\n",
       "    <tr>\n",
       "      <th>475</th>\n",
       "      <td>observable_x1withsigma</td>\n",
       "      <td>condition-3</td>\n",
       "      <td></td>\n",
       "      <td>observable_x1withsigma_sigma_common</td>\n",
       "      <td>0.545559</td>\n",
       "      <td>0.244471</td>\n",
       "      <td>NaN</td>\n",
       "    </tr>\n",
       "    <tr>\n",
       "      <th>476</th>\n",
       "      <td>observable_x1withsigma</td>\n",
       "      <td>condition-3</td>\n",
       "      <td></td>\n",
       "      <td>observable_x1withsigma_sigma_common</td>\n",
       "      <td>1.128838</td>\n",
       "      <td>0.354767</td>\n",
       "      <td>NaN</td>\n",
       "    </tr>\n",
       "    <tr>\n",
       "      <th>477</th>\n",
       "      <td>observable_x1withsigma</td>\n",
       "      <td>condition-3</td>\n",
       "      <td></td>\n",
       "      <td>observable_x1withsigma_sigma_common</td>\n",
       "      <td>2.335721</td>\n",
       "      <td>0.227608</td>\n",
       "      <td>NaN</td>\n",
       "    </tr>\n",
       "    <tr>\n",
       "      <th>478</th>\n",
       "      <td>observable_x1withsigma</td>\n",
       "      <td>condition-3</td>\n",
       "      <td></td>\n",
       "      <td>observable_x1withsigma_sigma_common</td>\n",
       "      <td>4.832930</td>\n",
       "      <td>0.466463</td>\n",
       "      <td>NaN</td>\n",
       "    </tr>\n",
       "    <tr>\n",
       "      <th>479</th>\n",
       "      <td>observable_x1withsigma</td>\n",
       "      <td>condition-3</td>\n",
       "      <td></td>\n",
       "      <td>observable_x1withsigma_sigma_common</td>\n",
       "      <td>10.000000</td>\n",
       "      <td>0.414459</td>\n",
       "      <td>NaN</td>\n",
       "    </tr>\n",
       "  </tbody>\n",
       "</table>\n",
       "<p>480 rows × 7 columns</p>\n",
       "</div>"
      ],
      "text/plain": [
       "<div>\n",
       "<style scoped>\n",
       "    .dataframe tbody tr th:only-of-type {\n",
       "        vertical-align: middle;\n",
       "    }\n",
       "\n",
       "    .dataframe tbody tr th {\n",
       "        vertical-align: top;\n",
       "    }\n",
       "\n",
       "    .dataframe thead th {\n",
       "        text-align: right;\n",
       "    }\n",
       "</style>\n",
       "<table border=\"1\" class=\"dataframe\">\n",
       "  <thead>\n",
       "    <tr style=\"text-align: right;\">\n",
       "      <th></th>\n",
       "      <th>observable</th>\n",
       "      <th>condition</th>\n",
       "      <th>conditionRef</th>\n",
       "      <th>scalingParameter</th>\n",
       "      <th>time</th>\n",
       "      <th>measurement</th>\n",
       "      <th>sigma</th>\n",
       "    </tr>\n",
       "  </thead>\n",
       "  <tbody>\n",
       "    <tr>\n",
       "      <th>0</th>\n",
       "      <td>observable_x1</td>\n",
       "      <td>condition-0</td>\n",
       "      <td></td>\n",
       "      <td></td>\n",
       "      <td>0.000010</td>\n",
       "      <td>0.143156</td>\n",
       "      <td>0.1</td>\n",
       "    </tr>\n",
       "    <tr>\n",
       "      <th>1</th>\n",
       "      <td>observable_x1</td>\n",
       "      <td>condition-0</td>\n",
       "      <td></td>\n",
       "      <td></td>\n",
       "      <td>0.000021</td>\n",
       "      <td>0.003320</td>\n",
       "      <td>0.1</td>\n",
       "    </tr>\n",
       "    <tr>\n",
       "      <th>2</th>\n",
       "      <td>observable_x1</td>\n",
       "      <td>condition-0</td>\n",
       "      <td></td>\n",
       "      <td></td>\n",
       "      <td>0.000043</td>\n",
       "      <td>0.071796</td>\n",
       "      <td>0.1</td>\n",
       "    </tr>\n",
       "    <tr>\n",
       "      <th>3</th>\n",
       "      <td>observable_x1</td>\n",
       "      <td>condition-0</td>\n",
       "      <td></td>\n",
       "      <td></td>\n",
       "      <td>0.000089</td>\n",
       "      <td>0.079452</td>\n",
       "      <td>0.1</td>\n",
       "    </tr>\n",
       "    <tr>\n",
       "      <th>4</th>\n",
       "      <td>observable_x1</td>\n",
       "      <td>condition-0</td>\n",
       "      <td></td>\n",
       "      <td></td>\n",
       "      <td>0.000183</td>\n",
       "      <td>0.060231</td>\n",
       "      <td>0.1</td>\n",
       "    </tr>\n",
       "    <tr>\n",
       "      <th>5</th>\n",
       "      <td>observable_x1</td>\n",
       "      <td>condition-0</td>\n",
       "      <td></td>\n",
       "      <td></td>\n",
       "      <td>0.000379</td>\n",
       "      <td>0.082168</td>\n",
       "      <td>0.1</td>\n",
       "    </tr>\n",
       "    <tr>\n",
       "      <th>6</th>\n",
       "      <td>observable_x1</td>\n",
       "      <td>condition-0</td>\n",
       "      <td></td>\n",
       "      <td></td>\n",
       "      <td>0.000785</td>\n",
       "      <td>0.035860</td>\n",
       "      <td>0.1</td>\n",
       "    </tr>\n",
       "    <tr>\n",
       "      <th>7</th>\n",
       "      <td>observable_x1</td>\n",
       "      <td>condition-0</td>\n",
       "      <td></td>\n",
       "      <td></td>\n",
       "      <td>0.001624</td>\n",
       "      <td>0.177077</td>\n",
       "      <td>0.1</td>\n",
       "    </tr>\n",
       "    <tr>\n",
       "      <th>8</th>\n",
       "      <td>observable_x1</td>\n",
       "      <td>condition-0</td>\n",
       "      <td></td>\n",
       "      <td></td>\n",
       "      <td>0.003360</td>\n",
       "      <td>0.081296</td>\n",
       "      <td>0.1</td>\n",
       "    </tr>\n",
       "    <tr>\n",
       "      <th>9</th>\n",
       "      <td>observable_x1</td>\n",
       "      <td>condition-0</td>\n",
       "      <td></td>\n",
       "      <td></td>\n",
       "      <td>0.006952</td>\n",
       "      <td>0.274770</td>\n",
       "      <td>0.1</td>\n",
       "    </tr>\n",
       "    <tr>\n",
       "      <th>10</th>\n",
       "      <td>observable_x1</td>\n",
       "      <td>condition-0</td>\n",
       "      <td></td>\n",
       "      <td></td>\n",
       "      <td>0.014384</td>\n",
       "      <td>-0.011865</td>\n",
       "      <td>0.1</td>\n",
       "    </tr>\n",
       "    <tr>\n",
       "      <th>11</th>\n",
       "      <td>observable_x1</td>\n",
       "      <td>condition-0</td>\n",
       "      <td></td>\n",
       "      <td></td>\n",
       "      <td>0.029764</td>\n",
       "      <td>0.292147</td>\n",
       "      <td>0.1</td>\n",
       "    </tr>\n",
       "    <tr>\n",
       "      <th>12</th>\n",
       "      <td>observable_x1</td>\n",
       "      <td>condition-0</td>\n",
       "      <td></td>\n",
       "      <td></td>\n",
       "      <td>0.061585</td>\n",
       "      <td>0.172034</td>\n",
       "      <td>0.1</td>\n",
       "    </tr>\n",
       "    <tr>\n",
       "      <th>13</th>\n",
       "      <td>observable_x1</td>\n",
       "      <td>condition-0</td>\n",
       "      <td></td>\n",
       "      <td></td>\n",
       "      <td>0.127427</td>\n",
       "      <td>0.323681</td>\n",
       "      <td>0.1</td>\n",
       "    </tr>\n",
       "    <tr>\n",
       "      <th>14</th>\n",
       "      <td>observable_x1</td>\n",
       "      <td>condition-0</td>\n",
       "      <td></td>\n",
       "      <td></td>\n",
       "      <td>0.263665</td>\n",
       "      <td>0.373646</td>\n",
       "      <td>0.1</td>\n",
       "    </tr>\n",
       "    <tr>\n",
       "      <th>15</th>\n",
       "      <td>observable_x1</td>\n",
       "      <td>condition-0</td>\n",
       "      <td></td>\n",
       "      <td></td>\n",
       "      <td>0.545559</td>\n",
       "      <td>0.658742</td>\n",
       "      <td>0.1</td>\n",
       "    </tr>\n",
       "    <tr>\n",
       "      <th>16</th>\n",
       "      <td>observable_x1</td>\n",
       "      <td>condition-0</td>\n",
       "      <td></td>\n",
       "      <td></td>\n",
       "      <td>1.128838</td>\n",
       "      <td>0.640663</td>\n",
       "      <td>0.1</td>\n",
       "    </tr>\n",
       "    <tr>\n",
       "      <th>17</th>\n",
       "      <td>observable_x1</td>\n",
       "      <td>condition-0</td>\n",
       "      <td></td>\n",
       "      <td></td>\n",
       "      <td>2.335721</td>\n",
       "      <td>0.573930</td>\n",
       "      <td>0.1</td>\n",
       "    </tr>\n",
       "    <tr>\n",
       "      <th>18</th>\n",
       "      <td>observable_x1</td>\n",
       "      <td>condition-0</td>\n",
       "      <td></td>\n",
       "      <td></td>\n",
       "      <td>4.832930</td>\n",
       "      <td>0.535961</td>\n",
       "      <td>0.1</td>\n",
       "    </tr>\n",
       "    <tr>\n",
       "      <th>19</th>\n",
       "      <td>observable_x1</td>\n",
       "      <td>condition-0</td>\n",
       "      <td></td>\n",
       "      <td></td>\n",
       "      <td>10.000000</td>\n",
       "      <td>0.560859</td>\n",
       "      <td>0.1</td>\n",
       "    </tr>\n",
       "    <tr>\n",
       "      <th>20</th>\n",
       "      <td>observable_x2</td>\n",
       "      <td>condition-0</td>\n",
       "      <td></td>\n",
       "      <td></td>\n",
       "      <td>0.000010</td>\n",
       "      <td>0.401031</td>\n",
       "      <td>0.1</td>\n",
       "    </tr>\n",
       "    <tr>\n",
       "      <th>21</th>\n",
       "      <td>observable_x2</td>\n",
       "      <td>condition-0</td>\n",
       "      <td></td>\n",
       "      <td></td>\n",
       "      <td>0.000021</td>\n",
       "      <td>0.606293</td>\n",
       "      <td>0.1</td>\n",
       "    </tr>\n",
       "    <tr>\n",
       "      <th>22</th>\n",
       "      <td>observable_x2</td>\n",
       "      <td>condition-0</td>\n",
       "      <td></td>\n",
       "      <td></td>\n",
       "      <td>0.000043</td>\n",
       "      <td>0.446913</td>\n",
       "      <td>0.1</td>\n",
       "    </tr>\n",
       "    <tr>\n",
       "      <th>23</th>\n",
       "      <td>observable_x2</td>\n",
       "      <td>condition-0</td>\n",
       "      <td></td>\n",
       "      <td></td>\n",
       "      <td>0.000089</td>\n",
       "      <td>0.425855</td>\n",
       "      <td>0.1</td>\n",
       "    </tr>\n",
       "    <tr>\n",
       "      <th>24</th>\n",
       "      <td>observable_x2</td>\n",
       "      <td>condition-0</td>\n",
       "      <td></td>\n",
       "      <td></td>\n",
       "      <td>0.000183</td>\n",
       "      <td>0.402895</td>\n",
       "      <td>0.1</td>\n",
       "    </tr>\n",
       "    <tr>\n",
       "      <th>25</th>\n",
       "      <td>observable_x2</td>\n",
       "      <td>condition-0</td>\n",
       "      <td></td>\n",
       "      <td></td>\n",
       "      <td>0.000379</td>\n",
       "      <td>0.490485</td>\n",
       "      <td>0.1</td>\n",
       "    </tr>\n",
       "    <tr>\n",
       "      <th>26</th>\n",
       "      <td>observable_x2</td>\n",
       "      <td>condition-0</td>\n",
       "      <td></td>\n",
       "      <td></td>\n",
       "      <td>0.000785</td>\n",
       "      <td>0.343836</td>\n",
       "      <td>0.1</td>\n",
       "    </tr>\n",
       "    <tr>\n",
       "      <th>27</th>\n",
       "      <td>observable_x2</td>\n",
       "      <td>condition-0</td>\n",
       "      <td></td>\n",
       "      <td></td>\n",
       "      <td>0.001624</td>\n",
       "      <td>0.344322</td>\n",
       "      <td>0.1</td>\n",
       "    </tr>\n",
       "    <tr>\n",
       "      <th>28</th>\n",
       "      <td>observable_x2</td>\n",
       "      <td>condition-0</td>\n",
       "      <td></td>\n",
       "      <td></td>\n",
       "      <td>0.003360</td>\n",
       "      <td>0.486994</td>\n",
       "      <td>0.1</td>\n",
       "    </tr>\n",
       "    <tr>\n",
       "      <th>29</th>\n",
       "      <td>observable_x2</td>\n",
       "      <td>condition-0</td>\n",
       "      <td></td>\n",
       "      <td></td>\n",
       "      <td>0.006952</td>\n",
       "      <td>0.326144</td>\n",
       "      <td>0.1</td>\n",
       "    </tr>\n",
       "    <tr>\n",
       "      <th>...</th>\n",
       "      <td>...</td>\n",
       "      <td>...</td>\n",
       "      <td>...</td>\n",
       "      <td>...</td>\n",
       "      <td>...</td>\n",
       "      <td>...</td>\n",
       "      <td>...</td>\n",
       "    </tr>\n",
       "    <tr>\n",
       "      <th>450</th>\n",
       "      <td>observable_x2_offsetted</td>\n",
       "      <td>condition-3</td>\n",
       "      <td></td>\n",
       "      <td>offset_x2_batch-1</td>\n",
       "      <td>0.014384</td>\n",
       "      <td>4.492122</td>\n",
       "      <td>0.1</td>\n",
       "    </tr>\n",
       "    <tr>\n",
       "      <th>451</th>\n",
       "      <td>observable_x2_offsetted</td>\n",
       "      <td>condition-3</td>\n",
       "      <td></td>\n",
       "      <td>offset_x2_batch-1</td>\n",
       "      <td>0.029764</td>\n",
       "      <td>4.545539</td>\n",
       "      <td>0.1</td>\n",
       "    </tr>\n",
       "    <tr>\n",
       "      <th>452</th>\n",
       "      <td>observable_x2_offsetted</td>\n",
       "      <td>condition-3</td>\n",
       "      <td></td>\n",
       "      <td>offset_x2_batch-1</td>\n",
       "      <td>0.061585</td>\n",
       "      <td>4.438870</td>\n",
       "      <td>0.1</td>\n",
       "    </tr>\n",
       "    <tr>\n",
       "      <th>453</th>\n",
       "      <td>observable_x2_offsetted</td>\n",
       "      <td>condition-3</td>\n",
       "      <td></td>\n",
       "      <td>offset_x2_batch-1</td>\n",
       "      <td>0.127427</td>\n",
       "      <td>4.599320</td>\n",
       "      <td>0.1</td>\n",
       "    </tr>\n",
       "    <tr>\n",
       "      <th>454</th>\n",
       "      <td>observable_x2_offsetted</td>\n",
       "      <td>condition-3</td>\n",
       "      <td></td>\n",
       "      <td>offset_x2_batch-1</td>\n",
       "      <td>0.263665</td>\n",
       "      <td>4.589156</td>\n",
       "      <td>0.1</td>\n",
       "    </tr>\n",
       "    <tr>\n",
       "      <th>455</th>\n",
       "      <td>observable_x2_offsetted</td>\n",
       "      <td>condition-3</td>\n",
       "      <td></td>\n",
       "      <td>offset_x2_batch-1</td>\n",
       "      <td>0.545559</td>\n",
       "      <td>4.602309</td>\n",
       "      <td>0.1</td>\n",
       "    </tr>\n",
       "    <tr>\n",
       "      <th>456</th>\n",
       "      <td>observable_x2_offsetted</td>\n",
       "      <td>condition-3</td>\n",
       "      <td></td>\n",
       "      <td>offset_x2_batch-1</td>\n",
       "      <td>1.128838</td>\n",
       "      <td>4.694011</td>\n",
       "      <td>0.1</td>\n",
       "    </tr>\n",
       "    <tr>\n",
       "      <th>457</th>\n",
       "      <td>observable_x2_offsetted</td>\n",
       "      <td>condition-3</td>\n",
       "      <td></td>\n",
       "      <td>offset_x2_batch-1</td>\n",
       "      <td>2.335721</td>\n",
       "      <td>4.496576</td>\n",
       "      <td>0.1</td>\n",
       "    </tr>\n",
       "    <tr>\n",
       "      <th>458</th>\n",
       "      <td>observable_x2_offsetted</td>\n",
       "      <td>condition-3</td>\n",
       "      <td></td>\n",
       "      <td>offset_x2_batch-1</td>\n",
       "      <td>4.832930</td>\n",
       "      <td>4.400231</td>\n",
       "      <td>0.1</td>\n",
       "    </tr>\n",
       "    <tr>\n",
       "      <th>459</th>\n",
       "      <td>observable_x2_offsetted</td>\n",
       "      <td>condition-3</td>\n",
       "      <td></td>\n",
       "      <td>offset_x2_batch-1</td>\n",
       "      <td>10.000000</td>\n",
       "      <td>4.349309</td>\n",
       "      <td>0.1</td>\n",
       "    </tr>\n",
       "    <tr>\n",
       "      <th>460</th>\n",
       "      <td>observable_x1withsigma</td>\n",
       "      <td>condition-3</td>\n",
       "      <td></td>\n",
       "      <td>observable_x1withsigma_sigma_common</td>\n",
       "      <td>0.000010</td>\n",
       "      <td>0.009294</td>\n",
       "      <td>NaN</td>\n",
       "    </tr>\n",
       "    <tr>\n",
       "      <th>461</th>\n",
       "      <td>observable_x1withsigma</td>\n",
       "      <td>condition-3</td>\n",
       "      <td></td>\n",
       "      <td>observable_x1withsigma_sigma_common</td>\n",
       "      <td>0.000021</td>\n",
       "      <td>-0.211048</td>\n",
       "      <td>NaN</td>\n",
       "    </tr>\n",
       "    <tr>\n",
       "      <th>462</th>\n",
       "      <td>observable_x1withsigma</td>\n",
       "      <td>condition-3</td>\n",
       "      <td></td>\n",
       "      <td>observable_x1withsigma_sigma_common</td>\n",
       "      <td>0.000043</td>\n",
       "      <td>0.134637</td>\n",
       "      <td>NaN</td>\n",
       "    </tr>\n",
       "    <tr>\n",
       "      <th>463</th>\n",
       "      <td>observable_x1withsigma</td>\n",
       "      <td>condition-3</td>\n",
       "      <td></td>\n",
       "      <td>observable_x1withsigma_sigma_common</td>\n",
       "      <td>0.000089</td>\n",
       "      <td>0.319113</td>\n",
       "      <td>NaN</td>\n",
       "    </tr>\n",
       "    <tr>\n",
       "      <th>464</th>\n",
       "      <td>observable_x1withsigma</td>\n",
       "      <td>condition-3</td>\n",
       "      <td></td>\n",
       "      <td>observable_x1withsigma_sigma_common</td>\n",
       "      <td>0.000183</td>\n",
       "      <td>0.543851</td>\n",
       "      <td>NaN</td>\n",
       "    </tr>\n",
       "    <tr>\n",
       "      <th>465</th>\n",
       "      <td>observable_x1withsigma</td>\n",
       "      <td>condition-3</td>\n",
       "      <td></td>\n",
       "      <td>observable_x1withsigma_sigma_common</td>\n",
       "      <td>0.000379</td>\n",
       "      <td>-0.142673</td>\n",
       "      <td>NaN</td>\n",
       "    </tr>\n",
       "    <tr>\n",
       "      <th>466</th>\n",
       "      <td>observable_x1withsigma</td>\n",
       "      <td>condition-3</td>\n",
       "      <td></td>\n",
       "      <td>observable_x1withsigma_sigma_common</td>\n",
       "      <td>0.000785</td>\n",
       "      <td>-0.321127</td>\n",
       "      <td>NaN</td>\n",
       "    </tr>\n",
       "    <tr>\n",
       "      <th>467</th>\n",
       "      <td>observable_x1withsigma</td>\n",
       "      <td>condition-3</td>\n",
       "      <td></td>\n",
       "      <td>observable_x1withsigma_sigma_common</td>\n",
       "      <td>0.001624</td>\n",
       "      <td>0.200531</td>\n",
       "      <td>NaN</td>\n",
       "    </tr>\n",
       "    <tr>\n",
       "      <th>468</th>\n",
       "      <td>observable_x1withsigma</td>\n",
       "      <td>condition-3</td>\n",
       "      <td></td>\n",
       "      <td>observable_x1withsigma_sigma_common</td>\n",
       "      <td>0.003360</td>\n",
       "      <td>-0.019054</td>\n",
       "      <td>NaN</td>\n",
       "    </tr>\n",
       "    <tr>\n",
       "      <th>469</th>\n",
       "      <td>observable_x1withsigma</td>\n",
       "      <td>condition-3</td>\n",
       "      <td></td>\n",
       "      <td>observable_x1withsigma_sigma_common</td>\n",
       "      <td>0.006952</td>\n",
       "      <td>0.171080</td>\n",
       "      <td>NaN</td>\n",
       "    </tr>\n",
       "    <tr>\n",
       "      <th>470</th>\n",
       "      <td>observable_x1withsigma</td>\n",
       "      <td>condition-3</td>\n",
       "      <td></td>\n",
       "      <td>observable_x1withsigma_sigma_common</td>\n",
       "      <td>0.014384</td>\n",
       "      <td>-0.022818</td>\n",
       "      <td>NaN</td>\n",
       "    </tr>\n",
       "    <tr>\n",
       "      <th>471</th>\n",
       "      <td>observable_x1withsigma</td>\n",
       "      <td>condition-3</td>\n",
       "      <td></td>\n",
       "      <td>observable_x1withsigma_sigma_common</td>\n",
       "      <td>0.029764</td>\n",
       "      <td>0.255837</td>\n",
       "      <td>NaN</td>\n",
       "    </tr>\n",
       "    <tr>\n",
       "      <th>472</th>\n",
       "      <td>observable_x1withsigma</td>\n",
       "      <td>condition-3</td>\n",
       "      <td></td>\n",
       "      <td>observable_x1withsigma_sigma_common</td>\n",
       "      <td>0.061585</td>\n",
       "      <td>0.025661</td>\n",
       "      <td>NaN</td>\n",
       "    </tr>\n",
       "    <tr>\n",
       "      <th>473</th>\n",
       "      <td>observable_x1withsigma</td>\n",
       "      <td>condition-3</td>\n",
       "      <td></td>\n",
       "      <td>observable_x1withsigma_sigma_common</td>\n",
       "      <td>0.127427</td>\n",
       "      <td>0.136756</td>\n",
       "      <td>NaN</td>\n",
       "    </tr>\n",
       "    <tr>\n",
       "      <th>474</th>\n",
       "      <td>observable_x1withsigma</td>\n",
       "      <td>condition-3</td>\n",
       "      <td></td>\n",
       "      <td>observable_x1withsigma_sigma_common</td>\n",
       "      <td>0.263665</td>\n",
       "      <td>0.360305</td>\n",
       "      <td>NaN</td>\n",
       "    </tr>\n",
       "    <tr>\n",
       "      <th>475</th>\n",
       "      <td>observable_x1withsigma</td>\n",
       "      <td>condition-3</td>\n",
       "      <td></td>\n",
       "      <td>observable_x1withsigma_sigma_common</td>\n",
       "      <td>0.545559</td>\n",
       "      <td>0.244471</td>\n",
       "      <td>NaN</td>\n",
       "    </tr>\n",
       "    <tr>\n",
       "      <th>476</th>\n",
       "      <td>observable_x1withsigma</td>\n",
       "      <td>condition-3</td>\n",
       "      <td></td>\n",
       "      <td>observable_x1withsigma_sigma_common</td>\n",
       "      <td>1.128838</td>\n",
       "      <td>0.354767</td>\n",
       "      <td>NaN</td>\n",
       "    </tr>\n",
       "    <tr>\n",
       "      <th>477</th>\n",
       "      <td>observable_x1withsigma</td>\n",
       "      <td>condition-3</td>\n",
       "      <td></td>\n",
       "      <td>observable_x1withsigma_sigma_common</td>\n",
       "      <td>2.335721</td>\n",
       "      <td>0.227608</td>\n",
       "      <td>NaN</td>\n",
       "    </tr>\n",
       "    <tr>\n",
       "      <th>478</th>\n",
       "      <td>observable_x1withsigma</td>\n",
       "      <td>condition-3</td>\n",
       "      <td></td>\n",
       "      <td>observable_x1withsigma_sigma_common</td>\n",
       "      <td>4.832930</td>\n",
       "      <td>0.466463</td>\n",
       "      <td>NaN</td>\n",
       "    </tr>\n",
       "    <tr>\n",
       "      <th>479</th>\n",
       "      <td>observable_x1withsigma</td>\n",
       "      <td>condition-3</td>\n",
       "      <td></td>\n",
       "      <td>observable_x1withsigma_sigma_common</td>\n",
       "      <td>10.000000</td>\n",
       "      <td>0.414459</td>\n",
       "      <td>NaN</td>\n",
       "    </tr>\n",
       "  </tbody>\n",
       "</table>\n",
       "<p>480 rows × 7 columns</p>\n",
       "</div>"
      ]
     },
     "execution_count": 9,
     "metadata": {},
     "output_type": "execute_result"
    },
    {
     "data": {
      "text/html": [
       "<div>\n",
       "<style scoped>\n",
       "    .dataframe tbody tr th:only-of-type {\n",
       "        vertical-align: middle;\n",
       "    }\n",
       "\n",
       "    .dataframe tbody tr th {\n",
       "        vertical-align: top;\n",
       "    }\n",
       "\n",
       "    .dataframe thead th {\n",
       "        text-align: right;\n",
       "    }\n",
       "</style>\n",
       "<table border=\"1\" class=\"dataframe\">\n",
       "  <thead>\n",
       "    <tr style=\"text-align: right;\">\n",
       "      <th></th>\n",
       "      <th>observable</th>\n",
       "      <th>condition</th>\n",
       "      <th>conditionRef</th>\n",
       "      <th>scalingParameter</th>\n",
       "      <th>time</th>\n",
       "      <th>measurement</th>\n",
       "      <th>sigma</th>\n",
       "    </tr>\n",
       "  </thead>\n",
       "  <tbody>\n",
       "    <tr>\n",
       "      <th>0</th>\n",
       "      <td>observable_x1</td>\n",
       "      <td>condition-0</td>\n",
       "      <td></td>\n",
       "      <td></td>\n",
       "      <td>0.000010</td>\n",
       "      <td>0.159160</td>\n",
       "      <td>0.1</td>\n",
       "    </tr>\n",
       "    <tr>\n",
       "      <th>1</th>\n",
       "      <td>observable_x1</td>\n",
       "      <td>condition-0</td>\n",
       "      <td></td>\n",
       "      <td></td>\n",
       "      <td>0.000021</td>\n",
       "      <td>0.245727</td>\n",
       "      <td>0.1</td>\n",
       "    </tr>\n",
       "    <tr>\n",
       "      <th>2</th>\n",
       "      <td>observable_x1</td>\n",
       "      <td>condition-0</td>\n",
       "      <td></td>\n",
       "      <td></td>\n",
       "      <td>0.000043</td>\n",
       "      <td>0.136733</td>\n",
       "      <td>0.1</td>\n",
       "    </tr>\n",
       "    <tr>\n",
       "      <th>3</th>\n",
       "      <td>observable_x1</td>\n",
       "      <td>condition-0</td>\n",
       "      <td></td>\n",
       "      <td></td>\n",
       "      <td>0.000089</td>\n",
       "      <td>0.085118</td>\n",
       "      <td>0.1</td>\n",
       "    </tr>\n",
       "    <tr>\n",
       "      <th>4</th>\n",
       "      <td>observable_x1</td>\n",
       "      <td>condition-0</td>\n",
       "      <td></td>\n",
       "      <td></td>\n",
       "      <td>0.000183</td>\n",
       "      <td>0.304488</td>\n",
       "      <td>0.1</td>\n",
       "    </tr>\n",
       "    <tr>\n",
       "      <th>5</th>\n",
       "      <td>observable_x1</td>\n",
       "      <td>condition-0</td>\n",
       "      <td></td>\n",
       "      <td></td>\n",
       "      <td>0.000379</td>\n",
       "      <td>0.187342</td>\n",
       "      <td>0.1</td>\n",
       "    </tr>\n",
       "    <tr>\n",
       "      <th>6</th>\n",
       "      <td>observable_x1</td>\n",
       "      <td>condition-0</td>\n",
       "      <td></td>\n",
       "      <td></td>\n",
       "      <td>0.000785</td>\n",
       "      <td>0.208086</td>\n",
       "      <td>0.1</td>\n",
       "    </tr>\n",
       "    <tr>\n",
       "      <th>7</th>\n",
       "      <td>observable_x1</td>\n",
       "      <td>condition-0</td>\n",
       "      <td></td>\n",
       "      <td></td>\n",
       "      <td>0.001624</td>\n",
       "      <td>0.034282</td>\n",
       "      <td>0.1</td>\n",
       "    </tr>\n",
       "    <tr>\n",
       "      <th>8</th>\n",
       "      <td>observable_x1</td>\n",
       "      <td>condition-0</td>\n",
       "      <td></td>\n",
       "      <td></td>\n",
       "      <td>0.003360</td>\n",
       "      <td>-0.003529</td>\n",
       "      <td>0.1</td>\n",
       "    </tr>\n",
       "    <tr>\n",
       "      <th>9</th>\n",
       "      <td>observable_x1</td>\n",
       "      <td>condition-0</td>\n",
       "      <td></td>\n",
       "      <td></td>\n",
       "      <td>0.006952</td>\n",
       "      <td>0.050889</td>\n",
       "      <td>0.1</td>\n",
       "    </tr>\n",
       "    <tr>\n",
       "      <th>10</th>\n",
       "      <td>observable_x1</td>\n",
       "      <td>condition-0</td>\n",
       "      <td></td>\n",
       "      <td></td>\n",
       "      <td>0.014384</td>\n",
       "      <td>-0.003085</td>\n",
       "      <td>0.1</td>\n",
       "    </tr>\n",
       "    <tr>\n",
       "      <th>11</th>\n",
       "      <td>observable_x1</td>\n",
       "      <td>condition-0</td>\n",
       "      <td></td>\n",
       "      <td></td>\n",
       "      <td>0.029764</td>\n",
       "      <td>0.086191</td>\n",
       "      <td>0.1</td>\n",
       "    </tr>\n",
       "    <tr>\n",
       "      <th>12</th>\n",
       "      <td>observable_x1</td>\n",
       "      <td>condition-0</td>\n",
       "      <td></td>\n",
       "      <td></td>\n",
       "      <td>0.061585</td>\n",
       "      <td>0.165665</td>\n",
       "      <td>0.1</td>\n",
       "    </tr>\n",
       "    <tr>\n",
       "      <th>13</th>\n",
       "      <td>observable_x1</td>\n",
       "      <td>condition-0</td>\n",
       "      <td></td>\n",
       "      <td></td>\n",
       "      <td>0.127427</td>\n",
       "      <td>0.173727</td>\n",
       "      <td>0.1</td>\n",
       "    </tr>\n",
       "    <tr>\n",
       "      <th>14</th>\n",
       "      <td>observable_x1</td>\n",
       "      <td>condition-0</td>\n",
       "      <td></td>\n",
       "      <td></td>\n",
       "      <td>0.263665</td>\n",
       "      <td>0.546198</td>\n",
       "      <td>0.1</td>\n",
       "    </tr>\n",
       "    <tr>\n",
       "      <th>15</th>\n",
       "      <td>observable_x1</td>\n",
       "      <td>condition-0</td>\n",
       "      <td></td>\n",
       "      <td></td>\n",
       "      <td>0.545559</td>\n",
       "      <td>0.485402</td>\n",
       "      <td>0.1</td>\n",
       "    </tr>\n",
       "    <tr>\n",
       "      <th>16</th>\n",
       "      <td>observable_x1</td>\n",
       "      <td>condition-0</td>\n",
       "      <td></td>\n",
       "      <td></td>\n",
       "      <td>1.128838</td>\n",
       "      <td>0.692316</td>\n",
       "      <td>0.1</td>\n",
       "    </tr>\n",
       "    <tr>\n",
       "      <th>17</th>\n",
       "      <td>observable_x1</td>\n",
       "      <td>condition-0</td>\n",
       "      <td></td>\n",
       "      <td></td>\n",
       "      <td>2.335721</td>\n",
       "      <td>0.568329</td>\n",
       "      <td>0.1</td>\n",
       "    </tr>\n",
       "    <tr>\n",
       "      <th>18</th>\n",
       "      <td>observable_x1</td>\n",
       "      <td>condition-0</td>\n",
       "      <td></td>\n",
       "      <td></td>\n",
       "      <td>4.832930</td>\n",
       "      <td>0.651163</td>\n",
       "      <td>0.1</td>\n",
       "    </tr>\n",
       "    <tr>\n",
       "      <th>19</th>\n",
       "      <td>observable_x1</td>\n",
       "      <td>condition-0</td>\n",
       "      <td></td>\n",
       "      <td></td>\n",
       "      <td>10.000000</td>\n",
       "      <td>0.536258</td>\n",
       "      <td>0.1</td>\n",
       "    </tr>\n",
       "    <tr>\n",
       "      <th>20</th>\n",
       "      <td>observable_x2</td>\n",
       "      <td>condition-0</td>\n",
       "      <td></td>\n",
       "      <td></td>\n",
       "      <td>0.000010</td>\n",
       "      <td>0.305906</td>\n",
       "      <td>0.1</td>\n",
       "    </tr>\n",
       "    <tr>\n",
       "      <th>21</th>\n",
       "      <td>observable_x2</td>\n",
       "      <td>condition-0</td>\n",
       "      <td></td>\n",
       "      <td></td>\n",
       "      <td>0.000021</td>\n",
       "      <td>0.499654</td>\n",
       "      <td>0.1</td>\n",
       "    </tr>\n",
       "    <tr>\n",
       "      <th>22</th>\n",
       "      <td>observable_x2</td>\n",
       "      <td>condition-0</td>\n",
       "      <td></td>\n",
       "      <td></td>\n",
       "      <td>0.000043</td>\n",
       "      <td>0.502389</td>\n",
       "      <td>0.1</td>\n",
       "    </tr>\n",
       "    <tr>\n",
       "      <th>23</th>\n",
       "      <td>observable_x2</td>\n",
       "      <td>condition-0</td>\n",
       "      <td></td>\n",
       "      <td></td>\n",
       "      <td>0.000089</td>\n",
       "      <td>0.449189</td>\n",
       "      <td>0.1</td>\n",
       "    </tr>\n",
       "    <tr>\n",
       "      <th>24</th>\n",
       "      <td>observable_x2</td>\n",
       "      <td>condition-0</td>\n",
       "      <td></td>\n",
       "      <td></td>\n",
       "      <td>0.000183</td>\n",
       "      <td>0.437287</td>\n",
       "      <td>0.1</td>\n",
       "    </tr>\n",
       "    <tr>\n",
       "      <th>25</th>\n",
       "      <td>observable_x2</td>\n",
       "      <td>condition-0</td>\n",
       "      <td></td>\n",
       "      <td></td>\n",
       "      <td>0.000379</td>\n",
       "      <td>0.272513</td>\n",
       "      <td>0.1</td>\n",
       "    </tr>\n",
       "    <tr>\n",
       "      <th>26</th>\n",
       "      <td>observable_x2</td>\n",
       "      <td>condition-0</td>\n",
       "      <td></td>\n",
       "      <td></td>\n",
       "      <td>0.000785</td>\n",
       "      <td>0.411845</td>\n",
       "      <td>0.1</td>\n",
       "    </tr>\n",
       "    <tr>\n",
       "      <th>27</th>\n",
       "      <td>observable_x2</td>\n",
       "      <td>condition-0</td>\n",
       "      <td></td>\n",
       "      <td></td>\n",
       "      <td>0.001624</td>\n",
       "      <td>0.501108</td>\n",
       "      <td>0.1</td>\n",
       "    </tr>\n",
       "    <tr>\n",
       "      <th>28</th>\n",
       "      <td>observable_x2</td>\n",
       "      <td>condition-0</td>\n",
       "      <td></td>\n",
       "      <td></td>\n",
       "      <td>0.003360</td>\n",
       "      <td>0.320088</td>\n",
       "      <td>0.1</td>\n",
       "    </tr>\n",
       "    <tr>\n",
       "      <th>29</th>\n",
       "      <td>observable_x2</td>\n",
       "      <td>condition-0</td>\n",
       "      <td></td>\n",
       "      <td></td>\n",
       "      <td>0.006952</td>\n",
       "      <td>0.303226</td>\n",
       "      <td>0.1</td>\n",
       "    </tr>\n",
       "    <tr>\n",
       "      <th>...</th>\n",
       "      <td>...</td>\n",
       "      <td>...</td>\n",
       "      <td>...</td>\n",
       "      <td>...</td>\n",
       "      <td>...</td>\n",
       "      <td>...</td>\n",
       "      <td>...</td>\n",
       "    </tr>\n",
       "    <tr>\n",
       "      <th>450</th>\n",
       "      <td>observable_x2_offsetted</td>\n",
       "      <td>condition-3</td>\n",
       "      <td></td>\n",
       "      <td>offset_x2_batch-1</td>\n",
       "      <td>0.014384</td>\n",
       "      <td>4.448472</td>\n",
       "      <td>0.1</td>\n",
       "    </tr>\n",
       "    <tr>\n",
       "      <th>451</th>\n",
       "      <td>observable_x2_offsetted</td>\n",
       "      <td>condition-3</td>\n",
       "      <td></td>\n",
       "      <td>offset_x2_batch-1</td>\n",
       "      <td>0.029764</td>\n",
       "      <td>4.392227</td>\n",
       "      <td>0.1</td>\n",
       "    </tr>\n",
       "    <tr>\n",
       "      <th>452</th>\n",
       "      <td>observable_x2_offsetted</td>\n",
       "      <td>condition-3</td>\n",
       "      <td></td>\n",
       "      <td>offset_x2_batch-1</td>\n",
       "      <td>0.061585</td>\n",
       "      <td>4.471392</td>\n",
       "      <td>0.1</td>\n",
       "    </tr>\n",
       "    <tr>\n",
       "      <th>453</th>\n",
       "      <td>observable_x2_offsetted</td>\n",
       "      <td>condition-3</td>\n",
       "      <td></td>\n",
       "      <td>offset_x2_batch-1</td>\n",
       "      <td>0.127427</td>\n",
       "      <td>4.493539</td>\n",
       "      <td>0.1</td>\n",
       "    </tr>\n",
       "    <tr>\n",
       "      <th>454</th>\n",
       "      <td>observable_x2_offsetted</td>\n",
       "      <td>condition-3</td>\n",
       "      <td></td>\n",
       "      <td>offset_x2_batch-1</td>\n",
       "      <td>0.263665</td>\n",
       "      <td>4.695208</td>\n",
       "      <td>0.1</td>\n",
       "    </tr>\n",
       "    <tr>\n",
       "      <th>455</th>\n",
       "      <td>observable_x2_offsetted</td>\n",
       "      <td>condition-3</td>\n",
       "      <td></td>\n",
       "      <td>offset_x2_batch-1</td>\n",
       "      <td>0.545559</td>\n",
       "      <td>4.740609</td>\n",
       "      <td>0.1</td>\n",
       "    </tr>\n",
       "    <tr>\n",
       "      <th>456</th>\n",
       "      <td>observable_x2_offsetted</td>\n",
       "      <td>condition-3</td>\n",
       "      <td></td>\n",
       "      <td>offset_x2_batch-1</td>\n",
       "      <td>1.128838</td>\n",
       "      <td>4.659673</td>\n",
       "      <td>0.1</td>\n",
       "    </tr>\n",
       "    <tr>\n",
       "      <th>457</th>\n",
       "      <td>observable_x2_offsetted</td>\n",
       "      <td>condition-3</td>\n",
       "      <td></td>\n",
       "      <td>offset_x2_batch-1</td>\n",
       "      <td>2.335721</td>\n",
       "      <td>4.675761</td>\n",
       "      <td>0.1</td>\n",
       "    </tr>\n",
       "    <tr>\n",
       "      <th>458</th>\n",
       "      <td>observable_x2_offsetted</td>\n",
       "      <td>condition-3</td>\n",
       "      <td></td>\n",
       "      <td>offset_x2_batch-1</td>\n",
       "      <td>4.832930</td>\n",
       "      <td>4.829024</td>\n",
       "      <td>0.1</td>\n",
       "    </tr>\n",
       "    <tr>\n",
       "      <th>459</th>\n",
       "      <td>observable_x2_offsetted</td>\n",
       "      <td>condition-3</td>\n",
       "      <td></td>\n",
       "      <td>offset_x2_batch-1</td>\n",
       "      <td>10.000000</td>\n",
       "      <td>4.453671</td>\n",
       "      <td>0.1</td>\n",
       "    </tr>\n",
       "    <tr>\n",
       "      <th>460</th>\n",
       "      <td>observable_x1withsigma</td>\n",
       "      <td>condition-3</td>\n",
       "      <td></td>\n",
       "      <td>observable_x1withsigma_sigma_common</td>\n",
       "      <td>0.000010</td>\n",
       "      <td>-0.226437</td>\n",
       "      <td>NaN</td>\n",
       "    </tr>\n",
       "    <tr>\n",
       "      <th>461</th>\n",
       "      <td>observable_x1withsigma</td>\n",
       "      <td>condition-3</td>\n",
       "      <td></td>\n",
       "      <td>observable_x1withsigma_sigma_common</td>\n",
       "      <td>0.000021</td>\n",
       "      <td>-0.069475</td>\n",
       "      <td>NaN</td>\n",
       "    </tr>\n",
       "    <tr>\n",
       "      <th>462</th>\n",
       "      <td>observable_x1withsigma</td>\n",
       "      <td>condition-3</td>\n",
       "      <td></td>\n",
       "      <td>observable_x1withsigma_sigma_common</td>\n",
       "      <td>0.000043</td>\n",
       "      <td>0.136820</td>\n",
       "      <td>NaN</td>\n",
       "    </tr>\n",
       "    <tr>\n",
       "      <th>463</th>\n",
       "      <td>observable_x1withsigma</td>\n",
       "      <td>condition-3</td>\n",
       "      <td></td>\n",
       "      <td>observable_x1withsigma_sigma_common</td>\n",
       "      <td>0.000089</td>\n",
       "      <td>0.041571</td>\n",
       "      <td>NaN</td>\n",
       "    </tr>\n",
       "    <tr>\n",
       "      <th>464</th>\n",
       "      <td>observable_x1withsigma</td>\n",
       "      <td>condition-3</td>\n",
       "      <td></td>\n",
       "      <td>observable_x1withsigma_sigma_common</td>\n",
       "      <td>0.000183</td>\n",
       "      <td>0.113555</td>\n",
       "      <td>NaN</td>\n",
       "    </tr>\n",
       "    <tr>\n",
       "      <th>465</th>\n",
       "      <td>observable_x1withsigma</td>\n",
       "      <td>condition-3</td>\n",
       "      <td></td>\n",
       "      <td>observable_x1withsigma_sigma_common</td>\n",
       "      <td>0.000379</td>\n",
       "      <td>0.134495</td>\n",
       "      <td>NaN</td>\n",
       "    </tr>\n",
       "    <tr>\n",
       "      <th>466</th>\n",
       "      <td>observable_x1withsigma</td>\n",
       "      <td>condition-3</td>\n",
       "      <td></td>\n",
       "      <td>observable_x1withsigma_sigma_common</td>\n",
       "      <td>0.000785</td>\n",
       "      <td>0.272116</td>\n",
       "      <td>NaN</td>\n",
       "    </tr>\n",
       "    <tr>\n",
       "      <th>467</th>\n",
       "      <td>observable_x1withsigma</td>\n",
       "      <td>condition-3</td>\n",
       "      <td></td>\n",
       "      <td>observable_x1withsigma_sigma_common</td>\n",
       "      <td>0.001624</td>\n",
       "      <td>0.149360</td>\n",
       "      <td>NaN</td>\n",
       "    </tr>\n",
       "    <tr>\n",
       "      <th>468</th>\n",
       "      <td>observable_x1withsigma</td>\n",
       "      <td>condition-3</td>\n",
       "      <td></td>\n",
       "      <td>observable_x1withsigma_sigma_common</td>\n",
       "      <td>0.003360</td>\n",
       "      <td>0.023023</td>\n",
       "      <td>NaN</td>\n",
       "    </tr>\n",
       "    <tr>\n",
       "      <th>469</th>\n",
       "      <td>observable_x1withsigma</td>\n",
       "      <td>condition-3</td>\n",
       "      <td></td>\n",
       "      <td>observable_x1withsigma_sigma_common</td>\n",
       "      <td>0.006952</td>\n",
       "      <td>-0.164340</td>\n",
       "      <td>NaN</td>\n",
       "    </tr>\n",
       "    <tr>\n",
       "      <th>470</th>\n",
       "      <td>observable_x1withsigma</td>\n",
       "      <td>condition-3</td>\n",
       "      <td></td>\n",
       "      <td>observable_x1withsigma_sigma_common</td>\n",
       "      <td>0.014384</td>\n",
       "      <td>-0.261753</td>\n",
       "      <td>NaN</td>\n",
       "    </tr>\n",
       "    <tr>\n",
       "      <th>471</th>\n",
       "      <td>observable_x1withsigma</td>\n",
       "      <td>condition-3</td>\n",
       "      <td></td>\n",
       "      <td>observable_x1withsigma_sigma_common</td>\n",
       "      <td>0.029764</td>\n",
       "      <td>0.318432</td>\n",
       "      <td>NaN</td>\n",
       "    </tr>\n",
       "    <tr>\n",
       "      <th>472</th>\n",
       "      <td>observable_x1withsigma</td>\n",
       "      <td>condition-3</td>\n",
       "      <td></td>\n",
       "      <td>observable_x1withsigma_sigma_common</td>\n",
       "      <td>0.061585</td>\n",
       "      <td>0.077046</td>\n",
       "      <td>NaN</td>\n",
       "    </tr>\n",
       "    <tr>\n",
       "      <th>473</th>\n",
       "      <td>observable_x1withsigma</td>\n",
       "      <td>condition-3</td>\n",
       "      <td></td>\n",
       "      <td>observable_x1withsigma_sigma_common</td>\n",
       "      <td>0.127427</td>\n",
       "      <td>0.172541</td>\n",
       "      <td>NaN</td>\n",
       "    </tr>\n",
       "    <tr>\n",
       "      <th>474</th>\n",
       "      <td>observable_x1withsigma</td>\n",
       "      <td>condition-3</td>\n",
       "      <td></td>\n",
       "      <td>observable_x1withsigma_sigma_common</td>\n",
       "      <td>0.263665</td>\n",
       "      <td>0.433627</td>\n",
       "      <td>NaN</td>\n",
       "    </tr>\n",
       "    <tr>\n",
       "      <th>475</th>\n",
       "      <td>observable_x1withsigma</td>\n",
       "      <td>condition-3</td>\n",
       "      <td></td>\n",
       "      <td>observable_x1withsigma_sigma_common</td>\n",
       "      <td>0.545559</td>\n",
       "      <td>0.784690</td>\n",
       "      <td>NaN</td>\n",
       "    </tr>\n",
       "    <tr>\n",
       "      <th>476</th>\n",
       "      <td>observable_x1withsigma</td>\n",
       "      <td>condition-3</td>\n",
       "      <td></td>\n",
       "      <td>observable_x1withsigma_sigma_common</td>\n",
       "      <td>1.128838</td>\n",
       "      <td>0.652980</td>\n",
       "      <td>NaN</td>\n",
       "    </tr>\n",
       "    <tr>\n",
       "      <th>477</th>\n",
       "      <td>observable_x1withsigma</td>\n",
       "      <td>condition-3</td>\n",
       "      <td></td>\n",
       "      <td>observable_x1withsigma_sigma_common</td>\n",
       "      <td>2.335721</td>\n",
       "      <td>0.317439</td>\n",
       "      <td>NaN</td>\n",
       "    </tr>\n",
       "    <tr>\n",
       "      <th>478</th>\n",
       "      <td>observable_x1withsigma</td>\n",
       "      <td>condition-3</td>\n",
       "      <td></td>\n",
       "      <td>observable_x1withsigma_sigma_common</td>\n",
       "      <td>4.832930</td>\n",
       "      <td>0.143260</td>\n",
       "      <td>NaN</td>\n",
       "    </tr>\n",
       "    <tr>\n",
       "      <th>479</th>\n",
       "      <td>observable_x1withsigma</td>\n",
       "      <td>condition-3</td>\n",
       "      <td></td>\n",
       "      <td>observable_x1withsigma_sigma_common</td>\n",
       "      <td>10.000000</td>\n",
       "      <td>0.156210</td>\n",
       "      <td>NaN</td>\n",
       "    </tr>\n",
       "  </tbody>\n",
       "</table>\n",
       "<p>480 rows × 7 columns</p>\n",
       "</div>"
      ],
      "text/plain": [
       "<div>\n",
       "<style scoped>\n",
       "    .dataframe tbody tr th:only-of-type {\n",
       "        vertical-align: middle;\n",
       "    }\n",
       "\n",
       "    .dataframe tbody tr th {\n",
       "        vertical-align: top;\n",
       "    }\n",
       "\n",
       "    .dataframe thead th {\n",
       "        text-align: right;\n",
       "    }\n",
       "</style>\n",
       "<table border=\"1\" class=\"dataframe\">\n",
       "  <thead>\n",
       "    <tr style=\"text-align: right;\">\n",
       "      <th></th>\n",
       "      <th>observable</th>\n",
       "      <th>condition</th>\n",
       "      <th>conditionRef</th>\n",
       "      <th>scalingParameter</th>\n",
       "      <th>time</th>\n",
       "      <th>measurement</th>\n",
       "      <th>sigma</th>\n",
       "    </tr>\n",
       "  </thead>\n",
       "  <tbody>\n",
       "    <tr>\n",
       "      <th>0</th>\n",
       "      <td>observable_x1</td>\n",
       "      <td>condition-0</td>\n",
       "      <td></td>\n",
       "      <td></td>\n",
       "      <td>0.000010</td>\n",
       "      <td>0.159160</td>\n",
       "      <td>0.1</td>\n",
       "    </tr>\n",
       "    <tr>\n",
       "      <th>1</th>\n",
       "      <td>observable_x1</td>\n",
       "      <td>condition-0</td>\n",
       "      <td></td>\n",
       "      <td></td>\n",
       "      <td>0.000021</td>\n",
       "      <td>0.245727</td>\n",
       "      <td>0.1</td>\n",
       "    </tr>\n",
       "    <tr>\n",
       "      <th>2</th>\n",
       "      <td>observable_x1</td>\n",
       "      <td>condition-0</td>\n",
       "      <td></td>\n",
       "      <td></td>\n",
       "      <td>0.000043</td>\n",
       "      <td>0.136733</td>\n",
       "      <td>0.1</td>\n",
       "    </tr>\n",
       "    <tr>\n",
       "      <th>3</th>\n",
       "      <td>observable_x1</td>\n",
       "      <td>condition-0</td>\n",
       "      <td></td>\n",
       "      <td></td>\n",
       "      <td>0.000089</td>\n",
       "      <td>0.085118</td>\n",
       "      <td>0.1</td>\n",
       "    </tr>\n",
       "    <tr>\n",
       "      <th>4</th>\n",
       "      <td>observable_x1</td>\n",
       "      <td>condition-0</td>\n",
       "      <td></td>\n",
       "      <td></td>\n",
       "      <td>0.000183</td>\n",
       "      <td>0.304488</td>\n",
       "      <td>0.1</td>\n",
       "    </tr>\n",
       "    <tr>\n",
       "      <th>5</th>\n",
       "      <td>observable_x1</td>\n",
       "      <td>condition-0</td>\n",
       "      <td></td>\n",
       "      <td></td>\n",
       "      <td>0.000379</td>\n",
       "      <td>0.187342</td>\n",
       "      <td>0.1</td>\n",
       "    </tr>\n",
       "    <tr>\n",
       "      <th>6</th>\n",
       "      <td>observable_x1</td>\n",
       "      <td>condition-0</td>\n",
       "      <td></td>\n",
       "      <td></td>\n",
       "      <td>0.000785</td>\n",
       "      <td>0.208086</td>\n",
       "      <td>0.1</td>\n",
       "    </tr>\n",
       "    <tr>\n",
       "      <th>7</th>\n",
       "      <td>observable_x1</td>\n",
       "      <td>condition-0</td>\n",
       "      <td></td>\n",
       "      <td></td>\n",
       "      <td>0.001624</td>\n",
       "      <td>0.034282</td>\n",
       "      <td>0.1</td>\n",
       "    </tr>\n",
       "    <tr>\n",
       "      <th>8</th>\n",
       "      <td>observable_x1</td>\n",
       "      <td>condition-0</td>\n",
       "      <td></td>\n",
       "      <td></td>\n",
       "      <td>0.003360</td>\n",
       "      <td>-0.003529</td>\n",
       "      <td>0.1</td>\n",
       "    </tr>\n",
       "    <tr>\n",
       "      <th>9</th>\n",
       "      <td>observable_x1</td>\n",
       "      <td>condition-0</td>\n",
       "      <td></td>\n",
       "      <td></td>\n",
       "      <td>0.006952</td>\n",
       "      <td>0.050889</td>\n",
       "      <td>0.1</td>\n",
       "    </tr>\n",
       "    <tr>\n",
       "      <th>10</th>\n",
       "      <td>observable_x1</td>\n",
       "      <td>condition-0</td>\n",
       "      <td></td>\n",
       "      <td></td>\n",
       "      <td>0.014384</td>\n",
       "      <td>-0.003085</td>\n",
       "      <td>0.1</td>\n",
       "    </tr>\n",
       "    <tr>\n",
       "      <th>11</th>\n",
       "      <td>observable_x1</td>\n",
       "      <td>condition-0</td>\n",
       "      <td></td>\n",
       "      <td></td>\n",
       "      <td>0.029764</td>\n",
       "      <td>0.086191</td>\n",
       "      <td>0.1</td>\n",
       "    </tr>\n",
       "    <tr>\n",
       "      <th>12</th>\n",
       "      <td>observable_x1</td>\n",
       "      <td>condition-0</td>\n",
       "      <td></td>\n",
       "      <td></td>\n",
       "      <td>0.061585</td>\n",
       "      <td>0.165665</td>\n",
       "      <td>0.1</td>\n",
       "    </tr>\n",
       "    <tr>\n",
       "      <th>13</th>\n",
       "      <td>observable_x1</td>\n",
       "      <td>condition-0</td>\n",
       "      <td></td>\n",
       "      <td></td>\n",
       "      <td>0.127427</td>\n",
       "      <td>0.173727</td>\n",
       "      <td>0.1</td>\n",
       "    </tr>\n",
       "    <tr>\n",
       "      <th>14</th>\n",
       "      <td>observable_x1</td>\n",
       "      <td>condition-0</td>\n",
       "      <td></td>\n",
       "      <td></td>\n",
       "      <td>0.263665</td>\n",
       "      <td>0.546198</td>\n",
       "      <td>0.1</td>\n",
       "    </tr>\n",
       "    <tr>\n",
       "      <th>15</th>\n",
       "      <td>observable_x1</td>\n",
       "      <td>condition-0</td>\n",
       "      <td></td>\n",
       "      <td></td>\n",
       "      <td>0.545559</td>\n",
       "      <td>0.485402</td>\n",
       "      <td>0.1</td>\n",
       "    </tr>\n",
       "    <tr>\n",
       "      <th>16</th>\n",
       "      <td>observable_x1</td>\n",
       "      <td>condition-0</td>\n",
       "      <td></td>\n",
       "      <td></td>\n",
       "      <td>1.128838</td>\n",
       "      <td>0.692316</td>\n",
       "      <td>0.1</td>\n",
       "    </tr>\n",
       "    <tr>\n",
       "      <th>17</th>\n",
       "      <td>observable_x1</td>\n",
       "      <td>condition-0</td>\n",
       "      <td></td>\n",
       "      <td></td>\n",
       "      <td>2.335721</td>\n",
       "      <td>0.568329</td>\n",
       "      <td>0.1</td>\n",
       "    </tr>\n",
       "    <tr>\n",
       "      <th>18</th>\n",
       "      <td>observable_x1</td>\n",
       "      <td>condition-0</td>\n",
       "      <td></td>\n",
       "      <td></td>\n",
       "      <td>4.832930</td>\n",
       "      <td>0.651163</td>\n",
       "      <td>0.1</td>\n",
       "    </tr>\n",
       "    <tr>\n",
       "      <th>19</th>\n",
       "      <td>observable_x1</td>\n",
       "      <td>condition-0</td>\n",
       "      <td></td>\n",
       "      <td></td>\n",
       "      <td>10.000000</td>\n",
       "      <td>0.536258</td>\n",
       "      <td>0.1</td>\n",
       "    </tr>\n",
       "    <tr>\n",
       "      <th>20</th>\n",
       "      <td>observable_x2</td>\n",
       "      <td>condition-0</td>\n",
       "      <td></td>\n",
       "      <td></td>\n",
       "      <td>0.000010</td>\n",
       "      <td>0.305906</td>\n",
       "      <td>0.1</td>\n",
       "    </tr>\n",
       "    <tr>\n",
       "      <th>21</th>\n",
       "      <td>observable_x2</td>\n",
       "      <td>condition-0</td>\n",
       "      <td></td>\n",
       "      <td></td>\n",
       "      <td>0.000021</td>\n",
       "      <td>0.499654</td>\n",
       "      <td>0.1</td>\n",
       "    </tr>\n",
       "    <tr>\n",
       "      <th>22</th>\n",
       "      <td>observable_x2</td>\n",
       "      <td>condition-0</td>\n",
       "      <td></td>\n",
       "      <td></td>\n",
       "      <td>0.000043</td>\n",
       "      <td>0.502389</td>\n",
       "      <td>0.1</td>\n",
       "    </tr>\n",
       "    <tr>\n",
       "      <th>23</th>\n",
       "      <td>observable_x2</td>\n",
       "      <td>condition-0</td>\n",
       "      <td></td>\n",
       "      <td></td>\n",
       "      <td>0.000089</td>\n",
       "      <td>0.449189</td>\n",
       "      <td>0.1</td>\n",
       "    </tr>\n",
       "    <tr>\n",
       "      <th>24</th>\n",
       "      <td>observable_x2</td>\n",
       "      <td>condition-0</td>\n",
       "      <td></td>\n",
       "      <td></td>\n",
       "      <td>0.000183</td>\n",
       "      <td>0.437287</td>\n",
       "      <td>0.1</td>\n",
       "    </tr>\n",
       "    <tr>\n",
       "      <th>25</th>\n",
       "      <td>observable_x2</td>\n",
       "      <td>condition-0</td>\n",
       "      <td></td>\n",
       "      <td></td>\n",
       "      <td>0.000379</td>\n",
       "      <td>0.272513</td>\n",
       "      <td>0.1</td>\n",
       "    </tr>\n",
       "    <tr>\n",
       "      <th>26</th>\n",
       "      <td>observable_x2</td>\n",
       "      <td>condition-0</td>\n",
       "      <td></td>\n",
       "      <td></td>\n",
       "      <td>0.000785</td>\n",
       "      <td>0.411845</td>\n",
       "      <td>0.1</td>\n",
       "    </tr>\n",
       "    <tr>\n",
       "      <th>27</th>\n",
       "      <td>observable_x2</td>\n",
       "      <td>condition-0</td>\n",
       "      <td></td>\n",
       "      <td></td>\n",
       "      <td>0.001624</td>\n",
       "      <td>0.501108</td>\n",
       "      <td>0.1</td>\n",
       "    </tr>\n",
       "    <tr>\n",
       "      <th>28</th>\n",
       "      <td>observable_x2</td>\n",
       "      <td>condition-0</td>\n",
       "      <td></td>\n",
       "      <td></td>\n",
       "      <td>0.003360</td>\n",
       "      <td>0.320088</td>\n",
       "      <td>0.1</td>\n",
       "    </tr>\n",
       "    <tr>\n",
       "      <th>29</th>\n",
       "      <td>observable_x2</td>\n",
       "      <td>condition-0</td>\n",
       "      <td></td>\n",
       "      <td></td>\n",
       "      <td>0.006952</td>\n",
       "      <td>0.303226</td>\n",
       "      <td>0.1</td>\n",
       "    </tr>\n",
       "    <tr>\n",
       "      <th>...</th>\n",
       "      <td>...</td>\n",
       "      <td>...</td>\n",
       "      <td>...</td>\n",
       "      <td>...</td>\n",
       "      <td>...</td>\n",
       "      <td>...</td>\n",
       "      <td>...</td>\n",
       "    </tr>\n",
       "    <tr>\n",
       "      <th>450</th>\n",
       "      <td>observable_x2_offsetted</td>\n",
       "      <td>condition-3</td>\n",
       "      <td></td>\n",
       "      <td>offset_x2_batch-1</td>\n",
       "      <td>0.014384</td>\n",
       "      <td>4.448472</td>\n",
       "      <td>0.1</td>\n",
       "    </tr>\n",
       "    <tr>\n",
       "      <th>451</th>\n",
       "      <td>observable_x2_offsetted</td>\n",
       "      <td>condition-3</td>\n",
       "      <td></td>\n",
       "      <td>offset_x2_batch-1</td>\n",
       "      <td>0.029764</td>\n",
       "      <td>4.392227</td>\n",
       "      <td>0.1</td>\n",
       "    </tr>\n",
       "    <tr>\n",
       "      <th>452</th>\n",
       "      <td>observable_x2_offsetted</td>\n",
       "      <td>condition-3</td>\n",
       "      <td></td>\n",
       "      <td>offset_x2_batch-1</td>\n",
       "      <td>0.061585</td>\n",
       "      <td>4.471392</td>\n",
       "      <td>0.1</td>\n",
       "    </tr>\n",
       "    <tr>\n",
       "      <th>453</th>\n",
       "      <td>observable_x2_offsetted</td>\n",
       "      <td>condition-3</td>\n",
       "      <td></td>\n",
       "      <td>offset_x2_batch-1</td>\n",
       "      <td>0.127427</td>\n",
       "      <td>4.493539</td>\n",
       "      <td>0.1</td>\n",
       "    </tr>\n",
       "    <tr>\n",
       "      <th>454</th>\n",
       "      <td>observable_x2_offsetted</td>\n",
       "      <td>condition-3</td>\n",
       "      <td></td>\n",
       "      <td>offset_x2_batch-1</td>\n",
       "      <td>0.263665</td>\n",
       "      <td>4.695208</td>\n",
       "      <td>0.1</td>\n",
       "    </tr>\n",
       "    <tr>\n",
       "      <th>455</th>\n",
       "      <td>observable_x2_offsetted</td>\n",
       "      <td>condition-3</td>\n",
       "      <td></td>\n",
       "      <td>offset_x2_batch-1</td>\n",
       "      <td>0.545559</td>\n",
       "      <td>4.740609</td>\n",
       "      <td>0.1</td>\n",
       "    </tr>\n",
       "    <tr>\n",
       "      <th>456</th>\n",
       "      <td>observable_x2_offsetted</td>\n",
       "      <td>condition-3</td>\n",
       "      <td></td>\n",
       "      <td>offset_x2_batch-1</td>\n",
       "      <td>1.128838</td>\n",
       "      <td>4.659673</td>\n",
       "      <td>0.1</td>\n",
       "    </tr>\n",
       "    <tr>\n",
       "      <th>457</th>\n",
       "      <td>observable_x2_offsetted</td>\n",
       "      <td>condition-3</td>\n",
       "      <td></td>\n",
       "      <td>offset_x2_batch-1</td>\n",
       "      <td>2.335721</td>\n",
       "      <td>4.675761</td>\n",
       "      <td>0.1</td>\n",
       "    </tr>\n",
       "    <tr>\n",
       "      <th>458</th>\n",
       "      <td>observable_x2_offsetted</td>\n",
       "      <td>condition-3</td>\n",
       "      <td></td>\n",
       "      <td>offset_x2_batch-1</td>\n",
       "      <td>4.832930</td>\n",
       "      <td>4.829024</td>\n",
       "      <td>0.1</td>\n",
       "    </tr>\n",
       "    <tr>\n",
       "      <th>459</th>\n",
       "      <td>observable_x2_offsetted</td>\n",
       "      <td>condition-3</td>\n",
       "      <td></td>\n",
       "      <td>offset_x2_batch-1</td>\n",
       "      <td>10.000000</td>\n",
       "      <td>4.453671</td>\n",
       "      <td>0.1</td>\n",
       "    </tr>\n",
       "    <tr>\n",
       "      <th>460</th>\n",
       "      <td>observable_x1withsigma</td>\n",
       "      <td>condition-3</td>\n",
       "      <td></td>\n",
       "      <td>observable_x1withsigma_sigma_common</td>\n",
       "      <td>0.000010</td>\n",
       "      <td>-0.226437</td>\n",
       "      <td>NaN</td>\n",
       "    </tr>\n",
       "    <tr>\n",
       "      <th>461</th>\n",
       "      <td>observable_x1withsigma</td>\n",
       "      <td>condition-3</td>\n",
       "      <td></td>\n",
       "      <td>observable_x1withsigma_sigma_common</td>\n",
       "      <td>0.000021</td>\n",
       "      <td>-0.069475</td>\n",
       "      <td>NaN</td>\n",
       "    </tr>\n",
       "    <tr>\n",
       "      <th>462</th>\n",
       "      <td>observable_x1withsigma</td>\n",
       "      <td>condition-3</td>\n",
       "      <td></td>\n",
       "      <td>observable_x1withsigma_sigma_common</td>\n",
       "      <td>0.000043</td>\n",
       "      <td>0.136820</td>\n",
       "      <td>NaN</td>\n",
       "    </tr>\n",
       "    <tr>\n",
       "      <th>463</th>\n",
       "      <td>observable_x1withsigma</td>\n",
       "      <td>condition-3</td>\n",
       "      <td></td>\n",
       "      <td>observable_x1withsigma_sigma_common</td>\n",
       "      <td>0.000089</td>\n",
       "      <td>0.041571</td>\n",
       "      <td>NaN</td>\n",
       "    </tr>\n",
       "    <tr>\n",
       "      <th>464</th>\n",
       "      <td>observable_x1withsigma</td>\n",
       "      <td>condition-3</td>\n",
       "      <td></td>\n",
       "      <td>observable_x1withsigma_sigma_common</td>\n",
       "      <td>0.000183</td>\n",
       "      <td>0.113555</td>\n",
       "      <td>NaN</td>\n",
       "    </tr>\n",
       "    <tr>\n",
       "      <th>465</th>\n",
       "      <td>observable_x1withsigma</td>\n",
       "      <td>condition-3</td>\n",
       "      <td></td>\n",
       "      <td>observable_x1withsigma_sigma_common</td>\n",
       "      <td>0.000379</td>\n",
       "      <td>0.134495</td>\n",
       "      <td>NaN</td>\n",
       "    </tr>\n",
       "    <tr>\n",
       "      <th>466</th>\n",
       "      <td>observable_x1withsigma</td>\n",
       "      <td>condition-3</td>\n",
       "      <td></td>\n",
       "      <td>observable_x1withsigma_sigma_common</td>\n",
       "      <td>0.000785</td>\n",
       "      <td>0.272116</td>\n",
       "      <td>NaN</td>\n",
       "    </tr>\n",
       "    <tr>\n",
       "      <th>467</th>\n",
       "      <td>observable_x1withsigma</td>\n",
       "      <td>condition-3</td>\n",
       "      <td></td>\n",
       "      <td>observable_x1withsigma_sigma_common</td>\n",
       "      <td>0.001624</td>\n",
       "      <td>0.149360</td>\n",
       "      <td>NaN</td>\n",
       "    </tr>\n",
       "    <tr>\n",
       "      <th>468</th>\n",
       "      <td>observable_x1withsigma</td>\n",
       "      <td>condition-3</td>\n",
       "      <td></td>\n",
       "      <td>observable_x1withsigma_sigma_common</td>\n",
       "      <td>0.003360</td>\n",
       "      <td>0.023023</td>\n",
       "      <td>NaN</td>\n",
       "    </tr>\n",
       "    <tr>\n",
       "      <th>469</th>\n",
       "      <td>observable_x1withsigma</td>\n",
       "      <td>condition-3</td>\n",
       "      <td></td>\n",
       "      <td>observable_x1withsigma_sigma_common</td>\n",
       "      <td>0.006952</td>\n",
       "      <td>-0.164340</td>\n",
       "      <td>NaN</td>\n",
       "    </tr>\n",
       "    <tr>\n",
       "      <th>470</th>\n",
       "      <td>observable_x1withsigma</td>\n",
       "      <td>condition-3</td>\n",
       "      <td></td>\n",
       "      <td>observable_x1withsigma_sigma_common</td>\n",
       "      <td>0.014384</td>\n",
       "      <td>-0.261753</td>\n",
       "      <td>NaN</td>\n",
       "    </tr>\n",
       "    <tr>\n",
       "      <th>471</th>\n",
       "      <td>observable_x1withsigma</td>\n",
       "      <td>condition-3</td>\n",
       "      <td></td>\n",
       "      <td>observable_x1withsigma_sigma_common</td>\n",
       "      <td>0.029764</td>\n",
       "      <td>0.318432</td>\n",
       "      <td>NaN</td>\n",
       "    </tr>\n",
       "    <tr>\n",
       "      <th>472</th>\n",
       "      <td>observable_x1withsigma</td>\n",
       "      <td>condition-3</td>\n",
       "      <td></td>\n",
       "      <td>observable_x1withsigma_sigma_common</td>\n",
       "      <td>0.061585</td>\n",
       "      <td>0.077046</td>\n",
       "      <td>NaN</td>\n",
       "    </tr>\n",
       "    <tr>\n",
       "      <th>473</th>\n",
       "      <td>observable_x1withsigma</td>\n",
       "      <td>condition-3</td>\n",
       "      <td></td>\n",
       "      <td>observable_x1withsigma_sigma_common</td>\n",
       "      <td>0.127427</td>\n",
       "      <td>0.172541</td>\n",
       "      <td>NaN</td>\n",
       "    </tr>\n",
       "    <tr>\n",
       "      <th>474</th>\n",
       "      <td>observable_x1withsigma</td>\n",
       "      <td>condition-3</td>\n",
       "      <td></td>\n",
       "      <td>observable_x1withsigma_sigma_common</td>\n",
       "      <td>0.263665</td>\n",
       "      <td>0.433627</td>\n",
       "      <td>NaN</td>\n",
       "    </tr>\n",
       "    <tr>\n",
       "      <th>475</th>\n",
       "      <td>observable_x1withsigma</td>\n",
       "      <td>condition-3</td>\n",
       "      <td></td>\n",
       "      <td>observable_x1withsigma_sigma_common</td>\n",
       "      <td>0.545559</td>\n",
       "      <td>0.784690</td>\n",
       "      <td>NaN</td>\n",
       "    </tr>\n",
       "    <tr>\n",
       "      <th>476</th>\n",
       "      <td>observable_x1withsigma</td>\n",
       "      <td>condition-3</td>\n",
       "      <td></td>\n",
       "      <td>observable_x1withsigma_sigma_common</td>\n",
       "      <td>1.128838</td>\n",
       "      <td>0.652980</td>\n",
       "      <td>NaN</td>\n",
       "    </tr>\n",
       "    <tr>\n",
       "      <th>477</th>\n",
       "      <td>observable_x1withsigma</td>\n",
       "      <td>condition-3</td>\n",
       "      <td></td>\n",
       "      <td>observable_x1withsigma_sigma_common</td>\n",
       "      <td>2.335721</td>\n",
       "      <td>0.317439</td>\n",
       "      <td>NaN</td>\n",
       "    </tr>\n",
       "    <tr>\n",
       "      <th>478</th>\n",
       "      <td>observable_x1withsigma</td>\n",
       "      <td>condition-3</td>\n",
       "      <td></td>\n",
       "      <td>observable_x1withsigma_sigma_common</td>\n",
       "      <td>4.832930</td>\n",
       "      <td>0.143260</td>\n",
       "      <td>NaN</td>\n",
       "    </tr>\n",
       "    <tr>\n",
       "      <th>479</th>\n",
       "      <td>observable_x1withsigma</td>\n",
       "      <td>condition-3</td>\n",
       "      <td></td>\n",
       "      <td>observable_x1withsigma_sigma_common</td>\n",
       "      <td>10.000000</td>\n",
       "      <td>0.156210</td>\n",
       "      <td>NaN</td>\n",
       "    </tr>\n",
       "  </tbody>\n",
       "</table>\n",
       "<p>480 rows × 7 columns</p>\n",
       "</div>"
      ]
     },
     "execution_count": 9,
     "metadata": {},
     "output_type": "execute_result"
    }
   ],
   "source": [
    "df"
   ]
  },
  {
   "cell_type": "code",
   "execution_count": 10,
   "metadata": {},
   "outputs": [
    {
     "data": {
      "text/html": [
       "<div>\n",
       "<style scoped>\n",
       "    .dataframe tbody tr th:only-of-type {\n",
       "        vertical-align: middle;\n",
       "    }\n",
       "\n",
       "    .dataframe tbody tr th {\n",
       "        vertical-align: top;\n",
       "    }\n",
       "\n",
       "    .dataframe thead th {\n",
       "        text-align: right;\n",
       "    }\n",
       "</style>\n",
       "<table border=\"1\" class=\"dataframe\">\n",
       "  <thead>\n",
       "    <tr style=\"text-align: right;\">\n",
       "      <th></th>\n",
       "      <th>ID</th>\n",
       "      <th>condition-0</th>\n",
       "      <th>condition-1</th>\n",
       "      <th>condition-2</th>\n",
       "      <th>condition-3</th>\n",
       "    </tr>\n",
       "  </thead>\n",
       "  <tbody>\n",
       "    <tr>\n",
       "      <th>k0</th>\n",
       "      <td>k0</td>\n",
       "      <td>1.0</td>\n",
       "      <td>1.1</td>\n",
       "      <td>1.2</td>\n",
       "      <td>1.3</td>\n",
       "    </tr>\n",
       "  </tbody>\n",
       "</table>\n",
       "</div>"
      ],
      "text/plain": [
       "<div>\n",
       "<style scoped>\n",
       "    .dataframe tbody tr th:only-of-type {\n",
       "        vertical-align: middle;\n",
       "    }\n",
       "\n",
       "    .dataframe tbody tr th {\n",
       "        vertical-align: top;\n",
       "    }\n",
       "\n",
       "    .dataframe thead th {\n",
       "        text-align: right;\n",
       "    }\n",
       "</style>\n",
       "<table border=\"1\" class=\"dataframe\">\n",
       "  <thead>\n",
       "    <tr style=\"text-align: right;\">\n",
       "      <th></th>\n",
       "      <th>ID</th>\n",
       "      <th>condition-0</th>\n",
       "      <th>condition-1</th>\n",
       "      <th>condition-2</th>\n",
       "      <th>condition-3</th>\n",
       "    </tr>\n",
       "  </thead>\n",
       "  <tbody>\n",
       "    <tr>\n",
       "      <th>k0</th>\n",
       "      <td>k0</td>\n",
       "      <td>1.0</td>\n",
       "      <td>1.1</td>\n",
       "      <td>1.2</td>\n",
       "      <td>1.3</td>\n",
       "    </tr>\n",
       "  </tbody>\n",
       "</table>\n",
       "</div>"
      ]
     },
     "execution_count": 10,
     "metadata": {},
     "output_type": "execute_result"
    }
   ],
   "source": [
    "conditionDf"
   ]
  },
  {
   "cell_type": "code",
   "execution_count": 13,
   "metadata": {
    "collapsed": false
   },
   "outputs": [
    {
     "name": "stdout",
     "output_type": "stream",
     "text": [
      "Measurements shape (480, 7)\nChanging t = Inf to t = 1e8.\nNum conditions:  4\nNum timepoints:  20 [1e-05, 2.0691380811147897e-05, 4.281332398719396e-05, 8.858667904100833e-05, 0.0001832980710832436, 0.000379269019073225, 0.0007847599703514606, 0.001623776739188721, 0.003359818286283781, 0.006951927961775605, 0.014384498882876632, 0.029763514416313162, 0.061584821106602614, 0.1274274985703132, 0.26366508987303555, 0.5455594781168515, 1.1288378916846884, 2.3357214690901213, 4.832930238571752, 10.0]\nFixed parameters orginal:  (1, 4)\nFixed parameters usable:  (1, 4)\nGenerate parameter list...\nNumber of simulation parameters: 8\nNumber of optimization parameters: 9\nGenerating fixed parameters matrix...\nNumber of fixed parameters: 1\nGenerating measurement matrix...\n\u001b[33mWarning: Not sure if SBML observable \"scaled\" matches AMICI formula \"x1*scaling_x1\"\u001b[0m\n\u001b[33mWarning: Not sure if SBML observable \"offsetted\" matches AMICI formula \"offset_x2 + x2\"\u001b[0m\n\u001b[33mWarning: Not sure if SBML observable \"x1withsigma\" matches AMICI formula \"x1\"\u001b[0m\nNumber of observables: 6\nHandling scaling parameters...\n\u001b[32mParameter scaling_x1_common selected as proportionality factor for hierarchical optimization (x1*scaling_x1).\u001b[0m\nNumber of proportionality factors for hierarchical optimization: 1\n\u001b[32mParameter offset_x2_batch-0 selected as offset for hierarchical optimization (offset_x2 + x2).\u001b[0m\n\u001b[32mParameter offset_x2_batch-1 selected as offset for hierarchical optimization (offset_x2 + x2).\u001b[0m\nNumber of offset parameters for hierarchical optimization: 2\nNumber of sigmas for hierarchical optimization: 1\nCopying default AMICI options...\nWriting default optimization options...\n\n0\n"
     ]
    }
   ],
   "source": [
    "# write data frames to file\n",
    "measurement_file = 'example_data.tsv'\n",
    "fixed_parameter_file = 'example_data_fixed.tsv'\n",
    "hdf5File = 'example_data.h5'\n",
    "\n",
    "df.to_csv(measurement_file, sep='\\t', index=False)\n",
    "conditionDf.to_csv(fixed_parameter_file, sep='\\t', index=False)\n",
    "\n",
    "! /bin/bash -c \"if [[ -f example_data.h5 ]]; then cp example_data.h5 example_data.h5.bak; fi\"\n",
    "# convert to HDF5\n",
    "import subprocess\n",
    "out = subprocess.run(['%s/generateHDF5DataFileFromText.py' % os.path.join(os.getcwd(), '..', '..', '..', 'misc'),\n",
    "    hdf5File,\n",
    "    sbml_file,\n",
    "    model_output_dir,\n",
    "    measurement_file,\n",
    "    fixed_parameter_file], stdout=subprocess.PIPE, stderr=subprocess.STDOUT)\n",
    "print(out.stdout.decode(\"utf-8\"))\n",
    "print(out.returncode)\n"
   ]
  },
  {
   "cell_type": "code",
   "execution_count": 14,
   "metadata": {},
   "outputs": [],
   "source": [
    "# write true parameters as first starting point, an perturbed additional points\n",
    "# two times the same point to check for reproducibility\n",
    "import h5py\n",
    "with h5py.File(hdf5File, 'r+') as f:\n",
    "    pscale = f['/parameters/pscale'][:]\n",
    "    true_parameters_scaled = true_parameters.copy()\n",
    "    for i, p in enumerate(pscale):\n",
    "        if p == 2:\n",
    "            true_parameters_scaled[i] = np.log10(true_parameters[i])\n",
    "    \n",
    "    for i in range(10):\n",
    "        parameters = true_parameters_scaled\n",
    "        #parameters = parameters + np.random.normal(0.0, 0.2 + i * 0.1, true_parameters.shape)\n",
    "        #parameters = np.random.uniform(-3, 5, true_parameters.shape)\n",
    "        \n",
    "        #print(parameters)\n",
    "        f['/optimizationOptions/randomStarts'][:,2*i]   = parameters\n",
    "        f['/optimizationOptions/randomStarts'][:,2*i+1] = parameters\n"
   ]
  },
  {
   "cell_type": "code",
   "execution_count": 15,
   "metadata": {},
   "outputs": [
    {
     "name": "stdout",
     "output_type": "stream",
     "text": [
      "                               optimizer            0\r\n",
      "                       retryOptimization            1\r\n",
      "                               numStarts            2\r\n",
      "                hierarchicalOptimization            0\r\n",
      "                ceres/max_num_iterations          100\r\n",
      "                         fmincon/MaxIter          100\r\n",
      "                            fmincon/TolX        1e-08\r\n",
      "                          fmincon/TolFun            0\r\n",
      "                     fmincon/MaxFunEvals   10000000.0\r\n",
      "                       fmincon/algorithm b'interior-point'\r\n",
      "                         fmincon/GradObj        b'on'\r\n",
      "                         fmincon/display      b'iter'\r\n",
      "                          ipopt/max_iter          100\r\n",
      "             ipopt/hessian_approximation b'limited-memory'\r\n",
      "        ipopt/limited_memory_update_type      b'bfgs'\r\n",
      "                               ipopt/tol        1e-09\r\n",
      "                   ipopt/acceptable_iter            1\r\n",
      "                    ipopt/acceptable_tol        1e+20\r\n",
      "         ipopt/acceptable_obj_change_tol        1e-12\r\n",
      "   ipopt/watchdog_shortened_iter_trigger            0\r\n",
      "                          toms611/mxfcal  100000000.0\r\n"
     ]
    },
    {
     "name": "stdout",
     "output_type": "stream",
     "text": [
      "                               optimizer            0\r\n                       retryOptimization            1\r\n                               numStarts            2\r\n                hierarchicalOptimization            0\r\n                ceres/max_num_iterations          100\r\n                         fmincon/MaxIter          100\r\n                            fmincon/TolX        1e-08\r\n                          fmincon/TolFun            0\r\n                     fmincon/MaxFunEvals   10000000.0\r\n                       fmincon/algorithm b'interior-point'\r\n                         fmincon/GradObj        b'on'\r\n                         fmincon/display      b'iter'\r\n                          ipopt/max_iter          100\r\n             ipopt/hessian_approximation b'limited-memory'\r\n        ipopt/limited_memory_update_type      b'bfgs'\r\n                               ipopt/tol        1e-09\r\n                   ipopt/acceptable_iter            1\r\n                    ipopt/acceptable_tol        1e+20\r\n         ipopt/acceptable_obj_change_tol        1e-12\r\n   ipopt/watchdog_shortened_iter_trigger            0\r\n                          toms611/mxfcal  100000000.0\r\n"
     ]
    }
   ],
   "source": [
    "# enable derivate checker\n",
    "#!../../../misc/optimizationOptions.py example_data.h5 -s ipopt/derivative_test first-order\n",
    "#!../../../misc/optimizationOptions.py example_data.h5 -s ipopt/derivative_test_print_all yes\n",
    "!../../../misc/optimizationOptions.py example_data.h5 -s numStarts 2\n",
    "!../../../misc/optimizationOptions.py example_data.h5 -s hierarchicalOptimization 0\n",
    "!../../../misc/optimizationOptions.py example_data.h5\n"
   ]
  },
  {
   "cell_type": "markdown",
   "metadata": {},
   "source": [
    "## Gradient check"
   ]
  },
  {
   "cell_type": "code",
   "execution_count": 16,
   "metadata": {},
   "outputs": [
    {
     "name": "stdout",
     "output_type": "stream",
     "text": [
      "\u001b[31m[2018-08-23 09:04:33] [ERR] [-1/]     0 g:  -1.8958e+11  fd_c:            0  Δ/fd_c: -1.895798e+16  f:  1.04252e+23\u001b[0m\r\n\u001b[31m[2018-08-23 09:04:33] [ERR] [-1/]     1 g:  1.58108e+09  fd_c:            0  Δ/fd_c: 1.581077e+14  f:  1.04252e+23\u001b[0m"
     ]
    },
    {
     "name": "stdout",
     "output_type": "stream",
     "text": [
      "\r\n\u001b[31m[2018-08-23 09:04:33] [ERR] [-1/]     2 g:  3.49597e+09  fd_c:            0  Δ/fd_c: 3.495970e+14  f:  1.04252e+23\u001b[0m\r\n\u001b[31m[2018-08-23 09:04:33] [ERR] [-1/]     3 g:  -1.9638e+12  fd_c:            0  Δ/fd_c: -1.963799e+17  f:  1.04252e+23\u001b[0m\r\n"
     ]
    },
    {
     "name": "stdout",
     "output_type": "stream",
     "text": [
      "\u001b[31m[2018-08-23 09:04:33] [ERR] [-1/]     4 g: -2.00468e+08  fd_c:            0  Δ/fd_c: -2.004677e+13  f:  1.04252e+23\u001b[0m\r\n\u001b[31m[2018-08-23 09:04:33] [ERR] [-1/]     5 g:     -11.0693  fd_c:            0  Δ/fd_c: -1.106926e+06  f:  1.04252e+23\u001b[0m\r\n\u001b[31m[2018-08-23 09:04:33] [ERR] [-1/]     6 g: -2.68736e+13  fd_c:            0  Δ/fd_c: -2.687361e+18  f:  1.04252e+23\u001b[0m"
     ]
    },
    {
     "name": "stdout",
     "output_type": "stream",
     "text": [
      "\r\n\u001b[31m[2018-08-23 09:04:33] [ERR] [-1/]     7 g:     -15124.6  fd_c:            0  Δ/fd_c: -1.512460e+09  f:  1.04252e+23\u001b[0m\r\n\u001b[31m[2018-08-23 09:04:33] [ERR] [-1/]     8 g:  1.05749e+13  fd_c:            0  Δ/fd_c: 1.057489e+18  f:  1.04252e+23\u001b[0m\r\n\u001b[32m[2018-08-23 09:04:33] [INF] [-1/] Walltime on master: 0.315696s, CPU time of all processes: 0.151485s\u001b[0m\r\n"
     ]
    },
    {
     "name": "stdout",
     "output_type": "stream",
     "text": [
      "\u001b[31m[2018-08-23 09:04:34] [ERR] [-1/]     0 g:  -1.8958e+11  fd_c:            0  Δ/fd_c: -1.895798e+16  f:  1.04252e+23\u001b[0m\r\n\u001b[31m[2018-08-23 09:04:34] [ERR] [-1/]     1 g:  1.58108e+09  fd_c:            0  Δ/fd_c: 1.581077e+14  f:  1.04252e+23\u001b[0m"
     ]
    },
    {
     "name": "stdout",
     "output_type": "stream",
     "text": [
      "\r\n\u001b[31m[2018-08-23 09:04:34] [ERR] [-1/]     2 g:  3.49597e+09  fd_c:            0  Δ/fd_c: 3.495970e+14  f:  1.04252e+23\u001b[0m\r\n\u001b[31m[2018-08-23 09:04:34] [ERR] [-1/]     3 g:  -1.9638e+12  fd_c:            0  Δ/fd_c: -1.963799e+17  f:  1.04252e+23\u001b[0m\r\n"
     ]
    },
    {
     "name": "stdout",
     "output_type": "stream",
     "text": [
      "\u001b[31m[2018-08-23 09:04:34] [ERR] [-1/]     4 g: -2.00468e+08  fd_c:            0  Δ/fd_c: -2.004677e+13  f:  1.04252e+23\u001b[0m\r\n\u001b[31m[2018-08-23 09:04:34] [ERR] [-1/]     5 g:     -11.0693  fd_c:            0  Δ/fd_c: -1.106926e+06  f:  1.04252e+23\u001b[0m\r\n\u001b[31m[2018-08-23 09:04:34] [ERR] [-1/]     6 g: -2.68736e+13  fd_c:            0  Δ/fd_c: -2.687361e+18  f:  1.04252e+23\u001b[0m"
     ]
    },
    {
     "name": "stdout",
     "output_type": "stream",
     "text": [
      "\r\n\u001b[31m[2018-08-23 09:04:34] [ERR] [-1/]     7 g:     -15124.6  fd_c:            0  Δ/fd_c: -1.512460e+09  f:  1.04252e+23\u001b[0m\r\n\u001b[31m[2018-08-23 09:04:34] [ERR] [-1/]     8 g:  1.05749e+13  fd_c:            0  Δ/fd_c: 1.057489e+18  f:  1.04252e+23\u001b[0m\r\n\u001b[32m[2018-08-23 09:04:34] [INF] [-1/] Walltime on master: 0.300098s, CPU time of all processes: 0.143961s\u001b[0m\r\n"
     ]
    },
    {
     "name": "stdout",
     "output_type": "stream",
     "text": [
      "\u001b[31m[2018-08-23 09:04:35] [ERR] [-1/]     0 g: -2.64251e+13  fd_c:            0  Δ/fd_c: -2.642512e+18  f:   3.3315e+23\u001b[0m\r\n\u001b[31m[2018-08-23 09:04:35] [ERR] [-1/]     1 g:  3.19718e+13  fd_c:            0  Δ/fd_c: 3.197176e+18  f:   3.3315e+23\u001b[0m\r\n\u001b[31m[2018-08-23 09:04:35] [ERR] [-1/]     2 g:  1.66448e+09  fd_c:            0  Δ/fd_c: 1.664484e+14  f:   3.3315e+23\u001b[0m\r\n"
     ]
    },
    {
     "name": "stdout",
     "output_type": "stream",
     "text": [
      "\u001b[31m[2018-08-23 09:04:35] [ERR] [-1/]     3 g: -6.25261e+11  fd_c:            0  Δ/fd_c: -6.252607e+16  f:   3.3315e+23\u001b[0m\r\n\u001b[31m[2018-08-23 09:04:35] [ERR] [-1/]     4 g: -1.29182e+15  fd_c:            0  Δ/fd_c: -1.291820e+20  f:   3.3315e+23\u001b[0m\r\n\u001b[31m[2018-08-23 09:04:35] [ERR] [-1/]     5 g:     -11.9837  fd_c:            0  Δ/fd_c: -1.198371e+06  f:   3.3315e+23\u001b[0m\r\n\u001b[31m[2018-08-23 09:04:35] [ERR] [-1/]     6 g: -3.78629e+13  fd_c:            0  Δ/fd_c: -3.786292e+18  f:   3.3315e+23\u001b[0m"
     ]
    },
    {
     "name": "stdout",
     "output_type": "stream",
     "text": [
      "\r\n\u001b[31m[2018-08-23 09:04:35] [ERR] [-1/]     7 g: -3.69629e+10  fd_c:            0  Δ/fd_c: -3.696291e+15  f:   3.3315e+23\u001b[0m\r\n\u001b[31m[2018-08-23 09:04:35] [ERR] [-1/]     8 g:  3.50941e+13  fd_c:            0  Δ/fd_c: 3.509410e+18  f:   3.3315e+23\u001b[0m\r\n\u001b[32m[2018-08-23 09:04:35] [INF] [-1/] Walltime on master: 0.347702s, CPU time of all processes: 0.167977s\u001b[0m\r\n"
     ]
    }
   ],
   "source": [
    "for i in range(3):\n",
    "    !PARPE_NO_DEBUG=1 ../../../build/amici/examples/steadystate/example_steadystate_multi -t gradient_check -o deletemegc/ example_data.h5\n"
   ]
  },
  {
   "cell_type": "markdown",
   "metadata": {},
   "source": [
    "## Optimize"
   ]
  },
  {
   "cell_type": "code",
   "execution_count": 17,
   "metadata": {},
   "outputs": [
    {
     "name": "stdout",
     "output_type": "stream",
     "text": [
      "/home/paul/Documents/parpe/parPE/amici/examples/steadystate\r\n"
     ]
    },
    {
     "name": "stdout",
     "output_type": "stream",
     "text": [
      "-- HDF5: Using hdf5 compiler wrapper to determine CXX configuration\r\n"
     ]
    },
    {
     "name": "stdout",
     "output_type": "stream",
     "text": [
      "-- HDF5: Using hdf5 compiler wrapper to determine C configuration\r\n"
     ]
    },
    {
     "name": "stdout",
     "output_type": "stream",
     "text": [
      "-- clang-format was not found\r\n-- clang-tidy was not found\r\n"
     ]
    },
    {
     "name": "stdout",
     "output_type": "stream",
     "text": [
      "-- Boost version: 1.65.1\r\n-- Found the following Boost libraries:\r\n--   serialization\r\n-- Performing Test CUR_FLAG_SUPPORTED\r\n"
     ]
    },
    {
     "name": "stdout",
     "output_type": "stream",
     "text": [
      "-- Performing Test CUR_FLAG_SUPPORTED - Success\r\n-- Performing Test CUR_FLAG_SUPPORTED\r\n"
     ]
    },
    {
     "name": "stdout",
     "output_type": "stream",
     "text": [
      "-- Performing Test CUR_FLAG_SUPPORTED - Success\r\n-- Performing Test CUR_FLAG_SUPPORTED\r\n"
     ]
    },
    {
     "name": "stdout",
     "output_type": "stream",
     "text": [
      "-- Performing Test CUR_FLAG_SUPPORTED - Success\r\n-- Performing Test CUR_FLAG_SUPPORTED\r\n"
     ]
    },
    {
     "name": "stdout",
     "output_type": "stream",
     "text": [
      "-- Performing Test CUR_FLAG_SUPPORTED - Success\r\n"
     ]
    },
    {
     "name": "stdout",
     "output_type": "stream",
     "text": [
      "-- Configuring done\r\n"
     ]
    },
    {
     "name": "stdout",
     "output_type": "stream",
     "text": [
      "-- Generating done\r\n"
     ]
    },
    {
     "name": "stdout",
     "output_type": "stream",
     "text": [
      "-- Build files have been written to: /home/paul/Documents/parpe/parPE/build\r\n"
     ]
    },
    {
     "name": "stdout",
     "output_type": "stream",
     "text": [
      "\u001b[35m\u001b[1mScanning dependencies of target model_steadystate_scaled\u001b[0m"
     ]
    },
    {
     "name": "stdout",
     "output_type": "stream",
     "text": [
      "\r\n"
     ]
    },
    {
     "name": "stdout",
     "output_type": "stream",
     "text": [
      "[  7%] Built target parpecommon"
     ]
    },
    {
     "name": "stdout",
     "output_type": "stream",
     "text": [
      "\r\n-- Found Git: /usr/bin/git (found version \"2.17.1\") \r\n"
     ]
    },
    {
     "name": "stdout",
     "output_type": "stream",
     "text": [
      "[  8%] \u001b[32mBuilding CXX object amici/examples/steadystate/model_steadystate_scaled/CMakeFiles/model_steadystate_scaled.dir/model_steadystate_scaled_JvB.cpp.o\u001b[0m"
     ]
    },
    {
     "name": "stdout",
     "output_type": "stream",
     "text": [
      "\r\n"
     ]
    },
    {
     "name": "stdout",
     "output_type": "stream",
     "text": [
      "[ 14%] \u001b[32mBuilding CXX object amici/examples/steadystate/model_steadystate_scaled/CMakeFiles/model_steadystate_scaled.dir/model_steadystate_scaled_Jv.cpp.o\u001b[0m\r\n[  9%] \u001b[32mBuilding CXX object amici/examples/steadystate/model_steadystate_scaled/CMakeFiles/model_steadystate_scaled.dir/model_steadystate_scaled_dJydy.cpp.o\u001b[0m\r\n-- Building version parPE-v0.1.8-3-g9ebf-dirty\r\n[ 10%] \u001b[32mBuilding CXX object amici/examples/steadystate/model_steadystate_scaled/CMakeFiles/model_steadystate_scaled.dir/model_steadystate_scaled_J.cpp.o\u001b[0m\r\n[ 11%] \u001b[32mBuilding CXX object amici/examples/steadystate/model_steadystate_scaled/CMakeFiles/model_steadystate_scaled.dir/model_steadystate_scaled_JDiag.cpp.o\u001b[0m\r\n[ 11%] \u001b[32mBuilding CXX object amici/examples/steadystate/model_steadystate_scaled/CMakeFiles/model_steadystate_scaled.dir/model_steadystate_scaled_JSparseB.cpp.o\u001b[0m\r\n[ 12%] \u001b[32mBuilding CXX object amici/examples/steadystate/model_steadystate_scaled/CMakeFiles/model_steadystate_scaled.dir/model_steadystate_scaled_JB.cpp.o\u001b[0m\r\n[ 13%] \u001b[32mBuilding CXX object amici/examples/steadystate/model_steadystate_scaled/CMakeFiles/model_steadystate_scaled.dir/model_steadystate_scaled_JSparse.cpp.o\u001b[0m\r\n[ 15%] \u001b[32mBuilding CXX object amici/examples/steadystate/model_steadystate_scaled/CMakeFiles/model_steadystate_scaled.dir/model_steadystate_scaled_Jy.cpp.o\u001b[0m\r\n[ 16%] \u001b[32mBuilding CXX object amici/examples/steadystate/model_steadystate_scaled/CMakeFiles/model_steadystate_scaled.dir/model_steadystate_scaled_dJydsigma.cpp.o\u001b[0m"
     ]
    },
    {
     "name": "stdout",
     "output_type": "stream",
     "text": [
      "\r\n"
     ]
    },
    {
     "name": "stdout",
     "output_type": "stream",
     "text": [
      "[ 16%] Built target get_version"
     ]
    },
    {
     "name": "stdout",
     "output_type": "stream",
     "text": [
      "\r\n"
     ]
    },
    {
     "name": "stdout",
     "output_type": "stream",
     "text": [
      "[ 18%] Built target parpeloadbalancer"
     ]
    },
    {
     "name": "stdout",
     "output_type": "stream",
     "text": [
      "\r\n"
     ]
    },
    {
     "name": "stdout",
     "output_type": "stream",
     "text": [
      "\u001b[35m\u001b[1mScanning dependencies of target parpeoptimization\u001b[0m"
     ]
    },
    {
     "name": "stdout",
     "output_type": "stream",
     "text": [
      "\r\n"
     ]
    },
    {
     "name": "stdout",
     "output_type": "stream",
     "text": [
      "[ 22%] Built target unittests_common"
     ]
    },
    {
     "name": "stdout",
     "output_type": "stream",
     "text": [
      "\r\n"
     ]
    },
    {
     "name": "stdout",
     "output_type": "stream",
     "text": [
      "[ 23%] \u001b[32mBuilding CXX object optimization/src/CMakeFiles/parpeoptimization.dir/optimizationResultWriter.cpp.o\u001b[0m"
     ]
    },
    {
     "name": "stdout",
     "output_type": "stream",
     "text": [
      "\r\n"
     ]
    },
    {
     "name": "stdout",
     "output_type": "stream",
     "text": [
      "[ 26%] Built target unittests_loadbalancer"
     ]
    },
    {
     "name": "stdout",
     "output_type": "stream",
     "text": [
      "\r\n[ 27%] \u001b[32mBuilding CXX object amici/examples/steadystate/model_steadystate_scaled/CMakeFiles/model_steadystate_scaled.dir/model_steadystate_scaled_dwdp.cpp.o\u001b[0m"
     ]
    },
    {
     "name": "stdout",
     "output_type": "stream",
     "text": [
      "\r\n"
     ]
    },
    {
     "name": "stdout",
     "output_type": "stream",
     "text": [
      "[ 28%] \u001b[32mBuilding CXX object amici/examples/steadystate/model_steadystate_scaled/CMakeFiles/model_steadystate_scaled.dir/model_steadystate_scaled_dwdx.cpp.o\u001b[0m\r\n"
     ]
    },
    {
     "name": "stdout",
     "output_type": "stream",
     "text": [
      "[ 28%] \u001b[32mBuilding CXX object amici/examples/steadystate/model_steadystate_scaled/CMakeFiles/model_steadystate_scaled.dir/model_steadystate_scaled_dxdotdp.cpp.o\u001b[0m"
     ]
    },
    {
     "name": "stdout",
     "output_type": "stream",
     "text": [
      "\r\n"
     ]
    },
    {
     "name": "stdout",
     "output_type": "stream",
     "text": [
      "[ 29%] \u001b[32mBuilding CXX object amici/examples/steadystate/model_steadystate_scaled/CMakeFiles/model_steadystate_scaled.dir/model_steadystate_scaled_dydp.cpp.o\u001b[0m"
     ]
    },
    {
     "name": "stdout",
     "output_type": "stream",
     "text": [
      "\r\n[ 31%] \u001b[32mBuilding CXX object amici/examples/steadystate/model_steadystate_scaled/CMakeFiles/model_steadystate_scaled.dir/model_steadystate_scaled_dydx.cpp.o\u001b[0m"
     ]
    },
    {
     "name": "stdout",
     "output_type": "stream",
     "text": [
      "\r\n[ 33%] \u001b[32mBuilding CXX object amici/examples/steadystate/model_steadystate_scaled/CMakeFiles/model_steadystate_scaled.dir/model_steadystate_scaled_sigmay.cpp.o\u001b[0m"
     ]
    },
    {
     "name": "stdout",
     "output_type": "stream",
     "text": [
      "\r\n[ 30%] \u001b[32mBuilding CXX object amici/examples/steadystate/model_steadystate_scaled/CMakeFiles/model_steadystate_scaled.dir/model_steadystate_scaled_qBdot.cpp.o\u001b[0m\r\n[ 32%] \u001b[32mBuilding CXX object amici/examples/steadystate/model_steadystate_scaled/CMakeFiles/model_steadystate_scaled.dir/model_steadystate_scaled_dsigmaydp.cpp.o\u001b[0m\r\n"
     ]
    },
    {
     "name": "stdout",
     "output_type": "stream",
     "text": [
      "[ 34%] \u001b[32mBuilding CXX object amici/examples/steadystate/model_steadystate_scaled/CMakeFiles/model_steadystate_scaled.dir/model_steadystate_scaled_sxdot.cpp.o\u001b[0m\r\n"
     ]
    },
    {
     "name": "stdout",
     "output_type": "stream",
     "text": [
      "[ 34%] \u001b[32mBuilding CXX object amici/examples/steadystate/model_steadystate_scaled/CMakeFiles/model_steadystate_scaled.dir/model_steadystate_scaled_w.cpp.o\u001b[0m\r\n"
     ]
    },
    {
     "name": "stdout",
     "output_type": "stream",
     "text": [
      "[ 36%] Built target example_loadbalancer"
     ]
    },
    {
     "name": "stdout",
     "output_type": "stream",
     "text": [
      "\r\n"
     ]
    },
    {
     "name": "stdout",
     "output_type": "stream",
     "text": [
      "[ 37%] \u001b[32mBuilding CXX object amici/examples/steadystate/model_steadystate_scaled/CMakeFiles/model_steadystate_scaled.dir/model_steadystate_scaled_x0.cpp.o\u001b[0m"
     ]
    },
    {
     "name": "stdout",
     "output_type": "stream",
     "text": [
      "\r\n"
     ]
    },
    {
     "name": "stdout",
     "output_type": "stream",
     "text": [
      "[ 38%] \u001b[32mBuilding CXX object amici/examples/steadystate/model_steadystate_scaled/CMakeFiles/model_steadystate_scaled.dir/model_steadystate_scaled_sx0.cpp.o\u001b[0m\r\n"
     ]
    },
    {
     "name": "stdout",
     "output_type": "stream",
     "text": [
      "[ 39%] \u001b[32mBuilding CXX object amici/examples/steadystate/model_steadystate_scaled/CMakeFiles/model_steadystate_scaled.dir/model_steadystate_scaled_xBdot.cpp.o\u001b[0m"
     ]
    },
    {
     "name": "stdout",
     "output_type": "stream",
     "text": [
      "\r\n[ 40%] \u001b[32mBuilding CXX object amici/examples/steadystate/model_steadystate_scaled/CMakeFiles/model_steadystate_scaled.dir/model_steadystate_scaled_xdot.cpp.o\u001b[0m\r\n[ 41%] \u001b[32mBuilding CXX object amici/examples/steadystate/model_steadystate_scaled/CMakeFiles/model_steadystate_scaled.dir/model_steadystate_scaled_y.cpp.o\u001b[0m"
     ]
    },
    {
     "name": "stdout",
     "output_type": "stream",
     "text": [
      "\r\n[ 42%] \u001b[32mBuilding CXX object amici/examples/steadystate/model_steadystate_scaled/CMakeFiles/model_steadystate_scaled.dir/wrapfunctions.cpp.o\u001b[0m\r\n"
     ]
    },
    {
     "name": "stdout",
     "output_type": "stream",
     "text": [
      "In file included from \u001b[01m\u001b[K/home/paul/Documents/parpe/parPE/amici/examples/steadystate/model_steadystate_scaled/wrapfunctions.h:3:0\u001b[m\u001b[K,\r\n                 from \u001b[01m\u001b[K/home/paul/Documents/parpe/parPE/amici/examples/steadystate/model_steadystate_scaled/wrapfunctions.cpp:2\u001b[m\u001b[K:\r\n\u001b[01m\u001b[K/home/paul/Documents/parpe/parPE/amici/examples/steadystate/model_steadystate_scaled/model_steadystate_scaled.h:744:38:\u001b[m\u001b[K \u001b[01;31m\u001b[Kerror: \u001b[m\u001b[K‘\u001b[01m\u001b[Kvirtual std::vector<std::__cxx11::basic_string<char> > Model_model_steadystate_scaled::getParameterIds() const\u001b[m\u001b[K’ marked ‘\u001b[01m\u001b[Koverride\u001b[m\u001b[K’, but does not override\r\n     virtual std::vector<std::string> \u001b[01;31m\u001b[KgetParameterIds\u001b[m\u001b[K() const override { return std::vector<std::string> {\"p1\",\r\n                                      \u001b[01;31m\u001b[K^~~~~~~~~~~~~~~\u001b[m\u001b[K\r\n\u001b[01m\u001b[K/home/paul/Documents/parpe/parPE/amici/examples/steadystate/model_steadystate_scaled/model_steadystate_scaled.h:757:38:\u001b[m\u001b[K \u001b[01;31m\u001b[Kerror: \u001b[m\u001b[K‘\u001b[01m\u001b[Kvirtual std::vector<std::__cxx11::basic_string<char> > Model_model_steadystate_scaled::getStateIds() const\u001b[m\u001b[K’ marked ‘\u001b[01m\u001b[Koverride\u001b[m\u001b[K’, but does not override\r\n     virtual std::vector<std::string> \u001b[01;31m\u001b[KgetStateIds\u001b[m\u001b[K() const override { return std::vector<std::string> {\"x1\",\r\n                                      \u001b[01;31m\u001b[K^~~~~~~~~~~\u001b[m\u001b[K\r\n\u001b[01m\u001b[K/home/paul/Documents/parpe/parPE/amici/examples/steadystate/model_steadystate_scaled/model_steadystate_scaled.h:765:38:\u001b[m\u001b[K \u001b[01;31m\u001b[Kerror: \u001b[m\u001b[K‘\u001b[01m\u001b[Kvirtual std::vector<std::__cxx11::basic_string<char> > Model_model_steadystate_scaled::getFixedParameterIds() const\u001b[m\u001b[K’ marked ‘\u001b[01m\u001b[Koverride\u001b[m\u001b[K’, but does not override\r\n     virtual std::vector<std::string> \u001b[01;31m\u001b[KgetFixedParameterIds\u001b[m\u001b[K() const override { return std::vector<std::string> {\"k0\",}; }\r\n                                      \u001b[01;31m\u001b[K^~~~~~~~~~~~~~~~~~~~\u001b[m\u001b[K\r\n\u001b[01m\u001b[K/home/paul/Documents/parpe/parPE/amici/examples/steadystate/model_steadystate_scaled/model_steadystate_scaled.h:771:38:\u001b[m\u001b[K \u001b[01;31m\u001b[Kerror: \u001b[m\u001b[K‘\u001b[01m\u001b[Kvirtual std::vector<std::__cxx11::basic_string<char> > Model_model_steadystate_scaled::getObservableIds() const\u001b[m\u001b[K’ marked ‘\u001b[01m\u001b[Koverride\u001b[m\u001b[K’, but does not override\r\n     virtual std::vector<std::string> \u001b[01;31m\u001b[KgetObservableIds\u001b[m\u001b[K() const override { return std::vector<std::string> {\"observable_x1\",\r\n                                      \u001b[01;31m\u001b[K^~~~~~~~~~~~~~~~\u001b[m\u001b[K\r\n\u001b[01m\u001b[K/home/paul/Documents/parpe/parPE/amici/examples/steadystate/model_steadystate_scaled/model_steadystate_scaled.h:\u001b[m\u001b[K In constructor ‘\u001b[01m\u001b[KModel_model_steadystate_scaled::Model_model_steadystate_scaled()\u001b[m\u001b[K’:\r\n\u001b[01m\u001b[K/home/paul/Documents/parpe/parPE/amici/examples/steadystate/model_steadystate_scaled/model_steadystate_scaled.h:67:22:\u001b[m\u001b[K \u001b[01;31m\u001b[Kerror: \u001b[m\u001b[K‘\u001b[01m\u001b[Kamici::SecondOrderMode\u001b[m\u001b[K’ has not been declared\r\n               amici::\u001b[01;31m\u001b[KSecondOrderMode\u001b[m\u001b[K::none, // o2mode\r\n                      \u001b[01;31m\u001b[K^~~~~~~~~~~~~~~\u001b[m\u001b[K\r\n"
     ]
    },
    {
     "name": "stdout",
     "output_type": "stream",
     "text": [
      "amici/examples/steadystate/model_steadystate_scaled/CMakeFiles/model_steadystate_scaled.dir/build.make:662: recipe for target 'amici/examples/steadystate/model_steadystate_scaled/CMakeFiles/model_steadystate_scaled.dir/wrapfunctions.cpp.o' failed\r\nmake[2]: *** [amici/examples/steadystate/model_steadystate_scaled/CMakeFiles/model_steadystate_scaled.dir/wrapfunctions.cpp.o] Error 1\r\nCMakeFiles/Makefile2:1994: recipe for target 'amici/examples/steadystate/model_steadystate_scaled/CMakeFiles/model_steadystate_scaled.dir/all' failed\r\nmake[1]: *** [amici/examples/steadystate/model_steadystate_scaled/CMakeFiles/model_steadystate_scaled.dir/all] Error 2\r\nmake[1]: *** Waiting for unfinished jobs....\r\n[ 43%] \u001b[32m\u001b[1mLinking CXX static library libparpeoptimization-dbg.a\u001b[0m\r\n"
     ]
    },
    {
     "name": "stdout",
     "output_type": "stream",
     "text": [
      "[ 49%] Built target parpeoptimization\r\nMakefile:162: recipe for target 'all' failed\r\nmake: *** [all] Error 2\r\n"
     ]
    },
    {
     "name": "stdout",
     "output_type": "stream",
     "text": [
      "\u001b[36m[2018-08-23 09:05:14] [DBG] [-1/] MPI not initialized.\u001b[0m\r\n\u001b[36m[2018-08-23 09:05:14] [DBG] [-1/] Seeding RNG with 1535007914\u001b[0m\r\n\u001b[36m[2018-08-23 09:05:14] [DBG] [-1/] Starting runParallelMultiStartOptimization with 2 starts sequentially\u001b[0m\r\n\u001b[32m[2018-08-23 09:05:14] [INF] [-1/] Reading random initial theta 0 from /optimizationOptions/randomStarts\u001b[0m\r\n\u001b[36m[2018-08-23 09:05:14] [DBG] [-1/] Set optimization option acceptable_iter to 1.\u001b[0m\r\n\u001b[36m[2018-08-23 09:05:14] [DBG] [-1/] Set optimization option acceptable_obj_change_tol to 9.9999999999999998e-13.\u001b[0m\r\n\u001b[36m[2018-08-23 09:05:14] [DBG] [-1/] Set optimization option acceptable_tol to 1e+20.\u001b[0m\r\n\u001b[36m[2018-08-23 09:05:14] [DBG] [-1/] Set optimization option hessian_approximation to limited-memory.\u001b[0m\r\n\u001b[36m[2018-08-23 09:05:14] [DBG] [-1/] Set optimization option limited_memory_update_type to bfgs.\u001b[0m\r\n\u001b[36m[2018-08-23 09:05:14] [DBG] [-1/] Set optimization option max_iter to 100.\u001b[0m\r\n\u001b[36m[2018-08-23 09:05:14] [DBG] [-1/] Set optimization option tol to 1.0000000000000001e-09.\u001b[0m\r\n\u001b[36m[2018-08-23 09:05:14] [DBG] [-1/] Set optimization option watchdog_shortened_iter_trigger to 0.\u001b[0m\r\n\r\nList of user-set options:\r\n\r\n                                    Name   Value                used\r\n                         acceptable_iter = 1                     yes\r\n               acceptable_obj_change_tol = 1e-12                 yes\r\n                          acceptable_tol = 1e+20                 yes\r\n                   hessian_approximation = limited-memory        yes\r\n              limited_memory_update_type = bfgs                  yes\r\n                                max_iter = 100                   yes\r\n                             print_level = 5                     yes\r\n                      print_user_options = yes                   yes\r\n                                     tol = 1e-09                 yes\r\n         watchdog_shortened_iter_trigger = 0                     yes\r\n\r\n******************************************************************************\r\nThis program contains Ipopt, a library for large-scale nonlinear optimization.\r\n Ipopt is released as open source code under the Eclipse Public License (EPL).\r\n         For more information visit http://projects.coin-or.org/Ipopt\r\n******************************************************************************\r\n\r\nThis is Ipopt version 3.12.9, running with linear solver ma27.\r\n\r\nNumber of nonzeros in equality constraint Jacobian...:        0\r\nNumber of nonzeros in inequality constraint Jacobian.:        0\r\nNumber of nonzeros in Lagrangian Hessian.............:        0\r\n\r\n\u001b[36m[2018-08-23 09:05:14] [DBG] [-1/] [c0] Result for 0: 97.0191 (0) (0.0107s+)\u001b[0m\r\n\u001b[36m[2018-08-23 09:05:14] [DBG] [-1/] [c1] Result for 1: 79.7337 (0) (0.0079s+)\u001b[0m\r\n"
     ]
    },
    {
     "name": "stdout",
     "output_type": "stream",
     "text": [
      "\u001b[36m[2018-08-23 09:05:14] [DBG] [-1/] [c2] Result for 2: 98.8704 (0) (0.0186s+)\u001b[0m\r\n\u001b[36m[2018-08-23 09:05:14] [DBG] [-1/] [c3] Result for 3: 86.5941 (0) (0.0166s+)\u001b[0m\r\n"
     ]
    },
    {
     "name": "stdout",
     "output_type": "stream",
     "text": [
      "Total number of variables............................:        9\r\n                     variables with only lower bounds:        0\r\n                variables with lower and upper bounds:        9\r\n                     variables with only upper bounds:        0\r\nTotal number of equality constraints.................:        0\r\nTotal number of inequality constraints...............:        0\r\n        inequality constraints with only lower bounds:        0\r\n   inequality constraints with lower and upper bounds:        0\r\n        inequality constraints with only upper bounds:        0\r\n\r\n\u001b[32m[2018-08-23 09:05:14] [INF] [-1/] [o0i0] iter: 0 cost: -362.217 time_iter: wall: 0.0961479s cpu: 0.0537493s time_optim: wall: 0.0961483s cpu: 0.0537493s\u001b[0m\r\niter    objective    inf_pr   inf_du lg(mu)  ||d||  lg(rg) alpha_du alpha_pr  ls\r\n   0 -3.6221724e+02 0.00e+00 4.01e+01   0.0 0.00e+00    -  0.00e+00 0.00e+00   0\r\n\u001b[36m[2018-08-23 09:05:14] [DBG] [-1/] [c0] Result for 0: -2337.37 (0) (0.0007s-)\u001b[0m\r\n\u001b[36m[2018-08-23 09:05:14] [DBG] [-1/] [c1] Result for 1: -1896.01 (0) (0.0008s-)\u001b[0m\r\n\u001b[36m[2018-08-23 09:05:14] [DBG] [-1/] [c2] Result for 2: -2743 (0) (0.0008s-)\u001b[0m\r\n\u001b[36m[2018-08-23 09:05:14] [DBG] [-1/] [c3] Result for 3: -3086.96 (0) (0.0012s-)\u001b[0m\r\n\u001b[36m[2018-08-23 09:05:14] [DBG] [-1/] [c0] Result for 0: -2337.37 (0) (0.0007s-)\u001b[0m\r\n\u001b[36m[2018-08-23 09:05:14] [DBG] [-1/] [c1] Result for 1: -1896.01 (0) (0.0008s-)\u001b[0m\r\n\u001b[36m[2018-08-23 09:05:14] [DBG] [-1/] [c2] Result for 2: -2743 (0) (0.0012s-)\u001b[0m\r\n\u001b[36m[2018-08-23 09:05:14] [DBG] [-1/] [c3] Result for 3: -3086.96 (0) (0.0034s-)\u001b[0m\r\n\u001b[36m[2018-08-23 09:05:14] [DBG] [-1/] [c0] Result for 0: -599.799 (0) (0.0006s-)\u001b[0m\r\n\u001b[36m[2018-08-23 09:05:14] [DBG] [-1/] [c1] Result for 1: -539.578 (0) (0.0007s-)\u001b[0m\r\n\u001b[36m[2018-08-23 09:05:14] [DBG] [-1/] [c2] Result for 2: -631.374 (0) (0.0007s-)\u001b[0m\r\n\u001b[36m[2018-08-23 09:05:14] [DBG] [-1/] [c3] Result for 3: -607.625 (0) (0.0009s-)\u001b[0m\r\n\u001b[36m[2018-08-23 09:05:14] [DBG] [-1/] [c0] Result for 0: -339.806 (0) (0.0008s-)\u001b[0m\r\n\u001b[36m[2018-08-23 09:05:14] [DBG] [-1/] [c1] Result for 1: -370.546 (0) (0.0007s-)\u001b[0m\r\n\u001b[36m[2018-08-23 09:05:14] [DBG] [-1/] [c2] Result for 2: -346.552 (0) (0.0008s-)\u001b[0m\r\n\u001b[36m[2018-08-23 09:05:14] [DBG] [-1/] [c3] Result for 3: -331.141 (0) (0.0006s-)\u001b[0m\r\n"
     ]
    },
    {
     "name": "stdout",
     "output_type": "stream",
     "text": [
      "\u001b[36m[2018-08-23 09:05:14] [DBG] [-1/] [c0] Result for 0: -168.245 (0) (0.0009s-)\u001b[0m\r\n\u001b[36m[2018-08-23 09:05:14] [DBG] [-1/] [c1] Result for 1: -210.94 (0) (0.0006s-)\u001b[0m\r\n\u001b[36m[2018-08-23 09:05:14] [DBG] [-1/] [c2] Result for 2: -177.505 (0) (0.0026s-)\u001b[0m\r\n\u001b[36m[2018-08-23 09:05:14] [DBG] [-1/] [c3] Result for 3: -157.667 (0) (0.0007s-)\u001b[0m\r\n\u001b[36m[2018-08-23 09:05:14] [DBG] [-1/] [c0] Result for 0: -19.4356 (0) (0.0007s-)\u001b[0m\r\n\u001b[36m[2018-08-23 09:05:14] [DBG] [-1/] [c1] Result for 1: -57.1251 (0) (0.0011s-)\u001b[0m\r\n\u001b[36m[2018-08-23 09:05:14] [DBG] [-1/] [c2] Result for 2: -29.1253 (0) (0.0020s-)\u001b[0m\r\n\u001b[36m[2018-08-23 09:05:14] [DBG] [-1/] [c3] Result for 3: -16.7041 (0) (0.0009s-)\u001b[0m\r\n\u001b[36m[2018-08-23 09:05:14] [DBG] [-1/] [c0] Result for 0: 58.3962 (0) (0.0007s-)\u001b[0m\r\n\u001b[36m[2018-08-23 09:05:14] [DBG] [-1/] [c1] Result for 1: 28.3819 (0) (0.0007s-)\u001b[0m\r\n\u001b[36m[2018-08-23 09:05:14] [DBG] [-1/] [c2] Result for 2: 51.919 (0) (0.0008s-)\u001b[0m\r\n\u001b[36m[2018-08-23 09:05:14] [DBG] [-1/] [c3] Result for 3: 54.7282 (0) (0.0007s-)\u001b[0m\r\n\u001b[36m[2018-08-23 09:05:14] [DBG] [-1/] [c0] Result for 0: 58.3962 (0) (0.0123s+)\u001b[0m\r\n"
     ]
    },
    {
     "name": "stdout",
     "output_type": "stream",
     "text": [
      "\u001b[36m[2018-08-23 09:05:14] [DBG] [-1/] [c1] Result for 1: 28.3819 (0) (0.0222s+)\u001b[0m\r\n\u001b[36m[2018-08-23 09:05:14] [DBG] [-1/] [c2] Result for 2: 51.919 (0) (0.0177s+)\u001b[0m\r\n"
     ]
    },
    {
     "name": "stdout",
     "output_type": "stream",
     "text": [
      "\u001b[36m[2018-08-23 09:05:14] [DBG] [-1/] [c3] Result for 3: 54.7282 (0) (0.0138s+)\u001b[0m\r\n\u001b[32m[2018-08-23 09:05:14] [INF] [-1/] [o0i1] iter: 1 cost: -193.425 time_iter: wall: 0.180409s cpu: 0.0939493s time_optim: wall: 0.276558s cpu: 0.147699s\u001b[0m\r\n   1 -1.9342525e+02 0.00e+00 1.22e+03   3.3 2.55e+02    -  9.90e-01 6.42e-04f  6\r\n\u001b[36m[2018-08-23 09:05:14] [DBG] [-1/] [c0] Result for 0: -14008.7 (0) (0.0007s-)\u001b[0m\r\n\u001b[36m[2018-08-23 09:05:14] [DBG] [-1/] [c1] Result for 1: -12091.6 (0) (0.0007s-)\u001b[0m\r\n\u001b[36m[2018-08-23 09:05:14] [DBG] [-1/] [c2] Result for 2: -15555.5 (0) (0.0009s-)\u001b[0m\r\n\u001b[36m[2018-08-23 09:05:14] [DBG] [-1/] [c3] Result for 3: -18193.9 (0) (0.0008s-)\u001b[0m\r\n\u001b[36m[2018-08-23 09:05:14] [DBG] [-1/] [c0] Result for 0: -14008.7 (0) (0.0007s-)\u001b[0m\r\n\u001b[36m[2018-08-23 09:05:14] [DBG] [-1/] [c1] Result for 1: -12091.6 (0) (0.0007s-)\u001b[0m\r\n\u001b[36m[2018-08-23 09:05:14] [DBG] [-1/] [c2] Result for 2: -15555.5 (0) (0.0010s-)\u001b[0m\r\n\u001b[36m[2018-08-23 09:05:14] [DBG] [-1/] [c3] Result for 3: -18193.9 (0) (0.0008s-)\u001b[0m\r\n\u001b[36m[2018-08-23 09:05:14] [DBG] [-1/] [c0] Result for 0: -914.333 (0) (0.0007s-)\u001b[0m"
     ]
    },
    {
     "name": "stdout",
     "output_type": "stream",
     "text": [
      "\r\n\u001b[36m[2018-08-23 09:05:14] [DBG] [-1/] [c1] Result for 1: -809.395 (0) (0.0007s-)\u001b[0m\r\n\u001b[36m[2018-08-23 09:05:14] [DBG] [-1/] [c2] Result for 2: -997.321 (0) (0.0007s-)\u001b[0m\r\n\u001b[36m[2018-08-23 09:05:14] [DBG] [-1/] [c3] Result for 3: -1139.87 (0) (0.0021s-)\u001b[0m\r\n\u001b[36m[2018-08-23 09:05:14] [DBG] [-1/] [c0] Result for 0: -246.138 (0) (0.0007s-)\u001b[0m\r\n\u001b[36m[2018-08-23 09:05:14] [DBG] [-1/] [c1] Result for 1: -252.566 (0) (0.0008s-)\u001b[0m\r\n\u001b[36m[2018-08-23 09:05:14] [DBG] [-1/] [c2] Result for 2: -259.418 (0) (0.0007s-)\u001b[0m\r\n\u001b[36m[2018-08-23 09:05:14] [DBG] [-1/] [c3] Result for 3: -283.667 (0) (0.0007s-)\u001b[0m\r\n\u001b[36m[2018-08-23 09:05:14] [DBG] [-1/] [c0] Result for 0: -246.138 (0) (0.0113s+)\u001b[0m\r\n\u001b[36m[2018-08-23 09:05:14] [DBG] [-1/] [c1] Result for 1: -252.566 (0) (0.0157s+)\u001b[0m"
     ]
    },
    {
     "name": "stdout",
     "output_type": "stream",
     "text": [
      "\r\n\u001b[36m[2018-08-23 09:05:14] [DBG] [-1/] [c2] Result for 2: -259.418 (0) (0.0132s+)\u001b[0m\r\n\u001b[36m[2018-08-23 09:05:14] [DBG] [-1/] [c3] Result for 3: -283.667 (0) (0.0175s+)\u001b[0m\r\n"
     ]
    },
    {
     "name": "stdout",
     "output_type": "stream",
     "text": [
      "\u001b[32m[2018-08-23 09:05:14] [INF] [-1/] [o0i2] iter: 2 cost: 1041.79 time_iter: wall: 0.145805s cpu: 0.070957s time_optim: wall: 0.422364s cpu: 0.218656s\u001b[0m\r\n   2  1.0417885e+03 0.00e+00 2.55e+06   7.2 2.08e+03    -  1.00e+00 5.79e-04f  3\r\n\u001b[36m[2018-08-23 09:05:14] [DBG] [-1/] [c0] Result for 0: -495.756 (0) (0.0029s-)\u001b[0m\r\n\u001b[36m[2018-08-23 09:05:14] [DBG] [-1/] [c1] Result for 1: -401.216 (0) (0.0007s-)\u001b[0m\r\n\u001b[36m[2018-08-23 09:05:14] [DBG] [-1/] [c2] Result for 2: -533.672 (0) (0.0006s-)\u001b[0m\r\n\u001b[36m[2018-08-23 09:05:14] [DBG] [-1/] [c3] Result for 3: -395.24 (0) (0.0007s-)\u001b[0m\r\n\u001b[36m[2018-08-23 09:05:14] [DBG] [-1/] [c0] Result for 0: -495.756 (0) (0.0110s+)\u001b[0m\r\n"
     ]
    },
    {
     "name": "stdout",
     "output_type": "stream",
     "text": [
      "\u001b[36m[2018-08-23 09:05:14] [DBG] [-1/] [c1] Result for 1: -401.216 (0) (0.0174s+)\u001b[0m\r\n\u001b[36m[2018-08-23 09:05:14] [DBG] [-1/] [c2] Result for 2: -533.672 (0) (0.0128s+)\u001b[0m\r\n\u001b[36m[2018-08-23 09:05:14] [DBG] [-1/] [c3] Result for 3: -395.24 (0) (0.0111s+)\u001b[0m"
     ]
    },
    {
     "name": "stdout",
     "output_type": "stream",
     "text": [
      "\r\n\u001b[32m[2018-08-23 09:05:14] [INF] [-1/] [o0i3] iter: 3 cost: 1825.88 time_iter: wall: 0.109769s cpu: 0.0572454s time_optim: wall: 0.532133s cpu: 0.275901s\u001b[0m\r\n   3  1.8258834e+03 0.00e+00 1.98e+03   6.6 5.66e-01    -  1.00e+00 1.00e+00f  1\r\n\u001b[36m[2018-08-23 09:05:14] [DBG] [-1/] [c0] Result for 0: -294.801 (0) (0.0013s-)\u001b[0m\r\n\u001b[36m[2018-08-23 09:05:14] [DBG] [-1/] [c1] Result for 1: -326.206 (0) (0.0007s-)\u001b[0m\r\n\u001b[36m[2018-08-23 09:05:14] [DBG] [-1/] [c2] Result for 2: -316.908 (0) (0.0006s-)\u001b[0m\r\n\u001b[36m[2018-08-23 09:05:14] [DBG] [-1/] [c3] Result for 3: -317.599 (0) (0.0007s-)\u001b[0m\r\n\u001b[36m[2018-08-23 09:05:14] [DBG] [-1/] [c0] Result for 0: -294.801 (0) (0.0113s+)\u001b[0m\r\n"
     ]
    },
    {
     "name": "stdout",
     "output_type": "stream",
     "text": [
      "\u001b[36m[2018-08-23 09:05:14] [DBG] [-1/] [c1] Result for 1: -326.206 (0) (0.0129s+)\u001b[0m\r\n\u001b[36m[2018-08-23 09:05:14] [DBG] [-1/] [c2] Result for 2: -316.908 (0) (0.0158s+)\u001b[0m\r\n"
     ]
    },
    {
     "name": "stdout",
     "output_type": "stream",
     "text": [
      "\u001b[36m[2018-08-23 09:05:14] [DBG] [-1/] [c3] Result for 3: -317.599 (0) (0.0212s+)\u001b[0m\r\n\u001b[32m[2018-08-23 09:05:14] [INF] [-1/] [o0i4] iter: 4 cost: 1255.52 time_iter: wall: 0.126572s cpu: 0.0645553s time_optim: wall: 0.658705s cpu: 0.340456s\u001b[0m\r\n   4  1.2555155e+03 0.00e+00 2.52e+03   5.9 3.76e-01    -  1.00e+00 1.00e+00f  1\r\n\u001b[36m[2018-08-23 09:05:14] [DBG] [-1/] [c0] Result for 0: -294.354 (0) (0.0012s-)\u001b[0m\r\n\u001b[36m[2018-08-23 09:05:14] [DBG] [-1/] [c1] Result for 1: -323.576 (0) (0.0008s-)\u001b[0m\r\n\u001b[36m[2018-08-23 09:05:14] [DBG] [-1/] [c2] Result for 2: -309.402 (0) (0.0007s-)\u001b[0m\r\n\u001b[36m[2018-08-23 09:05:14] [DBG] [-1/] [c3] Result for 3: -309.079 (0) (0.0009s-)\u001b[0m\r\n\u001b[36m[2018-08-23 09:05:14] [DBG] [-1/] [c0] Result for 0: -294.354 (0) (0.0123s+)\u001b[0m"
     ]
    },
    {
     "name": "stdout",
     "output_type": "stream",
     "text": [
      "\r\n\u001b[36m[2018-08-23 09:05:14] [DBG] [-1/] [c1] Result for 1: -323.576 (0) (0.0148s+)\u001b[0m\r\n"
     ]
    },
    {
     "name": "stdout",
     "output_type": "stream",
     "text": [
      "\u001b[36m[2018-08-23 09:05:15] [DBG] [-1/] [c2] Result for 2: -309.402 (0) (0.0201s+)\u001b[0m\r\n\u001b[36m[2018-08-23 09:05:15] [DBG] [-1/] [c3] Result for 3: -309.079 (0) (0.0065s+)\u001b[0m\r\n\u001b[32m[2018-08-23 09:05:15] [INF] [-1/] [o0i5] iter: 5 cost: 1236.41 time_iter: wall: 0.121029s cpu: 0.0572689s time_optim: wall: 0.779735s cpu: 0.397725s\u001b[0m\r\n   5  1.2364120e+03 0.00e+00 2.87e+02   5.2 1.38e-01    -  1.00e+00 1.00e+00f  1\r\n\u001b[36m[2018-08-23 09:05:15] [DBG] [-1/] [c0] Result for 0: -289.903 (0) (0.0007s-)\u001b[0m\r\n\u001b[36m[2018-08-23 09:05:15] [DBG] [-1/] [c1] Result for 1: -320.728 (0) (0.0007s-)\u001b[0m\r\n\u001b[36m[2018-08-23 09:05:15] [DBG] [-1/] [c2] Result for 2: -301.002 (0) (0.0028s-)\u001b[0m\r\n"
     ]
    },
    {
     "name": "stdout",
     "output_type": "stream",
     "text": [
      "\u001b[36m[2018-08-23 09:05:15] [DBG] [-1/] [c3] Result for 3: -291.083 (0) (0.0023s-)\u001b[0m\r\n\u001b[36m[2018-08-23 09:05:15] [DBG] [-1/] [c0] Result for 0: -289.903 (0) (0.0062s+)\u001b[0m\r\n\u001b[36m[2018-08-23 09:05:15] [DBG] [-1/] [c1] Result for 1: -320.728 (0) (0.0151s+)\u001b[0m\r\n"
     ]
    },
    {
     "name": "stdout",
     "output_type": "stream",
     "text": [
      "\u001b[36m[2018-08-23 09:05:15] [DBG] [-1/] [c2] Result for 2: -301.002 (0) (0.0153s+)\u001b[0m\r\n\u001b[36m[2018-08-23 09:05:15] [DBG] [-1/] [c3] Result for 3: -291.083 (0) (0.0184s+)\u001b[0m\r\n"
     ]
    },
    {
     "name": "stdout",
     "output_type": "stream",
     "text": [
      "\u001b[32m[2018-08-23 09:05:15] [INF] [-1/] [o0i6] iter: 6 cost: 1202.72 time_iter: wall: 0.128836s cpu: 0.0613814s time_optim: wall: 0.908571s cpu: 0.459107s\u001b[0m\r\n   6  1.2027162e+03 0.00e+00 2.16e+02   4.5 4.57e-02    -  1.00e+00 1.00e+00f  1\r\n\u001b[36m[2018-08-23 09:05:15] [DBG] [-1/] [c0] Result for 0: -266.449 (0) (0.0048s-)\u001b[0m\r\n\u001b[36m[2018-08-23 09:05:15] [DBG] [-1/] [c1] Result for 1: -299.369 (0) (0.0006s-)\u001b[0m\r\n\u001b[36m[2018-08-23 09:05:15] [DBG] [-1/] [c2] Result for 2: -277.774 (0) (0.0038s-)\u001b[0m\r\n\u001b[36m[2018-08-23 09:05:15] [DBG] [-1/] [c3] Result for 3: -257.065 (0) (0.0007s-)\u001b[0m\r\n\u001b[36m[2018-08-23 09:05:15] [DBG] [-1/] [c0] Result for 0: -266.449 (0) (0.0136s+)\u001b[0m\r\n"
     ]
    },
    {
     "name": "stdout",
     "output_type": "stream",
     "text": [
      "\u001b[36m[2018-08-23 09:05:15] [DBG] [-1/] [c1] Result for 1: -299.369 (0) (0.0194s+)\u001b[0m\r\n\u001b[36m[2018-08-23 09:05:15] [DBG] [-1/] [c2] Result for 2: -277.774 (0) (0.0126s+)\u001b[0m\r\n"
     ]
    },
    {
     "name": "stdout",
     "output_type": "stream",
     "text": [
      "\u001b[36m[2018-08-23 09:05:15] [DBG] [-1/] [c3] Result for 3: -257.065 (0) (0.0173s+)\u001b[0m\r\n\u001b[32m[2018-08-23 09:05:15] [INF] [-1/] [o0i7] iter: 7 cost: 1100.66 time_iter: wall: 0.136937s cpu: 0.0727182s time_optim: wall: 1.04551s cpu: 0.531825s\u001b[0m\r\n   7  1.1006564e+03 0.00e+00 2.64e+02   3.8 7.49e-02    -  1.00e+00 1.00e+00f  1\r\n\u001b[36m[2018-08-23 09:05:15] [DBG] [-1/] [c0] Result for 0: -135.604 (0) (0.0007s-)\u001b[0m\r\n\u001b[36m[2018-08-23 09:05:15] [DBG] [-1/] [c1] Result for 1: -152.961 (0) (0.0006s-)\u001b[0m\r\n\u001b[36m[2018-08-23 09:05:15] [DBG] [-1/] [c2] Result for 2: -154.904 (0) (0.0007s-)\u001b[0m\r\n\u001b[36m[2018-08-23 09:05:15] [DBG] [-1/] [c3] Result for 3: -115.516 (0) (0.0015s-)\u001b[0m\r\n"
     ]
    },
    {
     "name": "stdout",
     "output_type": "stream",
     "text": [
      "\u001b[36m[2018-08-23 09:05:15] [DBG] [-1/] [c0] Result for 0: -135.604 (0) (0.0147s+)\u001b[0m\r\n\u001b[36m[2018-08-23 09:05:15] [DBG] [-1/] [c1] Result for 1: -152.961 (0) (0.0164s+)\u001b[0m\r\n\u001b[36m[2018-08-23 09:05:15] [DBG] [-1/] [c2] Result for 2: -154.904 (0) (0.0069s+)\u001b[0m"
     ]
    },
    {
     "name": "stdout",
     "output_type": "stream",
     "text": [
      "\r\n\u001b[36m[2018-08-23 09:05:15] [DBG] [-1/] [c3] Result for 3: -115.516 (0) (0.0193s+)\u001b[0m\r\n\u001b[32m[2018-08-23 09:05:15] [INF] [-1/] [o0i8] iter: 8 cost: 558.984 time_iter: wall: 0.118029s cpu: 0.0607212s time_optim: wall: 1.16354s cpu: 0.592546s\u001b[0m\r\n   8  5.5898392e+02 0.00e+00 9.93e+02   3.1 4.51e-01    -  1.00e+00 1.00e+00f  1\r\n\u001b[36m[2018-08-23 09:05:15] [DBG] [-1/] [c0] Result for 0: -557756 (0) (0.0010s-)\u001b[0m\r\n\u001b[36m[2018-08-23 09:05:15] [DBG] [-1/] [c1] Result for 1: -547268 (0) (0.0007s-)\u001b[0m\r\n\u001b[36m[2018-08-23 09:05:15] [DBG] [-1/] [c2] Result for 2: -539861 (0) (0.0011s-)\u001b[0m"
     ]
    },
    {
     "name": "stdout",
     "output_type": "stream",
     "text": [
      "\r\n\u001b[36m[2018-08-23 09:05:15] [DBG] [-1/] [c3] Result for 3: -533477 (0) (0.0008s-)\u001b[0m\r\n\u001b[36m[2018-08-23 09:05:15] [DBG] [-1/] [c0] Result for 0: -557756 (0) (0.0011s-)\u001b[0m\r\n\u001b[36m[2018-08-23 09:05:15] [DBG] [-1/] [c1] Result for 1: -547268 (0) (0.0008s-)\u001b[0m\r\n\u001b[36m[2018-08-23 09:05:15] [DBG] [-1/] [c2] Result for 2: -539861 (0) (0.0030s-)\u001b[0m\r\n\u001b[36m[2018-08-23 09:05:15] [DBG] [-1/] [c3] Result for 3: -533477 (0) (0.0063s-)\u001b[0m\r\n\u001b[36m[2018-08-23 09:05:15] [DBG] [-1/] [c0] Result for 0: -3909.57 (0) (0.0013s-)\u001b[0m\r\n\u001b[36m[2018-08-23 09:05:15] [DBG] [-1/] [c1] Result for 1: -3639.51 (0) (0.0064s-)\u001b[0m\r\n\u001b[36m[2018-08-23 09:05:15] [DBG] [-1/] [c2] Result for 2: -3723.98 (0) (0.0007s-)\u001b[0m\r\n\u001b[36m[2018-08-23 09:05:15] [DBG] [-1/] [c3] Result for 3: -3639.17 (0) (0.0007s-)\u001b[0m\r\n\u001b[36m[2018-08-23 09:05:15] [DBG] [-1/] [c0] Result for 0: -134.734 (0) (0.0007s-)\u001b[0m\r\n\u001b[36m[2018-08-23 09:05:15] [DBG] [-1/] [c1] Result for 1: -91.8572 (0) (0.0007s-)\u001b[0m\r\n\u001b[36m[2018-08-23 09:05:15] [DBG] [-1/] [c2] Result for 2: -152.375 (0) (0.0007s-)\u001b[0m\r\n\u001b[36m[2018-08-23 09:05:15] [DBG] [-1/] [c3] Result for 3: -92.739 (0) (0.0007s-)\u001b[0m\r\n"
     ]
    },
    {
     "name": "stdout",
     "output_type": "stream",
     "text": [
      "\u001b[36m[2018-08-23 09:05:15] [DBG] [-1/] [c0] Result for 0: -134.734 (0) (0.0126s+)\u001b[0m\r\n\u001b[36m[2018-08-23 09:05:15] [DBG] [-1/] [c1] Result for 1: -91.8572 (0) (0.0096s+)\u001b[0m\r\n\u001b[36m[2018-08-23 09:05:15] [DBG] [-1/] [c2] Result for 2: -152.375 (0) (0.0102s+)\u001b[0m"
     ]
    },
    {
     "name": "stdout",
     "output_type": "stream",
     "text": [
      "\r\n\u001b[36m[2018-08-23 09:05:15] [DBG] [-1/] [c3] Result for 3: -92.739 (0) (0.0137s+)\u001b[0m\r\n\u001b[32m[2018-08-23 09:05:15] [INF] [-1/] [o0i9] iter: 9 cost: 471.706 time_iter: wall: 0.159706s cpu: 0.0726233s time_optim: wall: 1.32325s cpu: 0.665169s\u001b[0m\r\n   9  4.7170558e+02 0.00e+00 3.98e+03   2.4 1.75e+00    -  9.20e-01 2.50e-01f  3"
     ]
    },
    {
     "name": "stdout",
     "output_type": "stream",
     "text": [
      "\r\n\u001b[36m[2018-08-23 09:05:15] [DBG] [-1/] [c0] Result for 0: 45.8931 (0) (0.0008s-)\u001b[0m\r\n\u001b[36m[2018-08-23 09:05:15] [DBG] [-1/] [c1] Result for 1: 17.3743 (0) (0.0007s-)\u001b[0m\r\n\u001b[36m[2018-08-23 09:05:15] [DBG] [-1/] [c2] Result for 2: 23.8944 (0) (0.0007s-)\u001b[0m\r\n\u001b[36m[2018-08-23 09:05:15] [DBG] [-1/] [c3] Result for 3: 52.7959 (0) (0.0007s-)\u001b[0m\r\n\u001b[36m[2018-08-23 09:05:15] [DBG] [-1/] [c0] Result for 0: 45.8931 (0) (0.0125s+)\u001b[0m\r\n\u001b[36m[2018-08-23 09:05:15] [DBG] [-1/] [c1] Result for 1: 17.3743 (0) (0.0149s+)\u001b[0m\r\n"
     ]
    },
    {
     "name": "stdout",
     "output_type": "stream",
     "text": [
      "\u001b[36m[2018-08-23 09:05:15] [DBG] [-1/] [c2] Result for 2: 23.8944 (0) (0.0141s+)\u001b[0m\r\n\u001b[36m[2018-08-23 09:05:15] [DBG] [-1/] [c3] Result for 3: 52.7959 (0) (0.0182s+)\u001b[0m"
     ]
    },
    {
     "name": "stdout",
     "output_type": "stream",
     "text": [
      "\r\n\u001b[32m[2018-08-23 09:05:15] [INF] [-1/] [o0i10] iter: 10 cost: -139.958 time_iter: wall: 0.127706s cpu: 0.0626018s time_optim: wall: 1.45095s cpu: 0.727771s\u001b[0m\r\niter    objective    inf_pr   inf_du lg(mu)  ||d||  lg(rg) alpha_du alpha_pr  ls\r\n  10 -1.3995765e+02 0.00e+00 1.39e+03   2.4 4.82e-01    -  1.00e+00 1.00e+00f  1\r\n\u001b[36m[2018-08-23 09:05:15] [DBG] [-1/] [c0] Result for 0: 74.1509 (0) (0.0009s-)\u001b[0m\r\n\u001b[36m[2018-08-23 09:05:15] [DBG] [-1/] [c1] Result for 1: 54.823 (0) (0.0009s-)\u001b[0m\r\n\u001b[36m[2018-08-23 09:05:15] [DBG] [-1/] [c2] Result for 2: 68.0076 (0) (0.0010s-)\u001b[0m\r\n\u001b[36m[2018-08-23 09:05:15] [DBG] [-1/] [c3] Result for 3: 74.718 (0) (0.0020s-)\u001b[0m\r\n\u001b[36m[2018-08-23 09:05:15] [DBG] [-1/] [c0] Result for 0: 74.1509 (0) (0.0105s+)\u001b[0m"
     ]
    },
    {
     "name": "stdout",
     "output_type": "stream",
     "text": [
      "\r\n\u001b[36m[2018-08-23 09:05:15] [DBG] [-1/] [c1] Result for 1: 54.823 (0) (0.0158s+)\u001b[0m\r\n"
     ]
    },
    {
     "name": "stdout",
     "output_type": "stream",
     "text": [
      "\u001b[36m[2018-08-23 09:05:15] [DBG] [-1/] [c2] Result for 2: 68.0076 (0) (0.0210s+)\u001b[0m\r\n\u001b[36m[2018-08-23 09:05:15] [DBG] [-1/] [c3] Result for 3: 74.718 (0) (0.0164s+)\u001b[0m\r\n\u001b[32m[2018-08-23 09:05:15] [INF] [-1/] [o0i11] iter: 11 cost: -271.699 time_iter: wall: 0.14009s cpu: 0.0684959s time_optim: wall: 1.59104s cpu: 0.796267s\u001b[0m\r\n  11 -2.7169947e+02 0.00e+00 5.42e+02   1.7 3.58e-01    -  1.00e+00 1.00e+00f  1\r\n"
     ]
    },
    {
     "name": "stdout",
     "output_type": "stream",
     "text": [
      "\u001b[36m[2018-08-23 09:05:15] [DBG] [-1/] [c0] Result for 0: 27.3754 (0) (0.0048s-)\u001b[0m\r\n\u001b[36m[2018-08-23 09:05:15] [DBG] [-1/] [c1] Result for 1: -30.1205 (0) (0.0014s-)\u001b[0m\r\n\u001b[36m[2018-08-23 09:05:15] [DBG] [-1/] [c2] Result for 2: 50.5699 (0) (0.0007s-)\u001b[0m\r\n\u001b[36m[2018-08-23 09:05:15] [DBG] [-1/] [c3] Result for 3: -53.0402 (0) (0.0010s-)\u001b[0m\r\n\u001b[36m[2018-08-23 09:05:15] [DBG] [-1/] [c0] Result for 0: 27.3754 (0) (0.0007s-)\u001b[0m\r\n\u001b[36m[2018-08-23 09:05:15] [DBG] [-1/] [c1] Result for 1: -30.1205 (0) (0.0007s-)\u001b[0m\r\n\u001b[36m[2018-08-23 09:05:15] [DBG] [-1/] [c2] Result for 2: 50.5699 (0) (0.0007s-)\u001b[0m\r\n\u001b[36m[2018-08-23 09:05:15] [DBG] [-1/] [c3] Result for 3: -53.0402 (0) (0.0014s-)\u001b[0m\r\n\u001b[36m[2018-08-23 09:05:15] [DBG] [-1/] [c0] Result for 0: 85.1894 (0) (0.0007s-)\u001b[0m\r\n\u001b[36m[2018-08-23 09:05:15] [DBG] [-1/] [c1] Result for 1: 64.0209 (0) (0.0009s-)\u001b[0m\r\n\u001b[36m[2018-08-23 09:05:15] [DBG] [-1/] [c2] Result for 2: 94.0517 (0) (0.0007s-)\u001b[0m\r\n\u001b[36m[2018-08-23 09:05:15] [DBG] [-1/] [c3] Result for 3: 59.4433 (0) (0.0009s-)\u001b[0m\r\n\u001b[36m[2018-08-23 09:05:15] [DBG] [-1/] [c0] Result for 0: 85.1894 (0) (0.0134s+)\u001b[0m"
     ]
    },
    {
     "name": "stdout",
     "output_type": "stream",
     "text": [
      "\r\n\u001b[36m[2018-08-23 09:05:15] [DBG] [-1/] [c1] Result for 1: 64.0209 (0) (0.0170s+)\u001b[0m\r\n\u001b[36m[2018-08-23 09:05:15] [DBG] [-1/] [c2] Result for 2: 94.0517 (0) (0.0109s+)\u001b[0m"
     ]
    },
    {
     "name": "stdout",
     "output_type": "stream",
     "text": [
      "\r\n\u001b[36m[2018-08-23 09:05:16] [DBG] [-1/] [c3] Result for 3: 59.4433 (0) (0.0194s+)\u001b[0m\r\n\u001b[32m[2018-08-23 09:05:16] [INF] [-1/] [o0i12] iter: 12 cost: -302.705 time_iter: wall: 0.160932s cpu: 0.0753366s time_optim: wall: 1.75197s cpu: 0.871604s\u001b[0m\r\n"
     ]
    },
    {
     "name": "stdout",
     "output_type": "stream",
     "text": [
      "  12 -3.0270533e+02 0.00e+00 9.21e+02   1.7 3.41e-01    -  1.00e+00 5.00e-01f  2\r\n\u001b[36m[2018-08-23 09:05:16] [DBG] [-1/] [c0] Result for 0: 93.3484 (0) (0.0015s-)\u001b[0m\r\n\u001b[36m[2018-08-23 09:05:16] [DBG] [-1/] [c1] Result for 1: 74.6988 (0) (0.0014s-)\u001b[0m\r\n\u001b[36m[2018-08-23 09:05:16] [DBG] [-1/] [c2] Result for 2: 92.1516 (0) (0.0009s-)\u001b[0m\r\n\u001b[36m[2018-08-23 09:05:16] [DBG] [-1/] [c3] Result for 3: 86.8929 (0) (0.0007s-)\u001b[0m\r\n\u001b[36m[2018-08-23 09:05:16] [DBG] [-1/] [c0] Result for 0: 93.3484 (0) (0.0165s+)\u001b[0m\r\n"
     ]
    },
    {
     "name": "stdout",
     "output_type": "stream",
     "text": [
      "\u001b[36m[2018-08-23 09:05:16] [DBG] [-1/] [c1] Result for 1: 74.6988 (0) (0.0149s+)\u001b[0m\r\n\u001b[36m[2018-08-23 09:05:16] [DBG] [-1/] [c2] Result for 2: 92.1516 (0) (0.0196s+)\u001b[0m\r\n"
     ]
    },
    {
     "name": "stdout",
     "output_type": "stream",
     "text": [
      "\u001b[36m[2018-08-23 09:05:16] [DBG] [-1/] [c3] Result for 3: 86.8929 (0) (0.0173s+)\u001b[0m\r\n\u001b[32m[2018-08-23 09:05:16] [INF] [-1/] [o0i13] iter: 13 cost: -347.092 time_iter: wall: 0.135935s cpu: 0.0727938s time_optim: wall: 1.88791s cpu: 0.944397s\u001b[0m\r\n  13 -3.4709163e+02 0.00e+00 3.35e+02   1.7 1.38e-01    -  1.00e+00 1.00e+00f  1\r\n\u001b[36m[2018-08-23 09:05:16] [DBG] [-1/] [c0] Result for 0: 95.5918 (0) (0.0008s-)\u001b[0m\r\n\u001b[36m[2018-08-23 09:05:16] [DBG] [-1/] [c1] Result for 1: 78.2521 (0) (0.0007s-)\u001b[0m\r\n\u001b[36m[2018-08-23 09:05:16] [DBG] [-1/] [c2] Result for 2: 97.0895 (0) (0.0023s-)\u001b[0m\r\n\u001b[36m[2018-08-23 09:05:16] [DBG] [-1/] [c3] Result for 3: 87.6676 (0) (0.0008s-)\u001b[0m\r\n"
     ]
    },
    {
     "name": "stdout",
     "output_type": "stream",
     "text": [
      "\u001b[36m[2018-08-23 09:05:16] [DBG] [-1/] [c0] Result for 0: 95.5918 (0) (0.0155s+)\u001b[0m\r\n\u001b[36m[2018-08-23 09:05:16] [DBG] [-1/] [c1] Result for 1: 78.2521 (0) (0.0151s+)\u001b[0m\r\n"
     ]
    },
    {
     "name": "stdout",
     "output_type": "stream",
     "text": [
      "\u001b[36m[2018-08-23 09:05:16] [DBG] [-1/] [c2] Result for 2: 97.0895 (0) (0.0197s+)\u001b[0m\r\n\u001b[36m[2018-08-23 09:05:16] [DBG] [-1/] [c3] Result for 3: 87.6676 (0) (0.0210s+)\u001b[0m\r\n\u001b[32m[2018-08-23 09:05:16] [INF] [-1/] [o0i14] iter: 14 cost: -358.601 time_iter: wall: 0.130322s cpu: 0.0759311s time_optim: wall: 2.01823s cpu: 1.02033s\u001b[0m"
     ]
    },
    {
     "name": "stdout",
     "output_type": "stream",
     "text": [
      "\r\n  14 -3.5860095e+02 0.00e+00 9.28e+01   1.0 8.48e-02    -  1.00e+00 1.00e+00f  1\r\n\u001b[36m[2018-08-23 09:05:16] [DBG] [-1/] [c0] Result for 0: 96.4447 (0) (0.0007s-)\u001b[0m\r\n\u001b[36m[2018-08-23 09:05:16] [DBG] [-1/] [c1] Result for 1: 80.1102 (0) (0.0011s-)\u001b[0m\r\n\u001b[36m[2018-08-23 09:05:16] [DBG] [-1/] [c2] Result for 2: 97.8333 (0) (0.0008s-)\u001b[0m\r\n\u001b[36m[2018-08-23 09:05:16] [DBG] [-1/] [c3] Result for 3: 86.9391 (0) (0.0007s-)\u001b[0m\r\n\u001b[36m[2018-08-23 09:05:16] [DBG] [-1/] [c0] Result for 0: 96.4447 (0) (0.0160s+)\u001b[0m\r\n"
     ]
    },
    {
     "name": "stdout",
     "output_type": "stream",
     "text": [
      "\u001b[36m[2018-08-23 09:05:16] [DBG] [-1/] [c1] Result for 1: 80.1102 (0) (0.0223s+)\u001b[0m\r\n\u001b[36m[2018-08-23 09:05:16] [DBG] [-1/] [c2] Result for 2: 97.8333 (0) (0.0238s+)\u001b[0m\r\n"
     ]
    },
    {
     "name": "stdout",
     "output_type": "stream",
     "text": [
      "\u001b[36m[2018-08-23 09:05:16] [DBG] [-1/] [c3] Result for 3: 86.9391 (0) (0.0192s+)\u001b[0m\r\n\u001b[32m[2018-08-23 09:05:16] [INF] [-1/] [o0i15] iter: 15 cost: -361.327 time_iter: wall: 0.127753s cpu: 0.084502s time_optim: wall: 2.14599s cpu: 1.10483s\u001b[0m\r\n  15 -3.6132734e+02 0.00e+00 6.44e+01   1.0 2.68e-02    -  1.00e+00 1.00e+00f  1\r\n\u001b[36m[2018-08-23 09:05:16] [DBG] [-1/] [c0] Result for 0: 96.5809 (0) (0.0010s-)\u001b[0m\r\n\u001b[36m[2018-08-23 09:05:16] [DBG] [-1/] [c1] Result for 1: 80.5099 (0) (0.0007s-)\u001b[0m\r\n\u001b[36m[2018-08-23 09:05:16] [DBG] [-1/] [c2] Result for 2: 98.993 (0) (0.0007s-)\u001b[0m\r\n\u001b[36m[2018-08-23 09:05:16] [DBG] [-1/] [c3] Result for 3: 86.0676 (0) (0.0007s-)\u001b[0m\r\n"
     ]
    },
    {
     "name": "stdout",
     "output_type": "stream",
     "text": [
      "\u001b[36m[2018-08-23 09:05:16] [DBG] [-1/] [c0] Result for 0: 96.5809 (0) (0.0214s+)\u001b[0m\r\n\u001b[36m[2018-08-23 09:05:16] [DBG] [-1/] [c1] Result for 1: 80.5099 (0) (0.0176s+)\u001b[0m\r\n"
     ]
    },
    {
     "name": "stdout",
     "output_type": "stream",
     "text": [
      "\u001b[36m[2018-08-23 09:05:16] [DBG] [-1/] [c2] Result for 2: 98.993 (0) (0.0190s+)\u001b[0m\r\n\u001b[36m[2018-08-23 09:05:16] [DBG] [-1/] [c3] Result for 3: 86.0676 (0) (0.0173s+)\u001b[0m\r\n\u001b[32m[2018-08-23 09:05:16] [INF] [-1/] [o0i16] iter: 16 cost: -362.152 time_iter: wall: 0.134946s cpu: 0.0783638s time_optim: wall: 2.28093s cpu: 1.18319s\u001b[0m\r\n  16 -3.6215153e+02 0.00e+00 2.91e+01   0.3 1.99e-02    -  1.00e+00 1.00e+00f  1"
     ]
    },
    {
     "name": "stdout",
     "output_type": "stream",
     "text": [
      "\r\n\u001b[36m[2018-08-23 09:05:16] [DBG] [-1/] [c0] Result for 0: 96.8861 (0) (0.0012s-)\u001b[0m\r\n\u001b[36m[2018-08-23 09:05:16] [DBG] [-1/] [c1] Result for 1: 79.7085 (0) (0.0013s-)\u001b[0m\r\n\u001b[36m[2018-08-23 09:05:16] [DBG] [-1/] [c2] Result for 2: 99.5792 (0) (0.0011s-)\u001b[0m\r\n\u001b[36m[2018-08-23 09:05:16] [DBG] [-1/] [c3] Result for 3: 85.9282 (0) (0.0008s-)\u001b[0m\r\n\u001b[36m[2018-08-23 09:05:16] [DBG] [-1/] [c0] Result for 0: 96.8861 (0) (0.0034s-)\u001b[0m\r\n\u001b[36m[2018-08-23 09:05:16] [DBG] [-1/] [c1] Result for 1: 79.7085 (0) (0.0008s-)\u001b[0m\r\n\u001b[36m[2018-08-23 09:05:16] [DBG] [-1/] [c2] Result for 2: 99.5792 (0) (0.0007s-)\u001b[0m\r\n\u001b[36m[2018-08-23 09:05:16] [DBG] [-1/] [c3] Result for 3: 85.9282 (0) (0.0007s-)\u001b[0m\r\n\u001b[36m[2018-08-23 09:05:16] [DBG] [-1/] [c0] Result for 0: 96.7887 (0) (0.0007s-)\u001b[0m\r\n\u001b[36m[2018-08-23 09:05:16] [DBG] [-1/] [c1] Result for 1: 80.164 (0) (0.0015s-)\u001b[0m\r\n\u001b[36m[2018-08-23 09:05:16] [DBG] [-1/] [c2] Result for 2: 99.3451 (0) (0.0016s-)\u001b[0m\r\n\u001b[36m[2018-08-23 09:05:16] [DBG] [-1/] [c3] Result for 3: 86.0542 (0) (0.0038s-)\u001b[0m\r\n"
     ]
    },
    {
     "name": "stdout",
     "output_type": "stream",
     "text": [
      "\u001b[36m[2018-08-23 09:05:16] [DBG] [-1/] [c0] Result for 0: 96.7887 (0) (0.0174s+)\u001b[0m\r\n\u001b[36m[2018-08-23 09:05:16] [DBG] [-1/] [c1] Result for 1: 80.164 (0) (0.0201s+)\u001b[0m\r\n"
     ]
    },
    {
     "name": "stdout",
     "output_type": "stream",
     "text": [
      "\u001b[36m[2018-08-23 09:05:16] [DBG] [-1/] [c2] Result for 2: 99.3451 (0) (0.0156s+)\u001b[0m\r\n\u001b[36m[2018-08-23 09:05:16] [DBG] [-1/] [c3] Result for 3: 86.0542 (0) (0.0141s+)\u001b[0m"
     ]
    },
    {
     "name": "stdout",
     "output_type": "stream",
     "text": [
      "\r\n\u001b[32m[2018-08-23 09:05:16] [INF] [-1/] [o0i17] iter: 17 cost: -362.352 time_iter: wall: 0.172616s cpu: 0.0846868s time_optim: wall: 2.45355s cpu: 1.26788s\u001b[0m\r\n  17 -3.6235207e+02 0.00e+00 7.51e+00   0.3 2.50e-02    -  1.00e+00 5.00e-01f  2\r\n\u001b[36m[2018-08-23 09:05:16] [DBG] [-1/] [c0] Result for 0: 96.9949 (0) (0.0007s-)\u001b[0m\r\n\u001b[36m[2018-08-23 09:05:16] [DBG] [-1/] [c1] Result for 1: 80.267 (0) (0.0008s-)\u001b[0m\r\n\u001b[36m[2018-08-23 09:05:16] [DBG] [-1/] [c2] Result for 2: 98.7613 (0) (0.0014s-)\u001b[0m\r\n\u001b[36m[2018-08-23 09:05:16] [DBG] [-1/] [c3] Result for 3: 86.2092 (0) (0.0007s-)\u001b[0m\r\n\u001b[36m[2018-08-23 09:05:16] [DBG] [-1/] [c0] Result for 0: 96.9949 (0) (0.0008s-)\u001b[0m\r\n\u001b[36m[2018-08-23 09:05:16] [DBG] [-1/] [c1] Result for 1: 80.267 (0) (0.0016s-)\u001b[0m\r\n\u001b[36m[2018-08-23 09:05:16] [DBG] [-1/] [c2] Result for 2: 98.7613 (0) (0.0007s-)\u001b[0m\r\n\u001b[36m[2018-08-23 09:05:16] [DBG] [-1/] [c3] Result for 3: 86.2092 (0) (0.0007s-)\u001b[0m\r\n\u001b[36m[2018-08-23 09:05:16] [DBG] [-1/] [c0] Result for 0: 96.9109 (0) (0.0055s-)\u001b[0m\r\n\u001b[36m[2018-08-23 09:05:16] [DBG] [-1/] [c1] Result for 1: 80.2315 (0) (0.0009s-)\u001b[0m\r\n\u001b[36m[2018-08-23 09:05:16] [DBG] [-1/] [c2] Result for 2: 99.0727 (0) (0.0008s-)\u001b[0m\r\n"
     ]
    },
    {
     "name": "stdout",
     "output_type": "stream",
     "text": [
      "\u001b[36m[2018-08-23 09:05:16] [DBG] [-1/] [c3] Result for 3: 86.1453 (0) (0.0008s-)\u001b[0m\r\n\u001b[36m[2018-08-23 09:05:16] [DBG] [-1/] [c0] Result for 0: 96.9109 (0) (0.0166s+)\u001b[0m\r\n\u001b[36m[2018-08-23 09:05:16] [DBG] [-1/] [c1] Result for 1: 80.2315 (0) (0.0129s+)\u001b[0m\r\n"
     ]
    },
    {
     "name": "stdout",
     "output_type": "stream",
     "text": [
      "\u001b[36m[2018-08-23 09:05:16] [DBG] [-1/] [c2] Result for 2: 99.0727 (0) (0.0184s+)\u001b[0m\r\n\u001b[36m[2018-08-23 09:05:16] [DBG] [-1/] [c3] Result for 3: 86.1453 (0) (0.0194s+)\u001b[0m"
     ]
    },
    {
     "name": "stdout",
     "output_type": "stream",
     "text": [
      "\r\n\u001b[32m[2018-08-23 09:05:16] [INF] [-1/] [o0i18] iter: 18 cost: -362.36 time_iter: wall: 0.165224s cpu: 0.0827111s time_optim: wall: 2.61877s cpu: 1.35059s\u001b[0m\r\n  18 -3.6236048e+02 0.00e+00 9.29e+00  -1.6 1.59e-02    -  9.98e-01 5.00e-01f  2\r\n\u001b[36m[2018-08-23 09:05:16] [DBG] [-1/] [c0] Result for 0: 96.832 (0) (0.0008s-)\u001b[0m\r\n\u001b[36m[2018-08-23 09:05:16] [DBG] [-1/] [c1] Result for 1: 80.1645 (0) (0.0007s-)\u001b[0m\r\n\u001b[36m[2018-08-23 09:05:16] [DBG] [-1/] [c2] Result for 2: 99.1759 (0) (0.0031s-)\u001b[0m\r\n\u001b[36m[2018-08-23 09:05:16] [DBG] [-1/] [c3] Result for 3: 86.2057 (0) (0.0011s-)\u001b[0m\r\n\u001b[36m[2018-08-23 09:05:16] [DBG] [-1/] [c0] Result for 0: 96.832 (0) (0.0161s+)\u001b[0m"
     ]
    },
    {
     "name": "stdout",
     "output_type": "stream",
     "text": [
      "\r\n\u001b[36m[2018-08-23 09:05:16] [DBG] [-1/] [c1] Result for 1: 80.1645 (0) (0.0131s+)\u001b[0m\r\n\u001b[36m[2018-08-23 09:05:16] [DBG] [-1/] [c2] Result for 2: 99.1759 (0) (0.0180s+)\u001b[0m\r\n"
     ]
    },
    {
     "name": "stdout",
     "output_type": "stream",
     "text": [
      "\u001b[36m[2018-08-23 09:05:17] [DBG] [-1/] [c3] Result for 3: 86.2057 (0) (0.0170s+)\u001b[0m\r\n\u001b[32m[2018-08-23 09:05:17] [INF] [-1/] [o0i19] iter: 19 cost: -362.378 time_iter: wall: 0.126462s cpu: 0.069907s time_optim: wall: 2.74524s cpu: 1.4205s\u001b[0m\r\n  19 -3.6237804e+02 0.00e+00 7.28e+00  -3.5 4.03e-03    -  1.00e+00 1.00e+00f  1\r\n\u001b[36m[2018-08-23 09:05:17] [DBG] [-1/] [c0] Result for 0: 96.7072 (0) (0.0008s-)\u001b[0m\r\n\u001b[36m[2018-08-23 09:05:17] [DBG] [-1/] [c1] Result for 1: 80.2436 (0) (0.0007s-)\u001b[0m\r\n\u001b[36m[2018-08-23 09:05:17] [DBG] [-1/] [c2] Result for 2: 99.4434 (0) (0.0007s-)\u001b[0m\r\n"
     ]
    },
    {
     "name": "stdout",
     "output_type": "stream",
     "text": [
      "\u001b[36m[2018-08-23 09:05:17] [DBG] [-1/] [c3] Result for 3: 85.9808 (0) (0.0010s-)\u001b[0m\r\n\u001b[36m[2018-08-23 09:05:17] [DBG] [-1/] [c0] Result for 0: 96.7745 (0) (0.0040s-)\u001b[0m\r\n\u001b[36m[2018-08-23 09:05:17] [DBG] [-1/] [c1] Result for 1: 80.2084 (0) (0.0007s-)\u001b[0m\r\n\u001b[36m[2018-08-23 09:05:17] [DBG] [-1/] [c2] Result for 2: 99.3147 (0) (0.0007s-)\u001b[0m\r\n\u001b[36m[2018-08-23 09:05:17] [DBG] [-1/] [c3] Result for 3: 86.0977 (0) (0.0008s-)\u001b[0m\r\n\u001b[36m[2018-08-23 09:05:17] [DBG] [-1/] [c0] Result for 0: 96.7745 (0) (0.0139s+)\u001b[0m\r\n\u001b[36m[2018-08-23 09:05:17] [DBG] [-1/] [c1] Result for 1: 80.2084 (0) (0.0080s+)\u001b[0m"
     ]
    },
    {
     "name": "stdout",
     "output_type": "stream",
     "text": [
      "\r\n\u001b[36m[2018-08-23 09:05:17] [DBG] [-1/] [c2] Result for 2: 99.3147 (0) (0.0153s+)\u001b[0m\r\n"
     ]
    },
    {
     "name": "stdout",
     "output_type": "stream",
     "text": [
      "\u001b[36m[2018-08-23 09:05:17] [DBG] [-1/] [c3] Result for 3: 86.0977 (0) (0.0164s+)\u001b[0m\r\n\u001b[32m[2018-08-23 09:05:17] [INF] [-1/] [o0i20] iter: 20 cost: -362.395 time_iter: wall: 0.151166s cpu: 0.0628809s time_optim: wall: 2.8964s cpu: 1.48338s\u001b[0m\r\niter    objective    inf_pr   inf_du lg(mu)  ||d||  lg(rg) alpha_du alpha_pr  ls\r\n  20 -3.6239526e+02 0.00e+00 1.02e+01  -5.3 7.25e-03    -  1.00e+00 5.00e-01f  2\r\n\u001b[36m[2018-08-23 09:05:17] [DBG] [-1/] [c0] Result for 0: 96.7806 (0) (0.0008s-)\u001b[0m\r\n\u001b[36m[2018-08-23 09:05:17] [DBG] [-1/] [c1] Result for 1: 80.0003 (0) (0.0025s-)\u001b[0m\r\n\u001b[36m[2018-08-23 09:05:17] [DBG] [-1/] [c2] Result for 2: 99.2444 (0) (0.0007s-)\u001b[0m\r\n\u001b[36m[2018-08-23 09:05:17] [DBG] [-1/] [c3] Result for 3: 86.3162 (0) (0.0036s-)\u001b[0m\r\n\u001b[36m[2018-08-23 09:05:17] [DBG] [-1/] [c0] Result for 0: 96.7846 (0) (0.0007s-)\u001b[0m\r\n\u001b[36m[2018-08-23 09:05:17] [DBG] [-1/] [c1] Result for 1: 80.1121 (0) (0.0007s-)\u001b[0m"
     ]
    },
    {
     "name": "stdout",
     "output_type": "stream",
     "text": [
      "\r\n\u001b[36m[2018-08-23 09:05:17] [DBG] [-1/] [c2] Result for 2: 99.2864 (0) (0.0007s-)\u001b[0m\r\n\u001b[36m[2018-08-23 09:05:17] [DBG] [-1/] [c3] Result for 3: 86.214 (0) (0.0008s-)\u001b[0m\r\n\u001b[36m[2018-08-23 09:05:17] [DBG] [-1/] [c0] Result for 0: 96.7846 (0) (0.0159s+)\u001b[0m\r\n\u001b[36m[2018-08-23 09:05:17] [DBG] [-1/] [c1] Result for 1: 80.1121 (0) (0.0121s+)\u001b[0m\r\n"
     ]
    },
    {
     "name": "stdout",
     "output_type": "stream",
     "text": [
      "\u001b[36m[2018-08-23 09:05:17] [DBG] [-1/] [c2] Result for 2: 99.2864 (0) (0.0160s+)\u001b[0m\r\n\u001b[36m[2018-08-23 09:05:17] [DBG] [-1/] [c3] Result for 3: 86.214 (0) (0.0179s+)\u001b[0m\r\n"
     ]
    },
    {
     "name": "stdout",
     "output_type": "stream",
     "text": [
      "\u001b[32m[2018-08-23 09:05:17] [INF] [-1/] [o0i21] iter: 21 cost: -362.397 time_iter: wall: 0.145604s cpu: 0.0724938s time_optim: wall: 3.04201s cpu: 1.55587s\u001b[0m\r\n  21 -3.6239716e+02 0.00e+00 7.65e+00  -7.2 8.11e-03    -  1.00e+00 5.00e-01f  2\r\n\u001b[36m[2018-08-23 09:05:17] [DBG] [-1/] [c0] Result for 0: 96.8286 (0) (0.0014s-)\u001b[0m\r\n\u001b[36m[2018-08-23 09:05:17] [DBG] [-1/] [c1] Result for 1: 80.149 (0) (0.0052s-)\u001b[0m\r\n\u001b[36m[2018-08-23 09:05:17] [DBG] [-1/] [c2] Result for 2: 99.298 (0) (0.0007s-)\u001b[0m\r\n\u001b[36m[2018-08-23 09:05:17] [DBG] [-1/] [c3] Result for 3: 86.1515 (0) (0.0007s-)\u001b[0m\r\n\u001b[36m[2018-08-23 09:05:17] [DBG] [-1/] [c0] Result for 0: 96.8286 (0) (0.0158s+)\u001b[0m\r\n"
     ]
    },
    {
     "name": "stdout",
     "output_type": "stream",
     "text": [
      "\u001b[36m[2018-08-23 09:05:17] [DBG] [-1/] [c1] Result for 1: 80.149 (0) (0.0129s+)\u001b[0m\r\n\u001b[36m[2018-08-23 09:05:17] [DBG] [-1/] [c2] Result for 2: 99.298 (0) (0.0142s+)\u001b[0m\r\n"
     ]
    },
    {
     "name": "stdout",
     "output_type": "stream",
     "text": [
      "\u001b[36m[2018-08-23 09:05:17] [DBG] [-1/] [c3] Result for 3: 86.1515 (0) (0.0176s+)\u001b[0m\r\n\u001b[32m[2018-08-23 09:05:17] [INF] [-1/] [o0i22] iter: 22 cost: -362.427 time_iter: wall: 0.134588s cpu: 0.0685394s time_optim: wall: 3.1766s cpu: 1.62441s\u001b[0m\r\n  22 -3.6242711e+02 0.00e+00 3.55e+00  -9.1 3.03e-03    -  1.00e+00 1.00e+00f  1\r\n\u001b[36m[2018-08-23 09:05:17] [DBG] [-1/] [c0] Result for 0: 96.9186 (0) (0.0043s-)\u001b[0m\r\n\u001b[36m[2018-08-23 09:05:17] [DBG] [-1/] [c1] Result for 1: 80.1264 (0) (0.0009s-)\u001b[0m\r\n\u001b[36m[2018-08-23 09:05:17] [DBG] [-1/] [c2] Result for 2: 99.3465 (0) (0.0009s-)\u001b[0m"
     ]
    },
    {
     "name": "stdout",
     "output_type": "stream",
     "text": [
      "\r\n\u001b[36m[2018-08-23 09:05:17] [DBG] [-1/] [c3] Result for 3: 86.0974 (0) (0.0009s-)\u001b[0m\r\n\u001b[36m[2018-08-23 09:05:17] [DBG] [-1/] [c0] Result for 0: 96.9186 (0) (0.0175s+)\u001b[0m\r\n\u001b[36m[2018-08-23 09:05:17] [DBG] [-1/] [c1] Result for 1: 80.1264 (0) (0.0155s+)\u001b[0m"
     ]
    },
    {
     "name": "stdout",
     "output_type": "stream",
     "text": [
      "\r\n\u001b[36m[2018-08-23 09:05:17] [DBG] [-1/] [c2] Result for 2: 99.3465 (0) (0.0162s+)\u001b[0m\r\n\u001b[36m[2018-08-23 09:05:17] [DBG] [-1/] [c3] Result for 3: 86.0974 (0) (0.0163s+)\u001b[0m\r\n"
     ]
    },
    {
     "name": "stdout",
     "output_type": "stream",
     "text": [
      "\u001b[32m[2018-08-23 09:05:17] [INF] [-1/] [o0i23] iter: 23 cost: -362.489 time_iter: wall: 0.129811s cpu: 0.0724813s time_optim: wall: 3.30641s cpu: 1.69689s\u001b[0m\r\n  23 -3.6248887e+02 0.00e+00 9.80e+00 -10.8 1.78e-02    -  1.00e+00 1.00e+00f  1\r\n\u001b[36m[2018-08-23 09:05:17] [DBG] [-1/] [c0] Result for 0: 96.4244 (0) (0.0007s-)\u001b[0m\r\n\u001b[36m[2018-08-23 09:05:17] [DBG] [-1/] [c1] Result for 1: 79.4159 (0) (0.0008s-)\u001b[0m\r\n\u001b[36m[2018-08-23 09:05:17] [DBG] [-1/] [c2] Result for 2: 100.113 (0) (0.0007s-)\u001b[0m\r\n\u001b[36m[2018-08-23 09:05:17] [DBG] [-1/] [c3] Result for 3: 84.8409 (0) (0.0009s-)\u001b[0m\r\n\u001b[36m[2018-08-23 09:05:17] [DBG] [-1/] [c0] Result for 0: 96.4244 (0) (0.0007s-)\u001b[0m\r\n\u001b[36m[2018-08-23 09:05:17] [DBG] [-1/] [c1] Result for 1: 79.4159 (0) (0.0007s-)\u001b[0m\r\n\u001b[36m[2018-08-23 09:05:17] [DBG] [-1/] [c2] Result for 2: 100.113 (0) (0.0008s-)\u001b[0m\r\n\u001b[36m[2018-08-23 09:05:17] [DBG] [-1/] [c3] Result for 3: 84.8409 (0) (0.0007s-)\u001b[0m\r\n\u001b[36m[2018-08-23 09:05:17] [DBG] [-1/] [c0] Result for 0: 96.8022 (0) (0.0007s-)\u001b[0m\r\n\u001b[36m[2018-08-23 09:05:17] [DBG] [-1/] [c1] Result for 1: 79.8805 (0) (0.0007s-)\u001b[0m\r\n\u001b[36m[2018-08-23 09:05:17] [DBG] [-1/] [c2] Result for 2: 99.8685 (0) (0.0007s-)\u001b[0m\r\n\u001b[36m[2018-08-23 09:05:17] [DBG] [-1/] [c3] Result for 3: 85.6017 (0) (0.0007s-)\u001b[0m\r\n\u001b[36m[2018-08-23 09:05:17] [DBG] [-1/] [c0] Result for 0: 96.8931 (0) (0.0007s-)\u001b[0m\r\n\u001b[36m[2018-08-23 09:05:17] [DBG] [-1/] [c1] Result for 1: 80.0308 (0) (0.0009s-)\u001b[0m"
     ]
    },
    {
     "name": "stdout",
     "output_type": "stream",
     "text": [
      "\r\n\u001b[36m[2018-08-23 09:05:17] [DBG] [-1/] [c2] Result for 2: 99.6424 (0) (0.0007s-)\u001b[0m\r\n\u001b[36m[2018-08-23 09:05:17] [DBG] [-1/] [c3] Result for 3: 85.8829 (0) (0.0008s-)\u001b[0m\r\n\u001b[36m[2018-08-23 09:05:17] [DBG] [-1/] [c0] Result for 0: 96.914 (0) (0.0008s-)\u001b[0m\r\n\u001b[36m[2018-08-23 09:05:17] [DBG] [-1/] [c1] Result for 1: 80.0854 (0) (0.0009s-)\u001b[0m\r\n\u001b[36m[2018-08-23 09:05:17] [DBG] [-1/] [c2] Result for 2: 99.5032 (0) (0.0007s-)\u001b[0m\r\n\u001b[36m[2018-08-23 09:05:17] [DBG] [-1/] [c3] Result for 3: 85.9986 (0) (0.0007s-)\u001b[0m\r\n\u001b[36m[2018-08-23 09:05:17] [DBG] [-1/] [c0] Result for 0: 96.914 (0) (0.0151s+)\u001b[0m\r\n"
     ]
    },
    {
     "name": "stdout",
     "output_type": "stream",
     "text": [
      "\u001b[36m[2018-08-23 09:05:17] [DBG] [-1/] [c1] Result for 1: 80.0854 (0) (0.0139s+)\u001b[0m\r\n"
     ]
    },
    {
     "name": "stdout",
     "output_type": "stream",
     "text": [
      "\u001b[36m[2018-08-23 09:05:17] [DBG] [-1/] [c2] Result for 2: 99.5032 (0) (0.0239s+)\u001b[0m\r\n\u001b[36m[2018-08-23 09:05:17] [DBG] [-1/] [c3] Result for 3: 85.9986 (0) (0.0132s+)\u001b[0m\r\n\u001b[32m[2018-08-23 09:05:17] [INF] [-1/] [o0i24] iter: 24 cost: -362.501 time_iter: wall: 0.18471s cpu: 0.0812916s time_optim: wall: 3.49112s cpu: 1.77819s\u001b[0m\r\n  24 -3.6250122e+02 0.00e+00 8.59e+00 -11.0 9.87e-02    -  1.00e+00 1.25e-01f  4\r\n\u001b[36m[2018-08-23 09:05:17] [DBG] [-1/] [c0] Result for 0: 97.0102 (0) (0.0007s-)\u001b[0m\r\n\u001b[36m[2018-08-23 09:05:17] [DBG] [-1/] [c1] Result for 1: 80.0765 (0) (0.0007s-)\u001b[0m\r\n\u001b[36m[2018-08-23 09:05:17] [DBG] [-1/] [c2] Result for 2: 99.2735 (0) (0.0010s-)\u001b[0m\r\n\u001b[36m[2018-08-23 09:05:17] [DBG] [-1/] [c3] Result for 3: 86.2116 (0) (0.0010s-)\u001b[0m\r\n"
     ]
    },
    {
     "name": "stdout",
     "output_type": "stream",
     "text": [
      "\u001b[36m[2018-08-23 09:05:17] [DBG] [-1/] [c0] Result for 0: 97.0102 (0) (0.0221s+)\u001b[0m\r\n\u001b[36m[2018-08-23 09:05:17] [DBG] [-1/] [c1] Result for 1: 80.0765 (0) (0.0212s+)\u001b[0m\r\n"
     ]
    },
    {
     "name": "stdout",
     "output_type": "stream",
     "text": [
      "\u001b[36m[2018-08-23 09:05:17] [DBG] [-1/] [c2] Result for 2: 99.2735 (0) (0.0184s+)\u001b[0m\r\n\u001b[36m[2018-08-23 09:05:17] [DBG] [-1/] [c3] Result for 3: 86.2116 (0) (0.0183s+)\u001b[0m\r\n\u001b[32m[2018-08-23 09:05:17] [INF] [-1/] [o0i25] iter: 25 cost: -362.572 time_iter: wall: 0.121104s cpu: 0.0834027s time_optim: wall: 3.61222s cpu: 1.86159s\u001b[0m\r\n  25 -3.6257180e+02 0.00e+00 3.09e+01 -11.0 6.60e-02    -  1.00e+00 1.00e+00f  1\r\n"
     ]
    },
    {
     "name": "stdout",
     "output_type": "stream",
     "text": [
      "\u001b[36m[2018-08-23 09:05:17] [DBG] [-1/] [c0] Result for 0: 86.0134 (0) (0.0008s-)\u001b[0m\r\n\u001b[36m[2018-08-23 09:05:17] [DBG] [-1/] [c1] Result for 1: 49.1854 (0) (0.0007s-)\u001b[0m\r\n\u001b[36m[2018-08-23 09:05:17] [DBG] [-1/] [c2] Result for 2: 88.0255 (0) (0.0008s-)\u001b[0m\r\n\u001b[36m[2018-08-23 09:05:17] [DBG] [-1/] [c3] Result for 3: 59.597 (0) (0.0008s-)\u001b[0m\r\n\u001b[36m[2018-08-23 09:05:17] [DBG] [-1/] [c0] Result for 0: 86.0134 (0) (0.0009s-)\u001b[0m\r\n\u001b[36m[2018-08-23 09:05:17] [DBG] [-1/] [c1] Result for 1: 49.1854 (0) (0.0010s-)\u001b[0m\r\n\u001b[36m[2018-08-23 09:05:17] [DBG] [-1/] [c2] Result for 2: 88.0255 (0) (0.0045s-)\u001b[0m\r\n\u001b[36m[2018-08-23 09:05:17] [DBG] [-1/] [c3] Result for 3: 59.597 (0) (0.0008s-)\u001b[0m\r\n\u001b[36m[2018-08-23 09:05:17] [DBG] [-1/] [c0] Result for 0: 95.4968 (0) (0.0008s-)\u001b[0m\r\n\u001b[36m[2018-08-23 09:05:17] [DBG] [-1/] [c1] Result for 1: 71.6432 (0) (0.0008s-)\u001b[0m\r\n\u001b[36m[2018-08-23 09:05:17] [DBG] [-1/] [c2] Result for 2: 98.0792 (0) (0.0008s-)\u001b[0m\r\n\u001b[36m[2018-08-23 09:05:17] [DBG] [-1/] [c3] Result for 3: 81.9596 (0) (0.0008s-)\u001b[0m\r\n\u001b[36m[2018-08-23 09:05:17] [DBG] [-1/] [c0] Result for 0: 96.9213 (0) (0.0008s-)\u001b[0m\r\n\u001b[36m[2018-08-23 09:05:17] [DBG] [-1/] [c1] Result for 1: 76.9953 (0) (0.0012s-)\u001b[0m\r\n\u001b[36m[2018-08-23 09:05:17] [DBG] [-1/] [c2] Result for 2: 99.5004 (0) (0.0008s-)\u001b[0m"
     ]
    },
    {
     "name": "stdout",
     "output_type": "stream",
     "text": [
      "\r\n\u001b[36m[2018-08-23 09:05:17] [DBG] [-1/] [c3] Result for 3: 85.944 (0) (0.0008s-)\u001b[0m\r\n\u001b[36m[2018-08-23 09:05:17] [DBG] [-1/] [c0] Result for 0: 97.1147 (0) (0.0008s-)\u001b[0m\r\n\u001b[36m[2018-08-23 09:05:17] [DBG] [-1/] [c1] Result for 1: 78.7491 (0) (0.0008s-)\u001b[0m\r\n\u001b[36m[2018-08-23 09:05:17] [DBG] [-1/] [c2] Result for 2: 99.5816 (0) (0.0007s-)\u001b[0m\r\n\u001b[36m[2018-08-23 09:05:17] [DBG] [-1/] [c3] Result for 3: 86.5064 (0) (0.0008s-)\u001b[0m\r\n\u001b[36m[2018-08-23 09:05:17] [DBG] [-1/] [c0] Result for 0: 97.1026 (0) (0.0007s-)\u001b[0m\r\n\u001b[36m[2018-08-23 09:05:17] [DBG] [-1/] [c1] Result for 1: 79.4612 (0) (0.0007s-)\u001b[0m\r\n\u001b[36m[2018-08-23 09:05:17] [DBG] [-1/] [c2] Result for 2: 99.4799 (0) (0.0008s-)\u001b[0m\r\n\u001b[36m[2018-08-23 09:05:17] [DBG] [-1/] [c3] Result for 3: 86.4661 (0) (0.0007s-)\u001b[0m\r\n\u001b[36m[2018-08-23 09:05:17] [DBG] [-1/] [c0] Result for 0: 97.0673 (0) (0.0007s-)\u001b[0m\r\n\u001b[36m[2018-08-23 09:05:17] [DBG] [-1/] [c1] Result for 1: 79.7808 (0) (0.0007s-)\u001b[0m\r\n\u001b[36m[2018-08-23 09:05:17] [DBG] [-1/] [c2] Result for 2: 99.3907 (0) (0.0007s-)\u001b[0m\r\n\u001b[36m[2018-08-23 09:05:17] [DBG] [-1/] [c3] Result for 3: 86.366 (0) (0.0009s-)\u001b[0m\r\n\u001b[36m[2018-08-23 09:05:17] [DBG] [-1/] [c0] Result for 0: 97.0673 (0) (0.0154s+)\u001b[0m"
     ]
    },
    {
     "name": "stdout",
     "output_type": "stream",
     "text": [
      "\r\n\u001b[36m[2018-08-23 09:05:18] [DBG] [-1/] [c1] Result for 1: 79.7808 (0) (0.0155s+)\u001b[0m\r\n\u001b[36m[2018-08-23 09:05:18] [DBG] [-1/] [c2] Result for 2: 99.3907 (0) (0.0180s+)\u001b[0m"
     ]
    },
    {
     "name": "stdout",
     "output_type": "stream",
     "text": [
      "\r\n\u001b[36m[2018-08-23 09:05:18] [DBG] [-1/] [c3] Result for 3: 86.366 (0) (0.0127s+)\u001b[0m\r\n\u001b[32m[2018-08-23 09:05:18] [INF] [-1/] [o0i26] iter: 26 cost: -362.605 time_iter: wall: 0.201634s cpu: 0.0876148s time_optim: wall: 3.81386s cpu: 1.9492s\u001b[0m\r\n  26 -3.6260481e+02 0.00e+00 3.23e+01 -11.0 9.76e-01    -  1.00e+00 3.12e-02f  6\r\n\u001b[36m[2018-08-23 09:05:18] [DBG] [-1/] [c0] Result for 0: 96.0379 (0) (0.0016s-)\u001b[0m\r\n\u001b[36m[2018-08-23 09:05:18] [DBG] [-1/] [c1] Result for 1: 75.3364 (0) (0.0007s-)\u001b[0m\r\n\u001b[36m[2018-08-23 09:05:18] [DBG] [-1/] [c2] Result for 2: 96.0144 (0) (0.0008s-)\u001b[0m\r\n\u001b[36m[2018-08-23 09:05:18] [DBG] [-1/] [c3] Result for 3: 83.4606 (0) (0.0007s-)\u001b[0m\r\n"
     ]
    },
    {
     "name": "stdout",
     "output_type": "stream",
     "text": [
      "\u001b[36m[2018-08-23 09:05:18] [DBG] [-1/] [c0] Result for 0: 96.0379 (0) (0.0007s-)\u001b[0m\r\n\u001b[36m[2018-08-23 09:05:18] [DBG] [-1/] [c1] Result for 1: 75.3364 (0) (0.0027s-)\u001b[0m\r\n\u001b[36m[2018-08-23 09:05:18] [DBG] [-1/] [c2] Result for 2: 96.0144 (0) (0.0008s-)\u001b[0m\r\n\u001b[36m[2018-08-23 09:05:18] [DBG] [-1/] [c3] Result for 3: 83.4606 (0) (0.0010s-)\u001b[0m\r\n\u001b[36m[2018-08-23 09:05:18] [DBG] [-1/] [c0] Result for 0: 97.291 (0) (0.0007s-)\u001b[0m\r\n\u001b[36m[2018-08-23 09:05:18] [DBG] [-1/] [c1] Result for 1: 78.335 (0) (0.0007s-)\u001b[0m\r\n\u001b[36m[2018-08-23 09:05:18] [DBG] [-1/] [c2] Result for 2: 98.4077 (0) (0.0015s-)\u001b[0m\r\n\u001b[36m[2018-08-23 09:05:18] [DBG] [-1/] [c3] Result for 3: 85.7531 (0) (0.0010s-)\u001b[0m\r\n\u001b[36m[2018-08-23 09:05:18] [DBG] [-1/] [c0] Result for 0: 97.3713 (0) (0.0007s-)\u001b[0m\r\n\u001b[36m[2018-08-23 09:05:18] [DBG] [-1/] [c1] Result for 1: 79.2578 (0) (0.0010s-)\u001b[0m\r\n\u001b[36m[2018-08-23 09:05:18] [DBG] [-1/] [c2] Result for 2: 99.0818 (0) (0.0025s-)\u001b[0m\r\n\u001b[36m[2018-08-23 09:05:18] [DBG] [-1/] [c3] Result for 3: 86.2766 (0) (0.0009s-)\u001b[0m\r\n\u001b[36m[2018-08-23 09:05:18] [DBG] [-1/] [c0] Result for 0: 97.2685 (0) (0.0007s-)\u001b[0m\r\n\u001b[36m[2018-08-23 09:05:18] [DBG] [-1/] [c1] Result for 1: 79.5701 (0) (0.0009s-)\u001b[0m\r\n\u001b[36m[2018-08-23 09:05:18] [DBG] [-1/] [c2] Result for 2: 99.2829 (0) (0.0007s-)\u001b[0m\r\n\u001b[36m[2018-08-23 09:05:18] [DBG] [-1/] [c3] Result for 3: 86.3766 (0) (0.0033s-)\u001b[0m\r\n\u001b[36m[2018-08-23 09:05:18] [DBG] [-1/] [c0] Result for 0: 97.1803 (0) (0.0042s-)\u001b[0m"
     ]
    },
    {
     "name": "stdout",
     "output_type": "stream",
     "text": [
      "\r\n\u001b[36m[2018-08-23 09:05:18] [DBG] [-1/] [c1] Result for 1: 79.6883 (0) (0.0029s-)\u001b[0m\r\n\u001b[36m[2018-08-23 09:05:18] [DBG] [-1/] [c2] Result for 2: 99.3486 (0) (0.0013s-)\u001b[0m\r\n\u001b[36m[2018-08-23 09:05:18] [DBG] [-1/] [c3] Result for 3: 86.3853 (0) (0.0028s-)\u001b[0m\r\n\u001b[36m[2018-08-23 09:05:18] [DBG] [-1/] [c0] Result for 0: 97.1269 (0) (0.0007s-)\u001b[0m\r\n\u001b[36m[2018-08-23 09:05:18] [DBG] [-1/] [c1] Result for 1: 79.7378 (0) (0.0007s-)\u001b[0m\r\n\u001b[36m[2018-08-23 09:05:18] [DBG] [-1/] [c2] Result for 2: 99.3726 (0) (0.0008s-)\u001b[0m\r\n\u001b[36m[2018-08-23 09:05:18] [DBG] [-1/] [c3] Result for 3: 86.3792 (0) (0.0010s-)\u001b[0m\r\n\u001b[36m[2018-08-23 09:05:18] [DBG] [-1/] [c0] Result for 0: 97.1269 (0) (0.0158s+)\u001b[0m\r\n"
     ]
    },
    {
     "name": "stdout",
     "output_type": "stream",
     "text": [
      "\u001b[36m[2018-08-23 09:05:18] [DBG] [-1/] [c1] Result for 1: 79.7378 (0) (0.0220s+)\u001b[0m\r\n\u001b[36m[2018-08-23 09:05:18] [DBG] [-1/] [c2] Result for 2: 99.3726 (0) (0.0078s+)\u001b[0m\r\n"
     ]
    },
    {
     "name": "stdout",
     "output_type": "stream",
     "text": [
      "\u001b[36m[2018-08-23 09:05:18] [DBG] [-1/] [c3] Result for 3: 86.3792 (0) (0.0118s+)\u001b[0m\r\n\u001b[32m[2018-08-23 09:05:18] [INF] [-1/] [o0i27] iter: 27 cost: -362.616 time_iter: wall: 0.198964s cpu: 0.0954434s time_optim: wall: 4.01282s cpu: 2.04465s\u001b[0m\r\n  27 -3.6261649e+02 0.00e+00 1.85e+01 -11.0 1.28e-01    -  1.00e+00 3.12e-02f  6\r\n\u001b[36m[2018-08-23 09:05:18] [DBG] [-1/] [c0] Result for 0: 97.1256 (0) (0.0007s-)\u001b[0m\r\n\u001b[36m[2018-08-23 09:05:18] [DBG] [-1/] [c1] Result for 1: 79.7597 (0) (0.0007s-)\u001b[0m\r\n\u001b[36m[2018-08-23 09:05:18] [DBG] [-1/] [c2] Result for 2: 99.8637 (0) (0.0024s-)\u001b[0m\r\n\u001b[36m[2018-08-23 09:05:18] [DBG] [-1/] [c3] Result for 3: 85.8899 (0) (0.0031s-)\u001b[0m\r\n"
     ]
    },
    {
     "name": "stdout",
     "output_type": "stream",
     "text": [
      "\u001b[36m[2018-08-23 09:05:18] [DBG] [-1/] [c0] Result for 0: 97.1256 (0) (0.0161s+)\u001b[0m\r\n\u001b[36m[2018-08-23 09:05:18] [DBG] [-1/] [c1] Result for 1: 79.7597 (0) (0.0075s+)\u001b[0m\r\n"
     ]
    },
    {
     "name": "stdout",
     "output_type": "stream",
     "text": [
      "\u001b[36m[2018-08-23 09:05:18] [DBG] [-1/] [c2] Result for 2: 99.8637 (0) (0.0165s+)\u001b[0m\r\n\u001b[36m[2018-08-23 09:05:18] [DBG] [-1/] [c3] Result for 3: 85.8899 (0) (0.0161s+)\u001b[0m\r\n\u001b[32m[2018-08-23 09:05:18] [INF] [-1/] [o0i28] iter: 28 cost: -362.639 time_iter: wall: 0.124747s cpu: 0.06314s time_optim: wall: 4.13757s cpu: 2.10779s\u001b[0m"
     ]
    },
    {
     "name": "stdout",
     "output_type": "stream",
     "text": [
      "\r\n  28 -3.6263895e+02 0.00e+00 2.44e+01 -11.0 1.35e-02    -  1.00e+00 1.00e+00f  1\r\n\u001b[36m[2018-08-23 09:05:18] [DBG] [-1/] [c0] Result for 0: 97.3301 (0) (0.0007s-)\u001b[0m\r\n\u001b[36m[2018-08-23 09:05:18] [DBG] [-1/] [c1] Result for 1: 79.0649 (0) (0.0007s-)\u001b[0m\r\n\u001b[36m[2018-08-23 09:05:18] [DBG] [-1/] [c2] Result for 2: 99.266 (0) (0.0009s-)\u001b[0m\r\n\u001b[36m[2018-08-23 09:05:18] [DBG] [-1/] [c3] Result for 3: 86.5416 (0) (0.0007s-)\u001b[0m\r\n\u001b[36m[2018-08-23 09:05:18] [DBG] [-1/] [c0] Result for 0: 97.3301 (0) (0.0007s-)\u001b[0m\r\n\u001b[36m[2018-08-23 09:05:18] [DBG] [-1/] [c1] Result for 1: 79.0649 (0) (0.0015s-)\u001b[0m\r\n\u001b[36m[2018-08-23 09:05:18] [DBG] [-1/] [c2] Result for 2: 99.266 (0) (0.0007s-)\u001b[0m\r\n\u001b[36m[2018-08-23 09:05:18] [DBG] [-1/] [c3] Result for 3: 86.5416 (0) (0.0007s-)\u001b[0m\r\n\u001b[36m[2018-08-23 09:05:18] [DBG] [-1/] [c0] Result for 0: 97.2789 (0) (0.0068s-)\u001b[0m\r\n\u001b[36m[2018-08-23 09:05:18] [DBG] [-1/] [c1] Result for 1: 79.4538 (0) (0.0012s-)\u001b[0m\r\n\u001b[36m[2018-08-23 09:05:18] [DBG] [-1/] [c2] Result for 2: 99.615 (0) (0.0041s-)\u001b[0m\r\n\u001b[36m[2018-08-23 09:05:18] [DBG] [-1/] [c3] Result for 3: 86.257 (0) (0.0011s-)\u001b[0m\r\n\u001b[36m[2018-08-23 09:05:18] [DBG] [-1/] [c0] Result for 0: 97.2152 (0) (0.0037s-)\u001b[0m\r\n\u001b[36m[2018-08-23 09:05:18] [DBG] [-1/] [c1] Result for 1: 79.6172 (0) (0.0007s-)\u001b[0m\r\n\u001b[36m[2018-08-23 09:05:18] [DBG] [-1/] [c2] Result for 2: 99.7521 (0) (0.0007s-)\u001b[0m"
     ]
    },
    {
     "name": "stdout",
     "output_type": "stream",
     "text": [
      "\r\n\u001b[36m[2018-08-23 09:05:18] [DBG] [-1/] [c3] Result for 3: 86.0839 (0) (0.0014s-)\u001b[0m\r\n\u001b[36m[2018-08-23 09:05:18] [DBG] [-1/] [c0] Result for 0: 97.2152 (0) (0.0214s+)\u001b[0m\r\n"
     ]
    },
    {
     "name": "stdout",
     "output_type": "stream",
     "text": [
      "\u001b[36m[2018-08-23 09:05:18] [DBG] [-1/] [c1] Result for 1: 79.6172 (0) (0.0139s+)\u001b[0m\r\n\u001b[36m[2018-08-23 09:05:18] [DBG] [-1/] [c2] Result for 2: 99.7521 (0) (0.0147s+)\u001b[0m\r\n"
     ]
    },
    {
     "name": "stdout",
     "output_type": "stream",
     "text": [
      "\u001b[36m[2018-08-23 09:05:18] [DBG] [-1/] [c3] Result for 3: 86.0839 (0) (0.0134s+)\u001b[0m\r\n\u001b[32m[2018-08-23 09:05:18] [INF] [-1/] [o0i29] iter: 29 cost: -362.668 time_iter: wall: 0.175179s cpu: 0.0898847s time_optim: wall: 4.31275s cpu: 2.19767s\u001b[0m\r\n  29 -3.6266831e+02 0.00e+00 9.90e+00 -11.0 2.88e-02    -  1.00e+00 2.50e-01f  3\r\n\u001b[36m[2018-08-23 09:05:18] [DBG] [-1/] [c0] Result for 0: 96.7172 (0) (0.0008s-)\u001b[0m\r\n\u001b[36m[2018-08-23 09:05:18] [DBG] [-1/] [c1] Result for 1: 79.326 (0) (0.0009s-)\u001b[0m\r\n\u001b[36m[2018-08-23 09:05:18] [DBG] [-1/] [c2] Result for 2: 99.6279 (0) (0.0007s-)\u001b[0m\r\n\u001b[36m[2018-08-23 09:05:18] [DBG] [-1/] [c3] Result for 3: 86.7895 (0) (0.0007s-)\u001b[0m\r\n\u001b[36m[2018-08-23 09:05:18] [DBG] [-1/] [c0] Result for 0: 96.7172 (0) (0.0007s-)\u001b[0m\r\n\u001b[36m[2018-08-23 09:05:18] [DBG] [-1/] [c1] Result for 1: 79.326 (0) (0.0007s-)\u001b[0m\r\n\u001b[36m[2018-08-23 09:05:18] [DBG] [-1/] [c2] Result for 2: 99.6279 (0) (0.0007s-)\u001b[0m\r\n\u001b[36m[2018-08-23 09:05:18] [DBG] [-1/] [c3] Result for 3: 86.7895 (0) (0.0015s-)\u001b[0m\r\n\u001b[36m[2018-08-23 09:05:18] [DBG] [-1/] [c0] Result for 0: 97.0089 (0) (0.0007s-)\u001b[0m"
     ]
    },
    {
     "name": "stdout",
     "output_type": "stream",
     "text": [
      "\r\n\u001b[36m[2018-08-23 09:05:18] [DBG] [-1/] [c1] Result for 1: 79.4815 (0) (0.0020s-)\u001b[0m\r\n\u001b[36m[2018-08-23 09:05:18] [DBG] [-1/] [c2] Result for 2: 99.7344 (0) (0.0007s-)\u001b[0m\r\n\u001b[36m[2018-08-23 09:05:18] [DBG] [-1/] [c3] Result for 3: 86.4498 (0) (0.0007s-)\u001b[0m\r\n\u001b[36m[2018-08-23 09:05:18] [DBG] [-1/] [c0] Result for 0: 97.0089 (0) (0.0114s+)\u001b[0m\r\n\u001b[36m[2018-08-23 09:05:18] [DBG] [-1/] [c1] Result for 1: 79.4815 (0) (0.0090s+)\u001b[0m\r\n"
     ]
    },
    {
     "name": "stdout",
     "output_type": "stream",
     "text": [
      "\u001b[36m[2018-08-23 09:05:18] [DBG] [-1/] [c2] Result for 2: 99.7344 (0) (0.0093s+)\u001b[0m\r\n\u001b[36m[2018-08-23 09:05:18] [DBG] [-1/] [c3] Result for 3: 86.4498 (0) (0.0175s+)\u001b[0m\r\n"
     ]
    },
    {
     "name": "stdout",
     "output_type": "stream",
     "text": [
      "\u001b[32m[2018-08-23 09:05:18] [INF] [-1/] [o0i30] iter: 30 cost: -362.675 time_iter: wall: 0.156978s cpu: 0.0581899s time_optim: wall: 4.46972s cpu: 2.25586s\u001b[0m\r\niter    objective    inf_pr   inf_du lg(mu)  ||d||  lg(rg) alpha_du alpha_pr  ls\r\n  30 -3.6267465e+02 0.00e+00 1.22e+01 -11.0 3.32e-02    -  1.00e+00 5.00e-01f  2\r\n\u001b[36m[2018-08-23 09:05:18] [DBG] [-1/] [c0] Result for 0: 97.1192 (0) (0.0016s-)\u001b[0m\r\n\u001b[36m[2018-08-23 09:05:18] [DBG] [-1/] [c1] Result for 1: 79.5642 (0) (0.0007s-)\u001b[0m\r\n\u001b[36m[2018-08-23 09:05:18] [DBG] [-1/] [c2] Result for 2: 99.6209 (0) (0.0066s-)\u001b[0m\r\n\u001b[36m[2018-08-23 09:05:18] [DBG] [-1/] [c3] Result for 3: 86.3819 (0) (0.0009s-)\u001b[0m\r\n\u001b[36m[2018-08-23 09:05:18] [DBG] [-1/] [c0] Result for 0: 97.1192 (0) (0.0081s+)\u001b[0m\r\n"
     ]
    },
    {
     "name": "stdout",
     "output_type": "stream",
     "text": [
      "\u001b[36m[2018-08-23 09:05:18] [DBG] [-1/] [c1] Result for 1: 79.5642 (0) (0.0175s+)\u001b[0m\r\n\u001b[36m[2018-08-23 09:05:18] [DBG] [-1/] [c2] Result for 2: 99.6209 (0) (0.0226s+)\u001b[0m"
     ]
    },
    {
     "name": "stdout",
     "output_type": "stream",
     "text": [
      "\r\n\u001b[36m[2018-08-23 09:05:18] [DBG] [-1/] [c3] Result for 3: 86.3819 (0) (0.0126s+)\u001b[0m\r\n\u001b[32m[2018-08-23 09:05:18] [INF] [-1/] [o0i31] iter: 31 cost: -362.686 time_iter: wall: 0.131006s cpu: 0.0705919s time_optim: wall: 4.60073s cpu: 2.32645s\u001b[0m\r\n  31 -3.6268628e+02 0.00e+00 7.52e+00 -11.0 7.00e-03    -  1.00e+00 1.00e+00f  1\r\n\u001b[36m[2018-08-23 09:05:18] [DBG] [-1/] [c0] Result for 0: 97.1357 (0) (0.0008s-)\u001b[0m\r\n\u001b[36m[2018-08-23 09:05:18] [DBG] [-1/] [c1] Result for 1: 79.5698 (0) (0.0007s-)\u001b[0m\r\n\u001b[36m[2018-08-23 09:05:18] [DBG] [-1/] [c2] Result for 2: 99.69 (0) (0.0007s-)\u001b[0m\r\n\u001b[36m[2018-08-23 09:05:18] [DBG] [-1/] [c3] Result for 3: 86.3155 (0) (0.0010s-)\u001b[0m\r\n"
     ]
    },
    {
     "name": "stdout",
     "output_type": "stream",
     "text": [
      "\u001b[36m[2018-08-23 09:05:18] [DBG] [-1/] [c0] Result for 0: 97.1357 (0) (0.0140s+)\u001b[0m\r\n\u001b[36m[2018-08-23 09:05:18] [DBG] [-1/] [c1] Result for 1: 79.5698 (0) (0.0174s+)\u001b[0m\r\n"
     ]
    },
    {
     "name": "stdout",
     "output_type": "stream",
     "text": [
      "\u001b[36m[2018-08-23 09:05:18] [DBG] [-1/] [c2] Result for 2: 99.69 (0) (0.0225s+)\u001b[0m\r\n\u001b[36m[2018-08-23 09:05:18] [DBG] [-1/] [c3] Result for 3: 86.3155 (0) (0.0200s+)\u001b[0m"
     ]
    },
    {
     "name": "stdout",
     "output_type": "stream",
     "text": [
      "\r\n\u001b[32m[2018-08-23 09:05:19] [INF] [-1/] [o0i32] iter: 32 cost: -362.711 time_iter: wall: 0.138838s cpu: 0.0771204s time_optim: wall: 4.73957s cpu: 2.40357s\u001b[0m\r\n  32 -3.6271101e+02 0.00e+00 3.74e+00 -11.0 6.88e-03    -  1.00e+00 1.00e+00f  1\r\n\u001b[36m[2018-08-23 09:05:19] [DBG] [-1/] [c0] Result for 0: 97.1163 (0) (0.0113s-)\u001b[0m\r\n\u001b[36m[2018-08-23 09:05:19] [DBG] [-1/] [c1] Result for 1: 79.5041 (0) (0.0009s-)\u001b[0m\r\n\u001b[36m[2018-08-23 09:05:19] [DBG] [-1/] [c2] Result for 2: 99.756 (0) (0.0007s-)\u001b[0m\r\n\u001b[36m[2018-08-23 09:05:19] [DBG] [-1/] [c3] Result for 3: 86.3369 (0) (0.0007s-)\u001b[0m\r\n\u001b[36m[2018-08-23 09:05:19] [DBG] [-1/] [c0] Result for 0: 97.1163 (0) (0.0087s+)\u001b[0m\r\n"
     ]
    },
    {
     "name": "stdout",
     "output_type": "stream",
     "text": [
      "\u001b[36m[2018-08-23 09:05:19] [DBG] [-1/] [c1] Result for 1: 79.5041 (0) (0.0189s+)\u001b[0m\r\n"
     ]
    },
    {
     "name": "stdout",
     "output_type": "stream",
     "text": [
      "\u001b[36m[2018-08-23 09:05:19] [DBG] [-1/] [c2] Result for 2: 99.756 (0) (0.0200s+)\u001b[0m\r\n\u001b[36m[2018-08-23 09:05:19] [DBG] [-1/] [c3] Result for 3: 86.3369 (0) (0.0166s+)\u001b[0m\r\n\u001b[32m[2018-08-23 09:05:19] [INF] [-1/] [o0i33] iter: 33 cost: -362.713 time_iter: wall: 0.131461s cpu: 0.077881s time_optim: wall: 4.87103s cpu: 2.48145s\u001b[0m\r\n  33 -3.6271316e+02 0.00e+00 2.42e+00 -11.0 2.17e-03    -  1.00e+00 1.00e+00f  1\r\n\u001b[36m[2018-08-23 09:05:19] [DBG] [-1/] [c0] Result for 0: 97.0918 (0) (0.0010s-)\u001b[0m"
     ]
    },
    {
     "name": "stdout",
     "output_type": "stream",
     "text": [
      "\r\n\u001b[36m[2018-08-23 09:05:19] [DBG] [-1/] [c1] Result for 1: 79.5769 (0) (0.0007s-)\u001b[0m\r\n\u001b[36m[2018-08-23 09:05:19] [DBG] [-1/] [c2] Result for 2: 99.6924 (0) (0.0007s-)\u001b[0m\r\n\u001b[36m[2018-08-23 09:05:19] [DBG] [-1/] [c3] Result for 3: 86.3534 (0) (0.0044s-)\u001b[0m\r\n\u001b[36m[2018-08-23 09:05:19] [DBG] [-1/] [c0] Result for 0: 97.0918 (0) (0.0206s+)\u001b[0m\r\n"
     ]
    },
    {
     "name": "stdout",
     "output_type": "stream",
     "text": [
      "\u001b[36m[2018-08-23 09:05:19] [DBG] [-1/] [c1] Result for 1: 79.5769 (0) (0.0230s+)\u001b[0m\r\n\u001b[36m[2018-08-23 09:05:19] [DBG] [-1/] [c2] Result for 2: 99.6924 (0) (0.0133s+)\u001b[0m\r\n"
     ]
    },
    {
     "name": "stdout",
     "output_type": "stream",
     "text": [
      "\u001b[36m[2018-08-23 09:05:19] [DBG] [-1/] [c3] Result for 3: 86.3534 (0) (0.0149s+)\u001b[0m\r\n\u001b[32m[2018-08-23 09:05:19] [INF] [-1/] [o0i34] iter: 34 cost: -362.714 time_iter: wall: 0.129938s cpu: 0.0786261s time_optim: wall: 5.00097s cpu: 2.56008s\u001b[0m\r\n  34 -3.6271449e+02 0.00e+00 5.27e+00 -11.0 3.52e-03    -  1.00e+00 1.00e+00f  1\r\n\u001b[36m[2018-08-23 09:05:19] [DBG] [-1/] [c0] Result for 0: 97.1896 (0) (0.0007s-)\u001b[0m\r\n\u001b[36m[2018-08-23 09:05:19] [DBG] [-1/] [c1] Result for 1: 79.6457 (0) (0.0007s-)\u001b[0m\r\n\u001b[36m[2018-08-23 09:05:19] [DBG] [-1/] [c2] Result for 2: 99.3848 (0) (0.0011s-)\u001b[0m\r\n\u001b[36m[2018-08-23 09:05:19] [DBG] [-1/] [c3] Result for 3: 86.3692 (0) (0.0083s-)\u001b[0m\r\n\u001b[36m[2018-08-23 09:05:19] [DBG] [-1/] [c0] Result for 0: 97.1896 (0) (0.0007s-)\u001b[0m\r\n\u001b[36m[2018-08-23 09:05:19] [DBG] [-1/] [c1] Result for 1: 79.6457 (0) (0.0010s-)\u001b[0m\r\n\u001b[36m[2018-08-23 09:05:19] [DBG] [-1/] [c2] Result for 2: 99.3848 (0) (0.0011s-)\u001b[0m\r\n\u001b[36m[2018-08-23 09:05:19] [DBG] [-1/] [c3] Result for 3: 86.3692 (0) (0.0012s-)\u001b[0m\r\n\u001b[36m[2018-08-23 09:05:19] [DBG] [-1/] [c0] Result for 0: 97.1493 (0) (0.0007s-)\u001b[0m\r\n"
     ]
    },
    {
     "name": "stdout",
     "output_type": "stream",
     "text": [
      "\u001b[36m[2018-08-23 09:05:19] [DBG] [-1/] [c1] Result for 1: 79.6221 (0) (0.0020s-)\u001b[0m\r\n\u001b[36m[2018-08-23 09:05:19] [DBG] [-1/] [c2] Result for 2: 99.5478 (0) (0.0010s-)\u001b[0m\r\n\u001b[36m[2018-08-23 09:05:19] [DBG] [-1/] [c3] Result for 3: 86.3715 (0) (0.0007s-)\u001b[0m\r\n\u001b[36m[2018-08-23 09:05:19] [DBG] [-1/] [c0] Result for 0: 97.1227 (0) (0.0013s-)\u001b[0m\r\n\u001b[36m[2018-08-23 09:05:19] [DBG] [-1/] [c1] Result for 1: 79.6022 (0) (0.0007s-)\u001b[0m\r\n\u001b[36m[2018-08-23 09:05:19] [DBG] [-1/] [c2] Result for 2: 99.6224 (0) (0.0007s-)\u001b[0m\r\n\u001b[36m[2018-08-23 09:05:19] [DBG] [-1/] [c3] Result for 3: 86.365 (0) (0.0007s-)\u001b[0m\r\n\u001b[36m[2018-08-23 09:05:19] [DBG] [-1/] [c0] Result for 0: 97.1078 (0) (0.0023s-)\u001b[0m\r\n\u001b[36m[2018-08-23 09:05:19] [DBG] [-1/] [c1] Result for 1: 79.5902 (0) (0.0009s-)\u001b[0m\r\n\u001b[36m[2018-08-23 09:05:19] [DBG] [-1/] [c2] Result for 2: 99.6579 (0) (0.0007s-)\u001b[0m\r\n\u001b[36m[2018-08-23 09:05:19] [DBG] [-1/] [c3] Result for 3: 86.3598 (0) (0.0007s-)\u001b[0m\r\n\u001b[36m[2018-08-23 09:05:19] [DBG] [-1/] [c0] Result for 0: 97.1078 (0) (0.0142s+)\u001b[0m\r\n"
     ]
    },
    {
     "name": "stdout",
     "output_type": "stream",
     "text": [
      "\u001b[36m[2018-08-23 09:05:19] [DBG] [-1/] [c1] Result for 1: 79.5902 (0) (0.0165s+)\u001b[0m\r\n\u001b[36m[2018-08-23 09:05:19] [DBG] [-1/] [c2] Result for 2: 99.6579 (0) (0.0158s+)\u001b[0m\r\n"
     ]
    },
    {
     "name": "stdout",
     "output_type": "stream",
     "text": [
      "\u001b[36m[2018-08-23 09:05:19] [DBG] [-1/] [c3] Result for 3: 86.3598 (0) (0.0091s+)\u001b[0m\r\n\u001b[32m[2018-08-23 09:05:19] [INF] [-1/] [o0i35] iter: 35 cost: -362.716 time_iter: wall: 0.175285s cpu: 0.0828161s time_optim: wall: 5.17625s cpu: 2.6429s\u001b[0m\r\n  35 -3.6271578e+02 0.00e+00 1.40e+00 -11.0 1.57e-02    -  1.00e+00 1.25e-01f  4\r\n\u001b[36m[2018-08-23 09:05:19] [DBG] [-1/] [c0] Result for 0: 97.1 (0) (0.0007s-)\u001b[0m\r\n\u001b[36m[2018-08-23 09:05:19] [DBG] [-1/] [c1] Result for 1: 79.5807 (0) (0.0009s-)\u001b[0m\r\n\u001b[36m[2018-08-23 09:05:19] [DBG] [-1/] [c2] Result for 2: 99.6861 (0) (0.0008s-)\u001b[0m\r\n\u001b[36m[2018-08-23 09:05:19] [DBG] [-1/] [c3] Result for 3: 86.3515 (0) (0.0008s-)\u001b[0m\r\n"
     ]
    },
    {
     "name": "stdout",
     "output_type": "stream",
     "text": [
      "\u001b[36m[2018-08-23 09:05:19] [DBG] [-1/] [c0] Result for 0: 97.1 (0) (0.0203s+)\u001b[0m\r\n\u001b[36m[2018-08-23 09:05:19] [DBG] [-1/] [c1] Result for 1: 79.5807 (0) (0.0185s+)\u001b[0m\r\n"
     ]
    },
    {
     "name": "stdout",
     "output_type": "stream",
     "text": [
      "\u001b[36m[2018-08-23 09:05:19] [DBG] [-1/] [c2] Result for 2: 99.6861 (0) (0.0225s+)\u001b[0m\r\n\u001b[36m[2018-08-23 09:05:19] [DBG] [-1/] [c3] Result for 3: 86.3515 (0) (0.0173s+)\u001b[0m"
     ]
    },
    {
     "name": "stdout",
     "output_type": "stream",
     "text": [
      "\r\n\u001b[32m[2018-08-23 09:05:19] [INF] [-1/] [o0i36] iter: 36 cost: -362.718 time_iter: wall: 0.129236s cpu: 0.081908s time_optim: wall: 5.30549s cpu: 2.72481s\u001b[0m\r\n  36 -3.6271820e+02 0.00e+00 2.47e+00 -11.0 2.39e-03    -  1.00e+00 1.00e+00f  1\r\n\u001b[36m[2018-08-23 09:05:19] [DBG] [-1/] [c0] Result for 0: 97.2343 (0) (0.0007s-)\u001b[0m\r\n\u001b[36m[2018-08-23 09:05:19] [DBG] [-1/] [c1] Result for 1: 78.9797 (0) (0.0007s-)\u001b[0m\r\n\u001b[36m[2018-08-23 09:05:19] [DBG] [-1/] [c2] Result for 2: 99.403 (0) (0.0007s-)\u001b[0m\r\n\u001b[36m[2018-08-23 09:05:19] [DBG] [-1/] [c3] Result for 3: 86.7719 (0) (0.0007s-)\u001b[0m\r\n\u001b[36m[2018-08-23 09:05:19] [DBG] [-1/] [c0] Result for 0: 97.2343 (0) (0.0009s-)\u001b[0m\r\n\u001b[36m[2018-08-23 09:05:19] [DBG] [-1/] [c1] Result for 1: 78.9797 (0) (0.0007s-)\u001b[0m\r\n\u001b[36m[2018-08-23 09:05:19] [DBG] [-1/] [c2] Result for 2: 99.403 (0) (0.0010s-)\u001b[0m\r\n\u001b[36m[2018-08-23 09:05:19] [DBG] [-1/] [c3] Result for 3: 86.7719 (0) (0.0008s-)\u001b[0m\r\n\u001b[36m[2018-08-23 09:05:19] [DBG] [-1/] [c0] Result for 0: 97.1935 (0) (0.0009s-)\u001b[0m\r\n\u001b[36m[2018-08-23 09:05:19] [DBG] [-1/] [c1] Result for 1: 79.2998 (0) (0.0024s-)\u001b[0m\r\n\u001b[36m[2018-08-23 09:05:19] [DBG] [-1/] [c2] Result for 2: 99.5701 (0) (0.0007s-)\u001b[0m\r\n\u001b[36m[2018-08-23 09:05:19] [DBG] [-1/] [c3] Result for 3: 86.5825 (0) (0.0007s-)\u001b[0m\r\n\u001b[36m[2018-08-23 09:05:19] [DBG] [-1/] [c0] Result for 0: 97.1534 (0) (0.0007s-)\u001b[0m\r\n"
     ]
    },
    {
     "name": "stdout",
     "output_type": "stream",
     "text": [
      "\u001b[36m[2018-08-23 09:05:19] [DBG] [-1/] [c1] Result for 1: 79.4451 (0) (0.0007s-)\u001b[0m\r\n\u001b[36m[2018-08-23 09:05:19] [DBG] [-1/] [c2] Result for 2: 99.6345 (0) (0.0007s-)\u001b[0m\r\n\u001b[36m[2018-08-23 09:05:19] [DBG] [-1/] [c3] Result for 3: 86.4722 (0) (0.0020s-)\u001b[0m\r\n\u001b[36m[2018-08-23 09:05:19] [DBG] [-1/] [c0] Result for 0: 97.1283 (0) (0.0007s-)\u001b[0m\r\n\u001b[36m[2018-08-23 09:05:19] [DBG] [-1/] [c1] Result for 1: 79.5141 (0) (0.0007s-)\u001b[0m\r\n\u001b[36m[2018-08-23 09:05:19] [DBG] [-1/] [c2] Result for 2: 99.6619 (0) (0.0037s-)\u001b[0m\r\n\u001b[36m[2018-08-23 09:05:19] [DBG] [-1/] [c3] Result for 3: 86.4131 (0) (0.0007s-)\u001b[0m\r\n\u001b[36m[2018-08-23 09:05:19] [DBG] [-1/] [c0] Result for 0: 97.1146 (0) (0.0027s-)\u001b[0m\r\n\u001b[36m[2018-08-23 09:05:19] [DBG] [-1/] [c1] Result for 1: 79.5477 (0) (0.0007s-)\u001b[0m\r\n\u001b[36m[2018-08-23 09:05:19] [DBG] [-1/] [c2] Result for 2: 99.6744 (0) (0.0007s-)\u001b[0m\r\n\u001b[36m[2018-08-23 09:05:19] [DBG] [-1/] [c3] Result for 3: 86.3826 (0) (0.0009s-)\u001b[0m\r\n\u001b[36m[2018-08-23 09:05:19] [DBG] [-1/] [c0] Result for 0: 97.1146 (0) (0.0151s+)\u001b[0m\r\n"
     ]
    },
    {
     "name": "stdout",
     "output_type": "stream",
     "text": [
      "\u001b[36m[2018-08-23 09:05:19] [DBG] [-1/] [c1] Result for 1: 79.5477 (0) (0.0179s+)\u001b[0m\r\n\u001b[36m[2018-08-23 09:05:19] [DBG] [-1/] [c2] Result for 2: 99.6744 (0) (0.0210s+)\u001b[0m\r\n"
     ]
    },
    {
     "name": "stdout",
     "output_type": "stream",
     "text": [
      "\u001b[36m[2018-08-23 09:05:19] [DBG] [-1/] [c3] Result for 3: 86.3826 (0) (0.0285s+)\u001b[0m\r\n\u001b[32m[2018-08-23 09:05:19] [INF] [-1/] [o0i37] iter: 37 cost: -362.719 time_iter: wall: 0.2098s cpu: 0.108564s time_optim: wall: 5.51529s cpu: 2.83337s\u001b[0m\r\n  37 -3.6271934e+02 0.00e+00 1.80e+00 -11.0 1.27e-02    -  1.00e+00 6.25e-02f  5\r\n"
     ]
    },
    {
     "name": "stdout",
     "output_type": "stream",
     "text": [
      "\u001b[36m[2018-08-23 09:05:19] [DBG] [-1/] [c0] Result for 0: 97.1155 (0) (0.0009s-)\u001b[0m\r\n\u001b[36m[2018-08-23 09:05:19] [DBG] [-1/] [c1] Result for 1: 79.5728 (0) (0.0007s-)\u001b[0m\r\n\u001b[36m[2018-08-23 09:05:19] [DBG] [-1/] [c2] Result for 2: 99.6864 (0) (0.0007s-)\u001b[0m\r\n\u001b[36m[2018-08-23 09:05:19] [DBG] [-1/] [c3] Result for 3: 86.3474 (0) (0.0007s-)\u001b[0m\r\n\u001b[36m[2018-08-23 09:05:19] [DBG] [-1/] [c0] Result for 0: 97.1155 (0) (0.0198s+)\u001b[0m\r\n\u001b[36m[2018-08-23 09:05:19] [DBG] [-1/] [c1] Result for 1: 79.5728 (0) (0.0077s+)\u001b[0m\r\n"
     ]
    },
    {
     "name": "stdout",
     "output_type": "stream",
     "text": [
      "\u001b[36m[2018-08-23 09:05:19] [DBG] [-1/] [c2] Result for 2: 99.6864 (0) (0.0138s+)\u001b[0m\r\n\u001b[36m[2018-08-23 09:05:19] [DBG] [-1/] [c3] Result for 3: 86.3474 (0) (0.0234s+)\u001b[0m\r\n"
     ]
    },
    {
     "name": "stdout",
     "output_type": "stream",
     "text": [
      "\u001b[32m[2018-08-23 09:05:19] [INF] [-1/] [o0i38] iter: 38 cost: -362.722 time_iter: wall: 0.11499s cpu: 0.0676913s time_optim: wall: 5.63028s cpu: 2.90106s\u001b[0m\r\n  38 -3.6272217e+02 0.00e+00 8.85e-01 -11.0 2.98e-03    -  1.00e+00 1.00e+00f  1\r\n\u001b[36m[2018-08-23 09:05:19] [DBG] [-1/] [c0] Result for 0: 96.6996 (0) (0.0007s-)\u001b[0m\r\n\u001b[36m[2018-08-23 09:05:19] [DBG] [-1/] [c1] Result for 1: 79.7355 (0) (0.0009s-)\u001b[0m\r\n\u001b[36m[2018-08-23 09:05:19] [DBG] [-1/] [c2] Result for 2: 99.7099 (0) (0.0008s-)\u001b[0m\r\n\u001b[36m[2018-08-23 09:05:19] [DBG] [-1/] [c3] Result for 3: 86.4508 (0) (0.0029s-)\u001b[0m\r\n\u001b[36m[2018-08-23 09:05:19] [DBG] [-1/] [c0] Result for 0: 96.6996 (0) (0.0008s-)\u001b[0m\r\n\u001b[36m[2018-08-23 09:05:19] [DBG] [-1/] [c1] Result for 1: 79.7355 (0) (0.0007s-)\u001b[0m\r\n\u001b[36m[2018-08-23 09:05:19] [DBG] [-1/] [c2] Result for 2: 99.7099 (0) (0.0007s-)\u001b[0m\r\n\u001b[36m[2018-08-23 09:05:19] [DBG] [-1/] [c3] Result for 3: 86.4508 (0) (0.0008s-)\u001b[0m\r\n\u001b[36m[2018-08-23 09:05:19] [DBG] [-1/] [c0] Result for 0: 96.9234 (0) (0.0007s-)\u001b[0m\r\n\u001b[36m[2018-08-23 09:05:19] [DBG] [-1/] [c1] Result for 1: 79.6609 (0) (0.0007s-)\u001b[0m\r\n\u001b[36m[2018-08-23 09:05:19] [DBG] [-1/] [c2] Result for 2: 99.7114 (0) (0.0007s-)\u001b[0m\r\n\u001b[36m[2018-08-23 09:05:19] [DBG] [-1/] [c3] Result for 3: 86.4091 (0) (0.0042s-)\u001b[0m\r\n\u001b[36m[2018-08-23 09:05:19] [DBG] [-1/] [c0] Result for 0: 97.0234 (0) (0.0009s-)\u001b[0m\r\n\u001b[36m[2018-08-23 09:05:19] [DBG] [-1/] [c1] Result for 1: 79.6185 (0) (0.0007s-)\u001b[0m\r\n\u001b[36m[2018-08-23 09:05:19] [DBG] [-1/] [c2] Result for 2: 99.7022 (0) (0.0007s-)\u001b[0m\r\n\u001b[36m[2018-08-23 09:05:19] [DBG] [-1/] [c3] Result for 3: 86.3807 (0) (0.0017s-)\u001b[0m\r\n"
     ]
    },
    {
     "name": "stdout",
     "output_type": "stream",
     "text": [
      "\u001b[36m[2018-08-23 09:05:19] [DBG] [-1/] [c0] Result for 0: 97.0234 (0) (0.0164s+)\u001b[0m\r\n\u001b[36m[2018-08-23 09:05:20] [DBG] [-1/] [c1] Result for 1: 79.6185 (0) (0.0190s+)\u001b[0m\r\n"
     ]
    },
    {
     "name": "stdout",
     "output_type": "stream",
     "text": [
      "\u001b[36m[2018-08-23 09:05:20] [DBG] [-1/] [c2] Result for 2: 99.7022 (0) (0.0242s+)\u001b[0m\r\n\u001b[36m[2018-08-23 09:05:20] [DBG] [-1/] [c3] Result for 3: 86.3807 (0) (0.0184s+)\u001b[0m\r\n"
     ]
    },
    {
     "name": "stdout",
     "output_type": "stream",
     "text": [
      "\u001b[32m[2018-08-23 09:05:20] [INF] [-1/] [o0i39] iter: 39 cost: -362.725 time_iter: wall: 0.17122s cpu: 0.0968354s time_optim: wall: 5.8015s cpu: 2.9979s\u001b[0m\r\n  39 -3.6272488e+02 0.00e+00 5.51e+00 -11.0 4.08e-02    -  1.00e+00 2.50e-01f  3\r\n\u001b[36m[2018-08-23 09:05:20] [DBG] [-1/] [c0] Result for 0: 96.1497 (0) (0.0008s-)\u001b[0m\r\n\u001b[36m[2018-08-23 09:05:20] [DBG] [-1/] [c1] Result for 1: 80.3863 (0) (0.0053s-)\u001b[0m\r\n\u001b[36m[2018-08-23 09:05:20] [DBG] [-1/] [c2] Result for 2: 98.6924 (0) (0.0009s-)\u001b[0m\r\n\u001b[36m[2018-08-23 09:05:20] [DBG] [-1/] [c3] Result for 3: 86.6813 (0) (0.0007s-)\u001b[0m\r\n\u001b[36m[2018-08-23 09:05:20] [DBG] [-1/] [c0] Result for 0: 96.1497 (0) (0.0007s-)\u001b[0m\r\n\u001b[36m[2018-08-23 09:05:20] [DBG] [-1/] [c1] Result for 1: 80.3863 (0) (0.0007s-)\u001b[0m\r\n\u001b[36m[2018-08-23 09:05:20] [DBG] [-1/] [c2] Result for 2: 98.6924 (0) (0.0010s-)\u001b[0m\r\n\u001b[36m[2018-08-23 09:05:20] [DBG] [-1/] [c3] Result for 3: 86.6813 (0) (0.0010s-)\u001b[0m\r\n\u001b[36m[2018-08-23 09:05:20] [DBG] [-1/] [c0] Result for 0: 96.6481 (0) (0.0007s-)\u001b[0m\r\n\u001b[36m[2018-08-23 09:05:20] [DBG] [-1/] [c1] Result for 1: 80.0691 (0) (0.0007s-)\u001b[0m\r\n\u001b[36m[2018-08-23 09:05:20] [DBG] [-1/] [c2] Result for 2: 99.2381 (0) (0.0010s-)\u001b[0m\r\n"
     ]
    },
    {
     "name": "stdout",
     "output_type": "stream",
     "text": [
      "\u001b[36m[2018-08-23 09:05:20] [DBG] [-1/] [c3] Result for 3: 86.6153 (0) (0.0009s-)\u001b[0m\r\n\u001b[36m[2018-08-23 09:05:20] [DBG] [-1/] [c0] Result for 0: 96.8511 (0) (0.0007s-)\u001b[0m\r\n\u001b[36m[2018-08-23 09:05:20] [DBG] [-1/] [c1] Result for 1: 79.8595 (0) (0.0011s-)\u001b[0m\r\n\u001b[36m[2018-08-23 09:05:20] [DBG] [-1/] [c2] Result for 2: 99.4797 (0) (0.0009s-)\u001b[0m\r\n\u001b[36m[2018-08-23 09:05:20] [DBG] [-1/] [c3] Result for 3: 86.5188 (0) (0.0007s-)\u001b[0m\r\n\u001b[36m[2018-08-23 09:05:20] [DBG] [-1/] [c0] Result for 0: 96.9411 (0) (0.0007s-)\u001b[0m\r\n\u001b[36m[2018-08-23 09:05:20] [DBG] [-1/] [c1] Result for 1: 79.7428 (0) (0.0007s-)\u001b[0m\r\n\u001b[36m[2018-08-23 09:05:20] [DBG] [-1/] [c2] Result for 2: 99.5933 (0) (0.0007s-)\u001b[0m\r\n\u001b[36m[2018-08-23 09:05:20] [DBG] [-1/] [c3] Result for 3: 86.455 (0) (0.0016s-)\u001b[0m\r\n\u001b[36m[2018-08-23 09:05:20] [DBG] [-1/] [c0] Result for 0: 96.9411 (0) (0.0140s+)\u001b[0m\r\n"
     ]
    },
    {
     "name": "stdout",
     "output_type": "stream",
     "text": [
      "\u001b[36m[2018-08-23 09:05:20] [DBG] [-1/] [c1] Result for 1: 79.7428 (0) (0.0195s+)\u001b[0m\r\n\u001b[36m[2018-08-23 09:05:20] [DBG] [-1/] [c2] Result for 2: 99.5933 (0) (0.0167s+)\u001b[0m\r\n"
     ]
    },
    {
     "name": "stdout",
     "output_type": "stream",
     "text": [
      "\u001b[36m[2018-08-23 09:05:20] [DBG] [-1/] [c3] Result for 3: 86.455 (0) (0.0172s+)\u001b[0m\r\n\u001b[32m[2018-08-23 09:05:20] [INF] [-1/] [o0i40] iter: 40 cost: -362.732 time_iter: wall: 0.179911s cpu: 0.0885958s time_optim: wall: 5.98141s cpu: 3.08649s\u001b[0m\r\niter    objective    inf_pr   inf_du lg(mu)  ||d||  lg(rg) alpha_du alpha_pr  ls\r\n  40 -3.6273208e+02 0.00e+00 7.09e+00 -11.0 1.28e-01    -  1.00e+00 1.25e-01f  4\r\n\u001b[36m[2018-08-23 09:05:20] [DBG] [-1/] [c0] Result for 0: 93.1607 (0) (0.0007s-)\u001b[0m\r\n\u001b[36m[2018-08-23 09:05:20] [DBG] [-1/] [c1] Result for 1: 80.1281 (0) (0.0008s-)\u001b[0m\r\n\u001b[36m[2018-08-23 09:05:20] [DBG] [-1/] [c2] Result for 2: 94.6551 (0) (0.0009s-)\u001b[0m\r\n\u001b[36m[2018-08-23 09:05:20] [DBG] [-1/] [c3] Result for 3: 82.1332 (0) (0.0007s-)\u001b[0m\r\n\u001b[36m[2018-08-23 09:05:20] [DBG] [-1/] [c0] Result for 0: 93.1607 (0) (0.0007s-)\u001b[0m\r\n\u001b[36m[2018-08-23 09:05:20] [DBG] [-1/] [c1] Result for 1: 80.1281 (0) (0.0007s-)\u001b[0m\r\n"
     ]
    },
    {
     "name": "stdout",
     "output_type": "stream",
     "text": [
      "\u001b[36m[2018-08-23 09:05:20] [DBG] [-1/] [c2] Result for 2: 94.6551 (0) (0.0021s-)\u001b[0m\r\n\u001b[36m[2018-08-23 09:05:20] [DBG] [-1/] [c3] Result for 3: 82.1332 (0) (0.0007s-)\u001b[0m\r\n\u001b[36m[2018-08-23 09:05:20] [DBG] [-1/] [c0] Result for 0: 95.8688 (0) (0.0007s-)\u001b[0m\r\n\u001b[36m[2018-08-23 09:05:20] [DBG] [-1/] [c1] Result for 1: 80.7855 (0) (0.0008s-)\u001b[0m\r\n\u001b[36m[2018-08-23 09:05:20] [DBG] [-1/] [c2] Result for 2: 97.8946 (0) (0.0007s-)\u001b[0m\r\n\u001b[36m[2018-08-23 09:05:20] [DBG] [-1/] [c3] Result for 3: 85.1797 (0) (0.0068s-)\u001b[0m\r\n\u001b[36m[2018-08-23 09:05:20] [DBG] [-1/] [c0] Result for 0: 96.6048 (0) (0.0007s-)\u001b[0m\r\n\u001b[36m[2018-08-23 09:05:20] [DBG] [-1/] [c1] Result for 1: 80.4665 (0) (0.0007s-)\u001b[0m\r\n\u001b[36m[2018-08-23 09:05:20] [DBG] [-1/] [c2] Result for 2: 98.9287 (0) (0.0007s-)\u001b[0m\r\n\u001b[36m[2018-08-23 09:05:20] [DBG] [-1/] [c3] Result for 3: 86.0312 (0) (0.0007s-)\u001b[0m\r\n\u001b[36m[2018-08-23 09:05:20] [DBG] [-1/] [c0] Result for 0: 96.8224 (0) (0.0007s-)\u001b[0m\r\n\u001b[36m[2018-08-23 09:05:20] [DBG] [-1/] [c1] Result for 1: 80.154 (0) (0.0007s-)\u001b[0m\r\n\u001b[36m[2018-08-23 09:05:20] [DBG] [-1/] [c2] Result for 2: 99.3063 (0) (0.0007s-)\u001b[0m\r\n\u001b[36m[2018-08-23 09:05:20] [DBG] [-1/] [c3] Result for 3: 86.2957 (0) (0.0008s-)\u001b[0m\r\n\u001b[36m[2018-08-23 09:05:20] [DBG] [-1/] [c0] Result for 0: 96.894 (0) (0.0007s-)\u001b[0m\r\n\u001b[36m[2018-08-23 09:05:20] [DBG] [-1/] [c1] Result for 1: 79.9606 (0) (0.0007s-)\u001b[0m\r\n\u001b[36m[2018-08-23 09:05:20] [DBG] [-1/] [c2] Result for 2: 99.461 (0) (0.0010s-)\u001b[0m\r\n\u001b[36m[2018-08-23 09:05:20] [DBG] [-1/] [c3] Result for 3: 86.3884 (0) (0.0019s-)\u001b[0m\r\n\u001b[36m[2018-08-23 09:05:20] [DBG] [-1/] [c0] Result for 0: 96.9206 (0) (0.0007s-)\u001b[0m\r\n\u001b[36m[2018-08-23 09:05:20] [DBG] [-1/] [c1] Result for 1: 79.8547 (0) (0.0007s-)\u001b[0m\r\n\u001b[36m[2018-08-23 09:05:20] [DBG] [-1/] [c2] Result for 2: 99.5299 (0) (0.0007s-)\u001b[0m\r\n"
     ]
    },
    {
     "name": "stdout",
     "output_type": "stream",
     "text": [
      "\u001b[36m[2018-08-23 09:05:20] [DBG] [-1/] [c3] Result for 3: 86.4249 (0) (0.0037s-)\u001b[0m\r\n\u001b[36m[2018-08-23 09:05:20] [DBG] [-1/] [c0] Result for 0: 96.9316 (0) (0.0007s-)\u001b[0m\r\n\u001b[36m[2018-08-23 09:05:20] [DBG] [-1/] [c1] Result for 1: 79.7995 (0) (0.0009s-)\u001b[0m\r\n\u001b[36m[2018-08-23 09:05:20] [DBG] [-1/] [c2] Result for 2: 99.5623 (0) (0.0009s-)\u001b[0m\r\n\u001b[36m[2018-08-23 09:05:20] [DBG] [-1/] [c3] Result for 3: 86.4407 (0) (0.0007s-)\u001b[0m\r\n\u001b[36m[2018-08-23 09:05:20] [DBG] [-1/] [c0] Result for 0: 96.9316 (0) (0.0176s+)\u001b[0m\r\n"
     ]
    },
    {
     "name": "stdout",
     "output_type": "stream",
     "text": [
      "\u001b[36m[2018-08-23 09:05:20] [DBG] [-1/] [c1] Result for 1: 79.7995 (0) (0.0165s+)\u001b[0m\r\n\u001b[36m[2018-08-23 09:05:20] [DBG] [-1/] [c2] Result for 2: 99.5623 (0) (0.0158s+)\u001b[0m\r\n"
     ]
    },
    {
     "name": "stdout",
     "output_type": "stream",
     "text": [
      "\u001b[36m[2018-08-23 09:05:20] [DBG] [-1/] [c3] Result for 3: 86.4407 (0) (0.0204s+)\u001b[0m\r\n\u001b[32m[2018-08-23 09:05:20] [INF] [-1/] [o0i41] iter: 41 cost: -362.734 time_iter: wall: 0.207834s cpu: 0.105754s time_optim: wall: 6.18925s cpu: 3.19225s\u001b[0m\r\n  41 -3.6273414e+02 0.00e+00 7.48e+00 -11.0 2.12e-01    -  1.00e+00 1.56e-02f  7\r\n\u001b[36m[2018-08-23 09:05:20] [DBG] [-1/] [c0] Result for 0: 97.1025 (0) (0.0060s-)\u001b[0m\r\n\u001b[36m[2018-08-23 09:05:20] [DBG] [-1/] [c1] Result for 1: 79.7622 (0) (0.0011s-)\u001b[0m\r\n\u001b[36m[2018-08-23 09:05:20] [DBG] [-1/] [c2] Result for 2: 98.8458 (0) (0.0008s-)\u001b[0m\r\n\u001b[36m[2018-08-23 09:05:20] [DBG] [-1/] [c3] Result for 3: 86.4106 (0) (0.0009s-)\u001b[0m\r\n\u001b[36m[2018-08-23 09:05:20] [DBG] [-1/] [c0] Result for 0: 97.1025 (0) (0.0019s-)\u001b[0m"
     ]
    },
    {
     "name": "stdout",
     "output_type": "stream",
     "text": [
      "\r\n\u001b[36m[2018-08-23 09:05:20] [DBG] [-1/] [c1] Result for 1: 79.7622 (0) (0.0007s-)\u001b[0m\r\n\u001b[36m[2018-08-23 09:05:20] [DBG] [-1/] [c2] Result for 2: 98.8458 (0) (0.0007s-)\u001b[0m\r\n\u001b[36m[2018-08-23 09:05:20] [DBG] [-1/] [c3] Result for 3: 86.4106 (0) (0.0010s-)\u001b[0m\r\n\u001b[36m[2018-08-23 09:05:20] [DBG] [-1/] [c0] Result for 0: 97.0541 (0) (0.0007s-)\u001b[0m\r\n\u001b[36m[2018-08-23 09:05:20] [DBG] [-1/] [c1] Result for 1: 79.831 (0) (0.0007s-)\u001b[0m\r\n\u001b[36m[2018-08-23 09:05:20] [DBG] [-1/] [c2] Result for 2: 99.2417 (0) (0.0007s-)\u001b[0m\r\n\u001b[36m[2018-08-23 09:05:20] [DBG] [-1/] [c3] Result for 3: 86.468 (0) (0.0010s-)\u001b[0m\r\n\u001b[36m[2018-08-23 09:05:20] [DBG] [-1/] [c0] Result for 0: 97.0021 (0) (0.0017s-)\u001b[0m\r\n\u001b[36m[2018-08-23 09:05:20] [DBG] [-1/] [c1] Result for 1: 79.8277 (0) (0.0030s-)\u001b[0m\r\n\u001b[36m[2018-08-23 09:05:20] [DBG] [-1/] [c2] Result for 2: 99.4113 (0) (0.0007s-)\u001b[0m\r\n\u001b[36m[2018-08-23 09:05:20] [DBG] [-1/] [c3] Result for 3: 86.4649 (0) (0.0007s-)\u001b[0m\r\n\u001b[36m[2018-08-23 09:05:20] [DBG] [-1/] [c0] Result for 0: 96.9691 (0) (0.0007s-)\u001b[0m\r\n\u001b[36m[2018-08-23 09:05:20] [DBG] [-1/] [c1] Result for 1: 79.8167 (0) (0.0008s-)\u001b[0m\r\n\u001b[36m[2018-08-23 09:05:20] [DBG] [-1/] [c2] Result for 2: 99.4891 (0) (0.0007s-)\u001b[0m\r\n\u001b[36m[2018-08-23 09:05:20] [DBG] [-1/] [c3] Result for 3: 86.4554 (0) (0.0011s-)\u001b[0m\r\n\u001b[36m[2018-08-23 09:05:20] [DBG] [-1/] [c0] Result for 0: 96.9509 (0) (0.0007s-)\u001b[0m\r\n\u001b[36m[2018-08-23 09:05:20] [DBG] [-1/] [c1] Result for 1: 79.8089 (0) (0.0008s-)\u001b[0m\r\n\u001b[36m[2018-08-23 09:05:20] [DBG] [-1/] [c2] Result for 2: 99.5263 (0) (0.0007s-)\u001b[0m"
     ]
    },
    {
     "name": "stdout",
     "output_type": "stream",
     "text": [
      "\r\n\u001b[36m[2018-08-23 09:05:20] [DBG] [-1/] [c3] Result for 3: 86.4487 (0) (0.0047s-)\u001b[0m\r\n\u001b[36m[2018-08-23 09:05:20] [DBG] [-1/] [c0] Result for 0: 96.9509 (0) (0.0125s+)\u001b[0m\r\n\u001b[36m[2018-08-23 09:05:20] [DBG] [-1/] [c1] Result for 1: 79.8089 (0) (0.0139s+)\u001b[0m\r\n"
     ]
    },
    {
     "name": "stdout",
     "output_type": "stream",
     "text": [
      "\u001b[36m[2018-08-23 09:05:20] [DBG] [-1/] [c2] Result for 2: 99.5263 (0) (0.0138s+)\u001b[0m\r\n\u001b[36m[2018-08-23 09:05:20] [DBG] [-1/] [c3] Result for 3: 86.4487 (0) (0.0154s+)\u001b[0m"
     ]
    },
    {
     "name": "stdout",
     "output_type": "stream",
     "text": [
      "\r\n\u001b[32m[2018-08-23 09:05:20] [INF] [-1/] [o0i42] iter: 42 cost: -362.735 time_iter: wall: 0.188615s cpu: 0.0882792s time_optim: wall: 6.37786s cpu: 3.28052s\u001b[0m\r\n  42 -3.6273485e+02 0.00e+00 3.61e+00 -11.0 3.39e-02    -  1.00e+00 6.25e-02f  5\r\n\u001b[36m[2018-08-23 09:05:20] [DBG] [-1/] [c0] Result for 0: 96.9822 (0) (0.0008s-)\u001b[0m\r\n\u001b[36m[2018-08-23 09:05:20] [DBG] [-1/] [c1] Result for 1: 79.7184 (0) (0.0008s-)\u001b[0m\r\n\u001b[36m[2018-08-23 09:05:20] [DBG] [-1/] [c2] Result for 2: 99.5663 (0) (0.0007s-)\u001b[0m\r\n\u001b[36m[2018-08-23 09:05:20] [DBG] [-1/] [c3] Result for 3: 86.4654 (0) (0.0010s-)\u001b[0m\r\n\u001b[36m[2018-08-23 09:05:20] [DBG] [-1/] [c0] Result for 0: 96.9822 (0) (0.0090s-)\u001b[0m\r\n\u001b[36m[2018-08-23 09:05:20] [DBG] [-1/] [c1] Result for 1: 79.7184 (0) (0.0009s-)\u001b[0m\r\n\u001b[36m[2018-08-23 09:05:20] [DBG] [-1/] [c2] Result for 2: 99.5663 (0) (0.0008s-)\u001b[0m\r\n\u001b[36m[2018-08-23 09:05:20] [DBG] [-1/] [c3] Result for 3: 86.4654 (0) (0.0011s-)\u001b[0m\r\n\u001b[36m[2018-08-23 09:05:20] [DBG] [-1/] [c0] Result for 0: 96.9676 (0) (0.0008s-)\u001b[0m"
     ]
    },
    {
     "name": "stdout",
     "output_type": "stream",
     "text": [
      "\r\n\u001b[36m[2018-08-23 09:05:20] [DBG] [-1/] [c1] Result for 1: 79.7652 (0) (0.0008s-)\u001b[0m\r\n\u001b[36m[2018-08-23 09:05:20] [DBG] [-1/] [c2] Result for 2: 99.5473 (0) (0.0044s-)\u001b[0m\r\n\u001b[36m[2018-08-23 09:05:20] [DBG] [-1/] [c3] Result for 3: 86.4583 (0) (0.0008s-)\u001b[0m\r\n\u001b[36m[2018-08-23 09:05:20] [DBG] [-1/] [c0] Result for 0: 96.9676 (0) (0.0180s+)\u001b[0m\r\n"
     ]
    },
    {
     "name": "stdout",
     "output_type": "stream",
     "text": [
      "\u001b[36m[2018-08-23 09:05:20] [DBG] [-1/] [c1] Result for 1: 79.7652 (0) (0.0193s+)\u001b[0m\r\n\u001b[36m[2018-08-23 09:05:20] [DBG] [-1/] [c2] Result for 2: 99.5473 (0) (0.0129s+)\u001b[0m\r\n"
     ]
    },
    {
     "name": "stdout",
     "output_type": "stream",
     "text": [
      "\u001b[36m[2018-08-23 09:05:20] [DBG] [-1/] [c3] Result for 3: 86.4583 (0) (0.0153s+)\u001b[0m\r\n\u001b[32m[2018-08-23 09:05:20] [INF] [-1/] [o0i43] iter: 43 cost: -362.738 time_iter: wall: 0.174977s cpu: 0.0871381s time_optim: wall: 6.55284s cpu: 3.36766s\u001b[0m\r\n  43 -3.6273839e+02 0.00e+00 2.98e+00 -11.0 4.57e-03    -  1.00e+00 5.00e-01f  2\r\n\u001b[36m[2018-08-23 09:05:20] [DBG] [-1/] [c0] Result for 0: 96.9967 (0) (0.0007s-)\u001b[0m\r\n\u001b[36m[2018-08-23 09:05:20] [DBG] [-1/] [c1] Result for 1: 79.6345 (0) (0.0007s-)\u001b[0m\r\n\u001b[36m[2018-08-23 09:05:20] [DBG] [-1/] [c2] Result for 2: 99.3287 (0) (0.0010s-)\u001b[0m\r\n\u001b[36m[2018-08-23 09:05:20] [DBG] [-1/] [c3] Result for 3: 86.6933 (0) (0.0009s-)\u001b[0m\r\n\u001b[36m[2018-08-23 09:05:20] [DBG] [-1/] [c0] Result for 0: 96.9967 (0) (0.0011s-)\u001b[0m\r\n\u001b[36m[2018-08-23 09:05:20] [DBG] [-1/] [c1] Result for 1: 79.6345 (0) (0.0011s-)\u001b[0m\r\n"
     ]
    },
    {
     "name": "stdout",
     "output_type": "stream",
     "text": [
      "\u001b[36m[2018-08-23 09:05:20] [DBG] [-1/] [c2] Result for 2: 99.3287 (0) (0.0010s-)\u001b[0m\r\n\u001b[36m[2018-08-23 09:05:20] [DBG] [-1/] [c3] Result for 3: 86.6933 (0) (0.0007s-)\u001b[0m\r\n\u001b[36m[2018-08-23 09:05:20] [DBG] [-1/] [c0] Result for 0: 96.9902 (0) (0.0009s-)\u001b[0m\r\n\u001b[36m[2018-08-23 09:05:20] [DBG] [-1/] [c1] Result for 1: 79.705 (0) (0.0007s-)\u001b[0m\r\n\u001b[36m[2018-08-23 09:05:20] [DBG] [-1/] [c2] Result for 2: 99.4452 (0) (0.0008s-)\u001b[0m\r\n\u001b[36m[2018-08-23 09:05:20] [DBG] [-1/] [c3] Result for 3: 86.5823 (0) (0.0008s-)\u001b[0m\r\n\u001b[36m[2018-08-23 09:05:20] [DBG] [-1/] [c0] Result for 0: 96.9809 (0) (0.0010s-)\u001b[0m\r\n\u001b[36m[2018-08-23 09:05:20] [DBG] [-1/] [c1] Result for 1: 79.7364 (0) (0.0007s-)\u001b[0m\r\n\u001b[36m[2018-08-23 09:05:20] [DBG] [-1/] [c2] Result for 2: 99.498 (0) (0.0007s-)\u001b[0m\r\n\u001b[36m[2018-08-23 09:05:20] [DBG] [-1/] [c3] Result for 3: 86.5219 (0) (0.0007s-)\u001b[0m\r\n\u001b[36m[2018-08-23 09:05:20] [DBG] [-1/] [c0] Result for 0: 96.9748 (0) (0.0007s-)\u001b[0m\r\n\u001b[36m[2018-08-23 09:05:20] [DBG] [-1/] [c1] Result for 1: 79.7511 (0) (0.0007s-)\u001b[0m\r\n\u001b[36m[2018-08-23 09:05:20] [DBG] [-1/] [c2] Result for 2: 99.5231 (0) (0.0007s-)\u001b[0m\r\n\u001b[36m[2018-08-23 09:05:20] [DBG] [-1/] [c3] Result for 3: 86.4906 (0) (0.0007s-)\u001b[0m\r\n\u001b[36m[2018-08-23 09:05:20] [DBG] [-1/] [c0] Result for 0: 96.9748 (0) (0.0143s+)\u001b[0m"
     ]
    },
    {
     "name": "stdout",
     "output_type": "stream",
     "text": [
      "\r\n\u001b[36m[2018-08-23 09:05:20] [DBG] [-1/] [c1] Result for 1: 79.7511 (0) (0.0179s+)\u001b[0m\r\n"
     ]
    },
    {
     "name": "stdout",
     "output_type": "stream",
     "text": [
      "\u001b[36m[2018-08-23 09:05:20] [DBG] [-1/] [c2] Result for 2: 99.5231 (0) (0.0236s+)\u001b[0m\r\n\u001b[36m[2018-08-23 09:05:20] [DBG] [-1/] [c3] Result for 3: 86.4906 (0) (0.0172s+)\u001b[0m\r\n\u001b[32m[2018-08-23 09:05:21] [INF] [-1/] [o0i44] iter: 44 cost: -362.74 time_iter: wall: 0.18435s cpu: 0.0892576s time_optim: wall: 6.73719s cpu: 3.45692s\u001b[0m\r\n"
     ]
    },
    {
     "name": "stdout",
     "output_type": "stream",
     "text": [
      "  44 -3.6273952e+02 0.00e+00 1.01e+00 -11.0 1.76e-02    -  1.00e+00 1.25e-01f  4\r\n\u001b[36m[2018-08-23 09:05:21] [DBG] [-1/] [c0] Result for 0: 97.0152 (0) (0.0007s-)\u001b[0m\r\n\u001b[36m[2018-08-23 09:05:21] [DBG] [-1/] [c1] Result for 1: 79.7415 (0) (0.0023s-)\u001b[0m\r\n\u001b[36m[2018-08-23 09:05:21] [DBG] [-1/] [c2] Result for 2: 99.5665 (0) (0.0024s-)\u001b[0m\r\n\u001b[36m[2018-08-23 09:05:21] [DBG] [-1/] [c3] Result for 3: 86.4158 (0) (0.0007s-)\u001b[0m\r\n\u001b[36m[2018-08-23 09:05:21] [DBG] [-1/] [c0] Result for 0: 97.0152 (0) (0.0007s-)\u001b[0m\r\n\u001b[36m[2018-08-23 09:05:21] [DBG] [-1/] [c1] Result for 1: 79.7415 (0) (0.0007s-)\u001b[0m\r\n\u001b[36m[2018-08-23 09:05:21] [DBG] [-1/] [c2] Result for 2: 99.5665 (0) (0.0008s-)\u001b[0m\r\n\u001b[36m[2018-08-23 09:05:21] [DBG] [-1/] [c3] Result for 3: 86.4158 (0) (0.0007s-)\u001b[0m\r\n\u001b[36m[2018-08-23 09:05:21] [DBG] [-1/] [c0] Result for 0: 96.9951 (0) (0.0007s-)\u001b[0m\r\n\u001b[36m[2018-08-23 09:05:21] [DBG] [-1/] [c1] Result for 1: 79.7466 (0) (0.0052s-)\u001b[0m\r\n\u001b[36m[2018-08-23 09:05:21] [DBG] [-1/] [c2] Result for 2: 99.5449 (0) (0.0007s-)\u001b[0m\r\n\u001b[36m[2018-08-23 09:05:21] [DBG] [-1/] [c3] Result for 3: 86.4534 (0) (0.0007s-)\u001b[0m\r\n\u001b[36m[2018-08-23 09:05:21] [DBG] [-1/] [c0] Result for 0: 96.9951 (0) (0.0189s+)\u001b[0m"
     ]
    },
    {
     "name": "stdout",
     "output_type": "stream",
     "text": [
      "\r\n\u001b[36m[2018-08-23 09:05:21] [DBG] [-1/] [c1] Result for 1: 79.7466 (0) (0.0115s+)\u001b[0m\r\n\u001b[36m[2018-08-23 09:05:21] [DBG] [-1/] [c2] Result for 2: 99.5449 (0) (0.0132s+)\u001b[0m\r\n"
     ]
    },
    {
     "name": "stdout",
     "output_type": "stream",
     "text": [
      "\u001b[36m[2018-08-23 09:05:21] [DBG] [-1/] [c3] Result for 3: 86.4534 (0) (0.0073s+)\u001b[0m\r\n\u001b[32m[2018-08-23 09:05:21] [INF] [-1/] [o0i45] iter: 45 cost: -362.74 time_iter: wall: 0.14927s cpu: 0.0675711s time_optim: wall: 6.88646s cpu: 3.52449s\u001b[0m\r\n  45 -3.6274008e+02 0.00e+00 6.51e-01 -11.0 7.86e-03    -  1.00e+00 5.00e-01f  2\r\n\u001b[36m[2018-08-23 09:05:21] [DBG] [-1/] [c0] Result for 0: 97.0826 (0) (0.0034s-)\u001b[0m\r\n\u001b[36m[2018-08-23 09:05:21] [DBG] [-1/] [c1] Result for 1: 79.4783 (0) (0.0042s-)\u001b[0m\r\n\u001b[36m[2018-08-23 09:05:21] [DBG] [-1/] [c2] Result for 2: 99.5393 (0) (0.0010s-)\u001b[0m"
     ]
    },
    {
     "name": "stdout",
     "output_type": "stream",
     "text": [
      "\r\n\u001b[36m[2018-08-23 09:05:21] [DBG] [-1/] [c3] Result for 3: 86.5676 (0) (0.0008s-)\u001b[0m\r\n\u001b[36m[2018-08-23 09:05:21] [DBG] [-1/] [c0] Result for 0: 97.0826 (0) (0.0008s-)\u001b[0m\r\n\u001b[36m[2018-08-23 09:05:21] [DBG] [-1/] [c1] Result for 1: 79.4783 (0) (0.0008s-)\u001b[0m\r\n\u001b[36m[2018-08-23 09:05:21] [DBG] [-1/] [c2] Result for 2: 99.5393 (0) (0.0008s-)\u001b[0m\r\n\u001b[36m[2018-08-23 09:05:21] [DBG] [-1/] [c3] Result for 3: 86.5676 (0) (0.0045s-)\u001b[0m\r\n\u001b[36m[2018-08-23 09:05:21] [DBG] [-1/] [c0] Result for 0: 97.0455 (0) (0.0007s-)\u001b[0m\r\n\u001b[36m[2018-08-23 09:05:21] [DBG] [-1/] [c1] Result for 1: 79.6157 (0) (0.0008s-)\u001b[0m\r\n\u001b[36m[2018-08-23 09:05:21] [DBG] [-1/] [c2] Result for 2: 99.5472 (0) (0.0050s-)\u001b[0m\r\n\u001b[36m[2018-08-23 09:05:21] [DBG] [-1/] [c3] Result for 3: 86.5166 (0) (0.0012s-)\u001b[0m\r\n\u001b[36m[2018-08-23 09:05:21] [DBG] [-1/] [c0] Result for 0: 97.022 (0) (0.0038s-)\u001b[0m\r\n\u001b[36m[2018-08-23 09:05:21] [DBG] [-1/] [c1] Result for 1: 79.682 (0) (0.0008s-)\u001b[0m\r\n\u001b[36m[2018-08-23 09:05:21] [DBG] [-1/] [c2] Result for 2: 99.5473 (0) (0.0007s-)\u001b[0m\r\n\u001b[36m[2018-08-23 09:05:21] [DBG] [-1/] [c3] Result for 3: 86.4866 (0) (0.0008s-)\u001b[0m\r\n"
     ]
    },
    {
     "name": "stdout",
     "output_type": "stream",
     "text": [
      "\u001b[36m[2018-08-23 09:05:21] [DBG] [-1/] [c0] Result for 0: 97.009 (0) (0.0007s-)\u001b[0m\r\n\u001b[36m[2018-08-23 09:05:21] [DBG] [-1/] [c1] Result for 1: 79.7145 (0) (0.0007s-)\u001b[0m\r\n\u001b[36m[2018-08-23 09:05:21] [DBG] [-1/] [c2] Result for 2: 99.5465 (0) (0.0008s-)\u001b[0m\r\n\u001b[36m[2018-08-23 09:05:21] [DBG] [-1/] [c3] Result for 3: 86.4704 (0) (0.0015s-)\u001b[0m\r\n\u001b[36m[2018-08-23 09:05:21] [DBG] [-1/] [c0] Result for 0: 97.009 (0) (0.0232s+)\u001b[0m\r\n"
     ]
    },
    {
     "name": "stdout",
     "output_type": "stream",
     "text": [
      "\u001b[36m[2018-08-23 09:05:21] [DBG] [-1/] [c1] Result for 1: 79.7145 (0) (0.0194s+)\u001b[0m\r\n\u001b[36m[2018-08-23 09:05:21] [DBG] [-1/] [c2] Result for 2: 99.5465 (0) (0.0168s+)\u001b[0m\r\n\u001b[36m[2018-08-23 09:05:21] [DBG] [-1/] [c3] Result for 3: 86.4704 (0) (0.0100s+)\u001b[0m"
     ]
    },
    {
     "name": "stdout",
     "output_type": "stream",
     "text": [
      "\r\n\u001b[32m[2018-08-23 09:05:21] [INF] [-1/] [o0i46] iter: 46 cost: -362.74 time_iter: wall: 0.186315s cpu: 0.102969s time_optim: wall: 7.07278s cpu: 3.62746s\u001b[0m\r\n  46 -3.6274033e+02 0.00e+00 6.24e-01 -11.0 4.56e-02    -  1.00e+00 1.25e-01f  4\r\n\u001b[36m[2018-08-23 09:05:21] [DBG] [-1/] [c0] Result for 0: 96.9262 (0) (0.0008s-)\u001b[0m\r\n\u001b[36m[2018-08-23 09:05:21] [DBG] [-1/] [c1] Result for 1: 79.4456 (0) (0.0008s-)\u001b[0m\r\n\u001b[36m[2018-08-23 09:05:21] [DBG] [-1/] [c2] Result for 2: 99.7837 (0) (0.0007s-)\u001b[0m\r\n\u001b[36m[2018-08-23 09:05:21] [DBG] [-1/] [c3] Result for 3: 86.428 (0) (0.0008s-)\u001b[0m\r\n\u001b[36m[2018-08-23 09:05:21] [DBG] [-1/] [c0] Result for 0: 96.9262 (0) (0.0007s-)\u001b[0m\r\n\u001b[36m[2018-08-23 09:05:21] [DBG] [-1/] [c1] Result for 1: 79.4456 (0) (0.0010s-)\u001b[0m\r\n\u001b[36m[2018-08-23 09:05:21] [DBG] [-1/] [c2] Result for 2: 99.7837 (0) (0.0011s-)\u001b[0m\r\n\u001b[36m[2018-08-23 09:05:21] [DBG] [-1/] [c3] Result for 3: 86.428 (0) (0.0039s-)\u001b[0m\r\n\u001b[36m[2018-08-23 09:05:21] [DBG] [-1/] [c0] Result for 0: 96.977 (0) (0.0007s-)\u001b[0m\r\n\u001b[36m[2018-08-23 09:05:21] [DBG] [-1/] [c1] Result for 1: 79.591 (0) (0.0024s-)\u001b[0m\r\n\u001b[36m[2018-08-23 09:05:21] [DBG] [-1/] [c2] Result for 2: 99.6752 (0) (0.0007s-)\u001b[0m\r\n\u001b[36m[2018-08-23 09:05:21] [DBG] [-1/] [c3] Result for 3: 86.4591 (0) (0.0008s-)\u001b[0m\r\n\u001b[36m[2018-08-23 09:05:21] [DBG] [-1/] [c0] Result for 0: 96.9954 (0) (0.0007s-)\u001b[0m\r\n"
     ]
    },
    {
     "name": "stdout",
     "output_type": "stream",
     "text": [
      "\u001b[36m[2018-08-23 09:05:21] [DBG] [-1/] [c1] Result for 1: 79.6555 (0) (0.0034s-)\u001b[0m\r\n\u001b[36m[2018-08-23 09:05:21] [DBG] [-1/] [c2] Result for 2: 99.6134 (0) (0.0007s-)\u001b[0m\r\n\u001b[36m[2018-08-23 09:05:21] [DBG] [-1/] [c3] Result for 3: 86.4672 (0) (0.0008s-)\u001b[0m\r\n\u001b[36m[2018-08-23 09:05:21] [DBG] [-1/] [c0] Result for 0: 97.0028 (0) (0.0022s-)\u001b[0m\r\n\u001b[36m[2018-08-23 09:05:21] [DBG] [-1/] [c1] Result for 1: 79.6857 (0) (0.0039s-)\u001b[0m\r\n\u001b[36m[2018-08-23 09:05:21] [DBG] [-1/] [c2] Result for 2: 99.5806 (0) (0.0013s-)\u001b[0m\r\n\u001b[36m[2018-08-23 09:05:21] [DBG] [-1/] [c3] Result for 3: 86.4694 (0) (0.0008s-)\u001b[0m\r\n\u001b[36m[2018-08-23 09:05:21] [DBG] [-1/] [c0] Result for 0: 97.006 (0) (0.0007s-)\u001b[0m\r\n\u001b[36m[2018-08-23 09:05:21] [DBG] [-1/] [c1] Result for 1: 79.7003 (0) (0.0009s-)\u001b[0m\r\n\u001b[36m[2018-08-23 09:05:21] [DBG] [-1/] [c2] Result for 2: 99.5637 (0) (0.0104s-)\u001b[0m\r\n\u001b[36m[2018-08-23 09:05:21] [DBG] [-1/] [c3] Result for 3: 86.4701 (0) (0.0012s-)\u001b[0m\r\n\u001b[36m[2018-08-23 09:05:21] [DBG] [-1/] [c0] Result for 0: 97.0075 (0) (0.0007s-)\u001b[0m\r\n\u001b[36m[2018-08-23 09:05:21] [DBG] [-1/] [c1] Result for 1: 79.7074 (0) (0.0007s-)\u001b[0m\r\n\u001b[36m[2018-08-23 09:05:21] [DBG] [-1/] [c2] Result for 2: 99.5551 (0) (0.0008s-)\u001b[0m\r\n\u001b[36m[2018-08-23 09:05:21] [DBG] [-1/] [c3] Result for 3: 86.4703 (0) (0.0008s-)\u001b[0m\r\n"
     ]
    },
    {
     "name": "stdout",
     "output_type": "stream",
     "text": [
      "\u001b[36m[2018-08-23 09:05:21] [DBG] [-1/] [c0] Result for 0: 97.0075 (0) (0.0218s+)\u001b[0m\r\n\u001b[36m[2018-08-23 09:05:21] [DBG] [-1/] [c1] Result for 1: 79.7074 (0) (0.0175s+)\u001b[0m\r\n"
     ]
    },
    {
     "name": "stdout",
     "output_type": "stream",
     "text": [
      "\u001b[36m[2018-08-23 09:05:21] [DBG] [-1/] [c2] Result for 2: 99.5551 (0) (0.0189s+)\u001b[0m\r\n\u001b[36m[2018-08-23 09:05:21] [DBG] [-1/] [c3] Result for 3: 86.4703 (0) (0.0181s+)\u001b[0m\r\n"
     ]
    },
    {
     "name": "stdout",
     "output_type": "stream",
     "text": [
      "\u001b[32m[2018-08-23 09:05:21] [INF] [-1/] [o0i47] iter: 47 cost: -362.74 time_iter: wall: 0.207372s cpu: 0.120643s time_optim: wall: 7.28015s cpu: 3.7481s\u001b[0m\r\n  47 -3.6274036e+02 0.00e+00 5.91e-01 -11.0 1.50e-02    -  1.00e+00 3.12e-02f  6\r\n\u001b[36m[2018-08-23 09:05:21] [DBG] [-1/] [c0] Result for 0: 96.9912 (0) (0.0007s-)\u001b[0m\r\n\u001b[36m[2018-08-23 09:05:21] [DBG] [-1/] [c1] Result for 1: 79.7449 (0) (0.0010s-)\u001b[0m\r\n\u001b[36m[2018-08-23 09:05:21] [DBG] [-1/] [c2] Result for 2: 99.538 (0) (0.0007s-)\u001b[0m\r\n\u001b[36m[2018-08-23 09:05:21] [DBG] [-1/] [c3] Result for 3: 86.4667 (0) (0.0008s-)\u001b[0m\r\n\u001b[36m[2018-08-23 09:05:21] [DBG] [-1/] [c0] Result for 0: 96.9912 (0) (0.0125s+)\u001b[0m\r\n"
     ]
    },
    {
     "name": "stdout",
     "output_type": "stream",
     "text": [
      "\u001b[36m[2018-08-23 09:05:21] [DBG] [-1/] [c1] Result for 1: 79.7449 (0) (0.0171s+)\u001b[0m\r\n\u001b[36m[2018-08-23 09:05:21] [DBG] [-1/] [c2] Result for 2: 99.538 (0) (0.0190s+)\u001b[0m\r\n"
     ]
    },
    {
     "name": "stdout",
     "output_type": "stream",
     "text": [
      "\u001b[36m[2018-08-23 09:05:21] [DBG] [-1/] [c3] Result for 3: 86.4667 (0) (0.0137s+)\u001b[0m\r\n\u001b[32m[2018-08-23 09:05:21] [INF] [-1/] [o0i48] iter: 48 cost: -362.741 time_iter: wall: 0.131324s cpu: 0.0654503s time_optim: wall: 7.41147s cpu: 3.81355s\u001b[0m\r\n  48 -3.6274073e+02 0.00e+00 2.03e+00 -11.0 4.91e-03    -  1.00e+00 1.00e+00f  1\r\n\u001b[36m[2018-08-23 09:05:21] [DBG] [-1/] [c0] Result for 0: 95.23 (0) (0.0008s-)\u001b[0m\r\n\u001b[36m[2018-08-23 09:05:21] [DBG] [-1/] [c1] Result for 1: 78.2387 (0) (0.0019s-)\u001b[0m\r\n\u001b[36m[2018-08-23 09:05:21] [DBG] [-1/] [c2] Result for 2: 96.6726 (0) (0.0007s-)\u001b[0m\r\n\u001b[36m[2018-08-23 09:05:21] [DBG] [-1/] [c3] Result for 3: 84.9789 (0) (0.0009s-)\u001b[0m\r\n\u001b[36m[2018-08-23 09:05:21] [DBG] [-1/] [c0] Result for 0: 95.23 (0) (0.0017s-)\u001b[0m\r\n\u001b[36m[2018-08-23 09:05:21] [DBG] [-1/] [c1] Result for 1: 78.2387 (0) (0.0007s-)\u001b[0m"
     ]
    },
    {
     "name": "stdout",
     "output_type": "stream",
     "text": [
      "\r\n\u001b[36m[2018-08-23 09:05:21] [DBG] [-1/] [c2] Result for 2: 96.6726 (0) (0.0007s-)\u001b[0m\r\n\u001b[36m[2018-08-23 09:05:21] [DBG] [-1/] [c3] Result for 3: 84.9789 (0) (0.0021s-)\u001b[0m\r\n\u001b[36m[2018-08-23 09:05:21] [DBG] [-1/] [c0] Result for 0: 96.6145 (0) (0.0007s-)\u001b[0m\r\n\u001b[36m[2018-08-23 09:05:21] [DBG] [-1/] [c1] Result for 1: 79.4396 (0) (0.0007s-)\u001b[0m\r\n\u001b[36m[2018-08-23 09:05:21] [DBG] [-1/] [c2] Result for 2: 98.5327 (0) (0.0007s-)\u001b[0m\r\n\u001b[36m[2018-08-23 09:05:21] [DBG] [-1/] [c3] Result for 3: 86.2401 (0) (0.0007s-)\u001b[0m\r\n\u001b[36m[2018-08-23 09:05:21] [DBG] [-1/] [c0] Result for 0: 96.9365 (0) (0.0007s-)\u001b[0m\r\n\u001b[36m[2018-08-23 09:05:21] [DBG] [-1/] [c1] Result for 1: 79.7028 (0) (0.0007s-)\u001b[0m\r\n\u001b[36m[2018-08-23 09:05:21] [DBG] [-1/] [c2] Result for 2: 99.1429 (0) (0.0007s-)\u001b[0m\r\n\u001b[36m[2018-08-23 09:05:21] [DBG] [-1/] [c3] Result for 3: 86.4857 (0) (0.0007s-)\u001b[0m\r\n\u001b[36m[2018-08-23 09:05:21] [DBG] [-1/] [c0] Result for 0: 96.9985 (0) (0.0007s-)\u001b[0m\r\n\u001b[36m[2018-08-23 09:05:21] [DBG] [-1/] [c1] Result for 1: 79.7515 (0) (0.0010s-)\u001b[0m\r\n\u001b[36m[2018-08-23 09:05:21] [DBG] [-1/] [c2] Result for 2: 99.3677 (0) (0.0007s-)\u001b[0m\r\n\u001b[36m[2018-08-23 09:05:21] [DBG] [-1/] [c3] Result for 3: 86.5099 (0) (0.0008s-)\u001b[0m\r\n\u001b[36m[2018-08-23 09:05:21] [DBG] [-1/] [c0] Result for 0: 97.0037 (0) (0.0036s-)\u001b[0m\r\n\u001b[36m[2018-08-23 09:05:21] [DBG] [-1/] [c1] Result for 1: 79.7551 (0) (0.0008s-)\u001b[0m\r\n\u001b[36m[2018-08-23 09:05:21] [DBG] [-1/] [c2] Result for 2: 99.4597 (0) (0.0007s-)\u001b[0m\r\n\u001b[36m[2018-08-23 09:05:21] [DBG] [-1/] [c3] Result for 3: 86.4968 (0) (0.0010s-)\u001b[0m\r\n\u001b[36m[2018-08-23 09:05:21] [DBG] [-1/] [c0] Result for 0: 96.9997 (0) (0.0007s-)\u001b[0m"
     ]
    },
    {
     "name": "stdout",
     "output_type": "stream",
     "text": [
      "\r\n\u001b[36m[2018-08-23 09:05:21] [DBG] [-1/] [c1] Result for 1: 79.7517 (0) (0.0007s-)\u001b[0m\r\n\u001b[36m[2018-08-23 09:05:21] [DBG] [-1/] [c2] Result for 2: 99.5006 (0) (0.0021s-)\u001b[0m\r\n\u001b[36m[2018-08-23 09:05:21] [DBG] [-1/] [c3] Result for 3: 86.4839 (0) (0.0007s-)\u001b[0m\r\n\u001b[36m[2018-08-23 09:05:21] [DBG] [-1/] [c0] Result for 0: 96.996 (0) (0.0007s-)\u001b[0m\r\n\u001b[36m[2018-08-23 09:05:21] [DBG] [-1/] [c1] Result for 1: 79.7488 (0) (0.0007s-)\u001b[0m\r\n\u001b[36m[2018-08-23 09:05:21] [DBG] [-1/] [c2] Result for 2: 99.5197 (0) (0.0007s-)\u001b[0m\r\n\u001b[36m[2018-08-23 09:05:21] [DBG] [-1/] [c3] Result for 3: 86.4758 (0) (0.0007s-)\u001b[0m\r\n\u001b[36m[2018-08-23 09:05:21] [DBG] [-1/] [c0] Result for 0: 96.9937 (0) (0.0008s-)\u001b[0m\r\n\u001b[36m[2018-08-23 09:05:21] [DBG] [-1/] [c1] Result for 1: 79.7469 (0) (0.0007s-)\u001b[0m\r\n\u001b[36m[2018-08-23 09:05:21] [DBG] [-1/] [c2] Result for 2: 99.5289 (0) (0.0009s-)\u001b[0m\r\n\u001b[36m[2018-08-23 09:05:21] [DBG] [-1/] [c3] Result for 3: 86.4714 (0) (0.0010s-)\u001b[0m\r\n\u001b[36m[2018-08-23 09:05:21] [DBG] [-1/] [c0] Result for 0: 96.9937 (0) (0.0136s+)\u001b[0m\r\n"
     ]
    },
    {
     "name": "stdout",
     "output_type": "stream",
     "text": [
      "\u001b[36m[2018-08-23 09:05:21] [DBG] [-1/] [c1] Result for 1: 79.7469 (0) (0.0175s+)\u001b[0m\r\n\u001b[36m[2018-08-23 09:05:21] [DBG] [-1/] [c2] Result for 2: 99.5289 (0) (0.0106s+)\u001b[0m\r\n"
     ]
    },
    {
     "name": "stdout",
     "output_type": "stream",
     "text": [
      "\u001b[36m[2018-08-23 09:05:21] [DBG] [-1/] [c3] Result for 3: 86.4714 (0) (0.0211s+)\u001b[0m\r\n\u001b[32m[2018-08-23 09:05:21] [INF] [-1/] [o0i49] iter: 49 cost: -362.741 time_iter: wall: 0.223454s cpu: 0.0977843s time_optim: wall: 7.63493s cpu: 3.91134s\u001b[0m\r\n  49 -3.6274100e+02 0.00e+00 9.55e-01 -11.0 2.49e-01    -  1.00e+00 7.81e-03f  8\r\n\u001b[36m[2018-08-23 09:05:21] [DBG] [-1/] [c0] Result for 0: 96.8102 (0) (0.0007s-)\u001b[0m\r\n\u001b[36m[2018-08-23 09:05:21] [DBG] [-1/] [c1] Result for 1: 79.6482 (0) (0.0009s-)\u001b[0m\r\n"
     ]
    },
    {
     "name": "stdout",
     "output_type": "stream",
     "text": [
      "\u001b[36m[2018-08-23 09:05:21] [DBG] [-1/] [c2] Result for 2: 99.6668 (0) (0.0007s-)\u001b[0m\r\n\u001b[36m[2018-08-23 09:05:21] [DBG] [-1/] [c3] Result for 3: 86.5369 (0) (0.0007s-)\u001b[0m\r\n\u001b[36m[2018-08-23 09:05:21] [DBG] [-1/] [c0] Result for 0: 96.8102 (0) (0.0007s-)\u001b[0m\r\n\u001b[36m[2018-08-23 09:05:21] [DBG] [-1/] [c1] Result for 1: 79.6482 (0) (0.0007s-)\u001b[0m\r\n\u001b[36m[2018-08-23 09:05:21] [DBG] [-1/] [c2] Result for 2: 99.6668 (0) (0.0009s-)\u001b[0m\r\n\u001b[36m[2018-08-23 09:05:21] [DBG] [-1/] [c3] Result for 3: 86.5369 (0) (0.0010s-)\u001b[0m\r\n\u001b[36m[2018-08-23 09:05:21] [DBG] [-1/] [c0] Result for 0: 96.9068 (0) (0.0009s-)\u001b[0m\r\n\u001b[36m[2018-08-23 09:05:21] [DBG] [-1/] [c1] Result for 1: 79.7024 (0) (0.0007s-)\u001b[0m\r\n\u001b[36m[2018-08-23 09:05:21] [DBG] [-1/] [c2] Result for 2: 99.6021 (0) (0.0007s-)\u001b[0m\r\n\u001b[36m[2018-08-23 09:05:21] [DBG] [-1/] [c3] Result for 3: 86.512 (0) (0.0007s-)\u001b[0m\r\n\u001b[36m[2018-08-23 09:05:21] [DBG] [-1/] [c0] Result for 0: 96.9515 (0) (0.0007s-)\u001b[0m\r\n\u001b[36m[2018-08-23 09:05:21] [DBG] [-1/] [c1] Result for 1: 79.7258 (0) (0.0016s-)\u001b[0m\r\n\u001b[36m[2018-08-23 09:05:21] [DBG] [-1/] [c2] Result for 2: 99.5666 (0) (0.0008s-)\u001b[0m\r\n\u001b[36m[2018-08-23 09:05:21] [DBG] [-1/] [c3] Result for 3: 86.4936 (0) (0.0007s-)\u001b[0m\r\n\u001b[36m[2018-08-23 09:05:21] [DBG] [-1/] [c0] Result for 0: 96.9729 (0) (0.0010s-)\u001b[0m\r\n\u001b[36m[2018-08-23 09:05:21] [DBG] [-1/] [c1] Result for 1: 79.7367 (0) (0.0008s-)\u001b[0m\r\n\u001b[36m[2018-08-23 09:05:21] [DBG] [-1/] [c2] Result for 2: 99.548 (0) (0.0008s-)\u001b[0m\r\n\u001b[36m[2018-08-23 09:05:21] [DBG] [-1/] [c3] Result for 3: 86.483 (0) (0.0017s-)\u001b[0m\r\n\u001b[36m[2018-08-23 09:05:21] [DBG] [-1/] [c0] Result for 0: 96.9834 (0) (0.0010s-)\u001b[0m"
     ]
    },
    {
     "name": "stdout",
     "output_type": "stream",
     "text": [
      "\r\n\u001b[36m[2018-08-23 09:05:21] [DBG] [-1/] [c1] Result for 1: 79.7419 (0) (0.0038s-)\u001b[0m\r\n\u001b[36m[2018-08-23 09:05:21] [DBG] [-1/] [c2] Result for 2: 99.5385 (0) (0.0020s-)\u001b[0m\r\n\u001b[36m[2018-08-23 09:05:21] [DBG] [-1/] [c3] Result for 3: 86.4773 (0) (0.0008s-)\u001b[0m\r\n\u001b[36m[2018-08-23 09:05:22] [DBG] [-1/] [c0] Result for 0: 96.9834 (0) (0.0181s+)\u001b[0m\r\n\u001b[36m[2018-08-23 09:05:22] [DBG] [-1/] [c1] Result for 1: 79.7419 (0) (0.0108s+)\u001b[0m"
     ]
    },
    {
     "name": "stdout",
     "output_type": "stream",
     "text": [
      "\r\n\u001b[36m[2018-08-23 09:05:22] [DBG] [-1/] [c2] Result for 2: 99.5385 (0) (0.0120s+)\u001b[0m\r\n\u001b[36m[2018-08-23 09:05:22] [DBG] [-1/] [c3] Result for 3: 86.4773 (0) (0.0121s+)\u001b[0m"
     ]
    },
    {
     "name": "stdout",
     "output_type": "stream",
     "text": [
      "\r\n\u001b[32m[2018-08-23 09:05:22] [INF] [-1/] [o0i50] iter: 50 cost: -362.741 time_iter: wall: 0.190651s cpu: 0.07854s time_optim: wall: 7.82558s cpu: 3.98988s\u001b[0m\r\niter    objective    inf_pr   inf_du lg(mu)  ||d||  lg(rg) alpha_du alpha_pr  ls\r\n  50 -3.6274113e+02 0.00e+00 7.01e-01 -11.0 1.94e-02    -  1.00e+00 6.25e-02f  5\r\n\u001b[36m[2018-08-23 09:05:22] [DBG] [-1/] [c0] Result for 0: 97.0584 (0) (0.0007s-)\u001b[0m\r\n\u001b[36m[2018-08-23 09:05:22] [DBG] [-1/] [c1] Result for 1: 79.5974 (0) (0.0007s-)\u001b[0m\r\n\u001b[36m[2018-08-23 09:05:22] [DBG] [-1/] [c2] Result for 2: 99.4603 (0) (0.0007s-)\u001b[0m\r\n\u001b[36m[2018-08-23 09:05:22] [DBG] [-1/] [c3] Result for 3: 86.5874 (0) (0.0012s-)\u001b[0m\r\n\u001b[36m[2018-08-23 09:05:22] [DBG] [-1/] [c0] Result for 0: 97.0584 (0) (0.0007s-)\u001b[0m\r\n\u001b[36m[2018-08-23 09:05:22] [DBG] [-1/] [c1] Result for 1: 79.5974 (0) (0.0007s-)\u001b[0m\r\n\u001b[36m[2018-08-23 09:05:22] [DBG] [-1/] [c2] Result for 2: 99.4603 (0) (0.0007s-)\u001b[0m\r\n\u001b[36m[2018-08-23 09:05:22] [DBG] [-1/] [c3] Result for 3: 86.5874 (0) (0.0007s-)\u001b[0m\r\n\u001b[36m[2018-08-23 09:05:22] [DBG] [-1/] [c0] Result for 0: 97.0243 (0) (0.0007s-)\u001b[0m\r\n\u001b[36m[2018-08-23 09:05:22] [DBG] [-1/] [c1] Result for 1: 79.671 (0) (0.0008s-)\u001b[0m\r\n\u001b[36m[2018-08-23 09:05:22] [DBG] [-1/] [c2] Result for 2: 99.5026 (0) (0.0012s-)\u001b[0m"
     ]
    },
    {
     "name": "stdout",
     "output_type": "stream",
     "text": [
      "\r\n\u001b[36m[2018-08-23 09:05:22] [DBG] [-1/] [c3] Result for 3: 86.5346 (0) (0.0013s-)\u001b[0m\r\n\u001b[36m[2018-08-23 09:05:22] [DBG] [-1/] [c0] Result for 0: 97.0047 (0) (0.0035s-)\u001b[0m\r\n\u001b[36m[2018-08-23 09:05:22] [DBG] [-1/] [c1] Result for 1: 79.7068 (0) (0.0008s-)\u001b[0m\r\n\u001b[36m[2018-08-23 09:05:22] [DBG] [-1/] [c2] Result for 2: 99.5214 (0) (0.0008s-)\u001b[0m\r\n\u001b[36m[2018-08-23 09:05:22] [DBG] [-1/] [c3] Result for 3: 86.5065 (0) (0.0008s-)\u001b[0m\r\n\u001b[36m[2018-08-23 09:05:22] [DBG] [-1/] [c0] Result for 0: 96.9942 (0) (0.0007s-)\u001b[0m\r\n\u001b[36m[2018-08-23 09:05:22] [DBG] [-1/] [c1] Result for 1: 79.7244 (0) (0.0027s-)\u001b[0m\r\n\u001b[36m[2018-08-23 09:05:22] [DBG] [-1/] [c2] Result for 2: 99.5302 (0) (0.0017s-)\u001b[0m\r\n\u001b[36m[2018-08-23 09:05:22] [DBG] [-1/] [c3] Result for 3: 86.4921 (0) (0.0008s-)\u001b[0m\r\n\u001b[36m[2018-08-23 09:05:22] [DBG] [-1/] [c0] Result for 0: 96.9889 (0) (0.0008s-)\u001b[0m\r\n\u001b[36m[2018-08-23 09:05:22] [DBG] [-1/] [c1] Result for 1: 79.7332 (0) (0.0009s-)\u001b[0m\r\n\u001b[36m[2018-08-23 09:05:22] [DBG] [-1/] [c2] Result for 2: 99.5344 (0) (0.0007s-)\u001b[0m\r\n\u001b[36m[2018-08-23 09:05:22] [DBG] [-1/] [c3] Result for 3: 86.4847 (0) (0.0007s-)\u001b[0m\r\n"
     ]
    },
    {
     "name": "stdout",
     "output_type": "stream",
     "text": [
      "\u001b[36m[2018-08-23 09:05:22] [DBG] [-1/] [c0] Result for 0: 96.9889 (0) (0.0249s+)\u001b[0m\r\n\u001b[36m[2018-08-23 09:05:22] [DBG] [-1/] [c1] Result for 1: 79.7332 (0) (0.0176s+)\u001b[0m\r\n"
     ]
    },
    {
     "name": "stdout",
     "output_type": "stream",
     "text": [
      "\u001b[36m[2018-08-23 09:05:22] [DBG] [-1/] [c2] Result for 2: 99.5344 (0) (0.0202s+)\u001b[0m\r\n\u001b[36m[2018-08-23 09:05:22] [DBG] [-1/] [c3] Result for 3: 86.4847 (0) (0.0169s+)\u001b[0m\r\n\u001b[32m[2018-08-23 09:05:22] [INF] [-1/] [o0i51] iter: 51 cost: -362.741 time_iter: wall: 0.194811s cpu: 0.104747s time_optim: wall: 8.02039s cpu: 4.09463s\u001b[0m\r\n  51 -3.6274117e+02 0.00e+00 5.79e-01 -11.0 9.72e-03    -  1.00e+00 6.25e-02f  5\r\n"
     ]
    },
    {
     "name": "stdout",
     "output_type": "stream",
     "text": [
      "\u001b[36m[2018-08-23 09:05:22] [DBG] [-1/] [c0] Result for 0: 97.0324 (0) (0.0125s-)\u001b[0m\r\n\u001b[36m[2018-08-23 09:05:22] [DBG] [-1/] [c1] Result for 1: 79.6994 (0) (0.0010s-)\u001b[0m\r\n\u001b[36m[2018-08-23 09:05:22] [DBG] [-1/] [c2] Result for 2: 99.5912 (0) (0.0007s-)\u001b[0m\r\n\u001b[36m[2018-08-23 09:05:22] [DBG] [-1/] [c3] Result for 3: 86.4175 (0) (0.0007s-)\u001b[0m\r\n\u001b[36m[2018-08-23 09:05:22] [DBG] [-1/] [c0] Result for 0: 97.0324 (0) (0.0007s-)\u001b[0m\r\n\u001b[36m[2018-08-23 09:05:22] [DBG] [-1/] [c1] Result for 1: 79.6994 (0) (0.0007s-)\u001b[0m\r\n\u001b[36m[2018-08-23 09:05:22] [DBG] [-1/] [c2] Result for 2: 99.5912 (0) (0.0012s-)\u001b[0m\r\n\u001b[36m[2018-08-23 09:05:22] [DBG] [-1/] [c3] Result for 3: 86.4175 (0) (0.0010s-)\u001b[0m\r\n\u001b[36m[2018-08-23 09:05:22] [DBG] [-1/] [c0] Result for 0: 97.0108 (0) (0.0007s-)\u001b[0m\r\n\u001b[36m[2018-08-23 09:05:22] [DBG] [-1/] [c1] Result for 1: 79.7164 (0) (0.0030s-)\u001b[0m\r\n\u001b[36m[2018-08-23 09:05:22] [DBG] [-1/] [c2] Result for 2: 99.563 (0) (0.0010s-)\u001b[0m\r\n\u001b[36m[2018-08-23 09:05:22] [DBG] [-1/] [c3] Result for 3: 86.4512 (0) (0.0008s-)\u001b[0m\r\n\u001b[36m[2018-08-23 09:05:22] [DBG] [-1/] [c0] Result for 0: 97.0108 (0) (0.0130s+)\u001b[0m\r\n"
     ]
    },
    {
     "name": "stdout",
     "output_type": "stream",
     "text": [
      "\u001b[36m[2018-08-23 09:05:22] [DBG] [-1/] [c1] Result for 1: 79.7164 (0) (0.0190s+)\u001b[0m\r\n\u001b[36m[2018-08-23 09:05:22] [DBG] [-1/] [c2] Result for 2: 99.563 (0) (0.0205s+)\u001b[0m\r\n"
     ]
    },
    {
     "name": "stdout",
     "output_type": "stream",
     "text": [
      "\u001b[36m[2018-08-23 09:05:22] [DBG] [-1/] [c3] Result for 3: 86.4512 (0) (0.0168s+)\u001b[0m\r\n\u001b[32m[2018-08-23 09:05:22] [INF] [-1/] [o0i52] iter: 52 cost: -362.741 time_iter: wall: 0.162101s cpu: 0.0930889s time_optim: wall: 8.18249s cpu: 4.18771s\u001b[0m\r\n  52 -3.6274140e+02 0.00e+00 9.75e-01 -11.0 6.68e-03    -  1.00e+00 5.00e-01f  2\r\n\u001b[36m[2018-08-23 09:05:22] [DBG] [-1/] [c0] Result for 0: 97.0268 (0) (0.0007s-)\u001b[0m\r\n\u001b[36m[2018-08-23 09:05:22] [DBG] [-1/] [c1] Result for 1: 79.3513 (0) (0.0007s-)\u001b[0m\r\n"
     ]
    },
    {
     "name": "stdout",
     "output_type": "stream",
     "text": [
      "\u001b[36m[2018-08-23 09:05:22] [DBG] [-1/] [c2] Result for 2: 99.6571 (0) (0.0009s-)\u001b[0m\r\n\u001b[36m[2018-08-23 09:05:22] [DBG] [-1/] [c3] Result for 3: 86.5822 (0) (0.0007s-)\u001b[0m\r\n\u001b[36m[2018-08-23 09:05:22] [DBG] [-1/] [c0] Result for 0: 97.0268 (0) (0.0007s-)\u001b[0m\r\n\u001b[36m[2018-08-23 09:05:22] [DBG] [-1/] [c1] Result for 1: 79.3513 (0) (0.0007s-)\u001b[0m\r\n\u001b[36m[2018-08-23 09:05:22] [DBG] [-1/] [c2] Result for 2: 99.6571 (0) (0.0007s-)\u001b[0m\r\n\u001b[36m[2018-08-23 09:05:22] [DBG] [-1/] [c3] Result for 3: 86.5822 (0) (0.0009s-)\u001b[0m\r\n\u001b[36m[2018-08-23 09:05:22] [DBG] [-1/] [c0] Result for 0: 97.0299 (0) (0.0007s-)\u001b[0m\r\n\u001b[36m[2018-08-23 09:05:22] [DBG] [-1/] [c1] Result for 1: 79.5302 (0) (0.0009s-)\u001b[0m\r\n\u001b[36m[2018-08-23 09:05:22] [DBG] [-1/] [c2] Result for 2: 99.6268 (0) (0.0007s-)\u001b[0m\r\n\u001b[36m[2018-08-23 09:05:22] [DBG] [-1/] [c3] Result for 3: 86.5278 (0) (0.0007s-)\u001b[0m\r\n\u001b[36m[2018-08-23 09:05:22] [DBG] [-1/] [c0] Result for 0: 97.0232 (0) (0.0007s-)\u001b[0m\r\n\u001b[36m[2018-08-23 09:05:22] [DBG] [-1/] [c1] Result for 1: 79.6224 (0) (0.0007s-)\u001b[0m\r\n\u001b[36m[2018-08-23 09:05:22] [DBG] [-1/] [c2] Result for 2: 99.5992 (0) (0.0010s-)\u001b[0m\r\n\u001b[36m[2018-08-23 09:05:22] [DBG] [-1/] [c3] Result for 3: 86.4924 (0) (0.0007s-)\u001b[0m\r\n\u001b[36m[2018-08-23 09:05:22] [DBG] [-1/] [c0] Result for 0: 97.0177 (0) (0.0007s-)\u001b[0m\r\n\u001b[36m[2018-08-23 09:05:22] [DBG] [-1/] [c1] Result for 1: 79.6692 (0) (0.0008s-)\u001b[0m\r\n\u001b[36m[2018-08-23 09:05:22] [DBG] [-1/] [c2] Result for 2: 99.5822 (0) (0.0010s-)\u001b[0m\r\n\u001b[36m[2018-08-23 09:05:22] [DBG] [-1/] [c3] Result for 3: 86.4725 (0) (0.0010s-)\u001b[0m\r\n"
     ]
    },
    {
     "name": "stdout",
     "output_type": "stream",
     "text": [
      "\u001b[36m[2018-08-23 09:05:22] [DBG] [-1/] [c0] Result for 0: 97.0177 (0) (0.0183s+)\u001b[0m\r\n\u001b[36m[2018-08-23 09:05:22] [DBG] [-1/] [c1] Result for 1: 79.6692 (0) (0.0213s+)\u001b[0m\r\n"
     ]
    },
    {
     "name": "stdout",
     "output_type": "stream",
     "text": [
      "\u001b[36m[2018-08-23 09:05:22] [DBG] [-1/] [c2] Result for 2: 99.5822 (0) (0.0175s+)\u001b[0m\r\n\u001b[36m[2018-08-23 09:05:22] [DBG] [-1/] [c3] Result for 3: 86.4725 (0) (0.0136s+)\u001b[0m\r\n\u001b[32m[2018-08-23 09:05:22] [INF] [-1/] [o0i53] iter: 53 cost: -362.742 time_iter: wall: 0.168289s cpu: 0.0864645s time_optim: wall: 8.35078s cpu: 4.27418s\u001b[0m"
     ]
    },
    {
     "name": "stdout",
     "output_type": "stream",
     "text": [
      "\r\n  53 -3.6274161e+02 0.00e+00 1.03e+00 -11.0 6.72e-02    -  1.00e+00 1.25e-01f  4\r\n\u001b[36m[2018-08-23 09:05:22] [DBG] [-1/] [c0] Result for 0: 96.6159 (0) (0.0019s-)\u001b[0m\r\n\u001b[36m[2018-08-23 09:05:22] [DBG] [-1/] [c1] Result for 1: 79.1038 (0) (0.0008s-)\u001b[0m\r\n\u001b[36m[2018-08-23 09:05:22] [DBG] [-1/] [c2] Result for 2: 99.9646 (0) (0.0010s-)\u001b[0m\r\n\u001b[36m[2018-08-23 09:05:22] [DBG] [-1/] [c3] Result for 3: 86.2645 (0) (0.0008s-)\u001b[0m\r\n\u001b[36m[2018-08-23 09:05:22] [DBG] [-1/] [c0] Result for 0: 96.6159 (0) (0.0008s-)\u001b[0m\r\n\u001b[36m[2018-08-23 09:05:22] [DBG] [-1/] [c1] Result for 1: 79.1038 (0) (0.0036s-)\u001b[0m\r\n\u001b[36m[2018-08-23 09:05:22] [DBG] [-1/] [c2] Result for 2: 99.9646 (0) (0.0009s-)\u001b[0m\r\n\u001b[36m[2018-08-23 09:05:22] [DBG] [-1/] [c3] Result for 3: 86.2645 (0) (0.0008s-)\u001b[0m\r\n\u001b[36m[2018-08-23 09:05:22] [DBG] [-1/] [c0] Result for 0: 96.8666 (0) (0.0008s-)\u001b[0m\r\n\u001b[36m[2018-08-23 09:05:22] [DBG] [-1/] [c1] Result for 1: 79.414 (0) (0.0029s-)\u001b[0m\r\n\u001b[36m[2018-08-23 09:05:22] [DBG] [-1/] [c2] Result for 2: 99.8387 (0) (0.0046s-)\u001b[0m\r\n\u001b[36m[2018-08-23 09:05:22] [DBG] [-1/] [c3] Result for 3: 86.4186 (0) (0.0036s-)\u001b[0m"
     ]
    },
    {
     "name": "stdout",
     "output_type": "stream",
     "text": [
      "\r\n\u001b[36m[2018-08-23 09:05:22] [DBG] [-1/] [c0] Result for 0: 96.9555 (0) (0.0009s-)\u001b[0m\r\n\u001b[36m[2018-08-23 09:05:22] [DBG] [-1/] [c1] Result for 1: 79.5496 (0) (0.0009s-)\u001b[0m\r\n\u001b[36m[2018-08-23 09:05:22] [DBG] [-1/] [c2] Result for 2: 99.7278 (0) (0.0007s-)\u001b[0m\r\n\u001b[36m[2018-08-23 09:05:22] [DBG] [-1/] [c3] Result for 3: 86.4593 (0) (0.0008s-)\u001b[0m\r\n\u001b[36m[2018-08-23 09:05:22] [DBG] [-1/] [c0] Result for 0: 96.9901 (0) (0.0009s-)\u001b[0m\r\n\u001b[36m[2018-08-23 09:05:22] [DBG] [-1/] [c1] Result for 1: 79.6116 (0) (0.0007s-)\u001b[0m\r\n\u001b[36m[2018-08-23 09:05:22] [DBG] [-1/] [c2] Result for 2: 99.6595 (0) (0.0007s-)\u001b[0m\r\n\u001b[36m[2018-08-23 09:05:22] [DBG] [-1/] [c3] Result for 3: 86.4695 (0) (0.0007s-)\u001b[0m\r\n\u001b[36m[2018-08-23 09:05:22] [DBG] [-1/] [c0] Result for 0: 97.0048 (0) (0.0007s-)\u001b[0m\r\n\u001b[36m[2018-08-23 09:05:22] [DBG] [-1/] [c1] Result for 1: 79.6409 (0) (0.0007s-)\u001b[0m\r\n\u001b[36m[2018-08-23 09:05:22] [DBG] [-1/] [c2] Result for 2: 99.622 (0) (0.0007s-)\u001b[0m\r\n\u001b[36m[2018-08-23 09:05:22] [DBG] [-1/] [c3] Result for 3: 86.4719 (0) (0.0009s-)\u001b[0m\r\n\u001b[36m[2018-08-23 09:05:22] [DBG] [-1/] [c0] Result for 0: 97.0115 (0) (0.0007s-)\u001b[0m\r\n\u001b[36m[2018-08-23 09:05:22] [DBG] [-1/] [c1] Result for 1: 79.6552 (0) (0.0007s-)\u001b[0m\r\n\u001b[36m[2018-08-23 09:05:22] [DBG] [-1/] [c2] Result for 2: 99.6024 (0) (0.0009s-)\u001b[0m\r\n\u001b[36m[2018-08-23 09:05:22] [DBG] [-1/] [c3] Result for 3: 86.4725 (0) (0.0007s-)\u001b[0m\r\n\u001b[36m[2018-08-23 09:05:22] [DBG] [-1/] [c0] Result for 0: 97.0146 (0) (0.0007s-)\u001b[0m\r\n\u001b[36m[2018-08-23 09:05:22] [DBG] [-1/] [c1] Result for 1: 79.6622 (0) (0.0011s-)\u001b[0m\r\n"
     ]
    },
    {
     "name": "stdout",
     "output_type": "stream",
     "text": [
      "\u001b[36m[2018-08-23 09:05:22] [DBG] [-1/] [c2] Result for 2: 99.5924 (0) (0.0009s-)\u001b[0m\r\n\u001b[36m[2018-08-23 09:05:22] [DBG] [-1/] [c3] Result for 3: 86.4726 (0) (0.0008s-)\u001b[0m\r\n\u001b[36m[2018-08-23 09:05:22] [DBG] [-1/] [c0] Result for 0: 97.0146 (0) (0.0183s+)\u001b[0m\r\n\u001b[36m[2018-08-23 09:05:22] [DBG] [-1/] [c1] Result for 1: 79.6622 (0) (0.0164s+)\u001b[0m\r\n"
     ]
    },
    {
     "name": "stdout",
     "output_type": "stream",
     "text": [
      "\u001b[36m[2018-08-23 09:05:22] [DBG] [-1/] [c2] Result for 2: 99.5924 (0) (0.0180s+)\u001b[0m\r\n\u001b[36m[2018-08-23 09:05:22] [DBG] [-1/] [c3] Result for 3: 86.4726 (0) (0.0169s+)\u001b[0m\r\n\u001b[32m[2018-08-23 09:05:22] [INF] [-1/] [o0i54] iter: 54 cost: -362.742 time_iter: wall: 0.210721s cpu: 0.107646s time_optim: wall: 8.5615s cpu: 4.38182s\u001b[0m"
     ]
    },
    {
     "name": "stdout",
     "output_type": "stream",
     "text": [
      "\r\n  54 -3.6274178e+02 0.00e+00 7.56e-01 -11.0 9.88e-02    -  1.00e+00 1.56e-02f  7\r\n\u001b[36m[2018-08-23 09:05:22] [DBG] [-1/] [c0] Result for 0: 96.8519 (0) (0.0007s-)\u001b[0m\r\n\u001b[36m[2018-08-23 09:05:22] [DBG] [-1/] [c1] Result for 1: 79.9702 (0) (0.0010s-)\u001b[0m\r\n\u001b[36m[2018-08-23 09:05:22] [DBG] [-1/] [c2] Result for 2: 99.4786 (0) (0.0007s-)\u001b[0m\r\n\u001b[36m[2018-08-23 09:05:22] [DBG] [-1/] [c3] Result for 3: 86.3557 (0) (0.0008s-)\u001b[0m\r\n\u001b[36m[2018-08-23 09:05:22] [DBG] [-1/] [c0] Result for 0: 96.8519 (0) (0.0008s-)\u001b[0m\r\n\u001b[36m[2018-08-23 09:05:22] [DBG] [-1/] [c1] Result for 1: 79.9702 (0) (0.0012s-)\u001b[0m\r\n\u001b[36m[2018-08-23 09:05:22] [DBG] [-1/] [c2] Result for 2: 99.4786 (0) (0.0007s-)\u001b[0m\r\n\u001b[36m[2018-08-23 09:05:22] [DBG] [-1/] [c3] Result for 3: 86.3557 (0) (0.0076s-)\u001b[0m\r\n\u001b[36m[2018-08-23 09:05:22] [DBG] [-1/] [c0] Result for 0: 96.9417 (0) (0.0008s-)\u001b[0m\r\n\u001b[36m[2018-08-23 09:05:22] [DBG] [-1/] [c1] Result for 1: 79.8137 (0) (0.0007s-)\u001b[0m\r\n\u001b[36m[2018-08-23 09:05:22] [DBG] [-1/] [c2] Result for 2: 99.5398 (0) (0.0007s-)\u001b[0m\r\n\u001b[36m[2018-08-23 09:05:22] [DBG] [-1/] [c3] Result for 3: 86.4288 (0) (0.0008s-)\u001b[0m\r\n\u001b[36m[2018-08-23 09:05:22] [DBG] [-1/] [c0] Result for 0: 96.9801 (0) (0.0007s-)\u001b[0m\r\n\u001b[36m[2018-08-23 09:05:22] [DBG] [-1/] [c1] Result for 1: 79.7371 (0) (0.0007s-)\u001b[0m"
     ]
    },
    {
     "name": "stdout",
     "output_type": "stream",
     "text": [
      "\r\n\u001b[36m[2018-08-23 09:05:22] [DBG] [-1/] [c2] Result for 2: 99.567 (0) (0.0009s-)\u001b[0m\r\n\u001b[36m[2018-08-23 09:05:22] [DBG] [-1/] [c3] Result for 3: 86.4543 (0) (0.0009s-)\u001b[0m\r\n\u001b[36m[2018-08-23 09:05:22] [DBG] [-1/] [c0] Result for 0: 96.9979 (0) (0.0007s-)\u001b[0m\r\n\u001b[36m[2018-08-23 09:05:22] [DBG] [-1/] [c1] Result for 1: 79.6994 (0) (0.0008s-)\u001b[0m\r\n\u001b[36m[2018-08-23 09:05:22] [DBG] [-1/] [c2] Result for 2: 99.5799 (0) (0.0007s-)\u001b[0m\r\n\u001b[36m[2018-08-23 09:05:22] [DBG] [-1/] [c3] Result for 3: 86.4643 (0) (0.0008s-)\u001b[0m\r\n\u001b[36m[2018-08-23 09:05:22] [DBG] [-1/] [c0] Result for 0: 97.0064 (0) (0.0007s-)\u001b[0m\r\n\u001b[36m[2018-08-23 09:05:22] [DBG] [-1/] [c1] Result for 1: 79.6808 (0) (0.0009s-)\u001b[0m\r\n\u001b[36m[2018-08-23 09:05:22] [DBG] [-1/] [c2] Result for 2: 99.5862 (0) (0.0009s-)\u001b[0m\r\n\u001b[36m[2018-08-23 09:05:22] [DBG] [-1/] [c3] Result for 3: 86.4687 (0) (0.0007s-)\u001b[0m\r\n\u001b[36m[2018-08-23 09:05:22] [DBG] [-1/] [c0] Result for 0: 97.0064 (0) (0.0171s+)\u001b[0m\r\n"
     ]
    },
    {
     "name": "stdout",
     "output_type": "stream",
     "text": [
      "\u001b[36m[2018-08-23 09:05:22] [DBG] [-1/] [c1] Result for 1: 79.6808 (0) (0.0154s+)\u001b[0m\r\n\u001b[36m[2018-08-23 09:05:22] [DBG] [-1/] [c2] Result for 2: 99.5862 (0) (0.0089s+)\u001b[0m\r\n"
     ]
    },
    {
     "name": "stdout",
     "output_type": "stream",
     "text": [
      "\u001b[36m[2018-08-23 09:05:23] [DBG] [-1/] [c3] Result for 3: 86.4687 (0) (0.0177s+)\u001b[0m\r\n\u001b[32m[2018-08-23 09:05:23] [INF] [-1/] [o0i55] iter: 55 cost: -362.742 time_iter: wall: 0.190699s cpu: 0.0853018s time_optim: wall: 8.7522s cpu: 4.46713s\u001b[0m\r\n  55 -3.6274197e+02 0.00e+00 1.71e+00 -11.0 4.44e-02    -  1.00e+00 6.25e-02f  5\r\n\u001b[36m[2018-08-23 09:05:23] [DBG] [-1/] [c0] Result for 0: 96.1038 (0) (0.0008s-)\u001b[0m\r\n\u001b[36m[2018-08-23 09:05:23] [DBG] [-1/] [c1] Result for 1: 79.2737 (0) (0.0007s-)\u001b[0m\r\n\u001b[36m[2018-08-23 09:05:23] [DBG] [-1/] [c2] Result for 2: 97.7284 (0) (0.0007s-)\u001b[0m\r\n\u001b[36m[2018-08-23 09:05:23] [DBG] [-1/] [c3] Result for 3: 85.3595 (0) (0.0010s-)\u001b[0m\r\n\u001b[36m[2018-08-23 09:05:23] [DBG] [-1/] [c0] Result for 0: 96.1038 (0) (0.0008s-)\u001b[0m\r\n"
     ]
    },
    {
     "name": "stdout",
     "output_type": "stream",
     "text": [
      "\u001b[36m[2018-08-23 09:05:23] [DBG] [-1/] [c1] Result for 1: 79.2737 (0) (0.0008s-)\u001b[0m\r\n\u001b[36m[2018-08-23 09:05:23] [DBG] [-1/] [c2] Result for 2: 97.7284 (0) (0.0048s-)\u001b[0m\r\n\u001b[36m[2018-08-23 09:05:23] [DBG] [-1/] [c3] Result for 3: 85.3595 (0) (0.0008s-)\u001b[0m\r\n\u001b[36m[2018-08-23 09:05:23] [DBG] [-1/] [c0] Result for 0: 96.8743 (0) (0.0008s-)\u001b[0m\r\n\u001b[36m[2018-08-23 09:05:23] [DBG] [-1/] [c1] Result for 1: 79.552 (0) (0.0007s-)\u001b[0m\r\n\u001b[36m[2018-08-23 09:05:23] [DBG] [-1/] [c2] Result for 2: 98.9234 (0) (0.0010s-)\u001b[0m\r\n\u001b[36m[2018-08-23 09:05:23] [DBG] [-1/] [c3] Result for 3: 86.3195 (0) (0.0057s-)\u001b[0m\r\n\u001b[36m[2018-08-23 09:05:23] [DBG] [-1/] [c0] Result for 0: 97.0243 (0) (0.0007s-)\u001b[0m\r\n\u001b[36m[2018-08-23 09:05:23] [DBG] [-1/] [c1] Result for 1: 79.6259 (0) (0.0009s-)\u001b[0m\r\n\u001b[36m[2018-08-23 09:05:23] [DBG] [-1/] [c2] Result for 2: 99.3207 (0) (0.0007s-)\u001b[0m\r\n\u001b[36m[2018-08-23 09:05:23] [DBG] [-1/] [c3] Result for 3: 86.5016 (0) (0.0009s-)\u001b[0m\r\n\u001b[36m[2018-08-23 09:05:23] [DBG] [-1/] [c0] Result for 0: 97.0374 (0) (0.0009s-)\u001b[0m\r\n\u001b[36m[2018-08-23 09:05:23] [DBG] [-1/] [c1] Result for 1: 79.655 (0) (0.0010s-)\u001b[0m\r\n\u001b[36m[2018-08-23 09:05:23] [DBG] [-1/] [c2] Result for 2: 99.4703 (0) (0.0008s-)\u001b[0m\r\n\u001b[36m[2018-08-23 09:05:23] [DBG] [-1/] [c3] Result for 3: 86.5136 (0) (0.0037s-)\u001b[0m\r\n\u001b[36m[2018-08-23 09:05:23] [DBG] [-1/] [c0] Result for 0: 97.0277 (0) (0.0032s-)\u001b[0m"
     ]
    },
    {
     "name": "stdout",
     "output_type": "stream",
     "text": [
      "\r\n\u001b[36m[2018-08-23 09:05:23] [DBG] [-1/] [c1] Result for 1: 79.6683 (0) (0.0027s-)\u001b[0m\r\n\u001b[36m[2018-08-23 09:05:23] [DBG] [-1/] [c2] Result for 2: 99.5326 (0) (0.0008s-)\u001b[0m\r\n\u001b[36m[2018-08-23 09:05:23] [DBG] [-1/] [c3] Result for 3: 86.4985 (0) (0.0012s-)\u001b[0m\r\n\u001b[36m[2018-08-23 09:05:23] [DBG] [-1/] [c0] Result for 0: 97.0185 (0) (0.0026s-)\u001b[0m\r\n\u001b[36m[2018-08-23 09:05:23] [DBG] [-1/] [c1] Result for 1: 79.6746 (0) (0.0036s-)\u001b[0m\r\n\u001b[36m[2018-08-23 09:05:23] [DBG] [-1/] [c2] Result for 2: 99.5605 (0) (0.0008s-)\u001b[0m\r\n\u001b[36m[2018-08-23 09:05:23] [DBG] [-1/] [c3] Result for 3: 86.4855 (0) (0.0008s-)\u001b[0m\r\n\u001b[36m[2018-08-23 09:05:23] [DBG] [-1/] [c0] Result for 0: 97.0128 (0) (0.0012s-)\u001b[0m\r\n\u001b[36m[2018-08-23 09:05:23] [DBG] [-1/] [c1] Result for 1: 79.6777 (0) (0.0011s-)\u001b[0m\r\n\u001b[36m[2018-08-23 09:05:23] [DBG] [-1/] [c2] Result for 2: 99.5736 (0) (0.0008s-)\u001b[0m\r\n\u001b[36m[2018-08-23 09:05:23] [DBG] [-1/] [c3] Result for 3: 86.4775 (0) (0.0021s-)\u001b[0m\r\n\u001b[36m[2018-08-23 09:05:23] [DBG] [-1/] [c0] Result for 0: 97.0097 (0) (0.0007s-)\u001b[0m\r\n\u001b[36m[2018-08-23 09:05:23] [DBG] [-1/] [c1] Result for 1: 79.6793 (0) (0.0008s-)\u001b[0m\r\n\u001b[36m[2018-08-23 09:05:23] [DBG] [-1/] [c2] Result for 2: 99.58 (0) (0.0007s-)\u001b[0m\r\n"
     ]
    },
    {
     "name": "stdout",
     "output_type": "stream",
     "text": [
      "\u001b[36m[2018-08-23 09:05:23] [DBG] [-1/] [c3] Result for 3: 86.4732 (0) (0.0061s-)\u001b[0m\r\n\u001b[36m[2018-08-23 09:05:23] [DBG] [-1/] [c0] Result for 0: 97.0097 (0) (0.0203s+)\u001b[0m\r\n\u001b[36m[2018-08-23 09:05:23] [DBG] [-1/] [c1] Result for 1: 79.6793 (0) (0.0169s+)\u001b[0m"
     ]
    },
    {
     "name": "stdout",
     "output_type": "stream",
     "text": [
      "\r\n\u001b[36m[2018-08-23 09:05:23] [DBG] [-1/] [c2] Result for 2: 99.58 (0) (0.0075s+)\u001b[0m\r\n\u001b[36m[2018-08-23 09:05:23] [DBG] [-1/] [c3] Result for 3: 86.4732 (0) (0.0126s+)\u001b[0m\r\n"
     ]
    },
    {
     "name": "stdout",
     "output_type": "stream",
     "text": [
      "\u001b[32m[2018-08-23 09:05:23] [INF] [-1/] [o0i56] iter: 56 cost: -362.742 time_iter: wall: 0.249403s cpu: 0.114635s time_optim: wall: 9.00161s cpu: 4.58176s\u001b[0m\r\n  56 -3.6274211e+02 0.00e+00 1.06e+00 -11.0 2.53e-01    -  1.00e+00 7.81e-03f  8\r\n\u001b[36m[2018-08-23 09:05:23] [DBG] [-1/] [c0] Result for 0: 96.5379 (0) (0.0008s-)\u001b[0m\r\n\u001b[36m[2018-08-23 09:05:23] [DBG] [-1/] [c1] Result for 1: 79.3666 (0) (0.0010s-)\u001b[0m\r\n\u001b[36m[2018-08-23 09:05:23] [DBG] [-1/] [c2] Result for 2: 99.7625 (0) (0.0007s-)\u001b[0m\r\n\u001b[36m[2018-08-23 09:05:23] [DBG] [-1/] [c3] Result for 3: 86.5656 (0) (0.0007s-)\u001b[0m\r\n\u001b[36m[2018-08-23 09:05:23] [DBG] [-1/] [c0] Result for 0: 96.5379 (0) (0.0008s-)\u001b[0m\r\n\u001b[36m[2018-08-23 09:05:23] [DBG] [-1/] [c1] Result for 1: 79.3666 (0) (0.0007s-)\u001b[0m\r\n\u001b[36m[2018-08-23 09:05:23] [DBG] [-1/] [c2] Result for 2: 99.7625 (0) (0.0007s-)\u001b[0m\r\n\u001b[36m[2018-08-23 09:05:23] [DBG] [-1/] [c3] Result for 3: 86.5656 (0) (0.0007s-)\u001b[0m\r\n\u001b[36m[2018-08-23 09:05:23] [DBG] [-1/] [c0] Result for 0: 96.8142 (0) (0.0007s-)\u001b[0m\r\n\u001b[36m[2018-08-23 09:05:23] [DBG] [-1/] [c1] Result for 1: 79.5239 (0) (0.0007s-)\u001b[0m\r\n\u001b[36m[2018-08-23 09:05:23] [DBG] [-1/] [c2] Result for 2: 99.7159 (0) (0.0007s-)\u001b[0m\r\n\u001b[36m[2018-08-23 09:05:23] [DBG] [-1/] [c3] Result for 3: 86.5723 (0) (0.0014s-)\u001b[0m\r\n\u001b[36m[2018-08-23 09:05:23] [DBG] [-1/] [c0] Result for 0: 96.9214 (0) (0.0015s-)\u001b[0m"
     ]
    },
    {
     "name": "stdout",
     "output_type": "stream",
     "text": [
      "\r\n\u001b[36m[2018-08-23 09:05:23] [DBG] [-1/] [c1] Result for 1: 79.6008 (0) (0.0046s-)\u001b[0m\r\n\u001b[36m[2018-08-23 09:05:23] [DBG] [-1/] [c2] Result for 2: 99.6585 (0) (0.0007s-)\u001b[0m\r\n\u001b[36m[2018-08-23 09:05:23] [DBG] [-1/] [c3] Result for 3: 86.5354 (0) (0.0008s-)\u001b[0m\r\n\u001b[36m[2018-08-23 09:05:23] [DBG] [-1/] [c0] Result for 0: 96.9678 (0) (0.0035s-)\u001b[0m\r\n\u001b[36m[2018-08-23 09:05:23] [DBG] [-1/] [c1] Result for 1: 79.6397 (0) (0.0007s-)\u001b[0m\r\n\u001b[36m[2018-08-23 09:05:23] [DBG] [-1/] [c2] Result for 2: 99.6218 (0) (0.0008s-)\u001b[0m\r\n\u001b[36m[2018-08-23 09:05:23] [DBG] [-1/] [c3] Result for 3: 86.5075 (0) (0.0033s-)\u001b[0m\r\n\u001b[36m[2018-08-23 09:05:23] [DBG] [-1/] [c0] Result for 0: 96.9893 (0) (0.0007s-)\u001b[0m\r\n\u001b[36m[2018-08-23 09:05:23] [DBG] [-1/] [c1] Result for 1: 79.6594 (0) (0.0008s-)\u001b[0m\r\n\u001b[36m[2018-08-23 09:05:23] [DBG] [-1/] [c2] Result for 2: 99.6015 (0) (0.0012s-)\u001b[0m\r\n\u001b[36m[2018-08-23 09:05:23] [DBG] [-1/] [c3] Result for 3: 86.4911 (0) (0.0026s-)\u001b[0m\r\n\u001b[36m[2018-08-23 09:05:23] [DBG] [-1/] [c0] Result for 0: 96.9996 (0) (0.0007s-)\u001b[0m\r\n\u001b[36m[2018-08-23 09:05:23] [DBG] [-1/] [c1] Result for 1: 79.6693 (0) (0.0014s-)\u001b[0m\r\n\u001b[36m[2018-08-23 09:05:23] [DBG] [-1/] [c2] Result for 2: 99.5909 (0) (0.0036s-)\u001b[0m\r\n\u001b[36m[2018-08-23 09:05:23] [DBG] [-1/] [c3] Result for 3: 86.4824 (0) (0.0010s-)\u001b[0m\r\n"
     ]
    },
    {
     "name": "stdout",
     "output_type": "stream",
     "text": [
      "\u001b[36m[2018-08-23 09:05:23] [DBG] [-1/] [c0] Result for 0: 96.9996 (0) (0.0167s+)\u001b[0m\r\n\u001b[36m[2018-08-23 09:05:23] [DBG] [-1/] [c1] Result for 1: 79.6693 (0) (0.0177s+)\u001b[0m\r\n"
     ]
    },
    {
     "name": "stdout",
     "output_type": "stream",
     "text": [
      "\u001b[36m[2018-08-23 09:05:23] [DBG] [-1/] [c2] Result for 2: 99.5909 (0) (0.0160s+)\u001b[0m\r\n\u001b[36m[2018-08-23 09:05:23] [DBG] [-1/] [c3] Result for 3: 86.4824 (0) (0.0235s+)\u001b[0m\r\n\u001b[32m[2018-08-23 09:05:23] [INF] [-1/] [o0i57] iter: 57 cost: -362.742 time_iter: wall: 0.200029s cpu: 0.111506s time_optim: wall: 9.20163s cpu: 4.69327s\u001b[0m"
     ]
    },
    {
     "name": "stdout",
     "output_type": "stream",
     "text": [
      "\r\n  57 -3.6274219e+02 0.00e+00 1.36e+00 -11.0 1.09e-01    -  1.00e+00 3.12e-02f  6\r\n\u001b[36m[2018-08-23 09:05:23] [DBG] [-1/] [c0] Result for 0: 97.1391 (0) (0.0007s-)\u001b[0m\r\n\u001b[36m[2018-08-23 09:05:23] [DBG] [-1/] [c1] Result for 1: 78.8933 (0) (0.0007s-)\u001b[0m\r\n\u001b[36m[2018-08-23 09:05:23] [DBG] [-1/] [c2] Result for 2: 98.8695 (0) (0.0007s-)\u001b[0m\r\n\u001b[36m[2018-08-23 09:05:23] [DBG] [-1/] [c3] Result for 3: 86.985 (0) (0.0010s-)\u001b[0m\r\n\u001b[36m[2018-08-23 09:05:23] [DBG] [-1/] [c0] Result for 0: 97.1391 (0) (0.0007s-)\u001b[0m\r\n\u001b[36m[2018-08-23 09:05:23] [DBG] [-1/] [c1] Result for 1: 78.8933 (0) (0.0007s-)\u001b[0m\r\n\u001b[36m[2018-08-23 09:05:23] [DBG] [-1/] [c2] Result for 2: 98.8695 (0) (0.0007s-)\u001b[0m\r\n\u001b[36m[2018-08-23 09:05:23] [DBG] [-1/] [c3] Result for 3: 86.985 (0) (0.0009s-)\u001b[0m\r\n\u001b[36m[2018-08-23 09:05:23] [DBG] [-1/] [c0] Result for 0: 97.1467 (0) (0.0008s-)\u001b[0m\r\n\u001b[36m[2018-08-23 09:05:23] [DBG] [-1/] [c1] Result for 1: 79.2628 (0) (0.0007s-)\u001b[0m\r\n\u001b[36m[2018-08-23 09:05:23] [DBG] [-1/] [c2] Result for 2: 99.3129 (0) (0.0007s-)\u001b[0m\r\n\u001b[36m[2018-08-23 09:05:23] [DBG] [-1/] [c3] Result for 3: 86.798 (0) (0.0009s-)\u001b[0m\r\n\u001b[36m[2018-08-23 09:05:23] [DBG] [-1/] [c0] Result for 0: 97.0939 (0) (0.0007s-)\u001b[0m\r\n\u001b[36m[2018-08-23 09:05:23] [DBG] [-1/] [c1] Result for 1: 79.4616 (0) (0.0007s-)\u001b[0m\r\n\u001b[36m[2018-08-23 09:05:23] [DBG] [-1/] [c2] Result for 2: 99.474 (0) (0.0010s-)\u001b[0m\r\n\u001b[36m[2018-08-23 09:05:23] [DBG] [-1/] [c3] Result for 3: 86.6576 (0) (0.0009s-)\u001b[0m\r\n\u001b[36m[2018-08-23 09:05:23] [DBG] [-1/] [c0] Result for 0: 97.0522 (0) (0.0008s-)\u001b[0m\r\n\u001b[36m[2018-08-23 09:05:23] [DBG] [-1/] [c1] Result for 1: 79.5644 (0) (0.0008s-)\u001b[0m\r\n"
     ]
    },
    {
     "name": "stdout",
     "output_type": "stream",
     "text": [
      "\u001b[36m[2018-08-23 09:05:23] [DBG] [-1/] [c2] Result for 2: 99.5382 (0) (0.0044s-)\u001b[0m\r\n\u001b[36m[2018-08-23 09:05:23] [DBG] [-1/] [c3] Result for 3: 86.5746 (0) (0.0009s-)\u001b[0m\r\n\u001b[36m[2018-08-23 09:05:23] [DBG] [-1/] [c0] Result for 0: 97.0273 (0) (0.0009s-)\u001b[0m\r\n\u001b[36m[2018-08-23 09:05:23] [DBG] [-1/] [c1] Result for 1: 79.6166 (0) (0.0011s-)\u001b[0m\r\n\u001b[36m[2018-08-23 09:05:23] [DBG] [-1/] [c2] Result for 2: 99.566 (0) (0.0008s-)\u001b[0m\r\n\u001b[36m[2018-08-23 09:05:23] [DBG] [-1/] [c3] Result for 3: 86.5296 (0) (0.0028s-)\u001b[0m\r\n\u001b[36m[2018-08-23 09:05:23] [DBG] [-1/] [c0] Result for 0: 97.0138 (0) (0.0007s-)\u001b[0m\r\n\u001b[36m[2018-08-23 09:05:23] [DBG] [-1/] [c1] Result for 1: 79.6429 (0) (0.0008s-)\u001b[0m\r\n\u001b[36m[2018-08-23 09:05:23] [DBG] [-1/] [c2] Result for 2: 99.5788 (0) (0.0008s-)\u001b[0m\r\n\u001b[36m[2018-08-23 09:05:23] [DBG] [-1/] [c3] Result for 3: 86.5063 (0) (0.0031s-)\u001b[0m\r\n\u001b[36m[2018-08-23 09:05:23] [DBG] [-1/] [c0] Result for 0: 97.0068 (0) (0.0030s-)\u001b[0m\r\n\u001b[36m[2018-08-23 09:05:23] [DBG] [-1/] [c1] Result for 1: 79.6561 (0) (0.0018s-)\u001b[0m\r\n"
     ]
    },
    {
     "name": "stdout",
     "output_type": "stream",
     "text": [
      "\u001b[36m[2018-08-23 09:05:23] [DBG] [-1/] [c2] Result for 2: 99.585 (0) (0.0007s-)\u001b[0m\r\n\u001b[36m[2018-08-23 09:05:23] [DBG] [-1/] [c3] Result for 3: 86.4944 (0) (0.0031s-)\u001b[0m\r\n\u001b[36m[2018-08-23 09:05:23] [DBG] [-1/] [c0] Result for 0: 97.0068 (0) (0.0212s+)\u001b[0m\r\n\u001b[36m[2018-08-23 09:05:23] [DBG] [-1/] [c1] Result for 1: 79.6561 (0) (0.0075s+)\u001b[0m"
     ]
    },
    {
     "name": "stdout",
     "output_type": "stream",
     "text": [
      "\r\n\u001b[36m[2018-08-23 09:05:23] [DBG] [-1/] [c2] Result for 2: 99.585 (0) (0.0172s+)\u001b[0m\r\n"
     ]
    },
    {
     "name": "stdout",
     "output_type": "stream",
     "text": [
      "\u001b[36m[2018-08-23 09:05:23] [DBG] [-1/] [c3] Result for 3: 86.4944 (0) (0.0212s+)\u001b[0m\r\n\u001b[32m[2018-08-23 09:05:23] [INF] [-1/] [o0i58] iter: 58 cost: -362.742 time_iter: wall: 0.235162s cpu: 0.106396s time_optim: wall: 9.4368s cpu: 4.79966s\u001b[0m\r\n  58 -3.6274224e+02 0.00e+00 5.53e-01 -11.0 1.38e-01    -  1.00e+00 1.56e-02f  7\r\n\u001b[36m[2018-08-23 09:05:23] [DBG] [-1/] [c0] Result for 0: 96.914 (0) (0.0007s-)\u001b[0m\r\n\u001b[36m[2018-08-23 09:05:23] [DBG] [-1/] [c1] Result for 1: 79.7605 (0) (0.0007s-)\u001b[0m\r\n\u001b[36m[2018-08-23 09:05:23] [DBG] [-1/] [c2] Result for 2: 99.3698 (0) (0.0007s-)\u001b[0m\r\n\u001b[36m[2018-08-23 09:05:23] [DBG] [-1/] [c3] Result for 3: 86.6845 (0) (0.0007s-)\u001b[0m\r\n\u001b[36m[2018-08-23 09:05:23] [DBG] [-1/] [c0] Result for 0: 96.914 (0) (0.0007s-)\u001b[0m\r\n\u001b[36m[2018-08-23 09:05:23] [DBG] [-1/] [c1] Result for 1: 79.7605 (0) (0.0009s-)\u001b[0m\r\n\u001b[36m[2018-08-23 09:05:23] [DBG] [-1/] [c2] Result for 2: 99.3698 (0) (0.0008s-)\u001b[0m\r\n\u001b[36m[2018-08-23 09:05:23] [DBG] [-1/] [c3] Result for 3: 86.6845 (0) (0.0008s-)\u001b[0m\r\n\u001b[36m[2018-08-23 09:05:23] [DBG] [-1/] [c0] Result for 0: 96.9616 (0) (0.0007s-)\u001b[0m\r\n\u001b[36m[2018-08-23 09:05:23] [DBG] [-1/] [c1] Result for 1: 79.7085 (0) (0.0007s-)\u001b[0m\r\n\u001b[36m[2018-08-23 09:05:23] [DBG] [-1/] [c2] Result for 2: 99.4792 (0) (0.0010s-)\u001b[0m\r\n\u001b[36m[2018-08-23 09:05:23] [DBG] [-1/] [c3] Result for 3: 86.5904 (0) (0.0007s-)\u001b[0m\r\n\u001b[36m[2018-08-23 09:05:23] [DBG] [-1/] [c0] Result for 0: 96.9845 (0) (0.0007s-)\u001b[0m"
     ]
    },
    {
     "name": "stdout",
     "output_type": "stream",
     "text": [
      "\r\n\u001b[36m[2018-08-23 09:05:23] [DBG] [-1/] [c1] Result for 1: 79.6823 (0) (0.0007s-)\u001b[0m\r\n\u001b[36m[2018-08-23 09:05:23] [DBG] [-1/] [c2] Result for 2: 99.5325 (0) (0.0007s-)\u001b[0m\r\n\u001b[36m[2018-08-23 09:05:23] [DBG] [-1/] [c3] Result for 3: 86.5426 (0) (0.0009s-)\u001b[0m\r\n\u001b[36m[2018-08-23 09:05:23] [DBG] [-1/] [c0] Result for 0: 96.9957 (0) (0.0007s-)\u001b[0m\r\n\u001b[36m[2018-08-23 09:05:23] [DBG] [-1/] [c1] Result for 1: 79.6692 (0) (0.0007s-)\u001b[0m\r\n\u001b[36m[2018-08-23 09:05:23] [DBG] [-1/] [c2] Result for 2: 99.5589 (0) (0.0035s-)\u001b[0m\r\n\u001b[36m[2018-08-23 09:05:23] [DBG] [-1/] [c3] Result for 3: 86.5186 (0) (0.0010s-)\u001b[0m\r\n\u001b[36m[2018-08-23 09:05:23] [DBG] [-1/] [c0] Result for 0: 96.9957 (0) (0.0129s+)\u001b[0m\r\n"
     ]
    },
    {
     "name": "stdout",
     "output_type": "stream",
     "text": [
      "\u001b[36m[2018-08-23 09:05:23] [DBG] [-1/] [c1] Result for 1: 79.6692 (0) (0.0180s+)\u001b[0m\r\n\u001b[36m[2018-08-23 09:05:23] [DBG] [-1/] [c2] Result for 2: 99.5589 (0) (0.0084s+)\u001b[0m\r\n"
     ]
    },
    {
     "name": "stdout",
     "output_type": "stream",
     "text": [
      "\u001b[36m[2018-08-23 09:05:23] [DBG] [-1/] [c3] Result for 3: 86.5186 (0) (0.0076s+)\u001b[0m\r\n\u001b[32m[2018-08-23 09:05:23] [INF] [-1/] [o0i59] iter: 59 cost: -362.742 time_iter: wall: 0.167465s cpu: 0.0648712s time_optim: wall: 9.60426s cpu: 4.86454s\u001b[0m\r\n  59 -3.6274238e+02 0.00e+00 6.28e-01 -11.0 1.96e-02    -  1.00e+00 1.25e-01f  4\r\n\u001b[36m[2018-08-23 09:05:23] [DBG] [-1/] [c0] Result for 0: 97.0558 (0) (0.0008s-)\u001b[0m\r\n\u001b[36m[2018-08-23 09:05:23] [DBG] [-1/] [c1] Result for 1: 80.0331 (0) (0.0008s-)\u001b[0m\r\n\u001b[36m[2018-08-23 09:05:23] [DBG] [-1/] [c2] Result for 2: 99.2621 (0) (0.0007s-)\u001b[0m\r\n\u001b[36m[2018-08-23 09:05:23] [DBG] [-1/] [c3] Result for 3: 86.1076 (0) (0.0080s-)\u001b[0m\r\n"
     ]
    },
    {
     "name": "stdout",
     "output_type": "stream",
     "text": [
      "\u001b[36m[2018-08-23 09:05:23] [DBG] [-1/] [c0] Result for 0: 97.0558 (0) (0.0007s-)\u001b[0m\r\n\u001b[36m[2018-08-23 09:05:23] [DBG] [-1/] [c1] Result for 1: 80.0331 (0) (0.0007s-)\u001b[0m\r\n\u001b[36m[2018-08-23 09:05:23] [DBG] [-1/] [c2] Result for 2: 99.2621 (0) (0.0007s-)\u001b[0m\r\n\u001b[36m[2018-08-23 09:05:23] [DBG] [-1/] [c3] Result for 3: 86.1076 (0) (0.0007s-)\u001b[0m\r\n\u001b[36m[2018-08-23 09:05:23] [DBG] [-1/] [c0] Result for 0: 97.0498 (0) (0.0007s-)\u001b[0m\r\n\u001b[36m[2018-08-23 09:05:23] [DBG] [-1/] [c1] Result for 1: 79.8459 (0) (0.0009s-)\u001b[0m\r\n\u001b[36m[2018-08-23 09:05:23] [DBG] [-1/] [c2] Result for 2: 99.4363 (0) (0.0012s-)\u001b[0m\r\n\u001b[36m[2018-08-23 09:05:23] [DBG] [-1/] [c3] Result for 3: 86.3516 (0) (0.0007s-)\u001b[0m\r\n\u001b[36m[2018-08-23 09:05:23] [DBG] [-1/] [c0] Result for 0: 97.0279 (0) (0.0007s-)\u001b[0m\r\n\u001b[36m[2018-08-23 09:05:23] [DBG] [-1/] [c1] Result for 1: 79.7558 (0) (0.0007s-)\u001b[0m\r\n\u001b[36m[2018-08-23 09:05:23] [DBG] [-1/] [c2] Result for 2: 99.5032 (0) (0.0007s-)\u001b[0m\r\n\u001b[36m[2018-08-23 09:05:23] [DBG] [-1/] [c3] Result for 3: 86.4437 (0) (0.0008s-)\u001b[0m\r\n\u001b[36m[2018-08-23 09:05:23] [DBG] [-1/] [c0] Result for 0: 97.013 (0) (0.0011s-)\u001b[0m\r\n\u001b[36m[2018-08-23 09:05:23] [DBG] [-1/] [c1] Result for 1: 79.712 (0) (0.0009s-)\u001b[0m\r\n\u001b[36m[2018-08-23 09:05:23] [DBG] [-1/] [c2] Result for 2: 99.5324 (0) (0.0010s-)\u001b[0m\r\n\u001b[36m[2018-08-23 09:05:23] [DBG] [-1/] [c3] Result for 3: 86.4832 (0) (0.0007s-)\u001b[0m\r\n\u001b[36m[2018-08-23 09:05:23] [DBG] [-1/] [c0] Result for 0: 97.0047 (0) (0.0007s-)\u001b[0m\r\n\u001b[36m[2018-08-23 09:05:23] [DBG] [-1/] [c1] Result for 1: 79.6905 (0) (0.0051s-)\u001b[0m\r\n\u001b[36m[2018-08-23 09:05:23] [DBG] [-1/] [c2] Result for 2: 99.5459 (0) (0.0007s-)\u001b[0m\r\n\u001b[36m[2018-08-23 09:05:23] [DBG] [-1/] [c3] Result for 3: 86.5014 (0) (0.0011s-)\u001b[0m\r\n"
     ]
    },
    {
     "name": "stdout",
     "output_type": "stream",
     "text": [
      "\u001b[36m[2018-08-23 09:05:23] [DBG] [-1/] [c0] Result for 0: 97.0047 (0) (0.0169s+)\u001b[0m\r\n\u001b[36m[2018-08-23 09:05:24] [DBG] [-1/] [c1] Result for 1: 79.6905 (0) (0.0177s+)\u001b[0m\r\n"
     ]
    },
    {
     "name": "stdout",
     "output_type": "stream",
     "text": [
      "\u001b[36m[2018-08-23 09:05:24] [DBG] [-1/] [c2] Result for 2: 99.5459 (0) (0.0168s+)\u001b[0m\r\n\u001b[36m[2018-08-23 09:05:24] [DBG] [-1/] [c3] Result for 3: 86.5014 (0) (0.0175s+)\u001b[0m\r\n\u001b[32m[2018-08-23 09:05:24] [INF] [-1/] [o0i60] iter: 60 cost: -362.742 time_iter: wall: 0.180313s cpu: 0.0997178s time_optim: wall: 9.78458s cpu: 4.96425s\u001b[0m"
     ]
    },
    {
     "name": "stdout",
     "output_type": "stream",
     "text": [
      "\r\niter    objective    inf_pr   inf_du lg(mu)  ||d||  lg(rg) alpha_du alpha_pr  ls\r\n  60 -3.6274249e+02 0.00e+00 5.12e-01 -11.0 8.48e-02    -  1.00e+00 6.25e-02f  5\r\n\u001b[36m[2018-08-23 09:05:24] [DBG] [-1/] [c0] Result for 0: 97.0072 (0) (0.0007s-)\u001b[0m\r\n\u001b[36m[2018-08-23 09:05:24] [DBG] [-1/] [c1] Result for 1: 79.7472 (0) (0.0010s-)\u001b[0m\r\n\u001b[36m[2018-08-23 09:05:24] [DBG] [-1/] [c2] Result for 2: 99.5234 (0) (0.0019s-)\u001b[0m\r\n\u001b[36m[2018-08-23 09:05:24] [DBG] [-1/] [c3] Result for 3: 86.4581 (0) (0.0008s-)\u001b[0m\r\n\u001b[36m[2018-08-23 09:05:24] [DBG] [-1/] [c0] Result for 0: 97.0072 (0) (0.0007s-)\u001b[0m\r\n\u001b[36m[2018-08-23 09:05:24] [DBG] [-1/] [c1] Result for 1: 79.7472 (0) (0.0007s-)\u001b[0m\r\n\u001b[36m[2018-08-23 09:05:24] [DBG] [-1/] [c2] Result for 2: 99.5234 (0) (0.0022s-)\u001b[0m\r\n\u001b[36m[2018-08-23 09:05:24] [DBG] [-1/] [c3] Result for 3: 86.4581 (0) (0.0011s-)\u001b[0m\r\n\u001b[36m[2018-08-23 09:05:24] [DBG] [-1/] [c0] Result for 0: 97.0065 (0) (0.0007s-)\u001b[0m\r\n\u001b[36m[2018-08-23 09:05:24] [DBG] [-1/] [c1] Result for 1: 79.7188 (0) (0.0008s-)\u001b[0m\r\n\u001b[36m[2018-08-23 09:05:24] [DBG] [-1/] [c2] Result for 2: 99.5356 (0) (0.0010s-)\u001b[0m\r\n\u001b[36m[2018-08-23 09:05:24] [DBG] [-1/] [c3] Result for 3: 86.4803 (0) (0.0048s-)\u001b[0m"
     ]
    },
    {
     "name": "stdout",
     "output_type": "stream",
     "text": [
      "\r\n\u001b[36m[2018-08-23 09:05:24] [DBG] [-1/] [c0] Result for 0: 97.0057 (0) (0.0007s-)\u001b[0m\r\n\u001b[36m[2018-08-23 09:05:24] [DBG] [-1/] [c1] Result for 1: 79.7046 (0) (0.0007s-)\u001b[0m\r\n\u001b[36m[2018-08-23 09:05:24] [DBG] [-1/] [c2] Result for 2: 99.541 (0) (0.0007s-)\u001b[0m\r\n\u001b[36m[2018-08-23 09:05:24] [DBG] [-1/] [c3] Result for 3: 86.491 (0) (0.0025s-)\u001b[0m\r\n\u001b[36m[2018-08-23 09:05:24] [DBG] [-1/] [c0] Result for 0: 97.0052 (0) (0.0007s-)\u001b[0m\r\n\u001b[36m[2018-08-23 09:05:24] [DBG] [-1/] [c1] Result for 1: 79.6976 (0) (0.0009s-)\u001b[0m\r\n\u001b[36m[2018-08-23 09:05:24] [DBG] [-1/] [c2] Result for 2: 99.5435 (0) (0.0007s-)\u001b[0m\r\n\u001b[36m[2018-08-23 09:05:24] [DBG] [-1/] [c3] Result for 3: 86.4962 (0) (0.0007s-)\u001b[0m\r\n\u001b[36m[2018-08-23 09:05:24] [DBG] [-1/] [c0] Result for 0: 97.0052 (0) (0.0120s+)\u001b[0m\r\n"
     ]
    },
    {
     "name": "stdout",
     "output_type": "stream",
     "text": [
      "\u001b[36m[2018-08-23 09:05:24] [DBG] [-1/] [c1] Result for 1: 79.6976 (0) (0.0157s+)\u001b[0m\r\n\u001b[36m[2018-08-23 09:05:24] [DBG] [-1/] [c2] Result for 2: 99.5435 (0) (0.0175s+)\u001b[0m\r\n"
     ]
    },
    {
     "name": "stdout",
     "output_type": "stream",
     "text": [
      "\u001b[36m[2018-08-23 09:05:24] [DBG] [-1/] [c3] Result for 3: 86.4962 (0) (0.0191s+)\u001b[0m\r\n\u001b[32m[2018-08-23 09:05:24] [INF] [-1/] [o0i61] iter: 61 cost: -362.743 time_iter: wall: 0.176571s cpu: 0.0882291s time_optim: wall: 9.96115s cpu: 5.05248s\u001b[0m\r\n  61 -3.6274251e+02 0.00e+00 5.58e-01 -11.0 1.60e-02    -  1.00e+00 1.25e-01f  4\r\n\u001b[36m[2018-08-23 09:05:24] [DBG] [-1/] [c0] Result for 0: 96.8828 (0) (0.0007s-)\u001b[0m\r\n\u001b[36m[2018-08-23 09:05:24] [DBG] [-1/] [c1] Result for 1: 79.3323 (0) (0.0008s-)\u001b[0m\r\n\u001b[36m[2018-08-23 09:05:24] [DBG] [-1/] [c2] Result for 2: 100.105 (0) (0.0011s-)\u001b[0m\r\n\u001b[36m[2018-08-23 09:05:24] [DBG] [-1/] [c3] Result for 3: 85.9044 (0) (0.0007s-)\u001b[0m\r\n\u001b[36m[2018-08-23 09:05:24] [DBG] [-1/] [c0] Result for 0: 96.8828 (0) (0.0043s-)\u001b[0m\r\n\u001b[36m[2018-08-23 09:05:24] [DBG] [-1/] [c1] Result for 1: 79.3323 (0) (0.0021s-)\u001b[0m\r\n\u001b[36m[2018-08-23 09:05:24] [DBG] [-1/] [c2] Result for 2: 100.105 (0) (0.0008s-)\u001b[0m\r\n\u001b[36m[2018-08-23 09:05:24] [DBG] [-1/] [c3] Result for 3: 85.9044 (0) (0.0009s-)\u001b[0m\r\n\u001b[36m[2018-08-23 09:05:24] [DBG] [-1/] [c0] Result for 0: 96.9955 (0) (0.0007s-)\u001b[0m"
     ]
    },
    {
     "name": "stdout",
     "output_type": "stream",
     "text": [
      "\r\n\u001b[36m[2018-08-23 09:05:24] [DBG] [-1/] [c1] Result for 1: 79.4589 (0) (0.0008s-)\u001b[0m\r\n\u001b[36m[2018-08-23 09:05:24] [DBG] [-1/] [c2] Result for 2: 99.8609 (0) (0.0008s-)\u001b[0m\r\n\u001b[36m[2018-08-23 09:05:24] [DBG] [-1/] [c3] Result for 3: 86.2856 (0) (0.0007s-)\u001b[0m\r\n\u001b[36m[2018-08-23 09:05:24] [DBG] [-1/] [c0] Result for 0: 97.0144 (0) (0.0008s-)\u001b[0m\r\n\u001b[36m[2018-08-23 09:05:24] [DBG] [-1/] [c1] Result for 1: 79.5666 (0) (0.0008s-)\u001b[0m\r\n\u001b[36m[2018-08-23 09:05:24] [DBG] [-1/] [c2] Result for 2: 99.7128 (0) (0.0008s-)\u001b[0m\r\n\u001b[36m[2018-08-23 09:05:24] [DBG] [-1/] [c3] Result for 3: 86.4121 (0) (0.0008s-)\u001b[0m\r\n\u001b[36m[2018-08-23 09:05:24] [DBG] [-1/] [c0] Result for 0: 97.0135 (0) (0.0011s-)\u001b[0m\r\n\u001b[36m[2018-08-23 09:05:24] [DBG] [-1/] [c1] Result for 1: 79.6296 (0) (0.0008s-)\u001b[0m\r\n\u001b[36m[2018-08-23 09:05:24] [DBG] [-1/] [c2] Result for 2: 99.6311 (0) (0.0007s-)\u001b[0m\r\n\u001b[36m[2018-08-23 09:05:24] [DBG] [-1/] [c3] Result for 3: 86.4595 (0) (0.0007s-)\u001b[0m\r\n\u001b[36m[2018-08-23 09:05:24] [DBG] [-1/] [c0] Result for 0: 97.0103 (0) (0.0007s-)\u001b[0m\r\n\u001b[36m[2018-08-23 09:05:24] [DBG] [-1/] [c1] Result for 1: 79.663 (0) (0.0007s-)\u001b[0m\r\n\u001b[36m[2018-08-23 09:05:24] [DBG] [-1/] [c2] Result for 2: 99.588 (0) (0.0008s-)\u001b[0m\r\n\u001b[36m[2018-08-23 09:05:24] [DBG] [-1/] [c3] Result for 3: 86.4792 (0) (0.0007s-)\u001b[0m\r\n\u001b[36m[2018-08-23 09:05:24] [DBG] [-1/] [c0] Result for 0: 97.008 (0) (0.0007s-)\u001b[0m\r\n\u001b[36m[2018-08-23 09:05:24] [DBG] [-1/] [c1] Result for 1: 79.6801 (0) (0.0015s-)\u001b[0m"
     ]
    },
    {
     "name": "stdout",
     "output_type": "stream",
     "text": [
      "\r\n\u001b[36m[2018-08-23 09:05:24] [DBG] [-1/] [c2] Result for 2: 99.566 (0) (0.0009s-)\u001b[0m\r\n\u001b[36m[2018-08-23 09:05:24] [DBG] [-1/] [c3] Result for 3: 86.4881 (0) (0.0009s-)\u001b[0m\r\n\u001b[36m[2018-08-23 09:05:24] [DBG] [-1/] [c0] Result for 0: 97.0067 (0) (0.0007s-)\u001b[0m\r\n\u001b[36m[2018-08-23 09:05:24] [DBG] [-1/] [c1] Result for 1: 79.6888 (0) (0.0007s-)\u001b[0m\r\n\u001b[36m[2018-08-23 09:05:24] [DBG] [-1/] [c2] Result for 2: 99.5548 (0) (0.0007s-)\u001b[0m\r\n\u001b[36m[2018-08-23 09:05:24] [DBG] [-1/] [c3] Result for 3: 86.4922 (0) (0.0007s-)\u001b[0m\r\n\u001b[36m[2018-08-23 09:05:24] [DBG] [-1/] [c0] Result for 0: 97.006 (0) (0.0007s-)\u001b[0m\r\n\u001b[36m[2018-08-23 09:05:24] [DBG] [-1/] [c1] Result for 1: 79.6932 (0) (0.0016s-)\u001b[0m\r\n\u001b[36m[2018-08-23 09:05:24] [DBG] [-1/] [c2] Result for 2: 99.5492 (0) (0.0028s-)\u001b[0m\r\n\u001b[36m[2018-08-23 09:05:24] [DBG] [-1/] [c3] Result for 3: 86.4942 (0) (0.0007s-)\u001b[0m\r\n\u001b[36m[2018-08-23 09:05:24] [DBG] [-1/] [c0] Result for 0: 97.006 (0) (0.0182s+)\u001b[0m\r\n"
     ]
    },
    {
     "name": "stdout",
     "output_type": "stream",
     "text": [
      "\u001b[36m[2018-08-23 09:05:24] [DBG] [-1/] [c1] Result for 1: 79.6932 (0) (0.0191s+)\u001b[0m\r\n\u001b[36m[2018-08-23 09:05:24] [DBG] [-1/] [c2] Result for 2: 99.5492 (0) (0.0092s+)\u001b[0m\r\n"
     ]
    },
    {
     "name": "stdout",
     "output_type": "stream",
     "text": [
      "\u001b[36m[2018-08-23 09:05:24] [DBG] [-1/] [c3] Result for 3: 86.4942 (0) (0.0196s+)\u001b[0m\r\n\u001b[32m[2018-08-23 09:05:24] [INF] [-1/] [o0i62] iter: 62 cost: -362.743 time_iter: wall: 0.226755s cpu: 0.102307s time_optim: wall: 10.1879s cpu: 5.15479s\u001b[0m\r\n  62 -3.6274255e+02 0.00e+00 5.88e-01 -11.0 1.42e-01    -  1.00e+00 7.81e-03f  8\r\n\u001b[36m[2018-08-23 09:05:24] [DBG] [-1/] [c0] Result for 0: 96.4903 (0) (0.0008s-)\u001b[0m\r\n\u001b[36m[2018-08-23 09:05:24] [DBG] [-1/] [c1] Result for 1: 79.894 (0) (0.0010s-)\u001b[0m\r\n\u001b[36m[2018-08-23 09:05:24] [DBG] [-1/] [c2] Result for 2: 99.8573 (0) (0.0023s-)\u001b[0m\r\n\u001b[36m[2018-08-23 09:05:24] [DBG] [-1/] [c3] Result for 3: 85.8465 (0) (0.0008s-)\u001b[0m\r\n\u001b[36m[2018-08-23 09:05:24] [DBG] [-1/] [c0] Result for 0: 96.4903 (0) (0.0007s-)\u001b[0m\r\n\u001b[36m[2018-08-23 09:05:24] [DBG] [-1/] [c1] Result for 1: 79.894 (0) (0.0008s-)\u001b[0m\r\n\u001b[36m[2018-08-23 09:05:24] [DBG] [-1/] [c2] Result for 2: 99.8573 (0) (0.0033s-)\u001b[0m\r\n\u001b[36m[2018-08-23 09:05:24] [DBG] [-1/] [c3] Result for 3: 85.8465 (0) (0.0011s-)\u001b[0m\r\n\u001b[36m[2018-08-23 09:05:24] [DBG] [-1/] [c0] Result for 0: 96.7943 (0) (0.0007s-)\u001b[0m"
     ]
    },
    {
     "name": "stdout",
     "output_type": "stream",
     "text": [
      "\r\n\u001b[36m[2018-08-23 09:05:24] [DBG] [-1/] [c1] Result for 1: 79.8213 (0) (0.0007s-)\u001b[0m\r\n\u001b[36m[2018-08-23 09:05:24] [DBG] [-1/] [c2] Result for 2: 99.7486 (0) (0.0008s-)\u001b[0m\r\n\u001b[36m[2018-08-23 09:05:24] [DBG] [-1/] [c3] Result for 3: 86.2205 (0) (0.0008s-)\u001b[0m\r\n\u001b[36m[2018-08-23 09:05:24] [DBG] [-1/] [c0] Result for 0: 96.9113 (0) (0.0032s-)\u001b[0m\r\n\u001b[36m[2018-08-23 09:05:24] [DBG] [-1/] [c1] Result for 1: 79.764 (0) (0.0010s-)\u001b[0m\r\n\u001b[36m[2018-08-23 09:05:24] [DBG] [-1/] [c2] Result for 2: 99.6598 (0) (0.0009s-)\u001b[0m\r\n\u001b[36m[2018-08-23 09:05:24] [DBG] [-1/] [c3] Result for 3: 86.3695 (0) (0.0010s-)\u001b[0m\r\n\u001b[36m[2018-08-23 09:05:24] [DBG] [-1/] [c0] Result for 0: 96.9614 (0) (0.0007s-)\u001b[0m\r\n\u001b[36m[2018-08-23 09:05:24] [DBG] [-1/] [c1] Result for 1: 79.7302 (0) (0.0007s-)\u001b[0m\r\n\u001b[36m[2018-08-23 09:05:24] [DBG] [-1/] [c2] Result for 2: 99.6072 (0) (0.0008s-)\u001b[0m\r\n\u001b[36m[2018-08-23 09:05:24] [DBG] [-1/] [c3] Result for 3: 86.4349 (0) (0.0022s-)\u001b[0m\r\n\u001b[36m[2018-08-23 09:05:24] [DBG] [-1/] [c0] Result for 0: 96.9843 (0) (0.0007s-)\u001b[0m\r\n\u001b[36m[2018-08-23 09:05:24] [DBG] [-1/] [c1] Result for 1: 79.7121 (0) (0.0008s-)\u001b[0m\r\n\u001b[36m[2018-08-23 09:05:24] [DBG] [-1/] [c2] Result for 2: 99.5789 (0) (0.0008s-)\u001b[0m\r\n"
     ]
    },
    {
     "name": "stdout",
     "output_type": "stream",
     "text": [
      "\u001b[36m[2018-08-23 09:05:24] [DBG] [-1/] [c3] Result for 3: 86.4653 (0) (0.0008s-)\u001b[0m\r\n\u001b[36m[2018-08-23 09:05:24] [DBG] [-1/] [c0] Result for 0: 96.9953 (0) (0.0007s-)\u001b[0m\r\n\u001b[36m[2018-08-23 09:05:24] [DBG] [-1/] [c1] Result for 1: 79.7027 (0) (0.0007s-)\u001b[0m\r\n\u001b[36m[2018-08-23 09:05:24] [DBG] [-1/] [c2] Result for 2: 99.5642 (0) (0.0007s-)\u001b[0m\r\n\u001b[36m[2018-08-23 09:05:24] [DBG] [-1/] [c3] Result for 3: 86.48 (0) (0.0007s-)\u001b[0m\r\n\u001b[36m[2018-08-23 09:05:24] [DBG] [-1/] [c0] Result for 0: 97.0007 (0) (0.0032s-)\u001b[0m\r\n\u001b[36m[2018-08-23 09:05:24] [DBG] [-1/] [c1] Result for 1: 79.698 (0) (0.0027s-)\u001b[0m\r\n\u001b[36m[2018-08-23 09:05:24] [DBG] [-1/] [c2] Result for 2: 99.5567 (0) (0.0007s-)\u001b[0m\r\n\u001b[36m[2018-08-23 09:05:24] [DBG] [-1/] [c3] Result for 3: 86.4871 (0) (0.0007s-)\u001b[0m\r\n\u001b[36m[2018-08-23 09:05:24] [DBG] [-1/] [c0] Result for 0: 97.0033 (0) (0.0007s-)\u001b[0m\r\n\u001b[36m[2018-08-23 09:05:24] [DBG] [-1/] [c1] Result for 1: 79.6956 (0) (0.0007s-)\u001b[0m\r\n\u001b[36m[2018-08-23 09:05:24] [DBG] [-1/] [c2] Result for 2: 99.5529 (0) (0.0007s-)\u001b[0m\r\n\u001b[36m[2018-08-23 09:05:24] [DBG] [-1/] [c3] Result for 3: 86.4907 (0) (0.0007s-)\u001b[0m\r\n\u001b[36m[2018-08-23 09:05:24] [DBG] [-1/] [c0] Result for 0: 97.0033 (0) (0.0079s+)\u001b[0m\r\n\u001b[36m[2018-08-23 09:05:24] [DBG] [-1/] [c1] Result for 1: 79.6956 (0) (0.0074s+)\u001b[0m"
     ]
    },
    {
     "name": "stdout",
     "output_type": "stream",
     "text": [
      "\r\n\u001b[36m[2018-08-23 09:05:24] [DBG] [-1/] [c2] Result for 2: 99.5529 (0) (0.0178s+)\u001b[0m\r\n"
     ]
    },
    {
     "name": "stdout",
     "output_type": "stream",
     "text": [
      "\u001b[36m[2018-08-23 09:05:24] [DBG] [-1/] [c3] Result for 3: 86.4907 (0) (0.0149s+)\u001b[0m\r\n\u001b[32m[2018-08-23 09:05:24] [INF] [-1/] [o0i63] iter: 63 cost: -362.743 time_iter: wall: 0.217554s cpu: 0.0884064s time_optim: wall: 10.4055s cpu: 5.2432s\u001b[0m\r\n  63 -3.6274258e+02 0.00e+00 5.43e-01 -11.0 6.50e-02    -  1.00e+00 7.81e-03f  8\r\n\u001b[36m[2018-08-23 09:05:24] [DBG] [-1/] [c0] Result for 0: 97.0777 (0) (0.0013s-)\u001b[0m\r\n\u001b[36m[2018-08-23 09:05:24] [DBG] [-1/] [c1] Result for 1: 79.7842 (0) (0.0085s-)\u001b[0m\r\n\u001b[36m[2018-08-23 09:05:24] [DBG] [-1/] [c2] Result for 2: 99.4755 (0) (0.0009s-)\u001b[0m\r\n\u001b[36m[2018-08-23 09:05:24] [DBG] [-1/] [c3] Result for 3: 86.3475 (0) (0.0007s-)\u001b[0m\r\n\u001b[36m[2018-08-23 09:05:24] [DBG] [-1/] [c0] Result for 0: 97.0777 (0) (0.0007s-)\u001b[0m\r\n\u001b[36m[2018-08-23 09:05:24] [DBG] [-1/] [c1] Result for 1: 79.7842 (0) (0.0007s-)\u001b[0m\r\n\u001b[36m[2018-08-23 09:05:24] [DBG] [-1/] [c2] Result for 2: 99.4755 (0) (0.0007s-)\u001b[0m\r\n\u001b[36m[2018-08-23 09:05:24] [DBG] [-1/] [c3] Result for 3: 86.3475 (0) (0.0010s-)\u001b[0m\r\n"
     ]
    },
    {
     "name": "stdout",
     "output_type": "stream",
     "text": [
      "\u001b[36m[2018-08-23 09:05:24] [DBG] [-1/] [c0] Result for 0: 97.043 (0) (0.0106s-)\u001b[0m\r\n\u001b[36m[2018-08-23 09:05:24] [DBG] [-1/] [c1] Result for 1: 79.7445 (0) (0.0010s-)\u001b[0m\r\n\u001b[36m[2018-08-23 09:05:24] [DBG] [-1/] [c2] Result for 2: 99.517 (0) (0.0007s-)\u001b[0m\r\n\u001b[36m[2018-08-23 09:05:24] [DBG] [-1/] [c3] Result for 3: 86.4245 (0) (0.0007s-)\u001b[0m\r\n\u001b[36m[2018-08-23 09:05:24] [DBG] [-1/] [c0] Result for 0: 97.0238 (0) (0.0007s-)\u001b[0m\r\n\u001b[36m[2018-08-23 09:05:24] [DBG] [-1/] [c1] Result for 1: 79.7212 (0) (0.0007s-)\u001b[0m\r\n\u001b[36m[2018-08-23 09:05:24] [DBG] [-1/] [c2] Result for 2: 99.5357 (0) (0.0007s-)\u001b[0m\r\n\u001b[36m[2018-08-23 09:05:24] [DBG] [-1/] [c3] Result for 3: 86.4589 (0) (0.0007s-)\u001b[0m\r\n\u001b[36m[2018-08-23 09:05:24] [DBG] [-1/] [c0] Result for 0: 97.0137 (0) (0.0007s-)\u001b[0m\r\n\u001b[36m[2018-08-23 09:05:24] [DBG] [-1/] [c1] Result for 1: 79.7087 (0) (0.0007s-)\u001b[0m\r\n\u001b[36m[2018-08-23 09:05:24] [DBG] [-1/] [c2] Result for 2: 99.5445 (0) (0.0008s-)\u001b[0m\r\n\u001b[36m[2018-08-23 09:05:24] [DBG] [-1/] [c3] Result for 3: 86.4752 (0) (0.0012s-)\u001b[0m\r\n\u001b[36m[2018-08-23 09:05:24] [DBG] [-1/] [c0] Result for 0: 97.0086 (0) (0.0008s-)\u001b[0m\r\n\u001b[36m[2018-08-23 09:05:24] [DBG] [-1/] [c1] Result for 1: 79.7022 (0) (0.0007s-)\u001b[0m\r\n\u001b[36m[2018-08-23 09:05:24] [DBG] [-1/] [c2] Result for 2: 99.5488 (0) (0.0007s-)\u001b[0m\r\n\u001b[36m[2018-08-23 09:05:24] [DBG] [-1/] [c3] Result for 3: 86.483 (0) (0.0008s-)\u001b[0m\r\n\u001b[36m[2018-08-23 09:05:24] [DBG] [-1/] [c0] Result for 0: 97.006 (0) (0.0044s-)\u001b[0m\r\n\u001b[36m[2018-08-23 09:05:24] [DBG] [-1/] [c1] Result for 1: 79.6989 (0) (0.0012s-)\u001b[0m\r\n\u001b[36m[2018-08-23 09:05:24] [DBG] [-1/] [c2] Result for 2: 99.5509 (0) (0.0008s-)\u001b[0m\r\n\u001b[36m[2018-08-23 09:05:24] [DBG] [-1/] [c3] Result for 3: 86.4869 (0) (0.0013s-)\u001b[0m\r\n"
     ]
    },
    {
     "name": "stdout",
     "output_type": "stream",
     "text": [
      "\u001b[36m[2018-08-23 09:05:24] [DBG] [-1/] [c0] Result for 0: 97.006 (0) (0.0220s+)\u001b[0m\r\n\u001b[36m[2018-08-23 09:05:24] [DBG] [-1/] [c1] Result for 1: 79.6989 (0) (0.0255s+)\u001b[0m\r\n"
     ]
    },
    {
     "name": "stdout",
     "output_type": "stream",
     "text": [
      "\u001b[36m[2018-08-23 09:05:24] [DBG] [-1/] [c2] Result for 2: 99.5509 (0) (0.0176s+)\u001b[0m\r\n\u001b[36m[2018-08-23 09:05:24] [DBG] [-1/] [c3] Result for 3: 86.4869 (0) (0.0128s+)\u001b[0m\r\n\u001b[32m[2018-08-23 09:05:24] [INF] [-1/] [o0i64] iter: 64 cost: -362.743 time_iter: wall: 0.200179s cpu: 0.122294s time_optim: wall: 10.6056s cpu: 5.36549s\u001b[0m"
     ]
    },
    {
     "name": "stdout",
     "output_type": "stream",
     "text": [
      "\r\n  64 -3.6274264e+02 0.00e+00 3.78e-01 -11.0 1.62e-02    -  1.00e+00 3.12e-02f  6\r\n\u001b[36m[2018-08-23 09:05:24] [DBG] [-1/] [c0] Result for 0: 96.9579 (0) (0.0008s-)\u001b[0m\r\n\u001b[36m[2018-08-23 09:05:24] [DBG] [-1/] [c1] Result for 1: 79.7451 (0) (0.0007s-)\u001b[0m\r\n\u001b[36m[2018-08-23 09:05:24] [DBG] [-1/] [c2] Result for 2: 99.6025 (0) (0.0009s-)\u001b[0m\r\n\u001b[36m[2018-08-23 09:05:24] [DBG] [-1/] [c3] Result for 3: 86.429 (0) (0.0008s-)\u001b[0m\r\n\u001b[36m[2018-08-23 09:05:24] [DBG] [-1/] [c0] Result for 0: 96.9579 (0) (0.0007s-)\u001b[0m\r\n\u001b[36m[2018-08-23 09:05:24] [DBG] [-1/] [c1] Result for 1: 79.7451 (0) (0.0007s-)\u001b[0m\r\n\u001b[36m[2018-08-23 09:05:24] [DBG] [-1/] [c2] Result for 2: 99.6025 (0) (0.0007s-)\u001b[0m\r\n\u001b[36m[2018-08-23 09:05:24] [DBG] [-1/] [c3] Result for 3: 86.429 (0) (0.0007s-)\u001b[0m\r\n\u001b[36m[2018-08-23 09:05:24] [DBG] [-1/] [c0] Result for 0: 96.9827 (0) (0.0007s-)\u001b[0m\r\n\u001b[36m[2018-08-23 09:05:24] [DBG] [-1/] [c1] Result for 1: 79.7224 (0) (0.0013s-)\u001b[0m\r\n\u001b[36m[2018-08-23 09:05:24] [DBG] [-1/] [c2] Result for 2: 99.5774 (0) (0.0007s-)\u001b[0m\r\n\u001b[36m[2018-08-23 09:05:24] [DBG] [-1/] [c3] Result for 3: 86.4584 (0) (0.0007s-)\u001b[0m\r\n\u001b[36m[2018-08-23 09:05:24] [DBG] [-1/] [c0] Result for 0: 96.9945 (0) (0.0016s-)\u001b[0m\r\n\u001b[36m[2018-08-23 09:05:24] [DBG] [-1/] [c1] Result for 1: 79.7108 (0) (0.0007s-)\u001b[0m\r\n\u001b[36m[2018-08-23 09:05:24] [DBG] [-1/] [c2] Result for 2: 99.5643 (0) (0.0012s-)\u001b[0m\r\n\u001b[36m[2018-08-23 09:05:24] [DBG] [-1/] [c3] Result for 3: 86.4727 (0) (0.0007s-)\u001b[0m\r\n"
     ]
    },
    {
     "name": "stdout",
     "output_type": "stream",
     "text": [
      "\u001b[36m[2018-08-23 09:05:24] [DBG] [-1/] [c0] Result for 0: 97.0003 (0) (0.0067s-)\u001b[0m\r\n\u001b[36m[2018-08-23 09:05:24] [DBG] [-1/] [c1] Result for 1: 79.7049 (0) (0.0007s-)\u001b[0m\r\n\u001b[36m[2018-08-23 09:05:24] [DBG] [-1/] [c2] Result for 2: 99.5576 (0) (0.0010s-)\u001b[0m\r\n\u001b[36m[2018-08-23 09:05:24] [DBG] [-1/] [c3] Result for 3: 86.4798 (0) (0.0007s-)\u001b[0m\r\n\u001b[36m[2018-08-23 09:05:24] [DBG] [-1/] [c0] Result for 0: 97.0031 (0) (0.0007s-)\u001b[0m\r\n\u001b[36m[2018-08-23 09:05:24] [DBG] [-1/] [c1] Result for 1: 79.7019 (0) (0.0010s-)\u001b[0m\r\n\u001b[36m[2018-08-23 09:05:24] [DBG] [-1/] [c2] Result for 2: 99.5543 (0) (0.0009s-)\u001b[0m\r\n\u001b[36m[2018-08-23 09:05:24] [DBG] [-1/] [c3] Result for 3: 86.4834 (0) (0.0007s-)\u001b[0m\r\n\u001b[36m[2018-08-23 09:05:24] [DBG] [-1/] [c0] Result for 0: 97.0031 (0) (0.0199s+)\u001b[0m\r\n"
     ]
    },
    {
     "name": "stdout",
     "output_type": "stream",
     "text": [
      "\u001b[36m[2018-08-23 09:05:25] [DBG] [-1/] [c1] Result for 1: 79.7019 (0) (0.0219s+)\u001b[0m\r\n"
     ]
    },
    {
     "name": "stdout",
     "output_type": "stream",
     "text": [
      "\u001b[36m[2018-08-23 09:05:25] [DBG] [-1/] [c2] Result for 2: 99.5543 (0) (0.0186s+)\u001b[0m\r\n\u001b[36m[2018-08-23 09:05:25] [DBG] [-1/] [c3] Result for 3: 86.4834 (0) (0.0162s+)\u001b[0m\r\n\u001b[32m[2018-08-23 09:05:25] [INF] [-1/] [o0i65] iter: 65 cost: -362.743 time_iter: wall: 0.199913s cpu: 0.102819s time_optim: wall: 10.8055s cpu: 5.46831s\u001b[0m\r\n  65 -3.6274267e+02 0.00e+00 4.70e-01 -11.0 2.28e-03    -  1.00e+00 6.25e-02f  5\r\n\u001b[36m[2018-08-23 09:05:25] [DBG] [-1/] [c0] Result for 0: 97.0021 (0) (0.0008s-)\u001b[0m\r\n\u001b[36m[2018-08-23 09:05:25] [DBG] [-1/] [c1] Result for 1: 79.6867 (0) (0.0007s-)\u001b[0m\r\n\u001b[36m[2018-08-23 09:05:25] [DBG] [-1/] [c2] Result for 2: 99.5568 (0) (0.0007s-)\u001b[0m"
     ]
    },
    {
     "name": "stdout",
     "output_type": "stream",
     "text": [
      "\r\n\u001b[36m[2018-08-23 09:05:25] [DBG] [-1/] [c3] Result for 3: 86.4971 (0) (0.0008s-)\u001b[0m\r\n\u001b[36m[2018-08-23 09:05:25] [DBG] [-1/] [c0] Result for 0: 97.0021 (0) (0.0132s+)\u001b[0m\r\n\u001b[36m[2018-08-23 09:05:25] [DBG] [-1/] [c1] Result for 1: 79.6867 (0) (0.0178s+)\u001b[0m\r\n"
     ]
    },
    {
     "name": "stdout",
     "output_type": "stream",
     "text": [
      "\u001b[36m[2018-08-23 09:05:25] [DBG] [-1/] [c2] Result for 2: 99.5568 (0) (0.0120s+)\u001b[0m\r\n\u001b[36m[2018-08-23 09:05:25] [DBG] [-1/] [c3] Result for 3: 86.4971 (0) (0.0176s+)\u001b[0m\r\n\u001b[32m[2018-08-23 09:05:25] [INF] [-1/] [o0i66] iter: 66 cost: -362.743 time_iter: wall: 0.124814s cpu: 0.0634672s time_optim: wall: 10.9304s cpu: 5.53178s\u001b[0m"
     ]
    },
    {
     "name": "stdout",
     "output_type": "stream",
     "text": [
      "\r\n  66 -3.6274280e+02 0.00e+00 9.05e-02 -11.0 3.50e-03    -  1.00e+00 1.00e+00f  1\r\n\u001b[36m[2018-08-23 09:05:25] [DBG] [-1/] [c0] Result for 0: 97.1042 (0) (0.0008s-)\u001b[0m\r\n\u001b[36m[2018-08-23 09:05:25] [DBG] [-1/] [c1] Result for 1: 79.547 (0) (0.0007s-)\u001b[0m\r\n\u001b[36m[2018-08-23 09:05:25] [DBG] [-1/] [c2] Result for 2: 99.8013 (0) (0.0009s-)\u001b[0m\r\n\u001b[36m[2018-08-23 09:05:25] [DBG] [-1/] [c3] Result for 3: 86.2632 (0) (0.0007s-)\u001b[0m\r\n\u001b[36m[2018-08-23 09:05:25] [DBG] [-1/] [c0] Result for 0: 97.1042 (0) (0.0007s-)\u001b[0m\r\n\u001b[36m[2018-08-23 09:05:25] [DBG] [-1/] [c1] Result for 1: 79.547 (0) (0.0008s-)\u001b[0m\r\n\u001b[36m[2018-08-23 09:05:25] [DBG] [-1/] [c2] Result for 2: 99.8013 (0) (0.0008s-)\u001b[0m\r\n\u001b[36m[2018-08-23 09:05:25] [DBG] [-1/] [c3] Result for 3: 86.2632 (0) (0.0010s-)\u001b[0m\r\n\u001b[36m[2018-08-23 09:05:25] [DBG] [-1/] [c0] Result for 0: 97.0552 (0) (0.0007s-)\u001b[0m\r\n\u001b[36m[2018-08-23 09:05:25] [DBG] [-1/] [c1] Result for 1: 79.6163 (0) (0.0048s-)\u001b[0m\r\n\u001b[36m[2018-08-23 09:05:25] [DBG] [-1/] [c2] Result for 2: 99.6827 (0) (0.0007s-)\u001b[0m\r\n\u001b[36m[2018-08-23 09:05:25] [DBG] [-1/] [c3] Result for 3: 86.382 (0) (0.0011s-)\u001b[0m\r\n\u001b[36m[2018-08-23 09:05:25] [DBG] [-1/] [c0] Result for 0: 97.0291 (0) (0.0032s-)\u001b[0m\r\n\u001b[36m[2018-08-23 09:05:25] [DBG] [-1/] [c1] Result for 1: 79.6514 (0) (0.0031s-)\u001b[0m"
     ]
    },
    {
     "name": "stdout",
     "output_type": "stream",
     "text": [
      "\r\n\u001b[36m[2018-08-23 09:05:25] [DBG] [-1/] [c2] Result for 2: 99.6207 (0) (0.0008s-)\u001b[0m\r\n\u001b[36m[2018-08-23 09:05:25] [DBG] [-1/] [c3] Result for 3: 86.44 (0) (0.0008s-)\u001b[0m\r\n\u001b[36m[2018-08-23 09:05:25] [DBG] [-1/] [c0] Result for 0: 97.0157 (0) (0.0007s-)\u001b[0m\r\n\u001b[36m[2018-08-23 09:05:25] [DBG] [-1/] [c1] Result for 1: 79.669 (0) (0.0009s-)\u001b[0m\r\n\u001b[36m[2018-08-23 09:05:25] [DBG] [-1/] [c2] Result for 2: 99.589 (0) (0.0013s-)\u001b[0m\r\n\u001b[36m[2018-08-23 09:05:25] [DBG] [-1/] [c3] Result for 3: 86.4687 (0) (0.0007s-)\u001b[0m\r\n\u001b[36m[2018-08-23 09:05:25] [DBG] [-1/] [c0] Result for 0: 97.009 (0) (0.0007s-)\u001b[0m\r\n\u001b[36m[2018-08-23 09:05:25] [DBG] [-1/] [c1] Result for 1: 79.6779 (0) (0.0008s-)\u001b[0m\r\n\u001b[36m[2018-08-23 09:05:25] [DBG] [-1/] [c2] Result for 2: 99.5729 (0) (0.0007s-)\u001b[0m\r\n\u001b[36m[2018-08-23 09:05:25] [DBG] [-1/] [c3] Result for 3: 86.4829 (0) (0.0007s-)\u001b[0m\r\n\u001b[36m[2018-08-23 09:05:25] [DBG] [-1/] [c0] Result for 0: 97.0055 (0) (0.0007s-)\u001b[0m\r\n\u001b[36m[2018-08-23 09:05:25] [DBG] [-1/] [c1] Result for 1: 79.6823 (0) (0.0007s-)\u001b[0m\r\n\u001b[36m[2018-08-23 09:05:25] [DBG] [-1/] [c2] Result for 2: 99.5649 (0) (0.0009s-)\u001b[0m\r\n\u001b[36m[2018-08-23 09:05:25] [DBG] [-1/] [c3] Result for 3: 86.49 (0) (0.0008s-)\u001b[0m\r\n\u001b[36m[2018-08-23 09:05:25] [DBG] [-1/] [c0] Result for 0: 97.0038 (0) (0.0007s-)\u001b[0m\r\n\u001b[36m[2018-08-23 09:05:25] [DBG] [-1/] [c1] Result for 1: 79.6845 (0) (0.0007s-)\u001b[0m\r\n\u001b[36m[2018-08-23 09:05:25] [DBG] [-1/] [c2] Result for 2: 99.5609 (0) (0.0007s-)\u001b[0m"
     ]
    },
    {
     "name": "stdout",
     "output_type": "stream",
     "text": [
      "\r\n\u001b[36m[2018-08-23 09:05:25] [DBG] [-1/] [c3] Result for 3: 86.4936 (0) (0.0008s-)\u001b[0m\r\n\u001b[36m[2018-08-23 09:05:25] [DBG] [-1/] [c0] Result for 0: 97.0038 (0) (0.0144s+)\u001b[0m\r\n\u001b[36m[2018-08-23 09:05:25] [DBG] [-1/] [c1] Result for 1: 79.6845 (0) (0.0133s+)\u001b[0m\r\n"
     ]
    },
    {
     "name": "stdout",
     "output_type": "stream",
     "text": [
      "\u001b[36m[2018-08-23 09:05:25] [DBG] [-1/] [c2] Result for 2: 99.5609 (0) (0.0190s+)\u001b[0m\r\n\u001b[36m[2018-08-23 09:05:25] [DBG] [-1/] [c3] Result for 3: 86.4936 (0) (0.0116s+)\u001b[0m\r\n"
     ]
    },
    {
     "name": "stdout",
     "output_type": "stream",
     "text": [
      "\u001b[32m[2018-08-23 09:05:25] [INF] [-1/] [o0i67] iter: 67 cost: -362.743 time_iter: wall: 0.22506s cpu: 0.0923559s time_optim: wall: 11.1554s cpu: 5.62413s\u001b[0m\r\n  67 -3.6274280e+02 0.00e+00 5.64e-02 -11.0 3.28e-02    -  1.00e+00 1.56e-02f  7\r\n\u001b[36m[2018-08-23 09:05:25] [DBG] [-1/] [c0] Result for 0: 97.0239 (0) (0.0011s-)\u001b[0m\r\n\u001b[36m[2018-08-23 09:05:25] [DBG] [-1/] [c1] Result for 1: 79.6738 (0) (0.0007s-)\u001b[0m\r\n\u001b[36m[2018-08-23 09:05:25] [DBG] [-1/] [c2] Result for 2: 99.5796 (0) (0.0007s-)\u001b[0m\r\n\u001b[36m[2018-08-23 09:05:25] [DBG] [-1/] [c3] Result for 3: 86.4617 (0) (0.0007s-)\u001b[0m\r\n\u001b[36m[2018-08-23 09:05:25] [DBG] [-1/] [c0] Result for 0: 97.0239 (0) (0.0007s-)\u001b[0m\r\n\u001b[36m[2018-08-23 09:05:25] [DBG] [-1/] [c1] Result for 1: 79.6738 (0) (0.0012s-)\u001b[0m\r\n\u001b[36m[2018-08-23 09:05:25] [DBG] [-1/] [c2] Result for 2: 99.5796 (0) (0.0031s-)\u001b[0m\r\n\u001b[36m[2018-08-23 09:05:25] [DBG] [-1/] [c3] Result for 3: 86.4617 (0) (0.0008s-)\u001b[0m\r\n\u001b[36m[2018-08-23 09:05:25] [DBG] [-1/] [c0] Result for 0: 97.0141 (0) (0.0007s-)\u001b[0m\r\n\u001b[36m[2018-08-23 09:05:25] [DBG] [-1/] [c1] Result for 1: 79.6794 (0) (0.0007s-)\u001b[0m\r\n\u001b[36m[2018-08-23 09:05:25] [DBG] [-1/] [c2] Result for 2: 99.5705 (0) (0.0008s-)\u001b[0m\r\n"
     ]
    },
    {
     "name": "stdout",
     "output_type": "stream",
     "text": [
      "\u001b[36m[2018-08-23 09:05:25] [DBG] [-1/] [c3] Result for 3: 86.4779 (0) (0.0052s-)\u001b[0m\r\n\u001b[36m[2018-08-23 09:05:25] [DBG] [-1/] [c0] Result for 0: 97.009 (0) (0.0007s-)\u001b[0m\r\n\u001b[36m[2018-08-23 09:05:25] [DBG] [-1/] [c1] Result for 1: 79.682 (0) (0.0008s-)\u001b[0m\r\n\u001b[36m[2018-08-23 09:05:25] [DBG] [-1/] [c2] Result for 2: 99.5657 (0) (0.0007s-)\u001b[0m\r\n\u001b[36m[2018-08-23 09:05:25] [DBG] [-1/] [c3] Result for 3: 86.4858 (0) (0.0008s-)\u001b[0m\r\n\u001b[36m[2018-08-23 09:05:25] [DBG] [-1/] [c0] Result for 0: 97.0064 (0) (0.0008s-)\u001b[0m\r\n\u001b[36m[2018-08-23 09:05:25] [DBG] [-1/] [c1] Result for 1: 79.6833 (0) (0.0035s-)\u001b[0m\r\n\u001b[36m[2018-08-23 09:05:25] [DBG] [-1/] [c2] Result for 2: 99.5633 (0) (0.0009s-)\u001b[0m\r\n\u001b[36m[2018-08-23 09:05:25] [DBG] [-1/] [c3] Result for 3: 86.4897 (0) (0.0007s-)\u001b[0m\r\n\u001b[36m[2018-08-23 09:05:25] [DBG] [-1/] [c0] Result for 0: 97.0051 (0) (0.0007s-)\u001b[0m\r\n\u001b[36m[2018-08-23 09:05:25] [DBG] [-1/] [c1] Result for 1: 79.6839 (0) (0.0007s-)\u001b[0m\r\n\u001b[36m[2018-08-23 09:05:25] [DBG] [-1/] [c2] Result for 2: 99.5621 (0) (0.0009s-)\u001b[0m\r\n\u001b[36m[2018-08-23 09:05:25] [DBG] [-1/] [c3] Result for 3: 86.4917 (0) (0.0010s-)\u001b[0m\r\n\u001b[36m[2018-08-23 09:05:25] [DBG] [-1/] [c0] Result for 0: 97.0045 (0) (0.0007s-)\u001b[0m\r\n\u001b[36m[2018-08-23 09:05:25] [DBG] [-1/] [c1] Result for 1: 79.6842 (0) (0.0007s-)\u001b[0m\r\n\u001b[36m[2018-08-23 09:05:25] [DBG] [-1/] [c2] Result for 2: 99.5615 (0) (0.0007s-)\u001b[0m\r\n\u001b[36m[2018-08-23 09:05:25] [DBG] [-1/] [c3] Result for 3: 86.4926 (0) (0.0007s-)\u001b[0m\r\n"
     ]
    },
    {
     "name": "stdout",
     "output_type": "stream",
     "text": [
      "\u001b[36m[2018-08-23 09:05:25] [DBG] [-1/] [c0] Result for 0: 97.0045 (0) (0.0158s+)\u001b[0m\r\n\u001b[36m[2018-08-23 09:05:25] [DBG] [-1/] [c1] Result for 1: 79.6842 (0) (0.0177s+)\u001b[0m\r\n"
     ]
    },
    {
     "name": "stdout",
     "output_type": "stream",
     "text": [
      "\u001b[36m[2018-08-23 09:05:25] [DBG] [-1/] [c2] Result for 2: 99.5615 (0) (0.0221s+)\u001b[0m\r\n\u001b[36m[2018-08-23 09:05:25] [DBG] [-1/] [c3] Result for 3: 86.4926 (0) (0.0222s+)\u001b[0m\r\n"
     ]
    },
    {
     "name": "stdout",
     "output_type": "stream",
     "text": [
      "\u001b[32m[2018-08-23 09:05:25] [INF] [-1/] [o0i68] iter: 68 cost: -362.743 time_iter: wall: 0.204105s cpu: 0.109291s time_optim: wall: 11.3595s cpu: 5.73342s\u001b[0m\r\n  68 -3.6274280e+02 0.00e+00 6.26e-02 -11.0 2.38e-03    -  1.00e+00 3.12e-02f  6\r\n\u001b[36m[2018-08-23 09:05:25] [DBG] [-1/] [c0] Result for 0: 97.0035 (0) (0.0007s-)\u001b[0m\r\n\u001b[36m[2018-08-23 09:05:25] [DBG] [-1/] [c1] Result for 1: 79.6838 (0) (0.0010s-)\u001b[0m\r\n\u001b[36m[2018-08-23 09:05:25] [DBG] [-1/] [c2] Result for 2: 99.5638 (0) (0.0039s-)\u001b[0m\r\n\u001b[36m[2018-08-23 09:05:25] [DBG] [-1/] [c3] Result for 3: 86.4917 (0) (0.0009s-)\u001b[0m\r\n\u001b[36m[2018-08-23 09:05:25] [DBG] [-1/] [c0] Result for 0: 97.0035 (0) (0.0007s-)\u001b[0m\r\n\u001b[36m[2018-08-23 09:05:25] [DBG] [-1/] [c1] Result for 1: 79.6838 (0) (0.0048s-)\u001b[0m\r\n\u001b[36m[2018-08-23 09:05:25] [DBG] [-1/] [c2] Result for 2: 99.5638 (0) (0.0010s-)\u001b[0m\r\n\u001b[36m[2018-08-23 09:05:25] [DBG] [-1/] [c3] Result for 3: 86.4917 (0) (0.0008s-)\u001b[0m\r\n\u001b[36m[2018-08-23 09:05:25] [DBG] [-1/] [c0] Result for 0: 97.004 (0) (0.0007s-)\u001b[0m\r\n\u001b[36m[2018-08-23 09:05:25] [DBG] [-1/] [c1] Result for 1: 79.684 (0) (0.0009s-)\u001b[0m\r\n\u001b[36m[2018-08-23 09:05:25] [DBG] [-1/] [c2] Result for 2: 99.5626 (0) (0.0007s-)\u001b[0m\r\n\u001b[36m[2018-08-23 09:05:25] [DBG] [-1/] [c3] Result for 3: 86.4922 (0) (0.0007s-)\u001b[0m\r\n\u001b[36m[2018-08-23 09:05:25] [DBG] [-1/] [c0] Result for 0: 97.0042 (0) (0.0007s-)\u001b[0m\r\n\u001b[36m[2018-08-23 09:05:25] [DBG] [-1/] [c1] Result for 1: 79.6841 (0) (0.0007s-)\u001b[0m\r\n\u001b[36m[2018-08-23 09:05:25] [DBG] [-1/] [c2] Result for 2: 99.562 (0) (0.0023s-)\u001b[0m"
     ]
    },
    {
     "name": "stdout",
     "output_type": "stream",
     "text": [
      "\r\n\u001b[36m[2018-08-23 09:05:25] [DBG] [-1/] [c3] Result for 3: 86.4924 (0) (0.0007s-)\u001b[0m\r\n\u001b[36m[2018-08-23 09:05:25] [DBG] [-1/] [c0] Result for 0: 97.0042 (0) (0.0224s+)\u001b[0m\r\n\u001b[36m[2018-08-23 09:05:25] [DBG] [-1/] [c1] Result for 1: 79.6841 (0) (0.0122s+)\u001b[0m\r\n"
     ]
    },
    {
     "name": "stdout",
     "output_type": "stream",
     "text": [
      "\u001b[36m[2018-08-23 09:05:25] [DBG] [-1/] [c2] Result for 2: 99.562 (0) (0.0169s+)\u001b[0m\r\n\u001b[36m[2018-08-23 09:05:25] [DBG] [-1/] [c3] Result for 3: 86.4924 (0) (0.0158s+)\u001b[0m"
     ]
    },
    {
     "name": "stdout",
     "output_type": "stream",
     "text": [
      "\r\n\u001b[32m[2018-08-23 09:05:25] [INF] [-1/] [o0i69] iter: 69 cost: -362.743 time_iter: wall: 0.171827s cpu: 0.0886338s time_optim: wall: 11.5314s cpu: 5.82206s\u001b[0m\r\n  69 -3.6274280e+02 0.00e+00 7.09e-02 -11.0 3.92e-04    -  1.00e+00 2.50e-01f  3\r\n\u001b[36m[2018-08-23 09:05:25] [DBG] [-1/] [c0] Result for 0: 96.9842 (0) (0.0032s-)\u001b[0m\r\n\u001b[36m[2018-08-23 09:05:25] [DBG] [-1/] [c1] Result for 1: 79.7145 (0) (0.0008s-)\u001b[0m\r\n\u001b[36m[2018-08-23 09:05:25] [DBG] [-1/] [c2] Result for 2: 99.5597 (0) (0.0010s-)\u001b[0m\r\n\u001b[36m[2018-08-23 09:05:25] [DBG] [-1/] [c3] Result for 3: 86.4829 (0) (0.0007s-)\u001b[0m\r\n\u001b[36m[2018-08-23 09:05:25] [DBG] [-1/] [c0] Result for 0: 96.9842 (0) (0.0009s-)\u001b[0m\r\n\u001b[36m[2018-08-23 09:05:25] [DBG] [-1/] [c1] Result for 1: 79.7145 (0) (0.0010s-)\u001b[0m\r\n\u001b[36m[2018-08-23 09:05:25] [DBG] [-1/] [c2] Result for 2: 99.5597 (0) (0.0009s-)\u001b[0m\r\n\u001b[36m[2018-08-23 09:05:25] [DBG] [-1/] [c3] Result for 3: 86.4829 (0) (0.0007s-)\u001b[0m\r\n\u001b[36m[2018-08-23 09:05:25] [DBG] [-1/] [c0] Result for 0: 96.9943 (0) (0.0007s-)\u001b[0m\r\n\u001b[36m[2018-08-23 09:05:25] [DBG] [-1/] [c1] Result for 1: 79.6994 (0) (0.0009s-)\u001b[0m\r\n"
     ]
    },
    {
     "name": "stdout",
     "output_type": "stream",
     "text": [
      "\u001b[36m[2018-08-23 09:05:25] [DBG] [-1/] [c2] Result for 2: 99.561 (0) (0.0069s-)\u001b[0m\r\n\u001b[36m[2018-08-23 09:05:25] [DBG] [-1/] [c3] Result for 3: 86.4878 (0) (0.0008s-)\u001b[0m\r\n\u001b[36m[2018-08-23 09:05:25] [DBG] [-1/] [c0] Result for 0: 96.9993 (0) (0.0007s-)\u001b[0m\r\n\u001b[36m[2018-08-23 09:05:25] [DBG] [-1/] [c1] Result for 1: 79.6918 (0) (0.0008s-)\u001b[0m\r\n\u001b[36m[2018-08-23 09:05:25] [DBG] [-1/] [c2] Result for 2: 99.5615 (0) (0.0007s-)\u001b[0m\r\n\u001b[36m[2018-08-23 09:05:25] [DBG] [-1/] [c3] Result for 3: 86.4901 (0) (0.0010s-)\u001b[0m\r\n\u001b[36m[2018-08-23 09:05:25] [DBG] [-1/] [c0] Result for 0: 97.0018 (0) (0.0008s-)\u001b[0m\r\n\u001b[36m[2018-08-23 09:05:25] [DBG] [-1/] [c1] Result for 1: 79.688 (0) (0.0053s-)\u001b[0m\r\n\u001b[36m[2018-08-23 09:05:25] [DBG] [-1/] [c2] Result for 2: 99.5618 (0) (0.0007s-)\u001b[0m\r\n\u001b[36m[2018-08-23 09:05:25] [DBG] [-1/] [c3] Result for 3: 86.4913 (0) (0.0007s-)\u001b[0m\r\n\u001b[36m[2018-08-23 09:05:25] [DBG] [-1/] [c0] Result for 0: 97.003 (0) (0.0009s-)\u001b[0m\r\n\u001b[36m[2018-08-23 09:05:25] [DBG] [-1/] [c1] Result for 1: 79.686 (0) (0.0007s-)\u001b[0m\r\n\u001b[36m[2018-08-23 09:05:25] [DBG] [-1/] [c2] Result for 2: 99.5619 (0) (0.0007s-)\u001b[0m\r\n\u001b[36m[2018-08-23 09:05:25] [DBG] [-1/] [c3] Result for 3: 86.4918 (0) (0.0010s-)\u001b[0m\r\n\u001b[36m[2018-08-23 09:05:25] [DBG] [-1/] [c0] Result for 0: 97.0036 (0) (0.0007s-)\u001b[0m\r\n\u001b[36m[2018-08-23 09:05:25] [DBG] [-1/] [c1] Result for 1: 79.6851 (0) (0.0056s-)\u001b[0m\r\n\u001b[36m[2018-08-23 09:05:25] [DBG] [-1/] [c2] Result for 2: 99.562 (0) (0.0007s-)\u001b[0m\r\n\u001b[36m[2018-08-23 09:05:25] [DBG] [-1/] [c3] Result for 3: 86.4921 (0) (0.0007s-)\u001b[0m\r\n"
     ]
    },
    {
     "name": "stdout",
     "output_type": "stream",
     "text": [
      "\u001b[36m[2018-08-23 09:05:25] [DBG] [-1/] [c0] Result for 0: 97.0036 (0) (0.0145s+)\u001b[0m\r\n\u001b[36m[2018-08-23 09:05:25] [DBG] [-1/] [c1] Result for 1: 79.6851 (0) (0.0190s+)\u001b[0m\r\n"
     ]
    },
    {
     "name": "stdout",
     "output_type": "stream",
     "text": [
      "\u001b[36m[2018-08-23 09:05:25] [DBG] [-1/] [c2] Result for 2: 99.562 (0) (0.0213s+)\u001b[0m\r\n\u001b[36m[2018-08-23 09:05:25] [DBG] [-1/] [c3] Result for 3: 86.4921 (0) (0.0197s+)\u001b[0m\r\n\u001b[32m[2018-08-23 09:05:26] [INF] [-1/] [o0i70] iter: 70 cost: -362.743 time_iter: wall: 0.199369s cpu: 0.114681s time_optim: wall: 11.7307s cpu: 5.93674s\u001b[0m\r\niter    objective    inf_pr   inf_du lg(mu)  ||d||  lg(rg) alpha_du alpha_pr  ls\r\n  70 -3.6274280e+02 0.00e+00 6.07e-02 -11.0 1.96e-03    -  1.00e+00 3.12e-02f  6\r\n"
     ]
    },
    {
     "name": "stdout",
     "output_type": "stream",
     "text": [
      "\u001b[36m[2018-08-23 09:05:26] [DBG] [-1/] [c0] Result for 0: 97.0044 (0) (0.0044s-)\u001b[0m\r\n\u001b[36m[2018-08-23 09:05:26] [DBG] [-1/] [c1] Result for 1: 79.6861 (0) (0.0007s-)\u001b[0m\r\n\u001b[36m[2018-08-23 09:05:26] [DBG] [-1/] [c2] Result for 2: 99.5595 (0) (0.0007s-)\u001b[0m\r\n\u001b[36m[2018-08-23 09:05:26] [DBG] [-1/] [c3] Result for 3: 86.4928 (0) (0.0008s-)\u001b[0m\r\n\u001b[36m[2018-08-23 09:05:26] [DBG] [-1/] [c0] Result for 0: 97.004 (0) (0.0007s-)\u001b[0m\r\n\u001b[36m[2018-08-23 09:05:26] [DBG] [-1/] [c1] Result for 1: 79.6856 (0) (0.0009s-)\u001b[0m\r\n\u001b[36m[2018-08-23 09:05:26] [DBG] [-1/] [c2] Result for 2: 99.5607 (0) (0.0009s-)\u001b[0m\r\n\u001b[36m[2018-08-23 09:05:26] [DBG] [-1/] [c3] Result for 3: 86.4925 (0) (0.0007s-)\u001b[0m\r\n\u001b[36m[2018-08-23 09:05:26] [DBG] [-1/] [c0] Result for 0: 97.004 (0) (0.0174s+)\u001b[0m\r\n"
     ]
    },
    {
     "name": "stdout",
     "output_type": "stream",
     "text": [
      "\u001b[36m[2018-08-23 09:05:26] [DBG] [-1/] [c1] Result for 1: 79.6856 (0) (0.0127s+)\u001b[0m\r\n\u001b[36m[2018-08-23 09:05:26] [DBG] [-1/] [c2] Result for 2: 99.5607 (0) (0.0204s+)\u001b[0m\r\n"
     ]
    },
    {
     "name": "stdout",
     "output_type": "stream",
     "text": [
      "\u001b[36m[2018-08-23 09:05:26] [DBG] [-1/] [c3] Result for 3: 86.4925 (0) (0.0175s+)\u001b[0m\r\n\u001b[32m[2018-08-23 09:05:26] [INF] [-1/] [o0i71] iter: 71 cost: -362.743 time_iter: wall: 0.146011s cpu: 0.0779321s time_optim: wall: 11.8767s cpu: 6.01467s\u001b[0m\r\n  71 -3.6274280e+02 0.00e+00 3.97e-02 -11.0 5.83e-05    -  1.00e+00 5.00e-01f  2\r\n\u001b[36m[2018-08-23 09:05:26] [DBG] [-1/] [c0] Result for 0: 97.0029 (0) (0.0008s-)\u001b[0m\r\n\u001b[36m[2018-08-23 09:05:26] [DBG] [-1/] [c1] Result for 1: 79.6859 (0) (0.0011s-)\u001b[0m\r\n\u001b[36m[2018-08-23 09:05:26] [DBG] [-1/] [c2] Result for 2: 99.5609 (0) (0.0050s-)\u001b[0m\r\n\u001b[36m[2018-08-23 09:05:26] [DBG] [-1/] [c3] Result for 3: 86.4932 (0) (0.0008s-)\u001b[0m\r\n"
     ]
    },
    {
     "name": "stdout",
     "output_type": "stream",
     "text": [
      "\u001b[36m[2018-08-23 09:05:26] [DBG] [-1/] [c0] Result for 0: 97.0035 (0) (0.0008s-)\u001b[0m\r\n\u001b[36m[2018-08-23 09:05:26] [DBG] [-1/] [c1] Result for 1: 79.6857 (0) (0.0008s-)\u001b[0m\r\n\u001b[36m[2018-08-23 09:05:26] [DBG] [-1/] [c2] Result for 2: 99.5608 (0) (0.0027s-)\u001b[0m\r\n\u001b[36m[2018-08-23 09:05:26] [DBG] [-1/] [c3] Result for 3: 86.4928 (0) (0.0008s-)\u001b[0m\r\n\u001b[36m[2018-08-23 09:05:26] [DBG] [-1/] [c0] Result for 0: 97.0037 (0) (0.0008s-)\u001b[0m\r\n\u001b[36m[2018-08-23 09:05:26] [DBG] [-1/] [c1] Result for 1: 79.6857 (0) (0.0008s-)\u001b[0m\r\n\u001b[36m[2018-08-23 09:05:26] [DBG] [-1/] [c2] Result for 2: 99.5608 (0) (0.0007s-)\u001b[0m\r\n\u001b[36m[2018-08-23 09:05:26] [DBG] [-1/] [c3] Result for 3: 86.4926 (0) (0.0007s-)\u001b[0m\r\n\u001b[36m[2018-08-23 09:05:26] [DBG] [-1/] [c0] Result for 0: 97.0037 (0) (0.0138s+)\u001b[0m\r\n"
     ]
    },
    {
     "name": "stdout",
     "output_type": "stream",
     "text": [
      "\u001b[36m[2018-08-23 09:05:26] [DBG] [-1/] [c1] Result for 1: 79.6857 (0) (0.0075s+)\u001b[0m\r\n\u001b[36m[2018-08-23 09:05:26] [DBG] [-1/] [c2] Result for 2: 99.5608 (0) (0.0184s+)\u001b[0m\r\n"
     ]
    },
    {
     "name": "stdout",
     "output_type": "stream",
     "text": [
      "\u001b[36m[2018-08-23 09:05:26] [DBG] [-1/] [c3] Result for 3: 86.4926 (0) (0.0156s+)\u001b[0m\r\n\u001b[32m[2018-08-23 09:05:26] [INF] [-1/] [o0i72] iter: 72 cost: -362.743 time_iter: wall: 0.168127s cpu: 0.0709934s time_optim: wall: 12.0449s cpu: 6.08566s\u001b[0m\r\n  72 -3.6274280e+02 0.00e+00 2.94e-02 -11.0 5.14e-05    -  1.00e+00 2.50e-01f  3\r\n\u001b[36m[2018-08-23 09:05:26] [DBG] [-1/] [c0] Result for 0: 97.004 (0) (0.0008s-)\u001b[0m\r\n\u001b[36m[2018-08-23 09:05:26] [DBG] [-1/] [c1] Result for 1: 79.6849 (0) (0.0007s-)\u001b[0m\r\n\u001b[36m[2018-08-23 09:05:26] [DBG] [-1/] [c2] Result for 2: 99.5606 (0) (0.0007s-)\u001b[0m\r\n\u001b[36m[2018-08-23 09:05:26] [DBG] [-1/] [c3] Result for 3: 86.4934 (0) (0.0013s-)\u001b[0m\r\n"
     ]
    },
    {
     "name": "stdout",
     "output_type": "stream",
     "text": [
      "\u001b[36m[2018-08-23 09:05:26] [DBG] [-1/] [c0] Result for 0: 97.004 (0) (0.0191s+)\u001b[0m\r\n\u001b[36m[2018-08-23 09:05:26] [DBG] [-1/] [c1] Result for 1: 79.6849 (0) (0.0204s+)\u001b[0m\r\n"
     ]
    },
    {
     "name": "stdout",
     "output_type": "stream",
     "text": [
      "\u001b[36m[2018-08-23 09:05:26] [DBG] [-1/] [c2] Result for 2: 99.5606 (0) (0.0200s+)\u001b[0m\r\n\u001b[36m[2018-08-23 09:05:26] [DBG] [-1/] [c3] Result for 3: 86.4934 (0) (0.0147s+)\u001b[0m"
     ]
    },
    {
     "name": "stdout",
     "output_type": "stream",
     "text": [
      "\r\n\u001b[32m[2018-08-23 09:05:26] [INF] [-1/] [o0i73] iter: 73 cost: -362.743 time_iter: wall: 0.141749s cpu: 0.0777103s time_optim: wall: 12.1866s cpu: 6.16337s\u001b[0m\r\n  73 -3.6274280e+02 0.00e+00 3.38e-02 -11.0 3.73e-05    -  1.00e+00 1.00e+00f  1\r\n\u001b[36m[2018-08-23 09:05:26] [DBG] [-1/] [c0] Result for 0: 97.0043 (0) (0.0008s-)\u001b[0m\r\n\u001b[36m[2018-08-23 09:05:26] [DBG] [-1/] [c1] Result for 1: 79.6853 (0) (0.0009s-)\u001b[0m\r\n\u001b[36m[2018-08-23 09:05:26] [DBG] [-1/] [c2] Result for 2: 99.5614 (0) (0.0007s-)\u001b[0m\r\n\u001b[36m[2018-08-23 09:05:26] [DBG] [-1/] [c3] Result for 3: 86.4918 (0) (0.0008s-)\u001b[0m\r\n\u001b[36m[2018-08-23 09:05:26] [DBG] [-1/] [c0] Result for 0: 97.0041 (0) (0.0007s-)\u001b[0m\r\n\u001b[36m[2018-08-23 09:05:26] [DBG] [-1/] [c1] Result for 1: 79.6851 (0) (0.0007s-)\u001b[0m\r\n\u001b[36m[2018-08-23 09:05:26] [DBG] [-1/] [c2] Result for 2: 99.561 (0) (0.0009s-)\u001b[0m\r\n\u001b[36m[2018-08-23 09:05:26] [DBG] [-1/] [c3] Result for 3: 86.4926 (0) (0.0007s-)\u001b[0m\r\n"
     ]
    },
    {
     "name": "stdout",
     "output_type": "stream",
     "text": [
      "\u001b[36m[2018-08-23 09:05:26] [DBG] [-1/] [c0] Result for 0: 97.0041 (0) (0.0200s+)\u001b[0m\r\n\u001b[36m[2018-08-23 09:05:26] [DBG] [-1/] [c1] Result for 1: 79.6851 (0) (0.0075s+)\u001b[0m\r\n"
     ]
    },
    {
     "name": "stdout",
     "output_type": "stream",
     "text": [
      "\u001b[36m[2018-08-23 09:05:26] [DBG] [-1/] [c2] Result for 2: 99.561 (0) (0.0164s+)\u001b[0m\r\n\u001b[36m[2018-08-23 09:05:26] [DBG] [-1/] [c3] Result for 3: 86.4926 (0) (0.0201s+)\u001b[0m\r\n\u001b[32m[2018-08-23 09:05:26] [INF] [-1/] [o0i74] iter: 74 cost: -362.743 time_iter: wall: 0.1416s cpu: 0.0701198s time_optim: wall: 12.3282s cpu: 6.23349s\u001b[0m\r\n"
     ]
    },
    {
     "name": "stdout",
     "output_type": "stream",
     "text": [
      "  74 -3.6274280e+02 0.00e+00 1.23e-02 -11.0 1.32e-04    -  1.00e+00 5.00e-01f  2\r\n\u001b[36m[2018-08-23 09:05:26] [DBG] [-1/] [c0] Result for 0: 97.0018 (0) (0.0007s-)\u001b[0m\r\n\u001b[36m[2018-08-23 09:05:26] [DBG] [-1/] [c1] Result for 1: 79.687 (0) (0.0007s-)\u001b[0m\r\n\u001b[36m[2018-08-23 09:05:26] [DBG] [-1/] [c2] Result for 2: 99.562 (0) (0.0007s-)\u001b[0m\r\n\u001b[36m[2018-08-23 09:05:26] [DBG] [-1/] [c3] Result for 3: 86.492 (0) (0.0036s-)\u001b[0m\r\n\u001b[36m[2018-08-23 09:05:26] [DBG] [-1/] [c0] Result for 0: 97.0018 (0) (0.0007s-)\u001b[0m\r\n\u001b[36m[2018-08-23 09:05:26] [DBG] [-1/] [c1] Result for 1: 79.687 (0) (0.0039s-)\u001b[0m\r\n\u001b[36m[2018-08-23 09:05:26] [DBG] [-1/] [c2] Result for 2: 99.562 (0) (0.0029s-)\u001b[0m\r\n\u001b[36m[2018-08-23 09:05:26] [DBG] [-1/] [c3] Result for 3: 86.492 (0) (0.0008s-)\u001b[0m\r\n\u001b[36m[2018-08-23 09:05:26] [DBG] [-1/] [c0] Result for 0: 97.003 (0) (0.0007s-)\u001b[0m\r\n\u001b[36m[2018-08-23 09:05:26] [DBG] [-1/] [c1] Result for 1: 79.686 (0) (0.0008s-)\u001b[0m\r\n\u001b[36m[2018-08-23 09:05:26] [DBG] [-1/] [c2] Result for 2: 99.5615 (0) (0.0010s-)\u001b[0m\r\n\u001b[36m[2018-08-23 09:05:26] [DBG] [-1/] [c3] Result for 3: 86.4923 (0) (0.0010s-)\u001b[0m\r\n\u001b[36m[2018-08-23 09:05:26] [DBG] [-1/] [c0] Result for 0: 97.0035 (0) (0.0007s-)\u001b[0m\r\n\u001b[36m[2018-08-23 09:05:26] [DBG] [-1/] [c1] Result for 1: 79.6856 (0) (0.0007s-)\u001b[0m\r\n\u001b[36m[2018-08-23 09:05:26] [DBG] [-1/] [c2] Result for 2: 99.5612 (0) (0.0008s-)\u001b[0m\r\n\u001b[36m[2018-08-23 09:05:26] [DBG] [-1/] [c3] Result for 3: 86.4925 (0) (0.0008s-)\u001b[0m\r\n\u001b[36m[2018-08-23 09:05:26] [DBG] [-1/] [c0] Result for 0: 97.0038 (0) (0.0010s-)\u001b[0m"
     ]
    },
    {
     "name": "stdout",
     "output_type": "stream",
     "text": [
      "\r\n\u001b[36m[2018-08-23 09:05:26] [DBG] [-1/] [c1] Result for 1: 79.6853 (0) (0.0008s-)\u001b[0m\r\n\u001b[36m[2018-08-23 09:05:26] [DBG] [-1/] [c2] Result for 2: 99.5611 (0) (0.0047s-)\u001b[0m\r\n\u001b[36m[2018-08-23 09:05:26] [DBG] [-1/] [c3] Result for 3: 86.4925 (0) (0.0009s-)\u001b[0m\r\n\u001b[36m[2018-08-23 09:05:26] [DBG] [-1/] [c0] Result for 0: 97.004 (0) (0.0007s-)\u001b[0m\r\n\u001b[36m[2018-08-23 09:05:26] [DBG] [-1/] [c1] Result for 1: 79.6852 (0) (0.0007s-)\u001b[0m\r\n\u001b[36m[2018-08-23 09:05:26] [DBG] [-1/] [c2] Result for 2: 99.5611 (0) (0.0009s-)\u001b[0m\r\n\u001b[36m[2018-08-23 09:05:26] [DBG] [-1/] [c3] Result for 3: 86.4926 (0) (0.0010s-)\u001b[0m\r\n\u001b[36m[2018-08-23 09:05:26] [DBG] [-1/] [c0] Result for 0: 97.004 (0) (0.0185s+)\u001b[0m\r\n"
     ]
    },
    {
     "name": "stdout",
     "output_type": "stream",
     "text": [
      "\u001b[36m[2018-08-23 09:05:26] [DBG] [-1/] [c1] Result for 1: 79.6852 (0) (0.0173s+)\u001b[0m\r\n\u001b[36m[2018-08-23 09:05:26] [DBG] [-1/] [c2] Result for 2: 99.5611 (0) (0.0140s+)\u001b[0m\r\n"
     ]
    },
    {
     "name": "stdout",
     "output_type": "stream",
     "text": [
      "\u001b[36m[2018-08-23 09:05:26] [DBG] [-1/] [c3] Result for 3: 86.4926 (0) (0.0154s+)\u001b[0m\r\n\u001b[32m[2018-08-23 09:05:26] [INF] [-1/] [o0i75] iter: 75 cost: -362.743 time_iter: wall: 0.187122s cpu: 0.0965813s time_optim: wall: 12.5153s cpu: 6.33007s\u001b[0m\r\n  75 -3.6274280e+02 0.00e+00 9.46e-03 -11.0 5.44e-04    -  1.00e+00 6.25e-02f  5\r\n\u001b[36m[2018-08-23 09:05:26] [DBG] [-1/] [c0] Result for 0: 97.0042 (0) (0.0008s-)\u001b[0m\r\n\u001b[36m[2018-08-23 09:05:26] [DBG] [-1/] [c1] Result for 1: 79.6859 (0) (0.0007s-)\u001b[0m\r\n\u001b[36m[2018-08-23 09:05:26] [DBG] [-1/] [c2] Result for 2: 99.5597 (0) (0.0009s-)\u001b[0m\r\n\u001b[36m[2018-08-23 09:05:26] [DBG] [-1/] [c3] Result for 3: 86.4931 (0) (0.0007s-)\u001b[0m\r\n\u001b[36m[2018-08-23 09:05:26] [DBG] [-1/] [c0] Result for 0: 97.0041 (0) (0.0007s-)\u001b[0m\r\n\u001b[36m[2018-08-23 09:05:26] [DBG] [-1/] [c1] Result for 1: 79.6855 (0) (0.0007s-)\u001b[0m"
     ]
    },
    {
     "name": "stdout",
     "output_type": "stream",
     "text": [
      "\r\n\u001b[36m[2018-08-23 09:05:26] [DBG] [-1/] [c2] Result for 2: 99.5604 (0) (0.0025s-)\u001b[0m\r\n\u001b[36m[2018-08-23 09:05:26] [DBG] [-1/] [c3] Result for 3: 86.4928 (0) (0.0011s-)\u001b[0m\r\n\u001b[36m[2018-08-23 09:05:26] [DBG] [-1/] [c0] Result for 0: 97.004 (0) (0.0011s-)\u001b[0m\r\n\u001b[36m[2018-08-23 09:05:26] [DBG] [-1/] [c1] Result for 1: 79.6854 (0) (0.0008s-)\u001b[0m\r\n\u001b[36m[2018-08-23 09:05:26] [DBG] [-1/] [c2] Result for 2: 99.5607 (0) (0.0008s-)\u001b[0m\r\n\u001b[36m[2018-08-23 09:05:26] [DBG] [-1/] [c3] Result for 3: 86.4927 (0) (0.0027s-)\u001b[0m\r\n\u001b[36m[2018-08-23 09:05:26] [DBG] [-1/] [c0] Result for 0: 97.004 (0) (0.0008s-)\u001b[0m\r\n\u001b[36m[2018-08-23 09:05:26] [DBG] [-1/] [c1] Result for 1: 79.6853 (0) (0.0061s-)\u001b[0m\r\n\u001b[36m[2018-08-23 09:05:26] [DBG] [-1/] [c2] Result for 2: 99.5609 (0) (0.0023s-)\u001b[0m\r\n\u001b[36m[2018-08-23 09:05:26] [DBG] [-1/] [c3] Result for 3: 86.4926 (0) (0.0008s-)\u001b[0m\r\n"
     ]
    },
    {
     "name": "stdout",
     "output_type": "stream",
     "text": [
      "\u001b[36m[2018-08-23 09:05:26] [DBG] [-1/] [c0] Result for 0: 97.004 (0) (0.0240s+)\u001b[0m\r\n\u001b[36m[2018-08-23 09:05:26] [DBG] [-1/] [c1] Result for 1: 79.6853 (0) (0.0109s+)\u001b[0m\r\n"
     ]
    },
    {
     "name": "stdout",
     "output_type": "stream",
     "text": [
      "\u001b[36m[2018-08-23 09:05:26] [DBG] [-1/] [c2] Result for 2: 99.5609 (0) (0.0191s+)\u001b[0m\r\n\u001b[36m[2018-08-23 09:05:26] [DBG] [-1/] [c3] Result for 3: 86.4926 (0) (0.0159s+)\u001b[0m\r\n\u001b[32m[2018-08-23 09:05:26] [INF] [-1/] [o0i76] iter: 76 cost: -362.743 time_iter: wall: 0.186396s cpu: 0.0935577s time_optim: wall: 12.7017s cpu: 6.42363s\u001b[0m\r\n  76 -3.6274280e+02 0.00e+00 1.32e-02 -11.0 4.95e-05    -  1.00e+00 1.25e-01f  4\r\n\u001b[36m[2018-08-23 09:05:26] [DBG] [-1/] [c0] Result for 0: 97.004 (0) (0.0008s-)\u001b[0m"
     ]
    },
    {
     "name": "stdout",
     "output_type": "stream",
     "text": [
      "\r\n\u001b[36m[2018-08-23 09:05:26] [DBG] [-1/] [c1] Result for 1: 79.6852 (0) (0.0008s-)\u001b[0m\r\n\u001b[36m[2018-08-23 09:05:26] [DBG] [-1/] [c2] Result for 2: 99.5608 (0) (0.0007s-)\u001b[0m\r\n\u001b[36m[2018-08-23 09:05:26] [DBG] [-1/] [c3] Result for 3: 86.4928 (0) (0.0007s-)\u001b[0m\r\n\u001b[36m[2018-08-23 09:05:27] [DBG] [-1/] [c0] Result for 0: 97.004 (0) (0.0007s-)\u001b[0m\r\n\u001b[36m[2018-08-23 09:05:27] [DBG] [-1/] [c1] Result for 1: 79.6853 (0) (0.0009s-)\u001b[0m\r\n\u001b[36m[2018-08-23 09:05:27] [DBG] [-1/] [c2] Result for 2: 99.5608 (0) (0.0007s-)\u001b[0m\r\n\u001b[36m[2018-08-23 09:05:27] [DBG] [-1/] [c3] Result for 3: 86.4927 (0) (0.0007s-)\u001b[0m\r\n\u001b[36m[2018-08-23 09:05:27] [DBG] [-1/] [c0] Result for 0: 97.004 (0) (0.0173s+)\u001b[0m\r\n"
     ]
    },
    {
     "name": "stdout",
     "output_type": "stream",
     "text": [
      "\u001b[36m[2018-08-23 09:05:27] [DBG] [-1/] [c1] Result for 1: 79.6853 (0) (0.0206s+)\u001b[0m\r\n\u001b[36m[2018-08-23 09:05:27] [DBG] [-1/] [c2] Result for 2: 99.5608 (0) (0.0165s+)\u001b[0m\r\n"
     ]
    },
    {
     "name": "stdout",
     "output_type": "stream",
     "text": [
      "\u001b[36m[2018-08-23 09:05:27] [DBG] [-1/] [c3] Result for 3: 86.4927 (0) (0.0180s+)\u001b[0m\r\n\u001b[32m[2018-08-23 09:05:27] [INF] [-1/] [o0i77] iter: 77 cost: -362.743 time_iter: wall: 0.143683s cpu: 0.0783564s time_optim: wall: 12.8454s cpu: 6.50199s\u001b[0m\r\n  77 -3.6274280e+02 0.00e+00 5.39e-03 -11.0 1.47e-05    -  1.00e+00 5.00e-01f  2\r\n\u001b[36m[2018-08-23 09:05:27] [DBG] [-1/] [c0] Result for 0: 97.0033 (0) (0.0008s-)\u001b[0m\r\n\u001b[36m[2018-08-23 09:05:27] [DBG] [-1/] [c1] Result for 1: 79.6855 (0) (0.0008s-)\u001b[0m\r\n\u001b[36m[2018-08-23 09:05:27] [DBG] [-1/] [c2] Result for 2: 99.5609 (0) (0.0035s-)\u001b[0m\r\n\u001b[36m[2018-08-23 09:05:27] [DBG] [-1/] [c3] Result for 3: 86.4932 (0) (0.0009s-)\u001b[0m"
     ]
    },
    {
     "name": "stdout",
     "output_type": "stream",
     "text": [
      "\r\n\u001b[36m[2018-08-23 09:05:27] [DBG] [-1/] [c0] Result for 0: 97.0036 (0) (0.0007s-)\u001b[0m\r\n\u001b[36m[2018-08-23 09:05:27] [DBG] [-1/] [c1] Result for 1: 79.6854 (0) (0.0007s-)\u001b[0m\r\n\u001b[36m[2018-08-23 09:05:27] [DBG] [-1/] [c2] Result for 2: 99.5609 (0) (0.0009s-)\u001b[0m\r\n\u001b[36m[2018-08-23 09:05:27] [DBG] [-1/] [c3] Result for 3: 86.4929 (0) (0.0007s-)\u001b[0m\r\n\u001b[36m[2018-08-23 09:05:27] [DBG] [-1/] [c0] Result for 0: 97.0038 (0) (0.0007s-)\u001b[0m\r\n\u001b[36m[2018-08-23 09:05:27] [DBG] [-1/] [c1] Result for 1: 79.6853 (0) (0.0010s-)\u001b[0m\r\n\u001b[36m[2018-08-23 09:05:27] [DBG] [-1/] [c2] Result for 2: 99.5609 (0) (0.0007s-)\u001b[0m\r\n\u001b[36m[2018-08-23 09:05:27] [DBG] [-1/] [c3] Result for 3: 86.4928 (0) (0.0007s-)\u001b[0m\r\n\u001b[36m[2018-08-23 09:05:27] [DBG] [-1/] [c0] Result for 0: 97.0039 (0) (0.0007s-)\u001b[0m\r\n\u001b[36m[2018-08-23 09:05:27] [DBG] [-1/] [c1] Result for 1: 79.6853 (0) (0.0007s-)\u001b[0m\r\n\u001b[36m[2018-08-23 09:05:27] [DBG] [-1/] [c2] Result for 2: 99.5609 (0) (0.0008s-)\u001b[0m\r\n\u001b[36m[2018-08-23 09:05:27] [DBG] [-1/] [c3] Result for 3: 86.4928 (0) (0.0008s-)\u001b[0m\r\n\u001b[36m[2018-08-23 09:05:27] [DBG] [-1/] [c0] Result for 0: 97.0039 (0) (0.0152s+)\u001b[0m"
     ]
    },
    {
     "name": "stdout",
     "output_type": "stream",
     "text": [
      "\r\n\u001b[36m[2018-08-23 09:05:27] [DBG] [-1/] [c1] Result for 1: 79.6853 (0) (0.0178s+)\u001b[0m\r\n\u001b[36m[2018-08-23 09:05:27] [DBG] [-1/] [c2] Result for 2: 99.5609 (0) (0.0180s+)\u001b[0m\r\n"
     ]
    },
    {
     "name": "stdout",
     "output_type": "stream",
     "text": [
      "\u001b[36m[2018-08-23 09:05:27] [DBG] [-1/] [c3] Result for 3: 86.4928 (0) (0.0197s+)\u001b[0m\r\n\u001b[32m[2018-08-23 09:05:27] [INF] [-1/] [o0i78] iter: 78 cost: -362.743 time_iter: wall: 0.168485s cpu: 0.0857025s time_optim: wall: 13.0139s cpu: 6.58769s\u001b[0m\r\n  78 -3.6274280e+02 0.00e+00 1.09e-02 -11.0 1.96e-04    -  1.00e+00 1.25e-01f  4\r\n\r\nNumber of Iterations....: 78\r\n\r\n                                   (scaled)                 (unscaled)\r\nObjective...............:  -3.6274280470645908e+02   -3.6274280470645908e+02\r\nDual infeasibility......:   1.0928640269967344e-02    1.0928640269967344e-02\r\nConstraint violation....:   0.0000000000000000e+00    0.0000000000000000e+00\r\nComplementarity.........:   1.0000438452050014e-11    1.0000438452050014e-11\r\nOverall NLP error.......:   1.0928640269967344e-02    1.0928640269967344e-02\r\n\r\n\r\nNumber of objective function evaluations             = 465\r\nNumber of objective gradient evaluations             = 79\r\nNumber of equality constraint evaluations            = 0\r\nNumber of inequality constraint evaluations          = 0\r\nNumber of equality constraint Jacobian evaluations   = 0\r\nNumber of inequality constraint Jacobian evaluations = 0\r\nNumber of Lagrangian Hessian evaluations             = 0\r\nTotal CPU secs in IPOPT (w/o function evaluations)   =      0.212\r\nTotal CPU secs in NLP function evaluations           =      5.655\r\n\r\nEXIT: Solved To Acceptable Level.\r\n\u001b[32m[2018-08-23 09:05:27] [INF] [-1/] [o0i79] Optimizer status 4, final llh: -3.627428e+02, time: wall: 13.017682 cpu: 6.587691.\u001b[0m\r\n\u001b[36m[2018-08-23 09:05:27] [DBG] [-1/] Thread ms #0 finished unsuccessfully.\u001b[0m\r\n\u001b[32m[2018-08-23 09:05:27] [INF] [-1/] Reading random initial theta 1 from /optimizationOptions/randomStarts\u001b[0m\r\n\u001b[36m[2018-08-23 09:05:27] [DBG] [-1/] Set optimization option acceptable_iter to 1.\u001b[0m\r\n\u001b[36m[2018-08-23 09:05:27] [DBG] [-1/] Set optimization option acceptable_obj_change_tol to 9.9999999999999998e-13.\u001b[0m\r\n\u001b[36m[2018-08-23 09:05:27] [DBG] [-1/] Set optimization option acceptable_tol to 1e+20.\u001b[0m\r\n\u001b[36m[2018-08-23 09:05:27] [DBG] [-1/] Set optimization option hessian_approximation to limited-memory.\u001b[0m\r\n\u001b[36m[2018-08-23 09:05:27] [DBG] [-1/] Set optimization option limited_memory_update_type to bfgs.\u001b[0m\r\n\u001b[36m[2018-08-23 09:05:27] [DBG] [-1/] Set optimization option max_iter to 100.\u001b[0m\r\n\u001b[36m[2018-08-23 09:05:27] [DBG] [-1/] Set optimization option tol to 1.0000000000000001e-09.\u001b[0m\r\n\u001b[36m[2018-08-23 09:05:27] [DBG] [-1/] Set optimization option watchdog_shortened_iter_trigger to 0.\u001b[0m\r\n\r\nList of user-set options:\r\n\r\n                                    Name   Value                used\r\n                         acceptable_iter = 1                     yes\r\n               acceptable_obj_change_tol = 1e-12                 yes\r\n                          acceptable_tol = 1e+20                 yes\r\n                   hessian_approximation = limited-memory        yes\r\n              limited_memory_update_type = bfgs                  yes\r\n                                max_iter = 100                   yes\r\n                             print_level = 5                     yes\r\n                      print_user_options = yes                   yes\r\n                                     tol = 1e-09                 yes\r\n         watchdog_shortened_iter_trigger = 0                     yes\r\nThis is Ipopt version 3.12.9, running with linear solver ma27.\r\n\r\nNumber of nonzeros in equality constraint Jacobian...:        0\r\nNumber of nonzeros in inequality constraint Jacobian.:        0\r\nNumber of nonzeros in Lagrangian Hessian.............:        0\r\n\r\n"
     ]
    },
    {
     "name": "stdout",
     "output_type": "stream",
     "text": [
      "\u001b[36m[2018-08-23 09:05:27] [DBG] [-1/] [c0] Result for 0: 97.0191 (0) (0.0247s+)\u001b[0m\r\n\u001b[36m[2018-08-23 09:05:27] [DBG] [-1/] [c1] Result for 1: 79.7337 (0) (0.0178s+)\u001b[0m\r\n"
     ]
    },
    {
     "name": "stdout",
     "output_type": "stream",
     "text": [
      "\u001b[36m[2018-08-23 09:05:27] [DBG] [-1/] [c2] Result for 2: 98.8704 (0) (0.0281s+)\u001b[0m\r\n\u001b[36m[2018-08-23 09:05:27] [DBG] [-1/] [c3] Result for 3: 86.5941 (0) (0.0080s+)\u001b[0m\r\nTotal number of variables............................:        9"
     ]
    },
    {
     "name": "stdout",
     "output_type": "stream",
     "text": [
      "\r\n                     variables with only lower bounds:        0\r\n                variables with lower and upper bounds:        9\r\n                     variables with only upper bounds:        0\r\nTotal number of equality constraints.................:        0\r\nTotal number of inequality constraints...............:        0\r\n        inequality constraints with only lower bounds:        0\r\n   inequality constraints with lower and upper bounds:        0\r\n        inequality constraints with only upper bounds:        0\r\n\r\n\u001b[32m[2018-08-23 09:05:27] [INF] [-1/] [o1i0] iter: 0 cost: -362.217 time_iter: wall: 0.123759s cpu: 0.0786248s time_optim: wall: 0.123759s cpu: 0.0786248s\u001b[0m\r\niter    objective    inf_pr   inf_du lg(mu)  ||d||  lg(rg) alpha_du alpha_pr  ls\r\n   0 -3.6221724e+02 0.00e+00 4.01e+01   0.0 0.00e+00    -  0.00e+00 0.00e+00   0\r\n\u001b[36m[2018-08-23 09:05:27] [DBG] [-1/] [c0] Result for 0: -2337.37 (0) (0.0007s-)\u001b[0m\r\n\u001b[36m[2018-08-23 09:05:27] [DBG] [-1/] [c1] Result for 1: -1896.01 (0) (0.0008s-)\u001b[0m\r\n\u001b[36m[2018-08-23 09:05:27] [DBG] [-1/] [c2] Result for 2: -2743 (0) (0.0007s-)\u001b[0m\r\n\u001b[36m[2018-08-23 09:05:27] [DBG] [-1/] [c3] Result for 3: -3086.96 (0) (0.0008s-)\u001b[0m\r\n\u001b[36m[2018-08-23 09:05:27] [DBG] [-1/] [c0] Result for 0: -2337.37 (0) (0.0007s-)\u001b[0m\r\n\u001b[36m[2018-08-23 09:05:27] [DBG] [-1/] [c1] Result for 1: -1896.01 (0) (0.0009s-)\u001b[0m\r\n\u001b[36m[2018-08-23 09:05:27] [DBG] [-1/] [c2] Result for 2: -2743 (0) (0.0007s-)\u001b[0m\r\n\u001b[36m[2018-08-23 09:05:27] [DBG] [-1/] [c3] Result for 3: -3086.96 (0) (0.0025s-)\u001b[0m\r\n\u001b[36m[2018-08-23 09:05:27] [DBG] [-1/] [c0] Result for 0: -599.799 (0) (0.0008s-)\u001b[0m\r\n\u001b[36m[2018-08-23 09:05:27] [DBG] [-1/] [c1] Result for 1: -539.578 (0) (0.0007s-)\u001b[0m\r\n\u001b[36m[2018-08-23 09:05:27] [DBG] [-1/] [c2] Result for 2: -631.374 (0) (0.0012s-)\u001b[0m\r\n\u001b[36m[2018-08-23 09:05:27] [DBG] [-1/] [c3] Result for 3: -607.625 (0) (0.0036s-)\u001b[0m\r\n\u001b[36m[2018-08-23 09:05:27] [DBG] [-1/] [c0] Result for 0: -339.806 (0) (0.0007s-)\u001b[0m\r\n\u001b[36m[2018-08-23 09:05:27] [DBG] [-1/] [c1] Result for 1: -370.546 (0) (0.0007s-)\u001b[0m\r\n"
     ]
    },
    {
     "name": "stdout",
     "output_type": "stream",
     "text": [
      "\u001b[36m[2018-08-23 09:05:27] [DBG] [-1/] [c2] Result for 2: -346.552 (0) (0.0057s-)\u001b[0m\r\n\u001b[36m[2018-08-23 09:05:27] [DBG] [-1/] [c3] Result for 3: -331.141 (0) (0.0007s-)\u001b[0m\r\n\u001b[36m[2018-08-23 09:05:27] [DBG] [-1/] [c0] Result for 0: -168.245 (0) (0.0007s-)\u001b[0m\r\n\u001b[36m[2018-08-23 09:05:27] [DBG] [-1/] [c1] Result for 1: -210.94 (0) (0.0007s-)\u001b[0m\r\n\u001b[36m[2018-08-23 09:05:27] [DBG] [-1/] [c2] Result for 2: -177.505 (0) (0.0007s-)\u001b[0m\r\n\u001b[36m[2018-08-23 09:05:27] [DBG] [-1/] [c3] Result for 3: -157.667 (0) (0.0008s-)\u001b[0m\r\n\u001b[36m[2018-08-23 09:05:27] [DBG] [-1/] [c0] Result for 0: -19.4356 (0) (0.0011s-)\u001b[0m\r\n\u001b[36m[2018-08-23 09:05:27] [DBG] [-1/] [c1] Result for 1: -57.1251 (0) (0.0007s-)\u001b[0m\r\n\u001b[36m[2018-08-23 09:05:27] [DBG] [-1/] [c2] Result for 2: -29.1253 (0) (0.0007s-)\u001b[0m\r\n\u001b[36m[2018-08-23 09:05:27] [DBG] [-1/] [c3] Result for 3: -16.7041 (0) (0.0007s-)\u001b[0m\r\n\u001b[36m[2018-08-23 09:05:27] [DBG] [-1/] [c0] Result for 0: 58.3962 (0) (0.0031s-)\u001b[0m\r\n\u001b[36m[2018-08-23 09:05:27] [DBG] [-1/] [c1] Result for 1: 28.3819 (0) (0.0007s-)\u001b[0m\r\n\u001b[36m[2018-08-23 09:05:27] [DBG] [-1/] [c2] Result for 2: 51.919 (0) (0.0007s-)\u001b[0m\r\n\u001b[36m[2018-08-23 09:05:27] [DBG] [-1/] [c3] Result for 3: 54.7282 (0) (0.0009s-)\u001b[0m\r\n"
     ]
    },
    {
     "name": "stdout",
     "output_type": "stream",
     "text": [
      "\u001b[36m[2018-08-23 09:05:27] [DBG] [-1/] [c0] Result for 0: 58.3962 (0) (0.0143s+)\u001b[0m\r\n\u001b[36m[2018-08-23 09:05:27] [DBG] [-1/] [c1] Result for 1: 28.3819 (0) (0.0162s+)\u001b[0m\r\n\u001b[36m[2018-08-23 09:05:27] [DBG] [-1/] [c2] Result for 2: 51.919 (0) (0.0072s+)\u001b[0m\r\n"
     ]
    },
    {
     "name": "stdout",
     "output_type": "stream",
     "text": [
      "\u001b[36m[2018-08-23 09:05:27] [DBG] [-1/] [c3] Result for 3: 54.7282 (0) (0.0163s+)\u001b[0m\r\n\u001b[32m[2018-08-23 09:05:27] [INF] [-1/] [o1i1] iter: 1 cost: -193.425 time_iter: wall: 0.193824s cpu: 0.0874561s time_optim: wall: 0.317583s cpu: 0.166081s\u001b[0m\r\n   1 -1.9342525e+02 0.00e+00 1.22e+03   3.3 2.55e+02    -  9.90e-01 6.42e-04f  6\r\n\u001b[36m[2018-08-23 09:05:27] [DBG] [-1/] [c0] Result for 0: -14008.7 (0) (0.0007s-)\u001b[0m\r\n\u001b[36m[2018-08-23 09:05:27] [DBG] [-1/] [c1] Result for 1: -12091.6 (0) (0.0044s-)\u001b[0m\r\n\u001b[36m[2018-08-23 09:05:27] [DBG] [-1/] [c2] Result for 2: -15555.5 (0) (0.0008s-)\u001b[0m\r\n\u001b[36m[2018-08-23 09:05:27] [DBG] [-1/] [c3] Result for 3: -18193.9 (0) (0.0008s-)\u001b[0m\r\n\u001b[36m[2018-08-23 09:05:27] [DBG] [-1/] [c0] Result for 0: -14008.7 (0) (0.0007s-)\u001b[0m"
     ]
    },
    {
     "name": "stdout",
     "output_type": "stream",
     "text": [
      "\r\n\u001b[36m[2018-08-23 09:05:27] [DBG] [-1/] [c1] Result for 1: -12091.6 (0) (0.0009s-)\u001b[0m\r\n\u001b[36m[2018-08-23 09:05:27] [DBG] [-1/] [c2] Result for 2: -15555.5 (0) (0.0008s-)\u001b[0m\r\n\u001b[36m[2018-08-23 09:05:27] [DBG] [-1/] [c3] Result for 3: -18193.9 (0) (0.0008s-)\u001b[0m\r\n\u001b[36m[2018-08-23 09:05:27] [DBG] [-1/] [c0] Result for 0: -914.333 (0) (0.0007s-)\u001b[0m\r\n\u001b[36m[2018-08-23 09:05:27] [DBG] [-1/] [c1] Result for 1: -809.395 (0) (0.0007s-)\u001b[0m\r\n\u001b[36m[2018-08-23 09:05:27] [DBG] [-1/] [c2] Result for 2: -997.321 (0) (0.0007s-)\u001b[0m\r\n\u001b[36m[2018-08-23 09:05:27] [DBG] [-1/] [c3] Result for 3: -1139.87 (0) (0.0008s-)\u001b[0m\r\n\u001b[36m[2018-08-23 09:05:27] [DBG] [-1/] [c0] Result for 0: -246.138 (0) (0.0009s-)\u001b[0m\r\n\u001b[36m[2018-08-23 09:05:27] [DBG] [-1/] [c1] Result for 1: -252.566 (0) (0.0007s-)\u001b[0m\r\n\u001b[36m[2018-08-23 09:05:27] [DBG] [-1/] [c2] Result for 2: -259.418 (0) (0.0007s-)\u001b[0m\r\n\u001b[36m[2018-08-23 09:05:27] [DBG] [-1/] [c3] Result for 3: -283.667 (0) (0.0008s-)\u001b[0m\r\n\u001b[36m[2018-08-23 09:05:27] [DBG] [-1/] [c0] Result for 0: -246.138 (0) (0.0097s+)\u001b[0m"
     ]
    },
    {
     "name": "stdout",
     "output_type": "stream",
     "text": [
      "\r\n\u001b[36m[2018-08-23 09:05:27] [DBG] [-1/] [c1] Result for 1: -252.566 (0) (0.0137s+)\u001b[0m\r\n\u001b[36m[2018-08-23 09:05:27] [DBG] [-1/] [c2] Result for 2: -259.418 (0) (0.0092s+)\u001b[0m\r\n"
     ]
    },
    {
     "name": "stdout",
     "output_type": "stream",
     "text": [
      "\u001b[36m[2018-08-23 09:05:27] [DBG] [-1/] [c3] Result for 3: -283.667 (0) (0.0165s+)\u001b[0m\r\n\u001b[32m[2018-08-23 09:05:27] [INF] [-1/] [o1i2] iter: 2 cost: 1041.79 time_iter: wall: 0.150035s cpu: 0.0650876s time_optim: wall: 0.467619s cpu: 0.231168s\u001b[0m\r\n   2  1.0417885e+03 0.00e+00 2.55e+06   7.2 2.08e+03    -  1.00e+00 5.79e-04f  3\r\n\u001b[36m[2018-08-23 09:05:27] [DBG] [-1/] [c0] Result for 0: -495.756 (0) (0.0010s-)\u001b[0m\r\n\u001b[36m[2018-08-23 09:05:27] [DBG] [-1/] [c1] Result for 1: -401.216 (0) (0.0007s-)\u001b[0m\r\n\u001b[36m[2018-08-23 09:05:27] [DBG] [-1/] [c2] Result for 2: -533.672 (0) (0.0007s-)\u001b[0m\r\n\u001b[36m[2018-08-23 09:05:27] [DBG] [-1/] [c3] Result for 3: -395.24 (0) (0.0012s-)\u001b[0m\r\n\u001b[36m[2018-08-23 09:05:27] [DBG] [-1/] [c0] Result for 0: -495.756 (0) (0.0065s+)\u001b[0m"
     ]
    },
    {
     "name": "stdout",
     "output_type": "stream",
     "text": [
      "\r\n\u001b[36m[2018-08-23 09:05:27] [DBG] [-1/] [c1] Result for 1: -401.216 (0) (0.0163s+)\u001b[0m\r\n\u001b[36m[2018-08-23 09:05:27] [DBG] [-1/] [c2] Result for 2: -533.672 (0) (0.0137s+)\u001b[0m"
     ]
    },
    {
     "name": "stdout",
     "output_type": "stream",
     "text": [
      "\r\n\u001b[36m[2018-08-23 09:05:27] [DBG] [-1/] [c3] Result for 3: -395.24 (0) (0.0120s+)\u001b[0m\r\n\u001b[32m[2018-08-23 09:05:27] [INF] [-1/] [o1i3] iter: 3 cost: 1825.88 time_iter: wall: 0.113865s cpu: 0.0519451s time_optim: wall: 0.581484s cpu: 0.283114s\u001b[0m\r\n   3  1.8258834e+03 0.00e+00 1.98e+03   6.6 5.66e-01    -  1.00e+00 1.00e+00f  1\r\n\u001b[36m[2018-08-23 09:05:27] [DBG] [-1/] [c0] Result for 0: -294.801 (0) (0.0030s-)\u001b[0m\r\n\u001b[36m[2018-08-23 09:05:27] [DBG] [-1/] [c1] Result for 1: -326.206 (0) (0.0007s-)\u001b[0m\r\n\u001b[36m[2018-08-23 09:05:27] [DBG] [-1/] [c2] Result for 2: -316.908 (0) (0.0007s-)\u001b[0m\r\n"
     ]
    },
    {
     "name": "stdout",
     "output_type": "stream",
     "text": [
      "\u001b[36m[2018-08-23 09:05:27] [DBG] [-1/] [c3] Result for 3: -317.599 (0) (0.0007s-)\u001b[0m\r\n\u001b[36m[2018-08-23 09:05:27] [DBG] [-1/] [c0] Result for 0: -294.801 (0) (0.0151s+)\u001b[0m\r\n\u001b[36m[2018-08-23 09:05:27] [DBG] [-1/] [c1] Result for 1: -326.206 (0) (0.0074s+)\u001b[0m\r\n"
     ]
    },
    {
     "name": "stdout",
     "output_type": "stream",
     "text": [
      "\u001b[36m[2018-08-23 09:05:27] [DBG] [-1/] [c2] Result for 2: -316.908 (0) (0.0177s+)\u001b[0m\r\n\u001b[36m[2018-08-23 09:05:27] [DBG] [-1/] [c3] Result for 3: -317.599 (0) (0.0168s+)\u001b[0m\r\n\u001b[32m[2018-08-23 09:05:28] [INF] [-1/] [o1i4] iter: 4 cost: 1255.52 time_iter: wall: 0.130797s cpu: 0.0621768s time_optim: wall: 0.712281s cpu: 0.34529s\u001b[0m"
     ]
    },
    {
     "name": "stdout",
     "output_type": "stream",
     "text": [
      "\r\n   4  1.2555155e+03 0.00e+00 2.52e+03   5.9 3.76e-01    -  1.00e+00 1.00e+00f  1\r\n\u001b[36m[2018-08-23 09:05:28] [DBG] [-1/] [c0] Result for 0: -294.354 (0) (0.0007s-)\u001b[0m\r\n\u001b[36m[2018-08-23 09:05:28] [DBG] [-1/] [c1] Result for 1: -323.576 (0) (0.0007s-)\u001b[0m\r\n\u001b[36m[2018-08-23 09:05:28] [DBG] [-1/] [c2] Result for 2: -309.402 (0) (0.0006s-)\u001b[0m\r\n\u001b[36m[2018-08-23 09:05:28] [DBG] [-1/] [c3] Result for 3: -309.079 (0) (0.0007s-)\u001b[0m\r\n\u001b[36m[2018-08-23 09:05:28] [DBG] [-1/] [c0] Result for 0: -294.354 (0) (0.0108s+)\u001b[0m\r\n"
     ]
    },
    {
     "name": "stdout",
     "output_type": "stream",
     "text": [
      "\u001b[36m[2018-08-23 09:05:28] [DBG] [-1/] [c1] Result for 1: -323.576 (0) (0.0156s+)\u001b[0m\r\n\u001b[36m[2018-08-23 09:05:28] [DBG] [-1/] [c2] Result for 2: -309.402 (0) (0.0195s+)\u001b[0m\r\n"
     ]
    },
    {
     "name": "stdout",
     "output_type": "stream",
     "text": [
      "\u001b[36m[2018-08-23 09:05:28] [DBG] [-1/] [c3] Result for 3: -309.079 (0) (0.0181s+)\u001b[0m\r\n\u001b[32m[2018-08-23 09:05:28] [INF] [-1/] [o1i5] iter: 5 cost: 1236.41 time_iter: wall: 0.122868s cpu: 0.066742s time_optim: wall: 0.83515s cpu: 0.412032s\u001b[0m\r\n   5  1.2364120e+03 0.00e+00 2.87e+02   5.2 1.38e-01    -  1.00e+00 1.00e+00f  1\r\n\u001b[36m[2018-08-23 09:05:28] [DBG] [-1/] [c0] Result for 0: -289.903 (0) (0.0007s-)\u001b[0m\r\n\u001b[36m[2018-08-23 09:05:28] [DBG] [-1/] [c1] Result for 1: -320.728 (0) (0.0008s-)\u001b[0m\r\n\u001b[36m[2018-08-23 09:05:28] [DBG] [-1/] [c2] Result for 2: -301.002 (0) (0.0007s-)\u001b[0m\r\n\u001b[36m[2018-08-23 09:05:28] [DBG] [-1/] [c3] Result for 3: -291.083 (0) (0.0026s-)\u001b[0m\r\n\u001b[36m[2018-08-23 09:05:28] [DBG] [-1/] [c0] Result for 0: -289.903 (0) (0.0144s+)\u001b[0m\r\n"
     ]
    },
    {
     "name": "stdout",
     "output_type": "stream",
     "text": [
      "\u001b[36m[2018-08-23 09:05:28] [DBG] [-1/] [c1] Result for 1: -320.728 (0) (0.0090s+)\u001b[0m\r\n\u001b[36m[2018-08-23 09:05:28] [DBG] [-1/] [c2] Result for 2: -301.002 (0) (0.0134s+)\u001b[0m\r\n"
     ]
    },
    {
     "name": "stdout",
     "output_type": "stream",
     "text": [
      "\u001b[36m[2018-08-23 09:05:28] [DBG] [-1/] [c3] Result for 3: -291.083 (0) (0.0150s+)\u001b[0m\r\n\u001b[32m[2018-08-23 09:05:28] [INF] [-1/] [o1i6] iter: 6 cost: 1202.72 time_iter: wall: 0.121862s cpu: 0.0565593s time_optim: wall: 0.957012s cpu: 0.468592s\u001b[0m\r\n   6  1.2027162e+03 0.00e+00 2.16e+02   4.5 4.57e-02    -  1.00e+00 1.00e+00f  1\r\n\u001b[36m[2018-08-23 09:05:28] [DBG] [-1/] [c0] Result for 0: -266.449 (0) (0.0007s-)\u001b[0m\r\n\u001b[36m[2018-08-23 09:05:28] [DBG] [-1/] [c1] Result for 1: -299.369 (0) (0.0008s-)\u001b[0m\r\n\u001b[36m[2018-08-23 09:05:28] [DBG] [-1/] [c2] Result for 2: -277.774 (0) (0.0007s-)\u001b[0m\r\n\u001b[36m[2018-08-23 09:05:28] [DBG] [-1/] [c3] Result for 3: -257.065 (0) (0.0043s-)\u001b[0m\r\n"
     ]
    },
    {
     "name": "stdout",
     "output_type": "stream",
     "text": [
      "\u001b[36m[2018-08-23 09:05:28] [DBG] [-1/] [c0] Result for 0: -266.449 (0) (0.0165s+)\u001b[0m\r\n\u001b[36m[2018-08-23 09:05:28] [DBG] [-1/] [c1] Result for 1: -299.369 (0) (0.0197s+)\u001b[0m\r\n"
     ]
    },
    {
     "name": "stdout",
     "output_type": "stream",
     "text": [
      "\u001b[36m[2018-08-23 09:05:28] [DBG] [-1/] [c2] Result for 2: -277.774 (0) (0.0146s+)\u001b[0m\r\n\u001b[36m[2018-08-23 09:05:28] [DBG] [-1/] [c3] Result for 3: -257.065 (0) (0.0132s+)\u001b[0m\r\n\u001b[32m[2018-08-23 09:05:28] [INF] [-1/] [o1i7] iter: 7 cost: 1100.66 time_iter: wall: 0.135415s cpu: 0.0704361s time_optim: wall: 1.09243s cpu: 0.539028s\u001b[0m\r\n   7  1.1006564e+03 0.00e+00 2.64e+02   3.8 7.49e-02    -  1.00e+00 1.00e+00f  1\r\n"
     ]
    },
    {
     "name": "stdout",
     "output_type": "stream",
     "text": [
      "\u001b[36m[2018-08-23 09:05:28] [DBG] [-1/] [c0] Result for 0: -135.604 (0) (0.0007s-)\u001b[0m\r\n\u001b[36m[2018-08-23 09:05:28] [DBG] [-1/] [c1] Result for 1: -152.961 (0) (0.0007s-)\u001b[0m\r\n\u001b[36m[2018-08-23 09:05:28] [DBG] [-1/] [c2] Result for 2: -154.904 (0) (0.0007s-)\u001b[0m\r\n\u001b[36m[2018-08-23 09:05:28] [DBG] [-1/] [c3] Result for 3: -115.516 (0) (0.0007s-)\u001b[0m\r\n\u001b[36m[2018-08-23 09:05:28] [DBG] [-1/] [c0] Result for 0: -135.604 (0) (0.0148s+)\u001b[0m\r\n\u001b[36m[2018-08-23 09:05:28] [DBG] [-1/] [c1] Result for 1: -152.961 (0) (0.0129s+)\u001b[0m\r\n"
     ]
    },
    {
     "name": "stdout",
     "output_type": "stream",
     "text": [
      "\u001b[36m[2018-08-23 09:05:28] [DBG] [-1/] [c2] Result for 2: -154.904 (0) (0.0170s+)\u001b[0m\r\n\u001b[36m[2018-08-23 09:05:28] [DBG] [-1/] [c3] Result for 3: -115.516 (0) (0.0193s+)\u001b[0m\r\n\u001b[32m[2018-08-23 09:05:28] [INF] [-1/] [o1i8] iter: 8 cost: 558.984 time_iter: wall: 0.107081s cpu: 0.0667181s time_optim: wall: 1.19951s cpu: 0.605746s\u001b[0m"
     ]
    },
    {
     "name": "stdout",
     "output_type": "stream",
     "text": [
      "\r\n   8  5.5898392e+02 0.00e+00 9.93e+02   3.1 4.51e-01    -  1.00e+00 1.00e+00f  1\r\n\u001b[36m[2018-08-23 09:05:28] [DBG] [-1/] [c0] Result for 0: -557756 (0) (0.0035s-)\u001b[0m\r\n\u001b[36m[2018-08-23 09:05:28] [DBG] [-1/] [c1] Result for 1: -547268 (0) (0.0008s-)\u001b[0m\r\n\u001b[36m[2018-08-23 09:05:28] [DBG] [-1/] [c2] Result for 2: -539861 (0) (0.0008s-)\u001b[0m\r\n\u001b[36m[2018-08-23 09:05:28] [DBG] [-1/] [c3] Result for 3: -533477 (0) (0.0008s-)\u001b[0m\r\n\u001b[36m[2018-08-23 09:05:28] [DBG] [-1/] [c0] Result for 0: -557756 (0) (0.0008s-)\u001b[0m\r\n\u001b[36m[2018-08-23 09:05:28] [DBG] [-1/] [c1] Result for 1: -547268 (0) (0.0009s-)\u001b[0m\r\n\u001b[36m[2018-08-23 09:05:28] [DBG] [-1/] [c2] Result for 2: -539861 (0) (0.0009s-)\u001b[0m\r\n\u001b[36m[2018-08-23 09:05:28] [DBG] [-1/] [c3] Result for 3: -533477 (0) (0.0086s-)\u001b[0m\r\n\u001b[36m[2018-08-23 09:05:28] [DBG] [-1/] [c0] Result for 0: -3909.57 (0) (0.0007s-)\u001b[0m\r\n\u001b[36m[2018-08-23 09:05:28] [DBG] [-1/] [c1] Result for 1: -3639.51 (0) (0.0008s-)\u001b[0m\r\n\u001b[36m[2018-08-23 09:05:28] [DBG] [-1/] [c2] Result for 2: -3723.98 (0) (0.0007s-)\u001b[0m\r\n\u001b[36m[2018-08-23 09:05:28] [DBG] [-1/] [c3] Result for 3: -3639.17 (0) (0.0007s-)\u001b[0m\r\n\u001b[36m[2018-08-23 09:05:28] [DBG] [-1/] [c0] Result for 0: -134.734 (0) (0.0006s-)\u001b[0m\r\n\u001b[36m[2018-08-23 09:05:28] [DBG] [-1/] [c1] Result for 1: -91.8572 (0) (0.0007s-)\u001b[0m"
     ]
    },
    {
     "name": "stdout",
     "output_type": "stream",
     "text": [
      "\r\n\u001b[36m[2018-08-23 09:05:28] [DBG] [-1/] [c2] Result for 2: -152.375 (0) (0.0007s-)\u001b[0m\r\n\u001b[36m[2018-08-23 09:05:28] [DBG] [-1/] [c3] Result for 3: -92.739 (0) (0.0007s-)\u001b[0m\r\n\u001b[36m[2018-08-23 09:05:28] [DBG] [-1/] [c0] Result for 0: -134.734 (0) (0.0069s+)\u001b[0m\r\n\u001b[36m[2018-08-23 09:05:28] [DBG] [-1/] [c1] Result for 1: -91.8572 (0) (0.0217s+)\u001b[0m\r\n"
     ]
    },
    {
     "name": "stdout",
     "output_type": "stream",
     "text": [
      "\u001b[36m[2018-08-23 09:05:28] [DBG] [-1/] [c2] Result for 2: -152.375 (0) (0.0147s+)\u001b[0m\r\n\u001b[36m[2018-08-23 09:05:28] [DBG] [-1/] [c3] Result for 3: -92.739 (0) (0.0178s+)\u001b[0m\r\n\u001b[32m[2018-08-23 09:05:28] [INF] [-1/] [o1i9] iter: 9 cost: 471.706 time_iter: wall: 0.157406s cpu: 0.0836267s time_optim: wall: 1.35691s cpu: 0.689373s\u001b[0m\r\n   9  4.7170558e+02 0.00e+00 3.98e+03   2.4 1.75e+00    -  9.20e-01 2.50e-01f  3\r\n\u001b[36m[2018-08-23 09:05:28] [DBG] [-1/] [c0] Result for 0: 45.8931 (0) (0.0007s-)\u001b[0m\r\n"
     ]
    },
    {
     "name": "stdout",
     "output_type": "stream",
     "text": [
      "\u001b[36m[2018-08-23 09:05:28] [DBG] [-1/] [c1] Result for 1: 17.3743 (0) (0.0007s-)\u001b[0m\r\n\u001b[36m[2018-08-23 09:05:28] [DBG] [-1/] [c2] Result for 2: 23.8944 (0) (0.0007s-)\u001b[0m\r\n\u001b[36m[2018-08-23 09:05:28] [DBG] [-1/] [c3] Result for 3: 52.7959 (0) (0.0007s-)\u001b[0m\r\n\u001b[36m[2018-08-23 09:05:28] [DBG] [-1/] [c0] Result for 0: 45.8931 (0) (0.0197s+)\u001b[0m\r\n\u001b[36m[2018-08-23 09:05:28] [DBG] [-1/] [c1] Result for 1: 17.3743 (0) (0.0142s+)\u001b[0m"
     ]
    },
    {
     "name": "stdout",
     "output_type": "stream",
     "text": [
      "\r\n\u001b[36m[2018-08-23 09:05:28] [DBG] [-1/] [c2] Result for 2: 23.8944 (0) (0.0180s+)\u001b[0m\r\n"
     ]
    },
    {
     "name": "stdout",
     "output_type": "stream",
     "text": [
      "\u001b[36m[2018-08-23 09:05:28] [DBG] [-1/] [c3] Result for 3: 52.7959 (0) (0.0168s+)\u001b[0m\r\n\u001b[32m[2018-08-23 09:05:28] [INF] [-1/] [o1i10] iter: 10 cost: -139.958 time_iter: wall: 0.13507s cpu: 0.0715265s time_optim: wall: 1.49198s cpu: 0.760899s\u001b[0m\r\niter    objective    inf_pr   inf_du lg(mu)  ||d||  lg(rg) alpha_du alpha_pr  ls\r\n  10 -1.3995765e+02 0.00e+00 1.39e+03   2.4 4.82e-01    -  1.00e+00 1.00e+00f  1\r\n\u001b[36m[2018-08-23 09:05:28] [DBG] [-1/] [c0] Result for 0: 74.1509 (0) (0.0007s-)\u001b[0m\r\n\u001b[36m[2018-08-23 09:05:28] [DBG] [-1/] [c1] Result for 1: 54.823 (0) (0.0008s-)\u001b[0m\r\n\u001b[36m[2018-08-23 09:05:28] [DBG] [-1/] [c2] Result for 2: 68.0076 (0) (0.0009s-)\u001b[0m\r\n\u001b[36m[2018-08-23 09:05:28] [DBG] [-1/] [c3] Result for 3: 74.718 (0) (0.0021s-)\u001b[0m\r\n\u001b[36m[2018-08-23 09:05:28] [DBG] [-1/] [c0] Result for 0: 74.1509 (0) (0.0131s+)\u001b[0m\r\n"
     ]
    },
    {
     "name": "stdout",
     "output_type": "stream",
     "text": [
      "\u001b[36m[2018-08-23 09:05:28] [DBG] [-1/] [c1] Result for 1: 54.823 (0) (0.0201s+)\u001b[0m\r\n"
     ]
    },
    {
     "name": "stdout",
     "output_type": "stream",
     "text": [
      "\u001b[36m[2018-08-23 09:05:28] [DBG] [-1/] [c2] Result for 2: 68.0076 (0) (0.0169s+)\u001b[0m\r\n\u001b[36m[2018-08-23 09:05:28] [DBG] [-1/] [c3] Result for 3: 74.718 (0) (0.0168s+)\u001b[0m\r\n\u001b[32m[2018-08-23 09:05:28] [INF] [-1/] [o1i11] iter: 11 cost: -271.699 time_iter: wall: 0.140939s cpu: 0.0715241s time_optim: wall: 1.63292s cpu: 0.832423s\u001b[0m"
     ]
    },
    {
     "name": "stdout",
     "output_type": "stream",
     "text": [
      "\r\n  11 -2.7169947e+02 0.00e+00 5.42e+02   1.7 3.58e-01    -  1.00e+00 1.00e+00f  1\r\n\u001b[36m[2018-08-23 09:05:28] [DBG] [-1/] [c0] Result for 0: 27.3754 (0) (0.0007s-)\u001b[0m\r\n\u001b[36m[2018-08-23 09:05:28] [DBG] [-1/] [c1] Result for 1: -30.1205 (0) (0.0008s-)\u001b[0m\r\n\u001b[36m[2018-08-23 09:05:28] [DBG] [-1/] [c2] Result for 2: 50.5699 (0) (0.0009s-)\u001b[0m\r\n\u001b[36m[2018-08-23 09:05:28] [DBG] [-1/] [c3] Result for 3: -53.0402 (0) (0.0021s-)\u001b[0m\r\n\u001b[36m[2018-08-23 09:05:28] [DBG] [-1/] [c0] Result for 0: 27.3754 (0) (0.0007s-)\u001b[0m\r\n\u001b[36m[2018-08-23 09:05:28] [DBG] [-1/] [c1] Result for 1: -30.1205 (0) (0.0009s-)\u001b[0m\r\n\u001b[36m[2018-08-23 09:05:28] [DBG] [-1/] [c2] Result for 2: 50.5699 (0) (0.0009s-)\u001b[0m\r\n\u001b[36m[2018-08-23 09:05:28] [DBG] [-1/] [c3] Result for 3: -53.0402 (0) (0.0007s-)\u001b[0m\r\n\u001b[36m[2018-08-23 09:05:28] [DBG] [-1/] [c0] Result for 0: 85.1894 (0) (0.0007s-)\u001b[0m\r\n\u001b[36m[2018-08-23 09:05:28] [DBG] [-1/] [c1] Result for 1: 64.0209 (0) (0.0007s-)\u001b[0m\r\n\u001b[36m[2018-08-23 09:05:28] [DBG] [-1/] [c2] Result for 2: 94.0517 (0) (0.0009s-)\u001b[0m\r\n\u001b[36m[2018-08-23 09:05:28] [DBG] [-1/] [c3] Result for 3: 59.4433 (0) (0.0010s-)\u001b[0m\r\n\u001b[36m[2018-08-23 09:05:28] [DBG] [-1/] [c0] Result for 0: 85.1894 (0) (0.0157s+)\u001b[0m"
     ]
    },
    {
     "name": "stdout",
     "output_type": "stream",
     "text": [
      "\r\n\u001b[36m[2018-08-23 09:05:29] [DBG] [-1/] [c1] Result for 1: 64.0209 (0) (0.0235s+)\u001b[0m\r\n"
     ]
    },
    {
     "name": "stdout",
     "output_type": "stream",
     "text": [
      "\u001b[36m[2018-08-23 09:05:29] [DBG] [-1/] [c2] Result for 2: 94.0517 (0) (0.0203s+)\u001b[0m\r\n\u001b[36m[2018-08-23 09:05:29] [DBG] [-1/] [c3] Result for 3: 59.4433 (0) (0.0203s+)\u001b[0m\r\n\u001b[32m[2018-08-23 09:05:29] [INF] [-1/] [o1i12] iter: 12 cost: -302.705 time_iter: wall: 0.161606s cpu: 0.0908238s time_optim: wall: 1.79453s cpu: 0.923247s\u001b[0m"
     ]
    },
    {
     "name": "stdout",
     "output_type": "stream",
     "text": [
      "\r\n  12 -3.0270533e+02 0.00e+00 9.21e+02   1.7 3.41e-01    -  1.00e+00 5.00e-01f  2\r\n\u001b[36m[2018-08-23 09:05:29] [DBG] [-1/] [c0] Result for 0: 93.3484 (0) (0.0009s-)\u001b[0m\r\n\u001b[36m[2018-08-23 09:05:29] [DBG] [-1/] [c1] Result for 1: 74.6988 (0) (0.0007s-)\u001b[0m\r\n\u001b[36m[2018-08-23 09:05:29] [DBG] [-1/] [c2] Result for 2: 92.1516 (0) (0.0007s-)\u001b[0m\r\n\u001b[36m[2018-08-23 09:05:29] [DBG] [-1/] [c3] Result for 3: 86.8929 (0) (0.0033s-)\u001b[0m\r\n\u001b[36m[2018-08-23 09:05:29] [DBG] [-1/] [c0] Result for 0: 93.3484 (0) (0.0218s+)\u001b[0m\r\n"
     ]
    },
    {
     "name": "stdout",
     "output_type": "stream",
     "text": [
      "\u001b[36m[2018-08-23 09:05:29] [DBG] [-1/] [c1] Result for 1: 74.6988 (0) (0.0186s+)\u001b[0m\r\n\u001b[36m[2018-08-23 09:05:29] [DBG] [-1/] [c2] Result for 2: 92.1516 (0) (0.0240s+)\u001b[0m\r\n"
     ]
    },
    {
     "name": "stdout",
     "output_type": "stream",
     "text": [
      "\u001b[36m[2018-08-23 09:05:29] [DBG] [-1/] [c3] Result for 3: 86.8929 (0) (0.0184s+)\u001b[0m\r\n\u001b[32m[2018-08-23 09:05:29] [INF] [-1/] [o1i13] iter: 13 cost: -347.092 time_iter: wall: 0.144307s cpu: 0.0885063s time_optim: wall: 1.93884s cpu: 1.01175s\u001b[0m\r\n  13 -3.4709163e+02 0.00e+00 3.35e+02   1.7 1.38e-01    -  1.00e+00 1.00e+00f  1\r\n\u001b[36m[2018-08-23 09:05:29] [DBG] [-1/] [c0] Result for 0: 95.5918 (0) (0.0008s-)\u001b[0m\r\n\u001b[36m[2018-08-23 09:05:29] [DBG] [-1/] [c1] Result for 1: 78.2521 (0) (0.0007s-)\u001b[0m\r\n\u001b[36m[2018-08-23 09:05:29] [DBG] [-1/] [c2] Result for 2: 97.0895 (0) (0.0008s-)\u001b[0m\r\n\u001b[36m[2018-08-23 09:05:29] [DBG] [-1/] [c3] Result for 3: 87.6676 (0) (0.0008s-)\u001b[0m\r\n"
     ]
    },
    {
     "name": "stdout",
     "output_type": "stream",
     "text": [
      "\u001b[36m[2018-08-23 09:05:29] [DBG] [-1/] [c0] Result for 0: 95.5918 (0) (0.0172s+)\u001b[0m\r\n\u001b[36m[2018-08-23 09:05:29] [DBG] [-1/] [c1] Result for 1: 78.2521 (0) (0.0185s+)\u001b[0m\r\n"
     ]
    },
    {
     "name": "stdout",
     "output_type": "stream",
     "text": [
      "\u001b[36m[2018-08-23 09:05:29] [DBG] [-1/] [c2] Result for 2: 97.0895 (0) (0.0199s+)\u001b[0m\r\n\u001b[36m[2018-08-23 09:05:29] [DBG] [-1/] [c3] Result for 3: 87.6676 (0) (0.0134s+)\u001b[0m"
     ]
    },
    {
     "name": "stdout",
     "output_type": "stream",
     "text": [
      "\r\n\u001b[32m[2018-08-23 09:05:29] [INF] [-1/] [o1i14] iter: 14 cost: -358.601 time_iter: wall: 0.138663s cpu: 0.0719798s time_optim: wall: 2.0775s cpu: 1.08373s\u001b[0m\r\n  14 -3.5860095e+02 0.00e+00 9.28e+01   1.0 8.48e-02    -  1.00e+00 1.00e+00f  1\r\n\u001b[36m[2018-08-23 09:05:29] [DBG] [-1/] [c0] Result for 0: 96.4447 (0) (0.0007s-)\u001b[0m\r\n\u001b[36m[2018-08-23 09:05:29] [DBG] [-1/] [c1] Result for 1: 80.1102 (0) (0.0008s-)\u001b[0m\r\n\u001b[36m[2018-08-23 09:05:29] [DBG] [-1/] [c2] Result for 2: 97.8333 (0) (0.0009s-)\u001b[0m\r\n\u001b[36m[2018-08-23 09:05:29] [DBG] [-1/] [c3] Result for 3: 86.9391 (0) (0.0007s-)\u001b[0m\r\n\u001b[36m[2018-08-23 09:05:29] [DBG] [-1/] [c0] Result for 0: 96.4447 (0) (0.0146s+)\u001b[0m\r\n"
     ]
    },
    {
     "name": "stdout",
     "output_type": "stream",
     "text": [
      "\u001b[36m[2018-08-23 09:05:29] [DBG] [-1/] [c1] Result for 1: 80.1102 (0) (0.0108s+)\u001b[0m\r\n\u001b[36m[2018-08-23 09:05:29] [DBG] [-1/] [c2] Result for 2: 97.8333 (0) (0.0204s+)\u001b[0m"
     ]
    },
    {
     "name": "stdout",
     "output_type": "stream",
     "text": [
      "\r\n\u001b[36m[2018-08-23 09:05:29] [DBG] [-1/] [c3] Result for 3: 86.9391 (0) (0.0178s+)\u001b[0m\r\n\u001b[32m[2018-08-23 09:05:29] [INF] [-1/] [o1i15] iter: 15 cost: -361.327 time_iter: wall: 0.131287s cpu: 0.0666258s time_optim: wall: 2.20879s cpu: 1.15036s\u001b[0m\r\n  15 -3.6132734e+02 0.00e+00 6.44e+01   1.0 2.68e-02    -  1.00e+00 1.00e+00f  1\r\n\u001b[36m[2018-08-23 09:05:29] [DBG] [-1/] [c0] Result for 0: 96.5809 (0) (0.0009s-)\u001b[0m\r\n\u001b[36m[2018-08-23 09:05:29] [DBG] [-1/] [c1] Result for 1: 80.5099 (0) (0.0007s-)\u001b[0m\r\n\u001b[36m[2018-08-23 09:05:29] [DBG] [-1/] [c2] Result for 2: 98.993 (0) (0.0009s-)\u001b[0m\r\n"
     ]
    },
    {
     "name": "stdout",
     "output_type": "stream",
     "text": [
      "\u001b[36m[2018-08-23 09:05:29] [DBG] [-1/] [c3] Result for 3: 86.0676 (0) (0.0008s-)\u001b[0m\r\n\u001b[36m[2018-08-23 09:05:29] [DBG] [-1/] [c0] Result for 0: 96.5809 (0) (0.0202s+)\u001b[0m\r\n"
     ]
    },
    {
     "name": "stdout",
     "output_type": "stream",
     "text": [
      "\u001b[36m[2018-08-23 09:05:29] [DBG] [-1/] [c1] Result for 1: 80.5099 (0) (0.0243s+)\u001b[0m\r\n\u001b[36m[2018-08-23 09:05:29] [DBG] [-1/] [c2] Result for 2: 98.993 (0) (0.0133s+)\u001b[0m\r\n\u001b[36m[2018-08-23 09:05:29] [DBG] [-1/] [c3] Result for 3: 86.0676 (0) (0.0162s+)\u001b[0m"
     ]
    },
    {
     "name": "stdout",
     "output_type": "stream",
     "text": [
      "\r\n\u001b[32m[2018-08-23 09:05:29] [INF] [-1/] [o1i16] iter: 16 cost: -362.152 time_iter: wall: 0.139046s cpu: 0.0771786s time_optim: wall: 2.34783s cpu: 1.22754s\u001b[0m\r\n  16 -3.6215153e+02 0.00e+00 2.91e+01   0.3 1.99e-02    -  1.00e+00 1.00e+00f  1\r\n\u001b[36m[2018-08-23 09:05:29] [DBG] [-1/] [c0] Result for 0: 96.8861 (0) (0.0015s-)\u001b[0m\r\n\u001b[36m[2018-08-23 09:05:29] [DBG] [-1/] [c1] Result for 1: 79.7085 (0) (0.0009s-)\u001b[0m\r\n\u001b[36m[2018-08-23 09:05:29] [DBG] [-1/] [c2] Result for 2: 99.5792 (0) (0.0007s-)\u001b[0m\r\n\u001b[36m[2018-08-23 09:05:29] [DBG] [-1/] [c3] Result for 3: 85.9282 (0) (0.0010s-)\u001b[0m\r\n\u001b[36m[2018-08-23 09:05:29] [DBG] [-1/] [c0] Result for 0: 96.8861 (0) (0.0008s-)\u001b[0m\r\n\u001b[36m[2018-08-23 09:05:29] [DBG] [-1/] [c1] Result for 1: 79.7085 (0) (0.0007s-)\u001b[0m\r\n\u001b[36m[2018-08-23 09:05:29] [DBG] [-1/] [c2] Result for 2: 99.5792 (0) (0.0016s-)\u001b[0m\r\n\u001b[36m[2018-08-23 09:05:29] [DBG] [-1/] [c3] Result for 3: 85.9282 (0) (0.0009s-)\u001b[0m\r\n\u001b[36m[2018-08-23 09:05:29] [DBG] [-1/] [c0] Result for 0: 96.7887 (0) (0.0007s-)\u001b[0m\r\n\u001b[36m[2018-08-23 09:05:29] [DBG] [-1/] [c1] Result for 1: 80.164 (0) (0.0007s-)\u001b[0m\r\n\u001b[36m[2018-08-23 09:05:29] [DBG] [-1/] [c2] Result for 2: 99.3451 (0) (0.0007s-)\u001b[0m\r\n\u001b[36m[2018-08-23 09:05:29] [DBG] [-1/] [c3] Result for 3: 86.0542 (0) (0.0008s-)\u001b[0m"
     ]
    },
    {
     "name": "stdout",
     "output_type": "stream",
     "text": [
      "\r\n\u001b[36m[2018-08-23 09:05:29] [DBG] [-1/] [c0] Result for 0: 96.7887 (0) (0.0140s+)\u001b[0m\r\n"
     ]
    },
    {
     "name": "stdout",
     "output_type": "stream",
     "text": [
      "\u001b[36m[2018-08-23 09:05:29] [DBG] [-1/] [c1] Result for 1: 80.164 (0) (0.0231s+)\u001b[0m\r\n\u001b[36m[2018-08-23 09:05:29] [DBG] [-1/] [c2] Result for 2: 99.3451 (0) (0.0196s+)\u001b[0m\r\n"
     ]
    },
    {
     "name": "stdout",
     "output_type": "stream",
     "text": [
      "\u001b[36m[2018-08-23 09:05:29] [DBG] [-1/] [c3] Result for 3: 86.0542 (0) (0.0136s+)\u001b[0m\r\n\u001b[32m[2018-08-23 09:05:29] [INF] [-1/] [o1i17] iter: 17 cost: -362.352 time_iter: wall: 0.189742s cpu: 0.0813093s time_optim: wall: 2.53758s cpu: 1.30885s\u001b[0m\r\n  17 -3.6235207e+02 0.00e+00 7.51e+00   0.3 2.50e-02    -  1.00e+00 5.00e-01f  2\r\n\u001b[36m[2018-08-23 09:05:29] [DBG] [-1/] [c0] Result for 0: 96.9949 (0) (0.0009s-)\u001b[0m"
     ]
    },
    {
     "name": "stdout",
     "output_type": "stream",
     "text": [
      "\r\n\u001b[36m[2018-08-23 09:05:29] [DBG] [-1/] [c1] Result for 1: 80.267 (0) (0.0007s-)\u001b[0m\r\n\u001b[36m[2018-08-23 09:05:29] [DBG] [-1/] [c2] Result for 2: 98.7613 (0) (0.0007s-)\u001b[0m\r\n\u001b[36m[2018-08-23 09:05:29] [DBG] [-1/] [c3] Result for 3: 86.2092 (0) (0.0023s-)\u001b[0m\r\n\u001b[36m[2018-08-23 09:05:29] [DBG] [-1/] [c0] Result for 0: 96.9949 (0) (0.0007s-)\u001b[0m\r\n\u001b[36m[2018-08-23 09:05:29] [DBG] [-1/] [c1] Result for 1: 80.267 (0) (0.0007s-)\u001b[0m\r\n\u001b[36m[2018-08-23 09:05:29] [DBG] [-1/] [c2] Result for 2: 98.7613 (0) (0.0007s-)\u001b[0m\r\n\u001b[36m[2018-08-23 09:05:29] [DBG] [-1/] [c3] Result for 3: 86.2092 (0) (0.0033s-)\u001b[0m\r\n\u001b[36m[2018-08-23 09:05:29] [DBG] [-1/] [c0] Result for 0: 96.9109 (0) (0.0007s-)\u001b[0m\r\n\u001b[36m[2018-08-23 09:05:29] [DBG] [-1/] [c1] Result for 1: 80.2315 (0) (0.0011s-)\u001b[0m\r\n\u001b[36m[2018-08-23 09:05:29] [DBG] [-1/] [c2] Result for 2: 99.0727 (0) (0.0007s-)\u001b[0m\r\n\u001b[36m[2018-08-23 09:05:29] [DBG] [-1/] [c3] Result for 3: 86.1453 (0) (0.0014s-)\u001b[0m\r\n\u001b[36m[2018-08-23 09:05:29] [DBG] [-1/] [c0] Result for 0: 96.9109 (0) (0.0099s+)\u001b[0m"
     ]
    },
    {
     "name": "stdout",
     "output_type": "stream",
     "text": [
      "\r\n\u001b[36m[2018-08-23 09:05:29] [DBG] [-1/] [c1] Result for 1: 80.2315 (0) (0.0173s+)\u001b[0m\r\n"
     ]
    },
    {
     "name": "stdout",
     "output_type": "stream",
     "text": [
      "\u001b[36m[2018-08-23 09:05:29] [DBG] [-1/] [c2] Result for 2: 99.0727 (0) (0.0209s+)\u001b[0m\r\n\u001b[36m[2018-08-23 09:05:29] [DBG] [-1/] [c3] Result for 3: 86.1453 (0) (0.0196s+)\u001b[0m\r\n\u001b[32m[2018-08-23 09:05:29] [INF] [-1/] [o1i18] iter: 18 cost: -362.36 time_iter: wall: 0.162078s cpu: 0.0817883s time_optim: wall: 2.69966s cpu: 1.39064s\u001b[0m\r\n"
     ]
    },
    {
     "name": "stdout",
     "output_type": "stream",
     "text": [
      "  18 -3.6236048e+02 0.00e+00 9.29e+00  -1.6 1.59e-02    -  9.98e-01 5.00e-01f  2\r\n\u001b[36m[2018-08-23 09:05:30] [DBG] [-1/] [c0] Result for 0: 96.832 (0) (0.0007s-)\u001b[0m\r\n\u001b[36m[2018-08-23 09:05:30] [DBG] [-1/] [c1] Result for 1: 80.1645 (0) (0.0007s-)\u001b[0m\r\n\u001b[36m[2018-08-23 09:05:30] [DBG] [-1/] [c2] Result for 2: 99.1759 (0) (0.0008s-)\u001b[0m\r\n\u001b[36m[2018-08-23 09:05:30] [DBG] [-1/] [c3] Result for 3: 86.2057 (0) (0.0007s-)\u001b[0m\r\n\u001b[36m[2018-08-23 09:05:30] [DBG] [-1/] [c0] Result for 0: 96.832 (0) (0.0136s+)\u001b[0m\r\n"
     ]
    },
    {
     "name": "stdout",
     "output_type": "stream",
     "text": [
      "\u001b[36m[2018-08-23 09:05:30] [DBG] [-1/] [c1] Result for 1: 80.1645 (0) (0.0200s+)\u001b[0m\r\n\u001b[36m[2018-08-23 09:05:30] [DBG] [-1/] [c2] Result for 2: 99.1759 (0) (0.0110s+)\u001b[0m\r\n"
     ]
    },
    {
     "name": "stdout",
     "output_type": "stream",
     "text": [
      "\u001b[36m[2018-08-23 09:05:30] [DBG] [-1/] [c3] Result for 3: 86.2057 (0) (0.0156s+)\u001b[0m\r\n\u001b[32m[2018-08-23 09:05:30] [INF] [-1/] [o1i19] iter: 19 cost: -362.378 time_iter: wall: 0.136474s cpu: 0.0632956s time_optim: wall: 2.83613s cpu: 1.45393s\u001b[0m\r\n  19 -3.6237804e+02 0.00e+00 7.28e+00  -3.5 4.03e-03    -  1.00e+00 1.00e+00f  1\r\n\u001b[36m[2018-08-23 09:05:30] [DBG] [-1/] [c0] Result for 0: 96.7072 (0) (0.0010s-)\u001b[0m\r\n\u001b[36m[2018-08-23 09:05:30] [DBG] [-1/] [c1] Result for 1: 80.2436 (0) (0.0007s-)\u001b[0m\r\n\u001b[36m[2018-08-23 09:05:30] [DBG] [-1/] [c2] Result for 2: 99.4434 (0) (0.0070s-)\u001b[0m\r\n\u001b[36m[2018-08-23 09:05:30] [DBG] [-1/] [c3] Result for 3: 85.9808 (0) (0.0010s-)\u001b[0m\r\n\u001b[36m[2018-08-23 09:05:30] [DBG] [-1/] [c0] Result for 0: 96.7745 (0) (0.0007s-)\u001b[0m\r\n\u001b[36m[2018-08-23 09:05:30] [DBG] [-1/] [c1] Result for 1: 80.2084 (0) (0.0007s-)\u001b[0m\r\n\u001b[36m[2018-08-23 09:05:30] [DBG] [-1/] [c2] Result for 2: 99.3147 (0) (0.0007s-)\u001b[0m\r\n\u001b[36m[2018-08-23 09:05:30] [DBG] [-1/] [c3] Result for 3: 86.0977 (0) (0.0007s-)\u001b[0m\r\n"
     ]
    },
    {
     "name": "stdout",
     "output_type": "stream",
     "text": [
      "\u001b[36m[2018-08-23 09:05:30] [DBG] [-1/] [c0] Result for 0: 96.7745 (0) (0.0135s+)\u001b[0m\r\n\u001b[36m[2018-08-23 09:05:30] [DBG] [-1/] [c1] Result for 1: 80.2084 (0) (0.0185s+)\u001b[0m\r\n"
     ]
    },
    {
     "name": "stdout",
     "output_type": "stream",
     "text": [
      "\u001b[36m[2018-08-23 09:05:30] [DBG] [-1/] [c2] Result for 2: 99.3147 (0) (0.0101s+)\u001b[0m\r\n\u001b[36m[2018-08-23 09:05:30] [DBG] [-1/] [c3] Result for 3: 86.0977 (0) (0.0144s+)\u001b[0m"
     ]
    },
    {
     "name": "stdout",
     "output_type": "stream",
     "text": [
      "\r\n\u001b[32m[2018-08-23 09:05:30] [INF] [-1/] [o1i20] iter: 20 cost: -362.395 time_iter: wall: 0.159448s cpu: 0.0690861s time_optim: wall: 2.99558s cpu: 1.52302s\u001b[0m\r\niter    objective    inf_pr   inf_du lg(mu)  ||d||  lg(rg) alpha_du alpha_pr  ls\r\n  20 -3.6239526e+02 0.00e+00 1.02e+01  -5.3 7.25e-03    -  1.00e+00 5.00e-01f  2\r\n\u001b[36m[2018-08-23 09:05:30] [DBG] [-1/] [c0] Result for 0: 96.7806 (0) (0.0008s-)\u001b[0m\r\n\u001b[36m[2018-08-23 09:05:30] [DBG] [-1/] [c1] Result for 1: 80.0003 (0) (0.0008s-)\u001b[0m\r\n\u001b[36m[2018-08-23 09:05:30] [DBG] [-1/] [c2] Result for 2: 99.2444 (0) (0.0007s-)\u001b[0m\r\n\u001b[36m[2018-08-23 09:05:30] [DBG] [-1/] [c3] Result for 3: 86.3162 (0) (0.0031s-)\u001b[0m\r\n\u001b[36m[2018-08-23 09:05:30] [DBG] [-1/] [c0] Result for 0: 96.7846 (0) (0.0007s-)\u001b[0m"
     ]
    },
    {
     "name": "stdout",
     "output_type": "stream",
     "text": [
      "\r\n\u001b[36m[2018-08-23 09:05:30] [DBG] [-1/] [c1] Result for 1: 80.1121 (0) (0.0008s-)\u001b[0m\r\n\u001b[36m[2018-08-23 09:05:30] [DBG] [-1/] [c2] Result for 2: 99.2864 (0) (0.0007s-)\u001b[0m\r\n\u001b[36m[2018-08-23 09:05:30] [DBG] [-1/] [c3] Result for 3: 86.214 (0) (0.0007s-)\u001b[0m\r\n\u001b[36m[2018-08-23 09:05:30] [DBG] [-1/] [c0] Result for 0: 96.7846 (0) (0.0207s+)\u001b[0m\r\n\u001b[36m[2018-08-23 09:05:30] [DBG] [-1/] [c1] Result for 1: 80.1121 (0) (0.0151s+)\u001b[0m"
     ]
    },
    {
     "name": "stdout",
     "output_type": "stream",
     "text": [
      "\r\n\u001b[36m[2018-08-23 09:05:30] [DBG] [-1/] [c2] Result for 2: 99.2864 (0) (0.0127s+)\u001b[0m\r\n"
     ]
    },
    {
     "name": "stdout",
     "output_type": "stream",
     "text": [
      "\u001b[36m[2018-08-23 09:05:30] [DBG] [-1/] [c3] Result for 3: 86.214 (0) (0.0204s+)\u001b[0m\r\n\u001b[32m[2018-08-23 09:05:30] [INF] [-1/] [o1i21] iter: 21 cost: -362.397 time_iter: wall: 0.146657s cpu: 0.0770781s time_optim: wall: 3.14224s cpu: 1.60009s\u001b[0m\r\n  21 -3.6239716e+02 0.00e+00 7.65e+00  -7.2 8.11e-03    -  1.00e+00 5.00e-01f  2\r\n\u001b[36m[2018-08-23 09:05:30] [DBG] [-1/] [c0] Result for 0: 96.8286 (0) (0.0007s-)\u001b[0m\r\n\u001b[36m[2018-08-23 09:05:30] [DBG] [-1/] [c1] Result for 1: 80.149 (0) (0.0008s-)\u001b[0m\r\n\u001b[36m[2018-08-23 09:05:30] [DBG] [-1/] [c2] Result for 2: 99.298 (0) (0.0010s-)\u001b[0m\r\n\u001b[36m[2018-08-23 09:05:30] [DBG] [-1/] [c3] Result for 3: 86.1515 (0) (0.0007s-)\u001b[0m\r\n\u001b[36m[2018-08-23 09:05:30] [DBG] [-1/] [c0] Result for 0: 96.8286 (0) (0.0169s+)\u001b[0m\r\n"
     ]
    },
    {
     "name": "stdout",
     "output_type": "stream",
     "text": [
      "\u001b[36m[2018-08-23 09:05:30] [DBG] [-1/] [c1] Result for 1: 80.149 (0) (0.0239s+)\u001b[0m\r\n"
     ]
    },
    {
     "name": "stdout",
     "output_type": "stream",
     "text": [
      "\u001b[36m[2018-08-23 09:05:30] [DBG] [-1/] [c2] Result for 2: 99.298 (0) (0.0216s+)\u001b[0m\r\n\u001b[36m[2018-08-23 09:05:30] [DBG] [-1/] [c3] Result for 3: 86.1515 (0) (0.0086s+)\u001b[0m\r\n\u001b[32m[2018-08-23 09:05:30] [INF] [-1/] [o1i22] iter: 22 cost: -362.427 time_iter: wall: 0.142367s cpu: 0.0742889s time_optim: wall: 3.2846s cpu: 1.67438s\u001b[0m\r\n  22 -3.6242711e+02 0.00e+00 3.55e+00  -9.1 3.03e-03    -  1.00e+00 1.00e+00f  1"
     ]
    },
    {
     "name": "stdout",
     "output_type": "stream",
     "text": [
      "\r\n\u001b[36m[2018-08-23 09:05:30] [DBG] [-1/] [c0] Result for 0: 96.9186 (0) (0.0007s-)\u001b[0m\r\n\u001b[36m[2018-08-23 09:05:30] [DBG] [-1/] [c1] Result for 1: 80.1264 (0) (0.0007s-)\u001b[0m\r\n\u001b[36m[2018-08-23 09:05:30] [DBG] [-1/] [c2] Result for 2: 99.3465 (0) (0.0021s-)\u001b[0m\r\n\u001b[36m[2018-08-23 09:05:30] [DBG] [-1/] [c3] Result for 3: 86.0974 (0) (0.0025s-)\u001b[0m\r\n\u001b[36m[2018-08-23 09:05:30] [DBG] [-1/] [c0] Result for 0: 96.9186 (0) (0.0191s+)\u001b[0m\r\n"
     ]
    },
    {
     "name": "stdout",
     "output_type": "stream",
     "text": [
      "\u001b[36m[2018-08-23 09:05:30] [DBG] [-1/] [c1] Result for 1: 80.1264 (0) (0.0148s+)\u001b[0m\r\n\u001b[36m[2018-08-23 09:05:30] [DBG] [-1/] [c2] Result for 2: 99.3465 (0) (0.0204s+)\u001b[0m\r\n"
     ]
    },
    {
     "name": "stdout",
     "output_type": "stream",
     "text": [
      "\u001b[36m[2018-08-23 09:05:30] [DBG] [-1/] [c3] Result for 3: 86.0974 (0) (0.0207s+)\u001b[0m\r\n\u001b[32m[2018-08-23 09:05:30] [INF] [-1/] [o1i23] iter: 23 cost: -362.489 time_iter: wall: 0.140366s cpu: 0.0811942s time_optim: wall: 3.42497s cpu: 1.75558s\u001b[0m\r\n  23 -3.6248887e+02 0.00e+00 9.80e+00 -10.8 1.78e-02    -  1.00e+00 1.00e+00f  1\r\n\u001b[36m[2018-08-23 09:05:30] [DBG] [-1/] [c0] Result for 0: 96.4244 (0) (0.0008s-)\u001b[0m\r\n\u001b[36m[2018-08-23 09:05:30] [DBG] [-1/] [c1] Result for 1: 79.4159 (0) (0.0033s-)\u001b[0m\r\n\u001b[36m[2018-08-23 09:05:30] [DBG] [-1/] [c2] Result for 2: 100.113 (0) (0.0038s-)\u001b[0m\r\n\u001b[36m[2018-08-23 09:05:30] [DBG] [-1/] [c3] Result for 3: 84.8409 (0) (0.0008s-)\u001b[0m\r\n"
     ]
    },
    {
     "name": "stdout",
     "output_type": "stream",
     "text": [
      "\u001b[36m[2018-08-23 09:05:30] [DBG] [-1/] [c0] Result for 0: 96.4244 (0) (0.0015s-)\u001b[0m\r\n\u001b[36m[2018-08-23 09:05:30] [DBG] [-1/] [c1] Result for 1: 79.4159 (0) (0.0009s-)\u001b[0m\r\n\u001b[36m[2018-08-23 09:05:30] [DBG] [-1/] [c2] Result for 2: 100.113 (0) (0.0022s-)\u001b[0m\r\n\u001b[36m[2018-08-23 09:05:30] [DBG] [-1/] [c3] Result for 3: 84.8409 (0) (0.0010s-)\u001b[0m\r\n\u001b[36m[2018-08-23 09:05:30] [DBG] [-1/] [c0] Result for 0: 96.8022 (0) (0.0007s-)\u001b[0m\r\n\u001b[36m[2018-08-23 09:05:30] [DBG] [-1/] [c1] Result for 1: 79.8805 (0) (0.0007s-)\u001b[0m\r\n\u001b[36m[2018-08-23 09:05:30] [DBG] [-1/] [c2] Result for 2: 99.8685 (0) (0.0007s-)\u001b[0m\r\n\u001b[36m[2018-08-23 09:05:30] [DBG] [-1/] [c3] Result for 3: 85.6017 (0) (0.0010s-)\u001b[0m\r\n\u001b[36m[2018-08-23 09:05:30] [DBG] [-1/] [c0] Result for 0: 96.8931 (0) (0.0007s-)\u001b[0m\r\n\u001b[36m[2018-08-23 09:05:30] [DBG] [-1/] [c1] Result for 1: 80.0308 (0) (0.0007s-)\u001b[0m\r\n\u001b[36m[2018-08-23 09:05:30] [DBG] [-1/] [c2] Result for 2: 99.6424 (0) (0.0007s-)\u001b[0m\r\n\u001b[36m[2018-08-23 09:05:30] [DBG] [-1/] [c3] Result for 3: 85.8829 (0) (0.0007s-)\u001b[0m\r\n\u001b[36m[2018-08-23 09:05:30] [DBG] [-1/] [c0] Result for 0: 96.914 (0) (0.0009s-)\u001b[0m\r\n\u001b[36m[2018-08-23 09:05:30] [DBG] [-1/] [c1] Result for 1: 80.0854 (0) (0.0015s-)\u001b[0m\r\n\u001b[36m[2018-08-23 09:05:30] [DBG] [-1/] [c2] Result for 2: 99.5032 (0) (0.0010s-)\u001b[0m"
     ]
    },
    {
     "name": "stdout",
     "output_type": "stream",
     "text": [
      "\r\n\u001b[36m[2018-08-23 09:05:30] [DBG] [-1/] [c3] Result for 3: 85.9986 (0) (0.0023s-)\u001b[0m\r\n\u001b[36m[2018-08-23 09:05:30] [DBG] [-1/] [c0] Result for 0: 96.914 (0) (0.0139s+)\u001b[0m\r\n\u001b[36m[2018-08-23 09:05:30] [DBG] [-1/] [c1] Result for 1: 80.0854 (0) (0.0184s+)\u001b[0m"
     ]
    },
    {
     "name": "stdout",
     "output_type": "stream",
     "text": [
      "\r\n\u001b[36m[2018-08-23 09:05:30] [DBG] [-1/] [c2] Result for 2: 99.5032 (0) (0.0173s+)\u001b[0m\r\n\u001b[36m[2018-08-23 09:05:30] [DBG] [-1/] [c3] Result for 3: 85.9986 (0) (0.0157s+)\u001b[0m"
     ]
    },
    {
     "name": "stdout",
     "output_type": "stream",
     "text": [
      "\r\n\u001b[32m[2018-08-23 09:05:30] [INF] [-1/] [o1i24] iter: 24 cost: -362.501 time_iter: wall: 0.192636s cpu: 0.0913455s time_optim: wall: 3.61761s cpu: 1.84692s\u001b[0m\r\n  24 -3.6250122e+02 0.00e+00 8.59e+00 -11.0 9.87e-02    -  1.00e+00 1.25e-01f  4\r\n\u001b[36m[2018-08-23 09:05:30] [DBG] [-1/] [c0] Result for 0: 97.0102 (0) (0.0033s-)\u001b[0m\r\n\u001b[36m[2018-08-23 09:05:30] [DBG] [-1/] [c1] Result for 1: 80.0765 (0) (0.0024s-)\u001b[0m\r\n\u001b[36m[2018-08-23 09:05:30] [DBG] [-1/] [c2] Result for 2: 99.2735 (0) (0.0034s-)\u001b[0m\r\n\u001b[36m[2018-08-23 09:05:30] [DBG] [-1/] [c3] Result for 3: 86.2116 (0) (0.0007s-)\u001b[0m\r\n\u001b[36m[2018-08-23 09:05:30] [DBG] [-1/] [c0] Result for 0: 97.0102 (0) (0.0161s+)\u001b[0m"
     ]
    },
    {
     "name": "stdout",
     "output_type": "stream",
     "text": [
      "\r\n\u001b[36m[2018-08-23 09:05:30] [DBG] [-1/] [c1] Result for 1: 80.0765 (0) (0.0230s+)\u001b[0m\r\n\u001b[36m[2018-08-23 09:05:31] [DBG] [-1/] [c2] Result for 2: 99.2735 (0) (0.0076s+)\u001b[0m"
     ]
    },
    {
     "name": "stdout",
     "output_type": "stream",
     "text": [
      "\r\n\u001b[36m[2018-08-23 09:05:31] [DBG] [-1/] [c3] Result for 3: 86.2116 (0) (0.0180s+)\u001b[0m\r\n\u001b[32m[2018-08-23 09:05:31] [INF] [-1/] [o1i25] iter: 25 cost: -362.572 time_iter: wall: 0.138943s cpu: 0.0744667s time_optim: wall: 3.75655s cpu: 1.92139s\u001b[0m\r\n  25 -3.6257180e+02 0.00e+00 3.09e+01 -11.0 6.60e-02    -  1.00e+00 1.00e+00f  1\r\n"
     ]
    },
    {
     "name": "stdout",
     "output_type": "stream",
     "text": [
      "\u001b[36m[2018-08-23 09:05:31] [DBG] [-1/] [c0] Result for 0: 86.0134 (0) (0.0023s-)\u001b[0m\r\n\u001b[36m[2018-08-23 09:05:31] [DBG] [-1/] [c1] Result for 1: 49.1854 (0) (0.0008s-)\u001b[0m\r\n\u001b[36m[2018-08-23 09:05:31] [DBG] [-1/] [c2] Result for 2: 88.0255 (0) (0.0008s-)\u001b[0m\r\n\u001b[36m[2018-08-23 09:05:31] [DBG] [-1/] [c3] Result for 3: 59.597 (0) (0.0008s-)\u001b[0m\r\n\u001b[36m[2018-08-23 09:05:31] [DBG] [-1/] [c0] Result for 0: 86.0134 (0) (0.0008s-)\u001b[0m\r\n\u001b[36m[2018-08-23 09:05:31] [DBG] [-1/] [c1] Result for 1: 49.1854 (0) (0.0008s-)\u001b[0m\r\n\u001b[36m[2018-08-23 09:05:31] [DBG] [-1/] [c2] Result for 2: 88.0255 (0) (0.0008s-)\u001b[0m\r\n\u001b[36m[2018-08-23 09:05:31] [DBG] [-1/] [c3] Result for 3: 59.597 (0) (0.0028s-)\u001b[0m\r\n\u001b[36m[2018-08-23 09:05:31] [DBG] [-1/] [c0] Result for 0: 95.4968 (0) (0.0007s-)\u001b[0m\r\n\u001b[36m[2018-08-23 09:05:31] [DBG] [-1/] [c1] Result for 1: 71.6432 (0) (0.0039s-)\u001b[0m\r\n\u001b[36m[2018-08-23 09:05:31] [DBG] [-1/] [c2] Result for 2: 98.0792 (0) (0.0012s-)\u001b[0m\r\n\u001b[36m[2018-08-23 09:05:31] [DBG] [-1/] [c3] Result for 3: 81.9596 (0) (0.0009s-)\u001b[0m\r\n\u001b[36m[2018-08-23 09:05:31] [DBG] [-1/] [c0] Result for 0: 96.9213 (0) (0.0009s-)\u001b[0m\r\n\u001b[36m[2018-08-23 09:05:31] [DBG] [-1/] [c1] Result for 1: 76.9953 (0) (0.0008s-)\u001b[0m\r\n"
     ]
    },
    {
     "name": "stdout",
     "output_type": "stream",
     "text": [
      "\u001b[36m[2018-08-23 09:05:31] [DBG] [-1/] [c2] Result for 2: 99.5004 (0) (0.0051s-)\u001b[0m\r\n\u001b[36m[2018-08-23 09:05:31] [DBG] [-1/] [c3] Result for 3: 85.944 (0) (0.0008s-)\u001b[0m\r\n\u001b[36m[2018-08-23 09:05:31] [DBG] [-1/] [c0] Result for 0: 97.1147 (0) (0.0025s-)\u001b[0m\r\n\u001b[36m[2018-08-23 09:05:31] [DBG] [-1/] [c1] Result for 1: 78.7491 (0) (0.0024s-)\u001b[0m\r\n\u001b[36m[2018-08-23 09:05:31] [DBG] [-1/] [c2] Result for 2: 99.5816 (0) (0.0007s-)\u001b[0m\r\n\u001b[36m[2018-08-23 09:05:31] [DBG] [-1/] [c3] Result for 3: 86.5064 (0) (0.0013s-)\u001b[0m\r\n\u001b[36m[2018-08-23 09:05:31] [DBG] [-1/] [c0] Result for 0: 97.1026 (0) (0.0008s-)\u001b[0m\r\n\u001b[36m[2018-08-23 09:05:31] [DBG] [-1/] [c1] Result for 1: 79.4612 (0) (0.0008s-)\u001b[0m\r\n\u001b[36m[2018-08-23 09:05:31] [DBG] [-1/] [c2] Result for 2: 99.4799 (0) (0.0057s-)\u001b[0m\r\n\u001b[36m[2018-08-23 09:05:31] [DBG] [-1/] [c3] Result for 3: 86.4661 (0) (0.0008s-)\u001b[0m\r\n\u001b[36m[2018-08-23 09:05:31] [DBG] [-1/] [c0] Result for 0: 97.0673 (0) (0.0007s-)\u001b[0m\r\n\u001b[36m[2018-08-23 09:05:31] [DBG] [-1/] [c1] Result for 1: 79.7808 (0) (0.0007s-)\u001b[0m\r\n\u001b[36m[2018-08-23 09:05:31] [DBG] [-1/] [c2] Result for 2: 99.3907 (0) (0.0031s-)\u001b[0m\r\n\u001b[36m[2018-08-23 09:05:31] [DBG] [-1/] [c3] Result for 3: 86.366 (0) (0.0009s-)\u001b[0m\r\n\u001b[36m[2018-08-23 09:05:31] [DBG] [-1/] [c0] Result for 0: 97.0673 (0) (0.0082s+)\u001b[0m"
     ]
    },
    {
     "name": "stdout",
     "output_type": "stream",
     "text": [
      "\r\n\u001b[36m[2018-08-23 09:05:31] [DBG] [-1/] [c1] Result for 1: 79.7808 (0) (0.0148s+)\u001b[0m\r\n"
     ]
    },
    {
     "name": "stdout",
     "output_type": "stream",
     "text": [
      "\u001b[36m[2018-08-23 09:05:31] [DBG] [-1/] [c2] Result for 2: 99.3907 (0) (0.0194s+)\u001b[0m\r\n\u001b[36m[2018-08-23 09:05:31] [DBG] [-1/] [c3] Result for 3: 86.366 (0) (0.0168s+)\u001b[0m\r\n\u001b[32m[2018-08-23 09:05:31] [INF] [-1/] [o1i26] iter: 26 cost: -362.605 time_iter: wall: 0.210883s cpu: 0.104066s time_optim: wall: 3.96743s cpu: 2.02546s\u001b[0m\r\n  26 -3.6260481e+02 0.00e+00 3.23e+01 -11.0 9.76e-01    -  1.00e+00 3.12e-02f  6\r\n"
     ]
    },
    {
     "name": "stdout",
     "output_type": "stream",
     "text": [
      "\u001b[36m[2018-08-23 09:05:31] [DBG] [-1/] [c0] Result for 0: 96.0379 (0) (0.0008s-)\u001b[0m\r\n\u001b[36m[2018-08-23 09:05:31] [DBG] [-1/] [c1] Result for 1: 75.3364 (0) (0.0010s-)\u001b[0m\r\n\u001b[36m[2018-08-23 09:05:31] [DBG] [-1/] [c2] Result for 2: 96.0144 (0) (0.0026s-)\u001b[0m\r\n\u001b[36m[2018-08-23 09:05:31] [DBG] [-1/] [c3] Result for 3: 83.4606 (0) (0.0008s-)\u001b[0m\r\n\u001b[36m[2018-08-23 09:05:31] [DBG] [-1/] [c0] Result for 0: 96.0379 (0) (0.0008s-)\u001b[0m\r\n\u001b[36m[2018-08-23 09:05:31] [DBG] [-1/] [c1] Result for 1: 75.3364 (0) (0.0009s-)\u001b[0m\r\n\u001b[36m[2018-08-23 09:05:31] [DBG] [-1/] [c2] Result for 2: 96.0144 (0) (0.0008s-)\u001b[0m\r\n\u001b[36m[2018-08-23 09:05:31] [DBG] [-1/] [c3] Result for 3: 83.4606 (0) (0.0011s-)\u001b[0m\r\n\u001b[36m[2018-08-23 09:05:31] [DBG] [-1/] [c0] Result for 0: 97.291 (0) (0.0033s-)\u001b[0m\r\n\u001b[36m[2018-08-23 09:05:31] [DBG] [-1/] [c1] Result for 1: 78.335 (0) (0.0008s-)\u001b[0m\r\n\u001b[36m[2018-08-23 09:05:31] [DBG] [-1/] [c2] Result for 2: 98.4077 (0) (0.0008s-)\u001b[0m\r\n\u001b[36m[2018-08-23 09:05:31] [DBG] [-1/] [c3] Result for 3: 85.7531 (0) (0.0007s-)\u001b[0m\r\n\u001b[36m[2018-08-23 09:05:31] [DBG] [-1/] [c0] Result for 0: 97.3713 (0) (0.0008s-)\u001b[0m\r\n"
     ]
    },
    {
     "name": "stdout",
     "output_type": "stream",
     "text": [
      "\u001b[36m[2018-08-23 09:05:31] [DBG] [-1/] [c1] Result for 1: 79.2578 (0) (0.0035s-)\u001b[0m\r\n\u001b[36m[2018-08-23 09:05:31] [DBG] [-1/] [c2] Result for 2: 99.0818 (0) (0.0007s-)\u001b[0m\r\n\u001b[36m[2018-08-23 09:05:31] [DBG] [-1/] [c3] Result for 3: 86.2766 (0) (0.0008s-)\u001b[0m\r\n\u001b[36m[2018-08-23 09:05:31] [DBG] [-1/] [c0] Result for 0: 97.2685 (0) (0.0007s-)\u001b[0m\r\n\u001b[36m[2018-08-23 09:05:31] [DBG] [-1/] [c1] Result for 1: 79.5701 (0) (0.0014s-)\u001b[0m\r\n\u001b[36m[2018-08-23 09:05:31] [DBG] [-1/] [c2] Result for 2: 99.2829 (0) (0.0007s-)\u001b[0m\r\n\u001b[36m[2018-08-23 09:05:31] [DBG] [-1/] [c3] Result for 3: 86.3766 (0) (0.0007s-)\u001b[0m\r\n\u001b[36m[2018-08-23 09:05:31] [DBG] [-1/] [c0] Result for 0: 97.1803 (0) (0.0007s-)\u001b[0m\r\n\u001b[36m[2018-08-23 09:05:31] [DBG] [-1/] [c1] Result for 1: 79.6883 (0) (0.0007s-)\u001b[0m\r\n\u001b[36m[2018-08-23 09:05:31] [DBG] [-1/] [c2] Result for 2: 99.3486 (0) (0.0007s-)\u001b[0m\r\n\u001b[36m[2018-08-23 09:05:31] [DBG] [-1/] [c3] Result for 3: 86.3853 (0) (0.0010s-)\u001b[0m\r\n\u001b[36m[2018-08-23 09:05:31] [DBG] [-1/] [c0] Result for 0: 97.1269 (0) (0.0007s-)\u001b[0m\r\n\u001b[36m[2018-08-23 09:05:31] [DBG] [-1/] [c1] Result for 1: 79.7378 (0) (0.0012s-)\u001b[0m\r\n\u001b[36m[2018-08-23 09:05:31] [DBG] [-1/] [c2] Result for 2: 99.3726 (0) (0.0007s-)\u001b[0m\r\n\u001b[36m[2018-08-23 09:05:31] [DBG] [-1/] [c3] Result for 3: 86.3792 (0) (0.0007s-)\u001b[0m\r\n"
     ]
    },
    {
     "name": "stdout",
     "output_type": "stream",
     "text": [
      "\u001b[36m[2018-08-23 09:05:31] [DBG] [-1/] [c0] Result for 0: 97.1269 (0) (0.0230s+)\u001b[0m\r\n\u001b[36m[2018-08-23 09:05:31] [DBG] [-1/] [c1] Result for 1: 79.7378 (0) (0.0192s+)\u001b[0m\r\n"
     ]
    },
    {
     "name": "stdout",
     "output_type": "stream",
     "text": [
      "\u001b[36m[2018-08-23 09:05:31] [DBG] [-1/] [c2] Result for 2: 99.3726 (0) (0.0165s+)\u001b[0m\r\n\u001b[36m[2018-08-23 09:05:31] [DBG] [-1/] [c3] Result for 3: 86.3792 (0) (0.0137s+)\u001b[0m\r\n\u001b[32m[2018-08-23 09:05:31] [INF] [-1/] [o1i27] iter: 27 cost: -362.616 time_iter: wall: 0.218119s cpu: 0.102419s time_optim: wall: 4.18555s cpu: 2.12788s\u001b[0m"
     ]
    },
    {
     "name": "stdout",
     "output_type": "stream",
     "text": [
      "\r\n  27 -3.6261649e+02 0.00e+00 1.85e+01 -11.0 1.28e-01    -  1.00e+00 3.12e-02f  6\r\n\u001b[36m[2018-08-23 09:05:31] [DBG] [-1/] [c0] Result for 0: 97.1256 (0) (0.0008s-)\u001b[0m\r\n\u001b[36m[2018-08-23 09:05:31] [DBG] [-1/] [c1] Result for 1: 79.7597 (0) (0.0012s-)\u001b[0m\r\n\u001b[36m[2018-08-23 09:05:31] [DBG] [-1/] [c2] Result for 2: 99.8637 (0) (0.0008s-)\u001b[0m\r\n\u001b[36m[2018-08-23 09:05:31] [DBG] [-1/] [c3] Result for 3: 85.8899 (0) (0.0008s-)\u001b[0m\r\n\u001b[36m[2018-08-23 09:05:31] [DBG] [-1/] [c0] Result for 0: 97.1256 (0) (0.0196s+)\u001b[0m\r\n"
     ]
    },
    {
     "name": "stdout",
     "output_type": "stream",
     "text": [
      "\u001b[36m[2018-08-23 09:05:31] [DBG] [-1/] [c1] Result for 1: 79.7597 (0) (0.0200s+)\u001b[0m\r\n\u001b[36m[2018-08-23 09:05:31] [DBG] [-1/] [c2] Result for 2: 99.8637 (0) (0.0077s+)\u001b[0m\r\n"
     ]
    },
    {
     "name": "stdout",
     "output_type": "stream",
     "text": [
      "\u001b[36m[2018-08-23 09:05:31] [DBG] [-1/] [c3] Result for 3: 85.8899 (0) (0.0180s+)\u001b[0m\r\n\u001b[32m[2018-08-23 09:05:31] [INF] [-1/] [o1i28] iter: 28 cost: -362.639 time_iter: wall: 0.132081s cpu: 0.0688096s time_optim: wall: 4.31763s cpu: 2.19669s\u001b[0m\r\n  28 -3.6263895e+02 0.00e+00 2.44e+01 -11.0 1.35e-02    -  1.00e+00 1.00e+00f  1\r\n\u001b[36m[2018-08-23 09:05:31] [DBG] [-1/] [c0] Result for 0: 97.3301 (0) (0.0010s-)\u001b[0m\r\n\u001b[36m[2018-08-23 09:05:31] [DBG] [-1/] [c1] Result for 1: 79.0649 (0) (0.0008s-)\u001b[0m\r\n\u001b[36m[2018-08-23 09:05:31] [DBG] [-1/] [c2] Result for 2: 99.266 (0) (0.0007s-)\u001b[0m\r\n\u001b[36m[2018-08-23 09:05:31] [DBG] [-1/] [c3] Result for 3: 86.5416 (0) (0.0013s-)\u001b[0m\r\n\u001b[36m[2018-08-23 09:05:31] [DBG] [-1/] [c0] Result for 0: 97.3301 (0) (0.0012s-)\u001b[0m\r\n"
     ]
    },
    {
     "name": "stdout",
     "output_type": "stream",
     "text": [
      "\u001b[36m[2018-08-23 09:05:31] [DBG] [-1/] [c1] Result for 1: 79.0649 (0) (0.0011s-)\u001b[0m\r\n\u001b[36m[2018-08-23 09:05:31] [DBG] [-1/] [c2] Result for 2: 99.266 (0) (0.0008s-)\u001b[0m\r\n\u001b[36m[2018-08-23 09:05:31] [DBG] [-1/] [c3] Result for 3: 86.5416 (0) (0.0008s-)\u001b[0m\r\n\u001b[36m[2018-08-23 09:05:31] [DBG] [-1/] [c0] Result for 0: 97.2789 (0) (0.0008s-)\u001b[0m\r\n\u001b[36m[2018-08-23 09:05:31] [DBG] [-1/] [c1] Result for 1: 79.4538 (0) (0.0008s-)\u001b[0m\r\n\u001b[36m[2018-08-23 09:05:31] [DBG] [-1/] [c2] Result for 2: 99.615 (0) (0.0007s-)\u001b[0m\r\n\u001b[36m[2018-08-23 09:05:31] [DBG] [-1/] [c3] Result for 3: 86.257 (0) (0.0008s-)\u001b[0m\r\n\u001b[36m[2018-08-23 09:05:31] [DBG] [-1/] [c0] Result for 0: 97.2152 (0) (0.0009s-)\u001b[0m\r\n\u001b[36m[2018-08-23 09:05:31] [DBG] [-1/] [c1] Result for 1: 79.6172 (0) (0.0016s-)\u001b[0m\r\n\u001b[36m[2018-08-23 09:05:31] [DBG] [-1/] [c2] Result for 2: 99.7521 (0) (0.0007s-)\u001b[0m\r\n\u001b[36m[2018-08-23 09:05:31] [DBG] [-1/] [c3] Result for 3: 86.0839 (0) (0.0078s-)\u001b[0m\r\n\u001b[36m[2018-08-23 09:05:31] [DBG] [-1/] [c0] Result for 0: 97.2152 (0) (0.0080s+)\u001b[0m"
     ]
    },
    {
     "name": "stdout",
     "output_type": "stream",
     "text": [
      "\r\n\u001b[36m[2018-08-23 09:05:31] [DBG] [-1/] [c1] Result for 1: 79.6172 (0) (0.0142s+)\u001b[0m\r\n"
     ]
    },
    {
     "name": "stdout",
     "output_type": "stream",
     "text": [
      "\u001b[36m[2018-08-23 09:05:31] [DBG] [-1/] [c2] Result for 2: 99.7521 (0) (0.0124s+)\u001b[0m\r\n\u001b[36m[2018-08-23 09:05:31] [DBG] [-1/] [c3] Result for 3: 86.0839 (0) (0.0199s+)\u001b[0m\r\n\u001b[32m[2018-08-23 09:05:31] [INF] [-1/] [o1i29] iter: 29 cost: -362.668 time_iter: wall: 0.181879s cpu: 0.0760771s time_optim: wall: 4.49951s cpu: 2.27276s\u001b[0m\r\n  29 -3.6266831e+02 0.00e+00 9.90e+00 -11.0 2.88e-02    -  1.00e+00 2.50e-01f  3\r\n\u001b[36m[2018-08-23 09:05:31] [DBG] [-1/] [c0] Result for 0: 96.7172 (0) (0.0011s-)\u001b[0m"
     ]
    },
    {
     "name": "stdout",
     "output_type": "stream",
     "text": [
      "\r\n\u001b[36m[2018-08-23 09:05:31] [DBG] [-1/] [c1] Result for 1: 79.326 (0) (0.0012s-)\u001b[0m\r\n\u001b[36m[2018-08-23 09:05:31] [DBG] [-1/] [c2] Result for 2: 99.6279 (0) (0.0015s-)\u001b[0m\r\n\u001b[36m[2018-08-23 09:05:31] [DBG] [-1/] [c3] Result for 3: 86.7895 (0) (0.0007s-)\u001b[0m\r\n\u001b[36m[2018-08-23 09:05:31] [DBG] [-1/] [c0] Result for 0: 96.7172 (0) (0.0008s-)\u001b[0m\r\n\u001b[36m[2018-08-23 09:05:31] [DBG] [-1/] [c1] Result for 1: 79.326 (0) (0.0013s-)\u001b[0m\r\n\u001b[36m[2018-08-23 09:05:31] [DBG] [-1/] [c2] Result for 2: 99.6279 (0) (0.0008s-)\u001b[0m\r\n\u001b[36m[2018-08-23 09:05:31] [DBG] [-1/] [c3] Result for 3: 86.7895 (0) (0.0007s-)\u001b[0m\r\n\u001b[36m[2018-08-23 09:05:31] [DBG] [-1/] [c0] Result for 0: 97.0089 (0) (0.0008s-)\u001b[0m\r\n\u001b[36m[2018-08-23 09:05:31] [DBG] [-1/] [c1] Result for 1: 79.4815 (0) (0.0028s-)\u001b[0m\r\n\u001b[36m[2018-08-23 09:05:31] [DBG] [-1/] [c2] Result for 2: 99.7344 (0) (0.0008s-)\u001b[0m\r\n\u001b[36m[2018-08-23 09:05:31] [DBG] [-1/] [c3] Result for 3: 86.4498 (0) (0.0007s-)\u001b[0m\r\n"
     ]
    },
    {
     "name": "stdout",
     "output_type": "stream",
     "text": [
      "\u001b[36m[2018-08-23 09:05:31] [DBG] [-1/] [c0] Result for 0: 97.0089 (0) (0.0157s+)\u001b[0m\r\n\u001b[36m[2018-08-23 09:05:31] [DBG] [-1/] [c1] Result for 1: 79.4815 (0) (0.0178s+)\u001b[0m"
     ]
    },
    {
     "name": "stdout",
     "output_type": "stream",
     "text": [
      "\r\n\u001b[36m[2018-08-23 09:05:31] [DBG] [-1/] [c2] Result for 2: 99.7344 (0) (0.0145s+)\u001b[0m\r\n"
     ]
    },
    {
     "name": "stdout",
     "output_type": "stream",
     "text": [
      "\u001b[36m[2018-08-23 09:05:31] [DBG] [-1/] [c3] Result for 3: 86.4498 (0) (0.0190s+)\u001b[0m\r\n\u001b[32m[2018-08-23 09:05:31] [INF] [-1/] [o1i30] iter: 30 cost: -362.675 time_iter: wall: 0.183059s cpu: 0.0801186s time_optim: wall: 4.68257s cpu: 2.35288s\u001b[0m\r\niter    objective    inf_pr   inf_du lg(mu)  ||d||  lg(rg) alpha_du alpha_pr  ls\r\n  30 -3.6267465e+02 0.00e+00 1.22e+01 -11.0 3.32e-02    -  1.00e+00 5.00e-01f  2\r\n\u001b[36m[2018-08-23 09:05:31] [DBG] [-1/] [c0] Result for 0: 97.1192 (0) (0.0009s-)\u001b[0m\r\n\u001b[36m[2018-08-23 09:05:31] [DBG] [-1/] [c1] Result for 1: 79.5642 (0) (0.0007s-)\u001b[0m\r\n\u001b[36m[2018-08-23 09:05:31] [DBG] [-1/] [c2] Result for 2: 99.6209 (0) (0.0009s-)\u001b[0m\r\n\u001b[36m[2018-08-23 09:05:31] [DBG] [-1/] [c3] Result for 3: 86.3819 (0) (0.0007s-)\u001b[0m\r\n\u001b[36m[2018-08-23 09:05:32] [DBG] [-1/] [c0] Result for 0: 97.1192 (0) (0.0183s+)\u001b[0m\r\n"
     ]
    },
    {
     "name": "stdout",
     "output_type": "stream",
     "text": [
      "\u001b[36m[2018-08-23 09:05:32] [DBG] [-1/] [c1] Result for 1: 79.5642 (0) (0.0229s+)\u001b[0m\r\n"
     ]
    },
    {
     "name": "stdout",
     "output_type": "stream",
     "text": [
      "\u001b[36m[2018-08-23 09:05:32] [DBG] [-1/] [c2] Result for 2: 99.6209 (0) (0.0255s+)\u001b[0m\r\n\u001b[36m[2018-08-23 09:05:32] [DBG] [-1/] [c3] Result for 3: 86.3819 (0) (0.0083s+)\u001b[0m\r\n\u001b[32m[2018-08-23 09:05:32] [INF] [-1/] [o1i31] iter: 31 cost: -362.686 time_iter: wall: 0.135015s cpu: 0.0781037s time_optim: wall: 4.81759s cpu: 2.43098s\u001b[0m\r\n  31 -3.6268628e+02 0.00e+00 7.52e+00 -11.0 7.00e-03    -  1.00e+00 1.00e+00f  1\r\n\u001b[36m[2018-08-23 09:05:32] [DBG] [-1/] [c0] Result for 0: 97.1357 (0) (0.0008s-)\u001b[0m\r\n\u001b[36m[2018-08-23 09:05:32] [DBG] [-1/] [c1] Result for 1: 79.5698 (0) (0.0011s-)\u001b[0m\r\n\u001b[36m[2018-08-23 09:05:32] [DBG] [-1/] [c2] Result for 2: 99.69 (0) (0.0035s-)\u001b[0m\r\n\u001b[36m[2018-08-23 09:05:32] [DBG] [-1/] [c3] Result for 3: 86.3155 (0) (0.0007s-)\u001b[0m\r\n"
     ]
    },
    {
     "name": "stdout",
     "output_type": "stream",
     "text": [
      "\u001b[36m[2018-08-23 09:05:32] [DBG] [-1/] [c0] Result for 0: 97.1357 (0) (0.0183s+)\u001b[0m\r\n\u001b[36m[2018-08-23 09:05:32] [DBG] [-1/] [c1] Result for 1: 79.5698 (0) (0.0141s+)\u001b[0m\r\n"
     ]
    },
    {
     "name": "stdout",
     "output_type": "stream",
     "text": [
      "\u001b[36m[2018-08-23 09:05:32] [DBG] [-1/] [c2] Result for 2: 99.69 (0) (0.0237s+)\u001b[0m\r\n\u001b[36m[2018-08-23 09:05:32] [DBG] [-1/] [c3] Result for 3: 86.3155 (0) (0.0188s+)\u001b[0m\r\n"
     ]
    },
    {
     "name": "stdout",
     "output_type": "stream",
     "text": [
      "\u001b[32m[2018-08-23 09:05:32] [INF] [-1/] [o1i32] iter: 32 cost: -362.711 time_iter: wall: 0.131554s cpu: 0.0810746s time_optim: wall: 4.94914s cpu: 2.51206s\u001b[0m\r\n  32 -3.6271101e+02 0.00e+00 3.74e+00 -11.0 6.88e-03    -  1.00e+00 1.00e+00f  1\r\n\u001b[36m[2018-08-23 09:05:32] [DBG] [-1/] [c0] Result for 0: 97.1163 (0) (0.0007s-)\u001b[0m\r\n\u001b[36m[2018-08-23 09:05:32] [DBG] [-1/] [c1] Result for 1: 79.5041 (0) (0.0007s-)\u001b[0m\r\n\u001b[36m[2018-08-23 09:05:32] [DBG] [-1/] [c2] Result for 2: 99.756 (0) (0.0007s-)\u001b[0m\r\n\u001b[36m[2018-08-23 09:05:32] [DBG] [-1/] [c3] Result for 3: 86.3369 (0) (0.0007s-)\u001b[0m\r\n\u001b[36m[2018-08-23 09:05:32] [DBG] [-1/] [c0] Result for 0: 97.1163 (0) (0.0157s+)\u001b[0m\r\n\u001b[36m[2018-08-23 09:05:32] [DBG] [-1/] [c1] Result for 1: 79.5041 (0) (0.0075s+)\u001b[0m"
     ]
    },
    {
     "name": "stdout",
     "output_type": "stream",
     "text": [
      "\r\n\u001b[36m[2018-08-23 09:05:32] [DBG] [-1/] [c2] Result for 2: 99.756 (0) (0.0186s+)\u001b[0m\r\n"
     ]
    },
    {
     "name": "stdout",
     "output_type": "stream",
     "text": [
      "\u001b[36m[2018-08-23 09:05:32] [DBG] [-1/] [c3] Result for 3: 86.3369 (0) (0.0259s+)\u001b[0m\r\n\u001b[32m[2018-08-23 09:05:32] [INF] [-1/] [o1i33] iter: 33 cost: -362.713 time_iter: wall: 0.142505s cpu: 0.0705824s time_optim: wall: 5.09165s cpu: 2.58264s\u001b[0m\r\n  33 -3.6271316e+02 0.00e+00 2.42e+00 -11.0 2.17e-03    -  1.00e+00 1.00e+00f  1\r\n\u001b[36m[2018-08-23 09:05:32] [DBG] [-1/] [c0] Result for 0: 97.0918 (0) (0.0008s-)\u001b[0m\r\n\u001b[36m[2018-08-23 09:05:32] [DBG] [-1/] [c1] Result for 1: 79.5769 (0) (0.0009s-)\u001b[0m\r\n\u001b[36m[2018-08-23 09:05:32] [DBG] [-1/] [c2] Result for 2: 99.6924 (0) (0.0007s-)\u001b[0m\r\n\u001b[36m[2018-08-23 09:05:32] [DBG] [-1/] [c3] Result for 3: 86.3534 (0) (0.0009s-)\u001b[0m"
     ]
    },
    {
     "name": "stdout",
     "output_type": "stream",
     "text": [
      "\r\n\u001b[36m[2018-08-23 09:05:32] [DBG] [-1/] [c0] Result for 0: 97.0918 (0) (0.0119s+)\u001b[0m\r\n\u001b[36m[2018-08-23 09:05:32] [DBG] [-1/] [c1] Result for 1: 79.5769 (0) (0.0205s+)\u001b[0m\r\n"
     ]
    },
    {
     "name": "stdout",
     "output_type": "stream",
     "text": [
      "\u001b[36m[2018-08-23 09:05:32] [DBG] [-1/] [c2] Result for 2: 99.6924 (0) (0.0118s+)\u001b[0m\r\n\u001b[36m[2018-08-23 09:05:32] [DBG] [-1/] [c3] Result for 3: 86.3534 (0) (0.0193s+)\u001b[0m"
     ]
    },
    {
     "name": "stdout",
     "output_type": "stream",
     "text": [
      "\r\n\u001b[32m[2018-08-23 09:05:32] [INF] [-1/] [o1i34] iter: 34 cost: -362.714 time_iter: wall: 0.128829s cpu: 0.0667711s time_optim: wall: 5.22048s cpu: 2.64941s\u001b[0m\r\n  34 -3.6271449e+02 0.00e+00 5.27e+00 -11.0 3.52e-03    -  1.00e+00 1.00e+00f  1\r\n\u001b[36m[2018-08-23 09:05:32] [DBG] [-1/] [c0] Result for 0: 97.1896 (0) (0.0008s-)\u001b[0m\r\n\u001b[36m[2018-08-23 09:05:32] [DBG] [-1/] [c1] Result for 1: 79.6457 (0) (0.0008s-)\u001b[0m\r\n\u001b[36m[2018-08-23 09:05:32] [DBG] [-1/] [c2] Result for 2: 99.3848 (0) (0.0008s-)\u001b[0m\r\n\u001b[36m[2018-08-23 09:05:32] [DBG] [-1/] [c3] Result for 3: 86.3692 (0) (0.0007s-)\u001b[0m\r\n\u001b[36m[2018-08-23 09:05:32] [DBG] [-1/] [c0] Result for 0: 97.1896 (0) (0.0008s-)\u001b[0m\r\n\u001b[36m[2018-08-23 09:05:32] [DBG] [-1/] [c1] Result for 1: 79.6457 (0) (0.0008s-)\u001b[0m\r\n\u001b[36m[2018-08-23 09:05:32] [DBG] [-1/] [c2] Result for 2: 99.3848 (0) (0.0007s-)\u001b[0m\r\n\u001b[36m[2018-08-23 09:05:32] [DBG] [-1/] [c3] Result for 3: 86.3692 (0) (0.0022s-)\u001b[0m\r\n\u001b[36m[2018-08-23 09:05:32] [DBG] [-1/] [c0] Result for 0: 97.1493 (0) (0.0007s-)\u001b[0m\r\n\u001b[36m[2018-08-23 09:05:32] [DBG] [-1/] [c1] Result for 1: 79.6221 (0) (0.0007s-)\u001b[0m\r\n\u001b[36m[2018-08-23 09:05:32] [DBG] [-1/] [c2] Result for 2: 99.5478 (0) (0.0023s-)\u001b[0m\r\n\u001b[36m[2018-08-23 09:05:32] [DBG] [-1/] [c3] Result for 3: 86.3715 (0) (0.0007s-)\u001b[0m\r\n"
     ]
    },
    {
     "name": "stdout",
     "output_type": "stream",
     "text": [
      "\u001b[36m[2018-08-23 09:05:32] [DBG] [-1/] [c0] Result for 0: 97.1227 (0) (0.0008s-)\u001b[0m\r\n\u001b[36m[2018-08-23 09:05:32] [DBG] [-1/] [c1] Result for 1: 79.6022 (0) (0.0010s-)\u001b[0m\r\n\u001b[36m[2018-08-23 09:05:32] [DBG] [-1/] [c2] Result for 2: 99.6224 (0) (0.0015s-)\u001b[0m\r\n\u001b[36m[2018-08-23 09:05:32] [DBG] [-1/] [c3] Result for 3: 86.365 (0) (0.0008s-)\u001b[0m\r\n\u001b[36m[2018-08-23 09:05:32] [DBG] [-1/] [c0] Result for 0: 97.1078 (0) (0.0034s-)\u001b[0m\r\n\u001b[36m[2018-08-23 09:05:32] [DBG] [-1/] [c1] Result for 1: 79.5902 (0) (0.0012s-)\u001b[0m\r\n\u001b[36m[2018-08-23 09:05:32] [DBG] [-1/] [c2] Result for 2: 99.6579 (0) (0.0029s-)\u001b[0m\r\n\u001b[36m[2018-08-23 09:05:32] [DBG] [-1/] [c3] Result for 3: 86.3598 (0) (0.0022s-)\u001b[0m\r\n\u001b[36m[2018-08-23 09:05:32] [DBG] [-1/] [c0] Result for 0: 97.1078 (0) (0.0156s+)\u001b[0m\r\n"
     ]
    },
    {
     "name": "stdout",
     "output_type": "stream",
     "text": [
      "\u001b[36m[2018-08-23 09:05:32] [DBG] [-1/] [c1] Result for 1: 79.5902 (0) (0.0157s+)\u001b[0m\r\n"
     ]
    },
    {
     "name": "stdout",
     "output_type": "stream",
     "text": [
      "\u001b[36m[2018-08-23 09:05:32] [DBG] [-1/] [c2] Result for 2: 99.6579 (0) (0.0210s+)\u001b[0m\r\n\u001b[36m[2018-08-23 09:05:32] [DBG] [-1/] [c3] Result for 3: 86.3598 (0) (0.0176s+)\u001b[0m\r\n\u001b[32m[2018-08-23 09:05:32] [INF] [-1/] [o1i35] iter: 35 cost: -362.716 time_iter: wall: 0.191137s cpu: 0.0956541s time_optim: wall: 5.41161s cpu: 2.74507s\u001b[0m\r\n  35 -3.6271578e+02 0.00e+00 1.40e+00 -11.0 1.57e-02    -  1.00e+00 1.25e-01f  4\r\n\u001b[36m[2018-08-23 09:05:32] [DBG] [-1/] [c0] Result for 0: 97.1 (0) (0.0008s-)\u001b[0m\r\n\u001b[36m[2018-08-23 09:05:32] [DBG] [-1/] [c1] Result for 1: 79.5807 (0) (0.0009s-)\u001b[0m"
     ]
    },
    {
     "name": "stdout",
     "output_type": "stream",
     "text": [
      "\r\n\u001b[36m[2018-08-23 09:05:32] [DBG] [-1/] [c2] Result for 2: 99.6861 (0) (0.0009s-)\u001b[0m\r\n\u001b[36m[2018-08-23 09:05:32] [DBG] [-1/] [c3] Result for 3: 86.3515 (0) (0.0007s-)\u001b[0m\r\n\u001b[36m[2018-08-23 09:05:32] [DBG] [-1/] [c0] Result for 0: 97.1 (0) (0.0163s+)\u001b[0m\r\n"
     ]
    },
    {
     "name": "stdout",
     "output_type": "stream",
     "text": [
      "\u001b[36m[2018-08-23 09:05:32] [DBG] [-1/] [c1] Result for 1: 79.5807 (0) (0.0215s+)\u001b[0m\r\n\u001b[36m[2018-08-23 09:05:32] [DBG] [-1/] [c2] Result for 2: 99.6861 (0) (0.0205s+)\u001b[0m\r\n"
     ]
    },
    {
     "name": "stdout",
     "output_type": "stream",
     "text": [
      "\u001b[36m[2018-08-23 09:05:32] [DBG] [-1/] [c3] Result for 3: 86.3515 (0) (0.0255s+)\u001b[0m\r\n\u001b[32m[2018-08-23 09:05:32] [INF] [-1/] [o1i36] iter: 36 cost: -362.718 time_iter: wall: 0.154293s cpu: 0.0872021s time_optim: wall: 5.56591s cpu: 2.83227s\u001b[0m\r\n  36 -3.6271820e+02 0.00e+00 2.47e+00 -11.0 2.39e-03    -  1.00e+00 1.00e+00f  1\r\n\u001b[36m[2018-08-23 09:05:32] [DBG] [-1/] [c0] Result for 0: 97.2343 (0) (0.0008s-)\u001b[0m\r\n\u001b[36m[2018-08-23 09:05:32] [DBG] [-1/] [c1] Result for 1: 78.9797 (0) (0.0010s-)\u001b[0m\r\n\u001b[36m[2018-08-23 09:05:32] [DBG] [-1/] [c2] Result for 2: 99.403 (0) (0.0009s-)\u001b[0m\r\n\u001b[36m[2018-08-23 09:05:32] [DBG] [-1/] [c3] Result for 3: 86.7719 (0) (0.0009s-)\u001b[0m\r\n"
     ]
    },
    {
     "name": "stdout",
     "output_type": "stream",
     "text": [
      "\u001b[36m[2018-08-23 09:05:32] [DBG] [-1/] [c0] Result for 0: 97.2343 (0) (0.0032s-)\u001b[0m\r\n\u001b[36m[2018-08-23 09:05:32] [DBG] [-1/] [c1] Result for 1: 78.9797 (0) (0.0008s-)\u001b[0m\r\n\u001b[36m[2018-08-23 09:05:32] [DBG] [-1/] [c2] Result for 2: 99.403 (0) (0.0011s-)\u001b[0m\r\n\u001b[36m[2018-08-23 09:05:32] [DBG] [-1/] [c3] Result for 3: 86.7719 (0) (0.0010s-)\u001b[0m\r\n\u001b[36m[2018-08-23 09:05:32] [DBG] [-1/] [c0] Result for 0: 97.1935 (0) (0.0022s-)\u001b[0m\r\n\u001b[36m[2018-08-23 09:05:32] [DBG] [-1/] [c1] Result for 1: 79.2998 (0) (0.0009s-)\u001b[0m\r\n\u001b[36m[2018-08-23 09:05:32] [DBG] [-1/] [c2] Result for 2: 99.5701 (0) (0.0009s-)\u001b[0m\r\n\u001b[36m[2018-08-23 09:05:32] [DBG] [-1/] [c3] Result for 3: 86.5825 (0) (0.0017s-)\u001b[0m\r\n\u001b[36m[2018-08-23 09:05:32] [DBG] [-1/] [c0] Result for 0: 97.1534 (0) (0.0036s-)\u001b[0m\r\n\u001b[36m[2018-08-23 09:05:32] [DBG] [-1/] [c1] Result for 1: 79.4451 (0) (0.0027s-)\u001b[0m\r\n\u001b[36m[2018-08-23 09:05:32] [DBG] [-1/] [c2] Result for 2: 99.6345 (0) (0.0007s-)\u001b[0m\r\n\u001b[36m[2018-08-23 09:05:32] [DBG] [-1/] [c3] Result for 3: 86.4722 (0) (0.0007s-)\u001b[0m\r\n"
     ]
    },
    {
     "name": "stdout",
     "output_type": "stream",
     "text": [
      "\u001b[36m[2018-08-23 09:05:32] [DBG] [-1/] [c0] Result for 0: 97.1283 (0) (0.0010s-)\u001b[0m\r\n\u001b[36m[2018-08-23 09:05:32] [DBG] [-1/] [c1] Result for 1: 79.5141 (0) (0.0007s-)\u001b[0m\r\n\u001b[36m[2018-08-23 09:05:32] [DBG] [-1/] [c2] Result for 2: 99.6619 (0) (0.0009s-)\u001b[0m\r\n\u001b[36m[2018-08-23 09:05:32] [DBG] [-1/] [c3] Result for 3: 86.4131 (0) (0.0007s-)\u001b[0m\r\n\u001b[36m[2018-08-23 09:05:32] [DBG] [-1/] [c0] Result for 0: 97.1146 (0) (0.0007s-)\u001b[0m\r\n\u001b[36m[2018-08-23 09:05:32] [DBG] [-1/] [c1] Result for 1: 79.5477 (0) (0.0007s-)\u001b[0m\r\n\u001b[36m[2018-08-23 09:05:32] [DBG] [-1/] [c2] Result for 2: 99.6744 (0) (0.0007s-)\u001b[0m\r\n\u001b[36m[2018-08-23 09:05:32] [DBG] [-1/] [c3] Result for 3: 86.3826 (0) (0.0008s-)\u001b[0m\r\n\u001b[36m[2018-08-23 09:05:32] [DBG] [-1/] [c0] Result for 0: 97.1146 (0) (0.0200s+)\u001b[0m\r\n"
     ]
    },
    {
     "name": "stdout",
     "output_type": "stream",
     "text": [
      "\u001b[36m[2018-08-23 09:05:33] [DBG] [-1/] [c1] Result for 1: 79.5477 (0) (0.0207s+)\u001b[0m\r\n\u001b[36m[2018-08-23 09:05:33] [DBG] [-1/] [c2] Result for 2: 99.6744 (0) (0.0181s+)\u001b[0m\r\n"
     ]
    },
    {
     "name": "stdout",
     "output_type": "stream",
     "text": [
      "\u001b[36m[2018-08-23 09:05:33] [DBG] [-1/] [c3] Result for 3: 86.3826 (0) (0.0210s+)\u001b[0m\r\n\u001b[32m[2018-08-23 09:05:33] [INF] [-1/] [o1i37] iter: 37 cost: -362.719 time_iter: wall: 0.210829s cpu: 0.109389s time_optim: wall: 5.77674s cpu: 2.94166s\u001b[0m\r\n  37 -3.6271934e+02 0.00e+00 1.80e+00 -11.0 1.27e-02    -  1.00e+00 6.25e-02f  5\r\n\u001b[36m[2018-08-23 09:05:33] [DBG] [-1/] [c0] Result for 0: 97.1155 (0) (0.0007s-)\u001b[0m\r\n\u001b[36m[2018-08-23 09:05:33] [DBG] [-1/] [c1] Result for 1: 79.5728 (0) (0.0008s-)\u001b[0m\r\n\u001b[36m[2018-08-23 09:05:33] [DBG] [-1/] [c2] Result for 2: 99.6864 (0) (0.0009s-)\u001b[0m\r\n\u001b[36m[2018-08-23 09:05:33] [DBG] [-1/] [c3] Result for 3: 86.3474 (0) (0.0032s-)\u001b[0m\r\n"
     ]
    },
    {
     "name": "stdout",
     "output_type": "stream",
     "text": [
      "\u001b[36m[2018-08-23 09:05:33] [DBG] [-1/] [c0] Result for 0: 97.1155 (0) (0.0160s+)\u001b[0m\r\n\u001b[36m[2018-08-23 09:05:33] [DBG] [-1/] [c1] Result for 1: 79.5728 (0) (0.0079s+)\u001b[0m\r\n"
     ]
    },
    {
     "name": "stdout",
     "output_type": "stream",
     "text": [
      "\u001b[36m[2018-08-23 09:05:33] [DBG] [-1/] [c2] Result for 2: 99.6864 (0) (0.0191s+)\u001b[0m\r\n\u001b[36m[2018-08-23 09:05:33] [DBG] [-1/] [c3] Result for 3: 86.3474 (0) (0.0181s+)\u001b[0m\r\n"
     ]
    },
    {
     "name": "stdout",
     "output_type": "stream",
     "text": [
      "\u001b[32m[2018-08-23 09:05:33] [INF] [-1/] [o1i38] iter: 38 cost: -362.722 time_iter: wall: 0.133677s cpu: 0.0667074s time_optim: wall: 5.91042s cpu: 3.00837s\u001b[0m\r\n  38 -3.6272217e+02 0.00e+00 8.85e-01 -11.0 2.98e-03    -  1.00e+00 1.00e+00f  1\r\n\u001b[36m[2018-08-23 09:05:33] [DBG] [-1/] [c0] Result for 0: 96.6996 (0) (0.0008s-)\u001b[0m\r\n\u001b[36m[2018-08-23 09:05:33] [DBG] [-1/] [c1] Result for 1: 79.7355 (0) (0.0007s-)\u001b[0m\r\n\u001b[36m[2018-08-23 09:05:33] [DBG] [-1/] [c2] Result for 2: 99.7099 (0) (0.0007s-)\u001b[0m\r\n\u001b[36m[2018-08-23 09:05:33] [DBG] [-1/] [c3] Result for 3: 86.4508 (0) (0.0009s-)\u001b[0m\r\n\u001b[36m[2018-08-23 09:05:33] [DBG] [-1/] [c0] Result for 0: 96.6996 (0) (0.0007s-)\u001b[0m\r\n\u001b[36m[2018-08-23 09:05:33] [DBG] [-1/] [c1] Result for 1: 79.7355 (0) (0.0010s-)\u001b[0m\r\n\u001b[36m[2018-08-23 09:05:33] [DBG] [-1/] [c2] Result for 2: 99.7099 (0) (0.0007s-)\u001b[0m\r\n\u001b[36m[2018-08-23 09:05:33] [DBG] [-1/] [c3] Result for 3: 86.4508 (0) (0.0008s-)\u001b[0m\r\n\u001b[36m[2018-08-23 09:05:33] [DBG] [-1/] [c0] Result for 0: 96.9234 (0) (0.0039s-)\u001b[0m\r\n\u001b[36m[2018-08-23 09:05:33] [DBG] [-1/] [c1] Result for 1: 79.6609 (0) (0.0008s-)\u001b[0m\r\n\u001b[36m[2018-08-23 09:05:33] [DBG] [-1/] [c2] Result for 2: 99.7114 (0) (0.0024s-)\u001b[0m\r\n\u001b[36m[2018-08-23 09:05:33] [DBG] [-1/] [c3] Result for 3: 86.4091 (0) (0.0008s-)\u001b[0m\r\n"
     ]
    },
    {
     "name": "stdout",
     "output_type": "stream",
     "text": [
      "\u001b[36m[2018-08-23 09:05:33] [DBG] [-1/] [c0] Result for 0: 97.0234 (0) (0.0013s-)\u001b[0m\r\n\u001b[36m[2018-08-23 09:05:33] [DBG] [-1/] [c1] Result for 1: 79.6185 (0) (0.0048s-)\u001b[0m\r\n\u001b[36m[2018-08-23 09:05:33] [DBG] [-1/] [c2] Result for 2: 99.7022 (0) (0.0028s-)\u001b[0m\r\n\u001b[36m[2018-08-23 09:05:33] [DBG] [-1/] [c3] Result for 3: 86.3807 (0) (0.0039s-)\u001b[0m\r\n\u001b[36m[2018-08-23 09:05:33] [DBG] [-1/] [c0] Result for 0: 97.0234 (0) (0.0198s+)\u001b[0m\r\n"
     ]
    },
    {
     "name": "stdout",
     "output_type": "stream",
     "text": [
      "\u001b[36m[2018-08-23 09:05:33] [DBG] [-1/] [c1] Result for 1: 79.6185 (0) (0.0205s+)\u001b[0m\r\n\u001b[36m[2018-08-23 09:05:33] [DBG] [-1/] [c2] Result for 2: 99.7022 (0) (0.0205s+)\u001b[0m\r\n"
     ]
    },
    {
     "name": "stdout",
     "output_type": "stream",
     "text": [
      "\u001b[36m[2018-08-23 09:05:33] [DBG] [-1/] [c3] Result for 3: 86.3807 (0) (0.0156s+)\u001b[0m\r\n\u001b[32m[2018-08-23 09:05:33] [INF] [-1/] [o1i39] iter: 39 cost: -362.725 time_iter: wall: 0.178475s cpu: 0.10336s time_optim: wall: 6.08889s cpu: 3.11173s\u001b[0m\r\n  39 -3.6272488e+02 0.00e+00 5.51e+00 -11.0 4.08e-02    -  1.00e+00 2.50e-01f  3\r\n\u001b[36m[2018-08-23 09:05:33] [DBG] [-1/] [c0] Result for 0: 96.1497 (0) (0.0008s-)\u001b[0m\r\n\u001b[36m[2018-08-23 09:05:33] [DBG] [-1/] [c1] Result for 1: 80.3863 (0) (0.0008s-)\u001b[0m\r\n\u001b[36m[2018-08-23 09:05:33] [DBG] [-1/] [c2] Result for 2: 98.6924 (0) (0.0007s-)\u001b[0m\r\n\u001b[36m[2018-08-23 09:05:33] [DBG] [-1/] [c3] Result for 3: 86.6813 (0) (0.0011s-)\u001b[0m\r\n\u001b[36m[2018-08-23 09:05:33] [DBG] [-1/] [c0] Result for 0: 96.1497 (0) (0.0008s-)\u001b[0m\r\n\u001b[36m[2018-08-23 09:05:33] [DBG] [-1/] [c1] Result for 1: 80.3863 (0) (0.0008s-)\u001b[0m\r\n\u001b[36m[2018-08-23 09:05:33] [DBG] [-1/] [c2] Result for 2: 98.6924 (0) (0.0049s-)\u001b[0m"
     ]
    },
    {
     "name": "stdout",
     "output_type": "stream",
     "text": [
      "\r\n\u001b[36m[2018-08-23 09:05:33] [DBG] [-1/] [c3] Result for 3: 86.6813 (0) (0.0022s-)\u001b[0m\r\n\u001b[36m[2018-08-23 09:05:33] [DBG] [-1/] [c0] Result for 0: 96.6481 (0) (0.0007s-)\u001b[0m\r\n\u001b[36m[2018-08-23 09:05:33] [DBG] [-1/] [c1] Result for 1: 80.0691 (0) (0.0009s-)\u001b[0m\r\n\u001b[36m[2018-08-23 09:05:33] [DBG] [-1/] [c2] Result for 2: 99.2381 (0) (0.0007s-)\u001b[0m\r\n\u001b[36m[2018-08-23 09:05:33] [DBG] [-1/] [c3] Result for 3: 86.6153 (0) (0.0009s-)\u001b[0m\r\n\u001b[36m[2018-08-23 09:05:33] [DBG] [-1/] [c0] Result for 0: 96.8511 (0) (0.0028s-)\u001b[0m\r\n\u001b[36m[2018-08-23 09:05:33] [DBG] [-1/] [c1] Result for 1: 79.8595 (0) (0.0008s-)\u001b[0m\r\n\u001b[36m[2018-08-23 09:05:33] [DBG] [-1/] [c2] Result for 2: 99.4797 (0) (0.0007s-)\u001b[0m\r\n\u001b[36m[2018-08-23 09:05:33] [DBG] [-1/] [c3] Result for 3: 86.5188 (0) (0.0024s-)\u001b[0m\r\n\u001b[36m[2018-08-23 09:05:33] [DBG] [-1/] [c0] Result for 0: 96.9411 (0) (0.0008s-)\u001b[0m\r\n\u001b[36m[2018-08-23 09:05:33] [DBG] [-1/] [c1] Result for 1: 79.7428 (0) (0.0052s-)\u001b[0m\r\n\u001b[36m[2018-08-23 09:05:33] [DBG] [-1/] [c2] Result for 2: 99.5933 (0) (0.0007s-)\u001b[0m\r\n\u001b[36m[2018-08-23 09:05:33] [DBG] [-1/] [c3] Result for 3: 86.455 (0) (0.0008s-)\u001b[0m\r\n"
     ]
    },
    {
     "name": "stdout",
     "output_type": "stream",
     "text": [
      "\u001b[36m[2018-08-23 09:05:33] [DBG] [-1/] [c0] Result for 0: 96.9411 (0) (0.0182s+)\u001b[0m\r\n\u001b[36m[2018-08-23 09:05:33] [DBG] [-1/] [c1] Result for 1: 79.7428 (0) (0.0171s+)\u001b[0m\r\n"
     ]
    },
    {
     "name": "stdout",
     "output_type": "stream",
     "text": [
      "\u001b[36m[2018-08-23 09:05:33] [DBG] [-1/] [c2] Result for 2: 99.5933 (0) (0.0152s+)\u001b[0m\r\n\u001b[36m[2018-08-23 09:05:33] [DBG] [-1/] [c3] Result for 3: 86.455 (0) (0.0248s+)\u001b[0m"
     ]
    },
    {
     "name": "stdout",
     "output_type": "stream",
     "text": [
      "\r\n\u001b[32m[2018-08-23 09:05:33] [INF] [-1/] [o1i40] iter: 40 cost: -362.732 time_iter: wall: 0.203642s cpu: 0.10474s time_optim: wall: 6.29253s cpu: 3.21647s\u001b[0m\r\niter    objective    inf_pr   inf_du lg(mu)  ||d||  lg(rg) alpha_du alpha_pr  ls\r\n  40 -3.6273208e+02 0.00e+00 7.09e+00 -11.0 1.28e-01    -  1.00e+00 1.25e-01f  4\r\n\u001b[36m[2018-08-23 09:05:33] [DBG] [-1/] [c0] Result for 0: 93.1607 (0) (0.0008s-)\u001b[0m\r\n\u001b[36m[2018-08-23 09:05:33] [DBG] [-1/] [c1] Result for 1: 80.1281 (0) (0.0011s-)\u001b[0m\r\n\u001b[36m[2018-08-23 09:05:33] [DBG] [-1/] [c2] Result for 2: 94.6551 (0) (0.0008s-)\u001b[0m\r\n\u001b[36m[2018-08-23 09:05:33] [DBG] [-1/] [c3] Result for 3: 82.1332 (0) (0.0008s-)\u001b[0m\r\n\u001b[36m[2018-08-23 09:05:33] [DBG] [-1/] [c0] Result for 0: 93.1607 (0) (0.0008s-)\u001b[0m\r\n\u001b[36m[2018-08-23 09:05:33] [DBG] [-1/] [c1] Result for 1: 80.1281 (0) (0.0008s-)\u001b[0m\r\n\u001b[36m[2018-08-23 09:05:33] [DBG] [-1/] [c2] Result for 2: 94.6551 (0) (0.0010s-)\u001b[0m\r\n\u001b[36m[2018-08-23 09:05:33] [DBG] [-1/] [c3] Result for 3: 82.1332 (0) (0.0008s-)\u001b[0m\r\n\u001b[36m[2018-08-23 09:05:33] [DBG] [-1/] [c0] Result for 0: 95.8688 (0) (0.0007s-)\u001b[0m\r\n\u001b[36m[2018-08-23 09:05:33] [DBG] [-1/] [c1] Result for 1: 80.7855 (0) (0.0007s-)\u001b[0m\r\n\u001b[36m[2018-08-23 09:05:33] [DBG] [-1/] [c2] Result for 2: 97.8946 (0) (0.0007s-)\u001b[0m\r\n\u001b[36m[2018-08-23 09:05:33] [DBG] [-1/] [c3] Result for 3: 85.1797 (0) (0.0008s-)\u001b[0m\r\n\u001b[36m[2018-08-23 09:05:33] [DBG] [-1/] [c0] Result for 0: 96.6048 (0) (0.0007s-)\u001b[0m\r\n\u001b[36m[2018-08-23 09:05:33] [DBG] [-1/] [c1] Result for 1: 80.4665 (0) (0.0007s-)\u001b[0m"
     ]
    },
    {
     "name": "stdout",
     "output_type": "stream",
     "text": [
      "\r\n\u001b[36m[2018-08-23 09:05:33] [DBG] [-1/] [c2] Result for 2: 98.9287 (0) (0.0022s-)\u001b[0m\r\n\u001b[36m[2018-08-23 09:05:33] [DBG] [-1/] [c3] Result for 3: 86.0312 (0) (0.0029s-)\u001b[0m\r\n\u001b[36m[2018-08-23 09:05:33] [DBG] [-1/] [c0] Result for 0: 96.8224 (0) (0.0007s-)\u001b[0m\r\n\u001b[36m[2018-08-23 09:05:33] [DBG] [-1/] [c1] Result for 1: 80.154 (0) (0.0050s-)\u001b[0m\r\n\u001b[36m[2018-08-23 09:05:33] [DBG] [-1/] [c2] Result for 2: 99.3063 (0) (0.0009s-)\u001b[0m\r\n\u001b[36m[2018-08-23 09:05:33] [DBG] [-1/] [c3] Result for 3: 86.2957 (0) (0.0007s-)\u001b[0m\r\n\u001b[36m[2018-08-23 09:05:33] [DBG] [-1/] [c0] Result for 0: 96.894 (0) (0.0007s-)\u001b[0m\r\n\u001b[36m[2018-08-23 09:05:33] [DBG] [-1/] [c1] Result for 1: 79.9606 (0) (0.0013s-)\u001b[0m\r\n\u001b[36m[2018-08-23 09:05:33] [DBG] [-1/] [c2] Result for 2: 99.461 (0) (0.0039s-)\u001b[0m\r\n\u001b[36m[2018-08-23 09:05:33] [DBG] [-1/] [c3] Result for 3: 86.3884 (0) (0.0011s-)\u001b[0m\r\n\u001b[36m[2018-08-23 09:05:33] [DBG] [-1/] [c0] Result for 0: 96.9206 (0) (0.0007s-)\u001b[0m\r\n\u001b[36m[2018-08-23 09:05:33] [DBG] [-1/] [c1] Result for 1: 79.8547 (0) (0.0008s-)\u001b[0m\r\n\u001b[36m[2018-08-23 09:05:33] [DBG] [-1/] [c2] Result for 2: 99.5299 (0) (0.0008s-)\u001b[0m\r\n\u001b[36m[2018-08-23 09:05:33] [DBG] [-1/] [c3] Result for 3: 86.4249 (0) (0.0033s-)\u001b[0m\r\n\u001b[36m[2018-08-23 09:05:33] [DBG] [-1/] [c0] Result for 0: 96.9316 (0) (0.0033s-)\u001b[0m\r\n\u001b[36m[2018-08-23 09:05:33] [DBG] [-1/] [c1] Result for 1: 79.7995 (0) (0.0032s-)\u001b[0m"
     ]
    },
    {
     "name": "stdout",
     "output_type": "stream",
     "text": [
      "\r\n\u001b[36m[2018-08-23 09:05:33] [DBG] [-1/] [c2] Result for 2: 99.5623 (0) (0.0008s-)\u001b[0m\r\n\u001b[36m[2018-08-23 09:05:33] [DBG] [-1/] [c3] Result for 3: 86.4407 (0) (0.0012s-)\u001b[0m\r\n\u001b[36m[2018-08-23 09:05:33] [DBG] [-1/] [c0] Result for 0: 96.9316 (0) (0.0142s+)\u001b[0m\r\n"
     ]
    },
    {
     "name": "stdout",
     "output_type": "stream",
     "text": [
      "\u001b[36m[2018-08-23 09:05:33] [DBG] [-1/] [c1] Result for 1: 79.7995 (0) (0.0171s+)\u001b[0m\r\n\u001b[36m[2018-08-23 09:05:33] [DBG] [-1/] [c2] Result for 2: 99.5623 (0) (0.0172s+)\u001b[0m\r\n"
     ]
    },
    {
     "name": "stdout",
     "output_type": "stream",
     "text": [
      "\u001b[36m[2018-08-23 09:05:33] [DBG] [-1/] [c3] Result for 3: 86.4407 (0) (0.0178s+)\u001b[0m\r\n\u001b[32m[2018-08-23 09:05:33] [INF] [-1/] [o1i41] iter: 41 cost: -362.734 time_iter: wall: 0.225772s cpu: 0.111077s time_optim: wall: 6.5183s cpu: 3.32754s\u001b[0m\r\n  41 -3.6273414e+02 0.00e+00 7.48e+00 -11.0 2.12e-01    -  1.00e+00 1.56e-02f  7\r\n\u001b[36m[2018-08-23 09:05:33] [DBG] [-1/] [c0] Result for 0: 97.1025 (0) (0.0032s-)\u001b[0m\r\n\u001b[36m[2018-08-23 09:05:33] [DBG] [-1/] [c1] Result for 1: 79.7622 (0) (0.0007s-)\u001b[0m\r\n\u001b[36m[2018-08-23 09:05:33] [DBG] [-1/] [c2] Result for 2: 98.8458 (0) (0.0008s-)\u001b[0m\r\n\u001b[36m[2018-08-23 09:05:33] [DBG] [-1/] [c3] Result for 3: 86.4106 (0) (0.0007s-)\u001b[0m\r\n\u001b[36m[2018-08-23 09:05:33] [DBG] [-1/] [c0] Result for 0: 97.1025 (0) (0.0007s-)\u001b[0m\r\n\u001b[36m[2018-08-23 09:05:33] [DBG] [-1/] [c1] Result for 1: 79.7622 (0) (0.0007s-)\u001b[0m\r\n\u001b[36m[2018-08-23 09:05:33] [DBG] [-1/] [c2] Result for 2: 98.8458 (0) (0.0009s-)\u001b[0m\r\n\u001b[36m[2018-08-23 09:05:33] [DBG] [-1/] [c3] Result for 3: 86.4106 (0) (0.0007s-)\u001b[0m\r\n\u001b[36m[2018-08-23 09:05:33] [DBG] [-1/] [c0] Result for 0: 97.0541 (0) (0.0007s-)\u001b[0m\r\n"
     ]
    },
    {
     "name": "stdout",
     "output_type": "stream",
     "text": [
      "\u001b[36m[2018-08-23 09:05:33] [DBG] [-1/] [c1] Result for 1: 79.831 (0) (0.0008s-)\u001b[0m\r\n\u001b[36m[2018-08-23 09:05:33] [DBG] [-1/] [c2] Result for 2: 99.2417 (0) (0.0007s-)\u001b[0m\r\n\u001b[36m[2018-08-23 09:05:33] [DBG] [-1/] [c3] Result for 3: 86.468 (0) (0.0011s-)\u001b[0m\r\n\u001b[36m[2018-08-23 09:05:33] [DBG] [-1/] [c0] Result for 0: 97.0021 (0) (0.0007s-)\u001b[0m\r\n\u001b[36m[2018-08-23 09:05:33] [DBG] [-1/] [c1] Result for 1: 79.8277 (0) (0.0008s-)\u001b[0m\r\n\u001b[36m[2018-08-23 09:05:33] [DBG] [-1/] [c2] Result for 2: 99.4113 (0) (0.0008s-)\u001b[0m\r\n\u001b[36m[2018-08-23 09:05:33] [DBG] [-1/] [c3] Result for 3: 86.4649 (0) (0.0007s-)\u001b[0m\r\n\u001b[36m[2018-08-23 09:05:33] [DBG] [-1/] [c0] Result for 0: 96.9691 (0) (0.0008s-)\u001b[0m\r\n\u001b[36m[2018-08-23 09:05:33] [DBG] [-1/] [c1] Result for 1: 79.8167 (0) (0.0008s-)\u001b[0m\r\n\u001b[36m[2018-08-23 09:05:33] [DBG] [-1/] [c2] Result for 2: 99.4891 (0) (0.0007s-)\u001b[0m\r\n\u001b[36m[2018-08-23 09:05:33] [DBG] [-1/] [c3] Result for 3: 86.4554 (0) (0.0007s-)\u001b[0m\r\n\u001b[36m[2018-08-23 09:05:33] [DBG] [-1/] [c0] Result for 0: 96.9509 (0) (0.0007s-)\u001b[0m\r\n\u001b[36m[2018-08-23 09:05:33] [DBG] [-1/] [c1] Result for 1: 79.8089 (0) (0.0007s-)\u001b[0m\r\n\u001b[36m[2018-08-23 09:05:33] [DBG] [-1/] [c2] Result for 2: 99.5263 (0) (0.0007s-)\u001b[0m\r\n\u001b[36m[2018-08-23 09:05:33] [DBG] [-1/] [c3] Result for 3: 86.4487 (0) (0.0007s-)\u001b[0m\r\n\u001b[36m[2018-08-23 09:05:33] [DBG] [-1/] [c0] Result for 0: 96.9509 (0) (0.0185s+)\u001b[0m"
     ]
    },
    {
     "name": "stdout",
     "output_type": "stream",
     "text": [
      "\r\n\u001b[36m[2018-08-23 09:05:33] [DBG] [-1/] [c1] Result for 1: 79.8089 (0) (0.0213s+)\u001b[0m\r\n"
     ]
    },
    {
     "name": "stdout",
     "output_type": "stream",
     "text": [
      "\u001b[36m[2018-08-23 09:05:33] [DBG] [-1/] [c2] Result for 2: 99.5263 (0) (0.0214s+)\u001b[0m\r\n\u001b[36m[2018-08-23 09:05:33] [DBG] [-1/] [c3] Result for 3: 86.4487 (0) (0.0165s+)\u001b[0m\r\n\u001b[32m[2018-08-23 09:05:34] [INF] [-1/] [o1i42] iter: 42 cost: -362.735 time_iter: wall: 0.19503s cpu: 0.0982909s time_optim: wall: 6.71334s cpu: 3.42583s\u001b[0m\r\n  42 -3.6273485e+02 0.00e+00 3.61e+00 -11.0 3.39e-02    -  1.00e+00 6.25e-02f  5\r\n"
     ]
    },
    {
     "name": "stdout",
     "output_type": "stream",
     "text": [
      "\u001b[36m[2018-08-23 09:05:34] [DBG] [-1/] [c0] Result for 0: 96.9822 (0) (0.0021s-)\u001b[0m\r\n\u001b[36m[2018-08-23 09:05:34] [DBG] [-1/] [c1] Result for 1: 79.7184 (0) (0.0027s-)\u001b[0m\r\n\u001b[36m[2018-08-23 09:05:34] [DBG] [-1/] [c2] Result for 2: 99.5663 (0) (0.0007s-)\u001b[0m\r\n\u001b[36m[2018-08-23 09:05:34] [DBG] [-1/] [c3] Result for 3: 86.4654 (0) (0.0010s-)\u001b[0m\r\n\u001b[36m[2018-08-23 09:05:34] [DBG] [-1/] [c0] Result for 0: 96.9822 (0) (0.0026s-)\u001b[0m\r\n\u001b[36m[2018-08-23 09:05:34] [DBG] [-1/] [c1] Result for 1: 79.7184 (0) (0.0007s-)\u001b[0m\r\n\u001b[36m[2018-08-23 09:05:34] [DBG] [-1/] [c2] Result for 2: 99.5663 (0) (0.0007s-)\u001b[0m\r\n\u001b[36m[2018-08-23 09:05:34] [DBG] [-1/] [c3] Result for 3: 86.4654 (0) (0.0010s-)\u001b[0m\r\n\u001b[36m[2018-08-23 09:05:34] [DBG] [-1/] [c0] Result for 0: 96.9676 (0) (0.0007s-)\u001b[0m\r\n\u001b[36m[2018-08-23 09:05:34] [DBG] [-1/] [c1] Result for 1: 79.7652 (0) (0.0011s-)\u001b[0m\r\n\u001b[36m[2018-08-23 09:05:34] [DBG] [-1/] [c2] Result for 2: 99.5473 (0) (0.0007s-)\u001b[0m\r\n\u001b[36m[2018-08-23 09:05:34] [DBG] [-1/] [c3] Result for 3: 86.4583 (0) (0.0008s-)\u001b[0m\r\n"
     ]
    },
    {
     "name": "stdout",
     "output_type": "stream",
     "text": [
      "\u001b[36m[2018-08-23 09:05:34] [DBG] [-1/] [c0] Result for 0: 96.9676 (0) (0.0209s+)\u001b[0m\r\n\u001b[36m[2018-08-23 09:05:34] [DBG] [-1/] [c1] Result for 1: 79.7652 (0) (0.0075s+)\u001b[0m\r\n"
     ]
    },
    {
     "name": "stdout",
     "output_type": "stream",
     "text": [
      "\u001b[36m[2018-08-23 09:05:34] [DBG] [-1/] [c2] Result for 2: 99.5473 (0) (0.0201s+)\u001b[0m\r\n\u001b[36m[2018-08-23 09:05:34] [DBG] [-1/] [c3] Result for 3: 86.4583 (0) (0.0145s+)\u001b[0m\r\n\u001b[32m[2018-08-23 09:05:34] [INF] [-1/] [o1i43] iter: 43 cost: -362.738 time_iter: wall: 0.163074s cpu: 0.0778804s time_optim: wall: 6.87641s cpu: 3.50371s\u001b[0m"
     ]
    },
    {
     "name": "stdout",
     "output_type": "stream",
     "text": [
      "\r\n  43 -3.6273839e+02 0.00e+00 2.98e+00 -11.0 4.57e-03    -  1.00e+00 5.00e-01f  2\r\n\u001b[36m[2018-08-23 09:05:34] [DBG] [-1/] [c0] Result for 0: 96.9967 (0) (0.0007s-)\u001b[0m\r\n\u001b[36m[2018-08-23 09:05:34] [DBG] [-1/] [c1] Result for 1: 79.6345 (0) (0.0007s-)\u001b[0m\r\n\u001b[36m[2018-08-23 09:05:34] [DBG] [-1/] [c2] Result for 2: 99.3287 (0) (0.0007s-)\u001b[0m\r\n\u001b[36m[2018-08-23 09:05:34] [DBG] [-1/] [c3] Result for 3: 86.6933 (0) (0.0007s-)\u001b[0m\r\n\u001b[36m[2018-08-23 09:05:34] [DBG] [-1/] [c0] Result for 0: 96.9967 (0) (0.0007s-)\u001b[0m\r\n\u001b[36m[2018-08-23 09:05:34] [DBG] [-1/] [c1] Result for 1: 79.6345 (0) (0.0015s-)\u001b[0m\r\n\u001b[36m[2018-08-23 09:05:34] [DBG] [-1/] [c2] Result for 2: 99.3287 (0) (0.0008s-)\u001b[0m\r\n\u001b[36m[2018-08-23 09:05:34] [DBG] [-1/] [c3] Result for 3: 86.6933 (0) (0.0008s-)\u001b[0m\r\n\u001b[36m[2018-08-23 09:05:34] [DBG] [-1/] [c0] Result for 0: 96.9902 (0) (0.0007s-)\u001b[0m\r\n\u001b[36m[2018-08-23 09:05:34] [DBG] [-1/] [c1] Result for 1: 79.705 (0) (0.0007s-)\u001b[0m\r\n\u001b[36m[2018-08-23 09:05:34] [DBG] [-1/] [c2] Result for 2: 99.4452 (0) (0.0007s-)\u001b[0m\r\n\u001b[36m[2018-08-23 09:05:34] [DBG] [-1/] [c3] Result for 3: 86.5823 (0) (0.0007s-)\u001b[0m\r\n\u001b[36m[2018-08-23 09:05:34] [DBG] [-1/] [c0] Result for 0: 96.9809 (0) (0.0007s-)\u001b[0m\r\n\u001b[36m[2018-08-23 09:05:34] [DBG] [-1/] [c1] Result for 1: 79.7364 (0) (0.0028s-)\u001b[0m\r\n\u001b[36m[2018-08-23 09:05:34] [DBG] [-1/] [c2] Result for 2: 99.498 (0) (0.0007s-)\u001b[0m\r\n\u001b[36m[2018-08-23 09:05:34] [DBG] [-1/] [c3] Result for 3: 86.5219 (0) (0.0007s-)\u001b[0m\r\n\u001b[36m[2018-08-23 09:05:34] [DBG] [-1/] [c0] Result for 0: 96.9748 (0) (0.0007s-)\u001b[0m\r\n\u001b[36m[2018-08-23 09:05:34] [DBG] [-1/] [c1] Result for 1: 79.7511 (0) (0.0007s-)\u001b[0m\r\n\u001b[36m[2018-08-23 09:05:34] [DBG] [-1/] [c2] Result for 2: 99.5231 (0) (0.0009s-)\u001b[0m\r\n"
     ]
    },
    {
     "name": "stdout",
     "output_type": "stream",
     "text": [
      "\u001b[36m[2018-08-23 09:05:34] [DBG] [-1/] [c3] Result for 3: 86.4906 (0) (0.0078s-)\u001b[0m\r\n\u001b[36m[2018-08-23 09:05:34] [DBG] [-1/] [c0] Result for 0: 96.9748 (0) (0.0123s+)\u001b[0m\r\n\u001b[36m[2018-08-23 09:05:34] [DBG] [-1/] [c1] Result for 1: 79.7511 (0) (0.0137s+)\u001b[0m\r\n"
     ]
    },
    {
     "name": "stdout",
     "output_type": "stream",
     "text": [
      "\u001b[36m[2018-08-23 09:05:34] [DBG] [-1/] [c2] Result for 2: 99.5231 (0) (0.0196s+)\u001b[0m\r\n\u001b[36m[2018-08-23 09:05:34] [DBG] [-1/] [c3] Result for 3: 86.4906 (0) (0.0180s+)\u001b[0m\r\n"
     ]
    },
    {
     "name": "stdout",
     "output_type": "stream",
     "text": [
      "\u001b[32m[2018-08-23 09:05:34] [INF] [-1/] [o1i44] iter: 44 cost: -362.74 time_iter: wall: 0.177264s cpu: 0.0882649s time_optim: wall: 7.05368s cpu: 3.59198s\u001b[0m\r\n  44 -3.6273952e+02 0.00e+00 1.01e+00 -11.0 1.76e-02    -  1.00e+00 1.25e-01f  4\r\n\u001b[36m[2018-08-23 09:05:34] [DBG] [-1/] [c0] Result for 0: 97.0152 (0) (0.0009s-)\u001b[0m\r\n\u001b[36m[2018-08-23 09:05:34] [DBG] [-1/] [c1] Result for 1: 79.7415 (0) (0.0008s-)\u001b[0m\r\n\u001b[36m[2018-08-23 09:05:34] [DBG] [-1/] [c2] Result for 2: 99.5665 (0) (0.0008s-)\u001b[0m\r\n\u001b[36m[2018-08-23 09:05:34] [DBG] [-1/] [c3] Result for 3: 86.4158 (0) (0.0008s-)\u001b[0m\r\n\u001b[36m[2018-08-23 09:05:34] [DBG] [-1/] [c0] Result for 0: 97.0152 (0) (0.0007s-)\u001b[0m\r\n\u001b[36m[2018-08-23 09:05:34] [DBG] [-1/] [c1] Result for 1: 79.7415 (0) (0.0008s-)\u001b[0m\r\n\u001b[36m[2018-08-23 09:05:34] [DBG] [-1/] [c2] Result for 2: 99.5665 (0) (0.0019s-)\u001b[0m\r\n\u001b[36m[2018-08-23 09:05:34] [DBG] [-1/] [c3] Result for 3: 86.4158 (0) (0.0008s-)\u001b[0m\r\n\u001b[36m[2018-08-23 09:05:34] [DBG] [-1/] [c0] Result for 0: 96.9951 (0) (0.0008s-)\u001b[0m\r\n\u001b[36m[2018-08-23 09:05:34] [DBG] [-1/] [c1] Result for 1: 79.7466 (0) (0.0008s-)\u001b[0m\r\n\u001b[36m[2018-08-23 09:05:34] [DBG] [-1/] [c2] Result for 2: 99.5449 (0) (0.0011s-)\u001b[0m"
     ]
    },
    {
     "name": "stdout",
     "output_type": "stream",
     "text": [
      "\r\n\u001b[36m[2018-08-23 09:05:34] [DBG] [-1/] [c3] Result for 3: 86.4534 (0) (0.0009s-)\u001b[0m\r\n\u001b[36m[2018-08-23 09:05:34] [DBG] [-1/] [c0] Result for 0: 96.9951 (0) (0.0140s+)\u001b[0m\r\n\u001b[36m[2018-08-23 09:05:34] [DBG] [-1/] [c1] Result for 1: 79.7466 (0) (0.0180s+)\u001b[0m"
     ]
    },
    {
     "name": "stdout",
     "output_type": "stream",
     "text": [
      "\r\n\u001b[36m[2018-08-23 09:05:34] [DBG] [-1/] [c2] Result for 2: 99.5449 (0) (0.0180s+)\u001b[0m\r\n\u001b[36m[2018-08-23 09:05:34] [DBG] [-1/] [c3] Result for 3: 86.4534 (0) (0.0192s+)\u001b[0m\r\n"
     ]
    },
    {
     "name": "stdout",
     "output_type": "stream",
     "text": [
      "\u001b[32m[2018-08-23 09:05:34] [INF] [-1/] [o1i45] iter: 45 cost: -362.74 time_iter: wall: 0.157806s cpu: 0.0800874s time_optim: wall: 7.21148s cpu: 3.67207s\u001b[0m\r\n  45 -3.6274008e+02 0.00e+00 6.51e-01 -11.0 7.86e-03    -  1.00e+00 5.00e-01f  2\r\n\u001b[36m[2018-08-23 09:05:34] [DBG] [-1/] [c0] Result for 0: 97.0826 (0) (0.0014s-)\u001b[0m\r\n\u001b[36m[2018-08-23 09:05:34] [DBG] [-1/] [c1] Result for 1: 79.4783 (0) (0.0011s-)\u001b[0m\r\n\u001b[36m[2018-08-23 09:05:34] [DBG] [-1/] [c2] Result for 2: 99.5393 (0) (0.0008s-)\u001b[0m\r\n\u001b[36m[2018-08-23 09:05:34] [DBG] [-1/] [c3] Result for 3: 86.5676 (0) (0.0007s-)\u001b[0m\r\n\u001b[36m[2018-08-23 09:05:34] [DBG] [-1/] [c0] Result for 0: 97.0826 (0) (0.0008s-)\u001b[0m\r\n\u001b[36m[2018-08-23 09:05:34] [DBG] [-1/] [c1] Result for 1: 79.4783 (0) (0.0007s-)\u001b[0m\r\n\u001b[36m[2018-08-23 09:05:34] [DBG] [-1/] [c2] Result for 2: 99.5393 (0) (0.0013s-)\u001b[0m\r\n\u001b[36m[2018-08-23 09:05:34] [DBG] [-1/] [c3] Result for 3: 86.5676 (0) (0.0011s-)\u001b[0m\r\n\u001b[36m[2018-08-23 09:05:34] [DBG] [-1/] [c0] Result for 0: 97.0455 (0) (0.0007s-)\u001b[0m\r\n"
     ]
    },
    {
     "name": "stdout",
     "output_type": "stream",
     "text": [
      "\u001b[36m[2018-08-23 09:05:34] [DBG] [-1/] [c1] Result for 1: 79.6157 (0) (0.0027s-)\u001b[0m\r\n\u001b[36m[2018-08-23 09:05:34] [DBG] [-1/] [c2] Result for 2: 99.5472 (0) (0.0023s-)\u001b[0m\r\n\u001b[36m[2018-08-23 09:05:34] [DBG] [-1/] [c3] Result for 3: 86.5166 (0) (0.0008s-)\u001b[0m\r\n\u001b[36m[2018-08-23 09:05:34] [DBG] [-1/] [c0] Result for 0: 97.022 (0) (0.0007s-)\u001b[0m\r\n\u001b[36m[2018-08-23 09:05:34] [DBG] [-1/] [c1] Result for 1: 79.682 (0) (0.0043s-)\u001b[0m\r\n\u001b[36m[2018-08-23 09:05:34] [DBG] [-1/] [c2] Result for 2: 99.5473 (0) (0.0009s-)\u001b[0m\r\n\u001b[36m[2018-08-23 09:05:34] [DBG] [-1/] [c3] Result for 3: 86.4866 (0) (0.0007s-)\u001b[0m\r\n\u001b[36m[2018-08-23 09:05:34] [DBG] [-1/] [c0] Result for 0: 97.009 (0) (0.0007s-)\u001b[0m\r\n\u001b[36m[2018-08-23 09:05:34] [DBG] [-1/] [c1] Result for 1: 79.7145 (0) (0.0009s-)\u001b[0m\r\n\u001b[36m[2018-08-23 09:05:34] [DBG] [-1/] [c2] Result for 2: 99.5465 (0) (0.0037s-)\u001b[0m\r\n\u001b[36m[2018-08-23 09:05:34] [DBG] [-1/] [c3] Result for 3: 86.4704 (0) (0.0009s-)\u001b[0m\r\n\u001b[36m[2018-08-23 09:05:34] [DBG] [-1/] [c0] Result for 0: 97.009 (0) (0.0139s+)\u001b[0m"
     ]
    },
    {
     "name": "stdout",
     "output_type": "stream",
     "text": [
      "\r\n\u001b[36m[2018-08-23 09:05:34] [DBG] [-1/] [c1] Result for 1: 79.7145 (0) (0.0178s+)\u001b[0m\r\n"
     ]
    },
    {
     "name": "stdout",
     "output_type": "stream",
     "text": [
      "\u001b[36m[2018-08-23 09:05:34] [DBG] [-1/] [c2] Result for 2: 99.5465 (0) (0.0197s+)\u001b[0m\r\n\u001b[36m[2018-08-23 09:05:34] [DBG] [-1/] [c3] Result for 3: 86.4704 (0) (0.0178s+)\u001b[0m\r\n\u001b[32m[2018-08-23 09:05:34] [INF] [-1/] [o1i46] iter: 46 cost: -362.74 time_iter: wall: 0.196651s cpu: 0.0962938s time_optim: wall: 7.40813s cpu: 3.76836s\u001b[0m\r\n  46 -3.6274033e+02 0.00e+00 6.24e-01 -11.0 4.56e-02    -  1.00e+00 1.25e-01f  4\r\n\u001b[36m[2018-08-23 09:05:34] [DBG] [-1/] [c0] Result for 0: 96.9262 (0) (0.0007s-)\u001b[0m\r\n\u001b[36m[2018-08-23 09:05:34] [DBG] [-1/] [c1] Result for 1: 79.4456 (0) (0.0008s-)\u001b[0m\r\n"
     ]
    },
    {
     "name": "stdout",
     "output_type": "stream",
     "text": [
      "\u001b[36m[2018-08-23 09:05:34] [DBG] [-1/] [c2] Result for 2: 99.7837 (0) (0.0060s-)\u001b[0m\r\n\u001b[36m[2018-08-23 09:05:34] [DBG] [-1/] [c3] Result for 3: 86.428 (0) (0.0007s-)\u001b[0m\r\n\u001b[36m[2018-08-23 09:05:34] [DBG] [-1/] [c0] Result for 0: 96.9262 (0) (0.0027s-)\u001b[0m\r\n\u001b[36m[2018-08-23 09:05:34] [DBG] [-1/] [c1] Result for 1: 79.4456 (0) (0.0012s-)\u001b[0m\r\n\u001b[36m[2018-08-23 09:05:34] [DBG] [-1/] [c2] Result for 2: 99.7837 (0) (0.0008s-)\u001b[0m\r\n\u001b[36m[2018-08-23 09:05:34] [DBG] [-1/] [c3] Result for 3: 86.428 (0) (0.0008s-)\u001b[0m\r\n\u001b[36m[2018-08-23 09:05:34] [DBG] [-1/] [c0] Result for 0: 96.977 (0) (0.0007s-)\u001b[0m\r\n\u001b[36m[2018-08-23 09:05:34] [DBG] [-1/] [c1] Result for 1: 79.591 (0) (0.0010s-)\u001b[0m\r\n\u001b[36m[2018-08-23 09:05:34] [DBG] [-1/] [c2] Result for 2: 99.6752 (0) (0.0011s-)\u001b[0m\r\n\u001b[36m[2018-08-23 09:05:34] [DBG] [-1/] [c3] Result for 3: 86.4591 (0) (0.0010s-)\u001b[0m\r\n\u001b[36m[2018-08-23 09:05:34] [DBG] [-1/] [c0] Result for 0: 96.9954 (0) (0.0007s-)\u001b[0m\r\n\u001b[36m[2018-08-23 09:05:34] [DBG] [-1/] [c1] Result for 1: 79.6555 (0) (0.0032s-)\u001b[0m\r\n"
     ]
    },
    {
     "name": "stdout",
     "output_type": "stream",
     "text": [
      "\u001b[36m[2018-08-23 09:05:34] [DBG] [-1/] [c2] Result for 2: 99.6134 (0) (0.0010s-)\u001b[0m\r\n\u001b[36m[2018-08-23 09:05:34] [DBG] [-1/] [c3] Result for 3: 86.4672 (0) (0.0010s-)\u001b[0m\r\n\u001b[36m[2018-08-23 09:05:34] [DBG] [-1/] [c0] Result for 0: 97.0028 (0) (0.0045s-)\u001b[0m\r\n\u001b[36m[2018-08-23 09:05:34] [DBG] [-1/] [c1] Result for 1: 79.6857 (0) (0.0008s-)\u001b[0m\r\n\u001b[36m[2018-08-23 09:05:34] [DBG] [-1/] [c2] Result for 2: 99.5806 (0) (0.0008s-)\u001b[0m\r\n\u001b[36m[2018-08-23 09:05:34] [DBG] [-1/] [c3] Result for 3: 86.4694 (0) (0.0007s-)\u001b[0m\r\n\u001b[36m[2018-08-23 09:05:34] [DBG] [-1/] [c0] Result for 0: 97.006 (0) (0.0007s-)\u001b[0m\r\n\u001b[36m[2018-08-23 09:05:34] [DBG] [-1/] [c1] Result for 1: 79.7003 (0) (0.0008s-)\u001b[0m\r\n\u001b[36m[2018-08-23 09:05:34] [DBG] [-1/] [c2] Result for 2: 99.5637 (0) (0.0007s-)\u001b[0m\r\n\u001b[36m[2018-08-23 09:05:34] [DBG] [-1/] [c3] Result for 3: 86.4701 (0) (0.0008s-)\u001b[0m\r\n\u001b[36m[2018-08-23 09:05:34] [DBG] [-1/] [c0] Result for 0: 97.0075 (0) (0.0007s-)\u001b[0m\r\n\u001b[36m[2018-08-23 09:05:34] [DBG] [-1/] [c1] Result for 1: 79.7074 (0) (0.0009s-)\u001b[0m\r\n\u001b[36m[2018-08-23 09:05:34] [DBG] [-1/] [c2] Result for 2: 99.5551 (0) (0.0009s-)\u001b[0m\r\n\u001b[36m[2018-08-23 09:05:34] [DBG] [-1/] [c3] Result for 3: 86.4703 (0) (0.0007s-)\u001b[0m\r\n\u001b[36m[2018-08-23 09:05:34] [DBG] [-1/] [c0] Result for 0: 97.0075 (0) (0.0151s+)\u001b[0m"
     ]
    },
    {
     "name": "stdout",
     "output_type": "stream",
     "text": [
      "\r\n\u001b[36m[2018-08-23 09:05:34] [DBG] [-1/] [c1] Result for 1: 79.7074 (0) (0.0074s+)\u001b[0m\r\n"
     ]
    },
    {
     "name": "stdout",
     "output_type": "stream",
     "text": [
      "\u001b[36m[2018-08-23 09:05:34] [DBG] [-1/] [c2] Result for 2: 99.5551 (0) (0.0171s+)\u001b[0m\r\n\u001b[36m[2018-08-23 09:05:34] [DBG] [-1/] [c3] Result for 3: 86.4703 (0) (0.0216s+)\u001b[0m\r\n"
     ]
    },
    {
     "name": "stdout",
     "output_type": "stream",
     "text": [
      "\u001b[32m[2018-08-23 09:05:34] [INF] [-1/] [o1i47] iter: 47 cost: -362.74 time_iter: wall: 0.226277s cpu: 0.0976463s time_optim: wall: 7.63441s cpu: 3.86601s\u001b[0m\r\n  47 -3.6274036e+02 0.00e+00 5.91e-01 -11.0 1.50e-02    -  1.00e+00 3.12e-02f  6\r\n\u001b[36m[2018-08-23 09:05:34] [DBG] [-1/] [c0] Result for 0: 96.9912 (0) (0.0007s-)\u001b[0m\r\n\u001b[36m[2018-08-23 09:05:34] [DBG] [-1/] [c1] Result for 1: 79.7449 (0) (0.0025s-)\u001b[0m\r\n\u001b[36m[2018-08-23 09:05:34] [DBG] [-1/] [c2] Result for 2: 99.538 (0) (0.0008s-)\u001b[0m\r\n\u001b[36m[2018-08-23 09:05:34] [DBG] [-1/] [c3] Result for 3: 86.4667 (0) (0.0007s-)\u001b[0m\r\n\u001b[36m[2018-08-23 09:05:34] [DBG] [-1/] [c0] Result for 0: 96.9912 (0) (0.0195s+)\u001b[0m"
     ]
    },
    {
     "name": "stdout",
     "output_type": "stream",
     "text": [
      "\r\n\u001b[36m[2018-08-23 09:05:34] [DBG] [-1/] [c1] Result for 1: 79.7449 (0) (0.0162s+)\u001b[0m\r\n\u001b[36m[2018-08-23 09:05:35] [DBG] [-1/] [c2] Result for 2: 99.538 (0) (0.0183s+)\u001b[0m\r\n"
     ]
    },
    {
     "name": "stdout",
     "output_type": "stream",
     "text": [
      "\u001b[36m[2018-08-23 09:05:35] [DBG] [-1/] [c3] Result for 3: 86.4667 (0) (0.0188s+)\u001b[0m\r\n\u001b[32m[2018-08-23 09:05:35] [INF] [-1/] [o1i48] iter: 48 cost: -362.741 time_iter: wall: 0.135569s cpu: 0.0776027s time_optim: wall: 7.76998s cpu: 3.94361s\u001b[0m\r\n  48 -3.6274073e+02 0.00e+00 2.03e+00 -11.0 4.91e-03    -  1.00e+00 1.00e+00f  1\r\n"
     ]
    },
    {
     "name": "stdout",
     "output_type": "stream",
     "text": [
      "\u001b[36m[2018-08-23 09:05:35] [DBG] [-1/] [c0] Result for 0: 95.23 (0) (0.0008s-)\u001b[0m\r\n\u001b[36m[2018-08-23 09:05:35] [DBG] [-1/] [c1] Result for 1: 78.2387 (0) (0.0007s-)\u001b[0m\r\n\u001b[36m[2018-08-23 09:05:35] [DBG] [-1/] [c2] Result for 2: 96.6726 (0) (0.0007s-)\u001b[0m\r\n\u001b[36m[2018-08-23 09:05:35] [DBG] [-1/] [c3] Result for 3: 84.9789 (0) (0.0007s-)\u001b[0m\r\n\u001b[36m[2018-08-23 09:05:35] [DBG] [-1/] [c0] Result for 0: 95.23 (0) (0.0051s-)\u001b[0m\r\n\u001b[36m[2018-08-23 09:05:35] [DBG] [-1/] [c1] Result for 1: 78.2387 (0) (0.0009s-)\u001b[0m\r\n\u001b[36m[2018-08-23 09:05:35] [DBG] [-1/] [c2] Result for 2: 96.6726 (0) (0.0008s-)\u001b[0m\r\n\u001b[36m[2018-08-23 09:05:35] [DBG] [-1/] [c3] Result for 3: 84.9789 (0) (0.0008s-)\u001b[0m\r\n\u001b[36m[2018-08-23 09:05:35] [DBG] [-1/] [c0] Result for 0: 96.6145 (0) (0.0007s-)\u001b[0m\r\n\u001b[36m[2018-08-23 09:05:35] [DBG] [-1/] [c1] Result for 1: 79.4396 (0) (0.0007s-)\u001b[0m\r\n\u001b[36m[2018-08-23 09:05:35] [DBG] [-1/] [c2] Result for 2: 98.5327 (0) (0.0007s-)\u001b[0m\r\n\u001b[36m[2018-08-23 09:05:35] [DBG] [-1/] [c3] Result for 3: 86.2401 (0) (0.0029s-)\u001b[0m\r\n\u001b[36m[2018-08-23 09:05:35] [DBG] [-1/] [c0] Result for 0: 96.9365 (0) (0.0008s-)\u001b[0m\r\n\u001b[36m[2018-08-23 09:05:35] [DBG] [-1/] [c1] Result for 1: 79.7028 (0) (0.0011s-)\u001b[0m\r\n\u001b[36m[2018-08-23 09:05:35] [DBG] [-1/] [c2] Result for 2: 99.1429 (0) (0.0042s-)\u001b[0m\r\n\u001b[36m[2018-08-23 09:05:35] [DBG] [-1/] [c3] Result for 3: 86.4857 (0) (0.0026s-)\u001b[0m\r\n"
     ]
    },
    {
     "name": "stdout",
     "output_type": "stream",
     "text": [
      "\u001b[36m[2018-08-23 09:05:35] [DBG] [-1/] [c0] Result for 0: 96.9985 (0) (0.0039s-)\u001b[0m\r\n\u001b[36m[2018-08-23 09:05:35] [DBG] [-1/] [c1] Result for 1: 79.7515 (0) (0.0011s-)\u001b[0m\r\n\u001b[36m[2018-08-23 09:05:35] [DBG] [-1/] [c2] Result for 2: 99.3677 (0) (0.0008s-)\u001b[0m\r\n\u001b[36m[2018-08-23 09:05:35] [DBG] [-1/] [c3] Result for 3: 86.5099 (0) (0.0014s-)\u001b[0m\r\n\u001b[36m[2018-08-23 09:05:35] [DBG] [-1/] [c0] Result for 0: 97.0037 (0) (0.0007s-)\u001b[0m\r\n\u001b[36m[2018-08-23 09:05:35] [DBG] [-1/] [c1] Result for 1: 79.7551 (0) (0.0037s-)\u001b[0m\r\n\u001b[36m[2018-08-23 09:05:35] [DBG] [-1/] [c2] Result for 2: 99.4597 (0) (0.0008s-)\u001b[0m\r\n\u001b[36m[2018-08-23 09:05:35] [DBG] [-1/] [c3] Result for 3: 86.4968 (0) (0.0010s-)\u001b[0m\r\n\u001b[36m[2018-08-23 09:05:35] [DBG] [-1/] [c0] Result for 0: 96.9997 (0) (0.0009s-)\u001b[0m\r\n\u001b[36m[2018-08-23 09:05:35] [DBG] [-1/] [c1] Result for 1: 79.7517 (0) (0.0009s-)\u001b[0m\r\n\u001b[36m[2018-08-23 09:05:35] [DBG] [-1/] [c2] Result for 2: 99.5006 (0) (0.0007s-)\u001b[0m\r\n\u001b[36m[2018-08-23 09:05:35] [DBG] [-1/] [c3] Result for 3: 86.4839 (0) (0.0007s-)\u001b[0m\r\n\u001b[36m[2018-08-23 09:05:35] [DBG] [-1/] [c0] Result for 0: 96.996 (0) (0.0007s-)\u001b[0m\r\n\u001b[36m[2018-08-23 09:05:35] [DBG] [-1/] [c1] Result for 1: 79.7488 (0) (0.0008s-)\u001b[0m\r\n\u001b[36m[2018-08-23 09:05:35] [DBG] [-1/] [c2] Result for 2: 99.5197 (0) (0.0019s-)\u001b[0m\r\n"
     ]
    },
    {
     "name": "stdout",
     "output_type": "stream",
     "text": [
      "\u001b[36m[2018-08-23 09:05:35] [DBG] [-1/] [c3] Result for 3: 86.4758 (0) (0.0026s-)\u001b[0m\r\n\u001b[36m[2018-08-23 09:05:35] [DBG] [-1/] [c0] Result for 0: 96.9937 (0) (0.0007s-)\u001b[0m\r\n\u001b[36m[2018-08-23 09:05:35] [DBG] [-1/] [c1] Result for 1: 79.7469 (0) (0.0040s-)\u001b[0m\r\n\u001b[36m[2018-08-23 09:05:35] [DBG] [-1/] [c2] Result for 2: 99.5289 (0) (0.0009s-)\u001b[0m\r\n\u001b[36m[2018-08-23 09:05:35] [DBG] [-1/] [c3] Result for 3: 86.4714 (0) (0.0007s-)\u001b[0m\r\n\u001b[36m[2018-08-23 09:05:35] [DBG] [-1/] [c0] Result for 0: 96.9937 (0) (0.0135s+)\u001b[0m\r\n"
     ]
    },
    {
     "name": "stdout",
     "output_type": "stream",
     "text": [
      "\u001b[36m[2018-08-23 09:05:35] [DBG] [-1/] [c1] Result for 1: 79.7469 (0) (0.0146s+)\u001b[0m\r\n\u001b[36m[2018-08-23 09:05:35] [DBG] [-1/] [c2] Result for 2: 99.5289 (0) (0.0192s+)\u001b[0m\r\n"
     ]
    },
    {
     "name": "stdout",
     "output_type": "stream",
     "text": [
      "\u001b[36m[2018-08-23 09:05:35] [DBG] [-1/] [c3] Result for 3: 86.4714 (0) (0.0219s+)\u001b[0m\r\n\u001b[32m[2018-08-23 09:05:35] [INF] [-1/] [o1i49] iter: 49 cost: -362.741 time_iter: wall: 0.257719s cpu: 0.121874s time_optim: wall: 8.0277s cpu: 4.06548s\u001b[0m\r\n  49 -3.6274100e+02 0.00e+00 9.55e-01 -11.0 2.49e-01    -  1.00e+00 7.81e-03f  8\r\n\u001b[36m[2018-08-23 09:05:35] [DBG] [-1/] [c0] Result for 0: 96.8102 (0) (0.0007s-)\u001b[0m\r\n\u001b[36m[2018-08-23 09:05:35] [DBG] [-1/] [c1] Result for 1: 79.6482 (0) (0.0007s-)\u001b[0m\r\n\u001b[36m[2018-08-23 09:05:35] [DBG] [-1/] [c2] Result for 2: 99.6668 (0) (0.0012s-)\u001b[0m\r\n\u001b[36m[2018-08-23 09:05:35] [DBG] [-1/] [c3] Result for 3: 86.5369 (0) (0.0034s-)\u001b[0m\r\n\u001b[36m[2018-08-23 09:05:35] [DBG] [-1/] [c0] Result for 0: 96.8102 (0) (0.0007s-)\u001b[0m"
     ]
    },
    {
     "name": "stdout",
     "output_type": "stream",
     "text": [
      "\r\n\u001b[36m[2018-08-23 09:05:35] [DBG] [-1/] [c1] Result for 1: 79.6482 (0) (0.0007s-)\u001b[0m\r\n\u001b[36m[2018-08-23 09:05:35] [DBG] [-1/] [c2] Result for 2: 99.6668 (0) (0.0023s-)\u001b[0m\r\n\u001b[36m[2018-08-23 09:05:35] [DBG] [-1/] [c3] Result for 3: 86.5369 (0) (0.0010s-)\u001b[0m\r\n\u001b[36m[2018-08-23 09:05:35] [DBG] [-1/] [c0] Result for 0: 96.9068 (0) (0.0007s-)\u001b[0m\r\n\u001b[36m[2018-08-23 09:05:35] [DBG] [-1/] [c1] Result for 1: 79.7024 (0) (0.0008s-)\u001b[0m\r\n\u001b[36m[2018-08-23 09:05:35] [DBG] [-1/] [c2] Result for 2: 99.6021 (0) (0.0007s-)\u001b[0m\r\n\u001b[36m[2018-08-23 09:05:35] [DBG] [-1/] [c3] Result for 3: 86.512 (0) (0.0011s-)\u001b[0m\r\n\u001b[36m[2018-08-23 09:05:35] [DBG] [-1/] [c0] Result for 0: 96.9515 (0) (0.0007s-)\u001b[0m\r\n\u001b[36m[2018-08-23 09:05:35] [DBG] [-1/] [c1] Result for 1: 79.7258 (0) (0.0010s-)\u001b[0m\r\n\u001b[36m[2018-08-23 09:05:35] [DBG] [-1/] [c2] Result for 2: 99.5666 (0) (0.0013s-)\u001b[0m\r\n\u001b[36m[2018-08-23 09:05:35] [DBG] [-1/] [c3] Result for 3: 86.4936 (0) (0.0008s-)\u001b[0m\r\n\u001b[36m[2018-08-23 09:05:35] [DBG] [-1/] [c0] Result for 0: 96.9729 (0) (0.0011s-)\u001b[0m\r\n\u001b[36m[2018-08-23 09:05:35] [DBG] [-1/] [c1] Result for 1: 79.7367 (0) (0.0039s-)\u001b[0m\r\n\u001b[36m[2018-08-23 09:05:35] [DBG] [-1/] [c2] Result for 2: 99.548 (0) (0.0008s-)\u001b[0m\r\n\u001b[36m[2018-08-23 09:05:35] [DBG] [-1/] [c3] Result for 3: 86.483 (0) (0.0007s-)\u001b[0m\r\n\u001b[36m[2018-08-23 09:05:35] [DBG] [-1/] [c0] Result for 0: 96.9834 (0) (0.0007s-)\u001b[0m"
     ]
    },
    {
     "name": "stdout",
     "output_type": "stream",
     "text": [
      "\r\n\u001b[36m[2018-08-23 09:05:35] [DBG] [-1/] [c1] Result for 1: 79.7419 (0) (0.0010s-)\u001b[0m\r\n\u001b[36m[2018-08-23 09:05:35] [DBG] [-1/] [c2] Result for 2: 99.5385 (0) (0.0050s-)\u001b[0m\r\n\u001b[36m[2018-08-23 09:05:35] [DBG] [-1/] [c3] Result for 3: 86.4773 (0) (0.0010s-)\u001b[0m\r\n\u001b[36m[2018-08-23 09:05:35] [DBG] [-1/] [c0] Result for 0: 96.9834 (0) (0.0199s+)\u001b[0m\r\n"
     ]
    },
    {
     "name": "stdout",
     "output_type": "stream",
     "text": [
      "\u001b[36m[2018-08-23 09:05:35] [DBG] [-1/] [c1] Result for 1: 79.7419 (0) (0.0123s+)\u001b[0m\r\n\u001b[36m[2018-08-23 09:05:35] [DBG] [-1/] [c2] Result for 2: 99.5385 (0) (0.0146s+)\u001b[0m\r\n"
     ]
    },
    {
     "name": "stdout",
     "output_type": "stream",
     "text": [
      "\u001b[36m[2018-08-23 09:05:35] [DBG] [-1/] [c3] Result for 3: 86.4773 (0) (0.0171s+)\u001b[0m\r\n\u001b[32m[2018-08-23 09:05:35] [INF] [-1/] [o1i50] iter: 50 cost: -362.741 time_iter: wall: 0.217089s cpu: 0.096149s time_optim: wall: 8.24479s cpu: 4.16163s\u001b[0m\r\niter    objective    inf_pr   inf_du lg(mu)  ||d||  lg(rg) alpha_du alpha_pr  ls\r\n  50 -3.6274113e+02 0.00e+00 7.01e-01 -11.0 1.94e-02    -  1.00e+00 6.25e-02f  5\r\n\u001b[36m[2018-08-23 09:05:35] [DBG] [-1/] [c0] Result for 0: 97.0584 (0) (0.0007s-)\u001b[0m\r\n\u001b[36m[2018-08-23 09:05:35] [DBG] [-1/] [c1] Result for 1: 79.5974 (0) (0.0007s-)\u001b[0m\r\n\u001b[36m[2018-08-23 09:05:35] [DBG] [-1/] [c2] Result for 2: 99.4603 (0) (0.0007s-)\u001b[0m\r\n\u001b[36m[2018-08-23 09:05:35] [DBG] [-1/] [c3] Result for 3: 86.5874 (0) (0.0008s-)\u001b[0m\r\n\u001b[36m[2018-08-23 09:05:35] [DBG] [-1/] [c0] Result for 0: 97.0584 (0) (0.0007s-)\u001b[0m"
     ]
    },
    {
     "name": "stdout",
     "output_type": "stream",
     "text": [
      "\r\n\u001b[36m[2018-08-23 09:05:35] [DBG] [-1/] [c1] Result for 1: 79.5974 (0) (0.0008s-)\u001b[0m\r\n\u001b[36m[2018-08-23 09:05:35] [DBG] [-1/] [c2] Result for 2: 99.4603 (0) (0.0007s-)\u001b[0m\r\n\u001b[36m[2018-08-23 09:05:35] [DBG] [-1/] [c3] Result for 3: 86.5874 (0) (0.0008s-)\u001b[0m\r\n\u001b[36m[2018-08-23 09:05:35] [DBG] [-1/] [c0] Result for 0: 97.0243 (0) (0.0079s-)\u001b[0m\r\n\u001b[36m[2018-08-23 09:05:35] [DBG] [-1/] [c1] Result for 1: 79.671 (0) (0.0009s-)\u001b[0m\r\n\u001b[36m[2018-08-23 09:05:35] [DBG] [-1/] [c2] Result for 2: 99.5026 (0) (0.0007s-)\u001b[0m\r\n\u001b[36m[2018-08-23 09:05:35] [DBG] [-1/] [c3] Result for 3: 86.5346 (0) (0.0009s-)\u001b[0m\r\n\u001b[36m[2018-08-23 09:05:35] [DBG] [-1/] [c0] Result for 0: 97.0047 (0) (0.0007s-)\u001b[0m\r\n\u001b[36m[2018-08-23 09:05:35] [DBG] [-1/] [c1] Result for 1: 79.7068 (0) (0.0008s-)\u001b[0m\r\n\u001b[36m[2018-08-23 09:05:35] [DBG] [-1/] [c2] Result for 2: 99.5214 (0) (0.0008s-)\u001b[0m\r\n\u001b[36m[2018-08-23 09:05:35] [DBG] [-1/] [c3] Result for 3: 86.5065 (0) (0.0033s-)\u001b[0m\r\n\u001b[36m[2018-08-23 09:05:35] [DBG] [-1/] [c0] Result for 0: 96.9942 (0) (0.0007s-)\u001b[0m\r\n\u001b[36m[2018-08-23 09:05:35] [DBG] [-1/] [c1] Result for 1: 79.7244 (0) (0.0010s-)\u001b[0m\r\n\u001b[36m[2018-08-23 09:05:35] [DBG] [-1/] [c2] Result for 2: 99.5302 (0) (0.0021s-)\u001b[0m\r\n\u001b[36m[2018-08-23 09:05:35] [DBG] [-1/] [c3] Result for 3: 86.4921 (0) (0.0008s-)\u001b[0m\r\n\u001b[36m[2018-08-23 09:05:35] [DBG] [-1/] [c0] Result for 0: 96.9889 (0) (0.0010s-)\u001b[0m\r\n\u001b[36m[2018-08-23 09:05:35] [DBG] [-1/] [c1] Result for 1: 79.7332 (0) (0.0012s-)\u001b[0m"
     ]
    },
    {
     "name": "stdout",
     "output_type": "stream",
     "text": [
      "\r\n\u001b[36m[2018-08-23 09:05:35] [DBG] [-1/] [c2] Result for 2: 99.5344 (0) (0.0008s-)\u001b[0m\r\n\u001b[36m[2018-08-23 09:05:35] [DBG] [-1/] [c3] Result for 3: 86.4847 (0) (0.0032s-)\u001b[0m\r\n\u001b[36m[2018-08-23 09:05:35] [DBG] [-1/] [c0] Result for 0: 96.9889 (0) (0.0197s+)\u001b[0m\r\n"
     ]
    },
    {
     "name": "stdout",
     "output_type": "stream",
     "text": [
      "\u001b[36m[2018-08-23 09:05:35] [DBG] [-1/] [c1] Result for 1: 79.7332 (0) (0.0201s+)\u001b[0m\r\n\u001b[36m[2018-08-23 09:05:35] [DBG] [-1/] [c2] Result for 2: 99.5344 (0) (0.0239s+)\u001b[0m"
     ]
    },
    {
     "name": "stdout",
     "output_type": "stream",
     "text": [
      "\r\n\u001b[36m[2018-08-23 09:05:35] [DBG] [-1/] [c3] Result for 3: 86.4847 (0) (0.0163s+)\u001b[0m\r\n\u001b[32m[2018-08-23 09:05:35] [INF] [-1/] [o1i51] iter: 51 cost: -362.741 time_iter: wall: 0.221033s cpu: 0.112413s time_optim: wall: 8.46582s cpu: 4.27405s\u001b[0m\r\n  51 -3.6274117e+02 0.00e+00 5.79e-01 -11.0 9.72e-03    -  1.00e+00 6.25e-02f  5\r\n\u001b[36m[2018-08-23 09:05:35] [DBG] [-1/] [c0] Result for 0: 97.0324 (0) (0.0007s-)\u001b[0m\r\n\u001b[36m[2018-08-23 09:05:35] [DBG] [-1/] [c1] Result for 1: 79.6994 (0) (0.0014s-)\u001b[0m\r\n\u001b[36m[2018-08-23 09:05:35] [DBG] [-1/] [c2] Result for 2: 99.5912 (0) (0.0008s-)\u001b[0m\r\n\u001b[36m[2018-08-23 09:05:35] [DBG] [-1/] [c3] Result for 3: 86.4175 (0) (0.0007s-)\u001b[0m\r\n"
     ]
    },
    {
     "name": "stdout",
     "output_type": "stream",
     "text": [
      "\u001b[36m[2018-08-23 09:05:35] [DBG] [-1/] [c0] Result for 0: 97.0324 (0) (0.0048s-)\u001b[0m\r\n\u001b[36m[2018-08-23 09:05:35] [DBG] [-1/] [c1] Result for 1: 79.6994 (0) (0.0008s-)\u001b[0m\r\n\u001b[36m[2018-08-23 09:05:35] [DBG] [-1/] [c2] Result for 2: 99.5912 (0) (0.0008s-)\u001b[0m\r\n\u001b[36m[2018-08-23 09:05:35] [DBG] [-1/] [c3] Result for 3: 86.4175 (0) (0.0007s-)\u001b[0m\r\n\u001b[36m[2018-08-23 09:05:35] [DBG] [-1/] [c0] Result for 0: 97.0108 (0) (0.0007s-)\u001b[0m\r\n\u001b[36m[2018-08-23 09:05:35] [DBG] [-1/] [c1] Result for 1: 79.7164 (0) (0.0010s-)\u001b[0m\r\n\u001b[36m[2018-08-23 09:05:35] [DBG] [-1/] [c2] Result for 2: 99.563 (0) (0.0082s-)\u001b[0m\r\n\u001b[36m[2018-08-23 09:05:35] [DBG] [-1/] [c3] Result for 3: 86.4512 (0) (0.0010s-)\u001b[0m\r\n\u001b[36m[2018-08-23 09:05:35] [DBG] [-1/] [c0] Result for 0: 97.0108 (0) (0.0122s+)\u001b[0m\r\n"
     ]
    },
    {
     "name": "stdout",
     "output_type": "stream",
     "text": [
      "\u001b[36m[2018-08-23 09:05:35] [DBG] [-1/] [c1] Result for 1: 79.7164 (0) (0.0218s+)\u001b[0m\r\n\u001b[36m[2018-08-23 09:05:35] [DBG] [-1/] [c2] Result for 2: 99.563 (0) (0.0205s+)\u001b[0m\r\n"
     ]
    },
    {
     "name": "stdout",
     "output_type": "stream",
     "text": [
      "\u001b[36m[2018-08-23 09:05:35] [DBG] [-1/] [c3] Result for 3: 86.4512 (0) (0.0225s+)\u001b[0m\r\n\u001b[32m[2018-08-23 09:05:35] [INF] [-1/] [o1i52] iter: 52 cost: -362.741 time_iter: wall: 0.162275s cpu: 0.0986935s time_optim: wall: 8.6281s cpu: 4.37274s\u001b[0m\r\n  52 -3.6274140e+02 0.00e+00 9.75e-01 -11.0 6.68e-03    -  1.00e+00 5.00e-01f  2\r\n\u001b[36m[2018-08-23 09:05:35] [DBG] [-1/] [c0] Result for 0: 97.0268 (0) (0.0014s-)\u001b[0m\r\n\u001b[36m[2018-08-23 09:05:35] [DBG] [-1/] [c1] Result for 1: 79.3513 (0) (0.0008s-)\u001b[0m\r\n"
     ]
    },
    {
     "name": "stdout",
     "output_type": "stream",
     "text": [
      "\u001b[36m[2018-08-23 09:05:35] [DBG] [-1/] [c2] Result for 2: 99.6571 (0) (0.0008s-)\u001b[0m\r\n\u001b[36m[2018-08-23 09:05:35] [DBG] [-1/] [c3] Result for 3: 86.5822 (0) (0.0008s-)\u001b[0m\r\n\u001b[36m[2018-08-23 09:05:35] [DBG] [-1/] [c0] Result for 0: 97.0268 (0) (0.0008s-)\u001b[0m\r\n\u001b[36m[2018-08-23 09:05:35] [DBG] [-1/] [c1] Result for 1: 79.3513 (0) (0.0007s-)\u001b[0m\r\n\u001b[36m[2018-08-23 09:05:35] [DBG] [-1/] [c2] Result for 2: 99.6571 (0) (0.0009s-)\u001b[0m\r\n\u001b[36m[2018-08-23 09:05:35] [DBG] [-1/] [c3] Result for 3: 86.5822 (0) (0.0007s-)\u001b[0m\r\n\u001b[36m[2018-08-23 09:05:35] [DBG] [-1/] [c0] Result for 0: 97.0299 (0) (0.0007s-)\u001b[0m\r\n\u001b[36m[2018-08-23 09:05:35] [DBG] [-1/] [c1] Result for 1: 79.5302 (0) (0.0007s-)\u001b[0m\r\n\u001b[36m[2018-08-23 09:05:35] [DBG] [-1/] [c2] Result for 2: 99.6268 (0) (0.0007s-)\u001b[0m\r\n\u001b[36m[2018-08-23 09:05:35] [DBG] [-1/] [c3] Result for 3: 86.5278 (0) (0.0008s-)\u001b[0m\r\n\u001b[36m[2018-08-23 09:05:35] [DBG] [-1/] [c0] Result for 0: 97.0232 (0) (0.0028s-)\u001b[0m\r\n\u001b[36m[2018-08-23 09:05:35] [DBG] [-1/] [c1] Result for 1: 79.6224 (0) (0.0027s-)\u001b[0m\r\n\u001b[36m[2018-08-23 09:05:35] [DBG] [-1/] [c2] Result for 2: 99.5992 (0) (0.0008s-)\u001b[0m\r\n\u001b[36m[2018-08-23 09:05:35] [DBG] [-1/] [c3] Result for 3: 86.4924 (0) (0.0007s-)\u001b[0m\r\n\u001b[36m[2018-08-23 09:05:35] [DBG] [-1/] [c0] Result for 0: 97.0177 (0) (0.0007s-)\u001b[0m"
     ]
    },
    {
     "name": "stdout",
     "output_type": "stream",
     "text": [
      "\r\n\u001b[36m[2018-08-23 09:05:35] [DBG] [-1/] [c1] Result for 1: 79.6692 (0) (0.0008s-)\u001b[0m\r\n\u001b[36m[2018-08-23 09:05:35] [DBG] [-1/] [c2] Result for 2: 99.5822 (0) (0.0008s-)\u001b[0m\r\n\u001b[36m[2018-08-23 09:05:35] [DBG] [-1/] [c3] Result for 3: 86.4725 (0) (0.0008s-)\u001b[0m\r\n\u001b[36m[2018-08-23 09:05:36] [DBG] [-1/] [c0] Result for 0: 97.0177 (0) (0.0122s+)\u001b[0m\r\n\u001b[36m[2018-08-23 09:05:36] [DBG] [-1/] [c1] Result for 1: 79.6692 (0) (0.0194s+)\u001b[0m"
     ]
    },
    {
     "name": "stdout",
     "output_type": "stream",
     "text": [
      "\r\n\u001b[36m[2018-08-23 09:05:36] [DBG] [-1/] [c2] Result for 2: 99.5822 (0) (0.0164s+)\u001b[0m\r\n"
     ]
    },
    {
     "name": "stdout",
     "output_type": "stream",
     "text": [
      "\u001b[36m[2018-08-23 09:05:36] [DBG] [-1/] [c3] Result for 3: 86.4725 (0) (0.0161s+)\u001b[0m\r\n\u001b[32m[2018-08-23 09:05:36] [INF] [-1/] [o1i53] iter: 53 cost: -362.742 time_iter: wall: 0.191421s cpu: 0.0840543s time_optim: wall: 8.81952s cpu: 4.45679s\u001b[0m\r\n  53 -3.6274161e+02 0.00e+00 1.03e+00 -11.0 6.72e-02    -  1.00e+00 1.25e-01f  4\r\n\u001b[36m[2018-08-23 09:05:36] [DBG] [-1/] [c0] Result for 0: 96.6159 (0) (0.0052s-)\u001b[0m\r\n\u001b[36m[2018-08-23 09:05:36] [DBG] [-1/] [c1] Result for 1: 79.1038 (0) (0.0008s-)\u001b[0m\r\n\u001b[36m[2018-08-23 09:05:36] [DBG] [-1/] [c2] Result for 2: 99.9646 (0) (0.0007s-)\u001b[0m\r\n\u001b[36m[2018-08-23 09:05:36] [DBG] [-1/] [c3] Result for 3: 86.2645 (0) (0.0008s-)\u001b[0m\r\n\u001b[36m[2018-08-23 09:05:36] [DBG] [-1/] [c0] Result for 0: 96.6159 (0) (0.0007s-)\u001b[0m\r\n\u001b[36m[2018-08-23 09:05:36] [DBG] [-1/] [c1] Result for 1: 79.1038 (0) (0.0008s-)\u001b[0m\r\n\u001b[36m[2018-08-23 09:05:36] [DBG] [-1/] [c2] Result for 2: 99.9646 (0) (0.0023s-)\u001b[0m\r\n\u001b[36m[2018-08-23 09:05:36] [DBG] [-1/] [c3] Result for 3: 86.2645 (0) (0.0013s-)\u001b[0m\r\n"
     ]
    },
    {
     "name": "stdout",
     "output_type": "stream",
     "text": [
      "\u001b[36m[2018-08-23 09:05:36] [DBG] [-1/] [c0] Result for 0: 96.8666 (0) (0.0036s-)\u001b[0m\r\n\u001b[36m[2018-08-23 09:05:36] [DBG] [-1/] [c1] Result for 1: 79.414 (0) (0.0027s-)\u001b[0m\r\n\u001b[36m[2018-08-23 09:05:36] [DBG] [-1/] [c2] Result for 2: 99.8387 (0) (0.0007s-)\u001b[0m\r\n\u001b[36m[2018-08-23 09:05:36] [DBG] [-1/] [c3] Result for 3: 86.4186 (0) (0.0009s-)\u001b[0m\r\n\u001b[36m[2018-08-23 09:05:36] [DBG] [-1/] [c0] Result for 0: 96.9555 (0) (0.0008s-)\u001b[0m\r\n\u001b[36m[2018-08-23 09:05:36] [DBG] [-1/] [c1] Result for 1: 79.5496 (0) (0.0007s-)\u001b[0m\r\n\u001b[36m[2018-08-23 09:05:36] [DBG] [-1/] [c2] Result for 2: 99.7278 (0) (0.0010s-)\u001b[0m\r\n\u001b[36m[2018-08-23 09:05:36] [DBG] [-1/] [c3] Result for 3: 86.4593 (0) (0.0008s-)\u001b[0m\r\n\u001b[36m[2018-08-23 09:05:36] [DBG] [-1/] [c0] Result for 0: 96.9901 (0) (0.0007s-)\u001b[0m\r\n\u001b[36m[2018-08-23 09:05:36] [DBG] [-1/] [c1] Result for 1: 79.6116 (0) (0.0009s-)\u001b[0m\r\n\u001b[36m[2018-08-23 09:05:36] [DBG] [-1/] [c2] Result for 2: 99.6595 (0) (0.0012s-)\u001b[0m\r\n\u001b[36m[2018-08-23 09:05:36] [DBG] [-1/] [c3] Result for 3: 86.4695 (0) (0.0010s-)\u001b[0m\r\n\u001b[36m[2018-08-23 09:05:36] [DBG] [-1/] [c0] Result for 0: 97.0048 (0) (0.0007s-)\u001b[0m\r\n\u001b[36m[2018-08-23 09:05:36] [DBG] [-1/] [c1] Result for 1: 79.6409 (0) (0.0007s-)\u001b[0m"
     ]
    },
    {
     "name": "stdout",
     "output_type": "stream",
     "text": [
      "\r\n\u001b[36m[2018-08-23 09:05:36] [DBG] [-1/] [c2] Result for 2: 99.622 (0) (0.0008s-)\u001b[0m\r\n\u001b[36m[2018-08-23 09:05:36] [DBG] [-1/] [c3] Result for 3: 86.4719 (0) (0.0010s-)\u001b[0m\r\n\u001b[36m[2018-08-23 09:05:36] [DBG] [-1/] [c0] Result for 0: 97.0115 (0) (0.0007s-)\u001b[0m\r\n\u001b[36m[2018-08-23 09:05:36] [DBG] [-1/] [c1] Result for 1: 79.6552 (0) (0.0008s-)\u001b[0m\r\n\u001b[36m[2018-08-23 09:05:36] [DBG] [-1/] [c2] Result for 2: 99.6024 (0) (0.0027s-)\u001b[0m\r\n\u001b[36m[2018-08-23 09:05:36] [DBG] [-1/] [c3] Result for 3: 86.4725 (0) (0.0023s-)\u001b[0m\r\n\u001b[36m[2018-08-23 09:05:36] [DBG] [-1/] [c0] Result for 0: 97.0146 (0) (0.0007s-)\u001b[0m\r\n\u001b[36m[2018-08-23 09:05:36] [DBG] [-1/] [c1] Result for 1: 79.6622 (0) (0.0008s-)\u001b[0m\r\n\u001b[36m[2018-08-23 09:05:36] [DBG] [-1/] [c2] Result for 2: 99.5924 (0) (0.0007s-)\u001b[0m\r\n\u001b[36m[2018-08-23 09:05:36] [DBG] [-1/] [c3] Result for 3: 86.4726 (0) (0.0008s-)\u001b[0m\r\n\u001b[36m[2018-08-23 09:05:36] [DBG] [-1/] [c0] Result for 0: 97.0146 (0) (0.0176s+)\u001b[0m\r\n"
     ]
    },
    {
     "name": "stdout",
     "output_type": "stream",
     "text": [
      "\u001b[36m[2018-08-23 09:05:36] [DBG] [-1/] [c1] Result for 1: 79.6622 (0) (0.0196s+)\u001b[0m\r\n\u001b[36m[2018-08-23 09:05:36] [DBG] [-1/] [c2] Result for 2: 99.5924 (0) (0.0076s+)\u001b[0m\r\n"
     ]
    },
    {
     "name": "stdout",
     "output_type": "stream",
     "text": [
      "\u001b[36m[2018-08-23 09:05:36] [DBG] [-1/] [c3] Result for 3: 86.4726 (0) (0.0162s+)\u001b[0m\r\n\u001b[32m[2018-08-23 09:05:36] [INF] [-1/] [o1i54] iter: 54 cost: -362.742 time_iter: wall: 0.228901s cpu: 0.101055s time_optim: wall: 9.04842s cpu: 4.55785s\u001b[0m\r\n  54 -3.6274178e+02 0.00e+00 7.56e-01 -11.0 9.88e-02    -  1.00e+00 1.56e-02f  7\r\n\u001b[36m[2018-08-23 09:05:36] [DBG] [-1/] [c0] Result for 0: 96.8519 (0) (0.0008s-)\u001b[0m\r\n\u001b[36m[2018-08-23 09:05:36] [DBG] [-1/] [c1] Result for 1: 79.9702 (0) (0.0016s-)\u001b[0m\r\n\u001b[36m[2018-08-23 09:05:36] [DBG] [-1/] [c2] Result for 2: 99.4786 (0) (0.0057s-)\u001b[0m"
     ]
    },
    {
     "name": "stdout",
     "output_type": "stream",
     "text": [
      "\r\n\u001b[36m[2018-08-23 09:05:36] [DBG] [-1/] [c3] Result for 3: 86.3557 (0) (0.0008s-)\u001b[0m\r\n\u001b[36m[2018-08-23 09:05:36] [DBG] [-1/] [c0] Result for 0: 96.8519 (0) (0.0042s-)\u001b[0m\r\n\u001b[36m[2018-08-23 09:05:36] [DBG] [-1/] [c1] Result for 1: 79.9702 (0) (0.0007s-)\u001b[0m\r\n\u001b[36m[2018-08-23 09:05:36] [DBG] [-1/] [c2] Result for 2: 99.4786 (0) (0.0008s-)\u001b[0m\r\n\u001b[36m[2018-08-23 09:05:36] [DBG] [-1/] [c3] Result for 3: 86.3557 (0) (0.0008s-)\u001b[0m\r\n\u001b[36m[2018-08-23 09:05:36] [DBG] [-1/] [c0] Result for 0: 96.9417 (0) (0.0007s-)\u001b[0m\r\n\u001b[36m[2018-08-23 09:05:36] [DBG] [-1/] [c1] Result for 1: 79.8137 (0) (0.0009s-)\u001b[0m\r\n\u001b[36m[2018-08-23 09:05:36] [DBG] [-1/] [c2] Result for 2: 99.5398 (0) (0.0007s-)\u001b[0m\r\n\u001b[36m[2018-08-23 09:05:36] [DBG] [-1/] [c3] Result for 3: 86.4288 (0) (0.0007s-)\u001b[0m\r\n\u001b[36m[2018-08-23 09:05:36] [DBG] [-1/] [c0] Result for 0: 96.9801 (0) (0.0007s-)\u001b[0m\r\n\u001b[36m[2018-08-23 09:05:36] [DBG] [-1/] [c1] Result for 1: 79.7371 (0) (0.0007s-)\u001b[0m\r\n\u001b[36m[2018-08-23 09:05:36] [DBG] [-1/] [c2] Result for 2: 99.567 (0) (0.0007s-)\u001b[0m\r\n\u001b[36m[2018-08-23 09:05:36] [DBG] [-1/] [c3] Result for 3: 86.4543 (0) (0.0007s-)\u001b[0m\r\n\u001b[36m[2018-08-23 09:05:36] [DBG] [-1/] [c0] Result for 0: 96.9979 (0) (0.0009s-)\u001b[0m\r\n"
     ]
    },
    {
     "name": "stdout",
     "output_type": "stream",
     "text": [
      "\u001b[36m[2018-08-23 09:05:36] [DBG] [-1/] [c1] Result for 1: 79.6994 (0) (0.0070s-)\u001b[0m\r\n\u001b[36m[2018-08-23 09:05:36] [DBG] [-1/] [c2] Result for 2: 99.5799 (0) (0.0007s-)\u001b[0m\r\n\u001b[36m[2018-08-23 09:05:36] [DBG] [-1/] [c3] Result for 3: 86.4643 (0) (0.0007s-)\u001b[0m\r\n\u001b[36m[2018-08-23 09:05:36] [DBG] [-1/] [c0] Result for 0: 97.0064 (0) (0.0007s-)\u001b[0m\r\n\u001b[36m[2018-08-23 09:05:36] [DBG] [-1/] [c1] Result for 1: 79.6808 (0) (0.0007s-)\u001b[0m\r\n\u001b[36m[2018-08-23 09:05:36] [DBG] [-1/] [c2] Result for 2: 99.5862 (0) (0.0007s-)\u001b[0m\r\n\u001b[36m[2018-08-23 09:05:36] [DBG] [-1/] [c3] Result for 3: 86.4687 (0) (0.0007s-)\u001b[0m\r\n\u001b[36m[2018-08-23 09:05:36] [DBG] [-1/] [c0] Result for 0: 97.0064 (0) (0.0082s+)\u001b[0m\r\n"
     ]
    },
    {
     "name": "stdout",
     "output_type": "stream",
     "text": [
      "\u001b[36m[2018-08-23 09:05:36] [DBG] [-1/] [c1] Result for 1: 79.6808 (0) (0.0177s+)\u001b[0m\r\n\u001b[36m[2018-08-23 09:05:36] [DBG] [-1/] [c2] Result for 2: 99.5862 (0) (0.0178s+)\u001b[0m\r\n\u001b[36m[2018-08-23 09:05:36] [DBG] [-1/] [c3] Result for 3: 86.4687 (0) (0.0126s+)\u001b[0m"
     ]
    },
    {
     "name": "stdout",
     "output_type": "stream",
     "text": [
      "\r\n\u001b[32m[2018-08-23 09:05:36] [INF] [-1/] [o1i55] iter: 55 cost: -362.742 time_iter: wall: 0.201675s cpu: 0.0898082s time_optim: wall: 9.2501s cpu: 4.64766s\u001b[0m\r\n  55 -3.6274197e+02 0.00e+00 1.71e+00 -11.0 4.44e-02    -  1.00e+00 6.25e-02f  5\r\n\u001b[36m[2018-08-23 09:05:36] [DBG] [-1/] [c0] Result for 0: 96.1038 (0) (0.0087s-)\u001b[0m\r\n\u001b[36m[2018-08-23 09:05:36] [DBG] [-1/] [c1] Result for 1: 79.2737 (0) (0.0023s-)\u001b[0m\r\n\u001b[36m[2018-08-23 09:05:36] [DBG] [-1/] [c2] Result for 2: 97.7284 (0) (0.0018s-)\u001b[0m\r\n\u001b[36m[2018-08-23 09:05:36] [DBG] [-1/] [c3] Result for 3: 85.3595 (0) (0.0082s-)\u001b[0m\r\n\u001b[36m[2018-08-23 09:05:36] [DBG] [-1/] [c0] Result for 0: 96.1038 (0) (0.0009s-)\u001b[0m\r\n\u001b[36m[2018-08-23 09:05:36] [DBG] [-1/] [c1] Result for 1: 79.2737 (0) (0.0007s-)\u001b[0m\r\n"
     ]
    },
    {
     "name": "stdout",
     "output_type": "stream",
     "text": [
      "\u001b[36m[2018-08-23 09:05:36] [DBG] [-1/] [c2] Result for 2: 97.7284 (0) (0.0023s-)\u001b[0m\r\n\u001b[36m[2018-08-23 09:05:36] [DBG] [-1/] [c3] Result for 3: 85.3595 (0) (0.0007s-)\u001b[0m\r\n\u001b[36m[2018-08-23 09:05:36] [DBG] [-1/] [c0] Result for 0: 96.8743 (0) (0.0007s-)\u001b[0m\r\n\u001b[36m[2018-08-23 09:05:36] [DBG] [-1/] [c1] Result for 1: 79.552 (0) (0.0009s-)\u001b[0m\r\n\u001b[36m[2018-08-23 09:05:36] [DBG] [-1/] [c2] Result for 2: 98.9234 (0) (0.0007s-)\u001b[0m\r\n\u001b[36m[2018-08-23 09:05:36] [DBG] [-1/] [c3] Result for 3: 86.3195 (0) (0.0009s-)\u001b[0m\r\n\u001b[36m[2018-08-23 09:05:36] [DBG] [-1/] [c0] Result for 0: 97.0243 (0) (0.0025s-)\u001b[0m\r\n\u001b[36m[2018-08-23 09:05:36] [DBG] [-1/] [c1] Result for 1: 79.6259 (0) (0.0007s-)\u001b[0m\r\n\u001b[36m[2018-08-23 09:05:36] [DBG] [-1/] [c2] Result for 2: 99.3207 (0) (0.0007s-)\u001b[0m\r\n\u001b[36m[2018-08-23 09:05:36] [DBG] [-1/] [c3] Result for 3: 86.5016 (0) (0.0087s-)\u001b[0m\r\n\u001b[36m[2018-08-23 09:05:36] [DBG] [-1/] [c0] Result for 0: 97.0374 (0) (0.0011s-)\u001b[0m\r\n\u001b[36m[2018-08-23 09:05:36] [DBG] [-1/] [c1] Result for 1: 79.655 (0) (0.0011s-)\u001b[0m\r\n\u001b[36m[2018-08-23 09:05:36] [DBG] [-1/] [c2] Result for 2: 99.4703 (0) (0.0008s-)\u001b[0m\r\n\u001b[36m[2018-08-23 09:05:36] [DBG] [-1/] [c3] Result for 3: 86.5136 (0) (0.0008s-)\u001b[0m\r\n\u001b[36m[2018-08-23 09:05:36] [DBG] [-1/] [c0] Result for 0: 97.0277 (0) (0.0007s-)\u001b[0m\r\n\u001b[36m[2018-08-23 09:05:36] [DBG] [-1/] [c1] Result for 1: 79.6683 (0) (0.0008s-)\u001b[0m"
     ]
    },
    {
     "name": "stdout",
     "output_type": "stream",
     "text": [
      "\r\n\u001b[36m[2018-08-23 09:05:36] [DBG] [-1/] [c2] Result for 2: 99.5326 (0) (0.0007s-)\u001b[0m\r\n\u001b[36m[2018-08-23 09:05:36] [DBG] [-1/] [c3] Result for 3: 86.4985 (0) (0.0007s-)\u001b[0m\r\n\u001b[36m[2018-08-23 09:05:36] [DBG] [-1/] [c0] Result for 0: 97.0185 (0) (0.0007s-)\u001b[0m\r\n\u001b[36m[2018-08-23 09:05:36] [DBG] [-1/] [c1] Result for 1: 79.6746 (0) (0.0007s-)\u001b[0m\r\n\u001b[36m[2018-08-23 09:05:36] [DBG] [-1/] [c2] Result for 2: 99.5605 (0) (0.0011s-)\u001b[0m\r\n\u001b[36m[2018-08-23 09:05:36] [DBG] [-1/] [c3] Result for 3: 86.4855 (0) (0.0033s-)\u001b[0m\r\n\u001b[36m[2018-08-23 09:05:36] [DBG] [-1/] [c0] Result for 0: 97.0128 (0) (0.0007s-)\u001b[0m\r\n\u001b[36m[2018-08-23 09:05:36] [DBG] [-1/] [c1] Result for 1: 79.6777 (0) (0.0008s-)\u001b[0m\r\n\u001b[36m[2018-08-23 09:05:36] [DBG] [-1/] [c2] Result for 2: 99.5736 (0) (0.0008s-)\u001b[0m\r\n\u001b[36m[2018-08-23 09:05:36] [DBG] [-1/] [c3] Result for 3: 86.4775 (0) (0.0011s-)\u001b[0m\r\n\u001b[36m[2018-08-23 09:05:36] [DBG] [-1/] [c0] Result for 0: 97.0097 (0) (0.0041s-)\u001b[0m\r\n\u001b[36m[2018-08-23 09:05:36] [DBG] [-1/] [c1] Result for 1: 79.6793 (0) (0.0010s-)\u001b[0m\r\n\u001b[36m[2018-08-23 09:05:36] [DBG] [-1/] [c2] Result for 2: 99.58 (0) (0.0007s-)\u001b[0m\r\n\u001b[36m[2018-08-23 09:05:36] [DBG] [-1/] [c3] Result for 3: 86.4732 (0) (0.0008s-)\u001b[0m\r\n"
     ]
    },
    {
     "name": "stdout",
     "output_type": "stream",
     "text": [
      "\u001b[36m[2018-08-23 09:05:36] [DBG] [-1/] [c0] Result for 0: 97.0097 (0) (0.0193s+)\u001b[0m\r\n\u001b[36m[2018-08-23 09:05:36] [DBG] [-1/] [c1] Result for 1: 79.6793 (0) (0.0202s+)\u001b[0m\r\n"
     ]
    },
    {
     "name": "stdout",
     "output_type": "stream",
     "text": [
      "\u001b[36m[2018-08-23 09:05:36] [DBG] [-1/] [c2] Result for 2: 99.58 (0) (0.0226s+)\u001b[0m\r\n\u001b[36m[2018-08-23 09:05:36] [DBG] [-1/] [c3] Result for 3: 86.4732 (0) (0.0123s+)\u001b[0m\r\n\u001b[32m[2018-08-23 09:05:36] [INF] [-1/] [o1i56] iter: 56 cost: -362.742 time_iter: wall: 0.248069s cpu: 0.138568s time_optim: wall: 9.49817s cpu: 4.78623s\u001b[0m"
     ]
    },
    {
     "name": "stdout",
     "output_type": "stream",
     "text": [
      "\r\n  56 -3.6274211e+02 0.00e+00 1.06e+00 -11.0 2.53e-01    -  1.00e+00 7.81e-03f  8\r\n\u001b[36m[2018-08-23 09:05:36] [DBG] [-1/] [c0] Result for 0: 96.5379 (0) (0.0007s-)\u001b[0m\r\n\u001b[36m[2018-08-23 09:05:36] [DBG] [-1/] [c1] Result for 1: 79.3666 (0) (0.0008s-)\u001b[0m\r\n\u001b[36m[2018-08-23 09:05:36] [DBG] [-1/] [c2] Result for 2: 99.7625 (0) (0.0010s-)\u001b[0m\r\n\u001b[36m[2018-08-23 09:05:36] [DBG] [-1/] [c3] Result for 3: 86.5656 (0) (0.0007s-)\u001b[0m\r\n\u001b[36m[2018-08-23 09:05:36] [DBG] [-1/] [c0] Result for 0: 96.5379 (0) (0.0007s-)\u001b[0m\r\n\u001b[36m[2018-08-23 09:05:36] [DBG] [-1/] [c1] Result for 1: 79.3666 (0) (0.0007s-)\u001b[0m\r\n\u001b[36m[2018-08-23 09:05:36] [DBG] [-1/] [c2] Result for 2: 99.7625 (0) (0.0012s-)\u001b[0m\r\n\u001b[36m[2018-08-23 09:05:36] [DBG] [-1/] [c3] Result for 3: 86.5656 (0) (0.0009s-)\u001b[0m\r\n\u001b[36m[2018-08-23 09:05:36] [DBG] [-1/] [c0] Result for 0: 96.8142 (0) (0.0007s-)\u001b[0m\r\n\u001b[36m[2018-08-23 09:05:36] [DBG] [-1/] [c1] Result for 1: 79.5239 (0) (0.0007s-)\u001b[0m\r\n\u001b[36m[2018-08-23 09:05:36] [DBG] [-1/] [c2] Result for 2: 99.7159 (0) (0.0007s-)\u001b[0m\r\n\u001b[36m[2018-08-23 09:05:36] [DBG] [-1/] [c3] Result for 3: 86.5723 (0) (0.0026s-)\u001b[0m\r\n\u001b[36m[2018-08-23 09:05:36] [DBG] [-1/] [c0] Result for 0: 96.9214 (0) (0.0007s-)\u001b[0m\r\n\u001b[36m[2018-08-23 09:05:36] [DBG] [-1/] [c1] Result for 1: 79.6008 (0) (0.0008s-)\u001b[0m\r\n\u001b[36m[2018-08-23 09:05:36] [DBG] [-1/] [c2] Result for 2: 99.6585 (0) (0.0007s-)\u001b[0m"
     ]
    },
    {
     "name": "stdout",
     "output_type": "stream",
     "text": [
      "\r\n\u001b[36m[2018-08-23 09:05:36] [DBG] [-1/] [c3] Result for 3: 86.5354 (0) (0.0008s-)\u001b[0m\r\n\u001b[36m[2018-08-23 09:05:36] [DBG] [-1/] [c0] Result for 0: 96.9678 (0) (0.0007s-)\u001b[0m\r\n\u001b[36m[2018-08-23 09:05:36] [DBG] [-1/] [c1] Result for 1: 79.6397 (0) (0.0007s-)\u001b[0m\r\n\u001b[36m[2018-08-23 09:05:36] [DBG] [-1/] [c2] Result for 2: 99.6218 (0) (0.0007s-)\u001b[0m\r\n\u001b[36m[2018-08-23 09:05:36] [DBG] [-1/] [c3] Result for 3: 86.5075 (0) (0.0009s-)\u001b[0m\r\n\u001b[36m[2018-08-23 09:05:36] [DBG] [-1/] [c0] Result for 0: 96.9893 (0) (0.0007s-)\u001b[0m\r\n\u001b[36m[2018-08-23 09:05:36] [DBG] [-1/] [c1] Result for 1: 79.6594 (0) (0.0007s-)\u001b[0m\r\n\u001b[36m[2018-08-23 09:05:36] [DBG] [-1/] [c2] Result for 2: 99.6015 (0) (0.0007s-)\u001b[0m\r\n\u001b[36m[2018-08-23 09:05:36] [DBG] [-1/] [c3] Result for 3: 86.4911 (0) (0.0011s-)\u001b[0m\r\n\u001b[36m[2018-08-23 09:05:36] [DBG] [-1/] [c0] Result for 0: 96.9996 (0) (0.0007s-)\u001b[0m\r\n\u001b[36m[2018-08-23 09:05:36] [DBG] [-1/] [c1] Result for 1: 79.6693 (0) (0.0011s-)\u001b[0m\r\n\u001b[36m[2018-08-23 09:05:36] [DBG] [-1/] [c2] Result for 2: 99.5909 (0) (0.0007s-)\u001b[0m\r\n\u001b[36m[2018-08-23 09:05:36] [DBG] [-1/] [c3] Result for 3: 86.4824 (0) (0.0007s-)\u001b[0m\r\n\u001b[36m[2018-08-23 09:05:36] [DBG] [-1/] [c0] Result for 0: 96.9996 (0) (0.0162s+)\u001b[0m\r\n"
     ]
    },
    {
     "name": "stdout",
     "output_type": "stream",
     "text": [
      "\u001b[36m[2018-08-23 09:05:36] [DBG] [-1/] [c1] Result for 1: 79.6693 (0) (0.0183s+)\u001b[0m\r\n\u001b[36m[2018-08-23 09:05:36] [DBG] [-1/] [c2] Result for 2: 99.5909 (0) (0.0165s+)\u001b[0m"
     ]
    },
    {
     "name": "stdout",
     "output_type": "stream",
     "text": [
      "\r\n\u001b[36m[2018-08-23 09:05:36] [DBG] [-1/] [c3] Result for 3: 86.4824 (0) (0.0237s+)\u001b[0m\r\n\u001b[32m[2018-08-23 09:05:36] [INF] [-1/] [o1i57] iter: 57 cost: -362.742 time_iter: wall: 0.20371s cpu: 0.0987469s time_optim: wall: 9.70188s cpu: 4.88497s\u001b[0m\r\n  57 -3.6274219e+02 0.00e+00 1.36e+00 -11.0 1.09e-01    -  1.00e+00 3.12e-02f  6\r\n"
     ]
    },
    {
     "name": "stdout",
     "output_type": "stream",
     "text": [
      "\u001b[36m[2018-08-23 09:05:37] [DBG] [-1/] [c0] Result for 0: 97.1391 (0) (0.0010s-)\u001b[0m\r\n\u001b[36m[2018-08-23 09:05:37] [DBG] [-1/] [c1] Result for 1: 78.8933 (0) (0.0007s-)\u001b[0m\r\n\u001b[36m[2018-08-23 09:05:37] [DBG] [-1/] [c2] Result for 2: 98.8695 (0) (0.0007s-)\u001b[0m\r\n\u001b[36m[2018-08-23 09:05:37] [DBG] [-1/] [c3] Result for 3: 86.985 (0) (0.0007s-)\u001b[0m\r\n\u001b[36m[2018-08-23 09:05:37] [DBG] [-1/] [c0] Result for 0: 97.1391 (0) (0.0008s-)\u001b[0m\r\n\u001b[36m[2018-08-23 09:05:37] [DBG] [-1/] [c1] Result for 1: 78.8933 (0) (0.0007s-)\u001b[0m\r\n\u001b[36m[2018-08-23 09:05:37] [DBG] [-1/] [c2] Result for 2: 98.8695 (0) (0.0011s-)\u001b[0m\r\n\u001b[36m[2018-08-23 09:05:37] [DBG] [-1/] [c3] Result for 3: 86.985 (0) (0.0025s-)\u001b[0m\r\n\u001b[36m[2018-08-23 09:05:37] [DBG] [-1/] [c0] Result for 0: 97.1467 (0) (0.0007s-)\u001b[0m\r\n\u001b[36m[2018-08-23 09:05:37] [DBG] [-1/] [c1] Result for 1: 79.2628 (0) (0.0007s-)\u001b[0m\r\n\u001b[36m[2018-08-23 09:05:37] [DBG] [-1/] [c2] Result for 2: 99.3129 (0) (0.0007s-)\u001b[0m\r\n\u001b[36m[2018-08-23 09:05:37] [DBG] [-1/] [c3] Result for 3: 86.798 (0) (0.0010s-)\u001b[0m\r\n\u001b[36m[2018-08-23 09:05:37] [DBG] [-1/] [c0] Result for 0: 97.0939 (0) (0.0008s-)\u001b[0m\r\n\u001b[36m[2018-08-23 09:05:37] [DBG] [-1/] [c1] Result for 1: 79.4616 (0) (0.0007s-)\u001b[0m\r\n\u001b[36m[2018-08-23 09:05:37] [DBG] [-1/] [c2] Result for 2: 99.474 (0) (0.0024s-)\u001b[0m\r\n\u001b[36m[2018-08-23 09:05:37] [DBG] [-1/] [c3] Result for 3: 86.6576 (0) (0.0008s-)\u001b[0m\r\n\u001b[36m[2018-08-23 09:05:37] [DBG] [-1/] [c0] Result for 0: 97.0522 (0) (0.0007s-)\u001b[0m\r\n\u001b[36m[2018-08-23 09:05:37] [DBG] [-1/] [c1] Result for 1: 79.5644 (0) (0.0008s-)\u001b[0m\r\n\u001b[36m[2018-08-23 09:05:37] [DBG] [-1/] [c2] Result for 2: 99.5382 (0) (0.0007s-)\u001b[0m\r\n\u001b[36m[2018-08-23 09:05:37] [DBG] [-1/] [c3] Result for 3: 86.5746 (0) (0.0027s-)\u001b[0m\r\n\u001b[36m[2018-08-23 09:05:37] [DBG] [-1/] [c0] Result for 0: 97.0273 (0) (0.0011s-)\u001b[0m\r\n\u001b[36m[2018-08-23 09:05:37] [DBG] [-1/] [c1] Result for 1: 79.6166 (0) (0.0010s-)\u001b[0m\r\n"
     ]
    },
    {
     "name": "stdout",
     "output_type": "stream",
     "text": [
      "\u001b[36m[2018-08-23 09:05:37] [DBG] [-1/] [c2] Result for 2: 99.566 (0) (0.0008s-)\u001b[0m\r\n\u001b[36m[2018-08-23 09:05:37] [DBG] [-1/] [c3] Result for 3: 86.5296 (0) (0.0008s-)\u001b[0m\r\n\u001b[36m[2018-08-23 09:05:37] [DBG] [-1/] [c0] Result for 0: 97.0138 (0) (0.0007s-)\u001b[0m\r\n\u001b[36m[2018-08-23 09:05:37] [DBG] [-1/] [c1] Result for 1: 79.6429 (0) (0.0007s-)\u001b[0m\r\n\u001b[36m[2018-08-23 09:05:37] [DBG] [-1/] [c2] Result for 2: 99.5788 (0) (0.0010s-)\u001b[0m\r\n\u001b[36m[2018-08-23 09:05:37] [DBG] [-1/] [c3] Result for 3: 86.5063 (0) (0.0008s-)\u001b[0m\r\n\u001b[36m[2018-08-23 09:05:37] [DBG] [-1/] [c0] Result for 0: 97.0068 (0) (0.0010s-)\u001b[0m\r\n\u001b[36m[2018-08-23 09:05:37] [DBG] [-1/] [c1] Result for 1: 79.6561 (0) (0.0008s-)\u001b[0m\r\n\u001b[36m[2018-08-23 09:05:37] [DBG] [-1/] [c2] Result for 2: 99.585 (0) (0.0008s-)\u001b[0m\r\n\u001b[36m[2018-08-23 09:05:37] [DBG] [-1/] [c3] Result for 3: 86.4944 (0) (0.0010s-)\u001b[0m\r\n\u001b[36m[2018-08-23 09:05:37] [DBG] [-1/] [c0] Result for 0: 97.0068 (0) (0.0165s+)\u001b[0m\r\n"
     ]
    },
    {
     "name": "stdout",
     "output_type": "stream",
     "text": [
      "\u001b[36m[2018-08-23 09:05:37] [DBG] [-1/] [c1] Result for 1: 79.6561 (0) (0.0080s+)\u001b[0m\r\n"
     ]
    },
    {
     "name": "stdout",
     "output_type": "stream",
     "text": [
      "\u001b[36m[2018-08-23 09:05:37] [DBG] [-1/] [c2] Result for 2: 99.585 (0) (0.0220s+)\u001b[0m\r\n\u001b[36m[2018-08-23 09:05:37] [DBG] [-1/] [c3] Result for 3: 86.4944 (0) (0.0156s+)\u001b[0m\r\n\u001b[32m[2018-08-23 09:05:37] [INF] [-1/] [o1i58] iter: 58 cost: -362.742 time_iter: wall: 0.213874s cpu: 0.0933254s time_optim: wall: 9.91575s cpu: 4.9783s\u001b[0m\r\n  58 -3.6274224e+02 0.00e+00 5.53e-01 -11.0 1.38e-01    -  1.00e+00 1.56e-02f  7\r\n\u001b[36m[2018-08-23 09:05:37] [DBG] [-1/] [c0] Result for 0: 96.914 (0) (0.0031s-)\u001b[0m\r\n\u001b[36m[2018-08-23 09:05:37] [DBG] [-1/] [c1] Result for 1: 79.7605 (0) (0.0007s-)\u001b[0m\r\n\u001b[36m[2018-08-23 09:05:37] [DBG] [-1/] [c2] Result for 2: 99.3698 (0) (0.0025s-)\u001b[0m\r\n"
     ]
    },
    {
     "name": "stdout",
     "output_type": "stream",
     "text": [
      "\u001b[36m[2018-08-23 09:05:37] [DBG] [-1/] [c3] Result for 3: 86.6845 (0) (0.0032s-)\u001b[0m\r\n\u001b[36m[2018-08-23 09:05:37] [DBG] [-1/] [c0] Result for 0: 96.914 (0) (0.0007s-)\u001b[0m\r\n\u001b[36m[2018-08-23 09:05:37] [DBG] [-1/] [c1] Result for 1: 79.7605 (0) (0.0012s-)\u001b[0m\r\n\u001b[36m[2018-08-23 09:05:37] [DBG] [-1/] [c2] Result for 2: 99.3698 (0) (0.0037s-)\u001b[0m\r\n\u001b[36m[2018-08-23 09:05:37] [DBG] [-1/] [c3] Result for 3: 86.6845 (0) (0.0011s-)\u001b[0m\r\n\u001b[36m[2018-08-23 09:05:37] [DBG] [-1/] [c0] Result for 0: 96.9616 (0) (0.0007s-)\u001b[0m\r\n\u001b[36m[2018-08-23 09:05:37] [DBG] [-1/] [c1] Result for 1: 79.7085 (0) (0.0011s-)\u001b[0m\r\n\u001b[36m[2018-08-23 09:05:37] [DBG] [-1/] [c2] Result for 2: 99.4792 (0) (0.0054s-)\u001b[0m\r\n\u001b[36m[2018-08-23 09:05:37] [DBG] [-1/] [c3] Result for 3: 86.5904 (0) (0.0008s-)\u001b[0m\r\n\u001b[36m[2018-08-23 09:05:37] [DBG] [-1/] [c0] Result for 0: 96.9845 (0) (0.0012s-)\u001b[0m\r\n\u001b[36m[2018-08-23 09:05:37] [DBG] [-1/] [c1] Result for 1: 79.6823 (0) (0.0065s-)\u001b[0m\r\n\u001b[36m[2018-08-23 09:05:37] [DBG] [-1/] [c2] Result for 2: 99.5325 (0) (0.0010s-)\u001b[0m"
     ]
    },
    {
     "name": "stdout",
     "output_type": "stream",
     "text": [
      "\r\n\u001b[36m[2018-08-23 09:05:37] [DBG] [-1/] [c3] Result for 3: 86.5426 (0) (0.0008s-)\u001b[0m\r\n\u001b[36m[2018-08-23 09:05:37] [DBG] [-1/] [c0] Result for 0: 96.9957 (0) (0.0007s-)\u001b[0m\r\n\u001b[36m[2018-08-23 09:05:37] [DBG] [-1/] [c1] Result for 1: 79.6692 (0) (0.0019s-)\u001b[0m\r\n\u001b[36m[2018-08-23 09:05:37] [DBG] [-1/] [c2] Result for 2: 99.5589 (0) (0.0008s-)\u001b[0m\r\n\u001b[36m[2018-08-23 09:05:37] [DBG] [-1/] [c3] Result for 3: 86.5186 (0) (0.0008s-)\u001b[0m\r\n\u001b[36m[2018-08-23 09:05:37] [DBG] [-1/] [c0] Result for 0: 96.9957 (0) (0.0182s+)\u001b[0m\r\n\u001b[36m[2018-08-23 09:05:37] [DBG] [-1/] [c1] Result for 1: 79.6692 (0) (0.0158s+)\u001b[0m"
     ]
    },
    {
     "name": "stdout",
     "output_type": "stream",
     "text": [
      "\r\n\u001b[36m[2018-08-23 09:05:37] [DBG] [-1/] [c2] Result for 2: 99.5589 (0) (0.0179s+)\u001b[0m\r\n\u001b[36m[2018-08-23 09:05:37] [DBG] [-1/] [c3] Result for 3: 86.5186 (0) (0.0162s+)\u001b[0m"
     ]
    },
    {
     "name": "stdout",
     "output_type": "stream",
     "text": [
      "\r\n\u001b[32m[2018-08-23 09:05:37] [INF] [-1/] [o1i59] iter: 59 cost: -362.742 time_iter: wall: 0.192562s cpu: 0.105854s time_optim: wall: 10.1083s cpu: 5.08415s\u001b[0m\r\n  59 -3.6274238e+02 0.00e+00 6.28e-01 -11.0 1.96e-02    -  1.00e+00 1.25e-01f  4\r\n\u001b[36m[2018-08-23 09:05:37] [DBG] [-1/] [c0] Result for 0: 97.0558 (0) (0.0008s-)\u001b[0m\r\n\u001b[36m[2018-08-23 09:05:37] [DBG] [-1/] [c1] Result for 1: 80.0331 (0) (0.0011s-)\u001b[0m\r\n\u001b[36m[2018-08-23 09:05:37] [DBG] [-1/] [c2] Result for 2: 99.2621 (0) (0.0008s-)\u001b[0m\r\n\u001b[36m[2018-08-23 09:05:37] [DBG] [-1/] [c3] Result for 3: 86.1076 (0) (0.0013s-)\u001b[0m\r\n\u001b[36m[2018-08-23 09:05:37] [DBG] [-1/] [c0] Result for 0: 97.0558 (0) (0.0009s-)\u001b[0m\r\n\u001b[36m[2018-08-23 09:05:37] [DBG] [-1/] [c1] Result for 1: 80.0331 (0) (0.0008s-)\u001b[0m\r\n\u001b[36m[2018-08-23 09:05:37] [DBG] [-1/] [c2] Result for 2: 99.2621 (0) (0.0008s-)\u001b[0m\r\n\u001b[36m[2018-08-23 09:05:37] [DBG] [-1/] [c3] Result for 3: 86.1076 (0) (0.0014s-)\u001b[0m\r\n"
     ]
    },
    {
     "name": "stdout",
     "output_type": "stream",
     "text": [
      "\u001b[36m[2018-08-23 09:05:37] [DBG] [-1/] [c0] Result for 0: 97.0498 (0) (0.0008s-)\u001b[0m\r\n\u001b[36m[2018-08-23 09:05:37] [DBG] [-1/] [c1] Result for 1: 79.8459 (0) (0.0008s-)\u001b[0m\r\n\u001b[36m[2018-08-23 09:05:37] [DBG] [-1/] [c2] Result for 2: 99.4363 (0) (0.0008s-)\u001b[0m\r\n\u001b[36m[2018-08-23 09:05:37] [DBG] [-1/] [c3] Result for 3: 86.3516 (0) (0.0008s-)\u001b[0m\r\n\u001b[36m[2018-08-23 09:05:37] [DBG] [-1/] [c0] Result for 0: 97.0279 (0) (0.0007s-)\u001b[0m\r\n\u001b[36m[2018-08-23 09:05:37] [DBG] [-1/] [c1] Result for 1: 79.7558 (0) (0.0008s-)\u001b[0m\r\n\u001b[36m[2018-08-23 09:05:37] [DBG] [-1/] [c2] Result for 2: 99.5032 (0) (0.0066s-)\u001b[0m\r\n\u001b[36m[2018-08-23 09:05:37] [DBG] [-1/] [c3] Result for 3: 86.4437 (0) (0.0028s-)\u001b[0m\r\n\u001b[36m[2018-08-23 09:05:37] [DBG] [-1/] [c0] Result for 0: 97.013 (0) (0.0007s-)\u001b[0m\r\n\u001b[36m[2018-08-23 09:05:37] [DBG] [-1/] [c1] Result for 1: 79.712 (0) (0.0021s-)\u001b[0m\r\n\u001b[36m[2018-08-23 09:05:37] [DBG] [-1/] [c2] Result for 2: 99.5324 (0) (0.0007s-)\u001b[0m\r\n\u001b[36m[2018-08-23 09:05:37] [DBG] [-1/] [c3] Result for 3: 86.4832 (0) (0.0010s-)\u001b[0m\r\n"
     ]
    },
    {
     "name": "stdout",
     "output_type": "stream",
     "text": [
      "\u001b[36m[2018-08-23 09:05:37] [DBG] [-1/] [c0] Result for 0: 97.0047 (0) (0.0009s-)\u001b[0m\r\n\u001b[36m[2018-08-23 09:05:37] [DBG] [-1/] [c1] Result for 1: 79.6905 (0) (0.0007s-)\u001b[0m\r\n\u001b[36m[2018-08-23 09:05:37] [DBG] [-1/] [c2] Result for 2: 99.5459 (0) (0.0007s-)\u001b[0m\r\n\u001b[36m[2018-08-23 09:05:37] [DBG] [-1/] [c3] Result for 3: 86.5014 (0) (0.0007s-)\u001b[0m\r\n\u001b[36m[2018-08-23 09:05:37] [DBG] [-1/] [c0] Result for 0: 97.0047 (0) (0.0183s+)\u001b[0m\r\n\u001b[36m[2018-08-23 09:05:37] [DBG] [-1/] [c1] Result for 1: 79.6905 (0) (0.0176s+)\u001b[0m\r\n"
     ]
    },
    {
     "name": "stdout",
     "output_type": "stream",
     "text": [
      "\u001b[36m[2018-08-23 09:05:37] [DBG] [-1/] [c2] Result for 2: 99.5459 (0) (0.0133s+)\u001b[0m\r\n\u001b[36m[2018-08-23 09:05:37] [DBG] [-1/] [c3] Result for 3: 86.5014 (0) (0.0183s+)\u001b[0m\r\n\u001b[32m[2018-08-23 09:05:37] [INF] [-1/] [o1i60] iter: 60 cost: -362.742 time_iter: wall: 0.200598s cpu: 0.096785s time_optim: wall: 10.3089s cpu: 5.18094s\u001b[0m"
     ]
    },
    {
     "name": "stdout",
     "output_type": "stream",
     "text": [
      "\r\niter    objective    inf_pr   inf_du lg(mu)  ||d||  lg(rg) alpha_du alpha_pr  ls\r\n  60 -3.6274249e+02 0.00e+00 5.12e-01 -11.0 8.48e-02    -  1.00e+00 6.25e-02f  5\r\n\u001b[36m[2018-08-23 09:05:37] [DBG] [-1/] [c0] Result for 0: 97.0072 (0) (0.0008s-)\u001b[0m\r\n\u001b[36m[2018-08-23 09:05:37] [DBG] [-1/] [c1] Result for 1: 79.7472 (0) (0.0013s-)\u001b[0m\r\n\u001b[36m[2018-08-23 09:05:37] [DBG] [-1/] [c2] Result for 2: 99.5234 (0) (0.0010s-)\u001b[0m\r\n\u001b[36m[2018-08-23 09:05:37] [DBG] [-1/] [c3] Result for 3: 86.4581 (0) (0.0008s-)\u001b[0m\r\n\u001b[36m[2018-08-23 09:05:37] [DBG] [-1/] [c0] Result for 0: 97.0072 (0) (0.0009s-)\u001b[0m\r\n\u001b[36m[2018-08-23 09:05:37] [DBG] [-1/] [c1] Result for 1: 79.7472 (0) (0.0007s-)\u001b[0m\r\n\u001b[36m[2018-08-23 09:05:37] [DBG] [-1/] [c2] Result for 2: 99.5234 (0) (0.0007s-)\u001b[0m\r\n\u001b[36m[2018-08-23 09:05:37] [DBG] [-1/] [c3] Result for 3: 86.4581 (0) (0.0007s-)\u001b[0m\r\n\u001b[36m[2018-08-23 09:05:37] [DBG] [-1/] [c0] Result for 0: 97.0065 (0) (0.0007s-)\u001b[0m\r\n\u001b[36m[2018-08-23 09:05:37] [DBG] [-1/] [c1] Result for 1: 79.7188 (0) (0.0017s-)\u001b[0m\r\n\u001b[36m[2018-08-23 09:05:37] [DBG] [-1/] [c2] Result for 2: 99.5356 (0) (0.0008s-)\u001b[0m\r\n\u001b[36m[2018-08-23 09:05:37] [DBG] [-1/] [c3] Result for 3: 86.4803 (0) (0.0024s-)\u001b[0m\r\n\u001b[36m[2018-08-23 09:05:37] [DBG] [-1/] [c0] Result for 0: 97.0057 (0) (0.0007s-)\u001b[0m\r\n\u001b[36m[2018-08-23 09:05:37] [DBG] [-1/] [c1] Result for 1: 79.7046 (0) (0.0009s-)\u001b[0m\r\n\u001b[36m[2018-08-23 09:05:37] [DBG] [-1/] [c2] Result for 2: 99.541 (0) (0.0022s-)\u001b[0m"
     ]
    },
    {
     "name": "stdout",
     "output_type": "stream",
     "text": [
      "\r\n\u001b[36m[2018-08-23 09:05:37] [DBG] [-1/] [c3] Result for 3: 86.491 (0) (0.0012s-)\u001b[0m\r\n\u001b[36m[2018-08-23 09:05:37] [DBG] [-1/] [c0] Result for 0: 97.0052 (0) (0.0008s-)\u001b[0m\r\n\u001b[36m[2018-08-23 09:05:37] [DBG] [-1/] [c1] Result for 1: 79.6976 (0) (0.0007s-)\u001b[0m\r\n\u001b[36m[2018-08-23 09:05:37] [DBG] [-1/] [c2] Result for 2: 99.5435 (0) (0.0012s-)\u001b[0m\r\n\u001b[36m[2018-08-23 09:05:37] [DBG] [-1/] [c3] Result for 3: 86.4962 (0) (0.0024s-)\u001b[0m\r\n\u001b[36m[2018-08-23 09:05:37] [DBG] [-1/] [c0] Result for 0: 97.0052 (0) (0.0196s+)\u001b[0m\r\n"
     ]
    },
    {
     "name": "stdout",
     "output_type": "stream",
     "text": [
      "\u001b[36m[2018-08-23 09:05:37] [DBG] [-1/] [c1] Result for 1: 79.6976 (0) (0.0104s+)\u001b[0m\r\n\u001b[36m[2018-08-23 09:05:37] [DBG] [-1/] [c2] Result for 2: 99.5435 (0) (0.0128s+)\u001b[0m\r\n"
     ]
    },
    {
     "name": "stdout",
     "output_type": "stream",
     "text": [
      "\u001b[36m[2018-08-23 09:05:37] [DBG] [-1/] [c3] Result for 3: 86.4962 (0) (0.0184s+)\u001b[0m\r\n\u001b[32m[2018-08-23 09:05:37] [INF] [-1/] [o1i61] iter: 61 cost: -362.743 time_iter: wall: 0.192511s cpu: 0.0838835s time_optim: wall: 10.5014s cpu: 5.26482s\u001b[0m\r\n  61 -3.6274251e+02 0.00e+00 5.58e-01 -11.0 1.60e-02    -  1.00e+00 1.25e-01f  4\r\n\u001b[36m[2018-08-23 09:05:37] [DBG] [-1/] [c0] Result for 0: 96.8828 (0) (0.0008s-)\u001b[0m\r\n\u001b[36m[2018-08-23 09:05:37] [DBG] [-1/] [c1] Result for 1: 79.3323 (0) (0.0017s-)\u001b[0m\r\n\u001b[36m[2018-08-23 09:05:37] [DBG] [-1/] [c2] Result for 2: 100.105 (0) (0.0031s-)\u001b[0m\r\n\u001b[36m[2018-08-23 09:05:37] [DBG] [-1/] [c3] Result for 3: 85.9044 (0) (0.0011s-)\u001b[0m\r\n\u001b[36m[2018-08-23 09:05:37] [DBG] [-1/] [c0] Result for 0: 96.8828 (0) (0.0008s-)\u001b[0m"
     ]
    },
    {
     "name": "stdout",
     "output_type": "stream",
     "text": [
      "\r\n\u001b[36m[2018-08-23 09:05:37] [DBG] [-1/] [c1] Result for 1: 79.3323 (0) (0.0008s-)\u001b[0m\r\n\u001b[36m[2018-08-23 09:05:37] [DBG] [-1/] [c2] Result for 2: 100.105 (0) (0.0010s-)\u001b[0m\r\n\u001b[36m[2018-08-23 09:05:37] [DBG] [-1/] [c3] Result for 3: 85.9044 (0) (0.0008s-)\u001b[0m\r\n\u001b[36m[2018-08-23 09:05:37] [DBG] [-1/] [c0] Result for 0: 96.9955 (0) (0.0007s-)\u001b[0m\r\n\u001b[36m[2018-08-23 09:05:37] [DBG] [-1/] [c1] Result for 1: 79.4589 (0) (0.0026s-)\u001b[0m\r\n\u001b[36m[2018-08-23 09:05:37] [DBG] [-1/] [c2] Result for 2: 99.8609 (0) (0.0047s-)\u001b[0m\r\n\u001b[36m[2018-08-23 09:05:37] [DBG] [-1/] [c3] Result for 3: 86.2856 (0) (0.0009s-)\u001b[0m\r\n\u001b[36m[2018-08-23 09:05:37] [DBG] [-1/] [c0] Result for 0: 97.0144 (0) (0.0008s-)\u001b[0m\r\n\u001b[36m[2018-08-23 09:05:37] [DBG] [-1/] [c1] Result for 1: 79.5666 (0) (0.0049s-)\u001b[0m\r\n\u001b[36m[2018-08-23 09:05:37] [DBG] [-1/] [c2] Result for 2: 99.7128 (0) (0.0033s-)\u001b[0m\r\n\u001b[36m[2018-08-23 09:05:37] [DBG] [-1/] [c3] Result for 3: 86.4121 (0) (0.0009s-)\u001b[0m\r\n\u001b[36m[2018-08-23 09:05:37] [DBG] [-1/] [c0] Result for 0: 97.0135 (0) (0.0007s-)\u001b[0m\r\n\u001b[36m[2018-08-23 09:05:37] [DBG] [-1/] [c1] Result for 1: 79.6296 (0) (0.0011s-)\u001b[0m"
     ]
    },
    {
     "name": "stdout",
     "output_type": "stream",
     "text": [
      "\r\n\u001b[36m[2018-08-23 09:05:37] [DBG] [-1/] [c2] Result for 2: 99.6311 (0) (0.0007s-)\u001b[0m\r\n\u001b[36m[2018-08-23 09:05:37] [DBG] [-1/] [c3] Result for 3: 86.4595 (0) (0.0012s-)\u001b[0m\r\n\u001b[36m[2018-08-23 09:05:37] [DBG] [-1/] [c0] Result for 0: 97.0103 (0) (0.0007s-)\u001b[0m\r\n\u001b[36m[2018-08-23 09:05:37] [DBG] [-1/] [c1] Result for 1: 79.663 (0) (0.0007s-)\u001b[0m\r\n\u001b[36m[2018-08-23 09:05:37] [DBG] [-1/] [c2] Result for 2: 99.588 (0) (0.0007s-)\u001b[0m\r\n\u001b[36m[2018-08-23 09:05:37] [DBG] [-1/] [c3] Result for 3: 86.4792 (0) (0.0007s-)\u001b[0m\r\n\u001b[36m[2018-08-23 09:05:37] [DBG] [-1/] [c0] Result for 0: 97.008 (0) (0.0009s-)\u001b[0m\r\n\u001b[36m[2018-08-23 09:05:37] [DBG] [-1/] [c1] Result for 1: 79.6801 (0) (0.0011s-)\u001b[0m\r\n\u001b[36m[2018-08-23 09:05:37] [DBG] [-1/] [c2] Result for 2: 99.566 (0) (0.0008s-)\u001b[0m\r\n\u001b[36m[2018-08-23 09:05:37] [DBG] [-1/] [c3] Result for 3: 86.4881 (0) (0.0007s-)\u001b[0m\r\n\u001b[36m[2018-08-23 09:05:37] [DBG] [-1/] [c0] Result for 0: 97.0067 (0) (0.0008s-)\u001b[0m\r\n\u001b[36m[2018-08-23 09:05:37] [DBG] [-1/] [c1] Result for 1: 79.6888 (0) (0.0035s-)\u001b[0m\r\n\u001b[36m[2018-08-23 09:05:37] [DBG] [-1/] [c2] Result for 2: 99.5548 (0) (0.0009s-)\u001b[0m\r\n\u001b[36m[2018-08-23 09:05:37] [DBG] [-1/] [c3] Result for 3: 86.4922 (0) (0.0007s-)\u001b[0m\r\n\u001b[36m[2018-08-23 09:05:37] [DBG] [-1/] [c0] Result for 0: 97.006 (0) (0.0007s-)\u001b[0m\r\n\u001b[36m[2018-08-23 09:05:37] [DBG] [-1/] [c1] Result for 1: 79.6932 (0) (0.0047s-)\u001b[0m\r\n\u001b[36m[2018-08-23 09:05:37] [DBG] [-1/] [c2] Result for 2: 99.5492 (0) (0.0008s-)\u001b[0m\r\n\u001b[36m[2018-08-23 09:05:37] [DBG] [-1/] [c3] Result for 3: 86.4942 (0) (0.0008s-)\u001b[0m\r\n\u001b[36m[2018-08-23 09:05:37] [DBG] [-1/] [c0] Result for 0: 97.006 (0) (0.0082s+)\u001b[0m"
     ]
    },
    {
     "name": "stdout",
     "output_type": "stream",
     "text": [
      "\r\n\u001b[36m[2018-08-23 09:05:37] [DBG] [-1/] [c1] Result for 1: 79.6932 (0) (0.0179s+)\u001b[0m\r\n\u001b[36m[2018-08-23 09:05:37] [DBG] [-1/] [c2] Result for 2: 99.5492 (0) (0.0075s+)\u001b[0m"
     ]
    },
    {
     "name": "stdout",
     "output_type": "stream",
     "text": [
      "\r\n\u001b[36m[2018-08-23 09:05:38] [DBG] [-1/] [c3] Result for 3: 86.4942 (0) (0.0181s+)\u001b[0m\r\n"
     ]
    },
    {
     "name": "stdout",
     "output_type": "stream",
     "text": [
      "\u001b[32m[2018-08-23 09:05:38] [INF] [-1/] [o1i62] iter: 62 cost: -362.743 time_iter: wall: 0.246351s cpu: 0.103348s time_optim: wall: 10.7478s cpu: 5.36817s\u001b[0m\r\n  62 -3.6274255e+02 0.00e+00 5.88e-01 -11.0 1.42e-01    -  1.00e+00 7.81e-03f  8\r\n\u001b[36m[2018-08-23 09:05:38] [DBG] [-1/] [c0] Result for 0: 96.4903 (0) (0.0007s-)\u001b[0m\r\n\u001b[36m[2018-08-23 09:05:38] [DBG] [-1/] [c1] Result for 1: 79.894 (0) (0.0007s-)\u001b[0m\r\n\u001b[36m[2018-08-23 09:05:38] [DBG] [-1/] [c2] Result for 2: 99.8573 (0) (0.0023s-)\u001b[0m\r\n\u001b[36m[2018-08-23 09:05:38] [DBG] [-1/] [c3] Result for 3: 85.8465 (0) (0.0030s-)\u001b[0m\r\n\u001b[36m[2018-08-23 09:05:38] [DBG] [-1/] [c0] Result for 0: 96.4903 (0) (0.0007s-)\u001b[0m\r\n\u001b[36m[2018-08-23 09:05:38] [DBG] [-1/] [c1] Result for 1: 79.894 (0) (0.0007s-)\u001b[0m\r\n\u001b[36m[2018-08-23 09:05:38] [DBG] [-1/] [c2] Result for 2: 99.8573 (0) (0.0007s-)\u001b[0m\r\n\u001b[36m[2018-08-23 09:05:38] [DBG] [-1/] [c3] Result for 3: 85.8465 (0) (0.0011s-)\u001b[0m\r\n\u001b[36m[2018-08-23 09:05:38] [DBG] [-1/] [c0] Result for 0: 96.7943 (0) (0.0007s-)\u001b[0m\r\n\u001b[36m[2018-08-23 09:05:38] [DBG] [-1/] [c1] Result for 1: 79.8213 (0) (0.0012s-)\u001b[0m\r\n\u001b[36m[2018-08-23 09:05:38] [DBG] [-1/] [c2] Result for 2: 99.7486 (0) (0.0008s-)\u001b[0m\r\n\u001b[36m[2018-08-23 09:05:38] [DBG] [-1/] [c3] Result for 3: 86.2205 (0) (0.0009s-)\u001b[0m\r\n"
     ]
    },
    {
     "name": "stdout",
     "output_type": "stream",
     "text": [
      "\u001b[36m[2018-08-23 09:05:38] [DBG] [-1/] [c0] Result for 0: 96.9113 (0) (0.0007s-)\u001b[0m\r\n\u001b[36m[2018-08-23 09:05:38] [DBG] [-1/] [c1] Result for 1: 79.764 (0) (0.0007s-)\u001b[0m\r\n\u001b[36m[2018-08-23 09:05:38] [DBG] [-1/] [c2] Result for 2: 99.6598 (0) (0.0007s-)\u001b[0m\r\n\u001b[36m[2018-08-23 09:05:38] [DBG] [-1/] [c3] Result for 3: 86.3695 (0) (0.0007s-)\u001b[0m\r\n\u001b[36m[2018-08-23 09:05:38] [DBG] [-1/] [c0] Result for 0: 96.9614 (0) (0.0007s-)\u001b[0m\r\n\u001b[36m[2018-08-23 09:05:38] [DBG] [-1/] [c1] Result for 1: 79.7302 (0) (0.0010s-)\u001b[0m\r\n\u001b[36m[2018-08-23 09:05:38] [DBG] [-1/] [c2] Result for 2: 99.6072 (0) (0.0007s-)\u001b[0m\r\n\u001b[36m[2018-08-23 09:05:38] [DBG] [-1/] [c3] Result for 3: 86.4349 (0) (0.0008s-)\u001b[0m\r\n\u001b[36m[2018-08-23 09:05:38] [DBG] [-1/] [c0] Result for 0: 96.9843 (0) (0.0007s-)\u001b[0m\r\n\u001b[36m[2018-08-23 09:05:38] [DBG] [-1/] [c1] Result for 1: 79.7121 (0) (0.0008s-)\u001b[0m\r\n\u001b[36m[2018-08-23 09:05:38] [DBG] [-1/] [c2] Result for 2: 99.5789 (0) (0.0009s-)\u001b[0m\r\n\u001b[36m[2018-08-23 09:05:38] [DBG] [-1/] [c3] Result for 3: 86.4653 (0) (0.0010s-)\u001b[0m\r\n\u001b[36m[2018-08-23 09:05:38] [DBG] [-1/] [c0] Result for 0: 96.9953 (0) (0.0007s-)\u001b[0m\r\n\u001b[36m[2018-08-23 09:05:38] [DBG] [-1/] [c1] Result for 1: 79.7027 (0) (0.0007s-)\u001b[0m\r\n\u001b[36m[2018-08-23 09:05:38] [DBG] [-1/] [c2] Result for 2: 99.5642 (0) (0.0007s-)\u001b[0m\r\n\u001b[36m[2018-08-23 09:05:38] [DBG] [-1/] [c3] Result for 3: 86.48 (0) (0.0007s-)\u001b[0m\r\n\u001b[36m[2018-08-23 09:05:38] [DBG] [-1/] [c0] Result for 0: 97.0007 (0) (0.0007s-)\u001b[0m\r\n\u001b[36m[2018-08-23 09:05:38] [DBG] [-1/] [c1] Result for 1: 79.698 (0) (0.0009s-)\u001b[0m\r\n\u001b[36m[2018-08-23 09:05:38] [DBG] [-1/] [c2] Result for 2: 99.5567 (0) (0.0065s-)\u001b[0m\r\n\u001b[36m[2018-08-23 09:05:38] [DBG] [-1/] [c3] Result for 3: 86.4871 (0) (0.0010s-)\u001b[0m\r\n\u001b[36m[2018-08-23 09:05:38] [DBG] [-1/] [c0] Result for 0: 97.0033 (0) (0.0007s-)\u001b[0m\r\n\u001b[36m[2018-08-23 09:05:38] [DBG] [-1/] [c1] Result for 1: 79.6956 (0) (0.0009s-)\u001b[0m\r\n\u001b[36m[2018-08-23 09:05:38] [DBG] [-1/] [c2] Result for 2: 99.5529 (0) (0.0007s-)\u001b[0m\r\n\u001b[36m[2018-08-23 09:05:38] [DBG] [-1/] [c3] Result for 3: 86.4907 (0) (0.0016s-)\u001b[0m\r\n"
     ]
    },
    {
     "name": "stdout",
     "output_type": "stream",
     "text": [
      "\u001b[36m[2018-08-23 09:05:38] [DBG] [-1/] [c0] Result for 0: 97.0033 (0) (0.0176s+)\u001b[0m\r\n\u001b[36m[2018-08-23 09:05:38] [DBG] [-1/] [c1] Result for 1: 79.6956 (0) (0.0123s+)\u001b[0m\r\n"
     ]
    },
    {
     "name": "stdout",
     "output_type": "stream",
     "text": [
      "\u001b[36m[2018-08-23 09:05:38] [DBG] [-1/] [c2] Result for 2: 99.5529 (0) (0.0202s+)\u001b[0m\r\n\u001b[36m[2018-08-23 09:05:38] [DBG] [-1/] [c3] Result for 3: 86.4907 (0) (0.0130s+)\u001b[0m\r\n"
     ]
    },
    {
     "name": "stdout",
     "output_type": "stream",
     "text": [
      "\u001b[32m[2018-08-23 09:05:38] [INF] [-1/] [o1i63] iter: 63 cost: -362.743 time_iter: wall: 0.226893s cpu: 0.101824s time_optim: wall: 10.9747s cpu: 5.46999s\u001b[0m\r\n  63 -3.6274258e+02 0.00e+00 5.43e-01 -11.0 6.50e-02    -  1.00e+00 7.81e-03f  8\r\n\u001b[36m[2018-08-23 09:05:38] [DBG] [-1/] [c0] Result for 0: 97.0777 (0) (0.0008s-)\u001b[0m\r\n\u001b[36m[2018-08-23 09:05:38] [DBG] [-1/] [c1] Result for 1: 79.7842 (0) (0.0009s-)\u001b[0m\r\n\u001b[36m[2018-08-23 09:05:38] [DBG] [-1/] [c2] Result for 2: 99.4755 (0) (0.0010s-)\u001b[0m\r\n\u001b[36m[2018-08-23 09:05:38] [DBG] [-1/] [c3] Result for 3: 86.3475 (0) (0.0009s-)\u001b[0m\r\n\u001b[36m[2018-08-23 09:05:38] [DBG] [-1/] [c0] Result for 0: 97.0777 (0) (0.0007s-)\u001b[0m\r\n\u001b[36m[2018-08-23 09:05:38] [DBG] [-1/] [c1] Result for 1: 79.7842 (0) (0.0009s-)\u001b[0m\r\n\u001b[36m[2018-08-23 09:05:38] [DBG] [-1/] [c2] Result for 2: 99.4755 (0) (0.0007s-)\u001b[0m\r\n\u001b[36m[2018-08-23 09:05:38] [DBG] [-1/] [c3] Result for 3: 86.3475 (0) (0.0007s-)\u001b[0m\r\n\u001b[36m[2018-08-23 09:05:38] [DBG] [-1/] [c0] Result for 0: 97.043 (0) (0.0007s-)\u001b[0m\r\n\u001b[36m[2018-08-23 09:05:38] [DBG] [-1/] [c1] Result for 1: 79.7445 (0) (0.0007s-)\u001b[0m\r\n\u001b[36m[2018-08-23 09:05:38] [DBG] [-1/] [c2] Result for 2: 99.517 (0) (0.0008s-)\u001b[0m\r\n\u001b[36m[2018-08-23 09:05:38] [DBG] [-1/] [c3] Result for 3: 86.4245 (0) (0.0007s-)\u001b[0m\r\n\u001b[36m[2018-08-23 09:05:38] [DBG] [-1/] [c0] Result for 0: 97.0238 (0) (0.0007s-)\u001b[0m\r\n\u001b[36m[2018-08-23 09:05:38] [DBG] [-1/] [c1] Result for 1: 79.7212 (0) (0.0008s-)\u001b[0m\r\n\u001b[36m[2018-08-23 09:05:38] [DBG] [-1/] [c2] Result for 2: 99.5357 (0) (0.0007s-)\u001b[0m\r\n"
     ]
    },
    {
     "name": "stdout",
     "output_type": "stream",
     "text": [
      "\u001b[36m[2018-08-23 09:05:38] [DBG] [-1/] [c3] Result for 3: 86.4589 (0) (0.0008s-)\u001b[0m\r\n\u001b[36m[2018-08-23 09:05:38] [DBG] [-1/] [c0] Result for 0: 97.0137 (0) (0.0040s-)\u001b[0m\r\n\u001b[36m[2018-08-23 09:05:38] [DBG] [-1/] [c1] Result for 1: 79.7087 (0) (0.0009s-)\u001b[0m\r\n\u001b[36m[2018-08-23 09:05:38] [DBG] [-1/] [c2] Result for 2: 99.5445 (0) (0.0007s-)\u001b[0m\r\n\u001b[36m[2018-08-23 09:05:38] [DBG] [-1/] [c3] Result for 3: 86.4752 (0) (0.0012s-)\u001b[0m\r\n\u001b[36m[2018-08-23 09:05:38] [DBG] [-1/] [c0] Result for 0: 97.0086 (0) (0.0007s-)\u001b[0m\r\n\u001b[36m[2018-08-23 09:05:38] [DBG] [-1/] [c1] Result for 1: 79.7022 (0) (0.0008s-)\u001b[0m\r\n\u001b[36m[2018-08-23 09:05:38] [DBG] [-1/] [c2] Result for 2: 99.5488 (0) (0.0008s-)\u001b[0m\r\n\u001b[36m[2018-08-23 09:05:38] [DBG] [-1/] [c3] Result for 3: 86.483 (0) (0.0008s-)\u001b[0m\r\n\u001b[36m[2018-08-23 09:05:38] [DBG] [-1/] [c0] Result for 0: 97.006 (0) (0.0014s-)\u001b[0m\r\n\u001b[36m[2018-08-23 09:05:38] [DBG] [-1/] [c1] Result for 1: 79.6989 (0) (0.0007s-)\u001b[0m\r\n\u001b[36m[2018-08-23 09:05:38] [DBG] [-1/] [c2] Result for 2: 99.5509 (0) (0.0007s-)\u001b[0m\r\n\u001b[36m[2018-08-23 09:05:38] [DBG] [-1/] [c3] Result for 3: 86.4869 (0) (0.0008s-)\u001b[0m\r\n"
     ]
    },
    {
     "name": "stdout",
     "output_type": "stream",
     "text": [
      "\u001b[36m[2018-08-23 09:05:38] [DBG] [-1/] [c0] Result for 0: 97.006 (0) (0.0199s+)\u001b[0m\r\n\u001b[36m[2018-08-23 09:05:38] [DBG] [-1/] [c1] Result for 1: 79.6989 (0) (0.0153s+)\u001b[0m\r\n"
     ]
    },
    {
     "name": "stdout",
     "output_type": "stream",
     "text": [
      "\u001b[36m[2018-08-23 09:05:38] [DBG] [-1/] [c2] Result for 2: 99.5509 (0) (0.0196s+)\u001b[0m\r\n\u001b[36m[2018-08-23 09:05:38] [DBG] [-1/] [c3] Result for 3: 86.4869 (0) (0.0185s+)\u001b[0m\r\n\u001b[32m[2018-08-23 09:05:38] [INF] [-1/] [o1i64] iter: 64 cost: -362.743 time_iter: wall: 0.203635s cpu: 0.0990404s time_optim: wall: 11.1783s cpu: 5.56903s\u001b[0m\r\n"
     ]
    },
    {
     "name": "stdout",
     "output_type": "stream",
     "text": [
      "  64 -3.6274264e+02 0.00e+00 3.78e-01 -11.0 1.62e-02    -  1.00e+00 3.12e-02f  6\r\n\u001b[36m[2018-08-23 09:05:38] [DBG] [-1/] [c0] Result for 0: 96.9579 (0) (0.0008s-)\u001b[0m\r\n\u001b[36m[2018-08-23 09:05:38] [DBG] [-1/] [c1] Result for 1: 79.7451 (0) (0.0008s-)\u001b[0m\r\n\u001b[36m[2018-08-23 09:05:38] [DBG] [-1/] [c2] Result for 2: 99.6025 (0) (0.0078s-)\u001b[0m\r\n\u001b[36m[2018-08-23 09:05:38] [DBG] [-1/] [c3] Result for 3: 86.429 (0) (0.0012s-)\u001b[0m\r\n\u001b[36m[2018-08-23 09:05:38] [DBG] [-1/] [c0] Result for 0: 96.9579 (0) (0.0007s-)\u001b[0m\r\n\u001b[36m[2018-08-23 09:05:38] [DBG] [-1/] [c1] Result for 1: 79.7451 (0) (0.0007s-)\u001b[0m\r\n\u001b[36m[2018-08-23 09:05:38] [DBG] [-1/] [c2] Result for 2: 99.6025 (0) (0.0007s-)\u001b[0m\r\n\u001b[36m[2018-08-23 09:05:38] [DBG] [-1/] [c3] Result for 3: 86.429 (0) (0.0007s-)\u001b[0m\r\n\u001b[36m[2018-08-23 09:05:38] [DBG] [-1/] [c0] Result for 0: 96.9827 (0) (0.0010s-)\u001b[0m\r\n\u001b[36m[2018-08-23 09:05:38] [DBG] [-1/] [c1] Result for 1: 79.7224 (0) (0.0009s-)\u001b[0m\r\n\u001b[36m[2018-08-23 09:05:38] [DBG] [-1/] [c2] Result for 2: 99.5774 (0) (0.0011s-)\u001b[0m\r\n\u001b[36m[2018-08-23 09:05:38] [DBG] [-1/] [c3] Result for 3: 86.4584 (0) (0.0032s-)\u001b[0m\r\n\u001b[36m[2018-08-23 09:05:38] [DBG] [-1/] [c0] Result for 0: 96.9945 (0) (0.0007s-)\u001b[0m\r\n"
     ]
    },
    {
     "name": "stdout",
     "output_type": "stream",
     "text": [
      "\u001b[36m[2018-08-23 09:05:38] [DBG] [-1/] [c1] Result for 1: 79.7108 (0) (0.0076s-)\u001b[0m\r\n\u001b[36m[2018-08-23 09:05:38] [DBG] [-1/] [c2] Result for 2: 99.5643 (0) (0.0008s-)\u001b[0m\r\n\u001b[36m[2018-08-23 09:05:38] [DBG] [-1/] [c3] Result for 3: 86.4727 (0) (0.0007s-)\u001b[0m\r\n\u001b[36m[2018-08-23 09:05:38] [DBG] [-1/] [c0] Result for 0: 97.0003 (0) (0.0032s-)\u001b[0m\r\n\u001b[36m[2018-08-23 09:05:38] [DBG] [-1/] [c1] Result for 1: 79.7049 (0) (0.0025s-)\u001b[0m\r\n\u001b[36m[2018-08-23 09:05:38] [DBG] [-1/] [c2] Result for 2: 99.5576 (0) (0.0009s-)\u001b[0m\r\n\u001b[36m[2018-08-23 09:05:38] [DBG] [-1/] [c3] Result for 3: 86.4798 (0) (0.0008s-)\u001b[0m\r\n\u001b[36m[2018-08-23 09:05:38] [DBG] [-1/] [c0] Result for 0: 97.0031 (0) (0.0007s-)\u001b[0m\r\n\u001b[36m[2018-08-23 09:05:38] [DBG] [-1/] [c1] Result for 1: 79.7019 (0) (0.0047s-)\u001b[0m\r\n\u001b[36m[2018-08-23 09:05:38] [DBG] [-1/] [c2] Result for 2: 99.5543 (0) (0.0007s-)\u001b[0m\r\n\u001b[36m[2018-08-23 09:05:38] [DBG] [-1/] [c3] Result for 3: 86.4834 (0) (0.0008s-)\u001b[0m\r\n\u001b[36m[2018-08-23 09:05:38] [DBG] [-1/] [c0] Result for 0: 97.0031 (0) (0.0140s+)\u001b[0m"
     ]
    },
    {
     "name": "stdout",
     "output_type": "stream",
     "text": [
      "\r\n\u001b[36m[2018-08-23 09:05:38] [DBG] [-1/] [c1] Result for 1: 79.7019 (0) (0.0190s+)\u001b[0m\r\n"
     ]
    },
    {
     "name": "stdout",
     "output_type": "stream",
     "text": [
      "\u001b[36m[2018-08-23 09:05:38] [DBG] [-1/] [c2] Result for 2: 99.5543 (0) (0.0213s+)\u001b[0m\r\n\u001b[36m[2018-08-23 09:05:38] [DBG] [-1/] [c3] Result for 3: 86.4834 (0) (0.0164s+)\u001b[0m\r\n\u001b[32m[2018-08-23 09:05:38] [INF] [-1/] [o1i65] iter: 65 cost: -362.743 time_iter: wall: 0.204033s cpu: 0.114715s time_optim: wall: 11.3823s cpu: 5.68375s\u001b[0m\r\n  65 -3.6274267e+02 0.00e+00 4.70e-01 -11.0 2.28e-03    -  1.00e+00 6.25e-02f  5\r\n\u001b[36m[2018-08-23 09:05:38] [DBG] [-1/] [c0] Result for 0: 97.0021 (0) (0.0041s-)\u001b[0m\r\n"
     ]
    },
    {
     "name": "stdout",
     "output_type": "stream",
     "text": [
      "\u001b[36m[2018-08-23 09:05:38] [DBG] [-1/] [c1] Result for 1: 79.6867 (0) (0.0009s-)\u001b[0m\r\n\u001b[36m[2018-08-23 09:05:38] [DBG] [-1/] [c2] Result for 2: 99.5568 (0) (0.0007s-)\u001b[0m\r\n\u001b[36m[2018-08-23 09:05:38] [DBG] [-1/] [c3] Result for 3: 86.4971 (0) (0.0008s-)\u001b[0m\r\n\u001b[36m[2018-08-23 09:05:38] [DBG] [-1/] [c0] Result for 0: 97.0021 (0) (0.0156s+)\u001b[0m\r\n\u001b[36m[2018-08-23 09:05:38] [DBG] [-1/] [c1] Result for 1: 79.6867 (0) (0.0125s+)\u001b[0m"
     ]
    },
    {
     "name": "stdout",
     "output_type": "stream",
     "text": [
      "\r\n\u001b[36m[2018-08-23 09:05:38] [DBG] [-1/] [c2] Result for 2: 99.5568 (0) (0.0123s+)\u001b[0m\r\n\u001b[36m[2018-08-23 09:05:38] [DBG] [-1/] [c3] Result for 3: 86.4971 (0) (0.0164s+)\u001b[0m"
     ]
    },
    {
     "name": "stdout",
     "output_type": "stream",
     "text": [
      "\r\n\u001b[32m[2018-08-23 09:05:38] [INF] [-1/] [o1i66] iter: 66 cost: -362.743 time_iter: wall: 0.139115s cpu: 0.0633542s time_optim: wall: 11.5215s cpu: 5.7471s\u001b[0m\r\n  66 -3.6274280e+02 0.00e+00 9.05e-02 -11.0 3.50e-03    -  1.00e+00 1.00e+00f  1\r\n\u001b[36m[2018-08-23 09:05:38] [DBG] [-1/] [c0] Result for 0: 97.1042 (0) (0.0008s-)\u001b[0m\r\n\u001b[36m[2018-08-23 09:05:38] [DBG] [-1/] [c1] Result for 1: 79.547 (0) (0.0008s-)\u001b[0m\r\n\u001b[36m[2018-08-23 09:05:38] [DBG] [-1/] [c2] Result for 2: 99.8013 (0) (0.0009s-)\u001b[0m\r\n\u001b[36m[2018-08-23 09:05:38] [DBG] [-1/] [c3] Result for 3: 86.2632 (0) (0.0007s-)\u001b[0m\r\n\u001b[36m[2018-08-23 09:05:38] [DBG] [-1/] [c0] Result for 0: 97.1042 (0) (0.0007s-)\u001b[0m\r\n\u001b[36m[2018-08-23 09:05:38] [DBG] [-1/] [c1] Result for 1: 79.547 (0) (0.0011s-)\u001b[0m\r\n\u001b[36m[2018-08-23 09:05:38] [DBG] [-1/] [c2] Result for 2: 99.8013 (0) (0.0037s-)\u001b[0m\r\n\u001b[36m[2018-08-23 09:05:38] [DBG] [-1/] [c3] Result for 3: 86.2632 (0) (0.0008s-)\u001b[0m\r\n\u001b[36m[2018-08-23 09:05:38] [DBG] [-1/] [c0] Result for 0: 97.0552 (0) (0.0007s-)\u001b[0m\r\n\u001b[36m[2018-08-23 09:05:38] [DBG] [-1/] [c1] Result for 1: 79.6163 (0) (0.0044s-)\u001b[0m\r\n"
     ]
    },
    {
     "name": "stdout",
     "output_type": "stream",
     "text": [
      "\u001b[36m[2018-08-23 09:05:38] [DBG] [-1/] [c2] Result for 2: 99.6827 (0) (0.0032s-)\u001b[0m\r\n\u001b[36m[2018-08-23 09:05:38] [DBG] [-1/] [c3] Result for 3: 86.382 (0) (0.0017s-)\u001b[0m\r\n\u001b[36m[2018-08-23 09:05:38] [DBG] [-1/] [c0] Result for 0: 97.0291 (0) (0.0007s-)\u001b[0m\r\n\u001b[36m[2018-08-23 09:05:38] [DBG] [-1/] [c1] Result for 1: 79.6514 (0) (0.0007s-)\u001b[0m\r\n\u001b[36m[2018-08-23 09:05:38] [DBG] [-1/] [c2] Result for 2: 99.6207 (0) (0.0007s-)\u001b[0m\r\n\u001b[36m[2018-08-23 09:05:38] [DBG] [-1/] [c3] Result for 3: 86.44 (0) (0.0054s-)\u001b[0m\r\n\u001b[36m[2018-08-23 09:05:38] [DBG] [-1/] [c0] Result for 0: 97.0157 (0) (0.0007s-)\u001b[0m\r\n\u001b[36m[2018-08-23 09:05:38] [DBG] [-1/] [c1] Result for 1: 79.669 (0) (0.0008s-)\u001b[0m\r\n\u001b[36m[2018-08-23 09:05:38] [DBG] [-1/] [c2] Result for 2: 99.589 (0) (0.0008s-)\u001b[0m\r\n\u001b[36m[2018-08-23 09:05:38] [DBG] [-1/] [c3] Result for 3: 86.4687 (0) (0.0008s-)\u001b[0m\r\n\u001b[36m[2018-08-23 09:05:38] [DBG] [-1/] [c0] Result for 0: 97.009 (0) (0.0007s-)\u001b[0m\r\n\u001b[36m[2018-08-23 09:05:38] [DBG] [-1/] [c1] Result for 1: 79.6779 (0) (0.0014s-)\u001b[0m\r\n\u001b[36m[2018-08-23 09:05:38] [DBG] [-1/] [c2] Result for 2: 99.5729 (0) (0.0007s-)\u001b[0m\r\n\u001b[36m[2018-08-23 09:05:38] [DBG] [-1/] [c3] Result for 3: 86.4829 (0) (0.0008s-)\u001b[0m\r\n\u001b[36m[2018-08-23 09:05:38] [DBG] [-1/] [c0] Result for 0: 97.0055 (0) (0.0007s-)\u001b[0m\r\n\u001b[36m[2018-08-23 09:05:38] [DBG] [-1/] [c1] Result for 1: 79.6823 (0) (0.0043s-)\u001b[0m"
     ]
    },
    {
     "name": "stdout",
     "output_type": "stream",
     "text": [
      "\r\n\u001b[36m[2018-08-23 09:05:38] [DBG] [-1/] [c2] Result for 2: 99.5649 (0) (0.0008s-)\u001b[0m\r\n\u001b[36m[2018-08-23 09:05:38] [DBG] [-1/] [c3] Result for 3: 86.49 (0) (0.0008s-)\u001b[0m\r\n\u001b[36m[2018-08-23 09:05:38] [DBG] [-1/] [c0] Result for 0: 97.0038 (0) (0.0043s-)\u001b[0m\r\n\u001b[36m[2018-08-23 09:05:38] [DBG] [-1/] [c1] Result for 1: 79.6845 (0) (0.0008s-)\u001b[0m\r\n\u001b[36m[2018-08-23 09:05:38] [DBG] [-1/] [c2] Result for 2: 99.5609 (0) (0.0007s-)\u001b[0m\r\n\u001b[36m[2018-08-23 09:05:38] [DBG] [-1/] [c3] Result for 3: 86.4936 (0) (0.0007s-)\u001b[0m\r\n\u001b[36m[2018-08-23 09:05:38] [DBG] [-1/] [c0] Result for 0: 97.0038 (0) (0.0172s+)\u001b[0m\r\n"
     ]
    },
    {
     "name": "stdout",
     "output_type": "stream",
     "text": [
      "\u001b[36m[2018-08-23 09:05:38] [DBG] [-1/] [c1] Result for 1: 79.6845 (0) (0.0149s+)\u001b[0m\r\n\u001b[36m[2018-08-23 09:05:38] [DBG] [-1/] [c2] Result for 2: 99.5609 (0) (0.0077s+)\u001b[0m\r\n"
     ]
    },
    {
     "name": "stdout",
     "output_type": "stream",
     "text": [
      "\u001b[36m[2018-08-23 09:05:39] [DBG] [-1/] [c3] Result for 3: 86.4936 (0) (0.0243s+)\u001b[0m\r\n\u001b[32m[2018-08-23 09:05:39] [INF] [-1/] [o1i67] iter: 67 cost: -362.743 time_iter: wall: 0.22767s cpu: 0.110961s time_optim: wall: 11.7491s cpu: 5.85806s\u001b[0m\r\n  67 -3.6274280e+02 0.00e+00 5.64e-02 -11.0 3.28e-02    -  1.00e+00 1.56e-02f  7\r\n\u001b[36m[2018-08-23 09:05:39] [DBG] [-1/] [c0] Result for 0: 97.0239 (0) (0.0007s-)\u001b[0m\r\n\u001b[36m[2018-08-23 09:05:39] [DBG] [-1/] [c1] Result for 1: 79.6738 (0) (0.0034s-)\u001b[0m\r\n\u001b[36m[2018-08-23 09:05:39] [DBG] [-1/] [c2] Result for 2: 99.5796 (0) (0.0007s-)\u001b[0m\r\n\u001b[36m[2018-08-23 09:05:39] [DBG] [-1/] [c3] Result for 3: 86.4617 (0) (0.0008s-)\u001b[0m\r\n\u001b[36m[2018-08-23 09:05:39] [DBG] [-1/] [c0] Result for 0: 97.0239 (0) (0.0012s-)\u001b[0m\r\n\u001b[36m[2018-08-23 09:05:39] [DBG] [-1/] [c1] Result for 1: 79.6738 (0) (0.0008s-)\u001b[0m\r\n\u001b[36m[2018-08-23 09:05:39] [DBG] [-1/] [c2] Result for 2: 99.5796 (0) (0.0010s-)\u001b[0m"
     ]
    },
    {
     "name": "stdout",
     "output_type": "stream",
     "text": [
      "\r\n\u001b[36m[2018-08-23 09:05:39] [DBG] [-1/] [c3] Result for 3: 86.4617 (0) (0.0049s-)\u001b[0m\r\n\u001b[36m[2018-08-23 09:05:39] [DBG] [-1/] [c0] Result for 0: 97.0141 (0) (0.0007s-)\u001b[0m\r\n\u001b[36m[2018-08-23 09:05:39] [DBG] [-1/] [c1] Result for 1: 79.6794 (0) (0.0007s-)\u001b[0m\r\n\u001b[36m[2018-08-23 09:05:39] [DBG] [-1/] [c2] Result for 2: 99.5705 (0) (0.0007s-)\u001b[0m\r\n\u001b[36m[2018-08-23 09:05:39] [DBG] [-1/] [c3] Result for 3: 86.4779 (0) (0.0008s-)\u001b[0m\r\n\u001b[36m[2018-08-23 09:05:39] [DBG] [-1/] [c0] Result for 0: 97.009 (0) (0.0010s-)\u001b[0m\r\n\u001b[36m[2018-08-23 09:05:39] [DBG] [-1/] [c1] Result for 1: 79.682 (0) (0.0007s-)\u001b[0m\r\n\u001b[36m[2018-08-23 09:05:39] [DBG] [-1/] [c2] Result for 2: 99.5657 (0) (0.0007s-)\u001b[0m\r\n\u001b[36m[2018-08-23 09:05:39] [DBG] [-1/] [c3] Result for 3: 86.4858 (0) (0.0007s-)\u001b[0m\r\n\u001b[36m[2018-08-23 09:05:39] [DBG] [-1/] [c0] Result for 0: 97.0064 (0) (0.0007s-)\u001b[0m\r\n\u001b[36m[2018-08-23 09:05:39] [DBG] [-1/] [c1] Result for 1: 79.6833 (0) (0.0007s-)\u001b[0m\r\n\u001b[36m[2018-08-23 09:05:39] [DBG] [-1/] [c2] Result for 2: 99.5633 (0) (0.0007s-)\u001b[0m\r\n\u001b[36m[2018-08-23 09:05:39] [DBG] [-1/] [c3] Result for 3: 86.4897 (0) (0.0008s-)\u001b[0m\r\n\u001b[36m[2018-08-23 09:05:39] [DBG] [-1/] [c0] Result for 0: 97.0051 (0) (0.0007s-)\u001b[0m\r\n\u001b[36m[2018-08-23 09:05:39] [DBG] [-1/] [c1] Result for 1: 79.6839 (0) (0.0009s-)\u001b[0m"
     ]
    },
    {
     "name": "stdout",
     "output_type": "stream",
     "text": [
      "\r\n\u001b[36m[2018-08-23 09:05:39] [DBG] [-1/] [c2] Result for 2: 99.5621 (0) (0.0007s-)\u001b[0m\r\n\u001b[36m[2018-08-23 09:05:39] [DBG] [-1/] [c3] Result for 3: 86.4917 (0) (0.0007s-)\u001b[0m\r\n\u001b[36m[2018-08-23 09:05:39] [DBG] [-1/] [c0] Result for 0: 97.0045 (0) (0.0007s-)\u001b[0m\r\n\u001b[36m[2018-08-23 09:05:39] [DBG] [-1/] [c1] Result for 1: 79.6842 (0) (0.0007s-)\u001b[0m\r\n\u001b[36m[2018-08-23 09:05:39] [DBG] [-1/] [c2] Result for 2: 99.5615 (0) (0.0008s-)\u001b[0m\r\n\u001b[36m[2018-08-23 09:05:39] [DBG] [-1/] [c3] Result for 3: 86.4926 (0) (0.0008s-)\u001b[0m\r\n\u001b[36m[2018-08-23 09:05:39] [DBG] [-1/] [c0] Result for 0: 97.0045 (0) (0.0169s+)\u001b[0m\r\n\u001b[36m[2018-08-23 09:05:39] [DBG] [-1/] [c1] Result for 1: 79.6842 (0) (0.0180s+)\u001b[0m\r\n"
     ]
    },
    {
     "name": "stdout",
     "output_type": "stream",
     "text": [
      "\u001b[36m[2018-08-23 09:05:39] [DBG] [-1/] [c2] Result for 2: 99.5615 (0) (0.0167s+)\u001b[0m\r\n"
     ]
    },
    {
     "name": "stdout",
     "output_type": "stream",
     "text": [
      "\u001b[36m[2018-08-23 09:05:39] [DBG] [-1/] [c3] Result for 3: 86.4926 (0) (0.0151s+)\u001b[0m\r\n\u001b[32m[2018-08-23 09:05:39] [INF] [-1/] [o1i68] iter: 68 cost: -362.743 time_iter: wall: 0.213807s cpu: 0.0950711s time_optim: wall: 11.9629s cpu: 5.95313s\u001b[0m\r\n  68 -3.6274280e+02 0.00e+00 6.26e-02 -11.0 2.38e-03    -  1.00e+00 3.12e-02f  6\r\n\u001b[36m[2018-08-23 09:05:39] [DBG] [-1/] [c0] Result for 0: 97.0035 (0) (0.0007s-)\u001b[0m\r\n\u001b[36m[2018-08-23 09:05:39] [DBG] [-1/] [c1] Result for 1: 79.6838 (0) (0.0007s-)\u001b[0m\r\n\u001b[36m[2018-08-23 09:05:39] [DBG] [-1/] [c2] Result for 2: 99.5638 (0) (0.0007s-)\u001b[0m\r\n\u001b[36m[2018-08-23 09:05:39] [DBG] [-1/] [c3] Result for 3: 86.4917 (0) (0.0009s-)\u001b[0m\r\n"
     ]
    },
    {
     "name": "stdout",
     "output_type": "stream",
     "text": [
      "\u001b[36m[2018-08-23 09:05:39] [DBG] [-1/] [c0] Result for 0: 97.0035 (0) (0.0007s-)\u001b[0m\r\n\u001b[36m[2018-08-23 09:05:39] [DBG] [-1/] [c1] Result for 1: 79.6838 (0) (0.0007s-)\u001b[0m\r\n\u001b[36m[2018-08-23 09:05:39] [DBG] [-1/] [c2] Result for 2: 99.5638 (0) (0.0007s-)\u001b[0m\r\n\u001b[36m[2018-08-23 09:05:39] [DBG] [-1/] [c3] Result for 3: 86.4917 (0) (0.0007s-)\u001b[0m\r\n\u001b[36m[2018-08-23 09:05:39] [DBG] [-1/] [c0] Result for 0: 97.004 (0) (0.0007s-)\u001b[0m\r\n\u001b[36m[2018-08-23 09:05:39] [DBG] [-1/] [c1] Result for 1: 79.684 (0) (0.0008s-)\u001b[0m\r\n\u001b[36m[2018-08-23 09:05:39] [DBG] [-1/] [c2] Result for 2: 99.5626 (0) (0.0007s-)\u001b[0m\r\n\u001b[36m[2018-08-23 09:05:39] [DBG] [-1/] [c3] Result for 3: 86.4922 (0) (0.0007s-)\u001b[0m\r\n\u001b[36m[2018-08-23 09:05:39] [DBG] [-1/] [c0] Result for 0: 97.0042 (0) (0.0007s-)\u001b[0m\r\n\u001b[36m[2018-08-23 09:05:39] [DBG] [-1/] [c1] Result for 1: 79.6841 (0) (0.0009s-)\u001b[0m\r\n\u001b[36m[2018-08-23 09:05:39] [DBG] [-1/] [c2] Result for 2: 99.562 (0) (0.0009s-)\u001b[0m\r\n\u001b[36m[2018-08-23 09:05:39] [DBG] [-1/] [c3] Result for 3: 86.4924 (0) (0.0008s-)\u001b[0m\r\n\u001b[36m[2018-08-23 09:05:39] [DBG] [-1/] [c0] Result for 0: 97.0042 (0) (0.0186s+)\u001b[0m\r\n"
     ]
    },
    {
     "name": "stdout",
     "output_type": "stream",
     "text": [
      "\u001b[36m[2018-08-23 09:05:39] [DBG] [-1/] [c1] Result for 1: 79.6841 (0) (0.0179s+)\u001b[0m\r\n\u001b[36m[2018-08-23 09:05:39] [DBG] [-1/] [c2] Result for 2: 99.562 (0) (0.0202s+)\u001b[0m\r\n"
     ]
    },
    {
     "name": "stdout",
     "output_type": "stream",
     "text": [
      "\u001b[36m[2018-08-23 09:05:39] [DBG] [-1/] [c3] Result for 3: 86.4924 (0) (0.0167s+)\u001b[0m\r\n\u001b[32m[2018-08-23 09:05:39] [INF] [-1/] [o1i69] iter: 69 cost: -362.743 time_iter: wall: 0.166643s cpu: 0.0854336s time_optim: wall: 12.1296s cpu: 6.03857s\u001b[0m\r\n  69 -3.6274280e+02 0.00e+00 7.09e-02 -11.0 3.92e-04    -  1.00e+00 2.50e-01f  3\r\n\u001b[36m[2018-08-23 09:05:39] [DBG] [-1/] [c0] Result for 0: 96.9842 (0) (0.0007s-)\u001b[0m\r\n\u001b[36m[2018-08-23 09:05:39] [DBG] [-1/] [c1] Result for 1: 79.7145 (0) (0.0009s-)\u001b[0m\r\n\u001b[36m[2018-08-23 09:05:39] [DBG] [-1/] [c2] Result for 2: 99.5597 (0) (0.0007s-)\u001b[0m\r\n\u001b[36m[2018-08-23 09:05:39] [DBG] [-1/] [c3] Result for 3: 86.4829 (0) (0.0007s-)\u001b[0m\r\n\u001b[36m[2018-08-23 09:05:39] [DBG] [-1/] [c0] Result for 0: 96.9842 (0) (0.0007s-)\u001b[0m\r\n"
     ]
    },
    {
     "name": "stdout",
     "output_type": "stream",
     "text": [
      "\u001b[36m[2018-08-23 09:05:39] [DBG] [-1/] [c1] Result for 1: 79.7145 (0) (0.0008s-)\u001b[0m\r\n\u001b[36m[2018-08-23 09:05:39] [DBG] [-1/] [c2] Result for 2: 99.5597 (0) (0.0008s-)\u001b[0m\r\n\u001b[36m[2018-08-23 09:05:39] [DBG] [-1/] [c3] Result for 3: 86.4829 (0) (0.0007s-)\u001b[0m\r\n\u001b[36m[2018-08-23 09:05:39] [DBG] [-1/] [c0] Result for 0: 96.9943 (0) (0.0007s-)\u001b[0m\r\n\u001b[36m[2018-08-23 09:05:39] [DBG] [-1/] [c1] Result for 1: 79.6994 (0) (0.0007s-)\u001b[0m\r\n\u001b[36m[2018-08-23 09:05:39] [DBG] [-1/] [c2] Result for 2: 99.561 (0) (0.0009s-)\u001b[0m\r\n\u001b[36m[2018-08-23 09:05:39] [DBG] [-1/] [c3] Result for 3: 86.4878 (0) (0.0008s-)\u001b[0m\r\n\u001b[36m[2018-08-23 09:05:39] [DBG] [-1/] [c0] Result for 0: 96.9993 (0) (0.0007s-)\u001b[0m\r\n\u001b[36m[2018-08-23 09:05:39] [DBG] [-1/] [c1] Result for 1: 79.6918 (0) (0.0020s-)\u001b[0m\r\n\u001b[36m[2018-08-23 09:05:39] [DBG] [-1/] [c2] Result for 2: 99.5615 (0) (0.0007s-)\u001b[0m\r\n\u001b[36m[2018-08-23 09:05:39] [DBG] [-1/] [c3] Result for 3: 86.4901 (0) (0.0010s-)\u001b[0m\r\n\u001b[36m[2018-08-23 09:05:39] [DBG] [-1/] [c0] Result for 0: 97.0018 (0) (0.0007s-)\u001b[0m\r\n\u001b[36m[2018-08-23 09:05:39] [DBG] [-1/] [c1] Result for 1: 79.688 (0) (0.0007s-)\u001b[0m\r\n\u001b[36m[2018-08-23 09:05:39] [DBG] [-1/] [c2] Result for 2: 99.5618 (0) (0.0007s-)\u001b[0m\r\n\u001b[36m[2018-08-23 09:05:39] [DBG] [-1/] [c3] Result for 3: 86.4913 (0) (0.0008s-)\u001b[0m\r\n\u001b[36m[2018-08-23 09:05:39] [DBG] [-1/] [c0] Result for 0: 97.003 (0) (0.0007s-)\u001b[0m\r\n\u001b[36m[2018-08-23 09:05:39] [DBG] [-1/] [c1] Result for 1: 79.686 (0) (0.0047s-)\u001b[0m\r\n\u001b[36m[2018-08-23 09:05:39] [DBG] [-1/] [c2] Result for 2: 99.5619 (0) (0.0007s-)\u001b[0m\r\n\u001b[36m[2018-08-23 09:05:39] [DBG] [-1/] [c3] Result for 3: 86.4918 (0) (0.0007s-)\u001b[0m\r\n"
     ]
    },
    {
     "name": "stdout",
     "output_type": "stream",
     "text": [
      "\u001b[36m[2018-08-23 09:05:39] [DBG] [-1/] [c0] Result for 0: 97.0036 (0) (0.0043s-)\u001b[0m\r\n\u001b[36m[2018-08-23 09:05:39] [DBG] [-1/] [c1] Result for 1: 79.6851 (0) (0.0027s-)\u001b[0m\r\n\u001b[36m[2018-08-23 09:05:39] [DBG] [-1/] [c2] Result for 2: 99.562 (0) (0.0007s-)\u001b[0m\r\n\u001b[36m[2018-08-23 09:05:39] [DBG] [-1/] [c3] Result for 3: 86.4921 (0) (0.0007s-)\u001b[0m\r\n\u001b[36m[2018-08-23 09:05:39] [DBG] [-1/] [c0] Result for 0: 97.0036 (0) (0.0186s+)\u001b[0m\r\n\u001b[36m[2018-08-23 09:05:39] [DBG] [-1/] [c1] Result for 1: 79.6851 (0) (0.0157s+)\u001b[0m"
     ]
    },
    {
     "name": "stdout",
     "output_type": "stream",
     "text": [
      "\r\n\u001b[36m[2018-08-23 09:05:39] [DBG] [-1/] [c2] Result for 2: 99.562 (0) (0.0190s+)\u001b[0m\r\n"
     ]
    },
    {
     "name": "stdout",
     "output_type": "stream",
     "text": [
      "\u001b[36m[2018-08-23 09:05:39] [DBG] [-1/] [c3] Result for 3: 86.4921 (0) (0.0179s+)\u001b[0m\r\n\u001b[32m[2018-08-23 09:05:39] [INF] [-1/] [o1i70] iter: 70 cost: -362.743 time_iter: wall: 0.199638s cpu: 0.10309s time_optim: wall: 12.3292s cpu: 6.14166s\u001b[0m\r\niter    objective    inf_pr   inf_du lg(mu)  ||d||  lg(rg) alpha_du alpha_pr  ls\r\n  70 -3.6274280e+02 0.00e+00 6.07e-02 -11.0 1.96e-03    -  1.00e+00 3.12e-02f  6\r\n\u001b[36m[2018-08-23 09:05:39] [DBG] [-1/] [c0] Result for 0: 97.0044 (0) (0.0010s-)\u001b[0m\r\n\u001b[36m[2018-08-23 09:05:39] [DBG] [-1/] [c1] Result for 1: 79.6861 (0) (0.0013s-)\u001b[0m\r\n\u001b[36m[2018-08-23 09:05:39] [DBG] [-1/] [c2] Result for 2: 99.5595 (0) (0.0008s-)\u001b[0m\r\n\u001b[36m[2018-08-23 09:05:39] [DBG] [-1/] [c3] Result for 3: 86.4928 (0) (0.0008s-)\u001b[0m\r\n\u001b[36m[2018-08-23 09:05:39] [DBG] [-1/] [c0] Result for 0: 97.004 (0) (0.0026s-)\u001b[0m\r\n\u001b[36m[2018-08-23 09:05:39] [DBG] [-1/] [c1] Result for 1: 79.6856 (0) (0.0008s-)\u001b[0m"
     ]
    },
    {
     "name": "stdout",
     "output_type": "stream",
     "text": [
      "\r\n\u001b[36m[2018-08-23 09:05:39] [DBG] [-1/] [c2] Result for 2: 99.5607 (0) (0.0008s-)\u001b[0m\r\n\u001b[36m[2018-08-23 09:05:39] [DBG] [-1/] [c3] Result for 3: 86.4925 (0) (0.0007s-)\u001b[0m\r\n\u001b[36m[2018-08-23 09:05:39] [DBG] [-1/] [c0] Result for 0: 97.004 (0) (0.0177s+)\u001b[0m\r\n\u001b[36m[2018-08-23 09:05:39] [DBG] [-1/] [c1] Result for 1: 79.6856 (0) (0.0188s+)\u001b[0m\r\n"
     ]
    },
    {
     "name": "stdout",
     "output_type": "stream",
     "text": [
      "\u001b[36m[2018-08-23 09:05:39] [DBG] [-1/] [c2] Result for 2: 99.5607 (0) (0.0152s+)\u001b[0m\r\n"
     ]
    },
    {
     "name": "stdout",
     "output_type": "stream",
     "text": [
      "\u001b[36m[2018-08-23 09:05:39] [DBG] [-1/] [c3] Result for 3: 86.4925 (0) (0.0144s+)\u001b[0m\r\n\u001b[32m[2018-08-23 09:05:39] [INF] [-1/] [o1i71] iter: 71 cost: -362.743 time_iter: wall: 0.160971s cpu: 0.0747939s time_optim: wall: 12.4902s cpu: 6.21645s\u001b[0m\r\n  71 -3.6274280e+02 0.00e+00 3.97e-02 -11.0 5.83e-05    -  1.00e+00 5.00e-01f  2\r\n\u001b[36m[2018-08-23 09:05:39] [DBG] [-1/] [c0] Result for 0: 97.0029 (0) (0.0012s-)\u001b[0m\r\n\u001b[36m[2018-08-23 09:05:39] [DBG] [-1/] [c1] Result for 1: 79.6859 (0) (0.0008s-)\u001b[0m\r\n\u001b[36m[2018-08-23 09:05:39] [DBG] [-1/] [c2] Result for 2: 99.5609 (0) (0.0010s-)\u001b[0m\r\n\u001b[36m[2018-08-23 09:05:39] [DBG] [-1/] [c3] Result for 3: 86.4932 (0) (0.0007s-)\u001b[0m\r\n\u001b[36m[2018-08-23 09:05:39] [DBG] [-1/] [c0] Result for 0: 97.0035 (0) (0.0007s-)\u001b[0m\r\n\u001b[36m[2018-08-23 09:05:39] [DBG] [-1/] [c1] Result for 1: 79.6857 (0) (0.0068s-)\u001b[0m\r\n"
     ]
    },
    {
     "name": "stdout",
     "output_type": "stream",
     "text": [
      "\u001b[36m[2018-08-23 09:05:39] [DBG] [-1/] [c2] Result for 2: 99.5608 (0) (0.0025s-)\u001b[0m\r\n\u001b[36m[2018-08-23 09:05:39] [DBG] [-1/] [c3] Result for 3: 86.4928 (0) (0.0008s-)\u001b[0m\r\n\u001b[36m[2018-08-23 09:05:39] [DBG] [-1/] [c0] Result for 0: 97.0037 (0) (0.0007s-)\u001b[0m\r\n\u001b[36m[2018-08-23 09:05:39] [DBG] [-1/] [c1] Result for 1: 79.6857 (0) (0.0007s-)\u001b[0m\r\n\u001b[36m[2018-08-23 09:05:39] [DBG] [-1/] [c2] Result for 2: 99.5608 (0) (0.0007s-)\u001b[0m\r\n\u001b[36m[2018-08-23 09:05:39] [DBG] [-1/] [c3] Result for 3: 86.4926 (0) (0.0011s-)\u001b[0m\r\n\u001b[36m[2018-08-23 09:05:39] [DBG] [-1/] [c0] Result for 0: 97.0037 (0) (0.0157s+)\u001b[0m\r\n"
     ]
    },
    {
     "name": "stdout",
     "output_type": "stream",
     "text": [
      "\u001b[36m[2018-08-23 09:05:39] [DBG] [-1/] [c1] Result for 1: 79.6857 (0) (0.0264s+)\u001b[0m\r\n\u001b[36m[2018-08-23 09:05:39] [DBG] [-1/] [c2] Result for 2: 99.5608 (0) (0.0223s+)\u001b[0m\r\n"
     ]
    },
    {
     "name": "stdout",
     "output_type": "stream",
     "text": [
      "\u001b[36m[2018-08-23 09:05:39] [DBG] [-1/] [c3] Result for 3: 86.4926 (0) (0.0123s+)\u001b[0m\r\n\u001b[32m[2018-08-23 09:05:39] [INF] [-1/] [o1i72] iter: 72 cost: -362.743 time_iter: wall: 0.175889s cpu: 0.0942916s time_optim: wall: 12.6661s cpu: 6.31074s\u001b[0m\r\n  72 -3.6274280e+02 0.00e+00 2.94e-02 -11.0 5.14e-05    -  1.00e+00 2.50e-01f  3\r\n\u001b[36m[2018-08-23 09:05:39] [DBG] [-1/] [c0] Result for 0: 97.004 (0) (0.0008s-)\u001b[0m\r\n\u001b[36m[2018-08-23 09:05:39] [DBG] [-1/] [c1] Result for 1: 79.6849 (0) (0.0011s-)\u001b[0m\r\n\u001b[36m[2018-08-23 09:05:39] [DBG] [-1/] [c2] Result for 2: 99.5606 (0) (0.0017s-)\u001b[0m"
     ]
    },
    {
     "name": "stdout",
     "output_type": "stream",
     "text": [
      "\r\n\u001b[36m[2018-08-23 09:05:39] [DBG] [-1/] [c3] Result for 3: 86.4934 (0) (0.0008s-)\u001b[0m\r\n\u001b[36m[2018-08-23 09:05:39] [DBG] [-1/] [c0] Result for 0: 97.004 (0) (0.0182s+)\u001b[0m\r\n\u001b[36m[2018-08-23 09:05:40] [DBG] [-1/] [c1] Result for 1: 79.6849 (0) (0.0173s+)\u001b[0m\r\n"
     ]
    },
    {
     "name": "stdout",
     "output_type": "stream",
     "text": [
      "\u001b[36m[2018-08-23 09:05:40] [DBG] [-1/] [c2] Result for 2: 99.5606 (0) (0.0247s+)\u001b[0m\r\n"
     ]
    },
    {
     "name": "stdout",
     "output_type": "stream",
     "text": [
      "\u001b[36m[2018-08-23 09:05:40] [DBG] [-1/] [c3] Result for 3: 86.4934 (0) (0.0167s+)\u001b[0m\r\n\u001b[32m[2018-08-23 09:05:40] [INF] [-1/] [o1i73] iter: 73 cost: -362.743 time_iter: wall: 0.142469s cpu: 0.0812585s time_optim: wall: 12.8085s cpu: 6.392s\u001b[0m\r\n  73 -3.6274280e+02 0.00e+00 3.38e-02 -11.0 3.73e-05    -  1.00e+00 1.00e+00f  1\r\n\u001b[36m[2018-08-23 09:05:40] [DBG] [-1/] [c0] Result for 0: 97.0043 (0) (0.0007s-)\u001b[0m\r\n\u001b[36m[2018-08-23 09:05:40] [DBG] [-1/] [c1] Result for 1: 79.6853 (0) (0.0007s-)\u001b[0m\r\n\u001b[36m[2018-08-23 09:05:40] [DBG] [-1/] [c2] Result for 2: 99.5614 (0) (0.0007s-)\u001b[0m\r\n\u001b[36m[2018-08-23 09:05:40] [DBG] [-1/] [c3] Result for 3: 86.4918 (0) (0.0007s-)\u001b[0m\r\n\u001b[36m[2018-08-23 09:05:40] [DBG] [-1/] [c0] Result for 0: 97.0041 (0) (0.0008s-)\u001b[0m\r\n\u001b[36m[2018-08-23 09:05:40] [DBG] [-1/] [c1] Result for 1: 79.6851 (0) (0.0007s-)\u001b[0m\r\n"
     ]
    },
    {
     "name": "stdout",
     "output_type": "stream",
     "text": [
      "\u001b[36m[2018-08-23 09:05:40] [DBG] [-1/] [c2] Result for 2: 99.561 (0) (0.0007s-)\u001b[0m\r\n\u001b[36m[2018-08-23 09:05:40] [DBG] [-1/] [c3] Result for 3: 86.4926 (0) (0.0008s-)\u001b[0m\r\n\u001b[36m[2018-08-23 09:05:40] [DBG] [-1/] [c0] Result for 0: 97.0041 (0) (0.0138s+)\u001b[0m\r\n\u001b[36m[2018-08-23 09:05:40] [DBG] [-1/] [c1] Result for 1: 79.6851 (0) (0.0147s+)\u001b[0m\r\n"
     ]
    },
    {
     "name": "stdout",
     "output_type": "stream",
     "text": [
      "\u001b[36m[2018-08-23 09:05:40] [DBG] [-1/] [c2] Result for 2: 99.561 (0) (0.0151s+)\u001b[0m\r\n\u001b[36m[2018-08-23 09:05:40] [DBG] [-1/] [c3] Result for 3: 86.4926 (0) (0.0195s+)\u001b[0m\r\n\u001b[32m[2018-08-23 09:05:40] [INF] [-1/] [o1i74] iter: 74 cost: -362.743 time_iter: wall: 0.1439s cpu: 0.0689643s time_optim: wall: 12.9524s cpu: 6.46097s\u001b[0m"
     ]
    },
    {
     "name": "stdout",
     "output_type": "stream",
     "text": [
      "\r\n  74 -3.6274280e+02 0.00e+00 1.23e-02 -11.0 1.32e-04    -  1.00e+00 5.00e-01f  2\r\n\u001b[36m[2018-08-23 09:05:40] [DBG] [-1/] [c0] Result for 0: 97.0018 (0) (0.0007s-)\u001b[0m\r\n\u001b[36m[2018-08-23 09:05:40] [DBG] [-1/] [c1] Result for 1: 79.687 (0) (0.0007s-)\u001b[0m\r\n\u001b[36m[2018-08-23 09:05:40] [DBG] [-1/] [c2] Result for 2: 99.562 (0) (0.0007s-)\u001b[0m\r\n\u001b[36m[2018-08-23 09:05:40] [DBG] [-1/] [c3] Result for 3: 86.492 (0) (0.0010s-)\u001b[0m\r\n\u001b[36m[2018-08-23 09:05:40] [DBG] [-1/] [c0] Result for 0: 97.0018 (0) (0.0008s-)\u001b[0m\r\n\u001b[36m[2018-08-23 09:05:40] [DBG] [-1/] [c1] Result for 1: 79.687 (0) (0.0009s-)\u001b[0m\r\n\u001b[36m[2018-08-23 09:05:40] [DBG] [-1/] [c2] Result for 2: 99.562 (0) (0.0009s-)\u001b[0m\r\n\u001b[36m[2018-08-23 09:05:40] [DBG] [-1/] [c3] Result for 3: 86.492 (0) (0.0009s-)\u001b[0m\r\n\u001b[36m[2018-08-23 09:05:40] [DBG] [-1/] [c0] Result for 0: 97.003 (0) (0.0007s-)\u001b[0m\r\n\u001b[36m[2018-08-23 09:05:40] [DBG] [-1/] [c1] Result for 1: 79.686 (0) (0.0010s-)\u001b[0m\r\n\u001b[36m[2018-08-23 09:05:40] [DBG] [-1/] [c2] Result for 2: 99.5615 (0) (0.0007s-)\u001b[0m\r\n"
     ]
    },
    {
     "name": "stdout",
     "output_type": "stream",
     "text": [
      "\u001b[36m[2018-08-23 09:05:40] [DBG] [-1/] [c3] Result for 3: 86.4923 (0) (0.0009s-)\u001b[0m\r\n\u001b[36m[2018-08-23 09:05:40] [DBG] [-1/] [c0] Result for 0: 97.0035 (0) (0.0007s-)\u001b[0m\r\n\u001b[36m[2018-08-23 09:05:40] [DBG] [-1/] [c1] Result for 1: 79.6856 (0) (0.0022s-)\u001b[0m\r\n\u001b[36m[2018-08-23 09:05:40] [DBG] [-1/] [c2] Result for 2: 99.5612 (0) (0.0008s-)\u001b[0m\r\n\u001b[36m[2018-08-23 09:05:40] [DBG] [-1/] [c3] Result for 3: 86.4925 (0) (0.0007s-)\u001b[0m\r\n\u001b[36m[2018-08-23 09:05:40] [DBG] [-1/] [c0] Result for 0: 97.0038 (0) (0.0007s-)\u001b[0m\r\n\u001b[36m[2018-08-23 09:05:40] [DBG] [-1/] [c1] Result for 1: 79.6853 (0) (0.0007s-)\u001b[0m\r\n\u001b[36m[2018-08-23 09:05:40] [DBG] [-1/] [c2] Result for 2: 99.5611 (0) (0.0008s-)\u001b[0m\r\n\u001b[36m[2018-08-23 09:05:40] [DBG] [-1/] [c3] Result for 3: 86.4925 (0) (0.0008s-)\u001b[0m\r\n\u001b[36m[2018-08-23 09:05:40] [DBG] [-1/] [c0] Result for 0: 97.004 (0) (0.0007s-)\u001b[0m\r\n\u001b[36m[2018-08-23 09:05:40] [DBG] [-1/] [c1] Result for 1: 79.6852 (0) (0.0009s-)\u001b[0m\r\n\u001b[36m[2018-08-23 09:05:40] [DBG] [-1/] [c2] Result for 2: 99.5611 (0) (0.0007s-)\u001b[0m\r\n\u001b[36m[2018-08-23 09:05:40] [DBG] [-1/] [c3] Result for 3: 86.4926 (0) (0.0010s-)\u001b[0m\r\n\u001b[36m[2018-08-23 09:05:40] [DBG] [-1/] [c0] Result for 0: 97.004 (0) (0.0193s+)\u001b[0m\r\n"
     ]
    },
    {
     "name": "stdout",
     "output_type": "stream",
     "text": [
      "\u001b[36m[2018-08-23 09:05:40] [DBG] [-1/] [c1] Result for 1: 79.6852 (0) (0.0166s+)\u001b[0m\r\n\u001b[36m[2018-08-23 09:05:40] [DBG] [-1/] [c2] Result for 2: 99.5611 (0) (0.0144s+)\u001b[0m\r\n"
     ]
    },
    {
     "name": "stdout",
     "output_type": "stream",
     "text": [
      "\u001b[36m[2018-08-23 09:05:40] [DBG] [-1/] [c3] Result for 3: 86.4926 (0) (0.0154s+)\u001b[0m\r\n\u001b[32m[2018-08-23 09:05:40] [INF] [-1/] [o1i75] iter: 75 cost: -362.743 time_iter: wall: 0.201286s cpu: 0.0860889s time_optim: wall: 13.1537s cpu: 6.54705s\u001b[0m\r\n  75 -3.6274280e+02 0.00e+00 9.46e-03 -11.0 5.44e-04    -  1.00e+00 6.25e-02f  5\r\n\u001b[36m[2018-08-23 09:05:40] [DBG] [-1/] [c0] Result for 0: 97.0042 (0) (0.0007s-)\u001b[0m\r\n\u001b[36m[2018-08-23 09:05:40] [DBG] [-1/] [c1] Result for 1: 79.6859 (0) (0.0007s-)\u001b[0m\r\n\u001b[36m[2018-08-23 09:05:40] [DBG] [-1/] [c2] Result for 2: 99.5597 (0) (0.0011s-)\u001b[0m\r\n\u001b[36m[2018-08-23 09:05:40] [DBG] [-1/] [c3] Result for 3: 86.4931 (0) (0.0011s-)\u001b[0m\r\n"
     ]
    },
    {
     "name": "stdout",
     "output_type": "stream",
     "text": [
      "\u001b[36m[2018-08-23 09:05:40] [DBG] [-1/] [c0] Result for 0: 97.0041 (0) (0.0007s-)\u001b[0m\r\n\u001b[36m[2018-08-23 09:05:40] [DBG] [-1/] [c1] Result for 1: 79.6855 (0) (0.0008s-)\u001b[0m\r\n\u001b[36m[2018-08-23 09:05:40] [DBG] [-1/] [c2] Result for 2: 99.5604 (0) (0.0069s-)\u001b[0m\r\n\u001b[36m[2018-08-23 09:05:40] [DBG] [-1/] [c3] Result for 3: 86.4928 (0) (0.0008s-)\u001b[0m\r\n\u001b[36m[2018-08-23 09:05:40] [DBG] [-1/] [c0] Result for 0: 97.004 (0) (0.0010s-)\u001b[0m\r\n\u001b[36m[2018-08-23 09:05:40] [DBG] [-1/] [c1] Result for 1: 79.6854 (0) (0.0007s-)\u001b[0m\r\n\u001b[36m[2018-08-23 09:05:40] [DBG] [-1/] [c2] Result for 2: 99.5607 (0) (0.0007s-)\u001b[0m\r\n\u001b[36m[2018-08-23 09:05:40] [DBG] [-1/] [c3] Result for 3: 86.4927 (0) (0.0007s-)\u001b[0m\r\n\u001b[36m[2018-08-23 09:05:40] [DBG] [-1/] [c0] Result for 0: 97.004 (0) (0.0007s-)\u001b[0m\r\n\u001b[36m[2018-08-23 09:05:40] [DBG] [-1/] [c1] Result for 1: 79.6853 (0) (0.0015s-)\u001b[0m\r\n\u001b[36m[2018-08-23 09:05:40] [DBG] [-1/] [c2] Result for 2: 99.5609 (0) (0.0007s-)\u001b[0m\r\n\u001b[36m[2018-08-23 09:05:40] [DBG] [-1/] [c3] Result for 3: 86.4926 (0) (0.0007s-)\u001b[0m\r\n\u001b[36m[2018-08-23 09:05:40] [DBG] [-1/] [c0] Result for 0: 97.004 (0) (0.0149s+)\u001b[0m"
     ]
    },
    {
     "name": "stdout",
     "output_type": "stream",
     "text": [
      "\r\n\u001b[36m[2018-08-23 09:05:40] [DBG] [-1/] [c1] Result for 1: 79.6853 (0) (0.0098s+)\u001b[0m\r\n"
     ]
    },
    {
     "name": "stdout",
     "output_type": "stream",
     "text": [
      "\u001b[36m[2018-08-23 09:05:40] [DBG] [-1/] [c2] Result for 2: 99.5609 (0) (0.0189s+)\u001b[0m\r\n\u001b[36m[2018-08-23 09:05:40] [DBG] [-1/] [c3] Result for 3: 86.4926 (0) (0.0150s+)\u001b[0m\r\n"
     ]
    },
    {
     "name": "stdout",
     "output_type": "stream",
     "text": [
      "\u001b[32m[2018-08-23 09:05:40] [INF] [-1/] [o1i76] iter: 76 cost: -362.743 time_iter: wall: 0.177825s cpu: 0.0781145s time_optim: wall: 13.3316s cpu: 6.62517s\u001b[0m\r\n  76 -3.6274280e+02 0.00e+00 1.32e-02 -11.0 4.95e-05    -  1.00e+00 1.25e-01f  4\r\n\u001b[36m[2018-08-23 09:05:40] [DBG] [-1/] [c0] Result for 0: 97.004 (0) (0.0008s-)\u001b[0m\r\n\u001b[36m[2018-08-23 09:05:40] [DBG] [-1/] [c1] Result for 1: 79.6852 (0) (0.0008s-)\u001b[0m\r\n\u001b[36m[2018-08-23 09:05:40] [DBG] [-1/] [c2] Result for 2: 99.5608 (0) (0.0007s-)\u001b[0m\r\n\u001b[36m[2018-08-23 09:05:40] [DBG] [-1/] [c3] Result for 3: 86.4928 (0) (0.0007s-)\u001b[0m\r\n\u001b[36m[2018-08-23 09:05:40] [DBG] [-1/] [c0] Result for 0: 97.004 (0) (0.0007s-)\u001b[0m\r\n\u001b[36m[2018-08-23 09:05:40] [DBG] [-1/] [c1] Result for 1: 79.6853 (0) (0.0007s-)\u001b[0m\r\n\u001b[36m[2018-08-23 09:05:40] [DBG] [-1/] [c2] Result for 2: 99.5608 (0) (0.0008s-)\u001b[0m\r\n\u001b[36m[2018-08-23 09:05:40] [DBG] [-1/] [c3] Result for 3: 86.4927 (0) (0.0007s-)\u001b[0m\r\n\u001b[36m[2018-08-23 09:05:40] [DBG] [-1/] [c0] Result for 0: 97.004 (0) (0.0160s+)\u001b[0m"
     ]
    },
    {
     "name": "stdout",
     "output_type": "stream",
     "text": [
      "\r\n\u001b[36m[2018-08-23 09:05:40] [DBG] [-1/] [c1] Result for 1: 79.6853 (0) (0.0105s+)\u001b[0m\r\n"
     ]
    },
    {
     "name": "stdout",
     "output_type": "stream",
     "text": [
      "\u001b[36m[2018-08-23 09:05:40] [DBG] [-1/] [c2] Result for 2: 99.5608 (0) (0.0163s+)\u001b[0m\r\n\u001b[36m[2018-08-23 09:05:40] [DBG] [-1/] [c3] Result for 3: 86.4927 (0) (0.0145s+)\u001b[0m\r\n"
     ]
    },
    {
     "name": "stdout",
     "output_type": "stream",
     "text": [
      "\u001b[32m[2018-08-23 09:05:40] [INF] [-1/] [o1i77] iter: 77 cost: -362.743 time_iter: wall: 0.157075s cpu: 0.0632571s time_optim: wall: 13.4886s cpu: 6.68843s\u001b[0m\r\n  77 -3.6274280e+02 0.00e+00 5.39e-03 -11.0 1.47e-05    -  1.00e+00 5.00e-01f  2\r\n\u001b[36m[2018-08-23 09:05:40] [DBG] [-1/] [c0] Result for 0: 97.0033 (0) (0.0020s-)\u001b[0m\r\n\u001b[36m[2018-08-23 09:05:40] [DBG] [-1/] [c1] Result for 1: 79.6855 (0) (0.0032s-)\u001b[0m\r\n\u001b[36m[2018-08-23 09:05:40] [DBG] [-1/] [c2] Result for 2: 99.5609 (0) (0.0007s-)\u001b[0m\r\n\u001b[36m[2018-08-23 09:05:40] [DBG] [-1/] [c3] Result for 3: 86.4932 (0) (0.0008s-)\u001b[0m\r\n\u001b[36m[2018-08-23 09:05:40] [DBG] [-1/] [c0] Result for 0: 97.0036 (0) (0.0007s-)\u001b[0m\r\n\u001b[36m[2018-08-23 09:05:40] [DBG] [-1/] [c1] Result for 1: 79.6854 (0) (0.0008s-)\u001b[0m\r\n\u001b[36m[2018-08-23 09:05:40] [DBG] [-1/] [c2] Result for 2: 99.5609 (0) (0.0007s-)\u001b[0m\r\n\u001b[36m[2018-08-23 09:05:40] [DBG] [-1/] [c3] Result for 3: 86.4929 (0) (0.0007s-)\u001b[0m\r\n\u001b[36m[2018-08-23 09:05:40] [DBG] [-1/] [c0] Result for 0: 97.0038 (0) (0.0007s-)\u001b[0m\r\n\u001b[36m[2018-08-23 09:05:40] [DBG] [-1/] [c1] Result for 1: 79.6853 (0) (0.0010s-)\u001b[0m\r\n\u001b[36m[2018-08-23 09:05:40] [DBG] [-1/] [c2] Result for 2: 99.5609 (0) (0.0018s-)\u001b[0m\r\n\u001b[36m[2018-08-23 09:05:40] [DBG] [-1/] [c3] Result for 3: 86.4928 (0) (0.0009s-)\u001b[0m\r\n\u001b[36m[2018-08-23 09:05:40] [DBG] [-1/] [c0] Result for 0: 97.0039 (0) (0.0007s-)\u001b[0m\r\n\u001b[36m[2018-08-23 09:05:40] [DBG] [-1/] [c1] Result for 1: 79.6853 (0) (0.0007s-)\u001b[0m"
     ]
    },
    {
     "name": "stdout",
     "output_type": "stream",
     "text": [
      "\r\n\u001b[36m[2018-08-23 09:05:40] [DBG] [-1/] [c2] Result for 2: 99.5609 (0) (0.0007s-)\u001b[0m\r\n\u001b[36m[2018-08-23 09:05:40] [DBG] [-1/] [c3] Result for 3: 86.4928 (0) (0.0008s-)\u001b[0m\r\n\u001b[36m[2018-08-23 09:05:40] [DBG] [-1/] [c0] Result for 0: 97.0039 (0) (0.0195s+)\u001b[0m\r\n"
     ]
    },
    {
     "name": "stdout",
     "output_type": "stream",
     "text": [
      "\u001b[36m[2018-08-23 09:05:40] [DBG] [-1/] [c1] Result for 1: 79.6853 (0) (0.0204s+)\u001b[0m\r\n\u001b[36m[2018-08-23 09:05:40] [DBG] [-1/] [c2] Result for 2: 99.5609 (0) (0.0143s+)\u001b[0m\r\n"
     ]
    },
    {
     "name": "stdout",
     "output_type": "stream",
     "text": [
      "\u001b[36m[2018-08-23 09:05:40] [DBG] [-1/] [c3] Result for 3: 86.4928 (0) (0.0199s+)\u001b[0m\r\n\u001b[32m[2018-08-23 09:05:40] [INF] [-1/] [o1i78] iter: 78 cost: -362.743 time_iter: wall: 0.180242s cpu: 0.0910831s time_optim: wall: 13.6689s cpu: 6.77951s\u001b[0m\r\n  78 -3.6274280e+02 0.00e+00 1.09e-02 -11.0 1.96e-04    -  1.00e+00 1.25e-01f  4\r\n\r\nNumber of Iterations....: 78\r\n\r\n                                   (scaled)                 (unscaled)\r\nObjective...............:  -3.6274280470645908e+02   -3.6274280470645908e+02\r\nDual infeasibility......:   1.0928640269967344e-02    1.0928640269967344e-02\r\nConstraint violation....:   0.0000000000000000e+00    0.0000000000000000e+00\r\nComplementarity.........:   1.0000438452050014e-11    1.0000438452050014e-11\r\nOverall NLP error.......:   1.0928640269967344e-02    1.0928640269967344e-02\r\n\r\n\r\nNumber of objective function evaluations             = 465\r\nNumber of objective gradient evaluations             = 79\r\nNumber of equality constraint evaluations            = 0\r\nNumber of inequality constraint evaluations          = 0\r\nNumber of equality constraint Jacobian evaluations   = 0\r\nNumber of inequality constraint Jacobian evaluations = 0\r\nNumber of Lagrangian Hessian evaluations             = 0\r\nTotal CPU secs in IPOPT (w/o function evaluations)   =      0.220\r\nTotal CPU secs in NLP function evaluations           =      5.851\r\n\r\nEXIT: Solved To Acceptable Level.\r\n\u001b[32m[2018-08-23 09:05:40] [INF] [-1/] [o1i79] Optimizer status 4, final llh: -3.627428e+02, time: wall: 13.669700 cpu: 6.779509.\u001b[0m\r\n\u001b[36m[2018-08-23 09:05:40] [DBG] [-1/] Thread ms #1 finished unsuccessfully.\u001b[0m\r\n\u001b[36m[2018-08-23 09:05:40] [DBG] [-1/] runParallelMultiStartOptimization finished\u001b[0m\r\n\u001b[32m[2018-08-23 09:05:40] [INF] [-1/] Walltime on master: 26.710387s, CPU time of all processes: 12.454768s\u001b[0m\r\n"
     ]
    }
   ],
   "source": [
    "!pwd\n",
    "!(cd ../../../build && exec make -j12)\n",
    "!../../../build/amici/examples/steadystate/example_steadystate_multi -o deleteme/ example_data.h5\n"
   ]
  },
  {
   "cell_type": "code",
   "execution_count": 18,
   "metadata": {},
   "outputs": [
    {
     "data": {
      "text/plain": [
       "array([[-362.217236  , -193.4252488 , 1041.78847796, 1825.88342335,\n        1255.51545525, 1236.41197056, 1202.716249  , 1100.65643536,\n         558.98391586,  471.7055758 , -139.95765459, -271.69947269,\n        -302.70533165, -347.09163129, -358.60095435, -361.32733986,\n        -362.15153097, -362.3520654 , -362.36048375, -362.37803884,\n        -362.39526073, -362.3971563 , -362.42711312, -362.48887257,\n        -362.50121896, -362.57179666, -362.60480799, -362.61648542,\n        -362.63895069, -362.66830986, -362.67465046, -362.68628429,\n        -362.71101284, -362.7131611 , -362.71449307, -362.71578245,\n        -362.71820203, -362.71933855, -362.72216985, -362.72488307,\n        -362.73207558, -362.73414483, -362.73484661, -362.73838622,\n        -362.73951711, -362.74008154, -362.74033199, -362.74035597,\n        -362.74072733, -362.74099573, -362.74113071, -362.74117478,\n        -362.74140351, -362.74161236, -362.74178185, -362.74197431,\n        -362.74210896, -362.74218595, -362.74224025, -362.74238413,\n        -362.74248711, -362.74250963, -362.74254836, -362.74257734,\n        -362.74263574, -362.74266684, -362.74279689, -362.74280245,\n        -362.74280257, -362.74280335, -362.74280344, -362.74280426,\n        -362.74280452, -362.74280456, -362.74280465, -362.74280467,\n        -362.74280468, -362.74280471, -362.74280471]])"
      ]
     },
     "execution_count": 18,
     "metadata": {},
     "output_type": "execute_result"
    }
   ],
   "source": [
    "filename = 'deleteme/_rank-0001.h5'\n",
    "with h5py.File(filename, 'r') as f:\n",
    "    trajectory = f['/multistarts/0/iterCostFunCost'][:]\n",
    "for start in range(trajectory.shape[0]):\n",
    "    plt.plot(trajectory[start])\n",
    "trajectory"
   ]
  },
  {
   "cell_type": "markdown",
   "metadata": {},
   "source": [
    "## Compare results"
   ]
  },
  {
   "cell_type": "code",
   "execution_count": 19,
   "metadata": {},
   "outputs": [],
   "source": [
    "def compareResults(filename, expectedNllh):\n",
    "    with h5py.File(filename, 'r') as f:\n",
    "        final_parameters = f['/multistarts/0/finalParameters'][:]\n",
    "        exit_status = f['/multistarts/0/exitStatus'][:]\n",
    "        final_cost = f['/multistarts/0/finalCost'][:]\n",
    "\n",
    "    for i, p in enumerate(pscale):\n",
    "        if p == 2:\n",
    "            final_parameters[i] = np.power(10, final_parameters[i])\n",
    "\n",
    "    print(\"#  __Exp___ __Act___ __Err___ _RelErr___\")\n",
    "    for i in range(len(true_parameters)):\n",
    "        error = final_parameters[i]-true_parameters[i]\n",
    "        rel_error = error / true_parameters[i]\n",
    "        print('%d: %6f %6f %6f %6f' % (i, true_parameters[i], \n",
    "                                       final_parameters[i], \n",
    "                                       error,rel_error))\n",
    "    print('Status: %d' % exit_status)\n",
    "    print('Cost: %f (expected: %f)' % (final_cost, expectedNllh))"
   ]
  },
  {
   "cell_type": "code",
   "execution_count": 20,
   "metadata": {},
   "outputs": [
    {
     "name": "stdout",
     "output_type": "stream",
     "text": [
      "#  __Exp___ __Act___ __Err___ _RelErr___\n",
      "0: 1.000000 1.064554 0.064554 0.064554\n",
      "1: 0.500000 0.729759 0.229759 0.459518\n",
      "2: 0.400000 0.451279 0.051279 0.128199\n",
      "3: 2.000000 2.000258 0.000258 0.000129\n",
      "4: 0.100000 0.199862 0.099862 0.998617\n",
      "5: 2.000000 1.912744 -0.087256 -0.043628\n",
      "6: 3.000000 3.005152 0.005152 0.001717\n",
      "7: 0.200000 0.197264 -0.002736 -0.013679\n",
      "8: 4.000000 3.998233 -0.001767 -0.000442\n",
      "Status: 4\n",
      "Cost: -364.035549 (expected: -359.687521)\n"
     ]
    },
    {
     "name": "stdout",
     "output_type": "stream",
     "text": [
      "#  __Exp___ __Act___ __Err___ _RelErr___\n0: 1.000000 0.908611 -0.091389 -0.091389\n1: 0.500000 0.443359 -0.056641 -0.113282\n2: 0.400000 0.377742 -0.022258 -0.055645\n3: 2.000000 1.975548 -0.024452 -0.012226\n4: 0.100000 0.081734 -0.018266 -0.182659\n5: 2.000000 2.002615 0.002615 0.001307\n6: 3.000000 3.010374 0.010374 0.003458\n7: 0.200000 0.207912 0.007912 0.039559\n8: 4.000000 4.000485 0.000485 0.000121\nStatus: 4\nCost: -362.742805 (expected: -0.000000)\n"
     ]
    }
   ],
   "source": [
    "compareResults('deleteme/_rank-0001.h5', -expectedLlh)"
   ]
  },
  {
   "cell_type": "code",
   "execution_count": 21,
   "metadata": {},
   "outputs": [
    {
     "name": "stdout",
     "output_type": "stream",
     "text": [
      "/home/dweindl/src/parPE/amici/examples/steadystate\r\n"
     ]
    },
    {
     "name": "stdout",
     "output_type": "stream",
     "text": [
      "/home/paul/Documents/parpe/parPE/amici/examples/steadystate\r\n"
     ]
    }
   ],
   "source": [
    "!pwd"
   ]
  },
  {
   "cell_type": "code",
   "execution_count": 22,
   "metadata": {},
   "outputs": [
    {
     "name": "stdout",
     "output_type": "stream",
     "text": [
      "rm: cannot remove 'sim.h5': No such file or directory\r\n"
     ]
    },
    {
     "name": "stdout",
     "output_type": "stream",
     "text": [
      "Running for start 0\r\nRunning for start 1\r\n"
     ]
    }
   ],
   "source": [
    "!rm sim.h5\n",
    "!../../../build/amici/examples/steadystate/example_steadystate_multi_simulator deleteme/_rank-0001.h5 / sim.h5 / --at-optimum"
   ]
  },
  {
   "cell_type": "code",
   "execution_count": 23,
   "metadata": {},
   "outputs": [
    {
     "name": "stdout",
     "output_type": "stream",
     "text": [
      "(4, 20, 6)\n",
      "(4, 20, 6)\n"
     ]
    },
    {
     "name": "stdout",
     "output_type": "stream",
     "text": [
      "(4, 20, 6)\n(4, 20, 6)\n"
     ]
    }
   ],
   "source": [
    "with h5py.File('sim.h5', 'r') as f:\n",
    "    ysim = f['/multistarts/0/ySim'][:]\n",
    "    ymes = f['/multistarts/0/yMes'][:]\n",
    "print(ysim.shape)\n",
    "print(ymes.shape)"
   ]
  },
  {
   "cell_type": "code",
   "execution_count": 24,
   "metadata": {},
   "outputs": [
    {
     "name": "stdout",
     "output_type": "stream",
     "text": [
      "[ 0.21222497 -0.03768793  0.0059771  -0.21634909  0.06662415  0.07117902\n",
      "  0.35256016 -0.05005438  0.02565056  0.1229272   0.19076048  0.12937107\n",
      "  0.13573045  0.47313094  0.34031846  0.48084385  0.50975427  0.4453424\n",
      "  0.67626608  0.55017465] [0.10001911 0.10003953 0.10008179 0.10016923 0.10035013 0.1007243\n",
      " 0.10149796 0.1030964  0.10639368 0.11317276 0.12701269 0.15484246\n",
      " 0.20893527 0.30597656 0.44859878 0.57566147 0.60371226 0.58489782\n",
      " 0.56395019 0.54296921]\n",
      "[ 0.01078388 -0.04013924  0.07650345  0.04320529  0.05184431  0.01899812\n",
      "  0.08131954  0.10710955  0.03679566 -0.04132656  0.14765435  0.13885827\n",
      "  0.21222352  0.25818363  0.51688934  0.52088993  0.80831505  0.63562407\n",
      "  0.65827427  0.57285387] [0.10001911 0.10003953 0.10008179 0.10016923 0.10035013 0.10072429\n",
      " 0.10149791 0.10309622 0.1063929  0.11316942 0.12699862 0.1547841\n",
      " 0.20870209 0.30512038 0.44600927 0.57036271 0.59700004 0.57732872\n",
      " 0.55494511 0.53322715]\n",
      "[ 0.04882468  0.19965676 -0.0190921   0.15880277  0.0665912   0.24819751\n",
      "  0.09199576  0.03091337  0.16087399  0.06422631 -0.01512788  0.14065185\n",
      "  0.26132222  0.08530569  0.3487739   0.61486377  0.47713091  0.44137826\n",
      "  0.75670962  0.46507255] [0.10001911 0.10003953 0.10008179 0.10016923 0.10035012 0.10072428\n",
      " 0.10149787 0.10309603 0.10639211 0.11316609 0.12698456 0.15472586\n",
      " 0.20846986 0.30427112 0.44346047 0.56521723 0.59062426 0.57031571\n",
      " 0.54681188 0.52467773]\n",
      "[0.01528977 0.26429934 0.09636098 0.25307492 0.0914062  0.26624507\n",
      " 0.28861208 0.17566668 0.04857708 0.06128631 0.21410312 0.07299516\n",
      " 0.22939355 0.34630467 0.38682263 0.54108395 0.53794323 0.60749617\n",
      " 0.46095718 0.57233805] [0.10001911 0.10003953 0.10008179 0.10016923 0.10035012 0.10072427\n",
      " 0.10149783 0.10309585 0.10639133 0.11316275 0.12697051 0.15466774\n",
      " 0.20823857 0.30342873 0.44095171 0.56021994 0.58456418 0.56380528\n",
      " 0.53943803 0.51712294]\n"
     ]
    },
    {
     "data": {
      "image/png": "[encoded data removed]",
      "text/plain": [
       "<matplotlib.figure.Figure at 0x7fab8eb9af98>"
      ]
     },
     "metadata": {},
     "output_type": "display_data"
    },
    {
     "name": "stdout",
     "output_type": "stream",
     "text": [
      "[0.24692785 0.45673752 0.41080699 0.44279896 0.54269522 0.5472063\n",
      " 0.45422085 0.50442097 0.3679899  0.36420263 0.39503536 0.37443086\n",
      " 0.44222864 0.50008826 0.53091069 0.54893563 0.69643748 0.81386897\n",
      " 0.53418117 0.56816564] [0.40001201 0.40002485 0.40005142 0.40010638 0.40022008 0.40045519\n",
      " 0.40094108 0.40194388 0.40400791 0.40823234 0.41677856 0.43365935\n",
      " 0.46541273 0.51957158 0.59613448 0.67244237 0.70385163 0.67332559\n",
      " 0.6118992  0.55105793]\n",
      "[0.46943513 0.59024881 0.30380227 0.37300195 0.32747276 0.38175043\n",
      " 0.41795182 0.50270297 0.37967032 0.52535214 0.34584468 0.28369024\n",
      " 0.58125965 0.41117981 0.62973431 0.70019681 0.66071359 0.57583087\n",
      " 0.43617843 0.54255725] [0.40001201 0.40002485 0.40005142 0.40010638 0.40022008 0.40045518\n",
      " 0.40094104 0.4019437  0.40400712 0.408229   0.41676453 0.43360126\n",
      " 0.46518047 0.51870412 0.59328126 0.66494041 0.68984586 0.65401746\n",
      " 0.58852157 0.52627263]\n",
      "[0.39792144 0.45838312 0.53344083 0.50597192 0.40993534 0.42287748\n",
      " 0.43758464 0.33336713 0.40844684 0.48685126 0.31448744 0.44049827\n",
      " 0.43740552 0.7915214  0.6331253  0.56012588 0.57527915 0.58659154\n",
      " 0.41368481 0.51683489] [0.40001201 0.40002485 0.40005142 0.40010638 0.40022007 0.40045517\n",
      " 0.40094099 0.40194351 0.40400634 0.40822567 0.41675051 0.43354328\n",
      " 0.46494914 0.51784381 0.59047485 0.65767075 0.67657336 0.63620861\n",
      " 0.5676286  0.5048498 ]\n",
      "[0.2657243  0.51186182 0.43470988 0.39084039 0.40618312 0.40439294\n",
      " 0.26133534 0.30371581 0.41777799 0.35889409 0.34122738 0.24768084\n",
      " 0.4678016  0.55343763 0.51947125 0.78185506 0.68652195 0.70990518\n",
      " 0.71482151 0.57103846] [0.40001201 0.40002485 0.40005142 0.40010638 0.40022007 0.40045516\n",
      " 0.40094095 0.40194333 0.40400555 0.40822235 0.41673651 0.43348542\n",
      " 0.46471875 0.51699056 0.58771435 0.65062486 0.66398622 0.61974627\n",
      " 0.5488699  0.48617729]\n"
     ]
    },
    {
     "data": {
      "image/png": "[encoded data removed]",
      "text/plain": [
       "<matplotlib.figure.Figure at 0x7fab9574ba90>"
      ]
     },
     "metadata": {},
     "output_type": "display_data"
    },
    {
     "name": "stdout",
     "output_type": "stream",
     "text": [
      "[ 0.69485574  0.72627388  0.77908642  0.63809311  0.68303241  0.75966319\n",
      "  0.70661843  0.80309469  0.69183801  0.62222988  0.78175945  0.60073625\n",
      "  0.47474187  0.43191077  0.26346558  0.15106956  0.2778331   0.0765422\n",
      "  0.27569146 -0.09704166] [0.69997929 0.69995715 0.69991134 0.69981657 0.69962051 0.69921503\n",
      " 0.69837688 0.6966462  0.69308044 0.68576731 0.6709101  0.6413158\n",
      " 0.58474465 0.48556579 0.34057653 0.1941878  0.11833602 0.09829815\n",
      " 0.08521122 0.07320934]\n",
      "[ 0.94745576  0.59793025  0.54670806  0.77436429  0.67603564  0.54399339\n",
      "  0.74790909  0.8216325   0.74576214  0.84144661  0.82683416  0.81624084\n",
      "  0.76619003  0.40103618  0.23596159 -0.01055022  0.32458153  0.03032914\n",
      " -0.08466848 -0.02097045] [0.69997859 0.6999557  0.69990835 0.69981037 0.69960769 0.69918851\n",
      " 0.69832208 0.6965331  0.69284764 0.68529081 0.66994606 0.63941144\n",
      " 0.58116257 0.47946128 0.33196315 0.18519582 0.11092021 0.09133552\n",
      " 0.07810679 0.06644797]\n",
      "[ 0.71086693  0.61069088  0.92707075  0.59962152  0.45835732  0.65439163\n",
      "  0.54789057  0.51248631  0.60044178  0.7498561   0.6054509   0.35451679\n",
      "  0.6095401   0.49683517  0.18691845  0.28518264  0.18113457  0.25299131\n",
      "  0.11077033 -0.00126965] [0.69997789 0.69995425 0.69990535 0.69980417 0.69959486 0.699162\n",
      " 0.69826728 0.69642001 0.69261491 0.68481464 0.66898341 0.63751274\n",
      " 0.57760247 0.47343386 0.32357172 0.17665782 0.10412145 0.08511731\n",
      " 0.07194756 0.0607562 ]\n",
      "[0.73569385 0.91618666 0.82452985 0.7099174  0.71347858 0.71259085\n",
      " 0.79804124 0.51957507 0.68402224 0.77373237 0.73261926 0.60438795\n",
      " 0.57340403 0.51502873 0.27398818 0.07159504 0.08718358 0.04428172\n",
      " 0.05217084 0.0918092 ] [0.69997719 0.69995281 0.69990235 0.69979797 0.69958204 0.69913548\n",
      " 0.69821249 0.69630694 0.69238226 0.6843388  0.66802214 0.63561968\n",
      " 0.57406421 0.46748258 0.31539647 0.1685502  0.09788207 0.07954486\n",
      " 0.0665727  0.0559113 ]\n"
     ]
    },
    {
     "data": {
      "image/png": "[encoded data removed]",
      "text/plain": [
       "<matplotlib.figure.Figure at 0x7fab8eb4e5c0>"
      ]
     },
     "metadata": {},
     "output_type": "display_data"
    },
    {
     "name": "stdout",
     "output_type": "stream",
     "text": [
      "[0.27802839 0.2442628  0.20047829 0.13720158 0.14077162 0.34866577\n",
      " 0.13598189 0.17920623 0.20485733 0.15558651 0.14919098 0.33880899\n",
      " 0.48632569 0.71046899 0.91776209 1.00787713 1.28405214 1.17449804\n",
      " 0.95193897 0.98350151] [0.19131092 0.19134999 0.19143083 0.19159808 0.19194409 0.19265978\n",
      " 0.19413959 0.197197   0.20350385 0.21647049 0.24294273 0.29617395\n",
      " 0.39963963 0.58525477 0.85805454 1.1010929  1.15474689 1.11875967\n",
      " 1.07869223 1.03856099]\n",
      "[ 0.19015107  0.21010075  0.18889452  0.0658286   0.27598123  0.15798509\n",
      "  0.12185337 -0.08295271  0.30818869  0.23721661  0.2349646   0.40760183\n",
      "  0.54890347  0.48942753  0.72387819  0.8638735   1.18849743  1.1740759\n",
      "  0.91333689  0.89780587] [0.19131092 0.19134999 0.19143083 0.19159808 0.19194408 0.19265976\n",
      " 0.19413951 0.19719665 0.20350235 0.21646411 0.24291582 0.29606233\n",
      " 0.39919363 0.58361711 0.85310147 1.09095774 1.14190812 1.10428193\n",
      " 1.06146781 1.01992692]\n",
      "[0.32410629 0.27501911 0.34301668 0.28912099 0.08903736 0.26893223\n",
      " 0.34179311 0.12961932 0.46173473 0.36434565 0.16115328 0.07727624\n",
      " 0.39550701 0.59511297 0.75242347 1.13791291 1.1559726  1.03600441\n",
      " 0.97257464 1.01722899] [0.19131092 0.19134999 0.19143083 0.19159808 0.19194408 0.19265974\n",
      " 0.19413942 0.1971963  0.20350085 0.21645773 0.24288893 0.29595094\n",
      " 0.39874944 0.5819927  0.84822627 1.08111576 1.12971289 1.09086783\n",
      " 1.04591104 1.00357408]\n",
      "[0.10177456 0.23063926 0.24653699 0.14039882 0.27428293 0.23524842\n",
      " 0.19362641 0.1137684  0.21216194 0.18619158 0.26560755 0.1468977\n",
      " 0.29481743 0.62262564 0.99351697 1.26634765 1.0791564  0.97938491\n",
      " 1.17826456 1.17806818] [0.19131092 0.19134999 0.19143083 0.19159808 0.19194407 0.19265972\n",
      " 0.19413934 0.19719595 0.20349935 0.21645136 0.24286206 0.29583976\n",
      " 0.39830702 0.58038143 0.84342765 1.07155721 1.1181215  1.07841505\n",
      " 1.03180675 0.9891237 ]\n"
     ]
    },
    {
     "data": {
      "image/png": "[encoded data removed]",
      "text/plain": [
       "<matplotlib.figure.Figure at 0x7fab8e9ecc88>"
      ]
     },
     "metadata": {},
     "output_type": "display_data"
    },
    {
     "name": "stdout",
     "output_type": "stream",
     "text": [
      "[3.3800185  3.40034792 3.40150952 3.37622779 3.38037098 3.37540823\n",
      " 3.3828729  3.48298825 3.3212023  3.39852775 3.27874848 3.46015362\n",
      " 3.29871746 3.51738048 3.54915459 3.71992379 3.85560714 3.57202695\n",
      " 3.79298007 3.56748708] [3.40516447 3.40517731 3.40520388 3.40525884 3.40537254 3.40560766\n",
      " 3.40609354 3.40709634 3.40916037 3.4133848  3.42193103 3.43881181\n",
      " 3.47056519 3.52472404 3.60128695 3.67759484 3.70900409 3.67847806\n",
      " 3.61705167 3.55621039]\n",
      "[4.38998397 4.41927764 4.30560142 4.42552052 4.42896173 4.48860866\n",
      " 4.52224161 4.48363079 4.3486529  4.57380791 4.4556163  4.31048213\n",
      " 4.54105408 4.55877601 4.61619857 4.69090045 4.7716002  4.71100213\n",
      " 4.50606696 4.49173669] [4.39824508 4.39825792 4.39828449 4.39833945 4.39845314 4.39868825\n",
      " 4.3991741  4.40017677 4.40224019 4.40646207 4.4149976  4.43183433\n",
      " 4.46341353 4.51693719 4.59151433 4.66317347 4.68807893 4.65225052\n",
      " 4.58675464 4.5245057 ]\n",
      "[3.22245133 3.51067689 3.51732536 3.30236883 3.45802124 3.46031147\n",
      " 3.58616031 3.43313594 3.53772997 3.60609024 3.29310266 3.2052318\n",
      " 3.48692562 3.38240672 3.67983185 3.66891273 3.75995913 3.70454799\n",
      " 3.50918151 3.51267751] [3.40516447 3.40517731 3.40520388 3.40525884 3.40537254 3.40560764\n",
      " 3.40609345 3.40709598 3.4091588  3.41337814 3.42190297 3.43869574\n",
      " 3.4701016  3.52299627 3.59562731 3.66282321 3.68172582 3.64136107\n",
      " 3.57278106 3.51000226]\n",
      "[4.46052234 4.34039393 4.41097763 4.45810516 4.36316506 4.40579163\n",
      " 4.43105148 4.29792357 4.37233952 4.54976096 4.30347711 4.35135886\n",
      " 4.49205045 4.26679946 4.56006141 4.52114041 4.66186516 4.69978339\n",
      " 4.51934487 4.39585113] [4.39824508 4.39825792 4.39828449 4.39833945 4.39845314 4.39868823\n",
      " 4.39917402 4.4001764  4.40223862 4.40645541 4.41496957 4.43171849\n",
      " 4.46295182 4.51522363 4.58594741 4.64885793 4.66221928 4.61797934\n",
      " 4.54710297 4.48441036]\n"
     ]
    },
    {
     "data": {
      "image/png": "[encoded data removed]",
      "text/plain": [
       "<matplotlib.figure.Figure at 0x7fab8eb20d30>"
      ]
     },
     "metadata": {},
     "output_type": "display_data"
    },
    {
     "name": "stdout",
     "output_type": "stream",
     "text": [
      "[ 0.13970171  0.50644592  0.3202079   0.14052583  0.15212017 -0.2493509\n",
      " -0.02008638  0.1293201   0.29912141  0.00284632  0.35813639  0.21970587\n",
      "  0.32614425  0.30188574  0.87908836  0.49288721  0.43664726  0.42697984\n",
      "  0.56226575  0.44919928] [0.10001911 0.10003953 0.10008179 0.10016923 0.10035013 0.1007243\n",
      " 0.10149796 0.1030964  0.10639368 0.11317276 0.12701269 0.15484246\n",
      " 0.20893527 0.30597656 0.44859878 0.57566147 0.60371226 0.58489782\n",
      " 0.56395019 0.54296921]\n",
      "[ 0.21170598  0.33664109  0.17421755 -0.008877    0.11108252  0.15715859\n",
      "  0.12399861  0.19435185  0.02304884 -0.41092615  0.41174002  0.23352228\n",
      "  0.2390642   0.386018    0.40709445  0.52679778  0.77816749  0.69641856\n",
      "  0.36549298  1.00674743] [0.10001911 0.10003953 0.10008179 0.10016923 0.10035013 0.10072429\n",
      " 0.10149791 0.10309622 0.1063929  0.11316942 0.12699862 0.1547841\n",
      " 0.20870209 0.30512038 0.44600927 0.57036271 0.59700004 0.57732872\n",
      " 0.55494511 0.53322715]\n",
      "[ 0.211185   -0.18851965  0.04752748  0.38306261  0.19080738  0.16562947\n",
      "  0.58395326 -0.04182513 -0.10987274  0.24551557  0.3281694   0.2202699\n",
      "  0.32079279  0.36186925  0.42751713  0.50609314  0.79360974  0.8916455\n",
      "  0.39174967  0.85013053] [0.10001911 0.10003953 0.10008179 0.10016923 0.10035012 0.10072428\n",
      " 0.10149787 0.10309603 0.10639211 0.11316609 0.12698456 0.15472586\n",
      " 0.20846986 0.30427112 0.44346047 0.56521723 0.59062426 0.57031571\n",
      " 0.54681188 0.52467773]\n",
      "[-0.31621789  0.21895868  0.19949938  0.27958401 -0.03419532  0.10389586\n",
      "  0.33806131 -0.11236589  0.14363289  0.13306968 -0.03815035  0.15519637\n",
      " -0.06696746  0.65716906  0.41746717  0.79474432  0.7494966   0.37752291\n",
      "  0.31728843  0.47573228] [0.10001911 0.10003953 0.10008179 0.10016923 0.10035012 0.10072427\n",
      " 0.10149783 0.10309585 0.10639133 0.11316275 0.12697051 0.15466774\n",
      " 0.20823857 0.30342873 0.44095171 0.56021994 0.58456418 0.56380528\n",
      " 0.53943803 0.51712294]\n"
     ]
    },
    {
     "data": {
      "image/png": "[encoded data removed]",
      "text/plain": [
       "<matplotlib.figure.Figure at 0x7fab929fa160>"
      ]
     },
     "metadata": {},
     "output_type": "display_data"
    },
    {
     "name": "stdout",
     "output_type": "stream",
     "text": [
      "[ 0.15916003  0.24572667  0.13673315  0.08511784  0.30448755  0.1873423\n  0.20808639  0.03428187 -0.00352889  0.05088907 -0.00308514  0.08619144\n  0.16566547  0.17372748  0.54619772  0.48540189  0.692316    0.56832874\n  0.65116308  0.53625814] [0.10001731 0.10003581 0.1000741  0.10015332 0.1003172  0.10065618\n 0.10135707 0.10280514 0.10579212 0.11193289 0.12446893 0.14967962\n 0.19874021 0.28729426 0.42067524 0.54910307 0.58479205 0.56211392\n 0.53378973 0.49676698]\n[ 0.01569991  0.05223609  0.12703311  0.25635269  0.07222441 -0.03215521\n  0.22822665  0.06133688  0.21676408 -0.07208313  0.06568774  0.42708264\n  0.19211152  0.41463521  0.36713655  0.53678856  0.53570787  0.529725\n  0.69157481  0.57167857] [0.10001731 0.10003581 0.1000741  0.10015332 0.1003172  0.10065617\n 0.10135702 0.10280495 0.10579134 0.1119296  0.12445502 0.1496219\n 0.19850895 0.28643773 0.4180173  0.54337853 0.57744861 0.55451922\n 0.52501446 0.48696673]\n[ 0.21630449  0.21041788  0.12879859  0.15839563  0.20429899  0.12476506\n  0.09347406  0.13238777  0.08052748  0.26197998 -0.01101065  0.03031048\n  0.28066342  0.31336387  0.42932393  0.70430246  0.49560719  0.59667346\n  0.63483966  0.55072121] [0.10001731 0.10003581 0.1000741  0.10015332 0.1003172  0.10065616\n 0.10135698 0.10280477 0.10579057 0.1119263  0.12444113 0.1495643\n 0.19827862 0.28558809 0.41540126 0.53781876 0.57046018 0.54744374\n 0.51699766 0.47823415]\n[-0.06651981 -0.04626824  0.00585338  0.00649198 -0.0531977   0.1320386\n  0.03152857  0.07371382  0.07312759  0.1949474   0.06841505  0.18636221\n  0.08772521  0.28997105  0.73385952  0.39992576  0.48960009  0.5260954\n  0.40897447  0.49266168] [0.10001731 0.10003581 0.1000741  0.10015332 0.10031719 0.10065615\n 0.10135694 0.10280459 0.10578979 0.11192301 0.12442725 0.14950681\n 0.19804924 0.28474533 0.41282637 0.5324182  0.56380514 0.54083896\n 0.50964878 0.4704096 ]\n"
     ]
    },
    {
     "name": "stdout",
     "output_type": "stream",
     "text": [
      "[0.30590642 0.49965401 0.50238943 0.44918854 0.43728716 0.27251288\n 0.41184502 0.50110778 0.32008826 0.30322644 0.24900593 0.33571027\n 0.59813284 0.59706209 0.62115041 0.70890531 0.72159643 0.61255767\n 0.7545004  0.56442351] [0.40001223 0.40002531 0.40005236 0.40010833 0.40022412 0.40046357\n 0.40095846 0.40198007 0.40408375 0.40839333 0.41712852 0.43445097\n 0.46730053 0.52423824 0.60709478 0.69365131 0.73486755 0.7049077\n 0.62810217 0.52884535]\n[0.3212127  0.23099052 0.36652016 0.43201178 0.7312585  0.43115497\n 0.22538538 0.39425023 0.19213055 0.33588268 0.5274961  0.53931789\n 0.53727566 0.6161248  0.54762985 0.69751756 0.69081911 0.63203555\n 0.7762776  0.47860425] [0.40001223 0.40002531 0.40005236 0.40010833 0.40022412 0.40046356\n 0.40095842 0.40197989 0.40408297 0.40839003 0.41711464 0.43439348\n 0.46707014 0.52337419 0.60423279 0.68604362 0.7205999  0.68595346\n 0.60606322 0.50554077]\n[0.46259014 0.53885938 0.46011908 0.33340699 0.35479401 0.34837128\n 0.36652841 0.52607043 0.40859914 0.34141773 0.36562689 0.4764996\n 0.51270425 0.59415342 0.71054179 0.66556116 0.75715822 0.74162894\n 0.52477404 0.30093373] [0.40001223 0.40002531 0.40005236 0.40010833 0.40022412 0.40046355\n 0.40095837 0.40197971 0.4040822  0.40838674 0.41710078 0.43433609\n 0.46684068 0.52251726 0.60141775 0.67867188 0.70707217 0.66839361\n 0.58615107 0.48511557]\n[0.38730182 0.55311468 0.39157764 0.37601449 0.44116302 0.55623687\n 0.48719443 0.3914927  0.24269225 0.34552397 0.36545623 0.40118989\n 0.51288243 0.54302977 0.375073   0.57862388 0.68798893 0.71370282\n 0.60939873 0.49140672] [0.40001223 0.40002531 0.40005236 0.40010833 0.40022411 0.40046354\n 0.40095833 0.40197952 0.40408142 0.40838345 0.41708693 0.43427881\n 0.46661213 0.52166737 0.59864874 0.67152741 0.69423611 0.65209037\n 0.5680865  0.46708911]\n"
     ]
    },
    {
     "name": "stdout",
     "output_type": "stream",
     "text": [
      "[ 0.72677626  0.62408195  0.63482079  0.62296573  0.66568478  0.69232537\n  0.70291275  0.73017854  0.79311289  0.73234464  0.64140407  0.70769762\n  0.63247444  0.26797573  0.29846662  0.18896596  0.07578989  0.20676793\n -0.14981219  0.06616002] [0.69997935 0.69995727 0.69991159 0.69981708 0.69962157 0.69921722\n 0.69838136 0.69665522 0.69309807 0.68579941 0.67095789 0.64133597\n 0.58446178 0.4837303  0.33288148 0.17232452 0.08230055 0.06102024\n 0.05100787 0.03964877]\n[0.75674704 0.61324412 0.6240055  0.7394278  0.62996087 0.7538084\n 0.8179365  0.72901968 0.7555966  0.78058184 0.65261254 0.70008186\n 0.60545314 0.64107609 0.3147367  0.0938295  0.39931685 0.02759383\n 0.04235241 0.11154846] [0.69997865 0.69995582 0.6999086  0.69981088 0.69960875 0.6991907\n 0.69832655 0.69654211 0.69286525 0.68532286 0.66999364 0.63943091\n 0.58087809 0.47763026 0.32435968 0.16393134 0.07665596 0.05668399\n 0.04686335 0.03594841]\n[ 0.54684505  0.76202841  0.63454694  0.52282946  0.74909427  0.82314922\n  0.67404452  0.60459635  0.64356213  0.73298687  0.5211506   0.592075\n  0.56232884  0.47162217  0.34068356  0.07800781 -0.04371149  0.09360781\n  0.06768714 -0.13542741] [0.69997795 0.69995438 0.6999056  0.69980468 0.69959593 0.69916419\n 0.69827175 0.69642902 0.69263251 0.68484664 0.66903078 0.6375315\n 0.5773164  0.47160734 0.31605838 0.15597016 0.07150706 0.05281113\n 0.04324322 0.03280923]\n[ 0.72654065  0.70501568  0.72496079  0.65458048  0.64633782  0.76241027\n  0.81110458  0.82419156  0.5833865   0.71834823  0.59153847  0.69368847\n  0.67805617  0.52326738  0.4804673   0.45811644  0.03440963 -0.02355876\n  0.15090412  0.08362216] [0.69997725 0.69995293 0.6999026  0.69979848 0.6995831  0.69913767\n 0.69821696 0.69631595 0.69239985 0.68437075 0.66806931 0.63563775\n 0.57377658 0.46566057 0.30797186 0.14841836 0.06680595 0.04933992\n 0.04006261 0.03012085]\n"
     ]
    },
    {
     "name": "stdout",
     "output_type": "stream",
     "text": [
      "[0.1907933  0.27209824 0.36951398 0.19435857 0.30535819 0.2125448\n 0.12866825 0.13808969 0.1310186  0.20997028 0.25936197 0.35389469\n 0.3946488  0.54022183 0.88766994 0.89368331 1.22642582 1.20625354\n 1.04191499 0.87967847] [0.20029614 0.2003332  0.20040988 0.20056852 0.20089671 0.20157555\n 0.20297916 0.20587909 0.21186086 0.22415847 0.24926332 0.29975062\n 0.39800009 0.57533974 0.84245046 1.09964193 1.17111323 1.12569767\n 1.06897521 0.99483292]\n[0.27025777 0.15696504 0.27267956 0.09491388 0.34569364 0.07575023\n 0.3410928  0.42575072 0.12007057 0.09069459 0.23550071 0.28054735\n 0.3471489  0.56462285 0.88973668 1.29142636 1.28231037 1.01887848\n 1.00955116 1.02859774] [0.20029614 0.2003332  0.20040988 0.20056852 0.20089671 0.20157553\n 0.20297908 0.20587872 0.21185931 0.22415187 0.24923547 0.29963503\n 0.39753696 0.57362444 0.83712763 1.08817789 1.15640714 1.11048841\n 1.05140173 0.97520678]\n[0.16023189 0.33302386 0.14000213 0.29214868 0.13408901 0.23601536\n 0.44759844 0.23268647 0.29378687 0.12731789 0.10031273 0.3805948\n 0.36091556 0.6372365  0.87834767 1.00710756 1.15893109 1.0802019\n 1.08282048 0.96984408] [0.20029614 0.2003332  0.20040988 0.20056851 0.2008967  0.20157551\n 0.20297899 0.20587836 0.21185776 0.22414527 0.24920765 0.29951967\n 0.39707571 0.57192295 0.83188871 1.07704382 1.14241201 1.09631893\n 1.03534718 0.95771879]\n[0.09601828 0.358062   0.07838587 0.14325227 0.232322   0.16937295\n 0.3573845  0.17091843 0.14375017 0.39448336 0.51419269 0.18302893\n 0.25290716 0.52270943 0.72356276 0.99573473 1.10406153 1.1007063\n 1.06137509 0.84114721] [0.20029614 0.2003332  0.20040988 0.20056851 0.2008967  0.20157549\n 0.20297891 0.20587799 0.21185621 0.22413867 0.24917985 0.29940456\n 0.39661634 0.57023521 0.82673219 1.06622858 1.12908452 1.0830921\n 1.02063019 0.94204923]\n"
     ]
    },
    {
     "name": "stdout",
     "output_type": "stream",
     "text": [
      "[3.45636505 3.36158784 3.28803153 3.28735994 3.62803645 3.36101359\n 3.59995358 3.29787714 3.57466182 3.26396289 3.34658484 3.36716998\n 3.36903788 3.41745726 3.76811338 3.80473749 3.6146522  3.75378181\n 3.61339223 3.51102235] [3.41038639 3.41039946 3.41042652 3.41048249 3.41059828 3.41083772\n 3.41133261 3.41235422 3.4144579  3.41876748 3.42750267 3.44482513\n 3.47767469 3.5346124  3.61746893 3.70402546 3.7452417  3.71528185\n 3.63847633 3.53921951]\n[4.4168258  4.3776654  4.58133642 4.43338947 4.50199516 4.34303138\n 4.36113614 4.37122702 4.36408939 4.53347271 4.44150925 4.15750504\n 4.42459644 4.36561356 4.62423081 4.52954237 4.75000243 4.66072994\n 4.49191862 4.61692196] [4.4004976  4.40051068 4.40053773 4.4005937  4.40070949 4.40094893\n 4.40144378 4.40246526 4.40456834 4.4088754  4.41760001 4.43487885\n 4.46755551 4.52385956 4.60471816 4.68652899 4.72108527 4.68643883\n 4.60654858 4.50602614]\n[3.62741405 3.46485784 3.35562352 3.40852883 3.40170222 3.41905511\n 3.37809158 3.28792095 3.38880487 3.43323333 3.53319557 3.49831402\n 3.50041554 3.66251357 3.50758345 3.95360067 3.68839524 3.65946294\n 3.5760942  3.32614224] [3.41038639 3.41039946 3.41042652 3.41048249 3.41059827 3.4108377\n 3.41133253 3.41235386 3.41445635 3.4187609  3.42747494 3.44471025\n 3.47721484 3.53289142 3.6117919  3.68904603 3.71744633 3.67876776\n 3.59652523 3.49548973]\n[4.27578277 4.49400781 4.33821826 4.4333289  4.41303809 4.51174591\n 4.17615605 4.45678888 4.31230871 4.57600256 4.44847203 4.392227\n 4.47139164 4.493539   4.69520802 4.74060852 4.65967257 4.6757611\n 4.82902398 4.45367067] [4.4004976  4.40051068 4.40053773 4.4005937  4.40070948 4.40094891\n 4.4014437  4.40246489 4.40456679 4.40886882 4.4175723  4.43476418\n 4.4670975  4.52215274 4.59913411 4.67201278 4.69472148 4.65257574\n 4.56857187 4.46757448]\n"
     ]
    },
    {
     "name": "stdout",
     "output_type": "stream",
     "text": [
      "[-0.05934166 -0.0988532   0.28480478  0.34572821  0.01784008  0.27936917\n -0.02845237  0.3339602  -0.33672364  0.23935972  0.00517389  0.29777997\n  0.32299148  0.14099866  0.44992062  0.51511182  0.20151359  0.33985172\n  0.67430935  0.52078272] [0.10001731 0.10003581 0.1000741  0.10015332 0.1003172  0.10065618\n 0.10135707 0.10280514 0.10579212 0.11193289 0.12446893 0.14967962\n 0.19874021 0.28729426 0.42067524 0.54910307 0.58479205 0.56211392\n 0.53378973 0.49676698]\n[-0.11870422 -0.08337182  0.22028344 -0.21066544  0.10850223  0.30406927\n  0.1077829  -0.42711758 -0.10048488 -0.05173862 -0.00664722 -0.12865003\n  0.37605088  0.28025466  0.29192848  0.73544086  0.5302705   0.31543237\n  0.77101693  0.77270274] [0.10001731 0.10003581 0.1000741  0.10015332 0.1003172  0.10065617\n 0.10135702 0.10280495 0.10579134 0.1119296  0.12445502 0.1496219\n 0.19850895 0.28643773 0.4180173  0.54337853 0.57744861 0.55451922\n 0.52501446 0.48696673]\n[-0.10064796 -0.16643379  0.23198312  0.16802696  0.34288318  0.04688643\n  0.02340191 -0.09126522  0.13440981  0.28544643  0.36966743  0.12458241\n  0.17529191  0.0849277   0.88836286  0.36193332  0.22878363  0.15133132\n  0.55608019  0.41039544] [0.10001731 0.10003581 0.1000741  0.10015332 0.1003172  0.10065616\n 0.10135698 0.10280477 0.10579057 0.1119263  0.12444113 0.1495643\n 0.19827862 0.28558809 0.41540126 0.53781876 0.57046018 0.54744374\n 0.51699766 0.47823415]\n[-0.22643651 -0.06947537  0.13682044  0.04157126  0.11355454  0.13449537\n  0.2721157   0.14936046  0.02302253 -0.16434044 -0.26175314  0.31843201\n  0.07704627  0.17254076  0.43362702  0.78469     0.65298019  0.31743902\n  0.14325998  0.15621009] [0.10001731 0.10003581 0.1000741  0.10015332 0.10031719 0.10065615\n 0.10135694 0.10280459 0.10578979 0.11192301 0.12442725 0.14950681\n 0.19804924 0.28474533 0.41282637 0.5324182  0.56380514 0.54083896\n 0.50964878 0.4704096 ]\n"
     ]
    }
   ],
   "source": [
    "def plotCorrelation(ymes, ysim):\n",
    "    for iy in range(ysim.shape[2]):\n",
    "        fig, ax = plt.subplots()\n",
    "        for icondition in range(ysim.shape[0]):\n",
    "            x = ymes[icondition, :, iy]\n",
    "            y = ysim[icondition, :, iy]\n",
    "            print(x, y)\n",
    "            ax.scatter(x, y, label='$y_%d$ condition %d' % (iy, icondition))\n",
    "        plt.xlabel('measurement (AU)')\n",
    "        plt.ylabel('simulation (AU)')\n",
    "        plt.gca().set_aspect('equal', adjustable='box')\n",
    "        plt.title('Observable %d' % iy)\n",
    "        plt.legend()\n",
    "        plt.show()\n",
    "        \n",
    "plotCorrelation(ymes, ysim)"
   ]
  },
  {
   "cell_type": "code",
   "execution_count": 25,
   "metadata": {},
   "outputs": [],
   "source": [
    "def plotTrajectoryFit(ymes, ysim, timepoints):\n",
    "    for icondition in range(ysim.shape[0]):\n",
    "        fig, ax = plt.subplots()\n",
    "        for iy in range(ysim.shape[2]):\n",
    "            ax.plot(timepoints, ysim[icondition, :, iy], label='$y_%d$ sim' % (iy), alpha=0.7, c='C%d'%iy)\n",
    "            ax.plot(timepoints, ymes[icondition, :, iy], label='$y_%d$ mes' % (iy), linestyle='dotted', c='C%d'%iy)\n",
    "        plt.xlabel('$t$ (s)')\n",
    "        plt.ylabel('$y_i(t)$ (AU)')\n",
    "        plt.title('Condition %d' %icondition)\n",
    "        plt.legend()\n",
    "        plt.show()\n",
    "\n",
    "plotTrajectoryFit(ymes, ysim, timepoints)"
   ]
  },
  {
   "cell_type": "markdown",
   "metadata": {},
   "source": [
    "## Hierarchical optimization"
   ]
  },
  {
   "cell_type": "code",
   "execution_count": 26,
   "metadata": {},
   "outputs": [
    {
     "name": "stdout",
     "output_type": "stream",
     "text": [
      "                               optimizer            0\r\n",
      "                hierarchicalOptimization            1\r\n",
      "                               numStarts            1\r\n",
      "                       retryOptimization            0\r\n",
      "                ceres/max_num_iterations          100\r\n",
      "                         fmincon/MaxIter          100\r\n",
      "                            fmincon/TolX        1e-08\r\n",
      "                          fmincon/TolFun            0\r\n",
      "                     fmincon/MaxFunEvals   10000000.0\r\n",
      "                       fmincon/algorithm b'interior-point'\r\n",
      "                         fmincon/GradObj        b'on'\r\n",
      "                         fmincon/display      b'iter'\r\n",
      "             ipopt/hessian_approximation b'limited-memory'\r\n",
      "        ipopt/limited_memory_update_type      b'bfgs'\r\n",
      "                               ipopt/tol        1e-09\r\n",
      "                   ipopt/acceptable_iter            1\r\n",
      "   ipopt/watchdog_shortened_iter_trigger            0\r\n",
      "                          ipopt/max_iter          100\r\n",
      "         ipopt/acceptable_obj_change_tol        1e-05\r\n",
      "                    ipopt/acceptable_tol        1e-05\r\n",
      "                          toms611/mxfcal  100000000.0\r\n"
     ]
    },
    {
     "name": "stdout",
     "output_type": "stream",
     "text": [
      "                               optimizer            0\r\n                hierarchicalOptimization            1\r\n                               numStarts            1\r\n                       retryOptimization            0\r\n                ceres/max_num_iterations          100\r\n                         fmincon/MaxIter          100\r\n                            fmincon/TolX        1e-08\r\n                          fmincon/TolFun            0\r\n                     fmincon/MaxFunEvals   10000000.0\r\n                       fmincon/algorithm b'interior-point'\r\n                         fmincon/GradObj        b'on'\r\n                         fmincon/display      b'iter'\r\n             ipopt/hessian_approximation b'limited-memory'\r\n        ipopt/limited_memory_update_type      b'bfgs'\r\n                               ipopt/tol        1e-09\r\n                   ipopt/acceptable_iter            1\r\n   ipopt/watchdog_shortened_iter_trigger            0\r\n                          ipopt/max_iter          100\r\n         ipopt/acceptable_obj_change_tol        1e-05\r\n                    ipopt/acceptable_tol        1e-05\r\n                          toms611/mxfcal  100000000.0\r\n"
     ]
    }
   ],
   "source": [
    "!../../../misc/optimizationOptions.py example_data.h5 -s hierarchicalOptimization 1\n",
    "!../../../misc/optimizationOptions.py example_data.h5 -s numStarts 1\n",
    "!../../../misc/optimizationOptions.py example_data.h5 -s ipopt/max_iter 100\n",
    "!../../../misc/optimizationOptions.py example_data.h5 -s ipopt/acceptable_obj_change_tol 1e-5\n",
    "!../../../misc/optimizationOptions.py example_data.h5 -s ipopt/acceptable_tol 1e-5\n",
    "!../../../misc/optimizationOptions.py example_data.h5 -s retryOptimization 0\n",
    "!../../../misc/optimizationOptions.py example_data.h5\n"
   ]
  },
  {
   "cell_type": "code",
   "execution_count": 27,
   "metadata": {},
   "outputs": [
    {
     "name": "stdout",
     "output_type": "stream",
     "text": [
      "HierachicalOptimizationWrapper parameters: 9 total, 5 numerical, 1 proportionality, 2 offset, 1 sigma\n",
      "\u001b[32m[2018-08-12 13:10:51] [INF] [-1/]     0 g:      950.039  fd_c:      950.037  Δ/fd_c: 2.511318e-06  f:      48982.7\u001b[0m\n",
      "\u001b[33m[2018-08-12 13:10:51] [WRN] [-1/]     1 g:      -7.3194  fd_c:     -7.32543  Δ/fd_c: -8.240526e-04  f:      48982.7\u001b[0m\n",
      "\u001b[33m[2018-08-12 13:10:51] [WRN] [-1/]     2 g:     -33.1087  fd_c:     -33.1122  Δ/fd_c: -1.044981e-04  f:      48982.7\u001b[0m\n",
      "\u001b[32m[2018-08-12 13:10:51] [INF] [-1/]     3 g:      3291.56  fd_c:      3291.56  Δ/fd_c: 7.041228e-07  f:      48982.7\u001b[0m\n",
      "\u001b[32m[2018-08-12 13:10:51] [INF] [-1/]     4 g:       220132  fd_c:       220132  Δ/fd_c: 1.285397e-08  f:      48982.7\u001b[0m\n",
      "\u001b[32m[2018-08-12 13:10:51] [INF] [-1/] Walltime on master: 0.274837s, CPU time of all processes: 0.464620s\u001b[0m\n"
     ]
    },
    {
     "name": "stdout",
     "output_type": "stream",
     "text": [
      "HierachicalOptimizationWrapper parameters: 9 total, 5 numerical, 1 proportionality, 2 offset, 1 sigma\r\n"
     ]
    },
    {
     "name": "stdout",
     "output_type": "stream",
     "text": [
      "\u001b[33m[2018-08-23 09:09:38] [WRN] [-1/]     0 g:      1182.96  fd_c:       1182.9  Δ/fd_c: 5.663004e-05  f:      1873.05\u001b[0m\r\n"
     ]
    },
    {
     "name": "stdout",
     "output_type": "stream",
     "text": [
      "\u001b[33m[2018-08-23 09:09:38] [WRN] [-1/]     1 g:     -1718.89  fd_c:     -1718.92  Δ/fd_c: -1.713036e-05  f:      1873.05\u001b[0m\r\n\u001b[33m[2018-08-23 09:09:38] [WRN] [-1/]     2 g:     -13.5639  fd_c:     -13.5711  Δ/fd_c: -5.325210e-04  f:      1873.05\u001b[0m\r\n"
     ]
    },
    {
     "name": "stdout",
     "output_type": "stream",
     "text": [
      "\u001b[33m[2018-08-23 09:09:38] [WRN] [-1/]     3 g:       2302.2  fd_c:       2302.3  Δ/fd_c: -4.609920e-05  f:      1873.05\u001b[0m\r\n\u001b[33m[2018-08-23 09:09:38] [WRN] [-1/]     4 g:     -250.125  fd_c:      -250.09  Δ/fd_c: 1.409542e-04  f:      1873.05\u001b[0m\r\n\u001b[32m[2018-08-23 09:09:38] [INF] [-1/] Walltime on master: 0.557696s, CPU time of all processes: 0.268978s\u001b[0m\r\n"
     ]
    }
   ],
   "source": [
    "# gradient check \n",
    "!PARPE_NO_DEBUG=1 ../../../build/amici/examples/steadystate/example_steadystate_multi -t gradient_check -o deletemegc/ example_data.h5\n"
   ]
  },
  {
   "cell_type": "code",
   "execution_count": 28,
   "metadata": {},
   "outputs": [
    {
     "name": "stdout",
     "output_type": "stream",
     "text": [
      "\u001b[32m[2018-08-23 09:09:47] [INF] [0/paul-ubuntu] Running with 4 MPI processes.\u001b[0m\r\nHierachicalOptimizationWrapper parameters: 9 total, 5 numerical, 1 proportionality, 2 offset, 1 sigma\r\nHierachicalOptimizationWrapper parameters: 9 total, 5 numerical, 1 proportionality, 2 offset, 1 sigma\r\nHierachicalOptimizationWrapper parameters: 9 total, 5 numerical, 1 proportionality, 2 offset, 1 sigma\r\n"
     ]
    },
    {
     "name": "stdout",
     "output_type": "stream",
     "text": [
      "HierachicalOptimizationWrapper parameters: 9 total, 5 numerical, 1 proportionality, 2 offset, 1 sigma\r\n\u001b[32m[2018-08-23 09:09:47] [INF] [0/paul-ubuntu] Reading random initial theta 0 from /optimizationOptions/randomStarts\u001b[0m\r\nHierachicalOptimizationWrapper parameters: 9 total, 5 numerical, 1 proportionality, 2 offset, 1 sigma\r\n\r\nList of user-set options:\r\n\r\n                                    Name   Value                used\r\n                         acceptable_iter = 1                     yes\r\n               acceptable_obj_change_tol = 1e-05                 yes\r\n                          acceptable_tol = 1e-05                 yes\r\n                   hessian_approximation = limited-memory        yes\r\n              limited_memory_update_type = bfgs                  yes\r\n                                max_iter = 100                   yes\r\n                             print_level = 5                     yes\r\n                      print_user_options = yes                   yes\r\n                                     tol = 1e-09                 yes\r\n         watchdog_shortened_iter_trigger = 0                     yes\r\n\r\n******************************************************************************\r\nThis program contains Ipopt, a library for large-scale nonlinear optimization.\r\n Ipopt is released as open source code under the Eclipse Public License (EPL).\r\n         For more information visit http://projects.coin-or.org/Ipopt\r\n******************************************************************************\r\n\r\nThis is Ipopt version 3.12.9, running with linear solver ma27.\r\n\r\nNumber of nonzeros in equality constraint Jacobian...:        0\r\nNumber of nonzeros in inequality constraint Jacobian.:        0\r\nNumber of nonzeros in Lagrangian Hessian.............:        0\r\n\r\n"
     ]
    },
    {
     "name": "stdout",
     "output_type": "stream",
     "text": [
      "Total number of variables............................:        5\r\n                     variables with only lower bounds:        0\r\n                variables with lower and upper bounds:        5\r\n                     variables with only upper bounds:        0\r\nTotal number of equality constraints.................:        0\r\nTotal number of inequality constraints...............:        0\r\n        inequality constraints with only lower bounds:        0\r\n   inequality constraints with lower and upper bounds:        0\r\n        inequality constraints with only upper bounds:        0\r\n\r\n\u001b[32m[2018-08-23 09:09:47] [INF] [0/paul-ubuntu] [o0i0] iter: 0 cost: -362.545 time_iter: wall: 0.294113s cpu: 0.543743s time_optim: wall: 0.294113s cpu: 0.543743s\u001b[0m\r\niter    objective    inf_pr   inf_du lg(mu)  ||d||  lg(rg) alpha_du alpha_pr  ls\r\n   0 -3.6254511e+02 0.00e+00 1.31e+01   0.0 0.00e+00    -  0.00e+00 0.00e+00   0\r\n"
     ]
    },
    {
     "name": "stdout",
     "output_type": "stream",
     "text": [
      "\u001b[32m[2018-08-23 09:09:48] [INF] [0/paul-ubuntu] [o0i1] iter: 1 cost: -362.599 time_iter: wall: 0.829933s cpu: 1.08278s time_optim: wall: 1.12405s cpu: 1.62652s\u001b[0m\r\n   1 -3.6259942e+02 0.00e+00 9.06e+00   0.9 9.20e+00    -  5.97e-01 1.05e-03f 10\r\n"
     ]
    },
    {
     "name": "stdout",
     "output_type": "stream",
     "text": [
      "\u001b[32m[2018-08-23 09:09:49] [INF] [0/paul-ubuntu] [o0i2] iter: 2 cost: -362.633 time_iter: wall: 0.330466s cpu: 0.51997s time_optim: wall: 1.45451s cpu: 2.14649s\u001b[0m\r\n   2 -3.6263281e+02 0.00e+00 2.36e+00  -1.3 2.38e-03    -  9.94e-01 1.00e+00f  1\r\n"
     ]
    },
    {
     "name": "stdout",
     "output_type": "stream",
     "text": [
      "\u001b[32m[2018-08-23 09:09:49] [INF] [0/paul-ubuntu] [o0i3] iter: 3 cost: -362.638 time_iter: wall: 0.344881s cpu: 0.624804s time_optim: wall: 1.7994s cpu: 2.77129s\u001b[0m\r\n   3 -3.6263762e+02 0.00e+00 1.55e+00  -3.0 1.42e-03    -  9.99e-01 1.00e+00f  1\r\n"
     ]
    },
    {
     "name": "stdout",
     "output_type": "stream",
     "text": [
      "\u001b[32m[2018-08-23 09:09:49] [INF] [0/paul-ubuntu] [o0i4] iter: 4 cost: -362.652 time_iter: wall: 0.312911s cpu: 0.569814s time_optim: wall: 2.11231s cpu: 3.34111s\u001b[0m\r\n   4 -3.6265227e+02 0.00e+00 2.86e+00  -4.8 5.11e-03    -  1.00e+00 1.00e+00f  1\r\n"
     ]
    },
    {
     "name": "stdout",
     "output_type": "stream",
     "text": [
      "\u001b[32m[2018-08-23 09:09:50] [INF] [0/paul-ubuntu] [o0i5] iter: 5 cost: -362.664 time_iter: wall: 0.377376s cpu: 0.627294s time_optim: wall: 2.48968s cpu: 3.9684s\u001b[0m\r\n   5 -3.6266449e+02 0.00e+00 4.66e+00  -6.5 1.82e-02    -  1.00e+00 5.00e-01f  2\r\n"
     ]
    },
    {
     "name": "stdout",
     "output_type": "stream",
     "text": [
      "\u001b[32m[2018-08-23 09:09:50] [INF] [0/paul-ubuntu] [o0i6] iter: 6 cost: -362.702 time_iter: wall: 0.311612s cpu: 0.581423s time_optim: wall: 2.8013s cpu: 4.54982s\u001b[0m\r\n   6 -3.6270208e+02 0.00e+00 6.11e+00  -8.2 3.04e-02    -  1.00e+00 1.00e+00f  1\r\n"
     ]
    },
    {
     "name": "stdout",
     "output_type": "stream",
     "text": [
      "\u001b[32m[2018-08-23 09:09:50] [INF] [0/paul-ubuntu] [o0i7] iter: 7 cost: -362.719 time_iter: wall: 0.487594s cpu: 0.847983s time_optim: wall: 3.28889s cpu: 5.39781s\u001b[0m\r\n   7 -3.6271904e+02 0.00e+00 5.52e+00  -9.8 3.72e-02    -  1.00e+00 5.00e-01f  2\r\n"
     ]
    },
    {
     "name": "stdout",
     "output_type": "stream",
     "text": [
      "\u001b[32m[2018-08-23 09:09:51] [INF] [0/paul-ubuntu] [o0i8] iter: 8 cost: -362.736 time_iter: wall: 0.325881s cpu: 0.585619s time_optim: wall: 3.61477s cpu: 5.98343s\u001b[0m\r\n   8 -3.6273566e+02 0.00e+00 4.32e-01 -11.0 4.83e-03    -  1.00e+00 1.00e+00f  1\r\n"
     ]
    },
    {
     "name": "stdout",
     "output_type": "stream",
     "text": [
      "\u001b[32m[2018-08-23 09:09:51] [INF] [0/paul-ubuntu] [o0i9] iter: 9 cost: -362.736 time_iter: wall: 0.375287s cpu: 0.717145s time_optim: wall: 3.99006s cpu: 6.70057s\u001b[0m\r\n   9 -3.6273646e+02 0.00e+00 2.29e-01 -11.0 2.65e-03    -  1.00e+00 1.00e+00f  1\r\n"
     ]
    },
    {
     "name": "stdout",
     "output_type": "stream",
     "text": [
      "\u001b[32m[2018-08-23 09:09:51] [INF] [0/paul-ubuntu] [o0i10] iter: 10 cost: -362.738 time_iter: wall: 0.310977s cpu: 0.546925s time_optim: wall: 4.30104s cpu: 7.2475s\u001b[0m\r\niter    objective    inf_pr   inf_du lg(mu)  ||d||  lg(rg) alpha_du alpha_pr  ls\r\n  10 -3.6273842e+02 0.00e+00 3.91e-01 -11.0 5.11e-03    -  1.00e+00 1.00e+00f  1\r\n"
     ]
    },
    {
     "name": "stdout",
     "output_type": "stream",
     "text": [
      "\u001b[32m[2018-08-23 09:09:52] [INF] [0/paul-ubuntu] [o0i11] iter: 11 cost: -362.741 time_iter: wall: 0.321722s cpu: 0.6256s time_optim: wall: 4.62276s cpu: 7.8731s\u001b[0m\r\n  11 -3.6274085e+02 0.00e+00 2.01e+00 -11.0 1.71e-02    -  1.00e+00 1.00e+00f  1\r\n"
     ]
    },
    {
     "name": "stdout",
     "output_type": "stream",
     "text": [
      "\u001b[32m[2018-08-23 09:09:52] [INF] [0/paul-ubuntu] [o0i12] iter: 12 cost: -362.742 time_iter: wall: 0.474695s cpu: 0.741042s time_optim: wall: 5.09745s cpu: 8.61414s\u001b[0m\r\n  12 -3.6274202e+02 0.00e+00 3.05e-01 -11.0 8.73e-02    -  1.00e+00 1.25e-01f  4"
     ]
    },
    {
     "name": "stdout",
     "output_type": "stream",
     "text": [
      "\r\n"
     ]
    },
    {
     "name": "stdout",
     "output_type": "stream",
     "text": [
      "\u001b[32m[2018-08-23 09:09:53] [INF] [0/paul-ubuntu] [o0i13] iter: 13 cost: -362.742 time_iter: wall: 0.507483s cpu: 0.696493s time_optim: wall: 5.60494s cpu: 9.31063s\u001b[0m\r\n  13 -3.6274215e+02 0.00e+00 4.24e-01 -11.0 2.83e-02    -  1.00e+00 1.25e-01f  4\r\n"
     ]
    },
    {
     "name": "stdout",
     "output_type": "stream",
     "text": [
      "\u001b[32m[2018-08-23 09:09:53] [INF] [0/paul-ubuntu] [o0i14] iter: 14 cost: -362.742 time_iter: wall: 0.543888s cpu: 0.802895s time_optim: wall: 6.14883s cpu: 10.1135s\u001b[0m\r\n  14 -3.6274220e+02 0.00e+00 1.46e-01 -11.0 3.06e-02    -  1.00e+00 6.25e-02f  5\r\n"
     ]
    },
    {
     "name": "stdout",
     "output_type": "stream",
     "text": [
      "\u001b[32m[2018-08-23 09:09:54] [INF] [0/paul-ubuntu] [o0i15] iter: 15 cost: -362.743 time_iter: wall: 0.276609s cpu: 0.514819s time_optim: wall: 6.42544s cpu: 10.6283s\u001b[0m\r\n  15 -3.6274280e+02 0.00e+00 3.89e-02 -11.0 1.07e-02    -  1.00e+00 1.00e+00f  1\r\n"
     ]
    },
    {
     "name": "stdout",
     "output_type": "stream",
     "text": [
      "\u001b[32m[2018-08-23 09:09:54] [INF] [0/paul-ubuntu] [o0i16] iter: 16 cost: -362.743 time_iter: wall: 0.553918s cpu: 0.825802s time_optim: wall: 6.97935s cpu: 11.4541s\u001b[0m\r\n  16 -3.6274280e+02 0.00e+00 1.51e-02 -11.0 2.98e-03    -  1.00e+00 3.12e-02f  6\r\n"
     ]
    },
    {
     "name": "stdout",
     "output_type": "stream",
     "text": [
      "\u001b[32m[2018-08-23 09:09:54] [INF] [0/paul-ubuntu] [o0i17] iter: 17 cost: -362.743 time_iter: wall: 0.300186s cpu: 0.507206s time_optim: wall: 7.27954s cpu: 11.9614s\u001b[0m\r\n  17 -3.6274280e+02 0.00e+00 1.44e-03 -11.0 8.63e-04    -  1.00e+00 1.00e+00f  1\r\n"
     ]
    },
    {
     "name": "stdout",
     "output_type": "stream",
     "text": [
      "\u001b[32m[2018-08-23 09:09:55] [INF] [0/paul-ubuntu] [o0i18] iter: 18 cost: -362.743 time_iter: wall: 0.353935s cpu: 0.546012s time_optim: wall: 7.63348s cpu: 12.5074s\u001b[0m\r\n  18 -3.6274280e+02 0.00e+00 1.61e-03 -11.0 2.36e-05    -  1.00e+00 5.00e-01f  2\r\n"
     ]
    },
    {
     "name": "stdout",
     "output_type": "stream",
     "text": [
      "\u001b[32m[2018-08-23 09:09:55] [INF] [0/paul-ubuntu] [o0i19] iter: 19 cost: -362.743 time_iter: wall: 0.474129s cpu: 0.701851s time_optim: wall: 8.10761s cpu: 13.2092s\u001b[0m\r\n  19 -3.6274280e+02 0.00e+00 3.60e-04 -11.0 8.13e-05    -  1.00e+00 1.25e-01f  4"
     ]
    },
    {
     "name": "stdout",
     "output_type": "stream",
     "text": [
      "\r\n"
     ]
    },
    {
     "name": "stdout",
     "output_type": "stream",
     "text": [
      "\u001b[32m[2018-08-23 09:09:56] [INF] [0/paul-ubuntu] [o0i20] iter: 20 cost: -362.743 time_iter: wall: 0.452985s cpu: 0.676975s time_optim: wall: 8.56059s cpu: 13.8862s\u001b[0m\r\niter    objective    inf_pr   inf_du lg(mu)  ||d||  lg(rg) alpha_du alpha_pr  ls\r\n  20 -3.6274280e+02 0.00e+00 1.57e-03 -11.0 1.25e-04    -  1.00e+00 1.25e-01f  4\r\n"
     ]
    },
    {
     "name": "stdout",
     "output_type": "stream",
     "text": [
      "\u001b[32m[2018-08-23 09:09:56] [INF] [0/paul-ubuntu] [o0i21] iter: 21 cost: -362.743 time_iter: wall: 0.469384s cpu: 0.675802s time_optim: wall: 9.02998s cpu: 14.562s\u001b[0m\r\n  21 -3.6274280e+02 0.00e+00 5.00e-04 -11.0 1.84e-04    -  1.00e+00 6.25e-02f  5\r\n"
     ]
    },
    {
     "name": "stdout",
     "output_type": "stream",
     "text": [
      "\u001b[32m[2018-08-23 09:09:56] [INF] [0/paul-ubuntu] [o0i22] iter: 22 cost: -362.743 time_iter: wall: 0.328505s cpu: 0.627346s time_optim: wall: 9.35848s cpu: 15.1893s\u001b[0m\r\n  22 -3.6274280e+02 0.00e+00 9.85e-05 -11.0 1.61e-05    -  1.00e+00 1.00e+00f  1\r\n"
     ]
    },
    {
     "name": "stdout",
     "output_type": "stream",
     "text": [
      "\u001b[32m[2018-08-23 09:09:57] [INF] [0/paul-ubuntu] [o0i23] iter: 23 cost: -362.743 time_iter: wall: 0.494818s cpu: 0.66558s time_optim: wall: 9.8533s cpu: 15.8549s\u001b[0m\r\n  23 -3.6274280e+02 0.00e+00 1.04e-04 -11.0 7.65e-06    -  1.00e+00 3.12e-02f  6\r\n"
     ]
    },
    {
     "name": "stdout",
     "output_type": "stream",
     "text": [
      "\u001b[32m[2018-08-23 09:09:57] [INF] [0/paul-ubuntu] [o0i24] iter: 24 cost: -362.743 time_iter: wall: 0.305711s cpu: 0.513126s time_optim: wall: 10.159s cpu: 16.368s\u001b[0m\r\n  24 -3.6274280e+02 0.00e+00 3.71e-07 -11.0 9.39e-07    -  1.00e+00 1.00e+00f  1\r\n\r\nNumber of Iterations....: 24\r\n\r\n                                   (scaled)                 (unscaled)\r\nObjective...............:  -3.6274280472465375e+02   -3.6274280472465375e+02\r\nDual infeasibility......:   3.7075054231151046e-07    3.7075054231151046e-07\r\nConstraint violation....:   0.0000000000000000e+00    0.0000000000000000e+00\r\nComplementarity.........:   1.0000000000003971e-11    1.0000000000003971e-11\r\nOverall NLP error.......:   3.7075054231151046e-07    3.7075054231151046e-07\r\n\r\n\r\nNumber of objective function evaluations             = 115\r\nNumber of objective gradient evaluations             = 25\r\nNumber of equality constraint evaluations            = 0\r\nNumber of inequality constraint evaluations          = 0\r\nNumber of equality constraint Jacobian evaluations   = 0\r\nNumber of inequality constraint Jacobian evaluations = 0\r\nNumber of Lagrangian Hessian evaluations             = 0\r\nTotal CPU secs in IPOPT (w/o function evaluations)   =      0.068\r\nTotal CPU secs in NLP function evaluations           =      0.888\r\n\r\nEXIT: Solved To Acceptable Level.\r\n\u001b[32m[2018-08-23 09:09:57] [INF] [0/paul-ubuntu] [o0i25] Optimizer status 4, final llh: -3.627428e+02, time: wall: 10.163123 cpu: 16.368047.\u001b[0m\r\n"
     ]
    },
    {
     "name": "stdout",
     "output_type": "stream",
     "text": [
      "\u001b[32m[2018-08-23 09:09:59] [INF] [0/paul-ubuntu] Walltime on master: 12.552605s, CPU time of all processes: 5.988010s\u001b[0m\r\n\u001b[32m[2018-08-23 09:09:59] [INF] [0/paul-ubuntu] Sent termination signal to workers.\u001b[0m\r\n"
     ]
    }
   ],
   "source": [
    "# optimization\n",
    "!PARPE_NO_DEBUG=1 mpiexec -n 4 ../../../build/amici/examples/steadystate/example_steadystate_multi  -o deletemehierarchical/ example_data.h5\n"
   ]
  },
  {
   "cell_type": "code",
   "execution_count": 30,
   "metadata": {},
   "outputs": [
    {
     "data": {
      "text/plain": [
       "array([[-362.54511276, -362.59941571, -362.63281092, -362.63762407,\n        -362.65227376, -362.6644902 , -362.70207913, -362.7190383 ,\n        -362.73566421, -362.73646023, -362.73841555, -362.74084963,\n        -362.74202489, -362.74215433, -362.7422029 , -362.7427991 ,\n        -362.74280026, -362.74280472, -362.74280472, -362.74280472,\n        -362.74280472, -362.74280472, -362.74280472, -362.74280472,\n        -362.74280472]])"
      ]
     },
     "execution_count": 29,
     "metadata": {},
     "output_type": "execute_result"
    },
    {
     "data": {
      "text/plain": [
       "array([[-362.54511276, -362.59941571, -362.63281092, -362.63762407,\n        -362.65227376, -362.6644902 , -362.70207913, -362.7190383 ,\n        -362.73566421, -362.73646023, -362.73841555, -362.74084963,\n        -362.74202489, -362.74215433, -362.7422029 , -362.7427991 ,\n        -362.74280026, -362.74280472, -362.74280472, -362.74280472,\n        -362.74280472, -362.74280472, -362.74280472, -362.74280472,\n        -362.74280472]])"
      ]
     },
     "execution_count": 30,
     "metadata": {},
     "output_type": "execute_result"
    }
   ],
   "source": [
    "filename = 'deletemehierarchical/_rank00000.h5'\n",
    "with h5py.File(filename, 'r') as f:\n",
    "    trajectory = f['/multistarts/0/iterCostFunCost'][:]\n",
    "for start in range(trajectory.shape[0]):\n",
    "    plt.plot(trajectory[start])    \n",
    "trajectory"
   ]
  },
  {
   "cell_type": "code",
   "execution_count": 31,
   "metadata": {},
   "outputs": [
    {
     "name": "stdout",
     "output_type": "stream",
     "text": [
      "#  __Exp___ __Act___ __Err___ _RelErr___\n0: 1.000000 0.908622 -0.091378 -0.091378\n1: 0.500000 0.443363 -0.056637 -0.113274\n2: 0.400000 0.377745 -0.022255 -0.055639\n3: 2.000000 1.975561 -0.024439 -0.012220\n4: 0.100000 0.081736 -0.018264 -0.182642\n5: 2.000000 2.002610 0.002610 0.001305\n6: 3.000000 3.010373 0.010373 0.003458\n7: 0.200000 0.207911 0.007911 0.039553\n8: 4.000000 4.000484 0.000484 0.000121\nStatus: 4\nCost: -362.742805 (expected: -0.000000)\n"
     ]
    }
   ],
   "source": [
    "compareResults('deletemehierarchical/_rank00000.h5', -expectedLlh)"
   ]
  },
  {
   "cell_type": "code",
   "execution_count": 32,
   "metadata": {},
   "outputs": [
    {
     "data": {
      "text/plain": [
       "['p1',\n",
       " 'p2',\n",
       " 'p3',\n",
       " 'p4',\n",
       " 'p5',\n",
       " 'scaling_x1',\n",
       " 'offset_x2',\n",
       " 'observable_x1withsigma_sigma']"
      ]
     },
     "execution_count": 29,
     "metadata": {},
     "output_type": "execute_result"
    },
    {
     "data": {
      "text/plain": [
       "['', '', '', '', '', '', '', '']"
      ]
     },
     "execution_count": 32,
     "metadata": {},
     "output_type": "execute_result"
    }
   ],
   "source": [
    "list(model.getParameterNames())"
   ]
  },
  {
   "cell_type": "code",
   "execution_count": 33,
   "metadata": {},
   "outputs": [
    {
     "name": "stdout",
     "output_type": "stream",
     "text": [
      "rm: cannot remove 'simh.h5': No such file or directory\r\n"
     ]
    },
    {
     "name": "stdout",
     "output_type": "stream",
     "text": [
      "Running for start 0\r\n"
     ]
    }
   ],
   "source": [
    "!rm simh.h5\n",
    "!../../../build/amici/examples/steadystate/example_steadystate_multi_simulator deletemehierarchical/_rank00000.h5 / simh.h5 / --at-optimum"
   ]
  },
  {
   "cell_type": "code",
   "execution_count": 34,
   "metadata": {},
   "outputs": [
    {
     "name": "stdout",
     "output_type": "stream",
     "text": [
      "(4, 20, 6)\n",
      "(4, 20, 6)\n"
     ]
    },
    {
     "name": "stdout",
     "output_type": "stream",
     "text": [
      "(4, 20, 6)\n(4, 20, 6)\n"
     ]
    }
   ],
   "source": [
    "with h5py.File('simh.h5', 'r') as f:\n",
    "    ysim = f['/multistarts/0/ySim'][:]\n",
    "    ymes = f['/multistarts/0/yMes'][:]\n",
    "print(ysim.shape)\n",
    "print(ymes.shape)"
   ]
  },
  {
   "cell_type": "code",
   "execution_count": 35,
   "metadata": {},
   "outputs": [
    {
     "name": "stdout",
     "output_type": "stream",
     "text": [
      "[ 0.15916003  0.24572667  0.13673315  0.08511784  0.30448755  0.1873423\n  0.20808639  0.03428187 -0.00352889  0.05088907 -0.00308514  0.08619144\n  0.16566547  0.17372748  0.54619772  0.48540189  0.692316    0.56832874\n  0.65116308  0.53625814] [0.10001731 0.10003581 0.1000741  0.10015332 0.1003172  0.10065618\n 0.10135708 0.10280515 0.10579216 0.11193298 0.1244691  0.14967996\n 0.19874087 0.2872954  0.42067678 0.54910406 0.58479191 0.5621137\n 0.53378981 0.49676755]\n[ 0.01569991  0.05223609  0.12703311  0.25635269  0.07222441 -0.03215521\n  0.22822665  0.06133688  0.21676408 -0.07208313  0.06568774  0.42708264\n  0.19211152  0.41463521  0.36713655  0.53678856  0.53570787  0.529725\n  0.69157481  0.57167857] [0.10001731 0.10003581 0.1000741  0.10015332 0.1003172  0.10065617\n 0.10135703 0.10280497 0.10579138 0.11192968 0.12445519 0.14962224\n 0.19850961 0.28643887 0.41801883 0.54337954 0.5774485  0.55451903\n 0.52501455 0.48696729]\n[ 0.21630449  0.21041788  0.12879859  0.15839563  0.20429899  0.12476506\n  0.09347406  0.13238777  0.08052748  0.26197998 -0.01101065  0.03031048\n  0.28066342  0.31336387  0.42932393  0.70430246  0.49560719  0.59667346\n  0.63483966  0.55072121] [0.10001731 0.10003581 0.1000741  0.10015332 0.1003172  0.10065616\n 0.10135699 0.10280479 0.10579061 0.11192639 0.1244413  0.14956464\n 0.19827928 0.28558923 0.41540278 0.53781978 0.57046011 0.54744356\n 0.51699776 0.47823472]\n[-0.06651981 -0.04626824  0.00585338  0.00649198 -0.0531977   0.1320386\n  0.03152857  0.07371382  0.07312759  0.1949474   0.06841505  0.18636221\n  0.08772521  0.28997105  0.73385952  0.39992576  0.48960009  0.5260954\n  0.40897447  0.49266168] [0.10001731 0.10003581 0.1000741  0.10015332 0.1003172  0.10065615\n 0.10135695 0.10280461 0.10578983 0.11192309 0.12442742 0.14950715\n 0.19804989 0.28474646 0.41282789 0.53241923 0.5638051  0.5408388\n 0.50964889 0.47041017]\n"
     ]
    },
    {
     "name": "stdout",
     "output_type": "stream",
     "text": [
      "[0.30590642 0.49965401 0.50238943 0.44918854 0.43728716 0.27251288\n 0.41184502 0.50110778 0.32008826 0.30322644 0.24900593 0.33571027\n 0.59813284 0.59706209 0.62115041 0.70890531 0.72159643 0.61255767\n 0.7545004  0.56442351] [0.40001223 0.40002531 0.40005236 0.40010834 0.40022412 0.40046357\n 0.40095846 0.40198008 0.40408377 0.40839338 0.41712862 0.43445118\n 0.46730092 0.52423891 0.60709579 0.69365264 0.73486905 0.70490931\n 0.62810422 0.5288482 ]\n[0.3212127  0.23099052 0.36652016 0.43201178 0.7312585  0.43115497\n 0.22538538 0.39425023 0.19213055 0.33588268 0.5274961  0.53931789\n 0.53727566 0.6161248  0.54762985 0.69751756 0.69081911 0.63203555\n 0.7762776  0.47860425] [0.40001223 0.40002531 0.40005236 0.40010833 0.40022412 0.40046356\n 0.40095842 0.4019799  0.404083   0.40839009 0.41711475 0.43439368\n 0.46707053 0.52337486 0.60423379 0.68604492 0.72060137 0.68595505\n 0.60606519 0.50554349]\n[0.46259014 0.53885938 0.46011908 0.33340699 0.35479401 0.34837128\n 0.36652841 0.52607043 0.40859914 0.34141773 0.36562689 0.4764996\n 0.51270425 0.59415342 0.71054179 0.66556116 0.75715822 0.74162894\n 0.52477404 0.30093373] [0.40001223 0.40002531 0.40005236 0.40010833 0.40022412 0.40046355\n 0.40095838 0.40197972 0.40408222 0.40838679 0.41710089 0.4343363\n 0.46684107 0.52251793 0.60141874 0.67867316 0.70707362 0.66839518\n 0.58615299 0.48511819]\n[0.38730182 0.55311468 0.39157764 0.37601449 0.44116302 0.55623687\n 0.48719443 0.3914927  0.24269225 0.34552397 0.36545623 0.40118989\n 0.51288243 0.54302977 0.375073   0.57862388 0.68798893 0.71370282\n 0.60939873 0.49140672] [0.40001223 0.40002531 0.40005236 0.40010833 0.40022411 0.40046354\n 0.40095834 0.40197954 0.40408145 0.4083835  0.41708703 0.43427901\n 0.46661252 0.52166803 0.59864972 0.67152866 0.69423754 0.65209191\n 0.56808836 0.46709164]\n"
     ]
    },
    {
     "name": "stdout",
     "output_type": "stream",
     "text": [
      "[ 0.72677626  0.62408195  0.63482079  0.62296573  0.66568478  0.69232537\n  0.70291275  0.73017854  0.79311289  0.73234464  0.64140407  0.70769762\n  0.63247444  0.26797573  0.29846662  0.18896596  0.07578989  0.20676793\n -0.14981219  0.06616002] [0.69997935 0.69995727 0.69991159 0.69981708 0.69962157 0.69921722\n 0.69838135 0.69665521 0.69309805 0.68579935 0.67095777 0.64133574\n 0.58446135 0.4837296  0.3328806  0.17232399 0.0823007  0.06102063\n 0.05100829 0.03964923]\n[0.75674704 0.61324412 0.6240055  0.7394278  0.62996087 0.7538084\n 0.8179365  0.72901968 0.7555966  0.78058184 0.65261254 0.70008186\n 0.60545314 0.64107609 0.3147367  0.0938295  0.39931685 0.02759383\n 0.04235241 0.11154846] [0.69997865 0.69995582 0.69990859 0.69981088 0.69960875 0.6991907\n 0.69832655 0.6965421  0.69286523 0.6853228  0.66999352 0.63943068\n 0.58087766 0.47762956 0.32435883 0.16393084 0.07665613 0.05668438\n 0.04686374 0.03594882]\n[ 0.54684505  0.76202841  0.63454694  0.52282946  0.74909427  0.82314922\n  0.67404452  0.60459635  0.64356213  0.73298687  0.5211506   0.592075\n  0.56232884  0.47162217  0.34068356  0.07800781 -0.04371149  0.09360781\n  0.06768714 -0.13542741] [0.69997795 0.69995437 0.6999056  0.69980468 0.69959592 0.69916418\n 0.69827175 0.69642901 0.69263248 0.68484658 0.66903067 0.63753127\n 0.57731597 0.47160665 0.31605756 0.1559697  0.07150724 0.0528115\n 0.04324359 0.03280961]\n[ 0.72654065  0.70501568  0.72496079  0.65458048  0.64633782  0.76241027\n  0.81110458  0.82419156  0.5833865   0.71834823  0.59153847  0.69368847\n  0.67805617  0.52326738  0.4804673   0.45811644  0.03440963 -0.02355876\n  0.15090412  0.08362216] [0.69997725 0.69995293 0.6999026  0.69979848 0.6995831  0.69913767\n 0.69821695 0.69631593 0.69239982 0.68437069 0.6680692  0.63563752\n 0.57377615 0.46565989 0.30797106 0.14841793 0.06680615 0.04934028\n 0.04006296 0.03012121]\n"
     ]
    },
    {
     "name": "stdout",
     "output_type": "stream",
     "text": [
      "[0.1907933  0.27209824 0.36951398 0.19435857 0.30535819 0.2125448\n 0.12866825 0.13808969 0.1310186  0.20997028 0.25936197 0.35389469\n 0.3946488  0.54022183 0.88766994 0.89368331 1.22642582 1.20625354\n 1.04191499 0.87967847] [0.20029562 0.20033268 0.20040935 0.20056799 0.20089619 0.20157504\n 0.20297865 0.20587859 0.21186039 0.22415805 0.24926301 0.29975052\n 0.39800036 0.57534052 0.84245134 1.09964105 1.17110986 1.12569427\n 1.06897257 0.99483144]\n[0.27025777 0.15696504 0.27267956 0.09491388 0.34569364 0.07575023\n 0.3410928  0.42575072 0.12007057 0.09069459 0.23550071 0.28054735\n 0.3471489  0.56462285 0.88973668 1.29142636 1.28231037 1.01887848\n 1.00955116 1.02859774] [0.20029562 0.20033268 0.20040935 0.20056799 0.20089618 0.20157502\n 0.20297856 0.20587822 0.21185884 0.22415145 0.24923516 0.29963493\n 0.39753724 0.57362522 0.83712851 1.08817705 1.15640389 1.1104851\n 1.05139915 0.97520535]\n[0.16023189 0.33302386 0.14000213 0.29214868 0.13408901 0.23601536\n 0.44759844 0.23268647 0.29378687 0.12731789 0.10031273 0.3805948\n 0.36091556 0.6372365  0.87834767 1.00710756 1.15893109 1.0802019\n 1.08282048 0.96984408] [0.20029562 0.20033268 0.20040935 0.20056799 0.20089618 0.201575\n 0.20297848 0.20587786 0.21185728 0.22414485 0.24920734 0.29951957\n 0.39707598 0.57192372 0.83188958 1.07704303 1.14240888 1.09631571\n 1.03534466 0.95771742]\n[0.09601828 0.358062   0.07838587 0.14325227 0.232322   0.16937295\n 0.3573845  0.17091843 0.14375017 0.39448336 0.51419269 0.18302893\n 0.25290716 0.52270943 0.72356276 0.99573473 1.10406153 1.1007063\n 1.06137509 0.84114721] [0.20029562 0.20033268 0.20040935 0.20056799 0.20089617 0.20157498\n 0.20297839 0.20587749 0.21185573 0.22413825 0.24917954 0.29940445\n 0.39661661 0.57023598 0.82673307 1.06622783 1.12908149 1.08308895\n 1.02062773 0.9420479 ]\n"
     ]
    },
    {
     "name": "stdout",
     "output_type": "stream",
     "text": [
      "[3.45636505 3.36158784 3.28803153 3.28735994 3.62803645 3.36101359\n 3.59995358 3.29787714 3.57466182 3.26396289 3.34658484 3.36716998\n 3.36903788 3.41745726 3.76811338 3.80473749 3.6146522  3.75378181\n 3.61339223 3.51102235] [3.41038542 3.41039849 3.41042555 3.41048152 3.41059731 3.41083676\n 3.41133165 3.41235327 3.41445696 3.41876656 3.42750181 3.44482437\n 3.47767411 3.5346121  3.61746898 3.70402583 3.74524223 3.7152825\n 3.6384774  3.53922138]\n[4.4168258  4.3776654  4.58133642 4.43338947 4.50199516 4.34303138\n 4.36113614 4.37122702 4.36408939 4.53347271 4.44150925 4.15750504\n 4.42459644 4.36561356 4.62423081 4.52954237 4.75000243 4.66072994\n 4.49191862 4.61692196] [4.40049657 4.40050965 4.4005367  4.40059268 4.40070846 4.4009479\n 4.40144276 4.40246424 4.40456734 4.40887443 4.41759909 4.43487803\n 4.46755487 4.5238592  4.60471814 4.68652926 4.72108571 4.68643939\n 4.60654953 4.50602783]\n[3.62741405 3.46485784 3.35562352 3.40852883 3.40170222 3.41905511\n 3.37809158 3.28792095 3.38880487 3.43323333 3.53319557 3.49831402\n 3.50041554 3.66251357 3.50758345 3.95360067 3.68839524 3.65946294\n 3.5760942  3.32614224] [3.41038542 3.41039849 3.41042555 3.41048152 3.4105973  3.41083674\n 3.41133156 3.4123529  3.41445541 3.41875998 3.42747407 3.44470949\n 3.47721426 3.53289111 3.61179192 3.68904634 3.71744681 3.67876836\n 3.59652618 3.49549138]\n[4.27578277 4.49400781 4.33821826 4.4333289  4.41303809 4.51174591\n 4.17615605 4.45678888 4.31230871 4.57600256 4.44847203 4.392227\n 4.47139164 4.493539   4.69520802 4.74060852 4.65967257 4.6757611\n 4.82902398 4.45367067] [4.40049657 4.40050965 4.4005367  4.40059267 4.40070846 4.40094788\n 4.40144268 4.40246388 4.40456579 4.40886784 4.41757138 4.43476336\n 4.46709686 4.52215237 4.59913406 4.67201301 4.69472188 4.65257625\n 4.5685727  4.46757598]\n"
     ]
    },
    {
     "name": "stdout",
     "output_type": "stream",
     "text": [
      "[-0.05934166 -0.0988532   0.28480478  0.34572821  0.01784008  0.27936917\n -0.02845237  0.3339602  -0.33672364  0.23935972  0.00517389  0.29777997\n  0.32299148  0.14099866  0.44992062  0.51511182  0.20151359  0.33985172\n  0.67430935  0.52078272] [0.10001731 0.10003581 0.1000741  0.10015332 0.1003172  0.10065618\n 0.10135708 0.10280515 0.10579216 0.11193298 0.1244691  0.14967996\n 0.19874087 0.2872954  0.42067678 0.54910406 0.58479191 0.5621137\n 0.53378981 0.49676755]\n[-0.11870422 -0.08337182  0.22028344 -0.21066544  0.10850223  0.30406927\n  0.1077829  -0.42711758 -0.10048488 -0.05173862 -0.00664722 -0.12865003\n  0.37605088  0.28025466  0.29192848  0.73544086  0.5302705   0.31543237\n  0.77101693  0.77270274] [0.10001731 0.10003581 0.1000741  0.10015332 0.1003172  0.10065617\n 0.10135703 0.10280497 0.10579138 0.11192968 0.12445519 0.14962224\n 0.19850961 0.28643887 0.41801883 0.54337954 0.5774485  0.55451903\n 0.52501455 0.48696729]\n[-0.10064796 -0.16643379  0.23198312  0.16802696  0.34288318  0.04688643\n  0.02340191 -0.09126522  0.13440981  0.28544643  0.36966743  0.12458241\n  0.17529191  0.0849277   0.88836286  0.36193332  0.22878363  0.15133132\n  0.55608019  0.41039544] [0.10001731 0.10003581 0.1000741  0.10015332 0.1003172  0.10065616\n 0.10135699 0.10280479 0.10579061 0.11192639 0.1244413  0.14956464\n 0.19827928 0.28558923 0.41540278 0.53781978 0.57046011 0.54744356\n 0.51699776 0.47823472]\n[-0.22643651 -0.06947537  0.13682044  0.04157126  0.11355454  0.13449537\n  0.2721157   0.14936046  0.02302253 -0.16434044 -0.26175314  0.31843201\n  0.07704627  0.17254076  0.43362702  0.78469     0.65298019  0.31743902\n  0.14325998  0.15621009] [0.10001731 0.10003581 0.1000741  0.10015332 0.1003172  0.10065615\n 0.10135695 0.10280461 0.10578983 0.11192309 0.12442742 0.14950715\n 0.19804989 0.28474646 0.41282789 0.53241923 0.5638051  0.5408388\n 0.50964889 0.47041017]\n"
     ]
    }
   ],
   "source": [
    "plotCorrelation(ymes, ysim)"
   ]
  },
  {
   "cell_type": "code",
   "execution_count": 36,
   "metadata": {},
   "outputs": [],
   "source": [
    "plotTrajectoryFit(ymes, ysim, timepoints)"
   ]
  },
  {
   "cell_type": "markdown",
   "metadata": {},
   "source": [
    "## Ceres"
   ]
  },
  {
   "cell_type": "code",
   "execution_count": 37,
   "metadata": {},
   "outputs": [
    {
     "name": "stdout",
     "output_type": "stream",
     "text": [
      "\u001b[36m[2018-08-23 09:12:05] [DBG] [3/paul-ubuntu] Rank 3/4 running on paul-ubuntu.\u001b[0m\r\n\u001b[36m[2018-08-23 09:12:05] [DBG] [3/paul-ubuntu] Seeding RNG with 1535008325\u001b[0m\r\n\u001b[36m[2018-08-23 09:12:05] [DBG] [1/paul-ubuntu] Rank 1/4 running on paul-ubuntu.\u001b[0m\r\n\u001b[36m[2018-08-23 09:12:05] [DBG] [2/paul-ubuntu] Rank 2/4 running on paul-ubuntu.\u001b[0m\r\n\u001b[36m[2018-08-23 09:12:05] [DBG] [1/paul-ubuntu] Seeding RNG with 1535008325\u001b[0m\r\n\u001b[36m[2018-08-23 09:12:05] [DBG] [2/paul-ubuntu] Seeding RNG with 1535008325\u001b[0m\r\nHierachicalOptimizationWrapper parameters: 9 total, 5 numerical, 1 proportionality, 2 offset, 1 sigma\r\n\u001b[32m[2018-08-23 09:12:05] [INF] [0/paul-ubuntu] Running with 4 MPI processes.\u001b[0m\r\nHierachicalOptimizationWrapper parameters: 9 total, 5 numerical, 1 proportionality, 2 offset, 1 sigma\r\n\u001b[36m[2018-08-23 09:12:05] [DBG] [0/paul-ubuntu] Rank 0/4 running on paul-ubuntu.\u001b[0m\r\n\u001b[36m[2018-08-23 09:12:05] [DBG] [0/paul-ubuntu] Seeding RNG with 1535008325\u001b[0m\r\nHierachicalOptimizationWrapper parameters: 9 total, 5 numerical, 1 proportionality, 2 offset, 1 sigma\r\nHierachicalOptimizationWrapper parameters: 9 total, 5 numerical, 1 proportionality, 2 offset, 1 sigma\r\n\u001b[36m[2018-08-23 09:12:05] [DBG] [0/paul-ubuntu] Starting runParallelMultiStartOptimization with 1 starts\u001b[0m\r\n\u001b[32m[2018-08-23 09:12:05] [INF] [0/paul-ubuntu] Reading random initial theta 0 from /optimizationOptions/randomStarts\u001b[0m\r\nHierachicalOptimizationWrapper parameters: 9 total, 5 numerical, 1 proportionality, 2 offset, 1 sigma\r\n\u001b[36m[2018-08-23 09:12:05] [DBG] [0/paul-ubuntu] Spawning thread for local optimization #0 (0)\u001b[0m\r\n\u001b[36m[2018-08-23 09:12:05] [DBG] [0/paul-ubuntu] Set optimization option max_num_iterations to 100.\u001b[0m\r\n\u001b[36m[2018-08-23 09:12:05] [DBG] [1/paul-ubuntu] Message received after waiting 0.027020s.\u001b[0m\r\n\u001b[36m[2018-08-23 09:12:05] [DBG] [1/paul-ubuntu] [o0i0c0] Result for 1: -8991.6 (0) (0.0027s-)\u001b[0m"
     ]
    },
    {
     "name": "stdout",
     "output_type": "stream",
     "text": [
      "\r\n\u001b[36m[2018-08-23 09:12:05] [DBG] [1/paul-ubuntu] [o0i0c1] Result for 1: -15921 (0) (0.0007s-)\u001b[0m\r\n\u001b[36m[2018-08-23 09:12:05] [DBG] [1/paul-ubuntu] [o0i0c2] Result for 1: -9165.46 (0) (0.0007s-)\u001b[0m\r\n\u001b[36m[2018-08-23 09:12:05] [DBG] [1/paul-ubuntu] [o0i0c3] Result for 1: -16148.1 (0) (0.0009s-)\u001b[0m\r\n\u001b[36m[2018-08-23 09:12:05] [DBG] [1/paul-ubuntu] Message received after waiting 0.000006s.\u001b[0m\r\n\u001b[36m[2018-08-23 09:12:05] [DBG] [2/paul-ubuntu] Message received after waiting 0.061114s.\u001b[0m\r\n\u001b[36m[2018-08-23 09:12:05] [DBG] [3/paul-ubuntu] Message received after waiting 0.053563s.\u001b[0m\r\n"
     ]
    },
    {
     "name": "stdout",
     "output_type": "stream",
     "text": [
      "\u001b[36m[2018-08-23 09:12:05] [DBG] [1/paul-ubuntu] [o0i0c0] Result for 2: 96.7284 (0) (0.0509s+)\u001b[0m\r\n\u001b[36m[2018-08-23 09:12:05] [DBG] [3/paul-ubuntu] [o0i0c2] Result for 4: 99.3546 (0) (0.0628s+)\u001b[0m\r\n\u001b[36m[2018-08-23 09:12:05] [DBG] [2/paul-ubuntu] [o0i0c1] Result for 3: 79.973 (0) (0.0618s+)\u001b[0m\r\n"
     ]
    },
    {
     "name": "stdout",
     "output_type": "stream",
     "text": [
      "\u001b[36m[2018-08-23 09:12:05] [DBG] [3/paul-ubuntu] Message received after waiting 0.012330s.\u001b[0m\r\n"
     ]
    },
    {
     "name": "stdout",
     "output_type": "stream",
     "text": [
      "\u001b[36m[2018-08-23 09:12:05] [DBG] [3/paul-ubuntu] [o0i0c3] Result for 5: 86.4891 (0) (0.0689s+)\u001b[0m\r\n"
     ]
    },
    {
     "name": "stdout",
     "output_type": "stream",
     "text": [
      "\u001b[32m[2018-08-23 09:12:05] [INF] [0/paul-ubuntu] [o0i0] iter: 0 cost: -362.545 time_iter: wall: 0.259683s cpu: 0.498577s time_optim: wall: 0.259684s cpu: 0.498577s\u001b[0m\r\ncallbacks.cc:105    0: f:-3.625451e+02 d: 0.00e+00 g: 1.31e+01 h: 0.00e+00 s: 0.00e+00 e:  0 it: 2.55e-01 tt: 2.55e-01\r\n\u001b[36m[2018-08-23 09:12:05] [DBG] [1/paul-ubuntu] Message received after waiting 0.114249s.\u001b[0m\r\n\u001b[36m[2018-08-23 09:12:05] [DBG] [1/paul-ubuntu] [o0i1c0] Result for 6: -10234.3 (0) (0.0007s-)\u001b[0m\r\n\u001b[36m[2018-08-23 09:12:05] [DBG] [1/paul-ubuntu] [o0i1c1] Result for 6: -17414.8 (0) (0.0008s-)\u001b[0m\r\n\u001b[36m[2018-08-23 09:12:05] [DBG] [1/paul-ubuntu] [o0i1c2] Result for 6: -10332 (0) (0.0008s-)\u001b[0m\r\n\u001b[36m[2018-08-23 09:12:05] [DBG] [1/paul-ubuntu] [o0i1c3] Result for 6: -17643.4 (0) (0.0008s-)\u001b[0m\r\n"
     ]
    },
    {
     "name": "stdout",
     "output_type": "stream",
     "text": [
      "\u001b[36m[2018-08-23 09:12:05] [DBG] [1/paul-ubuntu] Message received after waiting 0.000007s.\u001b[0m\r\n\u001b[36m[2018-08-23 09:12:05] [DBG] [2/paul-ubuntu] Message received after waiting 0.135263s.\u001b[0m\r\n\u001b[36m[2018-08-23 09:12:05] [DBG] [3/paul-ubuntu] Message received after waiting 0.044140s.\u001b[0m\r\n"
     ]
    },
    {
     "name": "stdout",
     "output_type": "stream",
     "text": [
      "\u001b[36m[2018-08-23 09:12:05] [DBG] [1/paul-ubuntu] [o0i1c0] Result for 7: -238.697 (0) (0.0347s+)\u001b[0m\r\n\u001b[36m[2018-08-23 09:12:05] [DBG] [2/paul-ubuntu] [o0i1c1] Result for 8: -239.305 (0) (0.0601s+)\u001b[0m\r\n\u001b[36m[2018-08-23 09:12:05] [DBG] [3/paul-ubuntu] [o0i1c2] Result for 9: -207.905 (0) (0.0689s+)\u001b[0m\r\n"
     ]
    },
    {
     "name": "stdout",
     "output_type": "stream",
     "text": [
      "\u001b[36m[2018-08-23 09:12:05] [DBG] [2/paul-ubuntu] Message received after waiting 0.030006s.\u001b[0m\r\n"
     ]
    },
    {
     "name": "stdout",
     "output_type": "stream",
     "text": [
      "\u001b[36m[2018-08-23 09:12:05] [DBG] [2/paul-ubuntu] [o0i1c3] Result for 10: -242.616 (0) (0.0474s+)\u001b[0m\r\n"
     ]
    },
    {
     "name": "stdout",
     "output_type": "stream",
     "text": [
      "\u001b[36m[2018-08-23 09:12:05] [DBG] [1/paul-ubuntu] Message received after waiting 0.126236s.\u001b[0m\r\n\u001b[36m[2018-08-23 09:12:05] [DBG] [1/paul-ubuntu] [o0i1c0] Result for 11: -8999.08 (0) (0.0007s-)\u001b[0m\r\n\u001b[36m[2018-08-23 09:12:05] [DBG] [1/paul-ubuntu] [o0i1c1] Result for 11: -15931 (0) (0.0030s-)\u001b[0m\r\n\u001b[36m[2018-08-23 09:12:05] [DBG] [1/paul-ubuntu] [o0i1c2] Result for 11: -9172.61 (0) (0.0008s-)\u001b[0m\r\n\u001b[36m[2018-08-23 09:12:05] [DBG] [1/paul-ubuntu] [o0i1c3] Result for 11: -16158.2 (0) (0.0007s-)\u001b[0m\r\n\u001b[36m[2018-08-23 09:12:05] [DBG] [1/paul-ubuntu] Message received after waiting 0.003866s.\u001b[0m\r\n\u001b[36m[2018-08-23 09:12:05] [DBG] [2/paul-ubuntu] Message received after waiting 0.039419s.\u001b[0m\r\n\u001b[36m[2018-08-23 09:12:05] [DBG] [3/paul-ubuntu] Message received after waiting 0.141810s.\u001b[0m\r\n"
     ]
    },
    {
     "name": "stdout",
     "output_type": "stream",
     "text": [
      "\u001b[36m[2018-08-23 09:12:05] [DBG] [2/paul-ubuntu] [o0i1c1] Result for 13: 80.0634 (0) (0.0352s+)\u001b[0m\r\n"
     ]
    },
    {
     "name": "stdout",
     "output_type": "stream",
     "text": [
      "\u001b[36m[2018-08-23 09:12:05] [DBG] [1/paul-ubuntu] [o0i1c0] Result for 12: 96.7416 (0) (0.0420s+)\u001b[0m\r\n\u001b[36m[2018-08-23 09:12:05] [DBG] [3/paul-ubuntu] [o0i1c2] Result for 14: 99.4267 (0) (0.0694s+)\u001b[0m\r\n"
     ]
    },
    {
     "name": "stdout",
     "output_type": "stream",
     "text": [
      "\u001b[36m[2018-08-23 09:12:05] [DBG] [2/paul-ubuntu] Message received after waiting 0.032704s.\u001b[0m\r\n"
     ]
    },
    {
     "name": "stdout",
     "output_type": "stream",
     "text": [
      "\u001b[36m[2018-08-23 09:12:06] [DBG] [2/paul-ubuntu] [o0i1c3] Result for 15: 86.3848 (0) (0.0638s+)\u001b[0m\r\n"
     ]
    },
    {
     "name": "stdout",
     "output_type": "stream",
     "text": [
      "\u001b[32m[2018-08-23 09:12:06] [INF] [0/paul-ubuntu] [o0i1] iter: 1 cost: -362.617 time_iter: wall: 0.536239s cpu: 0.953483s time_optim: wall: 0.795923s cpu: 1.45206s\u001b[0m\r\ncallbacks.cc:105    1: f:-3.626166e+02 d: 7.15e-02 g: 5.93e+00 h: 8.46e-03 s: 4.85e-04 e:  2 it: 5.35e-01 tt: 7.93e-01\r\n\u001b[36m[2018-08-23 09:12:06] [DBG] [2/paul-ubuntu] Message received after waiting 0.008640s.\u001b[0m\r\n\u001b[36m[2018-08-23 09:12:06] [DBG] [2/paul-ubuntu] [o0i2c0] Result for 16: -8983.68 (0) (0.0066s-)\u001b[0m\r\n\u001b[36m[2018-08-23 09:12:06] [DBG] [2/paul-ubuntu] [o0i2c1] Result for 16: -15911.3 (0) (0.0049s-)\u001b[0m\r\n\u001b[36m[2018-08-23 09:12:06] [DBG] [2/paul-ubuntu] [o0i2c2] Result for 16: -9157.86 (0) (0.0007s-)\u001b[0m\r\n"
     ]
    },
    {
     "name": "stdout",
     "output_type": "stream",
     "text": [
      "\u001b[36m[2018-08-23 09:12:06] [DBG] [2/paul-ubuntu] [o0i2c3] Result for 16: -16139.3 (0) (0.0079s-)\u001b[0m\r\n\u001b[36m[2018-08-23 09:12:06] [DBG] [2/paul-ubuntu] Message received after waiting 0.000005s.\u001b[0m\r\n\u001b[36m[2018-08-23 09:12:06] [DBG] [1/paul-ubuntu] Message received after waiting 0.142872s.\u001b[0m\r\n\u001b[36m[2018-08-23 09:12:06] [DBG] [3/paul-ubuntu] Message received after waiting 0.181799s.\u001b[0m\r\n\u001b[36m[2018-08-23 09:12:06] [DBG] [3/paul-ubuntu] [o0i2c2] Result for 19: 98.9494 (0) (0.0098s+)\u001b[0m"
     ]
    },
    {
     "name": "stdout",
     "output_type": "stream",
     "text": [
      "\r\n\u001b[36m[2018-08-23 09:12:06] [DBG] [2/paul-ubuntu] [o0i2c0] Result for 17: 96.9001 (0) (0.0573s+)\u001b[0m\r\n\u001b[36m[2018-08-23 09:12:06] [DBG] [1/paul-ubuntu] [o0i2c1] Result for 18: 80.2997 (0) (0.0771s+)\u001b[0m\r\n"
     ]
    },
    {
     "name": "stdout",
     "output_type": "stream",
     "text": [
      "\u001b[36m[2018-08-23 09:12:06] [DBG] [3/paul-ubuntu] Message received after waiting 0.031311s.\u001b[0m\r\n"
     ]
    },
    {
     "name": "stdout",
     "output_type": "stream",
     "text": [
      "\u001b[36m[2018-08-23 09:12:06] [DBG] [3/paul-ubuntu] [o0i2c3] Result for 20: 86.3012 (0) (0.0814s+)\u001b[0m\r\n"
     ]
    },
    {
     "name": "stdout",
     "output_type": "stream",
     "text": [
      "\u001b[36m[2018-08-23 09:12:06] [DBG] [3/paul-ubuntu] Message received after waiting 0.036186s.\u001b[0m\r\n\u001b[36m[2018-08-23 09:12:06] [DBG] [3/paul-ubuntu] [o0i2c0] Result for 21: -8995.5 (0) (0.0007s-)\u001b[0m\r\n\u001b[36m[2018-08-23 09:12:06] [DBG] [3/paul-ubuntu] [o0i2c1] Result for 21: -15926.4 (0) (0.0007s-)\u001b[0m\r\n\u001b[36m[2018-08-23 09:12:06] [DBG] [3/paul-ubuntu] [o0i2c2] Result for 21: -9169.18 (0) (0.0007s-)\u001b[0m\r\n\u001b[36m[2018-08-23 09:12:06] [DBG] [3/paul-ubuntu] [o0i2c3] Result for 21: -16153.8 (0) (0.0016s-)\u001b[0m\r\n"
     ]
    },
    {
     "name": "stdout",
     "output_type": "stream",
     "text": [
      "\u001b[36m[2018-08-23 09:12:06] [DBG] [1/paul-ubuntu] Message received after waiting 0.204623s.\u001b[0m\r\n\u001b[36m[2018-08-23 09:12:06] [DBG] [3/paul-ubuntu] Message received after waiting 0.000323s.\u001b[0m\r\n\u001b[36m[2018-08-23 09:12:06] [DBG] [2/paul-ubuntu] Message received after waiting 0.189189s.\u001b[0m\r\n"
     ]
    },
    {
     "name": "stdout",
     "output_type": "stream",
     "text": [
      "\u001b[36m[2018-08-23 09:12:06] [DBG] [1/paul-ubuntu] [o0i2c1] Result for 23: 80.1316 (0) (0.0591s+)\u001b[0m\r\n\u001b[36m[2018-08-23 09:12:06] [DBG] [3/paul-ubuntu] [o0i2c0] Result for 22: 96.7919 (0) (0.0616s+)\u001b[0m\r\n\u001b[36m[2018-08-23 09:12:06] [DBG] [2/paul-ubuntu] [o0i2c2] Result for 24: 99.3306 (0) (0.0767s+)\u001b[0m\r\n"
     ]
    },
    {
     "name": "stdout",
     "output_type": "stream",
     "text": [
      "\u001b[36m[2018-08-23 09:12:06] [DBG] [3/paul-ubuntu] Message received after waiting 0.023337s.\u001b[0m\r\n"
     ]
    },
    {
     "name": "stdout",
     "output_type": "stream",
     "text": [
      "\u001b[36m[2018-08-23 09:12:06] [DBG] [3/paul-ubuntu] [o0i2c3] Result for 25: 86.379 (0) (0.0632s+)\u001b[0m\r\n"
     ]
    },
    {
     "name": "stdout",
     "output_type": "stream",
     "text": [
      "callbacks.cc:105    2: f:-3.626331e+02 d: 1.65e-02 g: 2.61e+00 h: 5.41e-03 s: 7.77e-04 e:  2 it: 6.22e-01 tt: 1.42e+00\r\n\u001b[32m[2018-08-23 09:12:06] [INF] [0/paul-ubuntu] [o0i2] iter: 2 cost: -362.633 time_iter: wall: 0.622637s cpu: 1.10686s time_optim: wall: 1.41856s cpu: 2.55892s\u001b[0m\r\n\u001b[36m[2018-08-23 09:12:06] [DBG] [3/paul-ubuntu] Message received after waiting 0.015292s.\u001b[0m\r\n\u001b[36m[2018-08-23 09:12:06] [DBG] [3/paul-ubuntu] [o0i3c0] Result for 26: -8997.85 (0) (0.0008s-)\u001b[0m\r\n\u001b[36m[2018-08-23 09:12:06] [DBG] [3/paul-ubuntu] [o0i3c1] Result for 26: -15929.2 (0) (0.0008s-)\u001b[0m\r\n\u001b[36m[2018-08-23 09:12:06] [DBG] [3/paul-ubuntu] [o0i3c2] Result for 26: -9171.58 (0) (0.0008s-)\u001b[0m\r\n\u001b[36m[2018-08-23 09:12:06] [DBG] [3/paul-ubuntu] [o0i3c3] Result for 26: -16156.2 (0) (0.0008s-)\u001b[0m\r\n"
     ]
    },
    {
     "name": "stdout",
     "output_type": "stream",
     "text": [
      "\u001b[36m[2018-08-23 09:12:06] [DBG] [3/paul-ubuntu] Message received after waiting 0.000008s.\u001b[0m\r\n\u001b[36m[2018-08-23 09:12:06] [DBG] [1/paul-ubuntu] Message received after waiting 0.193310s.\u001b[0m\r\n\u001b[36m[2018-08-23 09:12:06] [DBG] [2/paul-ubuntu] Message received after waiting 0.189912s.\u001b[0m\r\n\u001b[36m[2018-08-23 09:12:06] [DBG] [2/paul-ubuntu] [o0i3c2] Result for 29: 99.1671 (0) (0.0423s+)\u001b[0m\r\n"
     ]
    },
    {
     "name": "stdout",
     "output_type": "stream",
     "text": [
      "\u001b[36m[2018-08-23 09:12:06] [DBG] [1/paul-ubuntu] [o0i3c1] Result for 28: 80.1268 (0) (0.0689s+)\u001b[0m\r\n\u001b[36m[2018-08-23 09:12:06] [DBG] [3/paul-ubuntu] [o0i3c0] Result for 27: 96.7727 (0) (0.0804s+)\u001b[0m\r\n"
     ]
    },
    {
     "name": "stdout",
     "output_type": "stream",
     "text": [
      "\u001b[36m[2018-08-23 09:12:06] [DBG] [2/paul-ubuntu] Message received after waiting 0.014156s.\u001b[0m\r\n"
     ]
    },
    {
     "name": "stdout",
     "output_type": "stream",
     "text": [
      "\u001b[36m[2018-08-23 09:12:07] [DBG] [2/paul-ubuntu] [o0i3c3] Result for 30: 86.5814 (0) (0.0858s+)\u001b[0m\r\ncallbacks.cc:105    3: f:-3.626480e+02 d: 1.49e-02 g: 2.13e+00 h: 1.01e-02 s: 2.19e-03 e:  1 it: 3.15e-01 tt: 1.73e+00"
     ]
    },
    {
     "name": "stdout",
     "output_type": "stream",
     "text": [
      "\r\n\u001b[32m[2018-08-23 09:12:07] [INF] [0/paul-ubuntu] [o0i3] iter: 3 cost: -362.648 time_iter: wall: 0.315574s cpu: 0.590961s time_optim: wall: 1.73413s cpu: 3.14988s\u001b[0m\r\n\u001b[36m[2018-08-23 09:12:07] [DBG] [2/paul-ubuntu] Message received after waiting 0.016252s.\u001b[0m\r\n\u001b[36m[2018-08-23 09:12:07] [DBG] [2/paul-ubuntu] [o0i4c0] Result for 31: -8996.93 (0) (0.0046s-)\u001b[0m\r\n\u001b[36m[2018-08-23 09:12:07] [DBG] [2/paul-ubuntu] [o0i4c1] Result for 31: -15928.1 (0) (0.0007s-)\u001b[0m\r\n\u001b[36m[2018-08-23 09:12:07] [DBG] [2/paul-ubuntu] [o0i4c2] Result for 31: -9170.6 (0) (0.0007s-)\u001b[0m\r\n\u001b[36m[2018-08-23 09:12:07] [DBG] [2/paul-ubuntu] [o0i4c3] Result for 31: -16155 (0) (0.0008s-)\u001b[0m\r\n"
     ]
    },
    {
     "name": "stdout",
     "output_type": "stream",
     "text": [
      "\u001b[36m[2018-08-23 09:12:07] [DBG] [1/paul-ubuntu] Message received after waiting 0.184214s.\u001b[0m\r\n\u001b[36m[2018-08-23 09:12:07] [DBG] [3/paul-ubuntu] Message received after waiting 0.181362s.\u001b[0m\r\n\u001b[36m[2018-08-23 09:12:07] [DBG] [2/paul-ubuntu] Message received after waiting 0.000009s.\u001b[0m\r\n"
     ]
    },
    {
     "name": "stdout",
     "output_type": "stream",
     "text": [
      "\u001b[36m[2018-08-23 09:12:07] [DBG] [2/paul-ubuntu] [o0i4c0] Result for 32: 96.8192 (0) (0.0297s+)\u001b[0m\r\n\u001b[36m[2018-08-23 09:12:07] [DBG] [3/paul-ubuntu] [o0i4c2] Result for 34: 99.2393 (0) (0.0636s+)\u001b[0m\r\n\u001b[36m[2018-08-23 09:12:07] [DBG] [1/paul-ubuntu] [o0i4c1] Result for 33: 80.0605 (0) (0.0639s+)\u001b[0m\r\n"
     ]
    },
    {
     "name": "stdout",
     "output_type": "stream",
     "text": [
      "\u001b[36m[2018-08-23 09:12:07] [DBG] [2/paul-ubuntu] Message received after waiting 0.016400s.\u001b[0m\r\n"
     ]
    },
    {
     "name": "stdout",
     "output_type": "stream",
     "text": [
      "\u001b[36m[2018-08-23 09:12:07] [DBG] [2/paul-ubuntu] [o0i4c3] Result for 35: 86.5561 (0) (0.0372s+)\u001b[0m\r\n"
     ]
    },
    {
     "name": "stdout",
     "output_type": "stream",
     "text": [
      "callbacks.cc:105    4: f:-3.626752e+02 d: 2.71e-02 g: 1.88e+00 h: 1.42e-02 s: 4.00e-03 e:  1 it: 3.07e-01 tt: 2.04e+00\r\n\u001b[32m[2018-08-23 09:12:07] [INF] [0/paul-ubuntu] [o0i4] iter: 4 cost: -362.675 time_iter: wall: 0.313297s cpu: 0.500796s time_optim: wall: 2.04743s cpu: 3.65068s\u001b[0m\r\n\u001b[36m[2018-08-23 09:12:07] [DBG] [2/paul-ubuntu] Message received after waiting 0.010582s.\u001b[0m\r\n\u001b[36m[2018-08-23 09:12:07] [DBG] [2/paul-ubuntu] [o0i5c0] Result for 36: -8998.48 (0) (0.0045s-)\u001b[0m"
     ]
    },
    {
     "name": "stdout",
     "output_type": "stream",
     "text": [
      "\r\n\u001b[36m[2018-08-23 09:12:07] [DBG] [2/paul-ubuntu] [o0i5c1] Result for 36: -15930.1 (0) (0.0008s-)\u001b[0m\r\n\u001b[36m[2018-08-23 09:12:07] [DBG] [2/paul-ubuntu] [o0i5c2] Result for 36: -9171.81 (0) (0.0008s-)\u001b[0m\r\n\u001b[36m[2018-08-23 09:12:07] [DBG] [2/paul-ubuntu] [o0i5c3] Result for 36: -16156.6 (0) (0.0008s-)\u001b[0m\r\n\u001b[36m[2018-08-23 09:12:07] [DBG] [2/paul-ubuntu] Message received after waiting 0.000007s.\u001b[0m\r\n\u001b[36m[2018-08-23 09:12:07] [DBG] [1/paul-ubuntu] Message received after waiting 0.186408s.\u001b[0m\r\n\u001b[36m[2018-08-23 09:12:07] [DBG] [3/paul-ubuntu] Message received after waiting 0.190967s.\u001b[0m\r\n"
     ]
    },
    {
     "name": "stdout",
     "output_type": "stream",
     "text": [
      "\u001b[36m[2018-08-23 09:12:07] [DBG] [2/paul-ubuntu] [o0i5c0] Result for 37: 96.7968 (0) (0.0550s+)\u001b[0m\r\n\u001b[36m[2018-08-23 09:12:07] [DBG] [3/paul-ubuntu] [o0i5c2] Result for 39: 99.2444 (0) (0.0698s+)\u001b[0m\r\n\u001b[36m[2018-08-23 09:12:07] [DBG] [1/paul-ubuntu] [o0i5c1] Result for 38: 79.9675 (0) (0.0804s+)\u001b[0m\r\n"
     ]
    },
    {
     "name": "stdout",
     "output_type": "stream",
     "text": [
      "\u001b[36m[2018-08-23 09:12:07] [DBG] [2/paul-ubuntu] Message received after waiting 0.009785s.\u001b[0m\r\n"
     ]
    },
    {
     "name": "stdout",
     "output_type": "stream",
     "text": [
      "\u001b[36m[2018-08-23 09:12:07] [DBG] [2/paul-ubuntu] [o0i5c3] Result for 40: 86.6769 (0) (0.0461s+)\u001b[0m\r\n"
     ]
    },
    {
     "name": "stdout",
     "output_type": "stream",
     "text": [
      "callbacks.cc:105    5: f:-3.626857e+02 d: 1.05e-02 g: 1.80e+00 h: 8.60e-02 s: 2.16e-01 e:  1 it: 2.97e-01 tt: 2.34e+00\r\n\u001b[32m[2018-08-23 09:12:07] [INF] [0/paul-ubuntu] [o0i5] iter: 5 cost: -362.686 time_iter: wall: 0.298313s cpu: 0.547637s time_optim: wall: 2.34575s cpu: 4.19832s\u001b[0m\r\n\u001b[36m[2018-08-23 09:12:07] [DBG] [2/paul-ubuntu] Message received after waiting 0.013349s.\u001b[0m\r\n\u001b[36m[2018-08-23 09:12:07] [DBG] [2/paul-ubuntu] [o0i6c0] Result for 41: -8997.28 (0) (0.0009s-)\u001b[0m\r\n\u001b[36m[2018-08-23 09:12:07] [DBG] [2/paul-ubuntu] [o0i6c1] Result for 41: -15928.6 (0) (0.0089s-)\u001b[0m\r\n"
     ]
    },
    {
     "name": "stdout",
     "output_type": "stream",
     "text": [
      "\u001b[36m[2018-08-23 09:12:07] [DBG] [2/paul-ubuntu] [o0i6c2] Result for 41: -9170.6 (0) (0.0007s-)\u001b[0m\r\n\u001b[36m[2018-08-23 09:12:07] [DBG] [2/paul-ubuntu] [o0i6c3] Result for 41: -16155.1 (0) (0.0008s-)\u001b[0m\r\n\u001b[36m[2018-08-23 09:12:07] [DBG] [2/paul-ubuntu] Message received after waiting 0.003881s.\u001b[0m\r\n\u001b[36m[2018-08-23 09:12:07] [DBG] [1/paul-ubuntu] Message received after waiting 0.180691s.\u001b[0m\r\n\u001b[36m[2018-08-23 09:12:07] [DBG] [3/paul-ubuntu] Message received after waiting 0.166969s.\u001b[0m\r\n"
     ]
    },
    {
     "name": "stdout",
     "output_type": "stream",
     "text": [
      "\u001b[36m[2018-08-23 09:12:07] [DBG] [2/paul-ubuntu] [o0i6c0] Result for 42: 96.8395 (0) (0.0364s+)\u001b[0m\r\n\u001b[36m[2018-08-23 09:12:07] [DBG] [1/paul-ubuntu] [o0i6c1] Result for 43: 79.9193 (0) (0.0617s+)\u001b[0m\r\n\u001b[36m[2018-08-23 09:12:07] [DBG] [3/paul-ubuntu] [o0i6c2] Result for 44: 99.2991 (0) (0.0720s+)\u001b[0m\r\n"
     ]
    },
    {
     "name": "stdout",
     "output_type": "stream",
     "text": [
      "\u001b[36m[2018-08-23 09:12:07] [DBG] [3/paul-ubuntu] Message received after waiting 0.034789s.\u001b[0m\r\n"
     ]
    },
    {
     "name": "stdout",
     "output_type": "stream",
     "text": [
      "\u001b[36m[2018-08-23 09:12:07] [DBG] [3/paul-ubuntu] [o0i6c3] Result for 45: 86.6469 (0) (0.0607s+)\u001b[0m\r\n"
     ]
    },
    {
     "name": "stdout",
     "output_type": "stream",
     "text": [
      "callbacks.cc:105    6: f:-3.627047e+02 d: 1.90e-02 g: 1.40e+00 h: 1.19e-02 s: 1.21e-01 e:  1 it: 3.11e-01 tt: 2.65e+00\r\n\u001b[32m[2018-08-23 09:12:07] [INF] [0/paul-ubuntu] [o0i6] iter: 6 cost: -362.705 time_iter: wall: 0.313017s cpu: 0.540881s time_optim: wall: 2.65876s cpu: 4.7392s\u001b[0m\r\n\u001b[36m[2018-08-23 09:12:07] [DBG] [3/paul-ubuntu] Message received after waiting 0.016401s.\u001b[0m\r\n\u001b[36m[2018-08-23 09:12:07] [DBG] [3/paul-ubuntu] [o0i7c0] Result for 46: -8995.19 (0) (0.0007s-)\u001b[0m\r\n\u001b[36m[2018-08-23 09:12:07] [DBG] [3/paul-ubuntu] [o0i7c1] Result for 46: -15926 (0) (0.0007s-)\u001b[0m\r\n\u001b[36m[2018-08-23 09:12:08] [DBG] [3/paul-ubuntu] [o0i7c2] Result for 46: -9168.46 (0) (0.0087s-)\u001b[0m"
     ]
    },
    {
     "name": "stdout",
     "output_type": "stream",
     "text": [
      "\r\n\u001b[36m[2018-08-23 09:12:08] [DBG] [3/paul-ubuntu] [o0i7c3] Result for 46: -16152.4 (0) (0.0058s-)\u001b[0m\r\n\u001b[36m[2018-08-23 09:12:08] [DBG] [1/paul-ubuntu] Message received after waiting 0.208215s.\u001b[0m\r\n\u001b[36m[2018-08-23 09:12:08] [DBG] [3/paul-ubuntu] Message received after waiting 0.000005s.\u001b[0m\r\n\u001b[36m[2018-08-23 09:12:08] [DBG] [2/paul-ubuntu] Message received after waiting 0.198420s.\u001b[0m\r\n"
     ]
    },
    {
     "name": "stdout",
     "output_type": "stream",
     "text": [
      "\u001b[36m[2018-08-23 09:12:08] [DBG] [3/paul-ubuntu] [o0i7c0] Result for 47: 96.9232 (0) (0.0398s+)\u001b[0m\r\n\u001b[36m[2018-08-23 09:12:08] [DBG] [2/paul-ubuntu] [o0i7c2] Result for 49: 99.4308 (0) (0.0610s+)\u001b[0m\r\n\u001b[36m[2018-08-23 09:12:08] [DBG] [1/paul-ubuntu] [o0i7c1] Result for 48: 79.8088 (0) (0.0682s+)\u001b[0m\r\n"
     ]
    },
    {
     "name": "stdout",
     "output_type": "stream",
     "text": [
      "\u001b[36m[2018-08-23 09:12:08] [DBG] [3/paul-ubuntu] Message received after waiting 0.011788s.\u001b[0m\r\n"
     ]
    },
    {
     "name": "stdout",
     "output_type": "stream",
     "text": [
      "\u001b[36m[2018-08-23 09:12:08] [DBG] [3/paul-ubuntu] [o0i7c3] Result for 50: 86.5704 (0) (0.0671s+)\u001b[0m"
     ]
    },
    {
     "name": "stdout",
     "output_type": "stream",
     "text": [
      "\r\ncallbacks.cc:105    7: f:-3.627331e+02 d: 2.84e-02 g: 6.81e-01 h: 2.63e-02 s: 5.20e-01 e:  1 it: 2.89e-01 tt: 2.95e+00\r\n\u001b[32m[2018-08-23 09:12:08] [INF] [0/paul-ubuntu] [o0i7] iter: 7 cost: -362.733 time_iter: wall: 0.29398s cpu: 0.523664s time_optim: wall: 2.95274s cpu: 5.26286s\u001b[0m\r\n"
     ]
    },
    {
     "name": "stdout",
     "output_type": "stream",
     "text": [
      "\u001b[36m[2018-08-23 09:12:08] [DBG] [3/paul-ubuntu] Message received after waiting 0.028579s.\u001b[0m\r\n\u001b[36m[2018-08-23 09:12:08] [DBG] [3/paul-ubuntu] [o0i8c0] Result for 51: -8993.23 (0) (0.0009s-)\u001b[0m\r\n\u001b[36m[2018-08-23 09:12:08] [DBG] [3/paul-ubuntu] [o0i8c1] Result for 51: -15923.5 (0) (0.0007s-)\u001b[0m\r\n\u001b[36m[2018-08-23 09:12:08] [DBG] [3/paul-ubuntu] [o0i8c2] Result for 51: -9166.44 (0) (0.0023s-)\u001b[0m\r\n\u001b[36m[2018-08-23 09:12:08] [DBG] [3/paul-ubuntu] [o0i8c3] Result for 51: -16149.9 (0) (0.0008s-)\u001b[0m\r\n\u001b[36m[2018-08-23 09:12:08] [DBG] [3/paul-ubuntu] Message received after waiting 0.000762s.\u001b[0m\r\n\u001b[36m[2018-08-23 09:12:08] [DBG] [2/paul-ubuntu] Message received after waiting 0.187113s.\u001b[0m\r\n\u001b[36m[2018-08-23 09:12:08] [DBG] [1/paul-ubuntu] Message received after waiting 0.184717s.\u001b[0m\r\n"
     ]
    },
    {
     "name": "stdout",
     "output_type": "stream",
     "text": [
      "\u001b[36m[2018-08-23 09:12:08] [DBG] [3/paul-ubuntu] [o0i8c0] Result for 52: 97.0007 (0) (0.0517s+)\u001b[0m\r\n\u001b[36m[2018-08-23 09:12:08] [DBG] [2/paul-ubuntu] [o0i8c2] Result for 54: 99.5565 (0) (0.0780s+)\u001b[0m\r\n\u001b[36m[2018-08-23 09:12:08] [DBG] [1/paul-ubuntu] [o0i8c1] Result for 53: 79.6922 (0) (0.1076s+)\u001b[0m"
     ]
    },
    {
     "name": "stdout",
     "output_type": "stream",
     "text": [
      "\r\n\u001b[36m[2018-08-23 09:12:08] [DBG] [2/paul-ubuntu] Message received after waiting 0.027781s.\u001b[0m\r\n"
     ]
    },
    {
     "name": "stdout",
     "output_type": "stream",
     "text": [
      "\u001b[36m[2018-08-23 09:12:08] [DBG] [2/paul-ubuntu] [o0i8c3] Result for 55: 86.4934 (0) (0.0565s+)\u001b[0m\r\n"
     ]
    },
    {
     "name": "stdout",
     "output_type": "stream",
     "text": [
      "callbacks.cc:105    8: f:-3.627428e+02 d: 9.65e-03 g: 5.67e-02 h: 2.59e-02 s: 1.00e+00 e:  1 it: 3.13e-01 tt: 3.26e+00\r\n\u001b[32m[2018-08-23 09:12:08] [INF] [0/paul-ubuntu] [o0i8] iter: 8 cost: -362.743 time_iter: wall: 0.313655s cpu: 0.60592s time_optim: wall: 3.2664s cpu: 5.86878s\u001b[0m\r\n\u001b[36m[2018-08-23 09:12:08] [DBG] [2/paul-ubuntu] Message received after waiting 0.006440s.\u001b[0m\r\n\u001b[36m[2018-08-23 09:12:08] [DBG] [2/paul-ubuntu] [o0i9c0] Result for 56: -8993.18 (0) (0.0007s-)\u001b[0m\r\n\u001b[36m[2018-08-23 09:12:08] [DBG] [2/paul-ubuntu] [o0i9c1] Result for 56: -15923.4 (0) (0.0007s-)\u001b[0m\r\n"
     ]
    },
    {
     "name": "stdout",
     "output_type": "stream",
     "text": [
      "\u001b[36m[2018-08-23 09:12:08] [DBG] [2/paul-ubuntu] [o0i9c2] Result for 56: -9166.38 (0) (0.0008s-)\u001b[0m\r\n\u001b[36m[2018-08-23 09:12:08] [DBG] [2/paul-ubuntu] [o0i9c3] Result for 56: -16149.8 (0) (0.0008s-)\u001b[0m\r\n\u001b[36m[2018-08-23 09:12:08] [DBG] [2/paul-ubuntu] Message received after waiting 0.000006s.\u001b[0m\r\n\u001b[36m[2018-08-23 09:12:08] [DBG] [1/paul-ubuntu] Message received after waiting 0.175989s.\u001b[0m\r\n\u001b[36m[2018-08-23 09:12:08] [DBG] [3/paul-ubuntu] Message received after waiting 0.168933s.\u001b[0m\r\n"
     ]
    },
    {
     "name": "stdout",
     "output_type": "stream",
     "text": [
      "\u001b[36m[2018-08-23 09:12:08] [DBG] [2/paul-ubuntu] [o0i9c0] Result for 57: 97.0039 (0) (0.0445s+)\u001b[0m\r\n\u001b[36m[2018-08-23 09:12:08] [DBG] [3/paul-ubuntu] [o0i9c2] Result for 59: 99.5604 (0) (0.0601s+)\u001b[0m\r\n\u001b[36m[2018-08-23 09:12:08] [DBG] [1/paul-ubuntu] [o0i9c1] Result for 58: 79.6858 (0) (0.0748s+)\u001b[0m\r\n"
     ]
    },
    {
     "name": "stdout",
     "output_type": "stream",
     "text": [
      "\u001b[36m[2018-08-23 09:12:08] [DBG] [3/paul-ubuntu] Message received after waiting 0.029854s.\u001b[0m\r\n"
     ]
    },
    {
     "name": "stdout",
     "output_type": "stream",
     "text": [
      "\u001b[36m[2018-08-23 09:12:08] [DBG] [3/paul-ubuntu] [o0i9c3] Result for 60: 86.4927 (0) (0.0703s+)\u001b[0m"
     ]
    },
    {
     "name": "stdout",
     "output_type": "stream",
     "text": [
      "\r\ncallbacks.cc:105    9: f:-3.627428e+02 d: 2.35e-05 g: 7.48e-03 h: 1.28e-03 s: 1.00e+00 e:  1 it: 2.63e-01 tt: 3.53e+00\r\n\u001b[32m[2018-08-23 09:12:08] [INF] [0/paul-ubuntu] [o0i9] iter: 9 cost: -362.743 time_iter: wall: 0.263639s cpu: 0.511374s time_optim: wall: 3.53004s cpu: 6.38016s\u001b[0m\r\n"
     ]
    },
    {
     "name": "stdout",
     "output_type": "stream",
     "text": [
      "\u001b[36m[2018-08-23 09:12:08] [DBG] [3/paul-ubuntu] Message received after waiting 0.038836s.\u001b[0m\r\n\u001b[36m[2018-08-23 09:12:08] [DBG] [3/paul-ubuntu] [o0i10c0] Result for 61: -8993.18 (0) (0.0008s-)\u001b[0m\r\n\u001b[36m[2018-08-23 09:12:08] [DBG] [3/paul-ubuntu] [o0i10c1] Result for 61: -15923.4 (0) (0.0008s-)\u001b[0m\r\n\u001b[36m[2018-08-23 09:12:08] [DBG] [3/paul-ubuntu] [o0i10c2] Result for 61: -9166.38 (0) (0.0009s-)\u001b[0m\r\n\u001b[36m[2018-08-23 09:12:08] [DBG] [3/paul-ubuntu] [o0i10c3] Result for 61: -16149.8 (0) (0.0053s-)\u001b[0m\r\n\u001b[36m[2018-08-23 09:12:08] [DBG] [1/paul-ubuntu] Message received after waiting 0.182901s.\u001b[0m"
     ]
    },
    {
     "name": "stdout",
     "output_type": "stream",
     "text": [
      "\r\n\u001b[36m[2018-08-23 09:12:08] [DBG] [3/paul-ubuntu] Message received after waiting 0.000005s.\u001b[0m\r\n\u001b[36m[2018-08-23 09:12:08] [DBG] [2/paul-ubuntu] Message received after waiting 0.175572s.\u001b[0m\r\n"
     ]
    },
    {
     "name": "stdout",
     "output_type": "stream",
     "text": [
      "\u001b[36m[2018-08-23 09:12:08] [DBG] [2/paul-ubuntu] [o0i10c2] Result for 64: 99.5607 (0) (0.0685s+)\u001b[0m\r\n\u001b[36m[2018-08-23 09:12:09] [DBG] [1/paul-ubuntu] [o0i10c1] Result for 63: 79.6854 (0) (0.0715s+)\u001b[0m\r\n\u001b[36m[2018-08-23 09:12:09] [DBG] [3/paul-ubuntu] [o0i10c0] Result for 62: 97.004 (0) (0.0817s+)\u001b[0m"
     ]
    },
    {
     "name": "stdout",
     "output_type": "stream",
     "text": [
      "\r\n\u001b[36m[2018-08-23 09:12:09] [DBG] [3/paul-ubuntu] Message received after waiting 0.029125s.\u001b[0m\r\n"
     ]
    },
    {
     "name": "stdout",
     "output_type": "stream",
     "text": [
      "\u001b[36m[2018-08-23 09:12:09] [DBG] [3/paul-ubuntu] [o0i10c3] Result for 65: 86.4927 (0) (0.0554s+)\u001b[0m\r\n"
     ]
    },
    {
     "name": "stdout",
     "output_type": "stream",
     "text": [
      "callbacks.cc:105   10: f:-3.627428e+02 d: 1.08e-07 g: 2.38e-03 h: 8.86e-05 s: 1.00e+00 e:  1 it: 3.60e-01 tt: 3.89e+00\r\n\u001b[32m[2018-08-23 09:12:09] [INF] [0/paul-ubuntu] [o0i10] iter: 10 cost: -362.743 time_iter: wall: 0.360571s cpu: 0.63588s time_optim: wall: 3.89061s cpu: 7.01604s\u001b[0m\r\n\u001b[36m[2018-08-23 09:12:09] [DBG] [3/paul-ubuntu] Message received after waiting 0.010307s.\u001b[0m\r\n\u001b[36m[2018-08-23 09:12:09] [DBG] [3/paul-ubuntu] [o0i11c0] Result for 66: -8993.18 (0) (0.0022s-)\u001b[0m\r\n\u001b[36m[2018-08-23 09:12:09] [DBG] [3/paul-ubuntu] [o0i11c1] Result for 66: -15923.4 (0) (0.0007s-)\u001b[0m\r\n\u001b[36m[2018-08-23 09:12:09] [DBG] [3/paul-ubuntu] [o0i11c2] Result for 66: -9166.38 (0) (0.0008s-)\u001b[0m\r\n\u001b[36m[2018-08-23 09:12:09] [DBG] [3/paul-ubuntu] [o0i11c3] Result for 66: -16149.8 (0) (0.0008s-)\u001b[0m\r\n"
     ]
    },
    {
     "name": "stdout",
     "output_type": "stream",
     "text": [
      "\u001b[36m[2018-08-23 09:12:09] [DBG] [3/paul-ubuntu] Message received after waiting 0.000008s.\u001b[0m\r\n\u001b[36m[2018-08-23 09:12:09] [DBG] [1/paul-ubuntu] Message received after waiting 0.196969s.\u001b[0m\r\n\u001b[36m[2018-08-23 09:12:09] [DBG] [2/paul-ubuntu] Message received after waiting 0.198476s.\u001b[0m\r\n"
     ]
    },
    {
     "name": "stdout",
     "output_type": "stream",
     "text": [
      "\u001b[36m[2018-08-23 09:12:09] [DBG] [1/paul-ubuntu] [o0i11c1] Result for 68: 79.6853 (0) (0.0470s+)\u001b[0m\r\n\u001b[36m[2018-08-23 09:12:09] [DBG] [2/paul-ubuntu] [o0i11c2] Result for 69: 99.5608 (0) (0.0630s+)\u001b[0m\r\n\u001b[36m[2018-08-23 09:12:09] [DBG] [3/paul-ubuntu] [o0i11c0] Result for 67: 97.004 (0) (0.0729s+)\u001b[0m\r\n"
     ]
    },
    {
     "name": "stdout",
     "output_type": "stream",
     "text": [
      "\u001b[36m[2018-08-23 09:12:09] [DBG] [2/paul-ubuntu] Message received after waiting 0.043059s.\u001b[0m\r\n"
     ]
    },
    {
     "name": "stdout",
     "output_type": "stream",
     "text": [
      "\u001b[36m[2018-08-23 09:12:09] [DBG] [2/paul-ubuntu] [o0i11c3] Result for 70: 86.4928 (0) (0.0458s+)\u001b[0m\r\n"
     ]
    },
    {
     "name": "stdout",
     "output_type": "stream",
     "text": [
      "\u001b[32m[2018-08-23 09:12:09] [INF] [0/paul-ubuntu] [o0i11] iter: 11 cost: -362.743 time_iter: wall: 0.267541s cpu: 0.494823s time_optim: wall: 4.15815s cpu: 7.51086s\u001b[0m\r\ncallbacks.cc:105   11: f:-3.627428e+02 d: 1.30e-08 g: 1.68e-04 h: 4.34e-05 s: 1.00e+00 e:  1 it: 2.67e-01 tt: 4.15e+00\r\n\u001b[36m[2018-08-23 09:12:09] [DBG] [2/paul-ubuntu] Message received after waiting 0.035877s.\u001b[0m\r\n\u001b[36m[2018-08-23 09:12:09] [DBG] [2/paul-ubuntu] [o0i12c0] Result for 71: -8993.18 (0) (0.0008s-)\u001b[0m\r\n"
     ]
    },
    {
     "name": "stdout",
     "output_type": "stream",
     "text": [
      "\u001b[36m[2018-08-23 09:12:09] [DBG] [2/paul-ubuntu] [o0i12c1] Result for 71: -15923.4 (0) (0.0008s-)\u001b[0m\r\n\u001b[36m[2018-08-23 09:12:09] [DBG] [2/paul-ubuntu] [o0i12c2] Result for 71: -9166.38 (0) (0.0007s-)\u001b[0m\r\n\u001b[36m[2018-08-23 09:12:09] [DBG] [2/paul-ubuntu] [o0i12c3] Result for 71: -16149.8 (0) (0.0061s-)\u001b[0m\r\n\u001b[36m[2018-08-23 09:12:09] [DBG] [1/paul-ubuntu] Message received after waiting 0.179488s.\u001b[0m\r\n\u001b[36m[2018-08-23 09:12:09] [DBG] [2/paul-ubuntu] Message received after waiting 0.000299s.\u001b[0m\r\n\u001b[36m[2018-08-23 09:12:09] [DBG] [3/paul-ubuntu] Message received after waiting 0.167386s.\u001b[0m\r\n"
     ]
    },
    {
     "name": "stdout",
     "output_type": "stream",
     "text": [
      "\u001b[36m[2018-08-23 09:12:09] [DBG] [2/paul-ubuntu] [o0i12c0] Result for 72: 97.004 (0) (0.0605s+)\u001b[0m\r\n"
     ]
    },
    {
     "name": "stdout",
     "output_type": "stream",
     "text": [
      "\u001b[36m[2018-08-23 09:12:09] [DBG] [1/paul-ubuntu] [o0i12c1] Result for 73: 79.6853 (0) (0.0750s+)\u001b[0m\r\n\u001b[36m[2018-08-23 09:12:09] [DBG] [3/paul-ubuntu] [o0i12c2] Result for 74: 99.5608 (0) (0.0950s+)\u001b[0m\r\n"
     ]
    },
    {
     "name": "stdout",
     "output_type": "stream",
     "text": [
      "\u001b[36m[2018-08-23 09:12:09] [DBG] [2/paul-ubuntu] Message received after waiting 0.009087s.\u001b[0m\r\n"
     ]
    },
    {
     "name": "stdout",
     "output_type": "stream",
     "text": [
      "\u001b[36m[2018-08-23 09:12:09] [DBG] [2/paul-ubuntu] [o0i12c3] Result for 75: 86.4928 (0) (0.0686s+)\u001b[0m\r\n"
     ]
    },
    {
     "name": "stdout",
     "output_type": "stream",
     "text": [
      "callbacks.cc:105   12: f:-3.627428e+02 d: 1.79e-10 g: 1.49e-05 h: 3.57e-06 s: 1.00e+00 e:  1 it: 3.69e-01 tt: 4.52e+00\r\n\u001b[32m[2018-08-23 09:12:09] [INF] [0/paul-ubuntu] [o0i12] iter: 12 cost: -362.743 time_iter: wall: 0.369375s cpu: 0.666421s time_optim: wall: 4.52753s cpu: 8.17728s\u001b[0m\r\n\u001b[36m[2018-08-23 09:12:09] [DBG] [2/paul-ubuntu] Message received after waiting 0.024825s.\u001b[0m\r\n\u001b[36m[2018-08-23 09:12:09] [DBG] [2/paul-ubuntu] [o0i13c0] Result for 76: -8993.18 (0) (0.0070s-)\u001b[0m\r\n"
     ]
    },
    {
     "name": "stdout",
     "output_type": "stream",
     "text": [
      "\u001b[36m[2018-08-23 09:12:09] [DBG] [2/paul-ubuntu] [o0i13c1] Result for 76: -15923.4 (0) (0.0008s-)\u001b[0m\r\n\u001b[36m[2018-08-23 09:12:09] [DBG] [2/paul-ubuntu] [o0i13c2] Result for 76: -9166.38 (0) (0.0011s-)\u001b[0m\r\n\u001b[36m[2018-08-23 09:12:09] [DBG] [2/paul-ubuntu] [o0i13c3] Result for 76: -16149.8 (0) (0.0008s-)\u001b[0m\r\n\u001b[36m[2018-08-23 09:12:09] [DBG] [2/paul-ubuntu] Message received after waiting 0.000994s.\u001b[0m\r\n\u001b[36m[2018-08-23 09:12:09] [DBG] [1/paul-ubuntu] Message received after waiting 0.239028s.\u001b[0m\r\n\u001b[36m[2018-08-23 09:12:09] [DBG] [3/paul-ubuntu] Message received after waiting 0.236871s.\u001b[0m\r\n"
     ]
    },
    {
     "name": "stdout",
     "output_type": "stream",
     "text": [
      "\u001b[36m[2018-08-23 09:12:09] [DBG] [1/paul-ubuntu] [o0i13c1] Result for 78: 79.6853 (0) (0.0442s+)\u001b[0m\r\n\u001b[36m[2018-08-23 09:12:09] [DBG] [2/paul-ubuntu] [o0i13c0] Result for 77: 97.004 (0) (0.0601s+)\u001b[0m\r\n\u001b[36m[2018-08-23 09:12:09] [DBG] [3/paul-ubuntu] [o0i13c2] Result for 79: 99.5608 (0) (0.0480s+)\u001b[0m"
     ]
    },
    {
     "name": "stdout",
     "output_type": "stream",
     "text": [
      "\r\n\u001b[36m[2018-08-23 09:12:10] [DBG] [1/paul-ubuntu] Message received after waiting 0.032200s.\u001b[0m\r\n"
     ]
    },
    {
     "name": "stdout",
     "output_type": "stream",
     "text": [
      "\u001b[36m[2018-08-23 09:12:10] [DBG] [1/paul-ubuntu] [o0i13c3] Result for 80: 86.4928 (0) (0.0574s+)\u001b[0m\r\ncallbacks.cc:105   13: f:-3.627428e+02 d: 5.57e-12 g: 4.10e-07 h: 2.44e-07 s: 1.00e+00 e:  1 it: 2.83e-01 tt: 4.81e+00\r\n\u001b[32m[2018-08-23 09:12:10] [INF] [0/paul-ubuntu] [o0i13] iter: 13 cost: -362.743 time_iter: wall: 0.284551s cpu: 0.492018s time_optim: wall: 4.81208s cpu: 8.6693s\u001b[0m\r\n"
     ]
    },
    {
     "name": "stdout",
     "output_type": "stream",
     "text": [
      "\u001b[36m[2018-08-23 09:12:10] [DBG] [1/paul-ubuntu] Message received after waiting 0.040431s.\u001b[0m\r\n\u001b[36m[2018-08-23 09:12:10] [DBG] [1/paul-ubuntu] [o0i14c0] Result for 81: -8993.18 (0) (0.0008s-)\u001b[0m\r\n\u001b[36m[2018-08-23 09:12:10] [DBG] [1/paul-ubuntu] [o0i14c1] Result for 81: -15923.4 (0) (0.0010s-)\u001b[0m\r\n\u001b[36m[2018-08-23 09:12:10] [DBG] [1/paul-ubuntu] [o0i14c2] Result for 81: -9166.38 (0) (0.0009s-)\u001b[0m\r\n\u001b[36m[2018-08-23 09:12:10] [DBG] [1/paul-ubuntu] [o0i14c3] Result for 81: -16149.8 (0) (0.0078s-)\u001b[0m\r\n"
     ]
    },
    {
     "name": "stdout",
     "output_type": "stream",
     "text": [
      "\u001b[36m[2018-08-23 09:12:10] [DBG] [1/paul-ubuntu] Message received after waiting 0.000010s.\u001b[0m\r\n\u001b[36m[2018-08-23 09:12:10] [DBG] [2/paul-ubuntu] Message received after waiting 0.178712s.\u001b[0m\r\n\u001b[36m[2018-08-23 09:12:10] [DBG] [3/paul-ubuntu] Message received after waiting 0.156171s.\u001b[0m\r\n"
     ]
    },
    {
     "name": "stdout",
     "output_type": "stream",
     "text": [
      "\u001b[36m[2018-08-23 09:12:10] [DBG] [1/paul-ubuntu] [o0i14c0] Result for 82: 97.004 (0) (0.0656s+)\u001b[0m\r\n\u001b[36m[2018-08-23 09:12:10] [DBG] [2/paul-ubuntu] [o0i14c1] Result for 83: 79.6853 (0) (0.0856s+)\u001b[0m\r\n\u001b[36m[2018-08-23 09:12:10] [DBG] [3/paul-ubuntu] [o0i14c2] Result for 84: 99.5608 (0) (0.0811s+)\u001b[0m\r\n"
     ]
    },
    {
     "name": "stdout",
     "output_type": "stream",
     "text": [
      "\u001b[36m[2018-08-23 09:12:10] [DBG] [1/paul-ubuntu] Message received after waiting 0.018305s.\u001b[0m\r\n"
     ]
    },
    {
     "name": "stdout",
     "output_type": "stream",
     "text": [
      "\u001b[36m[2018-08-23 09:12:10] [DBG] [1/paul-ubuntu] [o0i14c3] Result for 85: 86.4928 (0) (0.0500s+)\u001b[0m\r\n"
     ]
    },
    {
     "name": "stdout",
     "output_type": "stream",
     "text": [
      "\u001b[36m[2018-08-23 09:12:10] [DBG] [1/paul-ubuntu] Message received after waiting 0.015664s.\u001b[0m\r\n\u001b[36m[2018-08-23 09:12:10] [DBG] [1/paul-ubuntu] [o0i14c0] Result for 86: -8993.18 (0) (0.0047s-)\u001b[0m\r\n\u001b[36m[2018-08-23 09:12:10] [DBG] [1/paul-ubuntu] [o0i14c1] Result for 86: -15923.4 (0) (0.0084s-)\u001b[0m\r\n\u001b[36m[2018-08-23 09:12:10] [DBG] [1/paul-ubuntu] [o0i14c2] Result for 86: -9166.38 (0) (0.0008s-)\u001b[0m\r\n\u001b[36m[2018-08-23 09:12:10] [DBG] [1/paul-ubuntu] [o0i14c3] Result for 86: -16149.8 (0) (0.0011s-)\u001b[0m\r\n\u001b[36m[2018-08-23 09:12:10] [DBG] [1/paul-ubuntu] Message received after waiting 0.000005s.\u001b[0m"
     ]
    },
    {
     "name": "stdout",
     "output_type": "stream",
     "text": [
      "\r\n\u001b[36m[2018-08-23 09:12:10] [DBG] [2/paul-ubuntu] Message received after waiting 0.172057s.\u001b[0m\r\n\u001b[36m[2018-08-23 09:12:10] [DBG] [3/paul-ubuntu] Message received after waiting 0.169632s.\u001b[0m\r\n"
     ]
    },
    {
     "name": "stdout",
     "output_type": "stream",
     "text": [
      "\u001b[36m[2018-08-23 09:12:10] [DBG] [1/paul-ubuntu] [o0i14c0] Result for 87: 97.004 (0) (0.0692s+)\u001b[0m\r\n\u001b[36m[2018-08-23 09:12:10] [DBG] [2/paul-ubuntu] [o0i14c1] Result for 88: 79.6853 (0) (0.0726s+)\u001b[0m\r\n\u001b[36m[2018-08-23 09:12:10] [DBG] [3/paul-ubuntu] [o0i14c2] Result for 89: 99.5608 (0) (0.0793s+)\u001b[0m\r\n"
     ]
    },
    {
     "name": "stdout",
     "output_type": "stream",
     "text": [
      "\u001b[36m[2018-08-23 09:12:10] [DBG] [1/paul-ubuntu] Message received after waiting 0.011071s.\u001b[0m\r\n"
     ]
    },
    {
     "name": "stdout",
     "output_type": "stream",
     "text": [
      "\u001b[36m[2018-08-23 09:12:10] [DBG] [1/paul-ubuntu] [o0i14c3] Result for 90: 86.4928 (0) (0.0552s+)\u001b[0m\r\n"
     ]
    },
    {
     "name": "stdout",
     "output_type": "stream",
     "text": [
      "line_search.cc:758 Line search failed: Wolfe zoom bracket width: 0.00000e+00 too small with descent_direction_max_norm: 7.99573e-09.\r\nline_search_minimizer.cc:413 Terminating: Parameter tolerance reached. Relative step_norm: 0.000000e+00 <= 1.000000e-08.\r\n\u001b[32m[2018-08-23 09:12:10] [INF] [0/paul-ubuntu] [o0i14] Optimizer status 0, final llh: -3.627428e+02, time: wall: 5.440182 cpu: 9.853734.\u001b[0m\r\n"
     ]
    },
    {
     "name": "stdout",
     "output_type": "stream",
     "text": [
      "\u001b[36m[2018-08-23 09:12:11] [DBG] [0/paul-ubuntu] Thread ms #0 finished successfully\u001b[0m\r\n"
     ]
    },
    {
     "name": "stdout",
     "output_type": "stream",
     "text": [
      "\u001b[36m[2018-08-23 09:12:12] [DBG] [0/paul-ubuntu] runParallelMultiStartOptimization finished\u001b[0m\r\n\u001b[32m[2018-08-23 09:12:12] [INF] [0/paul-ubuntu] Walltime on master: 7.253745s, CPU time of all processes: 3.896450s\u001b[0m\r\n\u001b[32m[2018-08-23 09:12:12] [INF] [0/paul-ubuntu] Sent termination signal to workers.\u001b[0m\r\n"
     ]
    }
   ],
   "source": [
    "!cp example_data.h5 example_data_ceres.h5\n",
    "!../../../misc/optimizationOptions.py example_data_ceres.h5 -s optimizer 1\n",
    "!mpiexec -n 4 ../../../build/amici/examples/steadystate/example_steadystate_multi  -o deletemeceres/ example_data_ceres.h5\n"
   ]
  },
  {
   "cell_type": "code",
   "execution_count": 38,
   "metadata": {},
   "outputs": [
    {
     "name": "stdout",
     "output_type": "stream",
     "text": [
      "#  __Exp___ __Act___ __Err___ _RelErr___\n0: 1.000000 0.908622 -0.091378 -0.091378\n1: 0.500000 0.443363 -0.056637 -0.113274\n2: 0.400000 0.377745 -0.022255 -0.055639\n3: 2.000000 1.975561 -0.024439 -0.012220\n4: 0.100000 0.081736 -0.018264 -0.182642\n5: 2.000000 2.002610 0.002610 0.001305\n6: 3.000000 3.010373 0.010373 0.003458\n7: 0.200000 0.207911 0.007911 0.039553\n8: 4.000000 4.000484 0.000484 0.000121\nStatus: 0\nCost: -362.742805 (expected: -0.000000)\n"
     ]
    }
   ],
   "source": [
    "compareResults('deletemeceres/_rank00000.h5', -expectedLlh)"
   ]
  },
  {
   "cell_type": "markdown",
   "metadata": {},
   "source": [
    "# TODO\n",
    "\n",
    "## preeequilibration\n",
    "## different optimizers\n",
    "## improve timing"
   ]
  },
  {
   "cell_type": "code",
   "execution_count": 39,
   "metadata": {},
   "outputs": [
    {
     "data": {
      "text/plain": [
       "['p1',\n",
       " 'p2',\n",
       " 'p3',\n",
       " 'p4',\n",
       " 'p5',\n",
       " 'scaling_x1',\n",
       " 'offset_x2',\n",
       " 'observable_x1withsigma_sigma']"
      ]
     },
     "execution_count": 36,
     "metadata": {},
     "output_type": "execute_result"
    },
    {
     "data": {
      "text/plain": [
       "['', '', '', '', '', '', '', '']"
      ]
     },
     "execution_count": 39,
     "metadata": {},
     "output_type": "execute_result"
    }
   ],
   "source": [
    "list(model.getParameterNames())"
   ]
  },
  {
   "cell_type": "code",
   "execution_count": null,
   "metadata": {},
   "outputs": [],
   "source": []
  },
  {
   "cell_type": "code",
   "execution_count": null,
   "metadata": {},
   "outputs": [],
   "source": []
  },
  {
   "cell_type": "code",
   "execution_count": null,
   "metadata": {},
   "outputs": [],
   "source": []
  }
 ],
 "metadata": {
  "kernelspec": {
   "display_name": "Python 3",
   "language": "python",
   "name": "python3"
  },
  "language_info": {
   "codemirror_mode": {
    "name": "ipython",
    "version": 3
   },
   "file_extension": ".py",
   "mimetype": "text/x-python",
   "name": "python",
   "nbconvert_exporter": "python",
   "pygments_lexer": "ipython3",
   "version": "3.6.5"
  }
 },
 "nbformat": 4,
 "nbformat_minor": 2
}
