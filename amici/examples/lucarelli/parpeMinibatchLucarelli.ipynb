{
 "cells": [
  {
   "cell_type": "markdown",
   "metadata": {},
   "source": [
    "# parPE Lucarelli example model"
   ]
  },
  {
   "cell_type": "code",
   "execution_count": 1,
   "metadata": {},
   "outputs": [],
   "source": [
    "import amici\n",
    "import os\n",
    "import sys\n",
    "import numpy as np\n",
    "import pandas as pd\n",
    "import matplotlib.pyplot as plt"
   ]
  },
  {
   "cell_type": "code",
   "execution_count": 2,
   "metadata": {},
   "outputs": [],
   "source": [
    "sbml_file = 'lucarelli_12.xml'\n",
    "model_name = 'lucarelli_12'\n",
    "model_output_dir = 'lucarelli_12'"
   ]
  },
  {
   "cell_type": "markdown",
   "metadata": {},
   "source": [
    "## Test simulation"
   ]
  },
  {
   "cell_type": "code",
   "execution_count": 3,
   "metadata": {},
   "outputs": [],
   "source": [
    "def plotStateTrajectories(rdata):\n",
    "    for ix in range(22,33):\n",
    "        plt.plot(rdata['t'], rdata['x'][:, ix], label='$x_%d$' % ix)\n",
    "        plt.xlabel('$t$ (s)')\n",
    "        plt.ylabel('$x_i(t)$ (mmol/ml)')\n",
    "        plt.legend()\n",
    "        plt.title('State trajectories')\n",
    "    plt.show()\n",
    "    \n",
    "def plotObservableTrajectories(rdata):\n",
    "    for iy in range(rdata['y'].shape[1]):\n",
    "        plt.plot(rdata['t'], rdata['y'][:, iy], label='$y_%d$' % iy)\n",
    "        plt.xlabel('$t$ (s)')\n",
    "        plt.ylabel('$y_i(t)$ (AU)')\n",
    "        plt.legend()\n",
    "        plt.title('Observables')\n",
    "    \n",
    "    plt.show()\n"
   ]
  },
  {
   "cell_type": "code",
   "execution_count": 4,
   "metadata": {},
   "outputs": [
    {
     "data": {
      "image/png": "[encoded data removed]",
      "text/plain": [
       "<Figure size 432x288 with 1 Axes>"
      ]
     },
     "metadata": {},
     "output_type": "display_data"
    },
    {
     "data": {
      "image/png": "[encoded data removed]",
      "text/plain": [
       "<Figure size 432x288 with 1 Axes>"
      ]
     },
     "metadata": {},
     "output_type": "display_data"
    }
   ],
   "source": [
    "# load model\n",
    "model_name = 'lucarelli_12'\n",
    "model_output_dir = 'lucarelli_12'\n",
    "\n",
    "sys.path.insert(0, model_output_dir)\n",
    "import lucarelli_12 as modelModule\n",
    "\n",
    "model = modelModule.getModel()\n",
    "model.setTimepoints(amici.DoubleVector(np.linspace(0, 250, 25))) \n",
    "solver = model.getSolver()\n",
    "rdata = amici.runAmiciSimulation(model, solver)\n",
    "\n",
    "default_parameters = np.array(model.getParameters())\n",
    "\n",
    "plotStateTrajectories(rdata)\n",
    "plotObservableTrajectories(rdata)\n"
   ]
  },
  {
   "cell_type": "markdown",
   "metadata": {},
   "source": [
    "## Prepare parameter estimation with minibatch optimizer\n",
    "\n",
    "- Simulate time-course for four different conditions\n",
    "- Add gaussian noise according to selected sigma parameter\n",
    "- Mimic 2 experimental batches: odd-numbered condition indices and even-numbered conditions have different offset parameter"
   ]
  },
  {
   "cell_type": "code",
   "execution_count": 5,
   "metadata": {},
   "outputs": [],
   "source": [
    "# write true parameters as first starting point, an perturbed additional points\n",
    "# two times the same point to check for reproducibility\n",
    "measurement_file = 'example_data.tsv'\n",
    "fixed_parameter_file = 'example_data_fixed.tsv'\n",
    "hdf5File = 'example_data.h5'\n",
    "true_parameters = default_parameters.copy()\n",
    "\n",
    "import h5py\n",
    "with h5py.File(hdf5File, 'r+') as f:\n",
    "    pscale = f['/parameters/pscale'][:]\n",
    "    true_parameters_scaled = true_parameters.copy()\n",
    "    for i, p in enumerate(pscale):\n",
    "        if p == 2:\n",
    "            if true_parameters[i] < 1e-10:\n",
    "                true_parameters_scaled[i] = -10.0\n",
    "            else:\n",
    "                true_parameters_scaled[i] = np.log10(true_parameters[i])\n",
    "    \n",
    "    for i in range(2):\n",
    "        parameters = true_parameters_scaled\n",
    "        # parameters = parameters + np.random.normal(0.0, 0.2 + i * 0.1, true_parameters.shape)\n",
    "        # parameters = np.random.uniform(-8, 4, true_parameters.shape)\n",
    "        \n",
    "        #print(parameters)\n",
    "        f['/optimizationOptions/randomStarts'][:,2*i]   = parameters\n",
    "        f['/optimizationOptions/randomStarts'][:,2*i+1] = parameters\n",
    "        \n",
    "hdf5FileMinibatch = 'example_data_minibatch.h5'\n",
    "!cp {hdf5File} {hdf5FileMinibatch}"
   ]
  },
  {
   "cell_type": "code",
   "execution_count": 6,
   "metadata": {},
   "outputs": [
    {
     "name": "stdout",
     "output_type": "stream",
     "text": [
      "                               numStarts            1\r\n",
      "                hierarchicalOptimization            0\r\n",
      "                               optimizer           10\r\n",
      "                       retryOptimization            0\r\n",
      "                ceres/max_num_iterations          100\r\n",
      "                         fmincon/MaxIter          100\r\n",
      "                            fmincon/TolX        1e-08\r\n",
      "                          fmincon/TolFun            0\r\n",
      "                     fmincon/MaxFunEvals   10000000.0\r\n",
      "                       fmincon/algorithm b'interior-point'\r\n",
      "                         fmincon/GradObj        b'on'\r\n",
      "                         fmincon/display      b'iter'\r\n",
      "                          ipopt/max_iter          100\r\n",
      "             ipopt/hessian_approximation b'limited-memory'\r\n",
      "        ipopt/limited_memory_update_type      b'bfgs'\r\n",
      "                               ipopt/tol        1e-09\r\n",
      "                   ipopt/acceptable_iter            1\r\n",
      "                    ipopt/acceptable_tol        1e+20\r\n",
      "         ipopt/acceptable_obj_change_tol        1e-12\r\n",
      "   ipopt/watchdog_shortened_iter_trigger            0\r\n",
      "                     minibatch/maxEpochs            5\r\n",
      "                     minibatch/batchSize            1\r\n",
      "              minibatch/parameterUpdater      b'Adam'\r\n",
      "        minibatch/learningRateInterpMode    b'linear'\r\n",
      "             minibatch/rescueInterceptor            0\r\n",
      "                          toms611/mxfcal  100000000.0\r\n"
     ]
    }
   ],
   "source": [
    "!../../../misc/optimizationOptions.py {hdf5FileMinibatch} -s numStarts 1\n",
    "!../../../misc/optimizationOptions.py {hdf5FileMinibatch} -s hierarchicalOptimization 0\n",
    "!../../../misc/optimizationOptions.py {hdf5FileMinibatch} -s optimizer 10 # minibatch\n",
    "!../../../misc/optimizationOptions.py {hdf5FileMinibatch} -s minibatch/maxEpochs 5\n",
    "!../../../misc/optimizationOptions.py {hdf5FileMinibatch} -s minibatch/batchSize 1\n",
    "!../../../misc/optimizationOptions.py {hdf5FileMinibatch} -s minibatch/parameterUpdater Adam\n",
    "!../../../misc/optimizationOptions.py {hdf5FileMinibatch} -s minibatch/learningRateInterpMode linear\n",
    "!../../../misc/optimizationOptions.py {hdf5FileMinibatch} -s minibatch/rescueInterceptor 0\n",
    "!../../../misc/optimizationOptions.py {hdf5FileMinibatch} -s retryOptimization 0\n",
    "!../../../misc/optimizationOptions.py {hdf5FileMinibatch}"
   ]
  },
  {
   "cell_type": "markdown",
   "metadata": {},
   "source": [
    "## Rebuild executables"
   ]
  },
  {
   "cell_type": "code",
   "execution_count": 28,
   "metadata": {
    "scrolled": false
   },
   "outputs": [
    {
     "name": "stdout",
     "output_type": "stream",
     "text": [
      "/home/paul/Documents/parpe/parPE/amici/examples/lucarelli\n",
      "[  5%] Built target parpecommon\n",
      "-- Found Git: /usr/bin/git (found version \"2.17.1\") \n",
      "\u001b[35m\u001b[1mScanning dependencies of target parpeoptimization\u001b[0m\n",
      "-- Building version parPE-v0.1.8-80-gcb17-dirty\n",
      "[ 23%] Built target lucarelli_12\n",
      "[ 41%] Built target model_steadystate_scaled\n",
      "[ 44%] Built target unittests_common\n",
      "[ 44%] Built target get_version\n",
      "[ 45%] Built target simulate_model_steadystate_scaled\n",
      "[ 47%] Built target parpeloadbalancer\n",
      "[ 48%] Built target simulate_lucarelli_12\n",
      "[ 49%] Built target example_loadbalancer\n",
      "[ 49%] \u001b[32mBuilding CXX object optimization/src/CMakeFiles/parpeoptimization.dir/optimizationProblem.cpp.o\u001b[0m\n",
      "[ 50%] \u001b[32mBuilding CXX object optimization/src/CMakeFiles/parpeoptimization.dir/minibatchOptimization.cpp.o\u001b[0m\n",
      "[ 52%] Built target unittests_loadbalancer\n",
      "\u001b[01m\u001b[K/home/paul/Documents/parpe/parPE/optimization/src/optimizationProblem.cpp:\u001b[m\u001b[K In function ‘\u001b[01m\u001b[Kvoid parpe::optimizationProblemGradientCheck(parpe::OptimizationProblem*, gsl::span<const int>, double)\u001b[m\u001b[K’:\n",
      "\u001b[01m\u001b[K/home/paul/Documents/parpe/parPE/optimization/src/optimizationProblem.cpp:96:23:\u001b[m\u001b[K \u001b[01;35m\u001b[Kwarning: \u001b[m\u001b[Kcomparison between signed and unsigned integer expressions [\u001b[01;35m\u001b[K-Wsign-compare\u001b[m\u001b[K]\n",
      "     for (int i = 0; \u001b[01;35m\u001b[Ki < parameterIndices.size()\u001b[m\u001b[K; ++i) {\n",
      "                     \u001b[01;35m\u001b[K~~^~~~~~~~~~~~~~~~~~~~~~~~~\u001b[m\u001b[K\n",
      "\u001b[01m\u001b[K/home/paul/Documents/parpe/parPE/optimization/src/optimizationProblem.cpp:106:16:\u001b[m\u001b[K \u001b[01;35m\u001b[Kwarning: \u001b[m\u001b[Kunused variable ‘\u001b[01m\u001b[Kfd_f\u001b[m\u001b[K’ [\u001b[01;35m\u001b[K-Wunused-variable\u001b[m\u001b[K]\n",
      "         double \u001b[01;35m\u001b[Kfd_f\u001b[m\u001b[K = (ff - fc) / epsilon;\n",
      "                \u001b[01;35m\u001b[K^~~~\u001b[m\u001b[K\n",
      "\u001b[01m\u001b[K/home/paul/Documents/parpe/parPE/optimization/src/optimizationProblem.cpp:108:16:\u001b[m\u001b[K \u001b[01;35m\u001b[Kwarning: \u001b[m\u001b[Kunused variable ‘\u001b[01m\u001b[Kfd_b\u001b[m\u001b[K’ [\u001b[01;35m\u001b[K-Wunused-variable\u001b[m\u001b[K]\n",
      "         double \u001b[01;35m\u001b[Kfd_b\u001b[m\u001b[K = (fc - fb) / epsilon;\n",
      "                \u001b[01;35m\u001b[K^~~~\u001b[m\u001b[K\n",
      "In file included from \u001b[01m\u001b[K/home/paul/Documents/parpe/parPE/optimization/src/minibatchOptimization.cpp:1:0\u001b[m\u001b[K:\n",
      "/home/paul/Documents/parpe/parPE/optimization/src/minibatchOptimization.h: In instantiation of ‘\u001b[01m\u001b[Kstd::tuple<int, double, std::vector<double, std::allocator<double> > > parpe::MinibatchOptimizer<BATCH_ELEMENT>::optimize(const parpe::SummedGradientFunction<T>&, gsl::span<const T>, gsl::span<const double>, gsl::span<const double>, gsl::span<const double>, parpe::OptimizationReporter*, parpe::Logger*) [with BATCH_ELEMENT = int]\u001b[m\u001b[K’:\n",
      "\u001b[01m\u001b[K/home/paul/Documents/parpe/parPE/optimization/src/minibatchOptimization.cpp:75:62:\u001b[m\u001b[K   required from here\n",
      "\u001b[01m\u001b[K/home/paul/Documents/parpe/parPE/optimization/src/minibatchOptimization.h:335:22:\u001b[m\u001b[K \u001b[01;35m\u001b[Kwarning: \u001b[m\u001b[Kunused variable ‘\u001b[01m\u001b[Kstatus\u001b[m\u001b[K’ [\u001b[01;35m\u001b[K-Wunused-variable\u001b[m\u001b[K]\n",
      "                 auto \u001b[01;35m\u001b[Kstatus\u001b[m\u001b[K = evaluate(f, parameters, dataSpan, cost, gradient, epochLogger.get(), reporter);\n",
      "                      \u001b[01;35m\u001b[K^~~~~~\u001b[m\u001b[K\n",
      "\u001b[01m\u001b[K/home/paul/Documents/parpe/parPE/optimization/src/minibatchOptimization.h:342:14:\u001b[m\u001b[K \u001b[01;35m\u001b[Kwarning: \u001b[m\u001b[Kunused variable ‘\u001b[01m\u001b[Kstatus\u001b[m\u001b[K’ [\u001b[01;35m\u001b[K-Wunused-variable\u001b[m\u001b[K]\n",
      "         auto \u001b[01;35m\u001b[Kstatus\u001b[m\u001b[K = evaluate(f, parameters, dataSpan, cost, gradient, &logger, reporter);\n",
      "              \u001b[01;35m\u001b[K^~~~~~\u001b[m\u001b[K\n",
      "/home/paul/Documents/parpe/parPE/optimization/src/minibatchOptimization.h: In instantiation of ‘\u001b[01m\u001b[Kparpe::FunctionEvaluationStatus parpe::MinibatchOptimizer<BATCH_ELEMENT>::rescueInterceptor(gsl::span<double>, gsl::span<double>, gsl::span<double>, gsl::span<double>, gsl::span<const double>, gsl::span<const double>, double&, int&, int, const parpe::SummedGradientFunction<T>&, std::vector<T>, parpe::Logger*, parpe::OptimizationReporter*) [with BATCH_ELEMENT = int]\u001b[m\u001b[K’:\n",
      "\u001b[01m\u001b[K/home/paul/Documents/parpe/parPE/optimization/src/minibatchOptimization.h:310:45:\u001b[m\u001b[K   required from ‘\u001b[01m\u001b[Kstd::tuple<int, double, std::vector<double, std::allocator<double> > > parpe::MinibatchOptimizer<BATCH_ELEMENT>::optimize(const parpe::SummedGradientFunction<T>&, gsl::span<const T>, gsl::span<const double>, gsl::span<const double>, gsl::span<const double>, parpe::OptimizationReporter*, parpe::Logger*) [with BATCH_ELEMENT = int]\u001b[m\u001b[K’\n",
      "\u001b[01m\u001b[K/home/paul/Documents/parpe/parPE/optimization/src/minibatchOptimization.cpp:75:62:\u001b[m\u001b[K   required from here\n",
      "\u001b[01m\u001b[K/home/paul/Documents/parpe/parPE/optimization/src/minibatchOptimization.h:477:12:\u001b[m\u001b[K \u001b[01;35m\u001b[Kwarning: \u001b[m\u001b[Kunused variable ‘\u001b[01m\u001b[Kstatus\u001b[m\u001b[K’ [\u001b[01;35m\u001b[K-Wunused-variable\u001b[m\u001b[K]\n",
      "       auto \u001b[01;35m\u001b[Kstatus\u001b[m\u001b[K = evaluate(f, parameters, datasets, cost, gradient, logger, reporter);\n",
      "            \u001b[01;35m\u001b[K^~~~~~\u001b[m\u001b[K\n",
      "[ 52%] \u001b[32m\u001b[1mLinking CXX static library libparpeoptimization-dbg.a\u001b[0m\n",
      "[ 57%] Built target parpeoptimization\n",
      "\u001b[35m\u001b[1mScanning dependencies of target unittests_optimization\u001b[0m\n",
      "\u001b[35m\u001b[1mScanning dependencies of target parpeamici\u001b[0m\n",
      "[ 58%] \u001b[32m\u001b[1mLinking CXX executable unittests_optimization_ipopt\u001b[0m\n",
      "[ 59%] \u001b[32m\u001b[1mLinking CXX executable unittests_optimization_ceres\u001b[0m\n",
      "[ 60%] \u001b[32m\u001b[1mLinking CXX executable example_steadystate\u001b[0m\n",
      "[ 61%] \u001b[32mBuilding CXX object amici/src/CMakeFiles/parpeamici.dir/multiConditionProblem.cpp.o\u001b[0m\n",
      "[ 62%] \u001b[32mBuilding CXX object optimization/tests/CMakeFiles/unittests_optimization.dir/__/src/minibatchOptimizationTest.cpp.o\u001b[0m\n",
      "[ 62%] \u001b[32mBuilding CXX object amici/src/CMakeFiles/parpeamici.dir/hierarchicalOptimization.cpp.o\u001b[0m\n",
      "[ 63%] \u001b[32mBuilding CXX object amici/src/CMakeFiles/parpeamici.dir/optimizationApplication.cpp.o\u001b[0m\n",
      "[ 64%] \u001b[32mBuilding CXX object amici/src/CMakeFiles/parpeamici.dir/standaloneSimulator.cpp.o\u001b[0m\n",
      "\u001b[01m\u001b[K/home/paul/Documents/parpe/parPE/optimization/src/minibatchOptimizationTest.cpp:\u001b[m\u001b[K In member function ‘\u001b[01m\u001b[Kvirtual void TEST_minibatchOptimization_updateParameters_Test::testBody()\u001b[m\u001b[K’:\n",
      "\u001b[01m\u001b[K/home/paul/Documents/parpe/parPE/optimization/src/minibatchOptimizationTest.cpp:61:12:\u001b[m\u001b[K \u001b[01;35m\u001b[Kwarning: \u001b[m\u001b[Kunused variable ‘\u001b[01m\u001b[KlearningRate\u001b[m\u001b[K’ [\u001b[01;35m\u001b[K-Wunused-variable\u001b[m\u001b[K]\n",
      "     double \u001b[01;35m\u001b[KlearningRate\u001b[m\u001b[K = 0.1;\n",
      "            \u001b[01;35m\u001b[K^~~~~~~~~~~~\u001b[m\u001b[K\n",
      "\u001b[01m\u001b[K/home/paul/Documents/parpe/parPE/optimization/src/minibatchOptimizationTest.cpp:\u001b[m\u001b[K In member function ‘\u001b[01m\u001b[Kvirtual void TEST_minibatchOptimization_updateParametersRMSProp_Test::testBody()\u001b[m\u001b[K’:\n",
      "\u001b[01m\u001b[K/home/paul/Documents/parpe/parPE/optimization/src/minibatchOptimizationTest.cpp:72:12:\u001b[m\u001b[K \u001b[01;35m\u001b[Kwarning: \u001b[m\u001b[Kunused variable ‘\u001b[01m\u001b[KlearningRate\u001b[m\u001b[K’ [\u001b[01;35m\u001b[K-Wunused-variable\u001b[m\u001b[K]\n",
      "     double \u001b[01;35m\u001b[KlearningRate\u001b[m\u001b[K = 0.1;\n",
      "            \u001b[01;35m\u001b[K^~~~~~~~~~~~\u001b[m\u001b[K\n",
      "[ 66%] Built target unittests_optimization_ceres\n",
      "[ 68%] Built target unittests_optimization_ipopt\n",
      "[ 69%] Built target example_steadystate\n",
      "In file included from \u001b[01m\u001b[K/home/paul/Documents/parpe/parPE/optimization/src/minibatchOptimizationTest.cpp:4:0\u001b[m\u001b[K:\n",
      "/home/paul/Documents/parpe/parPE/optimization/src/minibatchOptimization.h: In instantiation of ‘\u001b[01m\u001b[Kstd::tuple<int, double, std::vector<double, std::allocator<double> > > parpe::MinibatchOptimizer<BATCH_ELEMENT>::optimize(const parpe::SummedGradientFunction<T>&, gsl::span<const T>, gsl::span<const double>, gsl::span<const double>, gsl::span<const double>, parpe::OptimizationReporter*, parpe::Logger*) [with BATCH_ELEMENT = int]\u001b[m\u001b[K’:\n",
      "\u001b[01m\u001b[K/home/paul/Documents/parpe/parPE/optimization/src/minibatchOptimizationTest.cpp:185:135:\u001b[m\u001b[K   required from here\n",
      "\u001b[01m\u001b[K/home/paul/Documents/parpe/parPE/optimization/src/minibatchOptimization.h:335:22:\u001b[m\u001b[K \u001b[01;35m\u001b[Kwarning: \u001b[m\u001b[Kunused variable ‘\u001b[01m\u001b[Kstatus\u001b[m\u001b[K’ [\u001b[01;35m\u001b[K-Wunused-variable\u001b[m\u001b[K]\n",
      "                 auto \u001b[01;35m\u001b[Kstatus\u001b[m\u001b[K = evaluate(f, parameters, dataSpan, cost, gradient, epochLogger.get(), reporter);\n",
      "                      \u001b[01;35m\u001b[K^~~~~~\u001b[m\u001b[K\n"
     ]
    },
    {
     "name": "stdout",
     "output_type": "stream",
     "text": [
      "\u001b[01m\u001b[K/home/paul/Documents/parpe/parPE/optimization/src/minibatchOptimization.h:342:14:\u001b[m\u001b[K \u001b[01;35m\u001b[Kwarning: \u001b[m\u001b[Kunused variable ‘\u001b[01m\u001b[Kstatus\u001b[m\u001b[K’ [\u001b[01;35m\u001b[K-Wunused-variable\u001b[m\u001b[K]\n",
      "         auto \u001b[01;35m\u001b[Kstatus\u001b[m\u001b[K = evaluate(f, parameters, dataSpan, cost, gradient, &logger, reporter);\n",
      "              \u001b[01;35m\u001b[K^~~~~~\u001b[m\u001b[K\n",
      "/home/paul/Documents/parpe/parPE/optimization/src/minibatchOptimization.h: In instantiation of ‘\u001b[01m\u001b[Kparpe::FunctionEvaluationStatus parpe::MinibatchOptimizer<BATCH_ELEMENT>::rescueInterceptor(gsl::span<double>, gsl::span<double>, gsl::span<double>, gsl::span<double>, gsl::span<const double>, gsl::span<const double>, double&, int&, int, const parpe::SummedGradientFunction<T>&, std::vector<T>, parpe::Logger*, parpe::OptimizationReporter*) [with BATCH_ELEMENT = int]\u001b[m\u001b[K’:\n",
      "\u001b[01m\u001b[K/home/paul/Documents/parpe/parPE/optimization/src/minibatchOptimization.h:310:45:\u001b[m\u001b[K   required from ‘\u001b[01m\u001b[Kstd::tuple<int, double, std::vector<double, std::allocator<double> > > parpe::MinibatchOptimizer<BATCH_ELEMENT>::optimize(const parpe::SummedGradientFunction<T>&, gsl::span<const T>, gsl::span<const double>, gsl::span<const double>, gsl::span<const double>, parpe::OptimizationReporter*, parpe::Logger*) [with BATCH_ELEMENT = int]\u001b[m\u001b[K’\n",
      "\u001b[01m\u001b[K/home/paul/Documents/parpe/parPE/optimization/src/minibatchOptimizationTest.cpp:185:135:\u001b[m\u001b[K   required from here\n",
      "\u001b[01m\u001b[K/home/paul/Documents/parpe/parPE/optimization/src/minibatchOptimization.h:477:12:\u001b[m\u001b[K \u001b[01;35m\u001b[Kwarning: \u001b[m\u001b[Kunused variable ‘\u001b[01m\u001b[Kstatus\u001b[m\u001b[K’ [\u001b[01;35m\u001b[K-Wunused-variable\u001b[m\u001b[K]\n",
      "       auto \u001b[01;35m\u001b[Kstatus\u001b[m\u001b[K = evaluate(f, parameters, datasets, cost, gradient, logger, reporter);\n",
      "            \u001b[01;35m\u001b[K^~~~~~\u001b[m\u001b[K\n",
      "[ 70%] \u001b[32m\u001b[1mLinking CXX executable unittests_optimization\u001b[0m\n",
      "CMakeFiles/unittests_optimization.dir/__/src/optimizationOptionsTest.cpp.o: In function `TEST_optimizationOptions_fromHDF5_Test::testBody()':\n",
      "/home/paul/Documents/parpe/parPE/optimization/src/optimizationOptionsTest.cpp:106: warning: the use of `tmpnam' is dangerous, better use `mkstemp'\n",
      "[ 74%] Built target unittests_optimization\n",
      "[ 75%] \u001b[32m\u001b[1mLinking CXX static library libparpeamici-dbg.a\u001b[0m\n",
      "[ 78%] Built target parpeamici\n",
      "\u001b[35m\u001b[1mScanning dependencies of target example_steadystate_multi\u001b[0m\n",
      "\u001b[35m\u001b[1mScanning dependencies of target estimateLucarelli\u001b[0m\n",
      "\u001b[35m\u001b[1mScanning dependencies of target simulateLucarelli\u001b[0m\n",
      "\u001b[35m\u001b[1mScanning dependencies of target example_steadystate_multi_simulator\u001b[0m\n",
      "\u001b[35m\u001b[1mScanning dependencies of target test_steadystate\u001b[0m\n",
      "[ 79%] Built target parpe\n",
      "\u001b[35m\u001b[1mScanning dependencies of target unittests_amici\u001b[0m\n",
      "\u001b[35m\u001b[1mScanning dependencies of target example_steadystate_parallel\u001b[0m\n",
      "[ 80%] \u001b[32mBuilding CXX object amici/examples/lucarelli/CMakeFiles/simulateLucarelli.dir/main_simulate.cpp.o\u001b[0m\n",
      "[ 80%] \u001b[32mBuilding CXX object amici/examples/steadystate/CMakeFiles/example_steadystate_multi_simulator.dir/steadyStateMultiConditionDataprovider.cpp.o\u001b[0m\n",
      "[ 81%] \u001b[32mBuilding CXX object amici/examples/steadystate/CMakeFiles/example_steadystate_multi_simulator.dir/main_simulator.cpp.o\u001b[0m\n",
      "[ 82%] \u001b[32mBuilding CXX object amici/examples/steadystate/CMakeFiles/example_steadystate_parallel.dir/steadystateProblemParallel.cpp.o\u001b[0m\n",
      "[ 83%] \u001b[32mBuilding CXX object amici/examples/steadystate/CMakeFiles/example_steadystate_parallel.dir/main_parallel.cpp.o\u001b[0m\n",
      "[ 84%] \u001b[32mBuilding CXX object amici/examples/steadystate/CMakeFiles/example_steadystate_parallel.dir/steadyStateMultiConditionDataprovider.cpp.o\u001b[0m\n",
      "[ 85%] \u001b[32mBuilding CXX object amici/examples/lucarelli/CMakeFiles/estimateLucarelli.dir/main.cpp.o\u001b[0m\n",
      "[ 86%] \u001b[32mBuilding CXX object amici/examples/steadystate/CMakeFiles/example_steadystate_multi.dir/main_multicondition.cpp.o\u001b[0m\n",
      "[ 86%] \u001b[32mBuilding CXX object amici/examples/steadystate/CMakeFiles/example_steadystate_multi.dir/steadyStateMultiConditionDataprovider.cpp.o\u001b[0m\n",
      "[ 87%] \u001b[32mBuilding CXX object amici/examples/steadystate/CMakeFiles/test_steadystate.dir/exampleSteadystateScaledTest.cpp.o\u001b[0m\n",
      "[ 88%] \u001b[32mBuilding CXX object amici/tests/CMakeFiles/unittests_amici.dir/__/src/hierarchicalOptimizationTest.cpp.o\u001b[0m\n",
      "[ 88%] \u001b[32mBuilding CXX object amici/tests/CMakeFiles/unittests_amici.dir/__/src/multiConditionProblemTest.cpp.o\u001b[0m\n",
      "[ 89%] \u001b[32m\u001b[1mLinking CXX executable simulateLucarelli\u001b[0m\n",
      "[ 90%] \u001b[32m\u001b[1mLinking CXX executable example_steadystate_multi_simulator\u001b[0m\n",
      "[ 90%] \u001b[32m\u001b[1mLinking CXX executable example_steadystate_parallel\u001b[0m\n",
      "[ 91%] \u001b[32m\u001b[1mLinking CXX executable example_steadystate_multi\u001b[0m\n",
      "[ 92%] \u001b[32m\u001b[1mLinking CXX executable estimateLucarelli\u001b[0m\n",
      "[ 92%] Built target example_steadystate_parallel\n",
      "[ 92%] Built target example_steadystate_multi_simulator\n",
      "[ 92%] Built target simulateLucarelli\n",
      "[ 92%] Built target example_steadystate_multi\n",
      "[ 92%] Built target estimateLucarelli\n",
      "[ 93%] \u001b[32m\u001b[1mLinking CXX executable test_steadystate\u001b[0m\n",
      "[ 94%] \u001b[32m\u001b[1mLinking CXX executable unittests_amici\u001b[0m\n",
      "CMakeFiles/test_steadystate.dir/__/__/__/common/src/testingMisc.cpp.o: In function `parpe::captureStreamToString[abi:cxx11](std::function<void ()> const&, _IO_FILE*, int)':\n",
      "/home/paul/Documents/parpe/parPE/common/src/testingMisc.cpp:72: warning: the use of `tmpnam' is dangerous, better use `mkstemp'\n",
      "[ 96%] Built target test_steadystate\n",
      "CMakeFiles/unittests_amici.dir/__/src/simulationResultWriterTest.cpp.o: In function `TEST_simulationResultWriter_testResultWriter_Test::testBody()':\n",
      "/home/paul/Documents/parpe/parPE/amici/src/simulationResultWriterTest.cpp:32: warning: the use of `tmpnam' is dangerous, better use `mkstemp'\n",
      "[100%] Built target unittests_amici\n"
     ]
    }
   ],
   "source": [
    "!pwd\n",
    "!(cd ../../../build && exec make -j12)"
   ]
  },
  {
   "cell_type": "markdown",
   "metadata": {},
   "source": [
    "## Minibatch optimization"
   ]
  },
  {
   "cell_type": "code",
   "execution_count": null,
   "metadata": {
    "scrolled": false
   },
   "outputs": [
    {
     "name": "stdout",
     "output_type": "stream",
     "text": [
      "\u001b[32m[2018-10-12 18:57:05] [INF] [0/paul-ubuntu] Running with 4 MPI processes.\u001b[0m\n",
      "\u001b[36m[2018-10-12 18:57:05] [DBG] [0/paul-ubuntu] Rank 0/4 running on paul-ubuntu.\u001b[0m\n",
      "\u001b[36m[2018-10-12 18:57:05] [DBG] [0/paul-ubuntu] Seeding RNG with 1539363425\u001b[0m\n",
      "\u001b[32m[2018-10-12 18:57:05] [INF] [0/paul-ubuntu] Reading options and data from 'example_data_minibatch.h5'.\u001b[0m\n",
      "\u001b[36m[2018-10-12 18:57:05] [DBG] [1/paul-ubuntu] Rank 1/4 running on paul-ubuntu.\u001b[0m\n",
      "\u001b[36m[2018-10-12 18:57:05] [DBG] [1/paul-ubuntu] Seeding RNG with 1539363425\u001b[0m\n",
      "\u001b[36m[2018-10-12 18:57:05] [DBG] [3/paul-ubuntu] Rank 3/4 running on paul-ubuntu.\u001b[0m\n",
      "\u001b[36m[2018-10-12 18:57:05] [DBG] [2/paul-ubuntu] Rank 2/4 running on paul-ubuntu.\u001b[0m\n",
      "\u001b[36m[2018-10-12 18:57:05] [DBG] [3/paul-ubuntu] Seeding RNG with 1539363425\u001b[0m\n",
      "\u001b[36m[2018-10-12 18:57:05] [DBG] [2/paul-ubuntu] Seeding RNG with 1539363425\u001b[0m\n",
      "\u001b[36m[2018-10-12 18:57:05] [DBG] [0/paul-ubuntu] Starting runParallelMultiStartOptimization with 1 starts\u001b[0m\n",
      "\u001b[32m[2018-10-12 18:57:05] [INF] [0/paul-ubuntu] Reading random initial theta 0 from /optimizationOptions/randomStarts\u001b[0m\n",
      "\u001b[36m[2018-10-12 18:57:05] [DBG] [0/paul-ubuntu] Spawning thread for local optimization #0 (0)\u001b[0m\n",
      "\u001b[36m[2018-10-12 18:57:05] [DBG] [0/paul-ubuntu] Set optimization option batchSize to 1.\u001b[0m\n",
      "\u001b[36m[2018-10-12 18:57:05] [DBG] [0/paul-ubuntu] Set optimization option learningRateInterpMode to linear.\u001b[0m\n",
      "\u001b[36m[2018-10-12 18:57:05] [DBG] [0/paul-ubuntu] Set optimization option maxEpochs to 5.\u001b[0m\n",
      "\u001b[36m[2018-10-12 18:57:05] [DBG] [0/paul-ubuntu] Set optimization option parameterUpdater to Adam.\u001b[0m\n",
      "\u001b[36m[2018-10-12 18:57:05] [DBG] [0/paul-ubuntu] Set optimization option rescueInterceptor to 0.\u001b[0m\n",
      "\u001b[36m[2018-10-12 18:57:05] [DBG] [1/paul-ubuntu] Message received after waiting 0.032717s.\u001b[0m\n",
      "\u001b[36m[2018-10-12 18:57:18] [DBG] [1/paul-ubuntu] [o0e0b0c4] Result for 1: 63.5863 (0) (13.1328s+)\u001b[0m\n",
      "\u001b[36m[2018-10-12 18:57:18] [DBG] [0/paul-ubuntu] [o0e0b0] : Cost: -63.5863 |g|2: 744.682 Batch: [ 4 ] LearningRate: 0.1\n",
      "\u001b[0m\n",
      "\u001b[32m[2018-10-12 18:57:18] [INF] [0/paul-ubuntu] [o0e0b0] iter: 0 cost: -63.5863 time_iter: wall: 13.1533s cpu: 13.1328s time_optim: wall: 13.1533s cpu: 13.1328s\u001b[0m\n",
      "\u001b[36m[2018-10-12 18:57:18] [DBG] [1/paul-ubuntu] Message received after waiting 0.009657s.\u001b[0m\n"
     ]
    }
   ],
   "source": [
    "!mpiexec -np 4 ../../../build/amici/examples/lucarelli/estimateLucarelli -o deleteme-minibatch/ {hdf5FileMinibatch}\n"
   ]
  },
  {
   "cell_type": "markdown",
   "metadata": {},
   "source": [
    "## IpOpt optimization"
   ]
  },
  {
   "cell_type": "code",
   "execution_count": null,
   "metadata": {},
   "outputs": [],
   "source": [
    "# enable derivate checker\n",
    "#!../../../misc/optimizationOptions.py {hdf5File} -s ipopt/derivative_test first-order\n",
    "#!../../../misc/optimizationOptions.py {hdf5File} -s ipopt/derivative_test_print_all yes\n",
    "!../../../misc/optimizationOptions.py {hdf5File} -s numStarts 1\n",
    "!../../../misc/optimizationOptions.py {hdf5File} -s hierarchicalOptimization 0\n",
    "!../../../misc/optimizationOptions.py {hdf5File}"
   ]
  },
  {
   "cell_type": "code",
   "execution_count": null,
   "metadata": {},
   "outputs": [],
   "source": [
    "!PARPE_MAX_SIMULATIONS_PER_PACKAGE=1 mpiexec -np 4 ../../../build/amici/examples/lucarelli/estimateLucarelli -o deleteme/ example_data.h5\n"
   ]
  },
  {
   "cell_type": "code",
   "execution_count": null,
   "metadata": {},
   "outputs": [],
   "source": [
    "filename = 'deleteme/_rank00000.h5'\n",
    "with h5py.File(filename, 'r') as f:\n",
    "    trajectory = f['/multistarts/0/iterCostFunCost'][:]\n",
    "for start in range(trajectory.shape[0]):\n",
    "    plt.plot(trajectory[start])\n",
    "trajectory"
   ]
  },
  {
   "cell_type": "markdown",
   "metadata": {},
   "source": [
    "## Compare results"
   ]
  },
  {
   "cell_type": "code",
   "execution_count": null,
   "metadata": {},
   "outputs": [],
   "source": [
    "def compareResults(filename, expectedNllh):\n",
    "    with h5py.File(filename, 'r') as f:\n",
    "        final_parameters = f['/multistarts/0/finalParameters'][:]\n",
    "        exit_status = f['/multistarts/0/exitStatus'][:]\n",
    "        final_cost = f['/multistarts/0/finalCost'][:]\n",
    "\n",
    "    for i, p in enumerate(pscale):\n",
    "        if p == 2:\n",
    "            final_parameters[i] = np.power(10, final_parameters[i])\n",
    "\n",
    "    print(\"#  __Exp___ __Act___ __Err___ _RelErr___\")\n",
    "    for i in range(len(true_parameters)):\n",
    "        error = final_parameters[i]-true_parameters[i]\n",
    "        rel_error = error / true_parameters[i]\n",
    "        print('%d: %6f %6f %6f %6f' % (i, true_parameters[i], \n",
    "                                       final_parameters[i], \n",
    "                                       error,rel_error))\n",
    "    print('Status: %d' % exit_status)\n",
    "    print('Cost: %f (expected: %f)' % (final_cost, expectedNllh))"
   ]
  },
  {
   "cell_type": "code",
   "execution_count": null,
   "metadata": {},
   "outputs": [],
   "source": [
    "compareResults('deleteme-minibatch/_rank-0001.h5', -expectedLlh)"
   ]
  },
  {
   "cell_type": "code",
   "execution_count": null,
   "metadata": {},
   "outputs": [],
   "source": [
    "!pwd"
   ]
  },
  {
   "cell_type": "code",
   "execution_count": null,
   "metadata": {},
   "outputs": [],
   "source": [
    "!rm sim.h5\n",
    "!../../../build/amici/examples/lucarelli/simulateLucarelli deleteme/_rank-0001.h5 / sim.h5 / --at-optimum"
   ]
  },
  {
   "cell_type": "code",
   "execution_count": null,
   "metadata": {},
   "outputs": [],
   "source": [
    "with h5py.File('sim.h5', 'r') as f:\n",
    "    ysim = f['/multistarts/0/ySim'][:]\n",
    "    ymes = f['/multistarts/0/yMes'][:]\n",
    "print(ysim.shape)\n",
    "print(ymes.shape)"
   ]
  },
  {
   "cell_type": "code",
   "execution_count": null,
   "metadata": {},
   "outputs": [],
   "source": [
    "def plotCorrelation(ymes, ysim):\n",
    "    for iy in range(ysim.shape[2]):\n",
    "        fig, ax = plt.subplots()\n",
    "        for icondition in range(ysim.shape[0]):\n",
    "            x = ymes[icondition, :, iy]\n",
    "            y = ysim[icondition, :, iy]\n",
    "            print(x, y)\n",
    "            ax.scatter(x, y, label='$y_%d$ condition %d' % (iy, icondition))\n",
    "        plt.xlabel('measurement (AU)')\n",
    "        plt.ylabel('simulation (AU)')\n",
    "        plt.gca().set_aspect('equal', adjustable='box')\n",
    "        plt.title('Observable %d' % iy)\n",
    "        plt.legend()\n",
    "        plt.show()\n",
    "        \n",
    "plotCorrelation(ymes, ysim)"
   ]
  },
  {
   "cell_type": "code",
   "execution_count": null,
   "metadata": {},
   "outputs": [],
   "source": [
    "def plotTrajectoryFit(ymes, ysim, timepoints):\n",
    "    for icondition in range(ysim.shape[0]):\n",
    "        fig, ax = plt.subplots()\n",
    "        for iy in range(ysim.shape[2]):\n",
    "            ax.plot(timepoints, ysim[icondition, :, iy], label='$y_%d$ sim' % (iy), alpha=0.7, c='C%d'%iy)\n",
    "            ax.plot(timepoints, ymes[icondition, :, iy], label='$y_%d$ mes' % (iy), linestyle='dotted', c='C%d'%iy)\n",
    "        plt.xlabel('$t$ (s)')\n",
    "        plt.ylabel('$y_i(t)$ (AU)')\n",
    "        plt.title('Condition %d' %icondition)\n",
    "        plt.legend()\n",
    "        plt.show()\n",
    "\n",
    "plotTrajectoryFit(ymes, ysim, timepoints)"
   ]
  }
 ],
 "metadata": {
  "kernelspec": {
   "display_name": "Python 3",
   "language": "python",
   "name": "python3"
  },
  "language_info": {
   "codemirror_mode": {
    "name": "ipython",
    "version": 3
   },
   "file_extension": ".py",
   "mimetype": "text/x-python",
   "name": "python",
   "nbconvert_exporter": "python",
   "pygments_lexer": "ipython3",
   "version": "3.6.5"
  }
 },
 "nbformat": 4,
 "nbformat_minor": 2
}
