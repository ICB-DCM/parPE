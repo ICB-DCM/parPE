{
 "cells": [
  {
   "cell_type": "markdown",
   "metadata": {},
   "source": [
    "# parPE Lucarelli example model"
   ]
  },
  {
   "cell_type": "code",
   "execution_count": 1,
   "metadata": {},
   "outputs": [],
   "source": [
    "import amici\n",
    "import os\n",
    "import sys\n",
    "import numpy as np\n",
    "import pandas as pd\n",
    "import matplotlib.pyplot as plt"
   ]
  },
  {
   "cell_type": "code",
   "execution_count": 2,
   "metadata": {},
   "outputs": [],
   "source": [
    "sbml_file = 'lucarelli_12.xml'\n",
    "model_name = 'lucarelli_12'\n",
    "model_output_dir = 'lucarelli_12'"
   ]
  },
  {
   "cell_type": "code",
   "execution_count": 3,
   "metadata": {},
   "outputs": [
    {
     "name": "stdout",
     "output_type": "stream",
     "text": [
      "Species:  ['TGFb', 'Rec', 'TGFb_pRec', 'S2', 'S3', 'S4', 'S2_S4_S4', 'ppS2_ppS2_ppS2', 'ppS3_ppS3_ppS3', 'S4_S4_S4', 'pS2', 'pS3', 'ppS2', 'ppS3', 'ppS2_ppS2_S4', 'ppS2_ppS2_ppS3', 'ppS2_ppS3_ppS3', 'ppS3_ppS3_S4', 'ppS2_ppS3_S4', 'ppS3_S4_S4', 'ppS2_S4_S4', 'geneA', 'geneB', 'geneC', 'geneD', 'geneE', 'geneF', 'geneG', 'geneH', 'geneI', 'geneJ', 'geneK', 'geneL']\n",
      "Parameters:  ['Rec_act', 'S_dephos', 'S_dephosphos', 'S_phos', 'geneA_act1', 'geneA_act2', 'geneA_act3', 'geneA_inh1', 'geneA_inh2', 'geneA_inh3', 'geneA_turn', 'geneB_act1', 'geneB_act2', 'geneB_act3', 'geneB_inh1', 'geneB_inh2', 'geneB_inh3', 'geneB_turn', 'geneC_act1', 'geneC_act2', 'geneC_act3', 'geneC_inh1', 'geneC_inh2', 'geneC_inh3', 'geneC_turn', 'geneD_act1', 'geneD_act2', 'geneD_act3', 'geneD_inh1', 'geneD_inh2', 'geneD_inh3', 'geneD_turn', 'geneE_act1', 'geneE_act2', 'geneE_act3', 'geneE_inh1', 'geneE_inh2', 'geneE_inh3', 'geneE_turn', 'geneF_act1', 'geneF_act2', 'geneF_act3', 'geneF_inh1', 'geneF_inh2', 'geneF_inh3', 'geneF_turn', 'geneG_act1', 'geneG_act2', 'geneG_act3', 'geneG_inh1', 'geneG_inh2', 'geneG_inh3', 'geneG_turn', 'geneH_act1', 'geneH_act2', 'geneH_act3', 'geneH_inh1', 'geneH_inh2', 'geneH_inh3', 'geneH_turn', 'geneI_act1', 'geneI_act2', 'geneI_act3', 'geneI_inh1', 'geneI_inh2', 'geneI_inh3', 'geneI_turn', 'geneJ_act1', 'geneJ_act2', 'geneJ_act3', 'geneJ_inh1', 'geneJ_inh2', 'geneJ_inh3', 'geneJ_turn', 'geneK_act1', 'geneK_act2', 'geneK_act3', 'geneK_inh1', 'geneK_inh2', 'geneK_inh3', 'geneK_turn', 'geneL_act1', 'geneL_act2', 'geneL_act3', 'geneL_inh1', 'geneL_inh2', 'geneL_inh3', 'geneL_turn', 'init_Rec', 'k_223', 'k_224', 'k_233', 'k_234', 'k_244', 'k_334', 'k_344', 'k_on_u', 'kdiss_SS', 'khomo2', 'khomo3', 'khomo4', 'pRec_degind', 'sd_Bmp4_nExpID100', 'sd_Cxcl15_nExpID100', 'sd_Dnmt3a_nExpID100', 'sd_Dusp5_nExpID100', 'sd_Jun_nExpID100', 'sd_Klf10_nExpID100', 'sd_Pdk4_nExpID100', 'sd_Ski_nExpID100', 'sd_Skil_nExpID100', 'sd_Smad7_nExpID100', 'sd_Sox4_nExpID100', 'sd_Tgfa_nExpID100', 'observable_Ski', 'observable_Skil', 'observable_Dnmt3a', 'observable_Sox4', 'observable_Jun', 'observable_Smad7', 'observable_Klf10', 'observable_Bmp4', 'observable_Cxcl15', 'observable_Dusp5', 'observable_Tgfa', 'observable_Pdk4', 'init_TGFb', 'init_S2', 'init_S3', 'init_S4']\n",
      "\n",
      "Reactions:\n",
      "v1_v_0:  TGFb +  Rec  -> TGFb_pRec\t\t[cell * Rec * Rec_act * TGFb]\n",
      "v2_v_1:  TGFb_pRec  ->          \t\t[cell * TGFb_pRec * pRec_degind]\n",
      "v3_v_2:  S2 + 2 S4  ->  S2_S4_S4\t\t[cell * S2 * S4^2 * k_on_u]\n",
      "v4_v_3:   S2_S4_S4  -> S2 + 2 S4\t\t[cell * S2_S4_S4 * kdiss_SS]\n",
      "v5_v_4:     3 ppS2  -> ppS2_ppS2_ppS2\t\t[cell * khomo2 * ppS2^3]\n",
      "v6_v_5:  ppS2_ppS2_ppS2  -> pS2 + 2 ppS2\t\t[cell * 3 * S_dephosphos * ppS2_ppS2_ppS2]\n",
      "v7_v_6:     3 ppS3  -> ppS3_ppS3_ppS3\t\t[cell * khomo3 * ppS3^3]\n",
      "v8_v_7:  ppS3_ppS3_ppS3  -> pS3 + 2 ppS3\t\t[cell * 3 * S_dephosphos * ppS3_ppS3_ppS3]\n",
      "v9_v_8:       3 S4  ->  S4_S4_S4\t\t[cell * S4^3 * khomo4]\n",
      "v10_v_9:   S4_S4_S4  ->      3 S4\t\t[cell * S4_S4_S4 * kdiss_SS]\n",
      "v11_v_10:         S2  ->      ppS2\t\t[cell * S2 * S_phos * TGFb_pRec]\n",
      "v12_v_11:       ppS2  ->       pS2\t\t[cell * S_dephosphos * ppS2]\n",
      "v13_v_12:        pS2  ->        S2\t\t[cell * S_dephos * pS2]\n",
      "v14_v_13:         S3  ->      ppS3\t\t[cell * S3 * S_phos * TGFb_pRec]\n",
      "v15_v_14:       ppS3  ->       pS3\t\t[cell * S_dephosphos * ppS3]\n",
      "v16_v_15:        pS3  ->        S3\t\t[cell * S_dephos * pS3]\n",
      "v17_v_16: 2 ppS2 +  ppS3  -> ppS2_ppS2_ppS3\t\t[cell * k_223 * ppS2^2 * ppS3]\n",
      "v18_v_17:  ppS2_ppS2_ppS3  -> pS2 +  ppS2 +  ppS3\t\t[cell * 2 * S_dephosphos * ppS2_ppS2_ppS3]\n",
      "v19_v_18:  ppS2_ppS2_ppS3  -> pS3 + 2 ppS2\t\t[cell * S_dephosphos * ppS2_ppS2_ppS3]\n",
      "v20_v_19:  S4 + 2 ppS2  -> ppS2_ppS2_S4\t\t[cell * S4 * k_224 * ppS2^2]\n",
      "v21_v_20:  ppS2_ppS2_S4  -> S4 +  pS2 +  ppS2\t\t[cell * 2 * S_dephosphos * ppS2_ppS2_S4]\n",
      "v22_v_21:  ppS2 + 2 ppS3  -> ppS2_ppS3_ppS3\t\t[cell * k_233 * ppS2 * ppS3^2]\n",
      "v23_v_22:  ppS2_ppS3_ppS3  -> pS2 + 2 ppS3\t\t[cell * S_dephosphos * ppS2_ppS3_ppS3]\n",
      "v24_v_23:  ppS2_ppS3_ppS3  -> pS3 +  ppS2 +  ppS3\t\t[cell * 2 * S_dephosphos * ppS2_ppS3_ppS3]\n",
      "v25_v_24:  S4 + 2 ppS3  -> ppS3_ppS3_S4\t\t[cell * S4 * k_334 * ppS3^2]\n",
      "v26_v_25:  ppS3_ppS3_S4  -> S4 +  pS3 +  ppS3\t\t[cell * 2 * S_dephosphos * ppS3_ppS3_S4]\n",
      "v27_v_26: 2 S4 +  ppS2  -> ppS2_S4_S4\t\t[cell * S4^2 * k_244 * ppS2]\n",
      "v28_v_27:  ppS2_S4_S4  ->2 S4 +  pS2\t\t[cell * S_dephosphos * ppS2_S4_S4]\n",
      "v29_v_28: 2 S4 +  ppS3  -> ppS3_S4_S4\t\t[cell * S4^2 * k_344 * ppS3]\n",
      "v30_v_29:  ppS3_S4_S4  ->2 S4 +  pS3\t\t[cell * S_dephosphos * ppS3_S4_S4]\n",
      "v31_v_30:  S4 +  ppS2 +  ppS3  -> ppS2_ppS3_S4\t\t[cell * S4 * k_234 * ppS2 * ppS3]\n",
      "v32_v_31:  ppS2_ppS3_S4  -> S4 +  pS2 +  ppS3\t\t[cell * S_dephosphos * ppS2_ppS3_S4]\n",
      "v33_v_32:  ppS2_ppS3_S4  -> S4 +  pS3 +  ppS2\t\t[cell * S_dephosphos * ppS2_ppS3_S4]\n",
      "v34_v_33:             ->     geneA\t\t[cell * ((geneA_turn + geneA_act2 * ppS2_S4_S4 + geneA_act1 * ppS2_ppS3_S4 + geneA_act3 * ppS2_ppS3_ppS3) / (geneA_inh2 * ppS2_S4_S4 + geneA_inh1 * ppS2_ppS3_S4 + geneA_inh3 * ppS2_ppS3_ppS3 + 1))]\n",
      "v35_v_34:      geneA  ->          \t\t[cell * geneA * geneA_turn]\n",
      "v36_v_35:             ->     geneB\t\t[cell * ((geneB_turn + geneB_act2 * ppS2_S4_S4 + geneB_act1 * ppS2_ppS3_S4 + geneB_act3 * ppS2_ppS3_ppS3) / (geneB_inh2 * ppS2_S4_S4 + geneB_inh1 * ppS2_ppS3_S4 + geneB_inh3 * ppS2_ppS3_ppS3 + 1))]\n",
      "v37_v_36:      geneB  ->          \t\t[cell * geneB * geneB_turn]\n",
      "v38_v_37:             ->     geneC\t\t[cell * ((geneC_turn + geneC_act2 * ppS2_S4_S4 + geneC_act1 * ppS2_ppS3_S4 + geneC_act3 * ppS2_ppS3_ppS3) / (geneC_inh2 * ppS2_S4_S4 + geneC_inh1 * ppS2_ppS3_S4 + geneC_inh3 * ppS2_ppS3_ppS3 + 1))]\n",
      "v39_v_38:      geneC  ->          \t\t[cell * geneC * geneC_turn]\n",
      "v40_v_39:             ->     geneD\t\t[cell * ((geneD_turn + geneD_act2 * ppS2_S4_S4 + geneD_act1 * ppS2_ppS3_S4 + geneD_act3 * ppS2_ppS3_ppS3) / (geneD_inh2 * ppS2_S4_S4 + geneD_inh1 * ppS2_ppS3_S4 + geneD_inh3 * ppS2_ppS3_ppS3 + 1))]\n",
      "v41_v_40:      geneD  ->          \t\t[cell * geneD * geneD_turn]\n",
      "v42_v_41:             ->     geneE\t\t[cell * ((geneE_turn + geneE_act2 * ppS2_S4_S4 + geneE_act1 * ppS2_ppS3_S4 + geneE_act3 * ppS2_ppS3_ppS3) / (geneE_inh2 * ppS2_S4_S4 + geneE_inh1 * ppS2_ppS3_S4 + geneE_inh3 * ppS2_ppS3_ppS3 + 1))]\n",
      "v43_v_42:      geneE  ->          \t\t[cell * geneE * geneE_turn]\n",
      "v44_v_43:             ->     geneF\t\t[cell * ((geneF_turn + geneF_act2 * ppS2_S4_S4 + geneF_act1 * ppS2_ppS3_S4 + geneF_act3 * ppS2_ppS3_ppS3) / (geneF_inh2 * ppS2_S4_S4 + geneF_inh1 * ppS2_ppS3_S4 + geneF_inh3 * ppS2_ppS3_ppS3 + 1))]\n",
      "v45_v_44:      geneF  ->          \t\t[cell * geneF * geneF_turn]\n",
      "v46_v_45:             ->     geneG\t\t[cell * ((geneG_turn + geneG_act2 * ppS2_S4_S4 + geneG_act1 * ppS2_ppS3_S4 + geneG_act3 * ppS2_ppS3_ppS3) / (geneG_inh2 * ppS2_S4_S4 + geneG_inh1 * ppS2_ppS3_S4 + geneG_inh3 * ppS2_ppS3_ppS3 + 1))]\n",
      "v47_v_46:      geneG  ->          \t\t[cell * geneG * geneG_turn]\n",
      "v48_v_47:             ->     geneH\t\t[cell * ((geneH_turn + geneH_act2 * ppS2_S4_S4 + geneH_act1 * ppS2_ppS3_S4 + geneH_act3 * ppS2_ppS3_ppS3) / (geneH_inh2 * ppS2_S4_S4 + geneH_inh1 * ppS2_ppS3_S4 + geneH_inh3 * ppS2_ppS3_ppS3 + 1))]\n",
      "v49_v_48:      geneH  ->          \t\t[cell * geneH * geneH_turn]\n",
      "v50_v_49:             ->     geneI\t\t[cell * ((geneI_turn + geneI_act2 * ppS2_S4_S4 + geneI_act1 * ppS2_ppS3_S4 + geneI_act3 * ppS2_ppS3_ppS3) / (geneI_inh2 * ppS2_S4_S4 + geneI_inh1 * ppS2_ppS3_S4 + geneI_inh3 * ppS2_ppS3_ppS3 + 1))]\n",
      "v51_v_50:      geneI  ->          \t\t[cell * geneI * geneI_turn]\n",
      "v52_v_51:             ->     geneJ\t\t[cell * ((geneJ_turn + geneJ_act2 * ppS2_S4_S4 + geneJ_act1 * ppS2_ppS3_S4 + geneJ_act3 * ppS2_ppS3_ppS3) / (geneJ_inh2 * ppS2_S4_S4 + geneJ_inh1 * ppS2_ppS3_S4 + geneJ_inh3 * ppS2_ppS3_ppS3 + 1))]\n",
      "v53_v_52:      geneJ  ->          \t\t[cell * geneJ * geneJ_turn]\n",
      "v54_v_53:             ->     geneK\t\t[cell * ((geneK_turn + geneK_act2 * ppS2_S4_S4 + geneK_act1 * ppS2_ppS3_S4 + geneK_act3 * ppS2_ppS3_ppS3) / (geneK_inh2 * ppS2_S4_S4 + geneK_inh1 * ppS2_ppS3_S4 + geneK_inh3 * ppS2_ppS3_ppS3 + 1))]\n",
      "v55_v_54:      geneK  ->          \t\t[cell * geneK * geneK_turn]\n",
      "v56_v_55:             ->     geneL\t\t[cell * ((geneL_turn + geneL_act2 * ppS2_S4_S4 + geneL_act1 * ppS2_ppS3_S4 + geneL_act3 * ppS2_ppS3_ppS3) / (geneL_inh2 * ppS2_S4_S4 + geneL_inh1 * ppS2_ppS3_S4 + geneL_inh3 * ppS2_ppS3_ppS3 + 1))]\n",
      "v57_v_56:      geneL  ->          \t\t[cell * geneL * geneL_turn]\n"
     ]
    }
   ],
   "source": [
    "# Show model info\n",
    "import libsbml\n",
    "SBMLreader = libsbml.SBMLReader()\n",
    "sbml_doc = SBMLreader.readSBML(sbml_file)\n",
    "sbml_model = sbml_doc.getModel()\n",
    "\n",
    "print('Species: ', [s.getId() for s in sbml_model.getListOfSpecies()])\n",
    "\n",
    "print('Parameters: ', [p.getId() for p in sbml_model.getListOfParameters()])\n",
    "\n",
    "print('\\nReactions:')\n",
    "for reaction in sbml_model.getListOfReactions():\n",
    "    reactants = ' + '.join(['%s %s'%(int(r.getStoichiometry()) if r.getStoichiometry() > 1 else '', r.getSpecies()) for r in reaction.getListOfReactants()])\n",
    "    products  = ' + '.join(['%s %s'%(int(r.getStoichiometry()) if r.getStoichiometry() > 1 else '', r.getSpecies()) for r in reaction.getListOfProducts()])\n",
    "    reversible = '<' if reaction.getReversible() else ''\n",
    "    print('%3s: %10s %1s->%10s\\t\\t[%s]' % (reaction.getId(), \n",
    "                        reactants,\n",
    "                        reversible,\n",
    "                        products,\n",
    "                        libsbml.formulaToL3String(reaction.getKineticLaw().getMath())))\n"
   ]
  },
  {
   "cell_type": "markdown",
   "metadata": {},
   "source": [
    "## Generate model code"
   ]
  },
  {
   "cell_type": "code",
   "execution_count": 4,
   "metadata": {
    "scrolled": true
   },
   "outputs": [],
   "source": [
    "# remove time from the list of names\n",
    "observables_list = ['observable_Ski', 'observable_Skil', 'observable_Dnmt3a', 'observable_Sox4', 'observable_Jun', 'observable_Smad7', 'observable_Klf10', 'observable_Bmp4', 'observable_Cxcl15', 'observable_Dusp5', 'observable_Tgfa', 'observable_Pdk4'] #\n",
    "fixed_parameters = ['init_TGFb', 'init_S2', 'init_S3', 'init_S4']\n",
    "\n",
    "def createModule(sbml_model_file, model_name, model_output_dir):\n",
    "    \"\"\"Create Python module from SBML model\"\"\"\n",
    "    sbmlImporter = amici.SbmlImporter(sbml_model_file)\n",
    "    sbml = sbmlImporter.sbml\n",
    "    global observables\n",
    "    observables = amici.assignmentRules2observables(\n",
    "                  sbmlImporter.sbml, # the libsbml model object\n",
    "                  filter=lambda variableId: variableId in observables_list)\n",
    "\n",
    "    sbmlImporter.sbml2amici(model_name,\n",
    "                            output_dir=model_output_dir,\n",
    "                            observables=observables,\n",
    "                            constantParameters=fixed_parameters)\n"
   ]
  },
  {
   "cell_type": "code",
   "execution_count": null,
   "metadata": {},
   "outputs": [],
   "source": [
    "createModule(sbml_file, model_name, model_output_dir)"
   ]
  },
  {
   "cell_type": "markdown",
   "metadata": {},
   "source": [
    "## Test simulation"
   ]
  },
  {
   "cell_type": "code",
   "execution_count": null,
   "metadata": {},
   "outputs": [],
   "source": [
    "def plotStateTrajectories(rdata):\n",
    "    for ix in range(22,33):\n",
    "        plt.plot(rdata['t'], rdata['x'][:, ix], label='$x_%d$' % ix)\n",
    "        plt.xlabel('$t$ (s)')\n",
    "        plt.ylabel('$x_i(t)$ (mmol/ml)')\n",
    "        plt.legend()\n",
    "        plt.title('State trajectories')\n",
    "    plt.show()\n",
    "    \n",
    "def plotObservableTrajectories(rdata):\n",
    "    for iy in range(rdata['y'].shape[1]):\n",
    "        plt.plot(rdata['t'], rdata['y'][:, iy], label='$y_%d$' % iy)\n",
    "        plt.xlabel('$t$ (s)')\n",
    "        plt.ylabel('$y_i(t)$ (AU)')\n",
    "        plt.legend()\n",
    "        plt.title('Observables')\n",
    "    \n",
    "    plt.show()\n"
   ]
  },
  {
   "cell_type": "code",
   "execution_count": null,
   "metadata": {},
   "outputs": [],
   "source": [
    "# load model\n",
    "sys.path.insert(0, model_output_dir)\n",
    "import lucarelli_12 as modelModule\n",
    "\n",
    "model = modelModule.getModel()\n",
    "model.setTimepoints(amici.DoubleVector(np.linspace(0, 250, 25))) \n",
    "solver = model.getSolver()\n",
    "rdata = amici.runAmiciSimulation(model, solver)\n",
    "\n",
    "default_parameters = np.array(model.getParameters())\n",
    "print(default_parameters)\n",
    "print(rdata)\n",
    "\n",
    "plotStateTrajectories(rdata)\n",
    "plotObservableTrajectories(rdata)\n"
   ]
  },
  {
   "cell_type": "markdown",
   "metadata": {},
   "source": [
    "## Create in silico experimental data for parameter estimation\n",
    "\n",
    "- Simulate time-course for four different conditions\n",
    "- Add gaussian noise according to selected sigma parameter\n",
    "- Mimic 2 experimental batches: odd-numbered condition indices and even-numbered conditions have different offset parameter"
   ]
  },
  {
   "cell_type": "code",
   "execution_count": null,
   "metadata": {
    "scrolled": false
   },
   "outputs": [],
   "source": [
    "from pandas import DataFrame\n",
    "\n",
    "def createConditionDataframe(indices, conditions, parameters):\n",
    "    \"\"\"Create dataframe with fixed-parameters for each condition to simulate\"\"\"\n",
    "    conditionDf = pd.DataFrame(index=indices)\n",
    "    conditionDf['ID'] = conditionDf.index\n",
    "    for icondition, condition in enumerate(conditions):\n",
    "        conditionDf['condition-%d' % icondition] = condition\n",
    "    \n",
    "    return conditionDf\n",
    "\n",
    "def getReturnDataForCondition(model, solver, condition, simulationParameters, sigmay):\n",
    "    model.setParameters(amici.DoubleVector(simulationParameters))\n",
    "    \n",
    "    # simulate without measurements\n",
    "    edata = amici.ExpData(model.get())\n",
    "    edata.fixedParameters = amici.DoubleVector(condition)\n",
    "    edata.my = amici.DoubleVector(np.full(shape=model.nt() * model.nytrue, fill_value=np.nan))\n",
    "    rdata = amici.runAmiciSimulation(model, solver, edata)        \n",
    "    # fixedParametersPreequilibration = \n",
    "\n",
    "    # confirm gradient is 0 for real measurements and save expected llh\n",
    "    measurement = rdata['y']\n",
    "    measurement = np.random.normal(loc=rdata['y'], scale=sigmay)\n",
    "    measurement = np.random.normal(\n",
    "        loc=rdata['y'], \n",
    "        scale=sigmay[0][0])\n",
    "    # print(measurement)\n",
    "\n",
    "    edata.my = amici.DoubleVector(measurement.flatten())\n",
    "    edata.sigmay = amici.DoubleVector(sigmay.flatten())\n",
    "    model.requireSensitivitiesForAllParameters()\n",
    "    rdata = amici.runAmiciSimulation(model, solver, edata)\n",
    "    # return generated noisy measurents\n",
    "    rdata['y'] = measurement\n",
    "    return rdata\n",
    "\n",
    "expectedLlh = 0.0\n",
    "sigma_default = 0.1 # parameters are lin\n",
    "timepoints = np.linspace(0, 100, 5)\n",
    "\n",
    "model = modelModule.getModel()\n",
    "true_parameters = np.array(model.getParameters())\n",
    "\n",
    "# setup model & solver\n",
    "model = modelModule.getModel()\n",
    "model.setTimepoints(amici.DoubleVector(timepoints))\n",
    "model.setParameters(amici.DoubleVector(true_parameters))\n",
    "\n",
    "solver = model.getSolver()\n",
    "solver.setMaxSteps(10000)\n",
    "\n",
    "# generate conditon-vectors\n",
    "sigma = 0.5\n",
    "mu = 1.5\n",
    "nConditions = 10\n",
    "init_TGFb = np.linspace(0,1,11)\n",
    "init_conditions = [10.0**(mu + sigma * np.random.randn(4))]\n",
    "init_conditions[0][0] = init_TGFb[np.random.randint(0,11)]\n",
    "for i in range(1,nConditions):\n",
    "    init_conditions.append(np.array(10.0**(mu + sigma * np.random.randn(4))))\n",
    "    init_conditions[i][0] = init_TGFb[np.random.randint(0,11)]\n",
    "    \n",
    "indices = fixed_parameters\n",
    "conditionDf = createConditionDataframe(indices, init_conditions, true_parameters)\n",
    "    \n",
    "df = pd.DataFrame(data={\n",
    "    'observable': [],\n",
    "    'condition': [],\n",
    "    'conditionRef': [],\n",
    "    'time': [],\n",
    "    'measurement': [],\n",
    "})\n",
    "\n",
    "for icondition, condition in enumerate(init_conditions):      \n",
    "    \n",
    "    simulationParameters = true_parameters\n",
    "    sigmay = np.ones(shape=(model.nt(), model.nytrue)) * sigma_default\n",
    "    \n",
    "    # simulate condition\n",
    "    rdata = getReturnDataForCondition(model, solver, condition, simulationParameters, sigmay)\n",
    "\n",
    "    expectedLlh += rdata['llh']\n",
    "    \n",
    "    conditionName = 'condition-%d' % icondition\n",
    "    \n",
    "    # Append data\n",
    "    for iy, observableName in enumerate(observables.keys()):\n",
    "        scalingParameter = [''] \n",
    "        sigma = sigmay[:, iy]\n",
    "        \n",
    "        df = df.append(pd.DataFrame(\n",
    "        {'observable'      : [observableName] * model.nt(),\n",
    "         'condition'       : [conditionName]  * model.nt(),\n",
    "         'conditionRef'    : ['']  * model.nt(),\n",
    "         'scalingParameter': scalingParameter * model.nt(),\n",
    "         'time'            : np.array(model.getTimepoints()),\n",
    "         'measurement'     : rdata['y'][:, iy],\n",
    "         'sigma'           : sigma\n",
    "         }), ignore_index=True)\n",
    "print('Expected llh: ', expectedLlh)"
   ]
  },
  {
   "cell_type": "code",
   "execution_count": null,
   "metadata": {},
   "outputs": [],
   "source": [
    "conditionDf"
   ]
  },
  {
   "cell_type": "code",
   "execution_count": null,
   "metadata": {},
   "outputs": [],
   "source": [
    "df"
   ]
  },
  {
   "cell_type": "code",
   "execution_count": null,
   "metadata": {},
   "outputs": [],
   "source": [
    "# write data frames to file\n",
    "measurement_file = 'example_data.tsv'\n",
    "fixed_parameter_file = 'example_data_fixed.tsv'\n",
    "hdf5File = 'example_data.h5'\n",
    "\n",
    "df.to_csv(measurement_file, sep='\\t', index=False)\n",
    "conditionDf.to_csv(fixed_parameter_file, sep='\\t', index=False)\n",
    "\n",
    "! /bin/bash -c \"if [[ -f example_data.h5 ]]; then cp example_data.h5 example_data.h5.bak; fi\"\n",
    "# convert to HDF5\n",
    "import subprocess\n",
    "out = subprocess.run(['%s/generateHDF5DataFileFromText.py' % os.path.join(os.getcwd(), '..', '..', '..', 'misc'),\n",
    "    hdf5File,\n",
    "    sbml_file,\n",
    "    model_output_dir,\n",
    "    measurement_file,\n",
    "    fixed_parameter_file], stdout=subprocess.PIPE, stderr=subprocess.STDOUT)\n",
    "print(out.stdout.decode(\"utf-8\"))\n",
    "print(out.returncode)\n"
   ]
  },
  {
   "cell_type": "code",
   "execution_count": null,
   "metadata": {},
   "outputs": [],
   "source": [
    "# write true parameters as first starting point, an perturbed additional points\n",
    "# two times the same point to check for reproducibility\n",
    "import h5py\n",
    "with h5py.File(hdf5File, 'r+') as f:\n",
    "    pscale = f['/parameters/pscale'][:]\n",
    "    true_parameters_scaled = true_parameters.copy()\n",
    "    for i, p in enumerate(pscale):\n",
    "        if p == 2:\n",
    "            if true_parameters[i] < 1e-10:\n",
    "                true_parameters_scaled[i] = -10.0\n",
    "            else:\n",
    "                true_parameters_scaled[i] = np.log10(true_parameters[i])\n",
    "    \n",
    "    print(true_parameters_scaled)\n",
    "    \n",
    "    for i in range(10):\n",
    "        parameters = true_parameters_scaled\n",
    "        #parameters = parameters + np.random.normal(0.0, 0.2 + i * 0.1, true_parameters.shape)\n",
    "        #parameters = np.random.uniform(-3, 5, true_parameters.shape)\n",
    "        \n",
    "        #print(parameters)\n",
    "        f['/optimizationOptions/randomStarts'][:,2*i]   = parameters\n",
    "        f['/optimizationOptions/randomStarts'][:,2*i+1] = parameters\n"
   ]
  },
  {
   "cell_type": "code",
   "execution_count": null,
   "metadata": {},
   "outputs": [],
   "source": [
    "# enable derivate checker\n",
    "#!../../../misc/optimizationOptions.py example_data.h5 -s ipopt/derivative_test first-order\n",
    "#!../../../misc/optimizationOptions.py example_data.h5 -s ipopt/derivative_test_print_all yes\n",
    "!../../../misc/optimizationOptions.py example_data.h5 -s numStarts 5\n",
    "!../../../misc/optimizationOptions.py example_data.h5 -s hierarchicalOptimization 0\n",
    "!../../../misc/optimizationOptions.py example_data.h5\n"
   ]
  },
  {
   "cell_type": "markdown",
   "metadata": {},
   "source": [
    "## Gradient check"
   ]
  },
  {
   "cell_type": "markdown",
   "metadata": {},
   "source": [
    "## Optimize"
   ]
  },
  {
   "cell_type": "code",
   "execution_count": null,
   "metadata": {},
   "outputs": [],
   "source": [
    "!pwd\n",
    "!(cd ../../../build && exec make -j12)\n",
    "!../../../build/amici/examples/lucarelli/example_lucarelli_multi -o deleteme/ example_data.h5\n"
   ]
  },
  {
   "cell_type": "code",
   "execution_count": null,
   "metadata": {},
   "outputs": [],
   "source": [
    "for i in range(3):\n",
    "    !PARPE_NO_DEBUG=1 ../../../build/amici/examples/lucarelli/example_lucarelli_multi -t gradient_check -o deletemegc/ example_data.h5\n"
   ]
  },
  {
   "cell_type": "code",
   "execution_count": null,
   "metadata": {},
   "outputs": [],
   "source": [
    "filename = 'deleteme/_rank-0001.h5'\n",
    "with h5py.File(filename, 'r') as f:\n",
    "    trajectory = f['/multistarts/0/iterCostFunCost'][:]\n",
    "for start in range(trajectory.shape[0]):\n",
    "    plt.plot(trajectory[start])\n",
    "trajectory"
   ]
  },
  {
   "cell_type": "markdown",
   "metadata": {},
   "source": [
    "## Compare results"
   ]
  },
  {
   "cell_type": "code",
   "execution_count": null,
   "metadata": {},
   "outputs": [],
   "source": [
    "def compareResults(filename, expectedNllh):\n",
    "    with h5py.File(filename, 'r') as f:\n",
    "        final_parameters = f['/multistarts/0/finalParameters'][:]\n",
    "        exit_status = f['/multistarts/0/exitStatus'][:]\n",
    "        final_cost = f['/multistarts/0/finalCost'][:]\n",
    "\n",
    "    for i, p in enumerate(pscale):\n",
    "        if p == 2:\n",
    "            final_parameters[i] = np.power(10, final_parameters[i])\n",
    "\n",
    "    print(\"#  __Exp___ __Act___ __Err___ _RelErr___\")\n",
    "    for i in range(len(true_parameters)):\n",
    "        error = final_parameters[i]-true_parameters[i]\n",
    "        rel_error = error / true_parameters[i]\n",
    "        print('%d: %6f %6f %6f %6f' % (i, true_parameters[i], \n",
    "                                       final_parameters[i], \n",
    "                                       error,rel_error))\n",
    "    print('Status: %d' % exit_status)\n",
    "    print('Cost: %f (expected: %f)' % (final_cost, expectedNllh))"
   ]
  },
  {
   "cell_type": "code",
   "execution_count": null,
   "metadata": {},
   "outputs": [],
   "source": [
    "compareResults('deleteme/_rank-0001.h5', -expectedLlh)"
   ]
  },
  {
   "cell_type": "code",
   "execution_count": null,
   "metadata": {},
   "outputs": [],
   "source": [
    "!pwd"
   ]
  },
  {
   "cell_type": "code",
   "execution_count": null,
   "metadata": {},
   "outputs": [],
   "source": [
    "!rm sim.h5\n",
    "!../../../build/amici/examples/lucarelli/example_lucarelli_multi_simulator deleteme/_rank-0001.h5 / sim.h5 / --at-optimum"
   ]
  },
  {
   "cell_type": "code",
   "execution_count": null,
   "metadata": {},
   "outputs": [],
   "source": [
    "with h5py.File('sim.h5', 'r') as f:\n",
    "    ysim = f['/multistarts/0/ySim'][:]\n",
    "    ymes = f['/multistarts/0/yMes'][:]\n",
    "print(ysim.shape)\n",
    "print(ymes.shape)"
   ]
  },
  {
   "cell_type": "code",
   "execution_count": null,
   "metadata": {},
   "outputs": [],
   "source": [
    "def plotCorrelation(ymes, ysim):\n",
    "    for iy in range(ysim.shape[2]):\n",
    "        fig, ax = plt.subplots()\n",
    "        for icondition in range(ysim.shape[0]):\n",
    "            x = ymes[icondition, :, iy]\n",
    "            y = ysim[icondition, :, iy]\n",
    "            print(x, y)\n",
    "            ax.scatter(x, y, label='$y_%d$ condition %d' % (iy, icondition))\n",
    "        plt.xlabel('measurement (AU)')\n",
    "        plt.ylabel('simulation (AU)')\n",
    "        plt.gca().set_aspect('equal', adjustable='box')\n",
    "        plt.title('Observable %d' % iy)\n",
    "        plt.legend()\n",
    "        plt.show()\n",
    "        \n",
    "plotCorrelation(ymes, ysim)"
   ]
  },
  {
   "cell_type": "code",
   "execution_count": null,
   "metadata": {},
   "outputs": [],
   "source": [
    "def plotTrajectoryFit(ymes, ysim, timepoints):\n",
    "    for icondition in range(ysim.shape[0]):\n",
    "        fig, ax = plt.subplots()\n",
    "        for iy in range(ysim.shape[2]):\n",
    "            ax.plot(timepoints, ysim[icondition, :, iy], label='$y_%d$ sim' % (iy), alpha=0.7, c='C%d'%iy)\n",
    "            ax.plot(timepoints, ymes[icondition, :, iy], label='$y_%d$ mes' % (iy), linestyle='dotted', c='C%d'%iy)\n",
    "        plt.xlabel('$t$ (s)')\n",
    "        plt.ylabel('$y_i(t)$ (AU)')\n",
    "        plt.title('Condition %d' %icondition)\n",
    "        plt.legend()\n",
    "        plt.show()\n",
    "\n",
    "plotTrajectoryFit(ymes, ysim, timepoints)"
   ]
  }
 ],
 "metadata": {
  "kernelspec": {
   "display_name": "Python 3",
   "language": "python",
   "name": "python3"
  },
  "language_info": {
   "codemirror_mode": {
    "name": "ipython",
    "version": 3
   },
   "file_extension": ".py",
   "mimetype": "text/x-python",
   "name": "python",
   "nbconvert_exporter": "python",
   "pygments_lexer": "ipython3",
   "version": "3.6.5"
  }
 },
 "nbformat": 4,
 "nbformat_minor": 2
}
